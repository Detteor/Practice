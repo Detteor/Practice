{
 "metadata": {
  "language_info": {
   "codemirror_mode": {
    "name": "ipython",
    "version": 3
   },
   "file_extension": ".py",
   "mimetype": "text/x-python",
   "name": "python",
   "nbconvert_exporter": "python",
   "pygments_lexer": "ipython3",
   "version": "3.7.10"
  },
  "orig_nbformat": 2,
  "kernelspec": {
   "name": "python3710jvsc74a57bd0d7fd1df0f64f396dfc6ad6fdc4d025bbd2eff0f114ee747d6b4c0ce1c63e58f5",
   "display_name": "Python 3.7.10 64-bit ('OSGIS': conda)"
  }
 },
 "nbformat": 4,
 "nbformat_minor": 2,
 "cells": [
  {
   "cell_type": "code",
   "execution_count": 1,
   "metadata": {},
   "outputs": [],
   "source": [
    "import geopy\n",
    "import geopandas as gpd\n",
    "import pandas as pd\n",
    "import numpy as np\n",
    "from pathlib import Path"
   ]
  },
  {
   "cell_type": "code",
   "execution_count": null,
   "metadata": {},
   "outputs": [],
   "source": [
    "uPath = Path('/media/WDB/Backup/Projects/Work/TF/Mapping/Python/Processing')\n",
    "csvPath = uPath / 'SalesWebExport.csv'\n",
    "delPath = uPath / 'Dealer Address for Ben.csv'\n",
    "dealer_df = gpd.read_file(delPath)\n",
    "# dealer_df = pd.read_csv(delPath, na_filter= False)\n",
    "print(f\"Created DF from {delPath.name}.\")"
   ]
  },
  {
   "cell_type": "code",
   "execution_count": null,
   "metadata": {},
   "outputs": [],
   "source": [
    "gep_df = gpd.tools.geocode(dealer_df.Faddress, provider='nominatim', user_agent='my-dealers')"
   ]
  },
  {
   "cell_type": "code",
   "execution_count": null,
   "metadata": {},
   "outputs": [],
   "source": [
    "g = uPath / 'dopen.csv'\n",
    "gep_df.to_csv(g)"
   ]
  },
  {
   "cell_type": "code",
   "execution_count": null,
   "metadata": {},
   "outputs": [],
   "source": [
    "from arcgis import GIS, geocoding, features\n",
    "gisE = GIS()"
   ]
  },
  {
   "cell_type": "code",
   "execution_count": null,
   "metadata": {},
   "outputs": [],
   "source": [
    "gisA = GIS()\n",
    "geoc = geocoding.get_geocoders(gisE)[0]"
   ]
  },
  {
   "cell_type": "code",
   "execution_count": null,
   "metadata": {},
   "outputs": [],
   "source": [
    "from arcgis.features import GeoAccessor\n",
    "geo_df = GeoAccessor.from_df(dealer_df, address_column='Faddress', geocoder= geoc, sr=26597)"
   ]
  },
  {
   "cell_type": "code",
   "execution_count": null,
   "metadata": {},
   "outputs": [],
   "source": [
    "dPath = uPath / 'Dealer_df.csv'\n",
    "geo_df.to_csv(dPath)"
   ]
  },
  {
   "cell_type": "code",
   "execution_count": null,
   "metadata": {},
   "outputs": [],
   "source": [
    "fcPath = uPath / 'Dealer.shp'\n",
    "geo_df.spatial.to_featureclass(fcPath, sanitize_columns=False)"
   ]
  }
 ]
}