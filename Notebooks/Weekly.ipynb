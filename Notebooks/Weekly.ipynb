{
 "cells": [
  {
   "cell_type": "markdown",
   "metadata": {},
   "source": [
    "# Weekly Data Pull from First Map and Federal Agencies"
   ]
  },
  {
   "source": [
    "<b>Notes:</b>\n",
    "\n",
    "<ul> \n",
    "    <li>Use the text document located on TFS under Mapping/Python/Python2/ESRI-TASK-SVR; Data_FM2 contains REST points for First Map 2.0 Services and for the federal government services that we consume. Data_Source_List contains First Map 1.0 REST points and the federal government services that we consume.</li>\n",
    "    <li>The REST points can be queried with a variety of tools including python packages like requests and ArcGIS API for Python. Also, by using the GUI in ArcGIS Pro (I recommend Pro due to its ease of use when adding REST Servers).</li>\n",
    "</ul>\n",
    "\n",
    "<b>TO DO:</b>\n",
    "<ul>\n",
    "<li>Create Variables for all the REST Servers.</li>\n",
    "<li>Add to weekly script</li>\n",
    "</ul>"
   ],
   "cell_type": "markdown",
   "metadata": {}
  },
  {
   "cell_type": "markdown",
   "metadata": {},
   "source": [
    "## First Map Data Processing"
   ]
  },
  {
   "cell_type": "markdown",
   "metadata": {},
   "source": [
    "<b> Import Modules </b>"
   ]
  },
  {
   "cell_type": "code",
   "execution_count": null,
   "metadata": {},
   "outputs": [],
   "source": [
    "import pandas as pd\n",
    "import arcpy as arc\n",
    "from arcpy import env\n",
    "from arcgis.gis import GIS\n",
    "from arcgis import features\n",
    "import numpy as np\n",
    "from datetime import datetime as dt\n",
    "from pathlib import Path\n",
    "import requests\n",
    "from urllib.parse import urljoin\n",
    "# import geopandas as gpd"
   ]
  },
  {
   "source": [
    "### Connect to KC Portal to access Enterprise, KC AGOL site, and KC Staging."
   ],
   "cell_type": "markdown",
   "metadata": {}
  },
  {
   "cell_type": "code",
   "execution_count": null,
   "metadata": {},
   "outputs": [],
   "source": [
    "from arcgis.gis.server import Server\n",
    "from dotenv import find_dotenv, load_dotenv\n",
    "\n",
    "load_dotenv(find_dotenv())\n",
    "pURL = os.getenv('PORTAL_SITE')\n",
    "aURL = os.getenv('AGOL_SITE')\n",
    "sURL = os.getenv('STAGE_SITE')\n",
    "sUser = os.getenv('STAGE_USERNAME')\n",
    "sPass = os.getenv('STAGE_PASSWORD')\n",
    "aUser = os.getenv('AGOL_USERNAME')\n",
    "aPass = os.getenv('AGOL_PASSWORD')\n",
    "pUser = os.getenv('ESRI_USERNAME')\n",
    "pPass = os.getenv('ESRI_PASSWORD')\n",
    "\n",
    "#Connect to Enterprise GIS\n",
    "gisE = GIS(url=pURL, username=pUser, password=pPass)\n",
    "\n",
    "#Connect to AGOL\n",
    "gisA = GIS(url=aURL, username=aUser, password=aPass, set_active=False)\n",
    "\n",
    "#Connect to Staging. Does not work for right now. Found a solution: https://community.esri.com/t5/developers-questions/error-connecting-to-arcgis-server-with-arcgis-python-api/m-p/869042?commentID=896496#comment-896496\n",
    "\n",
    "# gisT = GIS(url=sURL, username=sUser, password=sPass, set_active=False, verify_cert=False)\n",
    "# from arcgis.gis.server import Server\n",
    "# sURL = 'https://ESRISTAGE:6443'\n",
    "# gisT = Server(url=f'{sURL}/ed8fb7ce-e99d-4eb2-af78-b7ef11e3c2c4/admin',token_url=f'{sURL}/ed8fb7ce-e99d-4eb2-af78-b7ef11e3c2c4/tokens/generateToken', username=sUser, password=sPass, verify_cert=False, set_active=False)\n",
    "\n",
    "#Must use Server Module for now\n",
    "gisT = Server(url=f'{sURL}/arcgis/admin', username=sUser, password=sPass, verify_cert=False)\n",
    "\n",
    "# gisT = GIS(url=f'{sURL}/arcgis/admin', username=sUser, password=sPass, verify_cert=False)"
   ]
  },
  {
   "source": [
    "### Create Folders in the Users Directory since it should have r/w permissions for the user."
   ],
   "cell_type": "markdown",
   "metadata": {}
  },
  {
   "cell_type": "code",
   "execution_count": null,
   "metadata": {},
   "outputs": [],
   "source": [
    "# arc.env.overwriteOutput = True\n",
    "# arc.env.qualifiedFieldNames = False\n",
    "now = dt.today()\n",
    "mStr = now.strftime('%m%Y')\n",
    "dStr = now.strftime('%m_%d')\n",
    "wStr = now.strftime('%U')\n",
    "uPath = Path.home()\n",
    "locFolders = ['Processing', 'Review']\n",
    "if uPath.exists():\n",
    "    for x in locFolders:\n",
    "        a = Path(uPath / 'GIS' / x)\n",
    "        if a.exists():\n",
    "            print(f'{a} already exists.')\n",
    "        else:\n",
    "            a.mkdir(parents=True)\n",
    "            print(f'{a} has been created.')\n",
    "else:\n",
    "    pass\n",
    "\n",
    "gisPath = uPath / 'GIS'\n",
    "lPath = [f for f in gisPath.glob('*')]\n",
    "netDir = Path(r'\\\\kcdp-1\\KCGIS\\MasterGISFiles\\Ben')\n",
    "netDB = netDir / 'GISPro' / 'SDE Connections'"
   ]
  },
  {
   "source": [
    "### Only use with notebook"
   ],
   "cell_type": "markdown",
   "metadata": {}
  },
  {
   "cell_type": "code",
   "execution_count": null,
   "metadata": {},
   "outputs": [],
   "source": [
    "pd.options.display.max_columns = 40"
   ]
  },
  {
   "source": [
    "### Create File GeoDatabase and Feature Datasets"
   ],
   "cell_type": "markdown",
   "metadata": {}
  },
  {
   "cell_type": "code",
   "execution_count": null,
   "metadata": {},
   "outputs": [],
   "source": [
    "#Create Folders for Permits Data\n",
    "wFolder = [f for f in lPath if f.name == 'Processing'][0]\n",
    "wProcessing = wFolder / 'Weekly' / f'{wStr}'\n",
    "if wProcessing.exists() == True:\n",
    "    print(f'{wProcessing} already exist.')\n",
    "else:\n",
    "    wProcessing.mkdir(parents=True)\n",
    "    print(f'Created {wProcessing}.')\n",
    "\n",
    "wFR = [f for f in lPath if f.name == 'Review'][0]\n",
    "wReview = wFR / 'Weekly' / f'{wStr}'\n",
    "if wReview.exists() == True:\n",
    "    print(f'{wReview} already exist')\n",
    "else:\n",
    "    wReview.mkdir(parents=True)\n",
    "    print(f'Created {wReview}')"
   ]
  },
  {
   "cell_type": "code",
   "execution_count": null,
   "metadata": {},
   "outputs": [],
   "source": [
    "iE = netDB / 'MAPPINGADMIN.sde' / 'PROD.MAPPINGADMIN.ParcelEditing'\n",
    "sr = arc.Describe(f'{iE}').spatialReference\n",
    "outGDB = gisPath / wFolder / f'Data_{mStr}.gdb'\n",
    "locGDB = outGDB / f'Weekly_{dStr}'\n",
    "if arc.Exists(f'{outGDB}'):\n",
    "    print(\"GDB already exists.\")\n",
    "else:\n",
    "    arc.CreateFileGDB_management(f'{wFolder}', f'{outGDB.name}')\n",
    "    print(f'Created File GeoDatabase at {wFolder}')\n",
    "\n",
    "time.sleep(2)\n",
    "\n",
    "if arc.Exists(f'{locGDB}'):\n",
    "    print(f'{locGDB.name} already exists')\n",
    "else:\n",
    "    arc.CreateFeatureDataset_management(f'{locGDB.parent}', f'{locGDB.name}', sr)\n",
    "    print(f'{locGDB.name} Dataset has been created')"
   ]
  },
  {
   "cell_type": "markdown",
   "metadata": {},
   "source": [
    "### Create Variables for Feature Layers from First Map."
   ]
  },
  {
   "cell_type": "code",
   "execution_count": null,
   "metadata": {},
   "outputs": [],
   "source": [
    "# gis = GIS()\n",
    "# sdeConn = Path('G:\\\\MasterGISFiles\\\\Ben\\\\GISPro\\\\Database Connection\\\\PROD-WA.sde')\n",
    "# locGDB = Path('C:\\\\Users\\\\MKinnaman\\\\GIS\\\\Processing')\n",
    "fMapURL = 'https://enterprise.firstmap.delaware.gov/arcgis/rest/services/'\n",
    "req = requests.get(fMapURL)\n",
    "fmFS = set()\n",
    "fmMS = set()\n",
    "fmMSL = []\n",
    "fmFCL = []\n",
    "if req.status_code == 200: #check to make sure the site is active\n",
    "    jFM = urljoin(fMapURL, '?f=json')\n",
    "    fmF = requests.get(jFM).json()['folders']\n",
    "    fmList = [x for x in fmF]\n",
    "    # print(fmList)\n",
    "    fmLink = [urljoin(fMapURL, f'{f}') for f in fmList]\n",
    "    for x in fmLink:\n",
    "        if x.split('/')[-1] == 'Hydrology':\n",
    "            # print(x)\n",
    "            aUrl = urljoin(x, '?f=json')\n",
    "            a = requests.get(aUrl).json()\n",
    "            # print(a)            \n",
    "            for b in a['services']:\n",
    "                if b['type'] == 'FeatureServer':\n",
    "                    fmFS.add(b.get('name'))\n",
    "                else:\n",
    "                    fmMS.add(b.get('name'))\n",
    "            d = fmMS - fmFS\n",
    "            for c in d:\n",
    "                a = urljoin(x, f'{c}/''MapServer/')\n",
    "                flList = features.FeatureLayerCollection(a)\n",
    "                for e in flList.layers:\n",
    "                    fmMSL.append(e)\n",
    "            for e in fmFS:\n",
    "                a = urljoin(x, f'{e}/''FeatureServer/')\n",
    "                flList = features.FeatureLayerCollection(a)\n",
    "                for f in flList.layers:\n",
    "                    fmFCL.append(f)\n",
    "else:\n",
    "    print(f'Could not connect to {fMapURL}')"
   ]
  },
  {
   "source": [
    "Create URLs for Feature Collections on First Map"
   ],
   "cell_type": "markdown",
   "metadata": {}
  },
  {
   "cell_type": "code",
   "execution_count": null,
   "metadata": {},
   "outputs": [],
   "source": [
    "gis = GIS()\n",
    "# sdeConn = Path('G:\\\\MasterGISFiles\\\\Ben\\\\GISPro\\\\Database Connection\\\\PROD-WA.sde')\n",
    "# locGDB = Path('C:\\\\Users\\\\MKinnaman\\\\GIS\\\\Processing')\n",
    "fMapURL = 'https://enterprise.firstmap.delaware.gov/arcgis/rest/services/'\n",
    "req = requests.get(fMapURL)\n",
    "\n",
    "# def build(url, field):\n",
    "#     return f'{urljoin(url, f\"{field}\")}'\n",
    "\n",
    "# urls = [build(fMapURL, f) for f in sList]\n",
    "sNames = []\n",
    "sUrls = []\n",
    "dNames = []\n",
    "if req.status_code == 200:\n",
    "    jFM = urljoin(fMapURL, '?f=json')\n",
    "    fmF = requests.get(jFM).json()['folders']\n",
    "    fmList = [x for x in fmF]\n",
    "    # print(fmList)\n",
    "    fmLink = [urljoin(fMapURL, f'{f}') for f in fmList]\n",
    "    for x in fmLink:\n",
    "        if x.split('/')[-1] == 'Hydrology':\n",
    "            # print(x)\n",
    "            aUrl = urljoin(x, '?f=json')\n",
    "            a = requests.get(aUrl).json()\n",
    "            # print(a)\n",
    "            for b in a['services']:\n",
    "                if b.get('type') != \"MapServer\":\n",
    "                    sNames.append(b.get('name'))\n",
    "                elif b.get('name') == 'Hydrology/DE_DFIRM':\n",
    "                    sNames.append(b.get('name'))\n",
    "\n",
    "        if x.split('/')[-1] == 'Society':\n",
    "            # print(x)\n",
    "            aUrl = urljoin(x, '?f=json')\n",
    "            a = requests.get(aUrl).json()\n",
    "            # print(a)\n",
    "            for b in a['services']:\n",
    "                if b.get('type') != \"MapServer\":\n",
    "                    sNames.append(b.get('name'))\n",
    "                    \n",
    "        if x.split('/')[-1] == 'Boundaries':\n",
    "            # print(x)\n",
    "            aUrl = urljoin(x, '?f=json')\n",
    "            a = requests.get(aUrl).json()\n",
    "            # print(a)\n",
    "            for b in a['services']:\n",
    "                if b.get('type') != \"MapServer\":\n",
    "                    sNames.append(b.get('name'))\n",
    "\n",
    "        if x.split('/')[-1] == 'Geology':\n",
    "            # print(x)\n",
    "            aUrl = urljoin(x, '?f=json')\n",
    "            a = requests.get(aUrl).json()\n",
    "            # print(a)\n",
    "            for b in a['services']:\n",
    "                if b.get('type') != \"MapServer\":\n",
    "                    sNames.append(b.get('name'))        \n",
    "\n",
    "    for x in sNames:\n",
    "        d = f'{x}/FeatureServer'\n",
    "        sUrls.append(urljoin(fMapURL, d))\n",
    "\n",
    "else:\n",
    "    print(f'Could not connect to {fMapURL}')"
   ]
  },
  {
   "cell_type": "code",
   "execution_count": null,
   "metadata": {},
   "outputs": [],
   "source": [
    "bflc = features.FeatureLayerCollection(sUrls[0]).layers\n",
    "exp = \"NAME = 'Kent'\"\n",
    "kcboun = bflc[4].query(where=exp, out_sr=26957, as_df=True) #KC boundary to try to clip the first map services"
   ]
  },
  {
   "cell_type": "code",
   "execution_count": 15,
   "metadata": {},
   "outputs": [],
   "source": [
    "ae = kcboun.spatial.full_extent"
   ]
  },
  {
   "cell_type": "code",
   "execution_count": null,
   "metadata": {},
   "outputs": [],
   "source": [
    "#Create geopandas DF to clip the services if the other one fails\n",
    "import geopandas as gpd\n",
    "kcboun_gf = gpd.GeoDataFrame(kcboun, geometry='SHAPE', crs=26957)\n",
    "cl_gf = "
   ]
  },
  {
   "cell_type": "code",
   "execution_count": 13,
   "metadata": {},
   "outputs": [],
   "source": [
    "ac = features.FeatureLayerCollection(sUrls[4]).layers\n",
    "# sen = locGDB / f'Del_Senate_{dStr}'\n",
    "sen = ac[0].query(out_sr=26957, as_df=True)\n",
    "# ac[0].query(out_sr=26957).save(f'{sen.parent}', f'{sen.name}')"
   ]
  },
  {
   "cell_type": "code",
   "execution_count": null,
   "metadata": {},
   "outputs": [],
   "source": [
    "lol = kcboun.spatial.overlay(sen, op='intersection')\n",
    "lol"
   ]
  },
  {
   "cell_type": "code",
   "execution_count": null,
   "metadata": {},
   "outputs": [],
   "source": [
    "ag.spatial.to_featureclass(f'{locGDB / \"SenDist\"}')"
   ]
  },
  {
   "cell_type": "code",
   "execution_count": null,
   "metadata": {},
   "outputs": [],
   "source": [
    "from arcgis.features import GeoSeriesAccessor\n",
    "ad = GeoSeriesAccessor(kcboun.SHAPE)\n",
    "ext = ad.extent\n",
    "ext\n",
    "# gf = GeoSeriesAccessor(ed_df.SHAPE)\n",
    "# ar = gf.clip(ext)\n",
    "# ar"
   ]
  },
  {
   "cell_type": "code",
   "execution_count": null,
   "metadata": {},
   "outputs": [],
   "source": [
    "flc = features.FeatureLayerCollection(sUrls[4]).layers"
   ]
  },
  {
   "cell_type": "code",
   "execution_count": null,
   "metadata": {},
   "outputs": [],
   "source": [
    "flc.layers[0].properties.name"
   ]
  },
  {
   "cell_type": "code",
   "execution_count": null,
   "metadata": {},
   "outputs": [],
   "source": [
    "# fl[0]\n",
    "start = 0\n",
    "ed_df = pd.DataFrame()\n",
    "# stop = len(fl)\n",
    "for i in flc:\n",
    "    if i.properties.name == 'Election Districts_2012':\n",
    "        df = i.query(as_df=True, out_sr=26957)\n",
    "        ed_df = df.copy(deep=True)\n",
    "\n",
    "ed_df\n",
    "    # start = 0\n",
    "    # stop = len(fl)\n",
    "    # print(f'{f[i].properties.name}')\n",
    "# fl.properties.name"
   ]
  },
  {
   "cell_type": "code",
   "execution_count": null,
   "metadata": {},
   "outputs": [],
   "source": [
    "# flC = fmFCL[0]\n",
    "# fl = flC.query(out_sr=26957)\n",
    "# fl.save(f'{locGDB}', 'Test')\n",
    "# print('Saved')"
   ]
  },
  {
   "cell_type": "code",
   "execution_count": null,
   "metadata": {},
   "outputs": [],
   "source": [
    "fl.GNIS_ID.fillna('', inplace=True)\n",
    "fl.GNIS_ID.isna().sum()"
   ]
  },
  {
   "cell_type": "code",
   "execution_count": null,
   "metadata": {},
   "outputs": [],
   "source": [
    "fl.GNIS_NAME.fillna('', inplace=True)"
   ]
  },
  {
   "cell_type": "code",
   "execution_count": null,
   "metadata": {},
   "outputs": [],
   "source": [
    "fl.FCODENAME.fillna('', inplace=True)\n",
    "fl.FTYPENAME.fillna('', inplace=True)"
   ]
  },
  {
   "cell_type": "code",
   "execution_count": null,
   "metadata": {},
   "outputs": [],
   "source": [
    "fName = f'{locGDB / f\"FMBLines_{dStr}\"}'\n",
    "fl.spatial.to_featureclass(fName,sanitize_columns=False)"
   ]
  },
  {
   "cell_type": "code",
   "execution_count": null,
   "metadata": {},
   "outputs": [],
   "source": [
    "fl.spatial.to_featureclass(f'{locGDB / f\"FMRiver_{dStr}\"}',sanitize_columns=False)"
   ]
  },
  {
   "cell_type": "markdown",
   "metadata": {},
   "source": [
    "<b> Create Variables for Feature Layers from Federal Agencies. </b>"
   ]
  },
  {
   "cell_type": "code",
   "execution_count": null,
   "metadata": {},
   "outputs": [],
   "source": [
    "# Write before and after counts to a text file for review later."
   ]
  },
  {
   "cell_type": "markdown",
   "metadata": {
    "heading_collapsed": true
   },
   "source": [
    "## Federal Agencies Data Processing"
   ]
  },
  {
   "source": [
    "https://hazards.fema.gov/gis/nfhl/rest/services/FIRMette/NFHLREST_FIRMette/MapServer/2/query\n",
    "CID IN ('100001', '100006', '100009', '100010', '100014', '100042', '100002', '240045', '100015', '100017', '100020')\n",
    "\n",
    "\n",
    "https://hazards.fema.gov/gis/nfhl/rest/services/MPP/MPP_GIS/FeatureServer/25/query to get CID within Kent County use 'COUNTY_FIPS = \"10001\"'"
   ],
   "cell_type": "markdown",
   "metadata": {}
  }
 ],
 "metadata": {
  "kernelspec": {
   "name": "python3710jvsc74a57bd075dad33b15f83a112a28040a32ba03061e24a62911504b8f236300170e604621",
   "display_name": "Python 3.7.10 64-bit ('arcNew': conda)"
  },
  "language_info": {
   "file_extension": ".py",
   "name": "python",
   "version": "3.7.10"
  },
  "toc": {
   "base_numbering": 1,
   "nav_menu": {},
   "number_sections": true,
   "sideBar": true,
   "skip_h1_title": false,
   "title_cell": "Table of Contents",
   "title_sidebar": "Contents",
   "toc_cell": false,
   "toc_position": {},
   "toc_section_display": true,
   "toc_window_display": false
  }
 },
 "nbformat": 4,
 "nbformat_minor": 2
}