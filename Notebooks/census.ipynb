{
 "metadata": {
  "language_info": {
   "codemirror_mode": {
    "name": "ipython",
    "version": 3
   },
   "file_extension": ".py",
   "mimetype": "text/x-python",
   "name": "python",
   "nbconvert_exporter": "python",
   "pygments_lexer": "ipython3",
   "version": "3.7.10"
  },
  "orig_nbformat": 2,
  "kernelspec": {
   "name": "python3710jvsc74a57bd0a57cb7bca1abc867eae947b70fa3fa69ed703cffae8160be3ea1cc3a1cfe3e7e",
   "display_name": "Python 3.7.10 64-bit ('OSGIS': conda)"
  },
  "metadata": {
   "interpreter": {
    "hash": "a57cb7bca1abc867eae947b70fa3fa69ed703cffae8160be3ea1cc3a1cfe3e7e"
   }
  }
 },
 "nbformat": 4,
 "nbformat_minor": 2,
 "cells": [
  {
   "source": [
    "# For Extracting Census Data from the Census API and the Census REST Server."
   ],
   "cell_type": "markdown",
   "metadata": {}
  },
  {
   "source": [
    "## Notebook to assist in the process of redistricting for Kent County. Right now the data is going to be based on the Census ACS Survery. It is still unclear if the Offical Census Data will be avaiable before the process needs to be completed."
   ],
   "cell_type": "markdown",
   "metadata": {}
  },
  {
   "cell_type": "code",
   "execution_count": null,
   "metadata": {},
   "outputs": [],
   "source": [
    "from dotenv import find_dotenv, load_dotenv\n",
    "import os\n",
    "from arcgis import GIS\n",
    "\n",
    "load_dotenv(find_dotenv())\n",
    "\n",
    "gis_user = os.getenv('ESRI_USERNAME')\n",
    "gis_pass = os.getenv('ESRI_PASSWORD')\n",
    "gis_url = os.getenv('PORTAL_URL')\n",
    "agol_user = os.getenv('AGOL_USERNAME')\n",
    "agol_pass = os.getenv('AGOL_PASSWORD')\n",
    "agol_url = os.getenv('AGOL_SITE')\n",
    "\n",
    "gisE = GIS(url=gis_url, username=gis_user, password=gis_pass)\n",
    "\n",
    "gisA = GIS(url=agol_url, username=agol_user, password=agol_pass)\n",
    "\n",
    "gis = GIS()"
   ]
  },
  {
   "source": [
    "### Get Census Data for Kent County from ACS 5 Year Survey. Data is going to be at the block group level instead of the block level. "
   ],
   "cell_type": "markdown",
   "metadata": {}
  },
  {
   "cell_type": "code",
   "execution_count": null,
   "metadata": {},
   "outputs": [],
   "source": [
    "import pandas as pd\n",
    "import numpy as np\n",
    "import requests\n",
    "\n",
    "census_key = os.getenv('CENSUS_KEY')\n",
    "\n",
    "cvar = {\n",
    "    'GEO_ID':'GEOID',\n",
    "    'B01001_001E':'est_total',\n",
    "    'B01001_001EA':'est_total_anno',\n",
    "    'B01001_001M':'moe',\n",
    "    'B01001_001MA':'moe_anno',\n",
    "    'NAME':'name'\n",
    "}\n",
    "\n",
    "# Request parameters\n",
    "payload = {\n",
    "    'get' : ','.join(list(cvar.keys())),\n",
    "    'for' : 'block group:*',\n",
    "    'in' : ['state:10', 'county:001'],\n",
    "    'key' : census_key\n",
    "}\n",
    "\n",
    "census_url = f'https://api.census.gov/data/2019/acs/acs5'\n",
    "\n",
    "res = requests.get(census_url, params=payload)\n",
    "\n",
    "if res.status_code == 200:\n",
    "    # print(response.url)\n",
    "    data = res.json()\n",
    "    # print(data[0])\n",
    "\n",
    "    \n",
    "    c_df = pd.DataFrame(data[1:], columns=data[0])\n",
    "    c_df.rename(columns=cvar, inplace=True)"
   ]
  },
  {
   "cell_type": "code",
   "execution_count": null,
   "metadata": {},
   "outputs": [],
   "source": [
    "c_df.loc[:, 'GEOID'] = c_df.GEOID.str[9:]\n",
    "\n",
    "c_df.drop(columns=['state', 'county', 'tract', 'block group'], inplace=True)\n",
    "\n",
    "c_df.sort_values(by='GEOID', inplace=True, ignore_index=True)\n",
    "\n",
    "census_dtypes = {\n",
    "    'GEOID':'string',\n",
    "    'name':'string',\n",
    "    'est_total':'int32',\n",
    "    'est_total_anno':'string',\n",
    "    'moe':'int32',\n",
    "    'moe_anno':'string'\n",
    "}\n",
    "\n",
    "c_df = c_df[list(census_dtypes.keys())].astype(census_dtypes)\n"
   ]
  },
  {
   "cell_type": "code",
   "execution_count": null,
   "metadata": {},
   "outputs": [],
   "source": [
    "c_df.fillna('', inplace=True)\n",
    "c_df.isna().sum()"
   ]
  },
  {
   "source": [
    "### Get Census Block Group Geographic Data from Census REST Server. For this example, I am using ArcGIS API for Python, but you can use Open Source libraries like Geopandas."
   ],
   "cell_type": "markdown",
   "metadata": {}
  },
  {
   "cell_type": "code",
   "execution_count": null,
   "metadata": {},
   "outputs": [],
   "source": [
    "from arcgis.features import FeatureLayer\n",
    "\n",
    "fl = 'https://tigerweb.geo.census.gov/arcgis/rest/services/TIGERweb/Tracts_Blocks/MapServer/2'\n",
    "\n",
    "expr = 'STATE = 10 AND COUNTY = 01'\n",
    "cbg_df = FeatureLayer(fl).query(out_sr= 4326, where=expr, out_fields='GEOID',as_df=True)\n",
    "\n",
    "cbg_df.sort_values(by='GEOID', inplace=True, ignore_index=True)\n",
    "# cbg_df\n"
   ]
  },
  {
   "source": [
    "<b> Method using GeoPandas instead of ArcGIS Python API. </b>"
   ],
   "cell_type": "markdown",
   "metadata": {}
  },
  {
   "cell_type": "code",
   "execution_count": null,
   "metadata": {},
   "outputs": [],
   "source": [
    "import geopandas as gpd\n",
    "\n",
    "blocks_url = 'https://tigerweb.geo.census.gov/arcgis/rest/services/TIGERweb/Tracts_Blocks/MapServer/2/query?'\n",
    "\n",
    "blocks_params = {\n",
    "    'where' : 'STATE = 10 and COUNTY = 001',\n",
    "    'outFields' : '*',\n",
    "    'f' : 'GeoJSON'\n",
    "}\n",
    "\n",
    "blocks = requests.get(blocks_url, blocks_params)\n",
    "\n",
    "cbg_gdf = gpd.read_file(blocks.text)\n",
    "\n",
    "\n",
    "\n",
    "cbg_gdf.sort_values(by='GEOID', inplace=True, ignore_index=True)\n",
    "cbg_gdf"
   ]
  },
  {
   "source": [
    "Export to ESRIDB."
   ],
   "cell_type": "markdown",
   "metadata": {}
  },
  {
   "cell_type": "code",
   "execution_count": null,
   "metadata": {},
   "outputs": [],
   "source": [
    "print(cbg_df.columns)\n",
    "print(cbg_gdf.columns)"
   ]
  },
  {
   "cell_type": "code",
   "execution_count": null,
   "metadata": {},
   "outputs": [],
   "source": [
    "# kc_gdf = cbg_gdf[['geometry']].join(c_df)\n",
    "kc_df = cbg_df[['SHAPE']].join(c_df)"
   ]
  },
  {
   "cell_type": "code",
   "execution_count": null,
   "metadata": {},
   "outputs": [],
   "source": [
    "from pathlib import Path\n",
    "# import arcpy\n",
    "\n",
    "netDir = Path(r'C:\\Users\\MKinnaman\\AppData\\Roaming\\ESRI\\Desktop10.5\\ArcCatalog')\n",
    "netDB = netDir / 'GISPro' / 'SDE Connections'\n",
    "esriDB = netDir / 'GISAdmin.sde' / 'PROD.GISADMIN.Census_ACS_2019'\n",
    "outFC = esriDB / 'TotalPop_2019'\n",
    "# print(outFC)\n",
    "# kc_df.spatial.to_featureclass(location=f'{outFC}', sanitize_columns=False)"
   ]
  },
  {
   "source": [
    "### Merge or join the Census API Data to Census Spatial Data "
   ],
   "cell_type": "markdown",
   "metadata": {}
  },
  {
   "cell_type": "code",
   "execution_count": null,
   "metadata": {},
   "outputs": [],
   "source": [
    "import matplotlib.pyplot as plt\n",
    "from mpl_toolkits.axes_grid1 import make_axes_locatable\n",
    "import matplotlib as mpl\n",
    "\n",
    "cbg_gdf.plot()"
   ]
  },
  {
   "cell_type": "code",
   "execution_count": null,
   "metadata": {},
   "outputs": [],
   "source": [
    "# Define figure\n",
    "fig, ax = plt.subplots(1,1)\n",
    "\n",
    "# Plot dataframe to figure\n",
    "div = make_axes_locatable(ax)\n",
    "cax = div.append_axes(\"bottom\", size='5%', pad=0.1)\n",
    "kc_gdf.plot(column='est_total', legend=True, ax=ax, legend_kwds={'orientation':'horizontal'}, cax=cax, edgecolor='black', linewidth=0.4, cmap='BrBG')\n",
    "\n",
    "# Adjust figure details\n",
    "ax.set_title('Estimated Population Change from 2010-2014 to 2015-2019')\n",
    "ax.axes.xaxis.set_visible(False); ax.axes.yaxis.set_visible(False)\n",
    "ax.set_frame_on(False)\n",
    "fig.set_figwidth(10); fig.set_figheight(10)\n",
    "\n",
    "plt.show()"
   ]
  },
  {
   "source": [
    "## Get Geographic Data from Census REST Server"
   ],
   "cell_type": "markdown",
   "metadata": {}
  },
  {
   "source": [
    "Get Kent County Census Data using Arcgis Python API"
   ],
   "cell_type": "markdown",
   "metadata": {}
  },
  {
   "cell_type": "code",
   "execution_count": null,
   "metadata": {},
   "outputs": [],
   "source": [
    "netDir = Path(r'C:\\Users\\MKinnaman\\AppData\\Roaming\\ESRI\\Desktop10.5\\ArcCatalog')\n",
    "esriDB = netDir / 'GISAdmin.sde'"
   ]
  },
  {
   "cell_type": "code",
   "execution_count": null,
   "metadata": {},
   "outputs": [],
   "source": [
    "import arcpy \n",
    "\n",
    "iE = esriDB / 'PROD.GISADMIN.Census2010'\n",
    "sr = arcpy.Describe(f'{iE}').spatialReference\n",
    "outGDB = esriDB / 'PROD.GISADMIN.Census2020'\n",
    "# dsA = Path(gisPath / nGDB / f'{outGDB}.gdb')\n",
    "# locGDB = Path(dsA / f'Daily_{dStr}')\n",
    "# if arc.Exists(outGDB):\n",
    "#     print(\"GDB already exists.\")\n",
    "# else:\n",
    "#     arc.CreateFileGDB_management(nGDB, outGDB)\n",
    "#     print(f'Created File GeoDatabase at {dsA}')\n",
    "\n",
    "# time.sleep(5)\n",
    "if arcpy.Exists(f'{outGDB}'):\n",
    "    print(f'{outGDB.name} already exists')\n",
    "else:\n",
    "    arcpy.CreateFeatureDataset_management(f'{outGDB.parent}', f'{outGDB.name}', sr)\n",
    "    print(f'{outGDB.name} Dataset has been created')"
   ]
  },
  {
   "cell_type": "code",
   "execution_count": null,
   "metadata": {},
   "outputs": [],
   "source": [
    "from arcgis.features import FeatureLayerCollection\n",
    "from pathlib import Path\n",
    "\n",
    "home = Path.home()\n",
    "gis = home / 'GIS' / 'Processing'\n",
    "gis.mkdir(parents=True, exist_ok=True)\n",
    "\n",
    "expr = 'STATE = 10 AND COUNTY = 01'\n",
    "flc = FeatureLayerCollection('https://tigerweb.geo.census.gov/arcgis/rest/services/TIGERweb/Tracts_Blocks/MapServer')\n",
    "a = flc.layers\n",
    "# a[0].properties.description\n",
    "for x in a:\n",
    "    b = x.properties.description.split(',')[-1]\n",
    "    if '2020' in b:\n",
    "        d = x.query(where=expr, out_sr=4326)\n",
    "        \n",
    "\n",
    "# a = flc[10].properties\n",
    "# .description.split(',')[-1]\n",
    "\n",
    "# blocks_url = 'https://tigerweb.geo.census.gov/arcgis/rest/services/TIGERweb/Tracts_Blocks/MapServer/2/query?'\n",
    "\n",
    "# blocks_params = {\n",
    "#     'where' : 'STATE = 10 and COUNTY = 001',\n",
    "#     'outFields' : '*',\n",
    "#     'f' : 'GeoJSON'\n",
    "# }\n",
    "\n",
    "# blocks = requests.get(blocks_url, blocks_params)\n",
    "\n",
    "# gj = blocks.json()\n",
    "\n",
    "# arcpy.JSONToFeatures_conversion(gj, f'{gis / \"census2\"}', 'POLYGON')\n",
    "\n",
    "\n",
    "# expr = 'STATE = 10 AND COUNTY = 01'\n",
    "# d = flc[0].query(where=expr, out_sr=4326, as_df=True)\n",
    "# d.spatial.to_featureclass(location=f'{netDir / \"Census\"}', sanitized_columns=False)\n",
    "# if '2020' in flc[0].properties.description.split(',')[-1]:\n",
    "#     d = flc[0].query(where=expr, out_sr=4326)\n",
    "#     d.save(f'{outGDB}', f'{flc[0].properties.name}')\n",
    "#     print(f'Finishing Copying {flc[0].properties.name}')\n",
    "# for f in flc:\n",
    "#     c = f.properties.description.split(',')[-1]\n",
    "#     if '2020' in c:\n",
    "#         d = f.query(where=expr, out_sr=4326, as_df=True)\n",
    "#         # d.save(f'{outGDB}', )\n",
    "#         d.spatial.to_featureclass(location=f'{outGDB / outGDB.name}', sanitize_columns=False)\n",
    "#         # d.save(f'{outGDB}', f'{f.properties.name}')\n",
    "#         # arcpy.FeatureClassToFeatureClass_conversion(d, f'{outGDB}', f'{f.properties.name}')\n",
    "#         print(f'Copied {f}')\n",
    "\n",
    "# print(flc[2].properties.name)\n",
    "\n",
    "\n",
    "# cbg_df = FeatureLayer(fl).query(out_sr= 4326, where=expr, out_fields='GEOID',as_df=True)\n",
    "\n",
    "# cbg_df.sort_values(by='GEOID', inplace=True, ignore_index=True)"
   ]
  },
  {
   "source": [
    "Export Kent County Census Blocks using Geopandas"
   ],
   "cell_type": "markdown",
   "metadata": {}
  },
  {
   "cell_type": "code",
   "execution_count": null,
   "metadata": {},
   "outputs": [],
   "source": [
    "import geopandas as gpd\n",
    "\n",
    "blocks_url = 'https://tigerweb.geo.census.gov/arcgis/rest/services/TIGERweb/Tracts_Blocks/MapServer/2/query?'\n",
    "\n",
    "blocks_params = {\n",
    "    'where' : 'STATE = 10 and COUNTY = 001',\n",
    "    'outFields' : '*',\n",
    "    'f' : 'GeoJSON'\n",
    "}\n",
    "\n",
    "blocks = requests.get(blocks_url, blocks_params)\n",
    "\n",
    "\n",
    "cbg_gdf = gpd.read_file(blocks.text)\n",
    "\n",
    "\n",
    "\n",
    "cbg_gdf.sort_values(by='GEOID', inplace=True, ignore_index=True)\n",
    "\n",
    "home = Path.home()\n",
    "gis = home / 'GIS' / 'Processing'\n",
    "cbg_gdf.to_file(f'{gis / \"census.shp\"}')"
   ]
  },
  {
   "cell_type": "code",
   "execution_count": null,
   "metadata": {},
   "outputs": [],
   "source": []
  }
 ]
}