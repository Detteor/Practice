{
 "metadata": {
  "language_info": {
   "codemirror_mode": {
    "name": "ipython",
    "version": 3
   },
   "file_extension": ".py",
   "mimetype": "text/x-python",
   "name": "python",
   "nbconvert_exporter": "python",
   "pygments_lexer": "ipython3",
   "version": "3.7.8"
  },
  "orig_nbformat": 2,
  "kernelspec": {
   "name": "python378jvsc74a57bd084fafe069eaf9ffb756803a6ae339198d3ed193a0e02071ac4adfb847f34d32a",
   "display_name": "Python 3.7.8 64-bit ('geo': conda)"
  }
 },
 "nbformat": 4,
 "nbformat_minor": 2,
 "cells": [
  {
   "cell_type": "code",
   "execution_count": 9,
   "metadata": {},
   "outputs": [],
   "source": [
    "import geopandas as gpd\n",
    "import pandas as pd\n",
    "import numpy as np\n",
    "from dotenv import find_dotenv, load_dotenv\n",
    "import os\n",
    "from arcgis import GIS"
   ]
  },
  {
   "cell_type": "code",
   "execution_count": 10,
   "metadata": {},
   "outputs": [
    {
     "output_type": "execute_result",
     "data": {
      "text/plain": [
       "GIS @ https://co.kent.de.us/portal/home version:5.1"
      ],
      "text/html": "GIS @ <a href=\"https://co.kent.de.us/portal/home\">https://co.kent.de.us/portal/home</a>"
     },
     "metadata": {},
     "execution_count": 10
    }
   ],
   "source": [
    "load_dotenv(find_dotenv())\n",
    "\n",
    "gis_user = os.getenv('ESRI_USERNAME')\n",
    "gis_pass = os.getenv('ESRI_PASSWORD')\n",
    "gis_url = os.getenv('ESRI_URL')\n",
    "\n",
    "gisE = GIS(url=gis_url, username=gis_user, password=gis_pass)\n",
    "gisE"
   ]
  }
 ]
}