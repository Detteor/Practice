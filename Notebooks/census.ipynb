{
 "metadata": {
  "language_info": {
   "codemirror_mode": {
    "name": "ipython",
    "version": 3
   },
   "file_extension": ".py",
   "mimetype": "text/x-python",
   "name": "python",
   "nbconvert_exporter": "python",
   "pygments_lexer": "ipython3",
   "version": "3.8.8"
  },
  "orig_nbformat": 2,
  "kernelspec": {
   "name": "python388jvsc74a57bd04dd9a7ed4d816c51a1cf48037f98f60d7840aa89cff9c36c787a72676cd736c9",
   "display_name": "Python 3.8.8 64-bit",
   "language": "python"
  }
 },
 "nbformat": 4,
 "nbformat_minor": 2,
 "cells": [
  {
   "source": [
    "# For Extracting Census Data from the Census API and the Census REST Server."
   ],
   "cell_type": "markdown",
   "metadata": {}
  },
  {
   "source": [
    "## Notebook to assist in the process of redistricting for Kent County. Right now the data is going to be based on the Census ACS Survery. It is still unclear if the Offical Census Data will be avaiable before the process needs to be completed."
   ],
   "cell_type": "markdown",
   "metadata": {}
  },
  {
   "cell_type": "code",
   "execution_count": null,
   "metadata": {},
   "outputs": [],
   "source": [
    "from dotenv import find_dotenv, load_dotenv\n",
    "import os\n",
    "from arcgis import GIS\n",
    "\n",
    "load_dotenv(find_dotenv())\n",
    "\n",
    "gis_user = os.getenv('ESRI_USERNAME')\n",
    "gis_pass = os.getenv('ESRI_PASSWORD')\n",
    "gis_url = os.getenv('PORTAL_URL')\n",
    "agol_user = os.getenv('AGOL_USERNAME')\n",
    "agol_pass = os.getenv('AGOL_PASSWORD')\n",
    "agol_url = os.getenv('AGOL_SITE')\n",
    "\n",
    "gisE = GIS(url=gis_url, username=gis_user, password=gis_pass)\n",
    "\n",
    "gisA = GIS(url=agol_url, username=agol_user, password=agol_pass)\n",
    "\n",
    "gis = GIS()"
   ]
  },
  {
   "source": [
    "### Get Census Data for Kent County from ACS 5 Year Survey. Data is going to be at the block group level instead of the block level. "
   ],
   "cell_type": "markdown",
   "metadata": {}
  },
  {
   "cell_type": "code",
   "execution_count": null,
   "metadata": {},
   "outputs": [],
   "source": [
    "import pandas as pd\n",
    "import numpy as np\n",
    "import requests\n",
    "\n",
    "census_key = os.getenv('CENSUS_KEY')\n",
    "\n",
    "cvar = {\n",
    "    'GEO_ID':'GEOID',\n",
    "    'B01001_001E':'est_total',\n",
    "    'B01001_001EA':'est_total_anno',\n",
    "    'B01001_001M':'moe',\n",
    "    'B01001_001MA':'moe_anno',\n",
    "    'NAME':'name'\n",
    "}\n",
    "\n",
    "# Request parameters\n",
    "payload = {\n",
    "    'get' : ','.join(list(cvar.keys())),\n",
    "    'for' : 'block group:*',\n",
    "    'in' : ['state:10', 'county:001'],\n",
    "    'key' : census_key\n",
    "}\n",
    "\n",
    "census_url = f'https://api.census.gov/data/2019/acs/acs5'\n",
    "\n",
    "res = requests.get(census_url, params=payload)\n",
    "\n",
    "if res.status_code == 200:\n",
    "    # print(response.url)\n",
    "    data = res.json()\n",
    "    # print(data[0])\n",
    "\n",
    "    \n",
    "    c_df = pd.DataFrame(data[1:], columns=data[0])\n",
    "    c_df.rename(columns=cvar, inplace=True)"
   ]
  },
  {
   "cell_type": "code",
   "execution_count": null,
   "metadata": {},
   "outputs": [],
   "source": [
    "c_df.loc[:, 'GEOID'] = c_df.GEOID.str[9:]\n",
    "\n",
    "c_df.drop(columns=['state', 'county', 'tract', 'block group'], inplace=True)\n",
    "\n",
    "c_df.sort_values(by='GEOID', inplace=True, ignore_index=True)\n",
    "\n",
    "census_dtypes = {\n",
    "    'GEOID':'string',\n",
    "    'name':'string',\n",
    "    'est_total':'int32',\n",
    "    'est_total_anno':'string',\n",
    "    'moe':'int32',\n",
    "    'moe_anno':'string'\n",
    "}\n",
    "\n",
    "c_df = c_df[list(census_dtypes.keys())].astype(census_dtypes)\n"
   ]
  },
  {
   "cell_type": "code",
   "execution_count": null,
   "metadata": {},
   "outputs": [],
   "source": [
    "c_df.fillna('', inplace=True)\n",
    "c_df.isna().sum()"
   ]
  },
  {
   "source": [
    "### Get Census Block Group Geographic Data from Census REST Server. For this example, I am using ArcGIS API for Python, but you can use Open Source libraries like Geopandas."
   ],
   "cell_type": "markdown",
   "metadata": {}
  },
  {
   "cell_type": "code",
   "execution_count": null,
   "metadata": {},
   "outputs": [],
   "source": [
    "from arcgis.features import FeatureLayer\n",
    "\n",
    "fl = 'https://tigerweb.geo.census.gov/arcgis/rest/services/TIGERweb/Tracts_Blocks/MapServer/8'\n",
    "\n",
    "expr = 'STATE = 10 AND COUNTY = 01'\n",
    "cbg_df = FeatureLayer(fl).query(out_sr= 4326, where=expr, out_fields='GEOID',as_df=True)\n",
    "\n",
    "cbg_df.sort_values(by='GEOID', inplace=True, ignore_index=True)\n",
    "cbg_df\n"
   ]
  },
  {
   "source": [
    "<b> Method using GeoPandas instead of ArcGIS Python API. </b>"
   ],
   "cell_type": "markdown",
   "metadata": {}
  },
  {
   "cell_type": "code",
   "execution_count": null,
   "metadata": {},
   "outputs": [],
   "source": [
    "import geopandas as gpd\n",
    "\n",
    "blocks_url = 'https://tigerweb.geo.census.gov/arcgis/rest/services/TIGERweb/Tracts_Blocks/MapServer/8/query?'\n",
    "\n",
    "blocks_params = {\n",
    "    'where' : 'STATE = 10 and COUNTY = 001',\n",
    "    'outFields' : 'GEOID',\n",
    "    'f' : 'GeoJSON'\n",
    "}\n",
    "\n",
    "blocks = requests.get(blocks_url, blocks_params)\n",
    "\n",
    "cbg_gdf = gpd.read_file(blocks.text)\n",
    "\n",
    "\n",
    "\n",
    "cbg_gdf.sort_values(by='GEOID', inplace=True, ignore_index=True)\n",
    "cbg_gdf"
   ]
  },
  {
   "source": [
    "### Merge or join the Census API Data to Census Spatial Data "
   ],
   "cell_type": "markdown",
   "metadata": {}
  },
  {
   "cell_type": "code",
   "execution_count": null,
   "metadata": {},
   "outputs": [],
   "source": [
    "import matplotlib.pyplot as plt\n",
    "from mpl_toolkits.axes_grid1 import make_axes_locatable\n",
    "import matplotlib as mpl\n",
    "\n",
    "cbg_gdf.plot()"
   ]
  },
  {
   "cell_type": "code",
   "execution_count": null,
   "metadata": {},
   "outputs": [],
   "source": [
    "print(cbg_df.columns)\n",
    "print(cbg_gdf.columns)"
   ]
  },
  {
   "cell_type": "code",
   "execution_count": null,
   "metadata": {},
   "outputs": [],
   "source": [
    "kc_gdf = cbg_gdf[['geometry']].join(c_df)\n",
    "kc_df = cbg_df[['SHAPE']].join(c_df)"
   ]
  },
  {
   "cell_type": "code",
   "execution_count": null,
   "metadata": {},
   "outputs": [],
   "source": [
    "# Define figure\n",
    "fig, ax = plt.subplots(1,1)\n",
    "\n",
    "# Plot dataframe to figure\n",
    "div = make_axes_locatable(ax)\n",
    "cax = div.append_axes(\"bottom\", size='5%', pad=0.1)\n",
    "kc_gdf.plot(column='est_total', legend=True, ax=ax, legend_kwds={'orientation':'horizontal'}, cax=cax, edgecolor='black', linewidth=0.4, cmap='BrBG')\n",
    "\n",
    "# Adjust figure details\n",
    "ax.set_title('Estimated Population Change from 2010-2014 to 2015-2019')\n",
    "ax.axes.xaxis.set_visible(False); ax.axes.yaxis.set_visible(False)\n",
    "ax.set_frame_on(False)\n",
    "fig.set_figwidth(10); fig.set_figheight(10)\n",
    "\n",
    "plt.show()"
   ]
  },
  {
   "source": [
    "## Get Geographic Data from Census REST Server"
   ],
   "cell_type": "markdown",
   "metadata": {}
  },
  {
   "cell_type": "code",
   "execution_count": null,
   "metadata": {},
   "outputs": [],
   "source": [
    "https://tigerweb.geo.census.gov/arcgis/rest/services/TIGERweb/Tracts_Blocks/MapServer"
   ]
  }
 ]
}