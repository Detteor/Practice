{
 "metadata": {
  "language_info": {
   "codemirror_mode": {
    "name": "ipython",
    "version": 3
   },
   "file_extension": ".py",
   "mimetype": "text/x-python",
   "name": "python",
   "nbconvert_exporter": "python",
   "pygments_lexer": "ipython3",
   "version": "3.7.10"
  },
  "orig_nbformat": 2,
  "kernelspec": {
   "name": "python3710jvsc74a57bd0a57cb7bca1abc867eae947b70fa3fa69ed703cffae8160be3ea1cc3a1cfe3e7e",
   "display_name": "Python 3.7.10 64-bit ('OSGIS': conda)"
  },
  "metadata": {
   "interpreter": {
    "hash": "a57cb7bca1abc867eae947b70fa3fa69ed703cffae8160be3ea1cc3a1cfe3e7e"
   }
  }
 },
 "nbformat": 4,
 "nbformat_minor": 2,
 "cells": [
  {
   "source": [
    "# For Extracting Census Data from the Census API and the Census REST Server."
   ],
   "cell_type": "markdown",
   "metadata": {}
  },
  {
   "source": [
    "## Notebook to assist in the process of redistricting for Kent County. Right now the data is going to be based on the Census ACS Survery. It is still unclear if the Offical Census Data will be avaiable before the process needs to be completed."
   ],
   "cell_type": "markdown",
   "metadata": {}
  },
  {
   "cell_type": "code",
   "execution_count": null,
   "metadata": {},
   "outputs": [],
   "source": [
    "from dotenv import find_dotenv, load_dotenv\n",
    "import os\n",
    "from arcgis import GIS\n",
    "\n",
    "load_dotenv(find_dotenv())\n",
    "\n",
    "gis_user = os.getenv('ESRI_USERNAME')\n",
    "gis_pass = os.getenv('ESRI_PASSWORD')\n",
    "gis_url = os.getenv('PORTAL_URL')\n",
    "agol_user = os.getenv('AGOL_USERNAME')\n",
    "agol_pass = os.getenv('AGOL_PASSWORD')\n",
    "agol_url = os.getenv('AGOL_SITE')\n",
    "\n",
    "gisE = GIS(url=gis_url, username=gis_user, password=gis_pass)\n",
    "\n",
    "gisA = GIS(url=agol_url, username=agol_user, password=agol_pass)\n",
    "\n",
    "gis = GIS()"
   ]
  },
  {
   "source": [
    "### Get Census Data for Kent County from ACS 5 Year Survey. Data is going to be at the block group level instead of the block level. "
   ],
   "cell_type": "markdown",
   "metadata": {}
  },
  {
   "cell_type": "code",
   "execution_count": null,
   "metadata": {},
   "outputs": [],
   "source": [
    "import pandas as pd\n",
    "import numpy as np\n",
    "import requests\n",
    "\n",
    "census_key = os.getenv('CENSUS_KEY')\n",
    "\n",
    "cvar = {\n",
    "    'GEO_ID':'GEOID',\n",
    "    'B01001_001E':'est_total',\n",
    "    'B01001_001EA':'est_total_anno',\n",
    "    'B01001_001M':'moe',\n",
    "    'B01001_001MA':'moe_anno',\n",
    "    'NAME':'name'\n",
    "}\n",
    "\n",
    "# Request parameters\n",
    "payload = {\n",
    "    'get' : ','.join(list(cvar.keys())),\n",
    "    'for' : 'block group:*',\n",
    "    'in' : ['state:10', 'county:001'],\n",
    "    'key' : census_key\n",
    "}\n",
    "\n",
    "census_url = f'https://api.census.gov/data/2019/acs/acs5'\n",
    "\n",
    "res = requests.get(census_url, params=payload)\n",
    "\n",
    "if res.status_code == 200:\n",
    "    # print(response.url)\n",
    "    data = res.json()\n",
    "    # print(data[0])\n",
    "\n",
    "    \n",
    "    c_df = pd.DataFrame(data[1:], columns=data[0])\n",
    "    c_df.rename(columns=cvar, inplace=True)"
   ]
  },
  {
   "cell_type": "code",
   "execution_count": null,
   "metadata": {},
   "outputs": [],
   "source": [
    "c_df.loc[:, 'GEOID'] = c_df.GEOID.str[9:]\n",
    "\n",
    "c_df.drop(columns=['state', 'county', 'tract', 'block group'], inplace=True)\n",
    "\n",
    "c_df.sort_values(by='GEOID', inplace=True, ignore_index=True)\n",
    "\n",
    "census_dtypes = {\n",
    "    'GEOID':'string',\n",
    "    'name':'string',\n",
    "    'est_total':'int32',\n",
    "    'est_total_anno':'string',\n",
    "    'moe':'int32',\n",
    "    'moe_anno':'string'\n",
    "}\n",
    "\n",
    "c_df = c_df[list(census_dtypes.keys())].astype(census_dtypes)\n"
   ]
  },
  {
   "cell_type": "code",
   "execution_count": null,
   "metadata": {},
   "outputs": [],
   "source": [
    "c_df.fillna('', inplace=True)\n",
    "c_df.isna().sum()"
   ]
  },
  {
   "source": [
    "### Get Census Block Group Geographic Data from Census REST Server. For this example, I am using ArcGIS API for Python, but you can use Open Source libraries like Geopandas."
   ],
   "cell_type": "markdown",
   "metadata": {}
  },
  {
   "cell_type": "code",
   "execution_count": null,
   "metadata": {},
   "outputs": [],
   "source": [
    "from pathlib import Path\n",
    "\n",
    "cwd = Path.cwd()\n",
    "gis = cwd / 'census.shp'"
   ]
  },
  {
   "cell_type": "code",
   "execution_count": null,
   "metadata": {
    "tags": [
     "outputPrepend"
    ]
   },
   "outputs": [],
   "source": [
    "from arcgis.features import FeatureLayer, FeatureLayerCollection\n",
    "\n",
    "flc = FeatureLayerCollection('https://tigerweb.geo.census.gov/arcgis/rest/services/TIGERweb/Tracts_Blocks/MapServer')\n",
    "\n",
    "expr = 'STATE = 10 AND COUNTY = 01'\n",
    "\n",
    "flList = flc.layers\n",
    "\n",
    "cbg = flList[0].query(out_sr=4326, where=expr, as_df=True)\n",
    "print(cbg)\n",
    "cbg.spatial.to_featureclass(f'{gis}', sanitize_columns=False)\n",
    "# cbg_df = FeatureLayer(fl).query(out_sr= 4326, where=expr, out_fields='GEOID',as_df=True)\n",
    "\n",
    "# cbg_df = FeatureLayer(fl).query(out_sr= 4326, where=expr, as_df=True)\n",
    "\n",
    "# cbg_df.sort_values(by='GEOID', inplace=True, ignore_index=True)\n",
    "\n",
    "# cbg_df.spatial.to_featureclass(f'{gis}', sanitize_columns=False)\n",
    "\n",
    "# cbg_df.save(f'{gis.parent}', 'census.shp')\n",
    "# print('Done')\n"
   ]
  },
  {
   "cell_type": "code",
   "execution_count": 12,
   "metadata": {},
   "outputs": [
    {
     "output_type": "execute_result",
     "data": {
      "text/plain": [
       "    MTFCC             OID         GEOID STATE COUNTY   TRACT BLKGRP BASENAME  \\\n",
       "0   G5030  20859404539530  100010420001    10    001  042000      1        1   \n",
       "1   G5030  20859404541272  100010417012    10    001  041701      2        2   \n",
       "2   G5030  20859404540083  100010414001    10    001  041400      1        1   \n",
       "3   G5030  20859404539943  100010433001    10    001  043300      1        1   \n",
       "4   G5030  20859404540649  100010401001    10    001  040100      1        1   \n",
       "..    ...             ...           ...   ...    ...     ...    ...      ...   \n",
       "67  G5030  20859404540511  100010430003    10    001  043000      3        3   \n",
       "68  G5030  20859404540591  100010431001    10    001  043100      1        1   \n",
       "69  G5030  20859404540188  100010417021    10    001  041702      1        1   \n",
       "70  G5030  20859404540215  100010417022    10    001  041702      2        2   \n",
       "71  G5030  20859404539713  100010422012    10    001  042201      2        2   \n",
       "\n",
       "             NAME LSADC FUNCSTAT  AREALAND  AREAWATER      CENTLAT  \\\n",
       "0   Block Group 1    BG        S  36919396     124382  +39.0865047   \n",
       "1   Block Group 2    BG        S   5846791          0  +39.1024344   \n",
       "2   Block Group 1    BG        S   6052970          0  +39.1462649   \n",
       "3   Block Group 1    BG        S   4451359     102108  +39.1883488   \n",
       "4   Block Group 1    BG        S  49660039          0  +39.2698848   \n",
       "..            ...   ...      ...       ...        ...          ...   \n",
       "67  Block Group 3    BG        S  14158636      18927  +38.9249920   \n",
       "68  Block Group 1    BG        S  69929674          0  +38.9246882   \n",
       "69  Block Group 1    BG        S   3459137          0  +39.1108318   \n",
       "70  Block Group 2    BG        S   2554429          0  +39.1030795   \n",
       "71  Block Group 2    BG        S  13289236     129007  +39.0766064   \n",
       "\n",
       "         CENTLON     INTPTLAT      INTPTLON  OBJECTID  \\\n",
       "0   -075.6802580  +39.0933119  -075.6893622     66993   \n",
       "1   -075.5566006  +39.1024344  -075.5566006     66994   \n",
       "2   -075.5445781  +39.1462649  -075.5445781     66995   \n",
       "3   -075.5524394  +39.1901603  -075.5513183     66996   \n",
       "4   -075.7023840  +39.2698848  -075.7023840     66998   \n",
       "..           ...          ...           ...       ...   \n",
       "67  -075.5550856  +38.9245258  -075.5554309    208162   \n",
       "68  -075.6746398  +38.9246882  -075.6746398    208163   \n",
       "69  -075.5154754  +39.1108318  -075.5154754    210326   \n",
       "70  -075.5332942  +39.1030795  -075.5332942    210327   \n",
       "71  -075.5218979  +39.0792256  -075.5131318    210328   \n",
       "\n",
       "                                                SHAPE  \n",
       "0   {\"rings\": [[[-75.74234799957848, 39.0801009999...  \n",
       "1   {\"rings\": [[[-75.58080600031265, 39.0944429996...  \n",
       "2   {\"rings\": [[[-75.56096200009078, 39.1586879999...  \n",
       "3   {\"rings\": [[[-75.57117299990671, 39.1910680001...  \n",
       "4   {\"rings\": [[[-75.76001799955766, 39.2968229999...  \n",
       "..                                                ...  \n",
       "67  {\"rings\": [[[-75.57230799970863, 38.8889220002...  \n",
       "68  {\"rings\": [[[-75.73292599995807, 38.9573919997...  \n",
       "69  {\"rings\": [[[-75.53499299969921, 39.1129759997...  \n",
       "70  {\"rings\": [[[-75.54594699967991, 39.0952159998...  \n",
       "71  {\"rings\": [[[-75.54726099958197, 39.0871099997...  \n",
       "\n",
       "[72 rows x 19 columns]"
      ],
      "text/html": "<div>\n<style scoped>\n    .dataframe tbody tr th:only-of-type {\n        vertical-align: middle;\n    }\n\n    .dataframe tbody tr th {\n        vertical-align: top;\n    }\n\n    .dataframe thead th {\n        text-align: right;\n    }\n</style>\n<table border=\"1\" class=\"dataframe\">\n  <thead>\n    <tr style=\"text-align: right;\">\n      <th></th>\n      <th>MTFCC</th>\n      <th>OID</th>\n      <th>GEOID</th>\n      <th>STATE</th>\n      <th>COUNTY</th>\n      <th>TRACT</th>\n      <th>BLKGRP</th>\n      <th>BASENAME</th>\n      <th>NAME</th>\n      <th>LSADC</th>\n      <th>FUNCSTAT</th>\n      <th>AREALAND</th>\n      <th>AREAWATER</th>\n      <th>CENTLAT</th>\n      <th>CENTLON</th>\n      <th>INTPTLAT</th>\n      <th>INTPTLON</th>\n      <th>OBJECTID</th>\n      <th>SHAPE</th>\n    </tr>\n  </thead>\n  <tbody>\n    <tr>\n      <th>0</th>\n      <td>G5030</td>\n      <td>20859404539530</td>\n      <td>100010420001</td>\n      <td>10</td>\n      <td>001</td>\n      <td>042000</td>\n      <td>1</td>\n      <td>1</td>\n      <td>Block Group 1</td>\n      <td>BG</td>\n      <td>S</td>\n      <td>36919396</td>\n      <td>124382</td>\n      <td>+39.0865047</td>\n      <td>-075.6802580</td>\n      <td>+39.0933119</td>\n      <td>-075.6893622</td>\n      <td>66993</td>\n      <td>{\"rings\": [[[-75.74234799957848, 39.0801009999...</td>\n    </tr>\n    <tr>\n      <th>1</th>\n      <td>G5030</td>\n      <td>20859404541272</td>\n      <td>100010417012</td>\n      <td>10</td>\n      <td>001</td>\n      <td>041701</td>\n      <td>2</td>\n      <td>2</td>\n      <td>Block Group 2</td>\n      <td>BG</td>\n      <td>S</td>\n      <td>5846791</td>\n      <td>0</td>\n      <td>+39.1024344</td>\n      <td>-075.5566006</td>\n      <td>+39.1024344</td>\n      <td>-075.5566006</td>\n      <td>66994</td>\n      <td>{\"rings\": [[[-75.58080600031265, 39.0944429996...</td>\n    </tr>\n    <tr>\n      <th>2</th>\n      <td>G5030</td>\n      <td>20859404540083</td>\n      <td>100010414001</td>\n      <td>10</td>\n      <td>001</td>\n      <td>041400</td>\n      <td>1</td>\n      <td>1</td>\n      <td>Block Group 1</td>\n      <td>BG</td>\n      <td>S</td>\n      <td>6052970</td>\n      <td>0</td>\n      <td>+39.1462649</td>\n      <td>-075.5445781</td>\n      <td>+39.1462649</td>\n      <td>-075.5445781</td>\n      <td>66995</td>\n      <td>{\"rings\": [[[-75.56096200009078, 39.1586879999...</td>\n    </tr>\n    <tr>\n      <th>3</th>\n      <td>G5030</td>\n      <td>20859404539943</td>\n      <td>100010433001</td>\n      <td>10</td>\n      <td>001</td>\n      <td>043300</td>\n      <td>1</td>\n      <td>1</td>\n      <td>Block Group 1</td>\n      <td>BG</td>\n      <td>S</td>\n      <td>4451359</td>\n      <td>102108</td>\n      <td>+39.1883488</td>\n      <td>-075.5524394</td>\n      <td>+39.1901603</td>\n      <td>-075.5513183</td>\n      <td>66996</td>\n      <td>{\"rings\": [[[-75.57117299990671, 39.1910680001...</td>\n    </tr>\n    <tr>\n      <th>4</th>\n      <td>G5030</td>\n      <td>20859404540649</td>\n      <td>100010401001</td>\n      <td>10</td>\n      <td>001</td>\n      <td>040100</td>\n      <td>1</td>\n      <td>1</td>\n      <td>Block Group 1</td>\n      <td>BG</td>\n      <td>S</td>\n      <td>49660039</td>\n      <td>0</td>\n      <td>+39.2698848</td>\n      <td>-075.7023840</td>\n      <td>+39.2698848</td>\n      <td>-075.7023840</td>\n      <td>66998</td>\n      <td>{\"rings\": [[[-75.76001799955766, 39.2968229999...</td>\n    </tr>\n    <tr>\n      <th>...</th>\n      <td>...</td>\n      <td>...</td>\n      <td>...</td>\n      <td>...</td>\n      <td>...</td>\n      <td>...</td>\n      <td>...</td>\n      <td>...</td>\n      <td>...</td>\n      <td>...</td>\n      <td>...</td>\n      <td>...</td>\n      <td>...</td>\n      <td>...</td>\n      <td>...</td>\n      <td>...</td>\n      <td>...</td>\n      <td>...</td>\n      <td>...</td>\n    </tr>\n    <tr>\n      <th>67</th>\n      <td>G5030</td>\n      <td>20859404540511</td>\n      <td>100010430003</td>\n      <td>10</td>\n      <td>001</td>\n      <td>043000</td>\n      <td>3</td>\n      <td>3</td>\n      <td>Block Group 3</td>\n      <td>BG</td>\n      <td>S</td>\n      <td>14158636</td>\n      <td>18927</td>\n      <td>+38.9249920</td>\n      <td>-075.5550856</td>\n      <td>+38.9245258</td>\n      <td>-075.5554309</td>\n      <td>208162</td>\n      <td>{\"rings\": [[[-75.57230799970863, 38.8889220002...</td>\n    </tr>\n    <tr>\n      <th>68</th>\n      <td>G5030</td>\n      <td>20859404540591</td>\n      <td>100010431001</td>\n      <td>10</td>\n      <td>001</td>\n      <td>043100</td>\n      <td>1</td>\n      <td>1</td>\n      <td>Block Group 1</td>\n      <td>BG</td>\n      <td>S</td>\n      <td>69929674</td>\n      <td>0</td>\n      <td>+38.9246882</td>\n      <td>-075.6746398</td>\n      <td>+38.9246882</td>\n      <td>-075.6746398</td>\n      <td>208163</td>\n      <td>{\"rings\": [[[-75.73292599995807, 38.9573919997...</td>\n    </tr>\n    <tr>\n      <th>69</th>\n      <td>G5030</td>\n      <td>20859404540188</td>\n      <td>100010417021</td>\n      <td>10</td>\n      <td>001</td>\n      <td>041702</td>\n      <td>1</td>\n      <td>1</td>\n      <td>Block Group 1</td>\n      <td>BG</td>\n      <td>S</td>\n      <td>3459137</td>\n      <td>0</td>\n      <td>+39.1108318</td>\n      <td>-075.5154754</td>\n      <td>+39.1108318</td>\n      <td>-075.5154754</td>\n      <td>210326</td>\n      <td>{\"rings\": [[[-75.53499299969921, 39.1129759997...</td>\n    </tr>\n    <tr>\n      <th>70</th>\n      <td>G5030</td>\n      <td>20859404540215</td>\n      <td>100010417022</td>\n      <td>10</td>\n      <td>001</td>\n      <td>041702</td>\n      <td>2</td>\n      <td>2</td>\n      <td>Block Group 2</td>\n      <td>BG</td>\n      <td>S</td>\n      <td>2554429</td>\n      <td>0</td>\n      <td>+39.1030795</td>\n      <td>-075.5332942</td>\n      <td>+39.1030795</td>\n      <td>-075.5332942</td>\n      <td>210327</td>\n      <td>{\"rings\": [[[-75.54594699967991, 39.0952159998...</td>\n    </tr>\n    <tr>\n      <th>71</th>\n      <td>G5030</td>\n      <td>20859404539713</td>\n      <td>100010422012</td>\n      <td>10</td>\n      <td>001</td>\n      <td>042201</td>\n      <td>2</td>\n      <td>2</td>\n      <td>Block Group 2</td>\n      <td>BG</td>\n      <td>S</td>\n      <td>13289236</td>\n      <td>129007</td>\n      <td>+39.0766064</td>\n      <td>-075.5218979</td>\n      <td>+39.0792256</td>\n      <td>-075.5131318</td>\n      <td>210328</td>\n      <td>{\"rings\": [[[-75.54726099958197, 39.0871099997...</td>\n    </tr>\n  </tbody>\n</table>\n<p>72 rows × 19 columns</p>\n</div>"
     },
     "metadata": {},
     "execution_count": 12
    }
   ],
   "source": [
    "cbg_df"
   ]
  },
  {
   "source": [
    "<b> Method using GeoPandas instead of ArcGIS Python API. </b>"
   ],
   "cell_type": "markdown",
   "metadata": {}
  },
  {
   "cell_type": "code",
   "execution_count": null,
   "metadata": {},
   "outputs": [],
   "source": [
    "import geopandas as gpd\n",
    "\n",
    "blocks_url = 'https://tigerweb.geo.census.gov/arcgis/rest/services/TIGERweb/Tracts_Blocks/MapServer/8/query?'\n",
    "\n",
    "blocks_params = {\n",
    "    'where' : 'STATE = 10 and COUNTY = 001',\n",
    "    'outFields' : 'GEOID',\n",
    "    'f' : 'GeoJSON'\n",
    "}\n",
    "\n",
    "blocks = requests.get(blocks_url, blocks_params)\n",
    "\n",
    "cbg_gdf = gpd.read_file(blocks.text)\n",
    "\n",
    "\n",
    "\n",
    "cbg_gdf.sort_values(by='GEOID', inplace=True, ignore_index=True)\n",
    "cbg_gdf"
   ]
  },
  {
   "cell_type": "code",
   "execution_count": null,
   "metadata": {},
   "outputs": [],
   "source": [
    "import geopandas as gpd\n",
    "import requests\n",
    "\n",
    "blocks_url = 'https://tigerweb.geo.census.gov/arcgis/rest/services/TIGERweb/Tracts_Blocks/MapServer/8/query?'\n",
    "\n",
    "blocks_params = {\n",
    "    'where' : 'STATE = 10 and COUNTY = 001',\n",
    "    'outFields' : '*',\n",
    "    'f' : 'JSON'\n",
    "}\n",
    "\n",
    "blocks = requests.get(blocks_url, blocks_params)\n",
    "\n",
    "cbg_gdf = gpd.read_file(blocks.text)\n",
    "\n",
    "\n",
    "\n",
    "cbg_gdf.sort_values(by='GEOID', inplace=True, ignore_index=True)\n",
    "cbg_gdf"
   ]
  },
  {
   "cell_type": "code",
   "execution_count": 13,
   "metadata": {},
   "outputs": [],
   "source": [
    "cbg_gdf.to_file(f'{gis.parent / \"gdCensus.shp\"}', index=False)"
   ]
  },
  {
   "cell_type": "code",
   "execution_count": 11,
   "metadata": {},
   "outputs": [
    {
     "output_type": "execute_result",
     "data": {
      "text/plain": [
       "{'AeronavFAA': 'r',\n",
       " 'ARCGEN': 'r',\n",
       " 'BNA': 'rw',\n",
       " 'DXF': 'rw',\n",
       " 'CSV': 'raw',\n",
       " 'OpenFileGDB': 'r',\n",
       " 'ESRIJSON': 'r',\n",
       " 'ESRI Shapefile': 'raw',\n",
       " 'FlatGeobuf': 'rw',\n",
       " 'GeoJSON': 'raw',\n",
       " 'GeoJSONSeq': 'rw',\n",
       " 'GPKG': 'raw',\n",
       " 'GML': 'rw',\n",
       " 'OGR_GMT': 'rw',\n",
       " 'GPX': 'rw',\n",
       " 'GPSTrackMaker': 'rw',\n",
       " 'Idrisi': 'r',\n",
       " 'MapInfo File': 'raw',\n",
       " 'DGN': 'raw',\n",
       " 'PCIDSK': 'rw',\n",
       " 'OGR_PDS': 'r',\n",
       " 'S57': 'r',\n",
       " 'SEGY': 'r',\n",
       " 'SUA': 'r',\n",
       " 'TopoJSON': 'r'}"
      ]
     },
     "metadata": {},
     "execution_count": 11
    }
   ],
   "source": [
    "import fiona\n",
    "fiona.supported_drivers"
   ]
  },
  {
   "source": [
    "### Merge or join the Census API Data to Census Spatial Data "
   ],
   "cell_type": "markdown",
   "metadata": {}
  },
  {
   "cell_type": "code",
   "execution_count": null,
   "metadata": {},
   "outputs": [],
   "source": []
  },
  {
   "cell_type": "code",
   "execution_count": null,
   "metadata": {},
   "outputs": [],
   "source": [
    "import matplotlib.pyplot as plt\n",
    "from mpl_toolkits.axes_grid1 import make_axes_locatable\n",
    "import matplotlib as mpl\n",
    "\n",
    "cbg_gdf.plot()"
   ]
  },
  {
   "cell_type": "code",
   "execution_count": null,
   "metadata": {},
   "outputs": [],
   "source": [
    "print(cbg_df.columns)\n",
    "print(cbg_gdf.columns)"
   ]
  },
  {
   "cell_type": "code",
   "execution_count": null,
   "metadata": {},
   "outputs": [],
   "source": [
    "kc_gdf = cbg_gdf[['geometry']].join(c_df)\n",
    "kc_df = cbg_df[['SHAPE']].join(c_df)"
   ]
  },
  {
   "cell_type": "code",
   "execution_count": null,
   "metadata": {},
   "outputs": [],
   "source": [
    "# Define figure\n",
    "fig, ax = plt.subplots(1,1)\n",
    "\n",
    "# Plot dataframe to figure\n",
    "div = make_axes_locatable(ax)\n",
    "cax = div.append_axes(\"bottom\", size='5%', pad=0.1)\n",
    "kc_gdf.plot(column='est_total', legend=True, ax=ax, legend_kwds={'orientation':'horizontal'}, cax=cax, edgecolor='black', linewidth=0.4, cmap='BrBG')\n",
    "\n",
    "# Adjust figure details\n",
    "ax.set_title('Estimated Population Change from 2010-2014 to 2015-2019')\n",
    "ax.axes.xaxis.set_visible(False); ax.axes.yaxis.set_visible(False)\n",
    "ax.set_frame_on(False)\n",
    "fig.set_figwidth(10); fig.set_figheight(10)\n",
    "\n",
    "plt.show()"
   ]
  },
  {
   "source": [
    "## Get Geographic Data from Census REST Server"
   ],
   "cell_type": "markdown",
   "metadata": {}
  },
  {
   "cell_type": "code",
   "execution_count": null,
   "metadata": {},
   "outputs": [],
   "source": [
    "https://tigerweb.geo.census.gov/arcgis/rest/services/TIGERweb/Tracts_Blocks/MapServer"
   ]
  }
 ]
}