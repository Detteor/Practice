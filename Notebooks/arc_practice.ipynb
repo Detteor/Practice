{
 "metadata": {
  "language_info": {
   "codemirror_mode": {
    "name": "ipython",
    "version": 3
   },
   "file_extension": ".py",
   "mimetype": "text/x-python",
   "name": "python",
   "nbconvert_exporter": "python",
   "pygments_lexer": "ipython3",
   "version": "3.7.9"
  },
  "orig_nbformat": 2,
  "kernelspec": {
   "name": "python379jvsc74a57bd08c624294652429e1be0bd62df4fac362c548612b915488edf93459dc1d38a2c2",
   "display_name": "Python 3.7.9 64-bit ('arc37': conda)"
  }
 },
 "nbformat": 4,
 "nbformat_minor": 2,
 "cells": [
  {
   "cell_type": "code",
   "execution_count": 2,
   "metadata": {},
   "outputs": [],
   "source": [
    "from arcgis import GIS\n",
    "import os\n",
    "from dotenv import find_dotenv, load_dotenv\n",
    "\n",
    "#connect to the KC Portal\n",
    "gisE = GIS(url='', username= ')\n",
    "gisOL = GIS(url='', username=, password=, set_active=False)"
   ]
  },
  {
   "cell_type": "code",
   "execution_count": 3,
   "metadata": {},
   "outputs": [
    {
     "output_type": "stream",
     "name": "stdout",
     "text": [
      "<class 'arcgis.features.layer.FeatureLayer'>\n",
      "<class 'arcgis.features.feature.FeatureSet'>\n"
     ]
    }
   ],
   "source": [
    "from arcgis import features\n",
    "ieFc = features.FeatureLayerCollection(url='https://co.kent.de.us/server/rest/services/InspectionsandEnforcement/MapServer')\n",
    "lLayer = ieFc.layers[0]\n",
    "print(type(lLayer))\n",
    "# pLayer = lLayer.properties.name\n",
    "df_Perms = lLayer.query()\n",
    "print(type(df_Perms))\n",
    "\n",
    "# pFl = features.FeatureLayer(url='')"
   ]
  },
  {
   "cell_type": "code",
   "execution_count": 12,
   "metadata": {},
   "outputs": [
    {
     "output_type": "execute_result",
     "data": {
      "text/plain": [
       "[{'name': 'OBJECTID', 'type': 'esriFieldTypeOID', 'alias': 'OBJECTID'},\n",
       " {'name': 'Name',\n",
       "  'type': 'esriFieldTypeString',\n",
       "  'alias': 'PARCELID',\n",
       "  'length': 50},\n",
       " {'name': 'StructureType',\n",
       "  'type': 'esriFieldTypeString',\n",
       "  'alias': 'StructureType',\n",
       "  'length': 4},\n",
       " {'name': 'PermitStatus',\n",
       "  'type': 'esriFieldTypeString',\n",
       "  'alias': 'PermitStatus',\n",
       "  'length': 2},\n",
       " {'name': 'IssueDate',\n",
       "  'type': 'esriFieldTypeString',\n",
       "  'alias': 'IssueDate',\n",
       "  'length': 10},\n",
       " {'name': 'PermitYear',\n",
       "  'type': 'esriFieldTypeSmallInteger',\n",
       "  'alias': 'PermitYear'},\n",
       " {'name': 'PermitNumber',\n",
       "  'type': 'esriFieldTypeInteger',\n",
       "  'alias': 'PermitNumber'},\n",
       " {'name': 'StructureDesc',\n",
       "  'type': 'esriFieldTypeString',\n",
       "  'alias': 'StructureDesc',\n",
       "  'length': 1073741822},\n",
       " {'name': 'PermitNumb',\n",
       "  'type': 'esriFieldTypeString',\n",
       "  'alias': 'PermitNumb',\n",
       "  'length': 255},\n",
       " {'name': 'CODate',\n",
       "  'type': 'esriFieldTypeString',\n",
       "  'alias': 'CODate',\n",
       "  'length': 10},\n",
       " {'name': 'AppDate',\n",
       "  'type': 'esriFieldTypeString',\n",
       "  'alias': 'AppDate',\n",
       "  'length': 10}]"
      ]
     },
     "metadata": {},
     "execution_count": 12
    }
   ],
   "source": [
    "df_Perms.fields"
   ]
  },
  {
   "cell_type": "code",
   "execution_count": 14,
   "metadata": {},
   "outputs": [
    {
     "output_type": "execute_result",
     "data": {
      "text/plain": [
       "'esriGeometryPoint'"
      ]
     },
     "metadata": {},
     "execution_count": 14
    }
   ],
   "source": []
  },
  {
   "cell_type": "code",
   "execution_count": null,
   "metadata": {},
   "outputs": [],
   "source": []
  }
 ]
}