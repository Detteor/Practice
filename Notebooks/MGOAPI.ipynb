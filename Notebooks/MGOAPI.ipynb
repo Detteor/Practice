{
 "metadata": {
  "language_info": {
   "codemirror_mode": {
    "name": "ipython",
    "version": 3
   },
   "file_extension": ".py",
   "mimetype": "text/x-python",
   "name": "python",
   "nbconvert_exporter": "python",
   "pygments_lexer": "ipython3",
   "version": "3.7.10"
  },
  "orig_nbformat": 2,
  "kernelspec": {
   "name": "python3710jvsc74a57bd0d7fd1df0f64f396dfc6ad6fdc4d025bbd2eff0f114ee747d6b4c0ce1c63e58f5",
   "display_name": "Python 3.7.10 64-bit ('OSGIS': conda)"
  }
 },
 "nbformat": 4,
 "nbformat_minor": 2,
 "cells": [
  {
   "cell_type": "code",
   "execution_count": null,
   "metadata": {},
   "outputs": [],
   "source": [
    "import requests\n",
    "import pyodbc\n",
    "from dotenv import load_dotenv, find_dotenv"
   ]
  },
  {
   "cell_type": "code",
   "execution_count": null,
   "metadata": {},
   "outputs": [],
   "source": [
    "load_dotenv(find_dotenv())\n",
    "\n",
    "mgo_user = os.getenv('MGO_USER')\n",
    "mgo_key = os.getenv('MGO_KEY')"
   ]
  },
  {
   "cell_type": "code",
   "execution_count": null,
   "metadata": {},
   "outputs": [],
   "source": [
    "api_url = f'https://api.mgoconnect.org/jurisdiction/KentCounty'\n",
    "dList = ['sewerinfo', 'payments', 'permitinfo/status', 'permitinfo', 'fees', 'planreviewletters', 'comments', 'WOandInsp', 'planreviewcomments', 'contacts', 'requirements', 'addresses']\n",
    "\n",
    "bDate = '2021-01-01'\n",
    "fDate = '2030-12-31'\n",
    "allV = '-1'\n",
    "response = requests.get(f'https://api.mgoconnect.org/jurisdiction/KentCounty/permitinfo/{bDate}/{fDate}/{allV}', auth=(mgo_user, mgo_key))\n",
    "\n",
    "print(response.json())\n",
    "\n"
   ]
  },
  {
   "cell_type": "code",
   "execution_count": null,
   "metadata": {},
   "outputs": [],
   "source": [
    "#Export Pride Main Table from KCC-SQL1\\Assess50Kent\n",
    "import pyodbc as db\n",
    "server = 'KCC-SQL1'\n",
    "database = 'Assess50StagedData_Kent'\n",
    "try:\n",
    "    cnxn = db.connect('DRIVER={ODBC Driver 17 for SQL Server};''SERVER='+server+';DATABASE='+database+';TRUSTED_CONNECTION=yes;')\n",
    "    print(f'Connected to {database}')\n",
    "except:\n",
    "    print(f'Could not connect to {database}')\n",
    "\n",
    "cur = cnxn.cursor()\n",
    "cols = []\n",
    "for row in cur.columns(table='MGOPermitData'):\n",
    "    cols.append(row.column_name)\n",
    "print(cols)\n",
    "try:\n",
    "    cnxn.autocommit = False\n",
    "\n",
    "except pyodbc.DatabaseError as e:\n",
    "    print(e)\n",
    "    cnxn.rollback()\n",
    "else:\n",
    "    cnxn.commit()\n",
    "finally:\n",
    "    cnxn.autocommit = True\n",
    "    cnxn.close()\n",
    "# \"Truncate Table [Assess50StagedData_Kent].[dbo].[MGOPermitData]\"\n",
    "\"INSERT INTO [Assess50StagedData_Kent].[dbo].[MGOPermitData] (ParcelID,ApplicationType,MPNPermitID,ProjectNumber,ProjectDescription,ProjectName,Created,CreatedBy,Designation,LegalDescription,Status,UpdateDate,Updated,UpdatedBy,RenewalDocument,Subdivision,Lot,MapNumber,Perservation,NoiseContourArea,AirportZones,FireDistrict,EMS,SchoolDistrict,Zoning,FloodZone,TotalFixtures,TotalFixturesValue,CurrentEDU,Color,DemolishRelocating,Make,Size,OwnerofRecord,Year,Bedrooms,Bathrooms,SerialNumber,Skirting,TaxMapID,MobileHomeVIN,FenceHeight,PoolEnclosure,TypeofFence,FenceLinerFeet,SewerAccount,SewerDistrict,ConstuctionCost,DwellingUnit,NumBuilding,TaxRefNum,TotalSqFt,Stories,SprinklerReq,OccLoad,ConstructionType,Foundation,Wastewater,HBBWillBeConstruction,ManModelHomeNum,NRBWorkDescription,PropertyType,BookVolPg,PoolType,KennelType,KennelSize,TypeAttachedSign,TypeDetachedSign,SDFAMasterPlan,SFDAType,SFDDMasterPlans,SFDDType,CAMAAcct,LocationID,TitleRegistrationNo,IsCOIssued,COIssuedDate)VALUES(@ParcelID,@ApplicationType,@MPNPermitID,@ProjectNumber,@ProjectDescription,@ProjectName,@Created,@CreatedBy,@Designation ,@LegalDescription,@Status,@UpdateDate,@Updated,@UpdatedBy,@RenewalDocument,@Subdivision,@Lot,@MapNumber,@Perservation,@NoiseContourArea,@AirportZones,@FireDistrict,@EMS,@SchoolDistrict,@Zoning,@FloodZone,@TotalFixtures,@TotalFixturesValue,@CurrentEDU,@Color,@DemolishRelocating,@Make,@Size,@OwnerofRecord,@Year,@Bedrooms,@Bathrooms,@SerialNumber,@Skirting,@TaxMapID,@MobileHomeVIN,@FenceHeight,@PoolEnclosure,@TypeofFence,@FenceLinerFeet,@SewerAccount,@SewerDistrict,@ConstuctionCost,@DwellingUnit,@NumBuilding,@TaxRefNum,@TotalSqFt,@Stories,@SprinklerReq,@OccLoad,@ConstructionType,@Foundation,@Wastewater,@HBBWillBeConstruction,@ManModelHomeNum,@NRBWorkDescription,@PropertyType,@BookVolPg,@PoolType,@KennelType,@KennelSize,@TypeAttachedSign,@TypeDetachedSign,@SDFAMasterPlan,@SFDAType,@SFDDMasterPlans,@SFDDType,@CAMAAcct,@LocationID,@TitleRegistrationNo,@IsCOIssued,@COIssuedDate)\"\n",
    "# kColumns = ['ParcelID', 'BillingAddress', 'BillingAddress2', 'FormattedLocation', 'OwnerNameFormatted', 'Owner1', 'Owner1FirstName', 'Owner1LastName', 'Lot']\n",
    "# # cColumns = [c.column_name for c in cur.columns(table='PrideMain')]\n",
    "# q = f'Select {kColumns[0]}, {kColumns[1]}, {kColumns[2]}, {kColumns[3]}, {kColumns[4]}, {kColumns[5]}, {kColumns[6]}, {kColumns[7]}, {kColumns[8]} FROM PrideMain ORDER BY ParcelID'\n",
    "\n",
    "# #Create DataFrame from PrideMain Table\n",
    "# pCsv = pProcessing / 'PrideMain.csv'\n",
    "# df_Pride = pd.read_sql(sql=q, con=cnxn)\n",
    "# df_Pride.to_csv(pCsv, index=False)\n",
    "# print('Created Pride Main DataFrame')\n",
    "# # df_Pride.shape"
   ]
  }
 ]
}