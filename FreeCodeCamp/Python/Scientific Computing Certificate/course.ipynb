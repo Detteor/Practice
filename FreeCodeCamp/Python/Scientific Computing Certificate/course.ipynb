{
 "metadata": {
  "language_info": {
   "codemirror_mode": {
    "name": "ipython",
    "version": 3
   },
   "file_extension": ".py",
   "mimetype": "text/x-python",
   "name": "python",
   "nbconvert_exporter": "python",
   "pygments_lexer": "ipython3",
   "version": "3.8.10"
  },
  "orig_nbformat": 4,
  "kernelspec": {
   "name": "python3",
   "display_name": "Python 3.8.10 64-bit ('project': conda)"
  },
  "interpreter": {
   "hash": "07a0416db785b94765614b7e5ecf6429b0daf8b40121c3d3b85d7ba93c87a535"
  }
 },
 "nbformat": 4,
 "nbformat_minor": 2,
 "cells": [
  {
   "source": [
    "<h1>Scientific Computing Course on FreeCodeCamp</h1>"
   ],
   "cell_type": "markdown",
   "metadata": {}
  },
  {
   "source": [
    "<h3>Dictionary Section:</h3>"
   ],
   "cell_type": "markdown",
   "metadata": {}
  },
  {
   "cell_type": "code",
   "execution_count": null,
   "metadata": {},
   "outputs": [],
   "source": [
    "counts = {}\n",
    "\n",
    "line = input(\"Enter a line of text: \")\n",
    "\n",
    "words = line.split()\n",
    "\n",
    "for word in words:\n",
    "    counts[word] = counts.get(word, 0) + 1\n",
    "print('Counts: ', counts)\n",
    "\n",
    "counts = { 'chuck' : 1 , 'annie' : 42, 'jan': 100}\n",
    "for key in counts:\n",
    "    if counts[key] > 10:\n",
    "        print(key, counts[key])"
   ]
  },
  {
   "source": [
    "<h3>For Loop</h3>"
   ],
   "cell_type": "markdown",
   "metadata": {}
  },
  {
   "cell_type": "code",
   "execution_count": null,
   "metadata": {},
   "outputs": [],
   "source": [
    "# zork = 0\n",
    "# print ('Before', zork)\n",
    "# for thing in [9, 41, 12, 3, 74, 15]:\n",
    "#     zork = zork + thing\n",
    "#     print (zork, thing)\n",
    "# print ('After', zork)\n",
    "\n",
    "# count = 0 \n",
    "# sum = 0\n",
    "# print ('Before', count, sum)\n",
    "# for value in [9, 41, 12, 3, 74, 15]:\n",
    "#     count = count +1\n",
    "#     sum = sum + value\n",
    "#     print (count, sum, value)\n",
    "# print ('After', count, sum, sum / count)\n",
    "\n",
    "# print ('Before')\n",
    "# for value in [9,41,12,3,74,15]:\n",
    "#     if value > 20:\n",
    "#         print ('Large Number', value)\n",
    "# print ('After')\n",
    "\n",
    "# found = False\n",
    "# print ('Before', found)\n",
    "# for value in [9,41,12,3,74,15]:\n",
    "#     if value == 3:\n",
    "#         found = True\n",
    "#         break\n",
    "#     print (found, value)\n",
    "# print ('After', found)\n",
    "\n",
    "# largest_so_far = -1 \n",
    "# print ('Before', largest_so_far)\n",
    "# for the_num in [9,41,12,3,74,15]:\n",
    "#     if the_num > largest_so_far:\n",
    "#         largest_so_far = the_num\n",
    "#     print (largest_so_far, the_num)\n",
    "# print ('After', largest_so_far)\n",
    "\n",
    "smallest = None\n",
    "print ('Before')\n",
    "for value in [9,41,12,3,74,15]:\n",
    "    if smallest is None:\n",
    "        smallest = value\n",
    "    elif value < smallest:\n",
    "        smallest = value\n",
    "    print (smallest, value)\n",
    "print ('After', smallest)"
   ]
  },
  {
   "source": [
    "<h3>While Loop:</h3>"
   ],
   "cell_type": "markdown",
   "metadata": {}
  },
  {
   "cell_type": "code",
   "execution_count": null,
   "metadata": {},
   "outputs": [],
   "source": [
    "# fruit = \"banana\"\n",
    "# print (fruit[1])\n",
    "\n",
    "fruit = \"banana\"\n",
    "index = 0\n",
    "while index < len(fruit):\n",
    "    letter = fruit[index]\n",
    "    print (index,letter)\n",
    "    index = index +1"
   ]
  },
  {
   "cell_type": "code",
   "execution_count": null,
   "metadata": {},
   "outputs": [],
   "source": []
  }
 ]
}