{
    "metadata": {
        "kernelspec": {
            "name": "SQL",
            "display_name": "SQL",
            "language": "sql"
        },
        "language_info": {
            "name": "sql",
            "version": ""
        }
    },
    "nbformat_minor": 2,
    "nbformat": 4,
    "cells": [
        {
            "cell_type": "code",
            "source": [
                "select max(v.CECYER) as MaxYear, v.MSPIN as PARCELID, v.CECTCD as VIOLATIONTYPE, v.CECSTS as VIOLATIONSTATUS\r\n",
                "from [KCLCAS400].[S78114C0].[HTSUSR].[BPK001P3] v\r\n",
                "-- INNER join( select max(x.CECYER) as MaxYear, x.MSPIN, x.CECTCD, x.CECSTS from [KCLCAS400].[S78114C0].[HTSUSR].[BPK001P3] x \r\n",
                "-- join (select max(d.MSPIN) as MaxParcel, d.CECTCD, d.CECSTS from [KCLCAS400].[S78114C0].[HTSUSR].[BPK001P3] d))\r\n",
                "group by v.CECTCD, v.CECSTS, v.MSPIN\r\n",
                "\r\n",
                ""
            ],
            "metadata": {
                "azdata_cell_guid": "1287a03c-222d-4664-8508-d25ea0f88fb1",
                "tags": []
            },
            "outputs": [],
            "execution_count": null
        },
        {
            "cell_type": "code",
            "source": [
                "select maxYear.CECTCD, maxYear.MSPIN, maxYear.CECSTS\n",
                "from [KCLCAS400].[S78114C0].[HTSUSR].[BPK001P3] v\n",
                "inner join (select max(x.CECYER) as MaxYear, x.MSPIN, x.CECTCD, x.CECSTS from [KCLCAS400].[S78114C0].[HTSUSR].[BPK001P3] x\n",
                "where x.CECYER <='20'\n",
                "group by x.CECYER, x.MSPIN, x.CECTCD, x.CECSTS) maxYear\n",
                "-- join (select max(CECYER) as MaxYear, MSPIN, CECTCD, CECSTS from [KCLCAS400].[S78114C0].[HTSUSR].[BPK001P3]\n",
                "-- where CECYER <='20' \n",
                "-- group by CECYER, MSPIN, CECTCD, CECSTS) maxYear\n",
                "on v.MSPIN = maxYear.MSPIN\n",
                "where v.MSPIN = '8-00-11800-01-3900-00001'\n",
                "group by maxYear.CECTCD, maxYear.MSPIN, maxYear.CECSTS\n",
                "-- group by x.CECYER, x.MSPIN, x.CECTCD, x.CECSTS) p on v.MSPIN=p.MSPIN\n",
                "-- inner join (select max(x.CECYER) as MaxYear, x.MSPIN, x.CECTCD, x.CECSTS from [KCLCAS400].[S78114C0].[HTSUSR].[BPK001P3] x) MaxYear\n",
                "\n",
                "\n",
                "\n",
                "\n",
                "-- on x.MSPIN = MaxYear."
            ],
            "metadata": {
                "azdata_cell_guid": "d0250d04-b99e-4231-a64e-c1479f31f0be"
            },
            "outputs": [],
            "execution_count": null
        },
        {
            "cell_type": "code",
            "source": [
                "select v.CECSTS, v.CECTCD, v.MSPIN, v.CECYER\n",
                "from [KCLCAS400].[S78114C0].[HTSUSR].[BPK001P3] v\n",
                "where v.MSPIN = '7-00-09509-04-0900-00001'\n",
                "-- v.CECYER = (select max(x.CECYER) from [KCLCAS400].[S78114C0].[HTSUSR].[BPK001P3] x where x.cecyer = '20')\n",
                "GROUP BY v.CECYER, v.CECTCD, v.CECSTS, v.MSPIN\n",
                "order by v.MSPIN"
            ],
            "metadata": {
                "azdata_cell_guid": "d66cbe96-815c-444c-b601-3e96f8694aaa",
                "tags": []
            },
            "outputs": [],
            "execution_count": null
        },
        {
            "cell_type": "code",
            "source": [
                "select PARCELID, VIOLATIONTYPE, VIOLATIONSTATUS, VIOLATIONDESC\r\n",
                "from PROD.gisadmin.Violations\r\n",
                "where PARCELID = (select max(PARCELID) from PROD.gisadmin.Violations)\r\n",
                "GROUP BY PARCELID, VIOLATIONTYPE, VIOLATIONSTATUS, VIOLATIONDESC"
            ],
            "metadata": {
                "azdata_cell_guid": "ad10ef04-99c2-4a25-9f49-7cb043b0ca31"
            },
            "outputs": [],
            "execution_count": null
        }
    ]
}