{
    "metadata": {
        "kernelspec": {
            "name": "SQL",
            "display_name": "SQL",
            "language": "sql"
        },
        "language_info": {
            "name": "sql",
            "version": ""
        }
    },
    "nbformat_minor": 2,
    "nbformat": 4,
    "cells": [
        {
            "cell_type": "code",
            "source": [
                "SELECT FormattedLocation, ParcelID\r\n",
                "from Assess50Kent.dbo.PrideMain\r\n",
                "where FormattedLocation LIKE '%HEMLOCK%'"
            ],
            "metadata": {
                "azdata_cell_guid": "2c630df9-850a-40c2-aa55-92b069c6e32c",
                "tags": []
            },
            "outputs": [],
            "execution_count": null
        },
        {
            "cell_type": "code",
            "source": [
                "USE Assess50StagedData_Kent\r\n",
                "GO\r\n",
                "\r\n",
                "CREATE Table dbo.All_Permits(\r\n",
                "    [PARCELID] [varchar](24) NOT NULL,\r\n",
                "    [ApplicationType] [nvarchar](50) NOT NULL,\r\n",
                "    [ProjectNumber] [nvarchar](50) NOT NULL,\r\n",
                "    [Status] [nvarchar](50) NOT NULL,\r\n",
                "    [ApplicationDate] [date] NOT NULL,\r\n",
                "    [PermitYear] [nvarchar](10) NOT NUll,\r\n",
                "    [IssueDate] [date] NOT NULL,\r\n",
                "    [Description] [nvarchar](100) NOT NULL\r\n",
                "  )\r\n",
                "\r\n",
                "\r\n",
                "-- SELECT * \r\n",
                "-- INTO \r\n",
                "-- FROM \r\n",
                "-- WHERE 1=0"
            ],
            "metadata": {
                "azdata_cell_guid": "c2cb6db3-5c63-4b49-87c4-44564c59ad7c",
                "tags": [
                    "hide_input"
                ]
            },
            "outputs": [],
            "execution_count": null
        },
        {
            "cell_type": "code",
            "source": [
                "select f.*\r\n",
                "FROM (select a.PARCELID, a.AppType, a.PermitStatus, FORMAT(CAST(LEFT(a.AppDate, 10) as date), 'd', 'en-US') as AppDate, a.PermitNumber, a.IssueDate, LEFT(a.PermitNumber, 4) as PermitYear, a.Designation\r\n",
                "from prod.gisadmin.MGOPermits as a\r\n",
                "UNION ALL\r\n",
                "select g.PARCELID, g.AppType, g.PermitStatus, g.AppDate, g.PermitNumber, g.IssueDate, g.PermitYear, g.Designation\r\n",
                "FROM (select b.PARCELID, b.[TYPE] as [AppType], b.STATUS as [PermitStatus], FORMAT(CAST(b.APPDATE as date), 'd', 'en-US') as AppDate, CONCAT(RIGHT(b.AppDate, 4),'-', b.PERMITNUMBER, '-', b.TYPE) as PermitNumber, \r\n",
                "FORMAT(CAST(b.Date as date), 'd', 'en-US') as IssueDate, RIGHT(b.APPDATE, 4) as PermitYear, p.PermitDesc as Designation\r\n",
                "from prod.gisadmin.All_Permits as b\r\n",
                "JOIN prod.gisadmin.All_Permits_Description as p\r\n",
                "ON p.[Type] = b.[TYPE]\r\n",
                "GROUP BY b.[TYPE], b.PARCELID, b.[STATUS], b.[DATE], p.PermitDesc, b.APPDATE, b.PERMITNUMBER\r\n",
                ") as g) as f\r\n",
                "ORDER BY f.PARCELID"
            ],
            "metadata": {
                "azdata_cell_guid": "81758573-ec31-4757-b385-f70d2a0913e9",
                "tags": [
                    "hide_input"
                ]
            },
            "outputs": [],
            "execution_count": null
        },
        {
            "cell_type": "code",
            "source": [
                "SELECT concat(TRIM(ParcelID), '01') as Name, FormattedLocation, BillingAddress, BillingAddress2, OwnerNameFormatted\n",
                "  FROM Assess50Kent.dbo.PrideMain\n",
                "  -- where ParcelID NOT LIKE '%000'"
            ],
            "metadata": {
                "azdata_cell_guid": "6ee59389-c39b-47d3-a2f3-835e0d7a7c50",
                "tags": []
            },
            "outputs": [],
            "execution_count": null
        },
        {
            "cell_type": "code",
            "source": [
                "-- select ParcelID, BillingAddress, BillingAddress2, FormattedLocation, OwnerNameFormatted, Owner1, Owner1FirstName, Owner1LastName\r\n",
                "-- from Assess50Kent.dbo.PrideMain\r\n",
                "-- where ParcelID NOT LIKE '%000'\r\n",
                "-- order by ParcelID\n",
                "\n",
                "select PropertyID\n",
                "from Assess50Kent.dbo.PrideMain\n",
                "where ParcelID = '7 00 11102 03 0100 001'"
            ],
            "metadata": {
                "azdata_cell_guid": "004cd4f0-e9a2-4ee9-88c9-be3404a650e2",
                "tags": [
                    "hide_input"
                ]
            },
            "outputs": [],
            "execution_count": null
        },
        {
            "cell_type": "code",
            "source": [
                "select parcelid as 'Name', Lot, SubdivisionDescription as 'Subdivision'\r\n",
                "from Assess50Kent.dbo.PrideMain\r\n",
                "\r\n",
                "select *\r\n",
                "from [Assess50Kent].dbo.[GetLegalTable](2020 , 1)"
            ],
            "metadata": {
                "azdata_cell_guid": "43ce87c0-e52c-4a86-b887-1111841a5779",
                "tags": [
                    "hide_input"
                ]
            },
            "outputs": [],
            "execution_count": null
        },
        {
            "cell_type": "code",
            "source": [
                "select *\n",
                "from Assess50Kent.dbo.Properties\n",
                "where ParcelID like '2 00 08600 01 1902%'"
            ],
            "metadata": {
                "azdata_cell_guid": "a7033d68-7ea9-4d42-b8f0-0282f32735c2",
                "tags": []
            },
            "outputs": [],
            "execution_count": null
        },
        {
            "cell_type": "code",
            "source": [
                "select d.ParcelID, l.ParcelID\n",
                "from Assess50StagedData_Kent.dbo.MGOPermitData d, Assess50StagedData_Kent.dbo.MGOPermitSewer l\n",
                "where d.ParcelID = l.ParcelID and d.ParcelID NOT LIKE '%-000'"
            ],
            "metadata": {
                "azdata_cell_guid": "48fb9b43-bc01-420d-84ca-25d9b7ceba94",
                "tags": []
            },
            "outputs": [],
            "execution_count": null
        },
        {
            "cell_type": "code",
            "source": [
                "select count(*)\n",
                "from Assess50Kent.dbo.PrideMain\n",
                "where ParcelID not like '%000'"
            ],
            "metadata": {
                "azdata_cell_guid": "867d39c4-083d-46ff-b054-6bd85f1d0634"
            },
            "outputs": [],
            "execution_count": null
        },
        {
            "cell_type": "code",
            "source": [
                "select count(ParcelID)\r\n",
                "from Assess50StagedData_Kent.dbo.MGOPermitData"
            ],
            "metadata": {
                "azdata_cell_guid": "622b0bbe-8821-4a25-b7e6-47f9dc4b0d85",
                "tags": []
            },
            "outputs": [],
            "execution_count": null
        },
        {
            "cell_type": "code",
            "source": [
                "select *\r\n",
                "from Assess50StagedData_Kent.dbo.MGOPermitSewer"
            ],
            "metadata": {
                "azdata_cell_guid": "5abcdb93-8956-417c-9165-abe570badee9"
            },
            "outputs": [],
            "execution_count": null
        },
        {
            "cell_type": "code",
            "source": [
                "SELECT *\r\n",
                "  FROM [Assess50Kent].[dbo].[Legal]\r\n",
                "  where PropertyID = '70228'"
            ],
            "metadata": {
                "azdata_cell_guid": "ed150be9-8e66-4981-9609-10d37769a2b2",
                "tags": []
            },
            "outputs": [],
            "execution_count": null
        },
        {
            "cell_type": "code",
            "source": [
                "-- SELECT concat(TRIM(ParcelID), '01') as Name\r\n",
                "--   FROM [Assess50Kent].[dbo].[Properties]\r\n",
                "--   where ParcelID NOT LIKE '%000'\r\n",
                "\r\n",
                "-- select concat(TRIM(ParcelID), '01') as Name, BillingAddress, BillingAddress2, FormattedLocation, OwnerNameFormatted, Owner1, Owner1FirstName, Owner1LastName\r\n",
                "-- from Assess50Kent.dbo.PrideMain\r\n",
                "-- where ParcelID NOT LIKE '%000'\r\n",
                "-- order by ParcelID\r\n",
                "\r\n",
                "select ParcelID, Lot, FormattedLocation\r\n",
                "from Assess50Kent.dbo.PrideMain\r\n",
                "-- 2-05-06819-03-0100\r\n",
                "-- 1-17-01900-01-0102 2-05-07718-02-5800-00101 1-00-01900-02-1000-27501\r\n",
                "-- where parcelid like '1 00 01900 02 1000%'\r\n",
                "-- where parcelid NOT LIKE '%000'\r\n",
                "order by ParcelID\r\n",
                "\r\n",
                "select *\r\n",
                "from Assess50Kent.dbo.Properties\r\n",
                "where parcelid like '1 00 01900 02 1000 275'\r\n",
                "\r\n",
                "select *\r\n",
                "from Assess50Kent.dbo.GetFormattedLocationTableByPropertyID(1, 1328, 2021, 1)\r\n",
                "\r\n",
                "-- select *\r\n",
                "-- from Assess50Kent.dbo.GetOwnersTable(2021, 1)\r\n",
                "\r\n",
                "-- select *\r\n",
                "-- from Assess50Kent.dbo.GetPropertiesTable(,)\r\n",
                "\r\n",
                "-- select *\r\n",
                "-- from Assess50Kent.dbo.GetPropertyOwnersTable(2021,1)"
            ],
            "metadata": {
                "azdata_cell_guid": "10d83be5-83ac-46f0-925c-c307664ea3b3",
                "tags": [
                    "hide_input"
                ]
            },
            "outputs": [],
            "execution_count": null
        },
        {
            "cell_type": "code",
            "source": [
                "SELECT ParcelID, Lot\n",
                "from Assess50Kent.dbo.PrideMain\n",
                "where Lot LIKE '%&%'\n",
                "-- where ParcelID = '1 17 01909 01 5400 000'\n",
                "-- '1 17 01018 01 5700 000'"
            ],
            "metadata": {
                "azdata_cell_guid": "faff1053-182c-4872-bcdc-92557f09ca72"
            },
            "outputs": [
                {
                    "output_type": "display_data",
                    "data": {
                        "text/html": "(2688 rows affected)"
                    },
                    "metadata": {}
                },
                {
                    "output_type": "display_data",
                    "data": {
                        "text/html": "Total execution time: 00:00:00.162"
                    },
                    "metadata": {}
                },
                {
                    "output_type": "execute_result",
                    "metadata": {},
                    "execution_count": 5,
                    "data": {
                        "application/vnd.dataresource+json": {
                            "schema": {
                                "fields": [
                                    {
                                        "name": "ParcelID"
                                    },
                                    {
                                        "name": "Lot"
                                    }
                                ]
                            },
                            "data": [
                                {
                                    "0": "1 00 00510 01 0200 000             ",
                                    "1": "7 & 8                         "
                                },
                                {
                                    "0": "1 00 00510 01 0600 000             ",
                                    "1": "19 & 20                       "
                                },
                                {
                                    "0": "1 00 00510 01 1000 000             ",
                                    "1": "27 & 28                       "
                                },
                                {
                                    "0": "1 00 00510 01 1300 000             ",
                                    "1": "34 & 35                       "
                                },
                                {
                                    "0": "1 00 00510 01 2000 000             ",
                                    "1": "24 & 25                       "
                                },
                                {
                                    "0": "1 00 00510 01 2200 000             ",
                                    "1": "22 & 23                       "
                                },
                                {
                                    "0": "1 00 00510 01 2300 000             ",
                                    "1": "20 & 21                       "
                                },
                                {
                                    "0": "1 00 00510 01 2800 000             ",
                                    "1": "7 & 8                         "
                                },
                                {
                                    "0": "1 00 00510 01 2900 000             ",
                                    "1": "5 & 6                         "
                                },
                                {
                                    "0": "1 00 00510 01 3700 000             ",
                                    "1": "60 & 61                       "
                                },
                                {
                                    "0": "1 00 00510 01 4300 000             ",
                                    "1": "47 & 48                       "
                                },
                                {
                                    "0": "1 00 00510 01 5300 000             ",
                                    "1": "1 & 2                         "
                                },
                                {
                                    "0": "1 00 00510 01 5800 000             ",
                                    "1": "60 & 61                       "
                                },
                                {
                                    "0": "1 00 00510 01 6200 000             ",
                                    "1": "45 & 46                       "
                                },
                                {
                                    "0": "1 00 00510 01 6400 000             ",
                                    "1": "34 & 35                       "
                                },
                                {
                                    "0": "1 00 00510 01 6900 000             ",
                                    "1": "17 & 18                       "
                                },
                                {
                                    "0": "1 00 00510 01 7300 000             ",
                                    "1": "10 & 11                       "
                                },
                                {
                                    "0": "1 00 00510 01 7500 000             ",
                                    "1": "7 & 8                         "
                                },
                                {
                                    "0": "1 00 00510 01 7600 000             ",
                                    "1": "5 & 6                         "
                                },
                                {
                                    "0": "1 00 00510 02 0100 000             ",
                                    "1": "3 & 4                         "
                                },
                                {
                                    "0": "1 00 00510 02 0200 000             ",
                                    "1": "1 & 2                         "
                                },
                                {
                                    "0": "1 00 00510 02 0300 000             ",
                                    "1": "66 & 67                       "
                                },
                                {
                                    "0": "1 00 00510 02 0600 000             ",
                                    "1": "62 & 63                       "
                                },
                                {
                                    "0": "1 00 00510 02 3800 000             ",
                                    "1": "12 & PT. 13                   "
                                },
                                {
                                    "0": "1 00 00510 02 4400 000             ",
                                    "1": "18 & 19                       "
                                },
                                {
                                    "0": "1 00 00510 02 4500 000             ",
                                    "1": "20, 25 & 26                   "
                                },
                                {
                                    "0": "1 00 00510 02 4600 000             ",
                                    "1": "24 & PT. 21                   "
                                },
                                {
                                    "0": "1 00 00510 02 5000 000             ",
                                    "1": "5 & 6                         "
                                },
                                {
                                    "0": "1 00 00510 02 5100 000             ",
                                    "1": "7 & 8                         "
                                },
                                {
                                    "0": "1 00 00510 02 5300 000             ",
                                    "1": "11 & 12                       "
                                },
                                {
                                    "0": "1 00 00510 02 5600 000             ",
                                    "1": "113 & 114                     "
                                },
                                {
                                    "0": "1 00 00510 02 5800 000             ",
                                    "1": "22 & PT. 23                   "
                                },
                                {
                                    "0": "1 00 00510 02 5900 000             ",
                                    "1": "27 & 28                       "
                                },
                                {
                                    "0": "1 00 00514 01 0200 000             ",
                                    "1": "62 & 63                       "
                                },
                                {
                                    "0": "1 00 00920 01 1500 000             ",
                                    "1": "1 & 2                         "
                                },
                                {
                                    "0": "1 00 00920 01 1700 000             ",
                                    "1": "1 & 2                         "
                                },
                                {
                                    "0": "1 00 01808 01 1100 000             ",
                                    "1": "132,133 & PT. 121-123         "
                                },
                                {
                                    "0": "1 00 01808 01 2100 000             ",
                                    "1": "110 & 111                     "
                                },
                                {
                                    "0": "1 00 01808 01 2500 000             ",
                                    "1": "92 & 93                       "
                                },
                                {
                                    "0": "1 00 01808 01 3000 000             ",
                                    "1": "73 & PTS. 70-71-72-74         "
                                },
                                {
                                    "0": "1 00 01808 01 3100 000             ",
                                    "1": "75 & W.1/2 74-70-71-72        "
                                },
                                {
                                    "0": "1 00 01808 01 3402 000             ",
                                    "1": "79 & PT. OF 80                "
                                },
                                {
                                    "0": "1 00 01808 01 3700 000             ",
                                    "1": "59&60 PT.OF 54,55,56&58       "
                                },
                                {
                                    "0": "1 00 01808 01 3800 000             ",
                                    "1": "PT. OF 61 & 62                "
                                },
                                {
                                    "0": "1 00 01808 01 3900 000             ",
                                    "1": "PTS. 61 & 62                  "
                                },
                                {
                                    "0": "1 00 01808 01 4000 000             ",
                                    "1": "68,69 & PT. 63,64,67          "
                                },
                                {
                                    "0": "1 00 01808 01 4100 000             ",
                                    "1": "65,66 & PTS 63,64,67          "
                                },
                                {
                                    "0": "1 00 01808 01 4302 000             ",
                                    "1": "PT 197, 198 & 201             "
                                },
                                {
                                    "0": "1 00 01808 01 4400 000             ",
                                    "1": "PT. OF 196&197                "
                                },
                                {
                                    "0": "1 00 01808 01 4401 000             ",
                                    "1": "195 PT. 194 & 196             "
                                },
                                {
                                    "0": "1 00 01808 01 4800 000             ",
                                    "1": "183 & 184                     "
                                },
                                {
                                    "0": "1 00 01808 01 6000 000             ",
                                    "1": "PT. OF 163 & 164              "
                                },
                                {
                                    "0": "1 00 01808 01 6300 000             ",
                                    "1": "160 & 161                     "
                                },
                                {
                                    "0": "1 00 01808 01 6400 000             ",
                                    "1": "147,148&PT.146&149            "
                                },
                                {
                                    "0": "1 00 01808 01 6500 000             ",
                                    "1": "143, 144,145&PT.146&149       "
                                },
                                {
                                    "0": "1 00 01808 01 6800 000             ",
                                    "1": "151 & 152                     "
                                },
                                {
                                    "0": "1 00 01808 01 7000 000             ",
                                    "1": "154 & 155                     "
                                },
                                {
                                    "0": "1 00 01808 01 7600 000             ",
                                    "1": "383, 384 & PT. 385            "
                                },
                                {
                                    "0": "1 00 01808 01 8100 000             ",
                                    "1": "363 THRU 367 & PT 368         "
                                },
                                {
                                    "0": "1 00 01808 01 8200 000             ",
                                    "1": "369, PTS. 368 & 370           "
                                },
                                {
                                    "0": "1 00 01808 01 8300 000             ",
                                    "1": "371 & PT. 372 & 370           "
                                },
                                {
                                    "0": "1 00 01808 01 8700 000             ",
                                    "1": "348 & PT. OF 349              "
                                },
                                {
                                    "0": "1 00 01808 01 9100 000             ",
                                    "1": "PT. OF 353 & 354              "
                                },
                                {
                                    "0": "1 00 01808 01 9400 000             ",
                                    "1": "PT. 357 & 356                 "
                                },
                                {
                                    "0": "1 00 01808 02 0300 000             ",
                                    "1": "PTS 47 48 & 51                "
                                },
                                {
                                    "0": "1 00 01808 02 0502 000             ",
                                    "1": "PT. OF LOTS 38,39,40,42 & ALL "
                                },
                                {
                                    "0": "1 00 01808 02 0900 000             ",
                                    "1": "PT OF LOTS 204-206,208 & ALL L"
                                },
                                {
                                    "0": "1 00 01808 02 0901 000             ",
                                    "1": "PT. LOTS 204,205,206,208 & ALL"
                                },
                                {
                                    "0": "1 00 01808 02 1100 000             ",
                                    "1": "211 & 212                     "
                                },
                                {
                                    "0": "1 00 01808 02 1500 000             ",
                                    "1": "215 & 216                     "
                                },
                                {
                                    "0": "1 00 01808 02 1600 000             ",
                                    "1": "340-339 & PT.OF 341           "
                                },
                                {
                                    "0": "1 00 01808 02 1900 000             ",
                                    "1": "338 & PT. 341 & 337           "
                                },
                                {
                                    "0": "1 00 01808 02 2600 000             ",
                                    "1": "328 & 329                     "
                                },
                                {
                                    "0": "1 00 01808 02 3800 000             ",
                                    "1": "304 & 305                     "
                                },
                                {
                                    "0": "1 00 01808 02 5201 000             ",
                                    "1": "229 & 230                     "
                                },
                                {
                                    "0": "1 00 01808 02 5800 000             ",
                                    "1": "32 & PT.OF 31-35-36-37        "
                                },
                                {
                                    "0": "1 00 01808 02 5801 000             ",
                                    "1": "30 & PT.OF 31                 "
                                },
                                {
                                    "0": "1 00 01808 02 5901 000             ",
                                    "1": "23-24&PT25-28-29              "
                                },
                                {
                                    "0": "1 00 01900 01 1900 000             ",
                                    "1": "5 & 6                         "
                                },
                                {
                                    "0": "1 00 01900 01 4400 000             ",
                                    "1": "9 & 10                        "
                                },
                                {
                                    "0": "1 00 01900 01 4800 000             ",
                                    "1": "7 & 8                         "
                                },
                                {
                                    "0": "1 00 01900 02 2700 000             ",
                                    "1": "26 & 27                       "
                                },
                                {
                                    "0": "1 00 01900 02 2800 000             ",
                                    "1": "24 & 25                       "
                                },
                                {
                                    "0": "1 00 01900 02 2900 000             ",
                                    "1": "22 & 23                       "
                                },
                                {
                                    "0": "1 00 01900 02 3800 000             ",
                                    "1": "6 & 7                         "
                                },
                                {
                                    "0": "1 00 01900 02 4000 000             ",
                                    "1": "2 & 3                         "
                                },
                                {
                                    "0": "1 00 01900 02 4200 000             ",
                                    "1": "35-38 & PT. 39                "
                                },
                                {
                                    "0": "1 00 01900 02 4300 000             ",
                                    "1": "PT. OF 39 & 40                "
                                },
                                {
                                    "0": "1 00 01900 02 4400 000             ",
                                    "1": "41, PT. 40 & 42               "
                                },
                                {
                                    "0": "1 00 01900 02 4500 000             ",
                                    "1": "43, PT. OF 42 & 44            "
                                },
                                {
                                    "0": "1 00 01900 02 4600 000             ",
                                    "1": "44 & 45 & PT. 46              "
                                },
                                {
                                    "0": "1 00 01900 02 4700 000             ",
                                    "1": "47 & PT. OF 46 & 48           "
                                },
                                {
                                    "0": "1 00 01900 02 4800 000             ",
                                    "1": "49 & PT. 48                   "
                                },
                                {
                                    "0": "1 00 01900 02 4900 000             ",
                                    "1": "50 & PT. 51                   "
                                },
                                {
                                    "0": "1 00 01900 02 5000 000             ",
                                    "1": "52 & S. 25' OF 51             "
                                },
                                {
                                    "0": "1 00 01900 02 5100 000             ",
                                    "1": "1&2                           "
                                },
                                {
                                    "0": "1 00 01900 02 5500 000             ",
                                    "1": "5 & 6                         "
                                },
                                {
                                    "0": "1 00 01900 02 5600 000             ",
                                    "1": "7 & 8                         "
                                },
                                {
                                    "0": "1 00 01900 02 5700 000             ",
                                    "1": "9 & 10                        "
                                },
                                {
                                    "0": "1 00 01900 02 6000 000             ",
                                    "1": "15 & PT. 14 & 16              "
                                },
                                {
                                    "0": "1 00 01900 02 6100 000             ",
                                    "1": "PT. 16 & 17                   "
                                },
                                {
                                    "0": "1 00 01900 02 6200 000             ",
                                    "1": "18 & PT. 17                   "
                                },
                                {
                                    "0": "1 00 01906 01 0300 000             ",
                                    "1": "235 & 236                     "
                                },
                                {
                                    "0": "1 00 01906 01 0400 000             ",
                                    "1": "237 & 238                     "
                                },
                                {
                                    "0": "1 00 01910 02 0700 000             ",
                                    "1": "249 & 250                     "
                                },
                                {
                                    "0": "1 00 01910 02 0900 000             ",
                                    "1": "254 & 255                     "
                                },
                                {
                                    "0": "1 00 01913 01 0400 000             ",
                                    "1": "18, 19, 40 & 41               "
                                },
                                {
                                    "0": "1 00 01913 01 0700 000             ",
                                    "1": "13,14,35,&36                  "
                                },
                                {
                                    "0": "1 00 01913 01 0800 000             ",
                                    "1": "11 & 12                       "
                                },
                                {
                                    "0": "1 00 01913 01 3000 000             ",
                                    "1": "22-44, PT.OF 21 & 43          "
                                },
                                {
                                    "0": "1 00 01913 01 3200 000             ",
                                    "1": "8 & 20                        "
                                },
                                {
                                    "0": "1 00 01913 01 4600 000             ",
                                    "1": "7 & 8                         "
                                },
                                {
                                    "0": "1 00 01913 01 5100 000             ",
                                    "1": "13 & 14                       "
                                },
                                {
                                    "0": "1 00 01913 01 5200 000             ",
                                    "1": "15 & 1/2 OF 16                "
                                },
                                {
                                    "0": "1 00 01913 01 5300 000             ",
                                    "1": "17 & PT. 16                   "
                                },
                                {
                                    "0": "1 00 01913 01 5400 000             ",
                                    "1": "18 & 19                       "
                                },
                                {
                                    "0": "1 00 01913 01 5500 000             ",
                                    "1": "13 & 14                       "
                                },
                                {
                                    "0": "1 00 01913 01 5700 000             ",
                                    "1": "16 & 1/2 OF 17                "
                                },
                                {
                                    "0": "1 00 01913 01 5900 000             ",
                                    "1": "18 & S. 1/2 17                "
                                },
                                {
                                    "0": "1 00 01913 02 2400 000             ",
                                    "1": "PT. 15 & 19                   "
                                },
                                {
                                    "0": "1 00 01913 02 2500 000             ",
                                    "1": "20 & 5' OF 19                 "
                                },
                                {
                                    "0": "1 00 01913 02 3900 000             ",
                                    "1": "11 & 12                       "
                                },
                                {
                                    "0": "1 00 02000 01 1300 000             ",
                                    "1": "47 & 48                       "
                                },
                                {
                                    "0": "1 00 02800 01 0700 000             ",
                                    "1": "17 & 18                       "
                                },
                                {
                                    "0": "1 00 02800 01 0900 000             ",
                                    "1": "14 & 15                       "
                                },
                                {
                                    "0": "1 00 02800 01 1200 000             ",
                                    "1": "11 & PT. 10                   "
                                },
                                {
                                    "0": "1 00 02800 01 1400 000             ",
                                    "1": "8 & 9                         "
                                },
                                {
                                    "0": "1 00 02800 01 1600 000             ",
                                    "1": "6 & 7                         "
                                },
                                {
                                    "0": "1 00 02800 01 1700 000             ",
                                    "1": "4 & 5                         "
                                },
                                {
                                    "0": "1 00 02803 01 2001 000             ",
                                    "1": "PT.OF 12 & 13                 "
                                },
                                {
                                    "0": "1 00 02803 01 2700 000             ",
                                    "1": "2 & PT. 1                     "
                                },
                                {
                                    "0": "1 00 02804 01 0700 000             ",
                                    "1": "6 & PT. OF 7                  "
                                },
                                {
                                    "0": "1 00 03701 01 6700 000             ",
                                    "1": "101 & PT. 100                 "
                                },
                                {
                                    "0": "1 04 01807 01 3300 000             ",
                                    "1": "7 & PT. OF 8                  "
                                },
                                {
                                    "0": "1 04 01807 01 3600 000             ",
                                    "1": "PT. 15 & 16                   "
                                },
                                {
                                    "0": "1 04 01807 01 3700 000             ",
                                    "1": "PT. 14 & 15                   "
                                },
                                {
                                    "0": "1 04 01807 01 3800 000             ",
                                    "1": "PT. 13 & 14                   "
                                },
                                {
                                    "0": "1 04 01807 01 3900 000             ",
                                    "1": "12 & PT. 13                   "
                                },
                                {
                                    "0": "1 04 01807 01 4800 000             ",
                                    "1": "8 & PT. 9                     "
                                },
                                {
                                    "0": "1 04 01807 01 4900 000             ",
                                    "1": "25 & 26                       "
                                },
                                {
                                    "0": "1 04 01807 01 5300 000             ",
                                    "1": "20 & 21                       "
                                },
                                {
                                    "0": "1 04 01807 01 5500 000             ",
                                    "1": "17 & 18                       "
                                },
                                {
                                    "0": "1 04 01807 01 6200 000             ",
                                    "1": "1 & 2                         "
                                },
                                {
                                    "0": "1 04 01807 02 2000 000             ",
                                    "1": "5 & 6                         "
                                },
                                {
                                    "0": "1 04 01807 03 0200 000             ",
                                    "1": "PT. OF 1, 2 & PT OF 3         "
                                },
                                {
                                    "0": "1 04 01807 03 0500 000             ",
                                    "1": "5 & 6                         "
                                },
                                {
                                    "0": "1 04 01807 03 0601 000             ",
                                    "1": "4 PT OF 2 & 3                 "
                                },
                                {
                                    "0": "1 17 00920 01 1800 000             ",
                                    "1": "126-139 & 159-167             "
                                },
                                {
                                    "0": "1 17 00920 02 0200 000             ",
                                    "1": "11 & PT. OF 10                "
                                },
                                {
                                    "0": "1 17 00920 02 0300 000             ",
                                    "1": "9 & PT. 10                    "
                                },
                                {
                                    "0": "1 17 00920 02 0800 000             ",
                                    "1": "1 & 2                         "
                                },
                                {
                                    "0": "1 17 00920 02 1400 000             ",
                                    "1": "5 & 6                         "
                                },
                                {
                                    "0": "1 17 00920 02 1600 000             ",
                                    "1": "8 & E. 29 1/4 FT. OF 9        "
                                },
                                {
                                    "0": "1 17 00920 02 1700 000             ",
                                    "1": "PT. 8 & 9                     "
                                },
                                {
                                    "0": "1 17 00920 02 1800 000             ",
                                    "1": "9 & PT. 7 & 8                 "
                                },
                                {
                                    "0": "1 17 00920 02 1900 000             ",
                                    "1": "PT. OF 6 & 7                  "
                                },
                                {
                                    "0": "1 17 00920 02 2000 000             ",
                                    "1": "5 & PT. OF 6                  "
                                },
                                {
                                    "0": "1 17 00920 02 2100 000             ",
                                    "1": "3 & 4                         "
                                },
                                {
                                    "0": "1 17 00920 02 2200 000             ",
                                    "1": "1 & 2                         "
                                },
                                {
                                    "0": "1 17 00920 02 3300 000             ",
                                    "1": "1 & 2                         "
                                },
                                {
                                    "0": "1 17 01013 02 2400 000             ",
                                    "1": "5 & PT. 6                     "
                                },
                                {
                                    "0": "1 17 01013 02 2500 000             ",
                                    "1": "7 & PT. 6                     "
                                },
                                {
                                    "0": "1 17 01013 02 2600 000             ",
                                    "1": "8 & 9                         "
                                },
                                {
                                    "0": "1 17 01013 03 0300 000             ",
                                    "1": "14 & 15                       "
                                },
                                {
                                    "0": "1 17 01013 03 0501 000             ",
                                    "1": "PT.2&3                        "
                                },
                                {
                                    "0": "1 17 01013 03 0600 000             ",
                                    "1": "2 & 3 & PT. 1 & 4             "
                                },
                                {
                                    "0": "1 17 01013 03 0601 000             ",
                                    "1": "PT. 1 & 4                     "
                                },
                                {
                                    "0": "1 17 01013 04 1000 000             ",
                                    "1": "20 & PT. 21                   "
                                },
                                {
                                    "0": "1 17 01013 04 1201 000             ",
                                    "1": "43 & 44                       "
                                },
                                {
                                    "0": "1 17 01013 04 1202 000             ",
                                    "1": "43 & 44                       "
                                },
                                {
                                    "0": "1 17 01013 04 1600 000             ",
                                    "1": "13 & PT. 12                   "
                                },
                                {
                                    "0": "1 17 01013 04 1700 000             ",
                                    "1": "11 & PT. OF 12                "
                                },
                                {
                                    "0": "1 17 01013 04 2600 000             ",
                                    "1": "32,33 & N. 1/2 OF 34          "
                                },
                                {
                                    "0": "1 17 01013 04 2700 000             ",
                                    "1": "35, 36 & PT. 34               "
                                },
                                {
                                    "0": "1 17 01013 04 3200 000             ",
                                    "1": "PT. 49 & 50                   "
                                },
                                {
                                    "0": "1 17 01013 04 3300 000             ",
                                    "1": "PT. 49 & 50                   "
                                },
                                {
                                    "0": "1 17 01013 04 3400 000             ",
                                    "1": "51 & 52                       "
                                },
                                {
                                    "0": "1 17 01014 01 0500 000             ",
                                    "1": "4 & PT. 5                     "
                                },
                                {
                                    "0": "1 17 01014 01 0700 000             ",
                                    "1": "6 & PT. OF 5                  "
                                },
                                {
                                    "0": "1 17 01014 01 3100 000             ",
                                    "1": "81 & PT. OF 80                "
                                },
                                {
                                    "0": "1 17 01014 01 3200 000             ",
                                    "1": "80 & PT. 79                   "
                                },
                                {
                                    "0": "1 17 01014 01 3700 000             ",
                                    "1": "PT. OF 75 & 76                "
                                },
                                {
                                    "0": "1 17 01014 01 3800 000             ",
                                    "1": "74 & PT. OF 75                "
                                },
                                {
                                    "0": "1 17 01014 03 0300 000             ",
                                    "1": "15 & PT. 14                   "
                                },
                                {
                                    "0": "1 17 01014 03 0400 000             ",
                                    "1": "PT. OF 13 & 14                "
                                },
                                {
                                    "0": "1 17 01014 03 0600 000             ",
                                    "1": "12 & PT. 13                   "
                                },
                                {
                                    "0": "1 17 01014 04 2400 000             ",
                                    "1": "23B & 24                      "
                                },
                                {
                                    "0": "1 17 01017 01 1200 000             ",
                                    "1": "2 & 4                         "
                                },
                                {
                                    "0": "1 17 01017 01 5900 000             ",
                                    "1": "2 & 3                         "
                                },
                                {
                                    "0": "1 17 01017 01 8000 000             ",
                                    "1": "2 & PT. 3                     "
                                },
                                {
                                    "0": "1 17 01017 01 8100 000             ",
                                    "1": "PT. OF 3 & 4                  "
                                },
                                {
                                    "0": "1 17 01017 01 8200 000             ",
                                    "1": "5 & PT. 4                     "
                                },
                                {
                                    "0": "1 17 01017 01 8300 000             ",
                                    "1": "6 & 7                         "
                                },
                                {
                                    "0": "1 17 01017 01 8400 000             ",
                                    "1": "8 & 9                         "
                                },
                                {
                                    "0": "1 17 01017 03 1100 000             ",
                                    "1": "420 & 422                     "
                                },
                                {
                                    "0": "1 17 01017 04 5600 000             ",
                                    "1": "1 & 2                         "
                                },
                                {
                                    "0": "1 17 01017 06 1200 000             ",
                                    "1": "41 & 42                       "
                                },
                                {
                                    "0": "1 17 01018 01 5700 000             ",
                                    "1": "61 & PT. 60                   "
                                },
                                {
                                    "0": "1 17 01018 01 5800 000             ",
                                    "1": "59 & PT. OF 60                "
                                },
                                {
                                    "0": "1 17 01808 02 0101 000             ",
                                    "1": "PT. 21 & 22                   "
                                },
                                {
                                    "0": "1 17 01808 02 0200 000             ",
                                    "1": "18-17 & PT.OF 19              "
                                },
                                {
                                    "0": "1 17 01808 02 0500 000             ",
                                    "1": "15-16 & PTS. 12-14            "
                                },
                                {
                                    "0": "1 17 01808 02 0600 000             ",
                                    "1": "261 & PT. 260                 "
                                },
                                {
                                    "0": "1 17 01808 02 0700 000             ",
                                    "1": "259 & 1/2 OF 260              "
                                },
                                {
                                    "0": "1 17 01808 02 1600 000             ",
                                    "1": "246&PT.247-249-250            "
                                },
                                {
                                    "0": "1 17 01808 02 1800 000             ",
                                    "1": "251 & PT.246-250              "
                                },
                                {
                                    "0": "1 17 01808 02 1900 000             ",
                                    "1": "311-PT.OF 312 & 316           "
                                },
                                {
                                    "0": "1 17 01808 02 2000 000             ",
                                    "1": "306,308,309,310 & PART OF 307 "
                                },
                                {
                                    "0": "1 17 01808 02 2300 000             ",
                                    "1": "318 & PT. OF 319              "
                                },
                                {
                                    "0": "1 17 01808 02 2400 000             ",
                                    "1": "314, PT.OF 313 & 315          "
                                },
                                {
                                    "0": "1 17 01808 02 2401 000             ",
                                    "1": "PT.OF 313-315 & 316           "
                                },
                                {
                                    "0": "1 17 01808 02 2402 000             ",
                                    "1": "PT.OF 312-313 & 316           "
                                },
                                {
                                    "0": "1 17 01808 02 2600 000             ",
                                    "1": "23-24&PT25-28-29              "
                                },
                                {
                                    "0": "1 17 01808 04 0200 000             ",
                                    "1": "356 & PT. OF 355 & 357        "
                                },
                                {
                                    "0": "1 17 01808 04 0600 000             ",
                                    "1": "340-339 & PT.OF 341           "
                                },
                                {
                                    "0": "1 17 01808 04 0700 000             ",
                                    "1": "PT. 357 & 356                 "
                                },
                                {
                                    "0": "1 17 01905 01 1602 000             ",
                                    "1": "A & B                         "
                                },
                                {
                                    "0": "1 17 01905 01 2300 000             ",
                                    "1": "6,7 & PT. OF 8                "
                                },
                                {
                                    "0": "1 17 01905 01 3100 000             ",
                                    "1": "292 & 293                     "
                                },
                                {
                                    "0": "1 17 01905 01 3300 000             ",
                                    "1": "289 & 290                     "
                                },
                                {
                                    "0": "1 17 01905 01 4000 000             ",
                                    "1": "73 & PT. 75                   "
                                },
                                {
                                    "0": "1 17 01905 01 4200 000             ",
                                    "1": "77 & PT. 75                   "
                                },
                                {
                                    "0": "1 17 01905 01 4900 000             ",
                                    "1": "84 & PT. OF 86                "
                                },
                                {
                                    "0": "1 17 01905 01 5000 000             ",
                                    "1": "83 & PT. 85                   "
                                },
                                {
                                    "0": "1 17 01905 01 5300 000             ",
                                    "1": "88 & PT. 86                   "
                                },
                                {
                                    "0": "1 17 01905 01 6200 000             ",
                                    "1": "147 & 148                     "
                                },
                                {
                                    "0": "1 17 01905 02 0100 000             ",
                                    "1": "63 & PT. OF 70                "
                                },
                                {
                                    "0": "1 17 01905 02 0600 000             ",
                                    "1": "64 & 65                       "
                                },
                                {
                                    "0": "1 17 01905 02 1000 000             ",
                                    "1": "50 & PT. OF 49                "
                                },
                                {
                                    "0": "1 17 01905 02 1100 000             ",
                                    "1": "48 & PT. 49                   "
                                },
                                {
                                    "0": "1 17 01905 02 2300 000             ",
                                    "1": "33 & PT. 32                   "
                                },
                                {
                                    "0": "1 17 01905 02 3100 000             ",
                                    "1": "87 & PT.OF 85                 "
                                },
                                {
                                    "0": "1 17 01905 02 3200 000             ",
                                    "1": "89 & 91                       "
                                },
                                {
                                    "0": "1 17 01905 02 4200 000             ",
                                    "1": "39 & 40                       "
                                },
                                {
                                    "0": "1 17 01905 02 4500 000             ",
                                    "1": "90 & 1/2 OF 111               "
                                },
                                {
                                    "0": "1 17 01905 02 4700 000             ",
                                    "1": "110 & PT. 111                 "
                                },
                                {
                                    "0": "1 17 01905 02 4800 000             ",
                                    "1": "108 & 109                     "
                                },
                                {
                                    "0": "1 17 01905 02 5200 000             ",
                                    "1": "98&100                        "
                                },
                                {
                                    "0": "1 17 01905 02 5700 000             ",
                                    "1": "97 & PT. 99                   "
                                },
                                {
                                    "0": "1 17 01905 02 5800 000             ",
                                    "1": "101 & 102 & PT. 99            "
                                },
                                {
                                    "0": "1 17 01905 03 0200 000             ",
                                    "1": "12 & 50' OF 11                "
                                },
                                {
                                    "0": "1 17 01905 03 0300 000             ",
                                    "1": "10 & PT. 11                   "
                                },
                                {
                                    "0": "1 17 01905 03 1700 000             ",
                                    "1": "19 & PT. OF 18                "
                                },
                                {
                                    "0": "1 17 01905 03 2600 000             ",
                                    "1": "21 & PT. 20                   "
                                },
                                {
                                    "0": "1 17 01905 03 2700 000             ",
                                    "1": "19 & PT. 20                   "
                                },
                                {
                                    "0": "1 17 01905 03 3000 000             ",
                                    "1": "66 & 39                       "
                                },
                                {
                                    "0": "1 17 01905 03 3100 000             ",
                                    "1": "37 & 38                       "
                                },
                                {
                                    "0": "1 17 01905 03 3700 000             ",
                                    "1": "28 & 29                       "
                                },
                                {
                                    "0": "1 17 01905 03 5100 000             ",
                                    "1": "22 & 23                       "
                                },
                                {
                                    "0": "1 17 01905 04 0300 000             ",
                                    "1": "PT. 17 & 18                   "
                                },
                                {
                                    "0": "1 17 01905 04 1000 000             ",
                                    "1": "23 & 22                       "
                                },
                                {
                                    "0": "1 17 01905 04 1001 000             ",
                                    "1": "PT. 22 & PT. 23               "
                                },
                                {
                                    "0": "1 17 01905 04 1400 000             ",
                                    "1": "PT. 28 & 29                   "
                                },
                                {
                                    "0": "1 17 01905 04 1800 000             ",
                                    "1": "PT. 30 & 31                   "
                                },
                                {
                                    "0": "1 17 01905 04 2200 000             ",
                                    "1": "PT. 31 & 32                   "
                                },
                                {
                                    "0": "1 17 01905 04 2300 000             ",
                                    "1": "PT. 31 & 32                   "
                                },
                                {
                                    "0": "1 17 01905 04 2400 000             ",
                                    "1": "PT. 31 & 32                   "
                                },
                                {
                                    "0": "1 17 01905 04 2800 000             ",
                                    "1": "PT. OF 49 & 50                "
                                },
                                {
                                    "0": "1 17 01905 04 2900 000             ",
                                    "1": "49 & PT. 49                   "
                                },
                                {
                                    "0": "1 17 01905 04 3000 000             ",
                                    "1": "PART 52 & 53                  "
                                },
                                {
                                    "0": "1 17 01905 04 3100 000             ",
                                    "1": "77 & PT. 75                   "
                                },
                                {
                                    "0": "1 17 01906 01 0600 000             ",
                                    "1": "PT 1 & 2 & 3                  "
                                },
                                {
                                    "0": "1 17 01909 01 2200 000             ",
                                    "1": "106 & PT. OF 105              "
                                },
                                {
                                    "0": "1 17 01909 01 2400 000             ",
                                    "1": "119 & PT. OF 120              "
                                },
                                {
                                    "0": "1 17 01909 01 2900 000             ",
                                    "1": "144 & 155                     "
                                },
                                {
                                    "0": "1 17 01909 01 3400 000             ",
                                    "1": "PT. 159 & 160                 "
                                },
                                {
                                    "0": "1 17 01909 01 3500 000             ",
                                    "1": "PT. 159 & 160                 "
                                },
                                {
                                    "0": "1 17 01910 01 0900 000             ",
                                    "1": "6 & 7                         "
                                },
                                {
                                    "0": "1 17 01910 01 1500 000             ",
                                    "1": "27 & 28                       "
                                },
                                {
                                    "0": "1 17 01910 01 5300 000             ",
                                    "1": "16 & PT. 15                   "
                                },
                                {
                                    "0": "1 17 01910 01 7600 000             ",
                                    "1": "PT. OF 246 & 247              "
                                },
                                {
                                    "0": "1 17 01910 01 7700 000             ",
                                    "1": "248 & 10' OF 247              "
                                },
                                {
                                    "0": "1 17 01910 02 3200 000             ",
                                    "1": "12 & PT. 13                   "
                                },
                                {
                                    "0": "1 17 01910 02 3900 000             ",
                                    "1": "19 & PT. OF 18                "
                                },
                                {
                                    "0": "1 17 01910 02 4500 000             ",
                                    "1": "PT. 24 & PT. 25               "
                                },
                                {
                                    "0": "2 00 05500 01 1006 000             ",
                                    "1": "6 & 7                         "
                                },
                                {
                                    "0": "2 00 05503 01 0400 000             ",
                                    "1": "3 & 4                         "
                                },
                                {
                                    "0": "2 00 05503 01 0700 000             ",
                                    "1": "7 & PT. OF 6                  "
                                },
                                {
                                    "0": "2 00 05620 01 0800 000             ",
                                    "1": "2 & PT. OF 3                  "
                                },
                                {
                                    "0": "2 00 05620 01 1000 000             ",
                                    "1": "38 & PT. 37                   "
                                },
                                {
                                    "0": "2 00 05620 01 1300 000             ",
                                    "1": "PT. OF 35 & 36                "
                                },
                                {
                                    "0": "2 00 05620 01 1400 000             ",
                                    "1": "34 & PT. OF 35                "
                                },
                                {
                                    "0": "2 00 05701 01 2600 000             ",
                                    "1": "25 & 26                       "
                                },
                                {
                                    "0": "2 00 05702 01 0100 000             ",
                                    "1": "34-36 & PT. 37 & 8            "
                                },
                                {
                                    "0": "2 00 05702 01 0500 000             ",
                                    "1": "24 & 25                       "
                                },
                                {
                                    "0": "2 00 05702 01 0600 000             ",
                                    "1": "22 & 23                       "
                                },
                                {
                                    "0": "2 00 05702 01 1400 000             ",
                                    "1": "T-6, T-7, & T-8               "
                                },
                                {
                                    "0": "2 00 05702 01 1600 000             ",
                                    "1": "T-4 & T-5                     "
                                },
                                {
                                    "0": "2 00 05702 01 2000 000             ",
                                    "1": "PT. 37 & 38                   "
                                },
                                {
                                    "0": "2 00 05702 01 2100 000             ",
                                    "1": "PT. 37 & 38                   "
                                },
                                {
                                    "0": "2 00 05702 01 2400 000             ",
                                    "1": "73 & PT. 72, 74, 88-90        "
                                },
                                {
                                    "0": "2 00 05702 01 2600 000             ",
                                    "1": "69 & 25' OF 70                "
                                },
                                {
                                    "0": "2 00 05702 01 2900 000             ",
                                    "1": "64 & PT. 63                   "
                                },
                                {
                                    "0": "2 00 05702 01 3000 000             ",
                                    "1": "62 & PT. OF 63                "
                                },
                                {
                                    "0": "2 00 05702 01 3300 000             ",
                                    "1": "PT. 59,60,75 & 76             "
                                },
                                {
                                    "0": "2 00 05702 01 3400 000             ",
                                    "1": "LOT 75 & 76                   "
                                },
                                {
                                    "0": "2 00 05702 01 4100 000             ",
                                    "1": "66-68,78-84,&PT. 85-88        "
                                },
                                {
                                    "0": "2 00 05702 02 0700 000             ",
                                    "1": "50 & 15' OF 51                "
                                },
                                {
                                    "0": "2 00 05702 02 3600 000             ",
                                    "1": "52 & 54                       "
                                },
                                {
                                    "0": "2 00 05702 02 4000 000             ",
                                    "1": "1 & 2                         "
                                },
                                {
                                    "0": "2 00 06600 01 0500 000             ",
                                    "1": "3 & 4                         "
                                },
                                {
                                    "0": "2 00 06600 02 0700 000             ",
                                    "1": "1,2 & 3                       "
                                },
                                {
                                    "0": "2 00 06600 02 1900 000             ",
                                    "1": "11, 12, 13 & PT. OF 10        "
                                },
                                {
                                    "0": "2 00 06603 03 0100 000             ",
                                    "1": "12 & PT. OF 1                 "
                                },
                                {
                                    "0": "2 00 06603 03 0600 000             ",
                                    "1": "6 & PT. OF 1                  "
                                },
                                {
                                    "0": "2 00 06700 01 1900 000             ",
                                    "1": "174 & 175                     "
                                },
                                {
                                    "0": "2 00 06700 01 2000 000             ",
                                    "1": "142, 172 & 173                "
                                },
                                {
                                    "0": "2 00 06700 01 2500 000             ",
                                    "1": "147 & 148                     "
                                },
                                {
                                    "0": "2 00 06717 01 0700 000             ",
                                    "1": "37-39 & PT. 40-46             "
                                },
                                {
                                    "0": "2 00 06717 01 0800 000             ",
                                    "1": "34-36 & PT. 33                "
                                },
                                {
                                    "0": "2 00 06717 01 1000 000             ",
                                    "1": "27-31 & PT. 32                "
                                },
                                {
                                    "0": "2 00 07500 02 2100 000             ",
                                    "1": "4 & 5                         "
                                },
                                {
                                    "0": "2 00 07500 02 3700 000             ",
                                    "1": "2 & 3                         "
                                },
                                {
                                    "0": "2 00 07500 02 3900 000             ",
                                    "1": "6 & 7                         "
                                },
                                {
                                    "0": "2 00 07500 02 4100 000             ",
                                    "1": "9 & PT. 9A                    "
                                },
                                {
                                    "0": "2 00 07502 01 0100 000             ",
                                    "1": "PT. OF LOTS 3 & 4             "
                                },
                                {
                                    "0": "2 00 07502 01 0114 000             ",
                                    "1": "PT LOT 4 & PT LOT 1           "
                                },
                                {
                                    "0": "2 00 07502 01 3700 000             ",
                                    "1": "2,3 & 4                       "
                                },
                                {
                                    "0": "2 00 07605 01 0400 000             ",
                                    "1": "22 & PT. 21 & 23              "
                                },
                                {
                                    "0": "2 00 07605 01 0500 000             ",
                                    "1": "24-26 & PT. 23                "
                                },
                                {
                                    "0": "2 00 07605 01 0600 000             ",
                                    "1": "2, 3 & PT. 4                  "
                                },
                                {
                                    "0": "2 00 07605 01 0700 000             ",
                                    "1": "5-9 & PT. 4                   "
                                },
                                {
                                    "0": "2 00 07610 01 2300 000             ",
                                    "1": "53 & 32 & PT. 31 & 52         "
                                },
                                {
                                    "0": "2 00 07610 01 2400 000             ",
                                    "1": "51 & PT. OF 31,32,52          "
                                },
                                {
                                    "0": "2 00 07610 01 2500 000             ",
                                    "1": "50 & PT. 31                   "
                                },
                                {
                                    "0": "2 00 07611 02 0600 000             ",
                                    "1": "4 & 5' OF 5                   "
                                },
                                {
                                    "0": "2 00 07611 02 1200 000             ",
                                    "1": "1, 17 & PT. 2                 "
                                },
                                {
                                    "0": "2 00 07712 01 1000 000             ",
                                    "1": "3 & 4                         "
                                },
                                {
                                    "0": "2 00 07712 01 2200 000             ",
                                    "1": "N & O                         "
                                },
                                {
                                    "0": "2 00 07712 01 2300 000             ",
                                    "1": "L & M                         "
                                },
                                {
                                    "0": "2 00 07717 01 1200 000             ",
                                    "1": "10 & PT. 11                   "
                                },
                                {
                                    "0": "2 00 07717 01 1300 000             ",
                                    "1": "12 & 1/2 OD 11                "
                                },
                                {
                                    "0": "2 00 07717 01 1700 000             ",
                                    "1": "4 & &T. OF 5                  "
                                },
                                {
                                    "0": "2 00 07802 01 1300 000             ",
                                    "1": "4, 12, & 13                   "
                                },
                                {
                                    "0": "2 00 07802 01 1600 000             ",
                                    "1": "5 & 6                         "
                                },
                                {
                                    "0": "2 00 07802 01 1800 000             ",
                                    "1": "7-8-11 & PT. 9                "
                                },
                                {
                                    "0": "2 00 08500 01 0400 000             ",
                                    "1": "1 & 2                         "
                                },
                                {
                                    "0": "2 00 08500 01 0500 000             ",
                                    "1": "3 & 4                         "
                                },
                                {
                                    "0": "2 00 08500 01 0600 000             ",
                                    "1": "5 & PT. 6                     "
                                },
                                {
                                    "0": "2 00 08516 02 8300 000             ",
                                    "1": "21 & PT.20                    "
                                },
                                {
                                    "0": "2 00 08516 04 5300 000             ",
                                    "1": "6 & 7                         "
                                },
                                {
                                    "0": "2 00 08516 04 5600 000             ",
                                    "1": "4,5 & PT. 6                   "
                                },
                                {
                                    "0": "2 00 08516 04 5700 000             ",
                                    "1": "7-9 & PT. 6                   "
                                },
                                {
                                    "0": "2 00 08516 04 6600 000             ",
                                    "1": "15 & 16                       "
                                },
                                {
                                    "0": "2 00 08516 04 7000 000             ",
                                    "1": "19 & PT. 20                   "
                                },
                                {
                                    "0": "2 00 08516 04 7100 000             ",
                                    "1": "21 & 1/2 OF 20                "
                                },
                                {
                                    "0": "2 00 08516 04 8100 000             ",
                                    "1": "32 & 33                       "
                                },
                                {
                                    "0": "2 00 08516 04 8600 000             ",
                                    "1": "62 & 63                       "
                                },
                                {
                                    "0": "2 00 08516 04 8800 000             ",
                                    "1": "67 & 68                       "
                                },
                                {
                                    "0": "2 00 08516 04 9000 000             ",
                                    "1": "70 & 71                       "
                                },
                                {
                                    "0": "2 00 08516 04 9100 000             ",
                                    "1": "72 & PT. 73                   "
                                },
                                {
                                    "0": "2 00 08516 04 9200 000             ",
                                    "1": "PT. 73 & 74                   "
                                },
                                {
                                    "0": "2 00 08516 04 9300 000             ",
                                    "1": "PT. OF 74 & 75                "
                                },
                                {
                                    "0": "2 00 08516 04 9400 000             ",
                                    "1": "PT. OF 75 & 76                "
                                },
                                {
                                    "0": "2 00 08516 04 9500 000             ",
                                    "1": "1/2 OF 75 & 76                "
                                },
                                {
                                    "0": "2 00 08605 01 1400 000             ",
                                    "1": "13 & PT. 14                   "
                                },
                                {
                                    "0": "2 00 08605 01 1600 000             ",
                                    "1": "1 & 2                         "
                                },
                                {
                                    "0": "2 00 08605 01 1700 000             ",
                                    "1": "11 & 12                       "
                                },
                                {
                                    "0": "2 00 08605 01 1900 000             ",
                                    "1": "3-4 & PT.OF 5                 "
                                },
                                {
                                    "0": "2 00 08605 01 1901 000             ",
                                    "1": "6-7 & PT.OF 5                 "
                                },
                                {
                                    "0": "2 00 08605 01 2000 000             ",
                                    "1": "1 & 2                         "
                                },
                                {
                                    "0": "2 00 08605 01 2200 000             ",
                                    "1": "10 & 11                       "
                                },
                                {
                                    "0": "2 00 08605 01 3100 000             ",
                                    "1": "4-9 & 18-20                   "
                                },
                                {
                                    "0": "2 00 08605 01 3800 000             ",
                                    "1": "16 & 17                       "
                                },
                                {
                                    "0": "2 00 08605 01 6100 000             ",
                                    "1": "PT. OF 22 & 23                "
                                },
                                {
                                    "0": "2 00 08605 01 6200 000             ",
                                    "1": "21 & PT. 22                   "
                                },
                                {
                                    "0": "2 00 08606 01 0300 000             ",
                                    "1": "14 & PT. 13                   "
                                },
                                {
                                    "0": "2 00 08606 01 0400 000             ",
                                    "1": "12 & 1/2 OF 13                "
                                },
                                {
                                    "0": "2 00 08606 01 0500 000             ",
                                    "1": "ALL OF 11 & PT. OF 10         "
                                },
                                {
                                    "0": "2 00 08609 01 7300 000             ",
                                    "1": "4 & 5                         "
                                },
                                {
                                    "0": "2 00 08609 01 7400 000             ",
                                    "1": "6 & 7                         "
                                },
                                {
                                    "0": "2 00 08609 01 7701 000             ",
                                    "1": "PT. 17 & 18                   "
                                },
                                {
                                    "0": "2 00 08609 01 7800 000             ",
                                    "1": "19 & 20                       "
                                },
                                {
                                    "0": "2 00 08609 01 7900 000             ",
                                    "1": "21 & 22                       "
                                },
                                {
                                    "0": "2 00 08609 01 8000 000             ",
                                    "1": "23,24 & PT. OF 25             "
                                },
                                {
                                    "0": "2 00 08609 01 8001 000             ",
                                    "1": "26 & PT. OF 25                "
                                },
                                {
                                    "0": "2 00 08609 01 8100 000             ",
                                    "1": "27 & 28                       "
                                },
                                {
                                    "0": "2 00 08610 01 0600 000             ",
                                    "1": "21&22&PT. 23                  "
                                },
                                {
                                    "0": "2 00 08610 01 1000 000             ",
                                    "1": "12&PT 13                      "
                                },
                                {
                                    "0": "2 00 08610 01 1100 000             ",
                                    "1": "PT. 13 & 14                   "
                                },
                                {
                                    "0": "2 00 08610 01 2400 000             ",
                                    "1": "48 & 49                       "
                                },
                                {
                                    "0": "2 00 08610 01 2700 000             ",
                                    "1": "PT. 44 & 45                   "
                                },
                                {
                                    "0": "2 00 08610 01 2800 000             ",
                                    "1": "PT. 44 & 45                   "
                                },
                                {
                                    "0": "2 00 08610 01 2900 000             ",
                                    "1": "96 & PT. 95                   "
                                },
                                {
                                    "0": "2 00 08610 01 3000 000             ",
                                    "1": "10 & PT. 9                    "
                                },
                                {
                                    "0": "2 00 08610 01 3100 000             ",
                                    "1": "8 & PT. 9                     "
                                },
                                {
                                    "0": "2 00 08610 01 3400 000             ",
                                    "1": "94 & PT. 93                   "
                                },
                                {
                                    "0": "2 00 08610 01 3500 000             ",
                                    "1": "93-7 & PT. OF 92-6            "
                                },
                                {
                                    "0": "2 00 08610 01 3600 000             ",
                                    "1": "5 & PT. 6                     "
                                },
                                {
                                    "0": "2 00 08610 01 3700 000             ",
                                    "1": "91 & PT. 92                   "
                                },
                                {
                                    "0": "2 00 08610 01 4000 000             ",
                                    "1": "PT. 88 & 89                   "
                                },
                                {
                                    "0": "2 00 08610 01 4300 000             ",
                                    "1": "87 & PT. 88                   "
                                },
                                {
                                    "0": "2 00 08610 01 4400 000             ",
                                    "1": "PT. 84 & 86                   "
                                },
                                {
                                    "0": "2 00 08610 01 5400 000             ",
                                    "1": "8, 9 & PT 10                  "
                                },
                                {
                                    "0": "2 00 08610 02 0300 000             ",
                                    "1": "60 & 61                       "
                                },
                                {
                                    "0": "2 00 08610 02 0500 000             ",
                                    "1": "57 & 58                       "
                                },
                                {
                                    "0": "2 00 08610 02 0800 000             ",
                                    "1": "54 & PT. 55                   "
                                },
                                {
                                    "0": "2 00 08610 02 0900 000             ",
                                    "1": "107 & 108                     "
                                },
                                {
                                    "0": "2 00 08610 02 1200 000             ",
                                    "1": "PT. 104 & 103                 "
                                },
                                {
                                    "0": "2 00 08610 02 1400 000             ",
                                    "1": "100 & PT. 99                  "
                                },
                                {
                                    "0": "2 00 08610 02 1500 000             ",
                                    "1": "101 & PT. OF 102              "
                                },
                                {
                                    "0": "2 00 08610 02 1600 000             ",
                                    "1": "PT. OF #98 & #99              "
                                },
                                {
                                    "0": "2 00 08610 02 1700 000             ",
                                    "1": "97 & E. 25' OF 98             "
                                },
                                {
                                    "0": "2 00 08610 02 1900 000             ",
                                    "1": "137 & 136                     "
                                },
                                {
                                    "0": "2 00 08610 02 2800 000             ",
                                    "1": "8 & 22                        "
                                },
                                {
                                    "0": "2 00 08610 02 4600 000             ",
                                    "1": "PT. OF 109 & 110              "
                                },
                                {
                                    "0": "2 00 08610 02 5200 000             ",
                                    "1": "115 & 116                     "
                                },
                                {
                                    "0": "2 00 08610 02 5600 000             ",
                                    "1": "1/2 OF 64 & 1/2 OF 65         "
                                },
                                {
                                    "0": "2 00 08610 02 5700 000             ",
                                    "1": "1/2 OF 64 & 65                "
                                },
                                {
                                    "0": "2 00 08610 02 6200 000             ",
                                    "1": "70 & 71                       "
                                },
                                {
                                    "0": "2 00 08613 01 4600 000             ",
                                    "1": "98, 99 & PT. 97               "
                                },
                                {
                                    "0": "2 00 08613 01 4700 000             ",
                                    "1": "96 & PT. 95 & 97              "
                                },
                                {
                                    "0": "2 00 08613 01 4900 000             ",
                                    "1": "92 & 1/2 OF 91                "
                                },
                                {
                                    "0": "2 00 08613 01 5000 000             ",
                                    "1": "90 & 1/2 91                   "
                                },
                                {
                                    "0": "2 00 08613 01 5600 000             ",
                                    "1": "56 & 57                       "
                                },
                                {
                                    "0": "2 00 08613 01 5700 000             ",
                                    "1": "55 & PT. 54                   "
                                },
                                {
                                    "0": "2 00 08613 01 5800 000             ",
                                    "1": "53 & PT. 54                   "
                                },
                                {
                                    "0": "2 00 08613 01 5900 000             ",
                                    "1": "51 & 52                       "
                                },
                                {
                                    "0": "2 00 08613 01 6000 000             ",
                                    "1": "49 & 50                       "
                                },
                                {
                                    "0": "2 00 08613 01 6100 000             ",
                                    "1": "48 & PT. 47                   "
                                },
                                {
                                    "0": "2 00 08613 01 6200 000             ",
                                    "1": "46 & 10' OF 47                "
                                },
                                {
                                    "0": "2 00 08613 01 6900 000             ",
                                    "1": "42 & 40' OF 41                "
                                },
                                {
                                    "0": "2 00 08613 01 7000 000             ",
                                    "1": "40 & PT. 41                   "
                                },
                                {
                                    "0": "2 00 08613 01 7100 000             ",
                                    "1": "39 & 1/2 OF 38                "
                                },
                                {
                                    "0": "2 00 08613 01 7200 000             ",
                                    "1": "37&PT38                       "
                                },
                                {
                                    "0": "2 00 08613 01 7900 000             ",
                                    "1": "104 & 105                     "
                                },
                                {
                                    "0": "2 00 08613 01 8000 000             ",
                                    "1": "88 & ADJ. LOT                 "
                                },
                                {
                                    "0": "2 00 08613 01 8200 000             ",
                                    "1": "81-83 & PT. 80                "
                                },
                                {
                                    "0": "2 00 08613 01 8300 000             ",
                                    "1": "78,79 & PT. OF 80             "
                                },
                                {
                                    "0": "2 00 08613 01 8400 000             ",
                                    "1": "77A & 77                      "
                                },
                                {
                                    "0": "2 00 08613 02 1200 000             ",
                                    "1": "4 & PT. 5                     "
                                },
                                {
                                    "0": "2 00 08613 02 1300 000             ",
                                    "1": "6 & PT. 5                     "
                                },
                                {
                                    "0": "2 00 08613 02 1400 000             ",
                                    "1": "PT. 13 & 14                   "
                                },
                                {
                                    "0": "2 00 08613 02 2800 000             ",
                                    "1": "12 & PT. 13 & 14              "
                                },
                                {
                                    "0": "2 00 08613 02 3500 000             ",
                                    "1": "10 & 11                       "
                                },
                                {
                                    "0": "2 00 08613 02 4700 000             ",
                                    "1": "4 & PT. 5                     "
                                },
                                {
                                    "0": "2 00 08613 02 4800 000             ",
                                    "1": "PT. OF 5 & 6                  "
                                },
                                {
                                    "0": "2 00 08613 02 4900 000             ",
                                    "1": "7 & PT. OF 6                  "
                                },
                                {
                                    "0": "2 00 08613 02 5600 000             ",
                                    "1": "16 & PT. 15                   "
                                },
                                {
                                    "0": "2 00 08613 02 5700 000             ",
                                    "1": "14 & 1/2 OF 13 & 15           "
                                },
                                {
                                    "0": "2 00 08613 02 5800 000             ",
                                    "1": "12, 20-32 & PT. 13            "
                                },
                                {
                                    "0": "2 00 08613 02 6100 000             ",
                                    "1": "34, 35 & PT. 33               "
                                },
                                {
                                    "0": "2 00 08614 01 0100 000             ",
                                    "1": "29 & 30                       "
                                },
                                {
                                    "0": "2 00 08614 01 0200 000             ",
                                    "1": "31 & 32                       "
                                },
                                {
                                    "0": "2 00 08614 01 0300 000             ",
                                    "1": "33 & 34                       "
                                },
                                {
                                    "0": "2 00 08614 01 0400 000             ",
                                    "1": "35 & 36                       "
                                },
                                {
                                    "0": "2 00 08614 01 0500 000             ",
                                    "1": "37 & PART OF 38               "
                                },
                                {
                                    "0": "2 00 08614 01 0501 000             ",
                                    "1": "PT. 38 & ALL 39               "
                                },
                                {
                                    "0": "2 00 08616 02 3900 000             ",
                                    "1": "14 & A                        "
                                },
                                {
                                    "0": "2 00 08616 02 4000 000             ",
                                    "1": "13 & B                        "
                                },
                                {
                                    "0": "2 00 08616 02 4200 000             ",
                                    "1": "11 & D                        "
                                },
                                {
                                    "0": "2 00 08616 02 4300 000             ",
                                    "1": "10 & E                        "
                                },
                                {
                                    "0": "2 00 08616 04 2105 000",
                                    "1": "PHASE 1, 2, & 3               "
                                },
                                {
                                    "0": "2 00 08616 04 2110 000             ",
                                    "1": "PHASE 1, 2, & 3               "
                                },
                                {
                                    "0": "2 00 08616 04 9100 000             ",
                                    "1": "221,222 & PT.223,224          "
                                },
                                {
                                    "0": "2 00 08801 01 0500 000             ",
                                    "1": "10 & 11                       "
                                },
                                {
                                    "0": "2 00 08801 01 0600 000             ",
                                    "1": "24,25, 28 & 29                "
                                },
                                {
                                    "0": "2 00 08801 01 1000 000             ",
                                    "1": "32 & 33                       "
                                },
                                {
                                    "0": "2 00 08801 01 1100 000             ",
                                    "1": "36 & 37                       "
                                },
                                {
                                    "0": "2 00 08801 01 1600 000             ",
                                    "1": "26 & 27 & 30                  "
                                },
                                {
                                    "0": "2 00 08801 01 1700 000             ",
                                    "1": "12, 13, 25 & 14               "
                                },
                                {
                                    "0": "2 00 08801 01 1900 000             ",
                                    "1": "15 & PT. 16                   "
                                },
                                {
                                    "0": "2 00 08801 01 2100 000             ",
                                    "1": "17 & PT. 16                   "
                                },
                                {
                                    "0": "2 00 08801 02 0500 000             ",
                                    "1": "460 & 461                     "
                                },
                                {
                                    "0": "2 00 08801 02 0600 000             ",
                                    "1": "381-384,462 & 463             "
                                },
                                {
                                    "0": "2 00 08801 02 0700 000             ",
                                    "1": "455 & 456                     "
                                },
                                {
                                    "0": "2 00 08801 02 1300 000             ",
                                    "1": "359 & 360                     "
                                },
                                {
                                    "0": "2 00 08801 02 1500 000             ",
                                    "1": "433 & 434                     "
                                },
                                {
                                    "0": "2 00 08801 02 1600 000             ",
                                    "1": "352 & 353                     "
                                },
                                {
                                    "0": "2 00 08801 02 1900 000             ",
                                    "1": "272 & 273                     "
                                },
                                {
                                    "0": "2 00 08801 02 2100 000             ",
                                    "1": "278 & 279                     "
                                },
                                {
                                    "0": "2 00 08801 02 2300 000             ",
                                    "1": "301-303 & 219-221             "
                                },
                                {
                                    "0": "2 00 08801 02 2700 000             ",
                                    "1": "87 & 88                       "
                                },
                                {
                                    "0": "2 00 08801 02 2800 000             ",
                                    "1": "185 & 186                     "
                                },
                                {
                                    "0": "2 00 08801 02 2900 000             ",
                                    "1": "99 & 100                      "
                                },
                                {
                                    "0": "2 00 08801 02 3500 000             ",
                                    "1": "113 & 114                     "
                                },
                                {
                                    "0": "2 00 08801 02 3700 000",
                                    "1": "118 & 119                     "
                                },
                                {
                                    "0": "2 00 08801 02 3800 000             ",
                                    "1": "120 & 121                     "
                                },
                                {
                                    "0": "2 00 08801 02 3900 000             ",
                                    "1": "122 & 123                     "
                                },
                                {
                                    "0": "2 00 08801 02 4000 000             ",
                                    "1": "129 & 130                     "
                                },
                                {
                                    "0": "2 00 08801 02 4600 000             ",
                                    "1": "29 & 30                       "
                                },
                                {
                                    "0": "2 00 08801 02 4700 000             ",
                                    "1": "25 & 26                       "
                                },
                                {
                                    "0": "2 00 08801 02 5100 000             ",
                                    "1": "15 & 16                       "
                                },
                                {
                                    "0": "2 00 08802 01 0200 000             ",
                                    "1": "B-236,B241 & B-183            "
                                },
                                {
                                    "0": "2 00 08802 01 0400 000             ",
                                    "1": "B-125 & B-126                 "
                                },
                                {
                                    "0": "2 00 08802 01 0600 000             ",
                                    "1": "123 & 124                     "
                                },
                                {
                                    "0": "2 00 08802 01 0900 000             ",
                                    "1": "B-65 & B-66                   "
                                },
                                {
                                    "0": "2 00 08802 01 1100 000             ",
                                    "1": "B-62 & B-63                   "
                                },
                                {
                                    "0": "2 00 08802 01 1200 000             ",
                                    "1": "B-59 & B-60                   "
                                },
                                {
                                    "0": "2 00 08802 01 1700 000             ",
                                    "1": "590 & 591                     "
                                },
                                {
                                    "0": "2 00 08802 01 1900 000             ",
                                    "1": "618 & 619                     "
                                },
                                {
                                    "0": "2 00 08802 01 2200 000             ",
                                    "1": "627 & 628                     "
                                },
                                {
                                    "0": "2 00 08802 01 2300 000             ",
                                    "1": "629 & 630                     "
                                },
                                {
                                    "0": "2 00 08802 01 3000 000             ",
                                    "1": "B16 & B17                     "
                                },
                                {
                                    "0": "2 00 08802 01 3300 000             ",
                                    "1": "B-20 & B-21                   "
                                },
                                {
                                    "0": "2 00 08802 01 3400 000             ",
                                    "1": "585 & 586                     "
                                },
                                {
                                    "0": "2 00 08802 01 4000 000             ",
                                    "1": "542 & 543                     "
                                },
                                {
                                    "0": "2 00 08802 01 4400 000             ",
                                    "1": "473 & 474                     "
                                },
                                {
                                    "0": "2 00 08802 01 4500 000             ",
                                    "1": "475 & 476                     "
                                },
                                {
                                    "0": "2 00 08802 01 4700 000             ",
                                    "1": "403,404,482 & 483             "
                                },
                                {
                                    "0": "2 00 08802 01 4800 000             ",
                                    "1": "485 & 486                     "
                                },
                                {
                                    "0": "2 00 08802 01 5100 000             ",
                                    "1": "498 & 499                     "
                                },
                                {
                                    "0": "2 00 08802 01 5500 000             ",
                                    "1": "415 & 416                     "
                                },
                                {
                                    "0": "2 00 08802 01 5600 000             ",
                                    "1": "412 & 413                     "
                                },
                                {
                                    "0": "2 00 08802 01 5800 000             ",
                                    "1": "396 & 397                     "
                                },
                                {
                                    "0": "2 00 08802 01 5900 000             ",
                                    "1": "394 & 395                     "
                                },
                                {
                                    "0": "2 00 08802 01 6500 000             ",
                                    "1": "327 & 328                     "
                                },
                                {
                                    "0": "2 00 08802 01 6600 000             ",
                                    "1": "329 & 330                     "
                                },
                                {
                                    "0": "2 00 08802 01 6800 000             ",
                                    "1": "337 & 338                     "
                                },
                                {
                                    "0": "2 00 08802 01 6900 000             ",
                                    "1": "346 & 347                     "
                                },
                                {
                                    "0": "2 00 08802 01 7000 000             ",
                                    "1": "266 & 267                     "
                                },
                                {
                                    "0": "2 00 08802 01 7100 000             ",
                                    "1": "261 & 262                     "
                                },
                                {
                                    "0": "2 00 08802 01 7200 000             ",
                                    "1": "247 & 248                     "
                                },
                                {
                                    "0": "2 00 08802 01 7400 000             ",
                                    "1": "236 & 237                     "
                                },
                                {
                                    "0": "2 00 08802 01 8500 000             ",
                                    "1": "78 & 79                       "
                                },
                                {
                                    "0": "2 00 08802 01 8600 000             ",
                                    "1": "76 & 77                       "
                                },
                                {
                                    "0": "2 00 08802 01 8700 000             ",
                                    "1": "72 & 73                       "
                                },
                                {
                                    "0": "2 00 08802 01 9200 000             ",
                                    "1": "47 & 48                       "
                                },
                                {
                                    "0": "2 00 08802 02 0200 000             ",
                                    "1": "3 & 4                         "
                                },
                                {
                                    "0": "2 00 08802 02 0300 000             ",
                                    "1": "9 & 10                        "
                                },
                                {
                                    "0": "2 00 08802 02 0500 000             ",
                                    "1": "15 & 16                       "
                                },
                                {
                                    "0": "2 00 08802 03 0400 000             ",
                                    "1": "3, 3A, N. 1/2 4 & 4A          "
                                },
                                {
                                    "0": "2 00 08802 03 0600 000             ",
                                    "1": "5&5A& PT 4&4A                 "
                                },
                                {
                                    "0": "2 00 08802 03 0800 000             ",
                                    "1": "7 & 7A                        "
                                },
                                {
                                    "0": "2 00 08802 03 0900 000             ",
                                    "1": "8 A & 9 A                     "
                                },
                                {
                                    "0": "2 00 08802 03 1000 000             ",
                                    "1": "8 & 9                         "
                                },
                                {
                                    "0": "2 00 08802 03 1300 000             ",
                                    "1": "14 & 14A                      "
                                },
                                {
                                    "0": "2 00 08802 03 1301 000             ",
                                    "1": "15 & 15A                      "
                                },
                                {
                                    "0": "2 00 08802 03 1302 000             ",
                                    "1": "16 & 16A                      "
                                },
                                {
                                    "0": "2 00 08802 03 1303 000             ",
                                    "1": "17 & 17-A                     "
                                },
                                {
                                    "0": "2 00 08802 03 1402 000             ",
                                    "1": "18 & 18A                      "
                                },
                                {
                                    "0": "2 00 08802 03 1500 000             ",
                                    "1": "21 & 21A                      "
                                },
                                {
                                    "0": "2 00 08802 03 1700 000             ",
                                    "1": "23 & 23 A                     "
                                },
                                {
                                    "0": "2 00 08802 03 1800 000             ",
                                    "1": "24 & 24A                      "
                                },
                                {
                                    "0": "2 00 08802 03 1900 000             ",
                                    "1": "25 & 25 A                     "
                                },
                                {
                                    "0": "2 00 08802 03 2000 000             ",
                                    "1": "26 & 26A                      "
                                },
                                {
                                    "0": "2 00 08802 03 2100 000             ",
                                    "1": "27 & 27-A                     "
                                },
                                {
                                    "0": "2 00 09716 01 3400 000             ",
                                    "1": "28 & PT. 29                   "
                                },
                                {
                                    "0": "2 00 09716 01 4100 000             ",
                                    "1": "21 & PT.OF22                  "
                                },
                                {
                                    "0": "2 00 09716 01 5600 000             ",
                                    "1": "6 & 41                        "
                                },
                                {
                                    "0": "2 00 09716 01 6100 000             ",
                                    "1": "1 & PT. OF LOT #51            "
                                },
                                {
                                    "0": "2 00 09720 01 2700 000             ",
                                    "1": "52 & PT. OF 51                "
                                },
                                {
                                    "0": "2 00 10600 01 1800 000             ",
                                    "1": "9 & 10                        "
                                },
                                {
                                    "0": "2 05 05700 01 5300 000             ",
                                    "1": "1 & 2                         "
                                },
                                {
                                    "0": "2 05 05800 01 0300 000             ",
                                    "1": "16 & 17                       "
                                },
                                {
                                    "0": "2 05 05800 01 0400 000             ",
                                    "1": "PT. 14 & 15                   "
                                },
                                {
                                    "0": "2 05 05800 01 0500 000             ",
                                    "1": "12 & 13                       "
                                },
                                {
                                    "0": "2 05 05800 01 0600 000             ",
                                    "1": "7 & 8                         "
                                },
                                {
                                    "0": "2 05 05800 01 0700 000             ",
                                    "1": "5 & 6                         "
                                },
                                {
                                    "0": "2 05 05800 01 0800 000             ",
                                    "1": "3 & 4                         "
                                },
                                {
                                    "0": "2 05 05817 01 1000 000             ",
                                    "1": "5 & 6                         "
                                },
                                {
                                    "0": "2 05 05817 01 1300 000             ",
                                    "1": "2 & 3                         "
                                },
                                {
                                    "0": "2 05 05817 01 1400 000             ",
                                    "1": "1 & 2                         "
                                },
                                {
                                    "0": "2 05 06612 01 1600 000             ",
                                    "1": "25 & 26                       "
                                },
                                {
                                    "0": "2 05 06616 02 0200 000             ",
                                    "1": "2 & PT. OF 1                  "
                                },
                                {
                                    "0": "2 05 06616 02 0500 000             ",
                                    "1": "5 & PT. OF 4                  "
                                },
                                {
                                    "0": "2 05 06616 02 0600 000             ",
                                    "1": "6 & PT. OF 7                  "
                                },
                                {
                                    "0": "2 05 06700 02 2100 000             ",
                                    "1": "55 & 56                       "
                                },
                                {
                                    "0": "2 05 06700 02 2200 000             ",
                                    "1": "75-77 & 100-102               "
                                },
                                {
                                    "0": "2 05 06700 02 2300 000             ",
                                    "1": "78-81 & 103-106               "
                                },
                                {
                                    "0": "2 05 06700 02 2400 000             ",
                                    "1": "107 & 108                     "
                                },
                                {
                                    "0": "2 05 06700 02 2700 000             ",
                                    "1": "149 & 150                     "
                                },
                                {
                                    "0": "2 05 06700 02 3500 000             ",
                                    "1": "163-167 & 186-188             "
                                },
                                {
                                    "0": "2 05 06700 02 3600 000             ",
                                    "1": "PT. OF 132 & 133              "
                                },
                                {
                                    "0": "2 05 06700 02 3800 000             ",
                                    "1": "127, 128 & PT. 129            "
                                },
                                {
                                    "0": "2 05 06700 02 3900 000             ",
                                    "1": "94 & 95                       "
                                },
                                {
                                    "0": "2 05 06700 02 4100 000             ",
                                    "1": "8 & 9                         "
                                },
                                {
                                    "0": "2 05 06700 02 4302 000             ",
                                    "1": "15 & 16                       "
                                },
                                {
                                    "0": "2 05 06700 02 4700 000             ",
                                    "1": "136-138 & 168 & 169           "
                                },
                                {
                                    "0": "2 05 06705 01 6900 000             ",
                                    "1": "58-R & 59                     "
                                },
                                {
                                    "0": "2 05 06707 01 0400 000             ",
                                    "1": "177 & PT. 178                 "
                                },
                                {
                                    "0": "2 05 06707 01 0600 000             ",
                                    "1": "180 & PT. OF 179              "
                                },
                                {
                                    "0": "2 05 06707 01 0701 000             ",
                                    "1": "PT. OF 180 & 181              "
                                },
                                {
                                    "0": "2 05 06707 01 0800 000             ",
                                    "1": "184 & 185                     "
                                },
                                {
                                    "0": "2 05 06707 01 1100 000             ",
                                    "1": "158 & 159                     "
                                },
                                {
                                    "0": "2 05 06707 01 1200 000             ",
                                    "1": "156 & 157                     "
                                },
                                {
                                    "0": "2 05 06709 01 0800 000             ",
                                    "1": "118 & 119                     "
                                },
                                {
                                    "0": "2 05 06709 01 0900 000             ",
                                    "1": "120,121 & 122                 "
                                },
                                {
                                    "0": "2 05 06709 01 1300 000             ",
                                    "1": "126 & 127                     "
                                },
                                {
                                    "0": "2 05 06709 01 8100 000             ",
                                    "1": "232 & PT. 231 & 233           "
                                },
                                {
                                    "0": "2 05 06709 02 0700 000             ",
                                    "1": "8 & PT. OF 6 & 7              "
                                },
                                {
                                    "0": "2 05 06709 02 0800 000             ",
                                    "1": "124 & PT. 7                   "
                                },
                                {
                                    "0": "2 05 06709 02 1800 000             ",
                                    "1": "134 & PT. 133                 "
                                },
                                {
                                    "0": "2 05 06711 01 1300 000             ",
                                    "1": "35 & PT. 34                   "
                                },
                                {
                                    "0": "2 05 06713 01 0400 000             ",
                                    "1": "106 & PT. OF 105              "
                                },
                                {
                                    "0": "2 05 06713 01 0500 000             ",
                                    "1": "PT. OF 104 & 105              "
                                },
                                {
                                    "0": "2 05 06713 01 0600 000             ",
                                    "1": "PT. 103 & 104                 "
                                },
                                {
                                    "0": "2 05 06713 01 0700 000             ",
                                    "1": "102 & PT. OF 103              "
                                },
                                {
                                    "0": "2 05 06713 01 0800 000             ",
                                    "1": "101 & PT. OF 103              "
                                },
                                {
                                    "0": "2 05 06713 01 1700 000             ",
                                    "1": "228 & 229                     "
                                },
                                {
                                    "0": "2 05 06713 01 2700 000             ",
                                    "1": "87 & 88                       "
                                },
                                {
                                    "0": "2 05 06713 02 0700 000             ",
                                    "1": "53 & 54                       "
                                },
                                {
                                    "0": "2 05 06713 02 1400 000             ",
                                    "1": "263 & 264                     "
                                },
                                {
                                    "0": "2 05 06714 01 2400 000             ",
                                    "1": "183 PT. 184 & 185             "
                                },
                                {
                                    "0": "2 05 06714 01 2500 000             ",
                                    "1": "PT.OF 184 & 185               "
                                },
                                {
                                    "0": "2 05 06715 01 4300 000             ",
                                    "1": "88 & 88-A                     "
                                },
                                {
                                    "0": "2 05 06715 01 5600 000             ",
                                    "1": "101 & 101-A                   "
                                },
                                {
                                    "0": "2 05 06715 02 0600 000             ",
                                    "1": "19 & PT. 17                   "
                                },
                                {
                                    "0": "2 05 06715 02 0700 000             ",
                                    "1": "PT. 16 & 17                   "
                                },
                                {
                                    "0": "2 05 06715 02 0800 000             ",
                                    "1": "PT. 15 & 16                   "
                                },
                                {
                                    "0": "2 05 06715 03 0500 000             ",
                                    "1": "13 & PT. 11                   "
                                },
                                {
                                    "0": "2 05 06716 01 5100 000             ",
                                    "1": "33,32 & 34                    "
                                },
                                {
                                    "0": "2 05 06716 01 7300 000             ",
                                    "1": "PT.OF 13 & PT. OF 14          "
                                },
                                {
                                    "0": "2 05 06716 02 0600 000             ",
                                    "1": "6 & 7                         "
                                },
                                {
                                    "0": "2 05 06716 02 1100 000             ",
                                    "1": "12 & 5' OF 11                 "
                                },
                                {
                                    "0": "2 05 06716 02 1200 000             ",
                                    "1": "13 & 14                       "
                                },
                                {
                                    "0": "2 05 06716 02 1300 000             ",
                                    "1": "15 & PT. 16                   "
                                },
                                {
                                    "0": "2 05 06716 02 1400 000             ",
                                    "1": "17 & PT. 16                   "
                                },
                                {
                                    "0": "2 05 06716 02 1800 000             ",
                                    "1": "21 & 22                       "
                                },
                                {
                                    "0": "2 05 06716 02 1900 000             ",
                                    "1": "23 & 24                       "
                                },
                                {
                                    "0": "2 05 06716 02 2000 000             ",
                                    "1": "25 & PT. 26                   "
                                },
                                {
                                    "0": "2 05 06716 02 2200 000             ",
                                    "1": "27 & PT. OF 26                "
                                },
                                {
                                    "0": "2 05 06716 02 2900 000             ",
                                    "1": "18 & PT. 17                   "
                                },
                                {
                                    "0": "2 05 06716 02 3000 000             ",
                                    "1": "16 & PT. 17                   "
                                },
                                {
                                    "0": "2 05 06716 02 4200 000             ",
                                    "1": "30 & PT. 31                   "
                                },
                                {
                                    "0": "2 05 06716 02 4300 000             ",
                                    "1": "32 & PT. 31                   "
                                },
                                {
                                    "0": "2 05 06716 02 4400 000             ",
                                    "1": "35 & PT. 34                   "
                                },
                                {
                                    "0": "2 05 06716 02 4500 000             ",
                                    "1": "33 & 1/2 OF 34                "
                                },
                                {
                                    "0": "2 05 06716 02 4600 000             ",
                                    "1": "15 & PT. 14                   "
                                },
                                {
                                    "0": "2 05 06716 02 4700 000             ",
                                    "1": "PT. OF 13 & 14                "
                                },
                                {
                                    "0": "2 05 06716 02 4800 000             ",
                                    "1": "PT. 12 & 13                   "
                                },
                                {
                                    "0": "2 05 06716 02 4900 000             ",
                                    "1": "PT. 11 & 12                   "
                                },
                                {
                                    "0": "2 05 06716 02 5000 000             ",
                                    "1": "PT. OF 10 & 11                "
                                },
                                {
                                    "0": "2 05 06716 02 5100 000             ",
                                    "1": "9 & PT. 10                    "
                                },
                                {
                                    "0": "2 05 06716 02 5200 000             ",
                                    "1": "8 & PT. OF 7                  "
                                },
                                {
                                    "0": "2 05 06716 02 5800 000             ",
                                    "1": "2 & PT. 3                     "
                                },
                                {
                                    "0": "2 05 06716 02 6000 000             ",
                                    "1": "132 & PT. 133                 "
                                },
                                {
                                    "0": "2 05 06716 02 6100 000             ",
                                    "1": "PT 133 & 134                  "
                                },
                                {
                                    "0": "2 05 06716 02 6200 000             ",
                                    "1": "135 & PT. 134                 "
                                },
                                {
                                    "0": "2 05 06716 02 6400 000             ",
                                    "1": "PT. 138 & 139                 "
                                },
                                {
                                    "0": "2 05 06716 02 6500 000             ",
                                    "1": "140 & 141                     "
                                },
                                {
                                    "0": "2 05 06716 02 6600 000             ",
                                    "1": "102,103 & PT. 139             "
                                },
                                {
                                    "0": "2 05 06716 02 6800 000             ",
                                    "1": "143 & S. 1/2 OF 144           "
                                },
                                {
                                    "0": "2 05 06716 02 6900 000             ",
                                    "1": "145 & PT. 144                 "
                                },
                                {
                                    "0": "2 05 06716 02 7100 000             ",
                                    "1": "148 & 149                     "
                                },
                                {
                                    "0": "2 05 06716 02 7200 000             ",
                                    "1": "110 & 111                     "
                                },
                                {
                                    "0": "2 05 06716 02 7400 000             ",
                                    "1": "108 & PT. 107                 "
                                },
                                {
                                    "0": "2 05 06716 02 7600 000             ",
                                    "1": "104 & PT. 105                 "
                                },
                                {
                                    "0": "2 05 06716 02 7800 000             ",
                                    "1": "97, 98 & PT. 96               "
                                },
                                {
                                    "0": "2 05 06716 02 7900 000             ",
                                    "1": "94-95 & PT. 96                "
                                },
                                {
                                    "0": "2 05 06716 02 8000 000             ",
                                    "1": "57 & 58                       "
                                },
                                {
                                    "0": "2 05 06716 02 8100 000             ",
                                    "1": "59 & 60                       "
                                },
                                {
                                    "0": "2 05 06716 02 9500 000             ",
                                    "1": "26 & PT. 25                   "
                                },
                                {
                                    "0": "2 05 06716 02 9600 000             ",
                                    "1": "24 & 1/2 OF 25                "
                                },
                                {
                                    "0": "2 05 06716 02 9700 000             ",
                                    "1": "22 & 23                       "
                                },
                                {
                                    "0": "2 05 06717 01 5900 000             ",
                                    "1": "328 & PT. 327                 "
                                },
                                {
                                    "0": "2 05 06717 01 6000 000             ",
                                    "1": "326 & PT. 327                 "
                                },
                                {
                                    "0": "2 05 06717 02 4200 000             ",
                                    "1": "42 & PT. OF 43                "
                                },
                                {
                                    "0": "2 05 06717 02 4400 000             ",
                                    "1": "44 & PT. OF 43                "
                                },
                                {
                                    "0": "2 05 06717 03 0501 000             ",
                                    "1": "PT.OF 61 & 62                 "
                                },
                                {
                                    "0": "2 05 06717 03 4300 000             ",
                                    "1": "PT. OF 100 & 102              "
                                },
                                {
                                    "0": "2 05 06718 01 7900 000             ",
                                    "1": "4 & 7                         "
                                },
                                {
                                    "0": "2 05 06718 03 8800 000             ",
                                    "1": "117 & PT. OF 116              "
                                },
                                {
                                    "0": "2 05 06719 02 0213 003             ",
                                    "1": "UNIT C-1 & C-2  25%           "
                                },
                                {
                                    "0": "2 05 06719 02 0242 000             ",
                                    "1": "UNIT C-1 & C-2  50 %          "
                                },
                                {
                                    "0": "2 05 06720 01 2300 000             ",
                                    "1": "8, 9 & 10                     "
                                },
                                {
                                    "0": "2 05 06720 02 1700 000             ",
                                    "1": "6 & 7                         "
                                },
                                {
                                    "0": "2 05 06720 02 1800 000             ",
                                    "1": "8 & 9                         "
                                },
                                {
                                    "0": "2 05 06720 02 5000 000             ",
                                    "1": "122 & 1/2 OF 123              "
                                },
                                {
                                    "0": "2 05 06720 02 5200 000             ",
                                    "1": "126 & PT. OF 125              "
                                },
                                {
                                    "0": "2 05 06720 02 6000 000             ",
                                    "1": "88 & PT. 87                   "
                                },
                                {
                                    "0": "2 05 06720 02 6100 000             ",
                                    "1": "86 & PT. 87                   "
                                },
                                {
                                    "0": "2 05 06720 02 6200 000             ",
                                    "1": "84 & 85                       "
                                },
                                {
                                    "0": "2 05 06720 02 6300 000             ",
                                    "1": "PT. 47 & 48                   "
                                },
                                {
                                    "0": "2 05 06720 02 6401 000             ",
                                    "1": "PTS. 47,48,&49                "
                                },
                                {
                                    "0": "2 05 06720 02 6600 000             ",
                                    "1": "53 & PT. 54                   "
                                },
                                {
                                    "0": "2 05 06720 02 6700 000             ",
                                    "1": "55 & PT. 54                   "
                                },
                                {
                                    "0": "2 05 06720 03 0400 000             ",
                                    "1": "56 & 58                       "
                                },
                                {
                                    "0": "2 05 06720 03 0600 000             ",
                                    "1": "PT. 55 & 57                   "
                                },
                                {
                                    "0": "2 05 06720 03 0700 000             ",
                                    "1": "PT. 55 & 57                   "
                                },
                                {
                                    "0": "2 05 06720 03 0800 000             ",
                                    "1": "PT. 57 & 55                   "
                                },
                                {
                                    "0": "2 05 06720 03 1500 000             ",
                                    "1": "71 & PT. 73                   "
                                },
                                {
                                    "0": "2 05 06720 03 1600 000             ",
                                    "1": "75 & PTS. 73 & 77             "
                                },
                                {
                                    "0": "2 05 06720 03 1700 000             ",
                                    "1": "PT. 77 & 79                   "
                                },
                                {
                                    "0": "2 05 06720 03 1900 000             ",
                                    "1": "179 & PT. 180                 "
                                },
                                {
                                    "0": "2 05 06720 03 2000 000             ",
                                    "1": "PT. 180 & 181                 "
                                },
                                {
                                    "0": "2 05 06720 03 2100 000             ",
                                    "1": "182 & PT. 181                 "
                                },
                                {
                                    "0": "2 05 06720 03 2200 000             ",
                                    "1": "154-159 & 183-188             "
                                },
                                {
                                    "0": "2 05 06720 03 2300 000             ",
                                    "1": "153 & PT. 152                 "
                                },
                                {
                                    "0": "2 05 06720 03 2400 000             ",
                                    "1": "151 & PT. 150 & 152           "
                                },
                                {
                                    "0": "2 05 06720 03 3400 000             ",
                                    "1": "PT. 70 & 72                   "
                                },
                                {
                                    "0": "2 05 06720 03 3800 000             ",
                                    "1": "64 & PT. 66                   "
                                },
                                {
                                    "0": "2 05 06720 03 4000 000             ",
                                    "1": "60 & PT. 62                   "
                                },
                                {
                                    "0": "2 05 06720 03 4100 000             ",
                                    "1": "56 & 58                       "
                                },
                                {
                                    "0": "2 05 06720 03 5900 000             ",
                                    "1": "77 & 79                       "
                                },
                                {
                                    "0": "2 05 06720 03 6600 000             ",
                                    "1": "119 & PT. 118                 "
                                },
                                {
                                    "0": "2 05 06720 03 6900 000             ",
                                    "1": "83 & PT. 82                   "
                                },
                                {
                                    "0": "2 05 06720 03 7000 000             ",
                                    "1": "81 PT. 82 & 80                "
                                },
                                {
                                    "0": "2 05 06720 03 7100 000             ",
                                    "1": "79 & PT. 80                   "
                                },
                                {
                                    "0": "2 05 06720 03 7200 000             ",
                                    "1": "78 & PT. OF 77                "
                                },
                                {
                                    "0": "2 05 06720 03 7300 000             ",
                                    "1": "76 & PT. 77                   "
                                },
                                {
                                    "0": "2 05 06720 03 7800 000             ",
                                    "1": "76 & 78                       "
                                },
                                {
                                    "0": "2 05 06720 03 7900 000             ",
                                    "1": "72 & 74                       "
                                },
                                {
                                    "0": "2 05 06720 03 8000 000             ",
                                    "1": "70 & PT. 68                   "
                                },
                                {
                                    "0": "2 05 06720 03 8100 000             ",
                                    "1": "66 & PT. 68                   "
                                },
                                {
                                    "0": "2 05 06720 04 0100 000             ",
                                    "1": "PT. OF 37 & 38                "
                                },
                                {
                                    "0": "2 05 06720 04 0200 000             ",
                                    "1": "PT. 37 & 38                   "
                                },
                                {
                                    "0": "2 05 06720 04 1200 000             ",
                                    "1": "9 & 10                        "
                                },
                                {
                                    "0": "2 05 06720 04 1300 000             ",
                                    "1": "7 & 8                         "
                                },
                                {
                                    "0": "2 05 06720 04 1400 000             ",
                                    "1": "6 & PT. 5                     "
                                },
                                {
                                    "0": "2 05 06720 04 1500 000             ",
                                    "1": "PT. 5 & PT. 4                 "
                                },
                                {
                                    "0": "2 05 06720 04 1600 000             ",
                                    "1": "PT. 3 & 4                     "
                                },
                                {
                                    "0": "2 05 06720 04 1700 000             ",
                                    "1": "2 & PT. 3                     "
                                },
                                {
                                    "0": "2 05 06809 01 3100 000             ",
                                    "1": "A-8 & PT. OF A-9              "
                                },
                                {
                                    "0": "2 05 06809 01 3200 000             ",
                                    "1": "PT OF A-9 & A-10              "
                                },
                                {
                                    "0": "2 05 06809 01 3201 000             ",
                                    "1": "PT. OF A-9 & A-10             "
                                },
                                {
                                    "0": "2 05 06810 03 2300 000             ",
                                    "1": "23 & PT. 22                   "
                                },
                                {
                                    "0": "2 05 06810 03 4200 000             ",
                                    "1": "43 & N. 3' OF 42              "
                                },
                                {
                                    "0": "2 05 06813 01 0500 000             ",
                                    "1": "45 & 57                       "
                                },
                                {
                                    "0": "2 05 06813 01 0900 000             ",
                                    "1": "55 & 56                       "
                                },
                                {
                                    "0": "2 05 06813 01 1000 000             ",
                                    "1": "51 & 52                       "
                                },
                                {
                                    "0": "2 05 06813 01 1200 000             ",
                                    "1": "49 & 50                       "
                                },
                                {
                                    "0": "2 05 06813 01 1300 000             ",
                                    "1": "53 & 54                       "
                                },
                                {
                                    "0": "2 05 06813 01 1500 000             ",
                                    "1": "46 & 47                       "
                                },
                                {
                                    "0": "2 05 06813 01 1800 000             ",
                                    "1": "28 & 1/2 OF 29                "
                                },
                                {
                                    "0": "2 05 06813 01 1900 000             ",
                                    "1": "30 & PT. 29                   "
                                },
                                {
                                    "0": "2 05 06813 01 2000 000             ",
                                    "1": "31 & PT. 32                   "
                                },
                                {
                                    "0": "2 05 06813 01 2200 000             ",
                                    "1": "33 & PT. OF 32 & 34           "
                                },
                                {
                                    "0": "2 05 06813 01 2300 000             ",
                                    "1": "PT. 34 & 35                   "
                                },
                                {
                                    "0": "2 05 06813 01 2400 000             ",
                                    "1": "36 & PT. 35                   "
                                },
                                {
                                    "0": "2 05 06813 01 2500 000             ",
                                    "1": "27 & PT. 26                   "
                                },
                                {
                                    "0": "2 05 06813 01 2600 000             ",
                                    "1": "25 & PT. 26                   "
                                },
                                {
                                    "0": "2 05 06813 01 2700 000             ",
                                    "1": "24 & 17' OF 23                "
                                },
                                {
                                    "0": "2 05 06813 01 2800 000             ",
                                    "1": "PT. 22 & 23                   "
                                },
                                {
                                    "0": "2 05 06813 01 2900 000             ",
                                    "1": "20,21 & PT. OF 22             "
                                },
                                {
                                    "0": "2 05 06813 01 3400 000             ",
                                    "1": "13 & PT. 14                   "
                                },
                                {
                                    "0": "2 05 06813 01 3500 000             ",
                                    "1": "PT. 14 & 15                   "
                                },
                                {
                                    "0": "2 05 06813 01 3600 000             ",
                                    "1": "16 & PT. 15                   "
                                },
                                {
                                    "0": "2 05 06813 01 3900 000             ",
                                    "1": "8 & 9                         "
                                },
                                {
                                    "0": "2 05 06813 01 5800 000             ",
                                    "1": "61 TO 66 & 37 TO 44           "
                                },
                                {
                                    "0": "2 05 06814 03 5200 000             ",
                                    "1": "PT. 23 & 24                   "
                                },
                                {
                                    "0": "2 05 06814 03 5400 000             ",
                                    "1": "PT. 22 & 23                   "
                                },
                                {
                                    "0": "2 05 06814 03 5500 000             ",
                                    "1": "PT. 20 & 21                   "
                                },
                                {
                                    "0": "2 05 06814 03 5600 000             ",
                                    "1": "PT. 20 & 21                   "
                                },
                                {
                                    "0": "2 05 06814 03 6000 000             ",
                                    "1": "PT. OF 3 & 4                  "
                                },
                                {
                                    "0": "2 05 06814 03 6100 000             ",
                                    "1": "1 & 2                         "
                                },
                                {
                                    "0": "2 05 06817 01 1200 000             ",
                                    "1": "24 & PT. 25                   "
                                },
                                {
                                    "0": "2 05 06817 01 1300 000             ",
                                    "1": "23 & PT. 25                   "
                                },
                                {
                                    "0": "2 05 06817 01 1400 000             ",
                                    "1": "26 & 25' OF 27                "
                                },
                                {
                                    "0": "2 05 06817 01 1500 000             ",
                                    "1": "28 & PT. 27, 29               "
                                },
                                {
                                    "0": "2 05 06817 01 1600 000             ",
                                    "1": "30 & PT. 29                   "
                                },
                                {
                                    "0": "2 05 06817 01 1700 000             ",
                                    "1": "31 & PT. 32                   "
                                },
                                {
                                    "0": "2 05 06817 01 1800 000             ",
                                    "1": "33 & PT. 32                   "
                                },
                                {
                                    "0": "2 05 06817 01 1900 000             ",
                                    "1": "14 & PT. 15                   "
                                },
                                {
                                    "0": "2 05 06817 01 2000 000             ",
                                    "1": "16 & PT. 15                   "
                                },
                                {
                                    "0": "2 05 06817 01 2100 000             ",
                                    "1": "17 & PT. 18                   "
                                },
                                {
                                    "0": "2 05 06817 01 2200 000             ",
                                    "1": "19 & N. 25' 18                "
                                },
                                {
                                    "0": "2 05 06817 01 2300 000             ",
                                    "1": "20 & PT. 21                   "
                                },
                                {
                                    "0": "2 05 06817 01 2400 000             ",
                                    "1": "22 & PT. 21                   "
                                },
                                {
                                    "0": "2 05 06817 01 2500 000             ",
                                    "1": "12 & 13                       "
                                },
                                {
                                    "0": "2 05 06817 01 2600 000             ",
                                    "1": "10 & 11                       "
                                },
                                {
                                    "0": "2 05 06817 01 2700 000             ",
                                    "1": "8 & 9                         "
                                },
                                {
                                    "0": "2 05 06817 01 2800 000             ",
                                    "1": "6 & 7                         "
                                },
                                {
                                    "0": "2 05 06817 01 2900 000             ",
                                    "1": "4 & 5                         "
                                },
                                {
                                    "0": "2 05 06817 01 3000 000             ",
                                    "1": "3 & PT. 2                     "
                                },
                                {
                                    "0": "2 05 06817 01 3100 000             ",
                                    "1": "1 & PT. 2                     "
                                },
                                {
                                    "0": "2 05 06817 01 3300 000             ",
                                    "1": "60, 62, 64 & PT. 58           "
                                },
                                {
                                    "0": "2 05 06817 01 3400 000             ",
                                    "1": "54, 56 & PT. 52, 58           "
                                },
                                {
                                    "0": "2 05 06817 01 3500 000             ",
                                    "1": "50 & PT. 48 & 52              "
                                },
                                {
                                    "0": "2 05 06817 01 3600 000             ",
                                    "1": "44, 46 & PT. 48               "
                                },
                                {
                                    "0": "2 05 06817 01 3700 000             ",
                                    "1": "36, 38, 40, 42 & PT. 3        "
                                },
                                {
                                    "0": "2 05 06817 01 3800 000             ",
                                    "1": "32, PT. 30 & 34               "
                                },
                                {
                                    "0": "2 05 06817 01 3900 000             ",
                                    "1": "26 & 28 & PT. 24 & 30         "
                                },
                                {
                                    "0": "2 05 06817 01 4000 000             ",
                                    "1": "20,22 & PT. 24                "
                                },
                                {
                                    "0": "2 05 06817 01 4100 000             ",
                                    "1": "16 & 18                       "
                                },
                                {
                                    "0": "2 05 06817 01 4200 000             ",
                                    "1": "12 & 14                       "
                                },
                                {
                                    "0": "2 05 06817 01 4300 000             ",
                                    "1": "3 & 4                         "
                                },
                                {
                                    "0": "2 05 06817 01 4600 000             ",
                                    "1": "13, 15, 17 & 19               "
                                },
                                {
                                    "0": "2 05 06817 01 4800 000             ",
                                    "1": "29 & 31                       "
                                },
                                {
                                    "0": "2 05 06817 01 4900 000             ",
                                    "1": "33 & 35                       "
                                },
                                {
                                    "0": "2 05 06817 01 5000 000             ",
                                    "1": "37 & 39                       "
                                },
                                {
                                    "0": "2 05 06817 01 5200 000             ",
                                    "1": "45, 47, 49 & PT. 51           "
                                },
                                {
                                    "0": "2 05 06817 01 5300 000             ",
                                    "1": "53,55,57 & E. 5' OF 51        "
                                },
                                {
                                    "0": "2 05 06817 01 5400 000             ",
                                    "1": "59 & 61                       "
                                },
                                {
                                    "0": "2 05 06817 01 5500 000             ",
                                    "1": "63 & 65                       "
                                },
                                {
                                    "0": "2 05 06817 01 5600 000             ",
                                    "1": "24 & PT. OF 23                "
                                },
                                {
                                    "0": "2 05 06817 01 7100 000             ",
                                    "1": "1 & PT. 2                     "
                                },
                                {
                                    "0": "2 05 06817 01 7200 000             ",
                                    "1": "3 & PT. 2                     "
                                },
                                {
                                    "0": "2 05 06817 02 3300 000             ",
                                    "1": "59 & PT. 57                   "
                                },
                                {
                                    "0": "2 05 06817 02 3400 000             ",
                                    "1": "55 & PT. 57                   "
                                },
                                {
                                    "0": "2 05 06817 02 5000 000             ",
                                    "1": "50, 52 & 54                   "
                                },
                                {
                                    "0": "2 05 06817 02 5200 000             ",
                                    "1": "62 & 64 & 22' OF 66           "
                                },
                                {
                                    "0": "2 05 06817 02 5300 000             ",
                                    "1": "68, 70 & PT. 66               "
                                },
                                {
                                    "0": "2 05 06817 02 5400 000             ",
                                    "1": "72 & S. 1/2 OF 74             "
                                },
                                {
                                    "0": "2 05 06817 02 5500 000             ",
                                    "1": "76 & PT. 74                   "
                                },
                                {
                                    "0": "2 05 06817 02 5600 000             ",
                                    "1": "78 & 80                       "
                                },
                                {
                                    "0": "2 05 06817 02 5900 000             ",
                                    "1": "7 & 8                         "
                                },
                                {
                                    "0": "2 05 06817 02 6100 000             ",
                                    "1": "4 & PT. 5                     "
                                },
                                {
                                    "0": "2 05 06817 03 0600 000             ",
                                    "1": "60 & 62                       "
                                },
                                {
                                    "0": "2 05 06817 03 2800 000             ",
                                    "1": "26, 27, 39 & PT. 25           "
                                },
                                {
                                    "0": "2 05 06817 03 2900 000             ",
                                    "1": "23 & 24 PT. 22 & 25           "
                                },
                                {
                                    "0": "2 05 06817 03 3000 000             ",
                                    "1": "PT. 21 & 22                   "
                                },
                                {
                                    "0": "2 05 06817 03 3100 000             ",
                                    "1": "20 & PT. 19 & 21              "
                                },
                                {
                                    "0": "2 05 06817 03 3200 000             ",
                                    "1": "PT. OF 18 & 19                "
                                },
                                {
                                    "0": "2 05 06817 03 3500 000             ",
                                    "1": "6 & 7                         "
                                },
                                {
                                    "0": "2 05 06817 03 3600 000             ",
                                    "1": "5 & PT. 4                     "
                                },
                                {
                                    "0": "2 05 06817 03 3700 000             ",
                                    "1": "3 & PT. OF 4                  "
                                },
                                {
                                    "0": "2 05 06817 03 3800 000             ",
                                    "1": "1 & PT. OF 2                  "
                                },
                                {
                                    "0": "2 05 06817 03 3900 000             ",
                                    "1": "9 & 10                        "
                                },
                                {
                                    "0": "2 05 06817 03 4000 000             ",
                                    "1": "11 & PT. 12                   "
                                },
                                {
                                    "0": "2 05 06817 03 4100 000             ",
                                    "1": "PT. 12 & PT. 13               "
                                },
                                {
                                    "0": "2 05 06817 03 4300 000             ",
                                    "1": "16 & PT. 15                   "
                                },
                                {
                                    "0": "2 05 06817 03 4400 000             ",
                                    "1": "28, 29 & PT. 30               "
                                },
                                {
                                    "0": "2 05 06817 03 4500 000             ",
                                    "1": "PT. 30 & 31                   "
                                },
                                {
                                    "0": "2 05 06817 03 4600 000             ",
                                    "1": "PT. 31 & 32                   "
                                },
                                {
                                    "0": "2 05 06817 03 4700 000             ",
                                    "1": "33 & PT. 32                   "
                                },
                                {
                                    "0": "2 05 06817 03 4900 000             ",
                                    "1": "36 PT. 35 & 37                "
                                },
                                {
                                    "0": "2 05 06817 03 5000 000             ",
                                    "1": "38 & PT. 37                   "
                                },
                                {
                                    "0": "2 05 06817 03 5100 000             ",
                                    "1": "9 & 1/2 OF 8                  "
                                },
                                {
                                    "0": "2 05 06817 03 5200 000             ",
                                    "1": "7 & PT. 8                     "
                                },
                                {
                                    "0": "2 05 06817 03 5600 000             ",
                                    "1": "2 & 3                         "
                                },
                                {
                                    "0": "2 05 06818 01 1900 000             ",
                                    "1": "1 & 2                         "
                                },
                                {
                                    "0": "2 05 06818 01 2000 000             ",
                                    "1": "3 & 4                         "
                                },
                                {
                                    "0": "2 05 06818 01 2500 000             ",
                                    "1": "10 & 11                       "
                                },
                                {
                                    "0": "2 05 06818 01 2700 000             ",
                                    "1": "13 & 14                       "
                                },
                                {
                                    "0": "2 05 06818 01 3700 000             ",
                                    "1": "19 & 20                       "
                                },
                                {
                                    "0": "2 05 06818 01 3801 000             ",
                                    "1": "8-9-10,23 & PT. OF 7          "
                                },
                                {
                                    "0": "2 05 06818 01 4500 000             ",
                                    "1": "71 & PT. 70                   "
                                },
                                {
                                    "0": "2 05 06818 02 0300 000             ",
                                    "1": "107 & PT. 106                 "
                                },
                                {
                                    "0": "2 05 06818 02 0400 000             ",
                                    "1": "105 & PT. 106                 "
                                },
                                {
                                    "0": "2 05 06818 02 0500 000             ",
                                    "1": "104 & PT. OF 105              "
                                },
                                {
                                    "0": "2 05 06818 02 0700 000             ",
                                    "1": "102 & 10' 101                 "
                                },
                                {
                                    "0": "2 05 06818 02 0800 000             ",
                                    "1": "PT. 100 & 101                 "
                                },
                                {
                                    "0": "2 05 06818 02 0900 000             ",
                                    "1": "PT. 99 & 100                  "
                                },
                                {
                                    "0": "2 05 06818 02 1000 000             ",
                                    "1": "PT. OF 97 & 98                "
                                },
                                {
                                    "0": "2 05 06818 02 1700 000             ",
                                    "1": "127 & PT. 128                 "
                                },
                                {
                                    "0": "2 05 06818 02 1800 000             ",
                                    "1": "PT. 128 & 129                 "
                                },
                                {
                                    "0": "2 05 06818 02 1900 000             ",
                                    "1": "130 & PT. OF 129              "
                                },
                                {
                                    "0": "2 05 06818 02 3100 000             ",
                                    "1": "178 & PT. 177                 "
                                },
                                {
                                    "0": "2 05 06818 02 3200 000             ",
                                    "1": "PT. OF 176 & 177              "
                                },
                                {
                                    "0": "2 05 06818 02 3300 000             ",
                                    "1": "175 & 1/2 OF 176              "
                                },
                                {
                                    "0": "2 05 06818 02 3400 000             ",
                                    "1": "174 & PT. 175                 "
                                },
                                {
                                    "0": "2 05 06818 02 3500 000             ",
                                    "1": "173 & PT. 172                 "
                                },
                                {
                                    "0": "2 05 06818 02 3600 000             ",
                                    "1": "PT. OF 171 & 172              "
                                },
                                {
                                    "0": "2 05 06818 02 3700 000             ",
                                    "1": "PT. 170 & 171                 "
                                },
                                {
                                    "0": "2 05 06818 02 3800 000             ",
                                    "1": "169 & PT. 168 & 170           "
                                },
                                {
                                    "0": "2 05 06818 02 3900 000             ",
                                    "1": "PT. OF 167 & 168              "
                                },
                                {
                                    "0": "2 05 06818 02 4000 000             ",
                                    "1": "166 & PT. OF 165 & 167        "
                                },
                                {
                                    "0": "2 05 06818 02 4100 000             ",
                                    "1": "PT. OF 165 & 164              "
                                },
                                {
                                    "0": "2 05 06818 02 4200 000             ",
                                    "1": "PT. 163 & 164                 "
                                },
                                {
                                    "0": "2 05 06818 02 4300 000             ",
                                    "1": "PT. 162 & 163                 "
                                },
                                {
                                    "0": "2 05 06818 02 4400 000             ",
                                    "1": "PT. 161 & 162                 "
                                },
                                {
                                    "0": "2 05 06818 02 4600 000             ",
                                    "1": "PT. 158 & 159                 "
                                },
                                {
                                    "0": "2 05 06818 02 4700 000             ",
                                    "1": "PT. OF 158 & 157              "
                                },
                                {
                                    "0": "2 05 06818 02 4800 000             ",
                                    "1": "PT. OF 156 & 157              "
                                },
                                {
                                    "0": "2 05 06818 02 4900 000             ",
                                    "1": "PT.OF 155 & 156               "
                                },
                                {
                                    "0": "2 05 06818 02 5100 000             ",
                                    "1": "PT.OF 153-A & 153-B           "
                                },
                                {
                                    "0": "2 05 06818 02 5200 000             ",
                                    "1": "152B & PT. 153A               "
                                },
                                {
                                    "0": "2 05 06818 02 5700 000             ",
                                    "1": "PT. OF 34 & 35                "
                                },
                                {
                                    "0": "2 05 06818 02 5800 000             ",
                                    "1": "PT. 34 & 35                   "
                                },
                                {
                                    "0": "2 05 06818 02 6400 000             ",
                                    "1": "28 & 18' OF 27                "
                                },
                                {
                                    "0": "2 05 06818 02 6500 000             ",
                                    "1": "PT. OF 26 & 27                "
                                },
                                {
                                    "0": "2 05 06818 02 6600 000             ",
                                    "1": "25 & PT. OF 24 & 26           "
                                },
                                {
                                    "0": "2 05 06818 02 6700 000             ",
                                    "1": "PT. OF 23 & 24                "
                                },
                                {
                                    "0": "2 05 06818 02 6800 000             ",
                                    "1": "PT. OF 22 & 23                "
                                },
                                {
                                    "0": "2 05 06818 02 7200 000             ",
                                    "1": "PT. OF 20 & 21                "
                                },
                                {
                                    "0": "2 05 06818 02 7300 000             ",
                                    "1": "PT. OF 19 & 20                "
                                },
                                {
                                    "0": "2 05 06818 02 7400 000             ",
                                    "1": "18 & PT. 19                   "
                                },
                                {
                                    "0": "2 05 06818 02 7600 000             ",
                                    "1": "16 & 17                       "
                                },
                                {
                                    "0": "2 05 06818 02 7700 000             ",
                                    "1": "14 & 15                       "
                                },
                                {
                                    "0": "2 05 06818 02 8100 000             ",
                                    "1": "9 & N. 1/2 OF 8               "
                                },
                                {
                                    "0": "2 05 06818 02 8200 000             ",
                                    "1": "7 & 1/2 OF 8                  "
                                },
                                {
                                    "0": "2 05 06818 02 8400 000             ",
                                    "1": "4 & 5                         "
                                },
                                {
                                    "0": "2 05 06818 03 0100 000             ",
                                    "1": "7 & 8                         "
                                },
                                {
                                    "0": "2 05 06818 03 0300 000             ",
                                    "1": "10 & 11                       "
                                },
                                {
                                    "0": "2 05 06818 03 0700 000             ",
                                    "1": "17 & 40' OF 18                "
                                },
                                {
                                    "0": "2 05 06818 03 2400 000             ",
                                    "1": "36 & PT. 35                   "
                                },
                                {
                                    "0": "2 05 06818 03 2700 000             ",
                                    "1": "PT. 74 & 75                   "
                                },
                                {
                                    "0": "2 05 06818 03 5100 000             ",
                                    "1": "49 & PT. 50                   "
                                },
                                {
                                    "0": "2 05 06818 03 5600 000             ",
                                    "1": "44, 43, & PT. 42              "
                                },
                                {
                                    "0": "2 05 06818 03 5800 000             ",
                                    "1": "41 & PT. 42                   "
                                },
                                {
                                    "0": "2 05 06818 03 5900 000             ",
                                    "1": "40 & PT. 39                   "
                                },
                                {
                                    "0": "2 05 06818 03 6000 000             ",
                                    "1": "38 & PT. 39                   "
                                },
                                {
                                    "0": "2 05 06818 03 6100 000             ",
                                    "1": "1 & PT. 2                     "
                                },
                                {
                                    "0": "2 05 06818 03 6200 000             ",
                                    "1": "3 & PT. 2                     "
                                },
                                {
                                    "0": "2 05 06818 03 6700 000             ",
                                    "1": "32 & PTS. OF 31 & 33          "
                                },
                                {
                                    "0": "2 05 06818 03 6800 000             ",
                                    "1": "PT. OF 33 & 34                "
                                },
                                {
                                    "0": "2 05 06818 03 6900 000             ",
                                    "1": "35 & PT 34                    "
                                },
                                {
                                    "0": "2 05 06818 04 0400 000             ",
                                    "1": "7 & 1/2 OF 8                  "
                                },
                                {
                                    "0": "2 05 06818 04 0500 000             ",
                                    "1": "9 & PT. OF 8                  "
                                },
                                {
                                    "0": "2 05 06818 04 1000 000             ",
                                    "1": "15 & PT. 14                   "
                                },
                                {
                                    "0": "2 05 06818 04 1400 000             ",
                                    "1": "20 & 21 & PT. 19              "
                                },
                                {
                                    "0": "2 05 06818 04 1700 000             ",
                                    "1": "PT. 17 & 18                   "
                                },
                                {
                                    "0": "2 05 06818 04 1800 000             ",
                                    "1": "PT. 18 & 19                   "
                                },
                                {
                                    "0": "2 05 06818 04 2000 000             ",
                                    "1": "PT. 19 & 20                   "
                                },
                                {
                                    "0": "2 05 06818 04 2400 000             ",
                                    "1": "PT. 22 & 21                   "
                                },
                                {
                                    "0": "2 05 06818 04 2600 000             ",
                                    "1": "PT. 22 & 23                   "
                                },
                                {
                                    "0": "2 05 06818 04 2700 000             ",
                                    "1": "PT.23 & 24                    "
                                },
                                {
                                    "0": "2 05 06818 04 3400 000             ",
                                    "1": "39 & 40                       "
                                },
                                {
                                    "0": "2 05 06818 04 4600 000             ",
                                    "1": "41 & 42                       "
                                },
                                {
                                    "0": "2 05 06818 04 4800 000             ",
                                    "1": "38 & 39                       "
                                },
                                {
                                    "0": "2 05 06818 04 5000 000             ",
                                    "1": "1 & 2                         "
                                },
                                {
                                    "0": "2 05 06818 04 5500 000             ",
                                    "1": "149 & PT. 148                 "
                                },
                                {
                                    "0": "2 05 06818 04 5700 000             ",
                                    "1": "146 & 147                     "
                                },
                                {
                                    "0": "2 05 06818 04 5800 000             ",
                                    "1": "144 & 146                     "
                                },
                                {
                                    "0": "2 05 06818 05 0800 000             ",
                                    "1": "PTS. 34 & 35                  "
                                },
                                {
                                    "0": "2 05 06818 05 0801 000             ",
                                    "1": "PTS. 34&35                    "
                                },
                                {
                                    "0": "2 05 06818 05 1200 000             ",
                                    "1": "27 & 28                       "
                                },
                                {
                                    "0": "2 05 06818 05 2400 000             ",
                                    "1": "PT. OF 46 & 47                "
                                },
                                {
                                    "0": "2 05 06818 05 2500 000             ",
                                    "1": "PT. OF 46 & 47                "
                                },
                                {
                                    "0": "2 05 06818 05 3800 000             ",
                                    "1": "55 & PT 54                    "
                                },
                                {
                                    "0": "2 05 06818 05 3900 000             ",
                                    "1": "53 & PT. 54                   "
                                },
                                {
                                    "0": "2 05 06818 05 4200 000             ",
                                    "1": "82 & 25' OF 83                "
                                },
                                {
                                    "0": "2 05 06818 05 4300 000             ",
                                    "1": "84 & PT. OF 83                "
                                },
                                {
                                    "0": "2 05 06818 05 4400 000             ",
                                    "1": "85 & PT. 86                   "
                                },
                                {
                                    "0": "2 05 06818 05 4500 000             ",
                                    "1": "PT. 86 & 87                   "
                                },
                                {
                                    "0": "2 05 06818 05 4600 000             ",
                                    "1": "PT. 87 & 88                   "
                                },
                                {
                                    "0": "2 05 06818 05 4700 000             ",
                                    "1": "90 & PT. 89                   "
                                },
                                {
                                    "0": "2 05 06818 05 5400 000             ",
                                    "1": "121 & PT. 120                 "
                                },
                                {
                                    "0": "2 05 06818 05 5500 000             ",
                                    "1": "119 & PT. 120                 "
                                },
                                {
                                    "0": "2 05 06818 05 5600 000             ",
                                    "1": "118 & PT. 117                 "
                                },
                                {
                                    "0": "2 05 06818 05 5700 000             ",
                                    "1": "116 & 1/2 OF 117              "
                                },
                                {
                                    "0": "2 05 06818 05 5800 000             ",
                                    "1": "115 & PT. 114                 "
                                },
                                {
                                    "0": "2 05 06818 05 5900 000             ",
                                    "1": "113 & 1/2 OF 114              "
                                },
                                {
                                    "0": "2 05 06818 05 6000 000             ",
                                    "1": "112 & PT. OF 111              "
                                },
                                {
                                    "0": "2 05 06818 05 6100 000             ",
                                    "1": "110 & 1/2 OF 111              "
                                },
                                {
                                    "0": "2 05 06818 05 6600 000             ",
                                    "1": "138 & PTS. 139                "
                                },
                                {
                                    "0": "2 05 06818 05 6700 000             ",
                                    "1": "140 & 1/2 OF 139              "
                                },
                                {
                                    "0": "2 05 06818 05 6900 000             ",
                                    "1": "144 & PT. 145 & 143           "
                                },
                                {
                                    "0": "2 05 06818 05 7000 000             ",
                                    "1": "146 & 25' OF 145              "
                                },
                                {
                                    "0": "2 05 06818 05 7100 000             ",
                                    "1": "147 & PT. 148                 "
                                },
                                {
                                    "0": "2 05 06818 05 7200 000             ",
                                    "1": "149 & PT. 148 & 150           "
                                },
                                {
                                    "0": "2 05 06819 01 0200 000             ",
                                    "1": "22 & 23                       "
                                },
                                {
                                    "0": "2 05 06819 01 0900 000             ",
                                    "1": "15 & PT. 14                   "
                                },
                                {
                                    "0": "2 05 06819 01 1300 000             ",
                                    "1": "4 & 5                         "
                                },
                                {
                                    "0": "2 05 06819 01 2500 000             ",
                                    "1": "4 & PT. OF 3                  "
                                },
                                {
                                    "0": "2 05 07605 01 0400 000             ",
                                    "1": "3 & PT. 2                     "
                                },
                                {
                                    "0": "2 05 07605 01 0600 000             ",
                                    "1": "5, 6 & PT. 7                  "
                                },
                                {
                                    "0": "2 05 07605 01 0700 000             ",
                                    "1": "8 & 9 & E. 1/2 OF 7           "
                                },
                                {
                                    "0": "2 05 07605 01 0900 000             ",
                                    "1": "10 & 11                       "
                                },
                                {
                                    "0": "2 05 07605 02 4800 000             ",
                                    "1": "314 & PT. OF 315              "
                                },
                                {
                                    "0": "2 05 07606 01 0100 131             ",
                                    "1": "131 & 133                     "
                                },
                                {
                                    "0": "2 05 07606 01 0100 321             ",
                                    "1": "321 & 323-.11                 "
                                },
                                {
                                    "0": "2 05 07606 01 0100 331             ",
                                    "1": "331 & 333                     "
                                },
                                {
                                    "0": "2 05 07606 01 1000 000             ",
                                    "1": "131 & 133                     "
                                },
                                {
                                    "0": "2 05 07606 01 2800 000             ",
                                    "1": "321 & 323-.11                 "
                                },
                                {
                                    "0": "2 05 07606 01 3100 000             ",
                                    "1": "331 & 333                     "
                                },
                                {
                                    "0": "2 05 07606 02 0100 131             ",
                                    "1": "131 & 133                     "
                                },
                                {
                                    "0": "2 05 07606 02 0100 321             ",
                                    "1": "321 & 323-.11                 "
                                },
                                {
                                    "0": "2 05 07606 02 0100 331             ",
                                    "1": "331 & 333                     "
                                },
                                {
                                    "0": "2 05 07606 06 6600 000             ",
                                    "1": "C & D                         "
                                },
                                {
                                    "0": "2 05 07607 01 4100 000             ",
                                    "1": "19 & PT. 20                   "
                                },
                                {
                                    "0": "2 05 07607 01 4200 000             ",
                                    "1": "21 & PT. 20                   "
                                },
                                {
                                    "0": "2 05 07607 01 4700 000             ",
                                    "1": "PT. 25 & 26                   "
                                },
                                {
                                    "0": "2 05 07607 01 6100 000             ",
                                    "1": "45 & 46                       "
                                },
                                {
                                    "0": "2 05 07607 01 6200 000             ",
                                    "1": "8 & 9                         "
                                },
                                {
                                    "0": "2 05 07608 01 0400 000             ",
                                    "1": "PTS. 46, 48, 50, 52 &         "
                                },
                                {
                                    "0": "2 05 07608 02 0100 000             ",
                                    "1": "35 & &T. 37                   "
                                },
                                {
                                    "0": "2 05 07608 02 0200 000             ",
                                    "1": "37 & PT 39                    "
                                },
                                {
                                    "0": "2 05 07608 02 0203 000             ",
                                    "1": "41 & PT.43                    "
                                },
                                {
                                    "0": "2 05 07608 02 0300 000             ",
                                    "1": "PT. 43 & 45                   "
                                },
                                {
                                    "0": "2 05 07608 02 0400 000             ",
                                    "1": "47 & PT. 45 & 49              "
                                },
                                {
                                    "0": "2 05 07608 02 0500 000             ",
                                    "1": "PT OF LOTS 49 & 51            "
                                },
                                {
                                    "0": "2 05 07608 02 0501 000             ",
                                    "1": "PT OF LOTS 49 & 51            "
                                },
                                {
                                    "0": "2 05 07608 02 0700 000             ",
                                    "1": "54 & PT. 52                   "
                                },
                                {
                                    "0": "2 05 07608 02 0800 000             ",
                                    "1": "PT.LOT 50 & 52                "
                                },
                                {
                                    "0": "2 05 07608 02 0801 000             ",
                                    "1": "PT. LOTS 50 & 48              "
                                },
                                {
                                    "0": "2 05 07608 02 0802 000             ",
                                    "1": "PT.LOTS 46 & 48               "
                                },
                                {
                                    "0": "2 05 07608 02 1001 000             ",
                                    "1": "PT. 42 & 44                   "
                                },
                                {
                                    "0": "2 05 07608 02 1004 000             ",
                                    "1": "PT. OF 44 & 46                "
                                },
                                {
                                    "0": "2 05 07608 02 1200 000             ",
                                    "1": "PT. 38 & 40                   "
                                },
                                {
                                    "0": "2 05 07608 02 1400 000             ",
                                    "1": "PT. 36 & 38                   "
                                },
                                {
                                    "0": "2 05 07608 02 1700 000             ",
                                    "1": "PT. 35 & 37                   "
                                },
                                {
                                    "0": "2 05 07608 02 1800 000             ",
                                    "1": "39 & PT. 37 & 41              "
                                },
                                {
                                    "0": "2 05 07608 02 1900 000             ",
                                    "1": "PT. 41 & 43                   "
                                },
                                {
                                    "0": "2 05 07608 02 2000 000",
                                    "1": "PT. 43 & 45                   "
                                },
                                {
                                    "0": "2 05 07608 02 2100 000             ",
                                    "1": "PT. 45 & 47                   "
                                },
                                {
                                    "0": "2 05 07608 02 2500 000             ",
                                    "1": "PT. 48 & 50                   "
                                },
                                {
                                    "0": "2 05 07608 02 2600 000             ",
                                    "1": "PT. 48 & 46                   "
                                },
                                {
                                    "0": "2 05 07608 02 2700 000             ",
                                    "1": "PT. 44 & 46                   "
                                },
                                {
                                    "0": "2 05 07608 02 2800 000             ",
                                    "1": "PT. 42 & 44                   "
                                },
                                {
                                    "0": "2 05 07608 02 2900 000             ",
                                    "1": "PT. 40 & 42                   "
                                },
                                {
                                    "0": "2 05 07608 02 3000 000             ",
                                    "1": "36, 38 & PT. 40               "
                                },
                                {
                                    "0": "2 05 07608 02 3900 000             ",
                                    "1": "51 & 53                       "
                                },
                                {
                                    "0": "2 05 07608 02 5300 000             ",
                                    "1": "PT. 35 & 37                   "
                                },
                                {
                                    "0": "2 05 07608 02 5400 000             ",
                                    "1": "PT. 35 & 37                   "
                                },
                                {
                                    "0": "2 05 07608 02 5500 000             ",
                                    "1": "PT. 35 & 37                   "
                                },
                                {
                                    "0": "2 05 07608 02 5600 000             ",
                                    "1": "PT. 35 & 37                   "
                                },
                                {
                                    "0": "2 05 07608 02 5700 000             ",
                                    "1": "PT. 35 & 37                   "
                                },
                                {
                                    "0": "2 05 07608 02 5900 000             ",
                                    "1": "PT. 39 & 41                   "
                                },
                                {
                                    "0": "2 05 07608 02 6000 000             ",
                                    "1": "PT. 41 & 43                   "
                                },
                                {
                                    "0": "2 05 07608 02 7400 000             ",
                                    "1": "44 & PT. 46                   "
                                },
                                {
                                    "0": "2 05 07608 02 7600 000             ",
                                    "1": "PT. 40 & 42                   "
                                },
                                {
                                    "0": "2 05 07608 03 0200 000             ",
                                    "1": "PT. 21 & 23                   "
                                },
                                {
                                    "0": "2 05 07608 03 1300 000             ",
                                    "1": "PT. 24 & 26                   "
                                },
                                {
                                    "0": "2 05 07608 03 1400 000             ",
                                    "1": "PT. 22 & 24                   "
                                },
                                {
                                    "0": "2 05 07608 03 1700 000             ",
                                    "1": "21, 20 & 19                   "
                                },
                                {
                                    "0": "2 05 07608 03 2400 000             ",
                                    "1": "11 & 12                       "
                                },
                                {
                                    "0": "2 05 07608 03 3200 000             ",
                                    "1": "8 & 9                         "
                                },
                                {
                                    "0": "2 05 07608 03 4100 000             ",
                                    "1": "5-7 & PT. 4 & 8               "
                                },
                                {
                                    "0": "2 05 07608 03 5100 000             ",
                                    "1": "PT. 26 & 28                   "
                                },
                                {
                                    "0": "2 05 07608 03 5300 000             ",
                                    "1": "24 & PT. 26                   "
                                },
                                {
                                    "0": "2 05 07608 04 0100 000             ",
                                    "1": "1-6 & 10                      "
                                },
                                {
                                    "0": "2 05 07608 04 0300 000             ",
                                    "1": "14, 16, 18 & 20               "
                                },
                                {
                                    "0": "2 05 07608 04 0400 000             ",
                                    "1": "22 & 24                       "
                                },
                                {
                                    "0": "2 05 07608 04 0600 000             ",
                                    "1": "28 & 29                       "
                                },
                                {
                                    "0": "2 05 07608 04 1100 000             ",
                                    "1": "34 & 35                       "
                                },
                                {
                                    "0": "2 05 07608 04 1400 000             ",
                                    "1": "23 & 25                       "
                                },
                                {
                                    "0": "2 05 07608 04 1800 000             ",
                                    "1": "15 & PT. 13                   "
                                },
                                {
                                    "0": "2 05 07608 04 1900 000             ",
                                    "1": "PT. 13 & 11                   "
                                },
                                {
                                    "0": "2 05 07608 04 2700 000             ",
                                    "1": "PT. 1,3,5,7,&9                "
                                },
                                {
                                    "0": "2 05 07608 04 2800 000             ",
                                    "1": "PT. 1, 3, 5, & 7              "
                                },
                                {
                                    "0": "2 05 07608 04 3200 000             ",
                                    "1": "PT. 7 & 9                     "
                                },
                                {
                                    "0": "2 05 07608 04 3300 000             ",
                                    "1": "PT. 9 & 11                    "
                                },
                                {
                                    "0": "2 05 07608 04 3500 000             ",
                                    "1": "PT. 11 & 13                   "
                                },
                                {
                                    "0": "2 05 07608 04 3800 000             ",
                                    "1": "PT. 17 & 19                   "
                                },
                                {
                                    "0": "2 05 07608 04 3900 000             ",
                                    "1": "PT. 17 & 19                   "
                                },
                                {
                                    "0": "2 05 07608 04 4000 000             ",
                                    "1": "PT. 17 & 19                   "
                                },
                                {
                                    "0": "2 05 07608 04 4100 000             ",
                                    "1": "PT. 17 & 19                   "
                                },
                                {
                                    "0": "2 05 07608 04 4300 000             ",
                                    "1": "PT. 17 & 19                   "
                                },
                                {
                                    "0": "2 05 07608 04 4600 000             ",
                                    "1": "16 & PT. 18                   "
                                },
                                {
                                    "0": "2 05 07608 04 4700 000             ",
                                    "1": "16 & PT. 18                   "
                                },
                                {
                                    "0": "2 05 07608 04 5200 000             ",
                                    "1": "PT. 2, 4, 6 & 8               "
                                },
                                {
                                    "0": "2 05 07608 04 5300 000             ",
                                    "1": "PT. 2, 4, 6 & 8               "
                                },
                                {
                                    "0": "2 05 07608 04 5500 000             ",
                                    "1": "PT. 2, 4, 6 & 8               "
                                },
                                {
                                    "0": "2 05 07608 05 0100 000             ",
                                    "1": "PT. 1, 3 & 5                  "
                                },
                                {
                                    "0": "2 05 07608 05 0200 000             ",
                                    "1": "PT. 1, 3 & 5                  "
                                },
                                {
                                    "0": "2 05 07608 05 0300 000             ",
                                    "1": "PT. 1, 3 & 5                  "
                                },
                                {
                                    "0": "2 05 07608 05 0400 000             ",
                                    "1": "PT. 5 & 7                     "
                                },
                                {
                                    "0": "2 05 07608 05 0900 000             ",
                                    "1": "13 & 15                       "
                                },
                                {
                                    "0": "2 05 07608 05 1000 000             ",
                                    "1": "17 & PT. 19                   "
                                },
                                {
                                    "0": "2 05 07608 05 1800 000             ",
                                    "1": "PT. 12 & 14                   "
                                },
                                {
                                    "0": "2 05 07608 05 2400 000             ",
                                    "1": "PT. 2, 4 & 6                  "
                                },
                                {
                                    "0": "2 05 07608 05 2500 000             ",
                                    "1": "PT. 2,4 & 6                   "
                                },
                                {
                                    "0": "2 05 07608 05 2600 000             ",
                                    "1": "PT. 2,4 & 6                   "
                                },
                                {
                                    "0": "2 05 07608 05 2700 000             ",
                                    "1": "PT. 2,4 & 6                   "
                                },
                                {
                                    "0": "2 05 07608 05 3900 000             ",
                                    "1": "PT. 17 & 19                   "
                                },
                                {
                                    "0": "2 05 07608 05 4100 000             ",
                                    "1": "PT. 17 & 19                   "
                                },
                                {
                                    "0": "2 05 07608 05 4100 001             ",
                                    "1": "PT. 17 & 19                   "
                                },
                                {
                                    "0": "2 05 07608 05 4500 000             ",
                                    "1": "PT. 16 & 18                   "
                                },
                                {
                                    "0": "2 05 07608 05 4600 000             ",
                                    "1": "PT. 14 & 16                   "
                                },
                                {
                                    "0": "2 05 07608 05 5000 000             ",
                                    "1": "PT. 8 & 10                    "
                                },
                                {
                                    "0": "2 05 07608 05 5200 000             ",
                                    "1": "PT. 6 & 8                     "
                                },
                                {
                                    "0": "2 05 07608 05 6800 000             ",
                                    "1": "36 & 37                       "
                                },
                                {
                                    "0": "2 05 07608 05 8200 000             ",
                                    "1": "PT. 32 & 33                   "
                                },
                                {
                                    "0": "2 05 07608 06 0500 000             ",
                                    "1": "84,85,86,87 & PT OF 83 & 88   "
                                },
                                {
                                    "0": "2 05 07608 06 0800 000             ",
                                    "1": "PT. 88 & 89                   "
                                },
                                {
                                    "0": "2 05 07608 06 1200 000             ",
                                    "1": "PT. 67 & 68                   "
                                },
                                {
                                    "0": "2 05 07608 06 1300 000             ",
                                    "1": "68 & 69                       "
                                },
                                {
                                    "0": "2 05 07608 06 1500 000             ",
                                    "1": "65 & 66                       "
                                },
                                {
                                    "0": "2 05 07608 06 2200 000             ",
                                    "1": "PT. 37 & 38                   "
                                },
                                {
                                    "0": "2 05 07608 06 2400 000             ",
                                    "1": "PT. 38 & 39                   "
                                },
                                {
                                    "0": "2 05 07608 06 2500 000",
                                    "1": "PT. 39 & 40                   "
                                },
                                {
                                    "0": "2 05 07608 06 2700 000             ",
                                    "1": "41 & PT. 40                   "
                                },
                                {
                                    "0": "2 05 07608 06 3000 000             ",
                                    "1": "PT. 42 & 43                   "
                                },
                                {
                                    "0": "2 05 07608 06 3400 000             ",
                                    "1": "PT.OF 45 & 46                 "
                                },
                                {
                                    "0": "2 05 07608 06 4600 000             ",
                                    "1": "PT. 22 & 21                   "
                                },
                                {
                                    "0": "2 05 07608 06 4900 000             ",
                                    "1": "20 & PT. 21                   "
                                },
                                {
                                    "0": "2 05 07608 06 5100 000             ",
                                    "1": "PT. 17 & 18                   "
                                },
                                {
                                    "0": "2 05 07608 06 5200 000             ",
                                    "1": "PT. 16 & 17                   "
                                },
                                {
                                    "0": "2 05 07610 01 0100 000             ",
                                    "1": "66 & 67 & 39                  "
                                },
                                {
                                    "0": "2 05 07610 01 0200 000             ",
                                    "1": "38 & 65                       "
                                },
                                {
                                    "0": "2 05 07610 01 0300 000             ",
                                    "1": "64 & 38                       "
                                },
                                {
                                    "0": "2 05 07610 01 4800 000             ",
                                    "1": "8-9 & PT. 10 & 29             "
                                },
                                {
                                    "0": "2 05 07610 01 4900 000             ",
                                    "1": "6 & 7                         "
                                },
                                {
                                    "0": "2 05 07610 01 5100 000             ",
                                    "1": "4 & PT. 3                     "
                                },
                                {
                                    "0": "2 05 07610 01 5700 000             ",
                                    "1": "1/2 #36 & E. 25' #37          "
                                },
                                {
                                    "0": "2 05 07610 01 5800 000             ",
                                    "1": "48 & 49                       "
                                },
                                {
                                    "0": "2 05 07610 02 1200 000             ",
                                    "1": "15,16,17 & PT. 13             "
                                },
                                {
                                    "0": "2 05 07610 02 1400 000             ",
                                    "1": "22-23-24-25-26 & PT.OF 27     "
                                },
                                {
                                    "0": "2 05 07610 02 5500 000             ",
                                    "1": "14 & 15                       "
                                },
                                {
                                    "0": "2 05 07610 02 6100 000             ",
                                    "1": "5 & 6                         "
                                },
                                {
                                    "0": "2 05 07611 01 0600 000             ",
                                    "1": "2 & PT. OF 1                  "
                                },
                                {
                                    "0": "2 05 07611 01 1100 000             ",
                                    "1": "10 & 11 & PT. 9               "
                                },
                                {
                                    "0": "2 05 07611 01 3300 000             ",
                                    "1": "15' OF 26 & ALL OF 27         "
                                },
                                {
                                    "0": "2 05 07611 01 3400 000             ",
                                    "1": "PT. 25 & 26                   "
                                },
                                {
                                    "0": "2 05 07611 01 3500 000             ",
                                    "1": "24 & 17.5' 25                 "
                                },
                                {
                                    "0": "2 05 07611 01 3700 000             ",
                                    "1": "36 & 37                       "
                                },
                                {
                                    "0": "2 05 07611 02 2300 000             ",
                                    "1": "22 & 23                       "
                                },
                                {
                                    "0": "2 05 07611 02 6400 000             ",
                                    "1": "PT. 5 & 6                     "
                                },
                                {
                                    "0": "2 05 07612 02 1100 000             ",
                                    "1": "6 & 7                         "
                                },
                                {
                                    "0": "2 05 07612 02 1300 000             ",
                                    "1": "10 & 11                       "
                                },
                                {
                                    "0": "2 05 07612 02 1900 000             ",
                                    "1": "29 & 30                       "
                                },
                                {
                                    "0": "2 05 07612 02 2000 000             ",
                                    "1": "27 & 28                       "
                                },
                                {
                                    "0": "2 05 07612 02 2100 000             ",
                                    "1": "25 & 26                       "
                                },
                                {
                                    "0": "2 05 07612 02 2400 000             ",
                                    "1": "21 & 22                       "
                                },
                                {
                                    "0": "2 05 07612 02 2500 000             ",
                                    "1": "19 & 20                       "
                                },
                                {
                                    "0": "2 05 07612 02 2600 000             ",
                                    "1": "35 & 36                       "
                                },
                                {
                                    "0": "2 05 07612 02 3000 000             ",
                                    "1": "45 & 46                       "
                                },
                                {
                                    "0": "2 05 07612 02 5200 000             ",
                                    "1": "5 & 6                         "
                                },
                                {
                                    "0": "2 05 07612 02 5700 000             ",
                                    "1": "PT. 29 & 30                   "
                                },
                                {
                                    "0": "2 05 07612 02 5800 000             ",
                                    "1": "30 & PT. 29                   "
                                },
                                {
                                    "0": "2 05 07612 02 6600 000             ",
                                    "1": "13 & PT. 14                   "
                                },
                                {
                                    "0": "2 05 07612 02 7100 000             ",
                                    "1": "7 & 8                         "
                                },
                                {
                                    "0": "2 05 07612 02 7400 000             ",
                                    "1": "1 & PT. 2                     "
                                },
                                {
                                    "0": "2 05 07612 03 2600 000             ",
                                    "1": "PT. 63 & 64                   "
                                },
                                {
                                    "0": "2 05 07612 03 3000 000             ",
                                    "1": "60 & PT. 59                   "
                                },
                                {
                                    "0": "2 05 07612 03 3500 000             ",
                                    "1": "19 & PT. 20                   "
                                },
                                {
                                    "0": "2 05 07612 03 3600 000             ",
                                    "1": "PT. 20 & 21                   "
                                },
                                {
                                    "0": "2 05 07612 03 3700 000             ",
                                    "1": "22 & PT. 21 & 23              "
                                },
                                {
                                    "0": "2 05 07612 03 3900 000             ",
                                    "1": "23 & 24                       "
                                },
                                {
                                    "0": "2 05 07612 03 4200 000             ",
                                    "1": "26 & PT. 25                   "
                                },
                                {
                                    "0": "2 05 07612 03 4300 000             ",
                                    "1": "27 & PT. 28                   "
                                },
                                {
                                    "0": "2 05 07612 03 4400 000             ",
                                    "1": "PT. 28 & 29                   "
                                },
                                {
                                    "0": "2 05 07612 03 4500 000             ",
                                    "1": "30 & PT. 29                   "
                                },
                                {
                                    "0": "2 05 07612 03 4600 000             ",
                                    "1": "8 & PT. 9                     "
                                },
                                {
                                    "0": "2 05 07612 03 4602 000             ",
                                    "1": "10 & PT. 9                    "
                                },
                                {
                                    "0": "2 05 07612 03 4800 000             ",
                                    "1": "13 & 14                       "
                                },
                                {
                                    "0": "2 05 07612 03 4900 000             ",
                                    "1": "40 & 54                       "
                                },
                                {
                                    "0": "2 05 07612 03 5000 000             ",
                                    "1": "6 & 7                         "
                                },
                                {
                                    "0": "2 05 07612 03 5200 000             ",
                                    "1": "3-A & 4                       "
                                },
                                {
                                    "0": "2 05 07612 03 5600 000             ",
                                    "1": "14 & 15                       "
                                },
                                {
                                    "0": "2 05 07612 03 6100 000             ",
                                    "1": "4 & PT. OF 3                  "
                                },
                                {
                                    "0": "2 05 07614 02 0100 000             ",
                                    "1": "PT. 12 & 13                   "
                                },
                                {
                                    "0": "2 05 07620 02 0101 000             ",
                                    "1": "6 & 7                         "
                                },
                                {
                                    "0": "2 05 07620 03 2600 000             ",
                                    "1": "17 & PT. OF 18                "
                                },
                                {
                                    "0": "2 05 07620 03 3100 000             ",
                                    "1": "PT. 18 & 19                   "
                                },
                                {
                                    "0": "2 05 07620 03 3101 000             ",
                                    "1": "PT. OF 19 & 20                "
                                },
                                {
                                    "0": "2 05 07620 03 3700 000             ",
                                    "1": "7 & PT. 9                     "
                                },
                                {
                                    "0": "2 05 07620 03 3900 000             ",
                                    "1": "8 & 9                         "
                                },
                                {
                                    "0": "2 05 07620 03 5200 000             ",
                                    "1": "21 & PT. OF 20                "
                                },
                                {
                                    "0": "2 05 07705 01 1400 000             ",
                                    "1": "PT. 1, 3, & 5                 "
                                },
                                {
                                    "0": "2 05 07705 01 3900 000             ",
                                    "1": "8 & PT. 22                    "
                                },
                                {
                                    "0": "2 05 07705 01 4000 000             ",
                                    "1": "9 & 23                        "
                                },
                                {
                                    "0": "2 05 07705 01 4200 000             ",
                                    "1": "11 & 25                       "
                                },
                                {
                                    "0": "2 05 07705 01 4300 000             ",
                                    "1": "12 & PT. 26                   "
                                },
                                {
                                    "0": "2 05 07705 01 5300 000             ",
                                    "1": "PT. OF 1 & PT. OF 15          "
                                },
                                {
                                    "0": "2 05 07705 01 5400 000             ",
                                    "1": "PT. OF 1 & PT. OF 15          "
                                },
                                {
                                    "0": "2 05 07705 02 0900 000             ",
                                    "1": "41 & PT. 42                   "
                                },
                                {
                                    "0": "2 05 07705 02 1200 000             ",
                                    "1": "PT. 50 & 51                   "
                                },
                                {
                                    "0": "2 05 07705 02 1300 000             ",
                                    "1": "PT. 50 & 51                   "
                                },
                                {
                                    "0": "2 05 07705 02 1400 000             ",
                                    "1": "PT. 36,37 50 & 51             "
                                },
                                {
                                    "0": "2 05 07705 02 1800 000             ",
                                    "1": "PT. 34 & 35                   "
                                },
                                {
                                    "0": "2 05 07705 02 1900 000             ",
                                    "1": "PT. 34 & 35                   "
                                },
                                {
                                    "0": "2 05 07705 02 2000 000             ",
                                    "1": "PT. 34, 35 & 47-49            "
                                },
                                {
                                    "0": "2 05 07705 02 2100 000             ",
                                    "1": "PT. 33 & 34                   "
                                },
                                {
                                    "0": "2 05 07705 02 2200 000             ",
                                    "1": "PT. 32 & 33                   "
                                },
                                {
                                    "0": "2 05 07705 02 2400 000             ",
                                    "1": "PT. OF 31 & 32                "
                                },
                                {
                                    "0": "2 05 07705 02 2500 000             ",
                                    "1": "PT. 30 & 31                   "
                                },
                                {
                                    "0": "2 05 07705 02 2600 000             ",
                                    "1": "PT. 29 & 30                   "
                                },
                                {
                                    "0": "2 05 07705 02 2800 000             ",
                                    "1": "PT. 43, 44 & 45               "
                                },
                                {
                                    "0": "2 05 07705 02 2900 000             ",
                                    "1": "PT. 43 & 44                   "
                                },
                                {
                                    "0": "2 05 07705 02 3100 000             ",
                                    "1": "46 & PT. 45 & 44              "
                                },
                                {
                                    "0": "2 05 07705 02 3500 000             ",
                                    "1": "PT. 17 & 18                   "
                                },
                                {
                                    "0": "2 05 07705 02 3600 000             ",
                                    "1": "PT. 18 & 19                   "
                                },
                                {
                                    "0": "2 05 07705 02 4000 000             ",
                                    "1": "21 & PT. 22                   "
                                },
                                {
                                    "0": "2 05 07705 02 4200 000             ",
                                    "1": "43 & PT. 45                   "
                                },
                                {
                                    "0": "2 05 07705 02 4300 000             ",
                                    "1": "PT. 45 & 47                   "
                                },
                                {
                                    "0": "2 05 07705 02 4400 000             ",
                                    "1": "49 & PT. 47                   "
                                },
                                {
                                    "0": "2 05 07705 02 5000 000             ",
                                    "1": "53 & 54                       "
                                },
                                {
                                    "0": "2 05 07705 03 4300 000             ",
                                    "1": "PT. 81 & 82                   "
                                },
                                {
                                    "0": "2 05 07705 03 4600 000             ",
                                    "1": "83 & PT. 82                   "
                                },
                                {
                                    "0": "2 05 07705 03 4800 000             ",
                                    "1": "PT. OF 84 & 85                "
                                },
                                {
                                    "0": "2 05 07705 03 4900 000             ",
                                    "1": "PT. 85 & 86                   "
                                },
                                {
                                    "0": "2 05 07705 03 5100 000             ",
                                    "1": "PT. 86 & 87                   "
                                },
                                {
                                    "0": "2 05 07705 03 5300 000             ",
                                    "1": "PT. 87 & 88                   "
                                },
                                {
                                    "0": "2 05 07705 03 5400 000             ",
                                    "1": "PT. 88 & 89                   "
                                },
                                {
                                    "0": "2 05 07705 03 5500 000             ",
                                    "1": "PT. 89 & 90                   "
                                },
                                {
                                    "0": "2 05 07705 03 5700 000             ",
                                    "1": "PT. 90 & 91                   "
                                },
                                {
                                    "0": "2 05 07705 03 6500 000             ",
                                    "1": "PT. 70 & 71                   "
                                },
                                {
                                    "0": "2 05 07705 03 6900 000             ",
                                    "1": "PT. 66 & 67                   "
                                },
                                {
                                    "0": "2 05 07705 03 7000 000             ",
                                    "1": "PT. 65 & 66                   "
                                },
                                {
                                    "0": "2 05 07705 04 0300 000             ",
                                    "1": "PT. OF 46 & 47                "
                                },
                                {
                                    "0": "2 05 07705 04 0400 000             ",
                                    "1": "PT. 45 & 46                   "
                                },
                                {
                                    "0": "2 05 07705 04 0500 000             ",
                                    "1": "PT. 45 & 46                   "
                                },
                                {
                                    "0": "2 05 07705 04 0600 000             ",
                                    "1": "PT. 44 & 45                   "
                                },
                                {
                                    "0": "2 05 07705 04 1100 000             ",
                                    "1": "PT 40 & 41                    "
                                },
                                {
                                    "0": "2 05 07705 04 1300 000             ",
                                    "1": "PT. 39 & 40                   "
                                },
                                {
                                    "0": "2 05 07705 04 1400 000             ",
                                    "1": "PT. 39 & 40                   "
                                },
                                {
                                    "0": "2 05 07705 04 1500 000             ",
                                    "1": "PT. 38 & 39                   "
                                },
                                {
                                    "0": "2 05 07705 04 1700 000             ",
                                    "1": "PT. 37 & 38                   "
                                },
                                {
                                    "0": "2 05 07705 04 2000 000             ",
                                    "1": "PT. 15 & 16                   "
                                },
                                {
                                    "0": "2 05 07705 04 2100 000             ",
                                    "1": "PT. 16 & 17                   "
                                },
                                {
                                    "0": "2 05 07705 04 2200 000             ",
                                    "1": "PT. 17 & 19                   "
                                },
                                {
                                    "0": "2 05 07705 04 2300 000             ",
                                    "1": "PT. 19 & 20                   "
                                },
                                {
                                    "0": "2 05 07705 04 2500 000             ",
                                    "1": "PT. 21 & 22                   "
                                },
                                {
                                    "0": "2 05 07705 04 2600 000             ",
                                    "1": "PT. 22 & 23                   "
                                },
                                {
                                    "0": "2 05 07705 04 2800 000             ",
                                    "1": "100 & PT. 99                  "
                                },
                                {
                                    "0": "2 05 07705 04 2900 000             ",
                                    "1": "PT. 98 & 99                   "
                                },
                                {
                                    "0": "2 05 07705 04 3000 000             ",
                                    "1": "PT. 96-98 & 106 & 107         "
                                },
                                {
                                    "0": "2 05 07705 04 3101 000             ",
                                    "1": "PT. 94-96&104-106             "
                                },
                                {
                                    "0": "2 05 07705 04 3200 000             ",
                                    "1": "PT. 93, 94 & 102-104          "
                                },
                                {
                                    "0": "2 05 07705 04 3600 000             ",
                                    "1": "PT. 101 & 102                 "
                                },
                                {
                                    "0": "2 05 07705 04 3700 000             ",
                                    "1": "108 & 109 & PT. 107           "
                                },
                                {
                                    "0": "2 05 07706 01 0300 000             ",
                                    "1": "54 & 55                       "
                                },
                                {
                                    "0": "2 05 07706 01 0900 000             ",
                                    "1": "47 & 48                       "
                                },
                                {
                                    "0": "2 05 07706 01 1400 000             ",
                                    "1": "41 & 42                       "
                                },
                                {
                                    "0": "2 05 07706 01 2600 000             ",
                                    "1": "60 & 61                       "
                                },
                                {
                                    "0": "2 05 07706 01 3500 000             ",
                                    "1": "78 & PT. 77                   "
                                },
                                {
                                    "0": "2 05 07706 01 3600 000             ",
                                    "1": "76 & PT. 77                   "
                                },
                                {
                                    "0": "2 05 07706 01 4200 000             ",
                                    "1": "PT. 70 & 69                   "
                                },
                                {
                                    "0": "2 05 07706 01 4300 000             ",
                                    "1": "69 & PT. 68 & 70              "
                                },
                                {
                                    "0": "2 05 07706 01 4700 000             ",
                                    "1": "39 & 38                       "
                                },
                                {
                                    "0": "2 05 07706 01 4900 000             ",
                                    "1": "36 & PT. 35                   "
                                },
                                {
                                    "0": "2 05 07706 01 5000 000             ",
                                    "1": "34 & PT. 35                   "
                                },
                                {
                                    "0": "2 05 07706 01 5400 000             ",
                                    "1": "28 & PT. 29                   "
                                },
                                {
                                    "0": "2 05 07706 01 6900 000             ",
                                    "1": "4 & 5                         "
                                },
                                {
                                    "0": "2 05 07706 01 7000 000             ",
                                    "1": "3 & PT. 2                     "
                                },
                                {
                                    "0": "2 05 07706 01 7100 000             ",
                                    "1": "1 & PT. OF 2                  "
                                },
                                {
                                    "0": "2 05 07706 02 0100 000             ",
                                    "1": "11 & 12                       "
                                },
                                {
                                    "0": "2 05 07706 02 0400 000             ",
                                    "1": "PT. OF 17 & 18                "
                                },
                                {
                                    "0": "2 05 07706 02 0500 000             ",
                                    "1": "19 & PT. OF 18 & 20           "
                                },
                                {
                                    "0": "2 05 07706 02 0600 000             ",
                                    "1": "PT. OF 20 & 21                "
                                },
                                {
                                    "0": "2 05 07706 02 0700 000             ",
                                    "1": "PT. 21 & 22                   "
                                },
                                {
                                    "0": "2 05 07706 02 0800 000             ",
                                    "1": "23 PT. 22 & 24                "
                                },
                                {
                                    "0": "2 05 07706 02 0900 000             ",
                                    "1": "47.5 OF 24 & 22.5' OF         "
                                },
                                {
                                    "0": "2 05 07706 02 1000 000             ",
                                    "1": "PT. 25 & 26                   "
                                },
                                {
                                    "0": "2 05 07706 02 1100 000             ",
                                    "1": "27 & PT. 26                   "
                                },
                                {
                                    "0": "2 05 07706 02 1300 000             ",
                                    "1": "PT. 28 & 29                   "
                                },
                                {
                                    "0": "2 05 07706 02 1800 000             ",
                                    "1": "61 & PT. OF 60 & 62           "
                                },
                                {
                                    "0": "2 05 07706 02 1900 000             ",
                                    "1": "PT. 59 & 60                   "
                                },
                                {
                                    "0": "2 05 07706 02 2000 000             ",
                                    "1": "58 & PT. 57 & 59              "
                                },
                                {
                                    "0": "2 05 07706 02 2100 000             ",
                                    "1": "PT. 56 & 57                   "
                                },
                                {
                                    "0": "2 05 07706 02 2200 000             ",
                                    "1": "55 & PT. 54 & 56              "
                                },
                                {
                                    "0": "2 05 07706 02 2300 000             ",
                                    "1": "PT. 53 & 54                   "
                                },
                                {
                                    "0": "2 05 07706 02 2400 000             ",
                                    "1": "52 & PT. 51 & 53              "
                                },
                                {
                                    "0": "2 05 07706 02 2500 000             ",
                                    "1": "50 & PT. 51                   "
                                },
                                {
                                    "0": "2 05 07706 02 2600 000             ",
                                    "1": "49 & PT. OF 48                "
                                },
                                {
                                    "0": "2 05 07706 02 2700 000             ",
                                    "1": "47 & PT. 48                   "
                                },
                                {
                                    "0": "2 05 07706 02 2800 000             ",
                                    "1": "46 & PT. OF 45                "
                                },
                                {
                                    "0": "2 05 07706 02 2900 000             ",
                                    "1": "44 & PT. OF 45                "
                                },
                                {
                                    "0": "2 05 07706 02 3100 000             ",
                                    "1": "9 & PT. OF 8                  "
                                },
                                {
                                    "0": "2 05 07706 02 3200 000             ",
                                    "1": "PT. 7 & 8                     "
                                },
                                {
                                    "0": "2 05 07706 02 3300 000             ",
                                    "1": "6 & PT. 5 & 7                 "
                                },
                                {
                                    "0": "2 05 07706 02 3400 000             ",
                                    "1": "PT. 4 & 5                     "
                                },
                                {
                                    "0": "2 05 07706 02 3500 000             ",
                                    "1": "PT. OF LOTS 42 & 41           "
                                },
                                {
                                    "0": "2 05 07706 02 3600 000             ",
                                    "1": "43 & PT. 42                   "
                                },
                                {
                                    "0": "2 05 07706 02 3900 000             ",
                                    "1": "66 & PT. 67                   "
                                },
                                {
                                    "0": "2 05 07706 02 4000 000             ",
                                    "1": "68 & PT. OF 67 & 69           "
                                },
                                {
                                    "0": "2 05 07706 02 4100 000             ",
                                    "1": "PT. OF 69 & 70                "
                                },
                                {
                                    "0": "2 05 07706 02 4200 000             ",
                                    "1": "PT. 70 & 71                   "
                                },
                                {
                                    "0": "2 05 07706 02 4300 000             ",
                                    "1": "72 & PT. OF 71                "
                                },
                                {
                                    "0": "2 05 07706 02 4400 000             ",
                                    "1": "73 & PT. 74                   "
                                },
                                {
                                    "0": "2 05 07706 02 4500 000             ",
                                    "1": "75 & PT. 74 & 76              "
                                },
                                {
                                    "0": "2 05 07706 02 4600 000             ",
                                    "1": "PT. 76 & 77                   "
                                },
                                {
                                    "0": "2 05 07706 02 4700 000             ",
                                    "1": "PT. 77 & 78                   "
                                },
                                {
                                    "0": "2 05 07706 02 4800 000             ",
                                    "1": "79 & PT. 78                   "
                                },
                                {
                                    "0": "2 05 07706 02 4900 000             ",
                                    "1": "80 & PT. 81                   "
                                },
                                {
                                    "0": "2 05 07706 02 5100 000             ",
                                    "1": "83 & 84                       "
                                },
                                {
                                    "0": "2 05 07706 02 5200 000             ",
                                    "1": "112 & PT. 111                 "
                                },
                                {
                                    "0": "2 05 07706 02 5300 000             ",
                                    "1": "110 & PT. 111                 "
                                },
                                {
                                    "0": "2 05 07706 02 5400 000             ",
                                    "1": "109 & PT. 108                 "
                                },
                                {
                                    "0": "2 05 07706 02 5500 000             ",
                                    "1": "PT. 107 & 108                 "
                                },
                                {
                                    "0": "2 05 07706 02 5600 000             ",
                                    "1": "106 & PT. 105 & 107           "
                                },
                                {
                                    "0": "2 05 07706 02 5700 000             ",
                                    "1": "104 & PT. 105                 "
                                },
                                {
                                    "0": "2 05 07706 02 5800 000             ",
                                    "1": "103 & 1/2 OF 102              "
                                },
                                {
                                    "0": "2 05 07706 02 5900 000             ",
                                    "1": "101 & PT. 102                 "
                                },
                                {
                                    "0": "2 05 07706 02 6000 000             ",
                                    "1": "100 & PT. 99                  "
                                },
                                {
                                    "0": "2 05 07706 02 6001 000             ",
                                    "1": "PT. OF 98 & 99                "
                                },
                                {
                                    "0": "2 05 07706 02 6100 000             ",
                                    "1": "97 & PT. 96 & 98              "
                                },
                                {
                                    "0": "2 05 07706 02 6200 000             ",
                                    "1": "95 & PT. 96                   "
                                },
                                {
                                    "0": "2 05 07706 02 6300 000             ",
                                    "1": "93 & 94 & PT. 96              "
                                },
                                {
                                    "0": "2 05 07706 02 6400 000             ",
                                    "1": "91 & PT. 92 & 90              "
                                },
                                {
                                    "0": "2 05 07706 02 6500 000             ",
                                    "1": "89 & PT. 88 & 90              "
                                },
                                {
                                    "0": "2 05 07706 02 6600 000             ",
                                    "1": "87 & PT. 88 & 86              "
                                },
                                {
                                    "0": "2 05 07706 02 6700 000             ",
                                    "1": "85 & PT. 86                   "
                                },
                                {
                                    "0": "2 05 07706 02 6800 000             ",
                                    "1": "38 & PT. 39                   "
                                },
                                {
                                    "0": "2 05 07706 02 6900 000             ",
                                    "1": "40 & &T. OF 39 & 41           "
                                },
                                {
                                    "0": "2 05 07706 02 7000 000             ",
                                    "1": "3 & PT. 2 & 4                 "
                                },
                                {
                                    "0": "2 05 07706 02 7100 000             ",
                                    "1": "1 & PT. 2                     "
                                },
                                {
                                    "0": "2 05 07706 02 7300 000             ",
                                    "1": "113 & 114                     "
                                },
                                {
                                    "0": "2 05 07706 02 7500 000             ",
                                    "1": "117 & 118                     "
                                },
                                {
                                    "0": "2 05 07706 02 7600 000             ",
                                    "1": "119 & 120                     "
                                },
                                {
                                    "0": "2 05 07706 02 7700 000             ",
                                    "1": "121 & 122                     "
                                },
                                {
                                    "0": "2 05 07706 02 7800 000             ",
                                    "1": "123 & 1/2 OF 124              "
                                },
                                {
                                    "0": "2 05 07706 02 7900 000             ",
                                    "1": "125 & E. 25' OF 124           "
                                },
                                {
                                    "0": "2 05 07706 02 8100 000             ",
                                    "1": "128 & PT. OF 129              "
                                },
                                {
                                    "0": "2 05 07706 02 8200 000             ",
                                    "1": "130 & E. 1/2 OF 129           "
                                },
                                {
                                    "0": "2 05 07706 02 8300 000             ",
                                    "1": "131 & PT. 132                 "
                                },
                                {
                                    "0": "2 05 07706 02 8400 000             ",
                                    "1": "133 & PT. 132                 "
                                },
                                {
                                    "0": "2 05 07706 02 8500 000             ",
                                    "1": "134 & PT. 135                 "
                                },
                                {
                                    "0": "2 05 07706 02 8600 000             ",
                                    "1": "136 & PT. OF 135 & 137        "
                                },
                                {
                                    "0": "2 05 07706 02 8700 000             ",
                                    "1": "138 & PT. 137 & 139           "
                                },
                                {
                                    "0": "2 05 07706 02 8800 000             ",
                                    "1": "140 & PT. OF 139              "
                                },
                                {
                                    "0": "2 05 07709 01 6900 000             ",
                                    "1": "1 & 2                         "
                                },
                                {
                                    "0": "2 05 07709 02 0400 000             ",
                                    "1": "PT. 50 & 51                   "
                                },
                                {
                                    "0": "2 05 07709 02 0900 000             ",
                                    "1": "PT. 72 & 73                   "
                                },
                                {
                                    "0": "2 05 07709 02 2500 000             ",
                                    "1": "PT. 53 & 54                   "
                                },
                                {
                                    "0": "2 05 07709 02 2700 000             ",
                                    "1": "PT. 52 & 53                   "
                                },
                                {
                                    "0": "2 05 07709 02 3400 000             ",
                                    "1": "PT. 25 & 26                   "
                                },
                                {
                                    "0": "2 05 07709 02 3500 000             ",
                                    "1": "PT. 25 & 26                   "
                                },
                                {
                                    "0": "2 05 07709 02 4200 000",
                                    "1": "PT. 27 & 28                   "
                                },
                                {
                                    "0": "2 05 07709 02 5200 000             ",
                                    "1": "11 & 12                       "
                                },
                                {
                                    "0": "2 05 07709 02 5400 000             ",
                                    "1": "PT. 9 & 10                    "
                                },
                                {
                                    "0": "2 05 07709 02 5500 000             ",
                                    "1": "7,8 & PT. 9                   "
                                },
                                {
                                    "0": "2 05 07709 02 5900 000             ",
                                    "1": "2,3 & PT. 1                   "
                                },
                                {
                                    "0": "2 05 07709 03 0200 000             ",
                                    "1": "16-18, 25-27 & PT. 19         "
                                },
                                {
                                    "0": "2 05 07709 03 0300 000             ",
                                    "1": "1 & 15                        "
                                },
                                {
                                    "0": "2 05 07709 03 1300 000             ",
                                    "1": "PT 22 & 23                    "
                                },
                                {
                                    "0": "2 05 07709 05 3900 000             ",
                                    "1": "5 & 6                         "
                                },
                                {
                                    "0": "2 05 07709 05 4800 000             ",
                                    "1": "1 & 2                         "
                                },
                                {
                                    "0": "2 05 07709 05 5200 000             ",
                                    "1": "6 & 7                         "
                                },
                                {
                                    "0": "2 05 07710 01 1400 000             ",
                                    "1": "1 & 2                         "
                                },
                                {
                                    "0": "2 05 07710 01 2700 000             ",
                                    "1": "59,60 & PT. 61 & 43-44        "
                                },
                                {
                                    "0": "2 05 07710 01 3100 000             ",
                                    "1": "78 & 79                       "
                                },
                                {
                                    "0": "2 05 07710 01 3300 000             ",
                                    "1": "75 & 76                       "
                                },
                                {
                                    "0": "2 05 07710 01 3501 000             ",
                                    "1": "73 & 10' OF 72                "
                                },
                                {
                                    "0": "2 05 07710 01 3700 000             ",
                                    "1": "66-69, 35 & 36                "
                                },
                                {
                                    "0": "2 05 07710 01 3800 000             ",
                                    "1": "62-65 & PT. 61                "
                                },
                                {
                                    "0": "2 05 07710 01 4700 000             ",
                                    "1": "21 & 22                       "
                                },
                                {
                                    "0": "2 05 07710 01 4800 000             ",
                                    "1": "19 & 20                       "
                                },
                                {
                                    "0": "2 05 07710 01 5100 000             ",
                                    "1": "8, 9, 23, 24 & PT. 7 &        "
                                },
                                {
                                    "0": "2 05 07710 01 5200 000             ",
                                    "1": "4,5,6,26,27,28,PT.7&25        "
                                },
                                {
                                    "0": "2 05 07713 01 3500 000             ",
                                    "1": "23-25 & PT. 26                "
                                },
                                {
                                    "0": "2 05 07713 01 3600 000             ",
                                    "1": "27 & PT. 26                   "
                                },
                                {
                                    "0": "2 05 07713 02 0400 000             ",
                                    "1": "10 & 11                       "
                                },
                                {
                                    "0": "2 05 07713 02 1200 000             ",
                                    "1": "PT.OF 7, 8 & 9                "
                                },
                                {
                                    "0": "2 05 07713 02 2400 000             ",
                                    "1": "8 & 10                        "
                                },
                                {
                                    "0": "2 05 07713 02 2600 000             ",
                                    "1": "2&4                           "
                                },
                                {
                                    "0": "2 05 07713 02 3000 000             ",
                                    "1": "3 & PT. 5                     "
                                },
                                {
                                    "0": "2 05 07713 02 3100 000             ",
                                    "1": "PT. 5 & PT. 7                 "
                                },
                                {
                                    "0": "2 05 07713 02 3200 000             ",
                                    "1": "9, 11 & PT. 7 & 13            "
                                },
                                {
                                    "0": "2 05 07713 02 3300 000             ",
                                    "1": "PT. 13 & 15                   "
                                },
                                {
                                    "0": "2 05 07713 02 3400 000             ",
                                    "1": "17 & PT. 15                   "
                                },
                                {
                                    "0": "2 05 07713 02 3500 000             ",
                                    "1": "19 & S. 1/2 OF 21             "
                                },
                                {
                                    "0": "2 05 07713 02 3600 000             ",
                                    "1": "23 & PT. 21, 25               "
                                },
                                {
                                    "0": "2 05 07713 02 3700 000             ",
                                    "1": "27-29 & PT. 25                "
                                },
                                {
                                    "0": "2 05 07713 02 3800 000             ",
                                    "1": "31 & 33                       "
                                },
                                {
                                    "0": "2 05 07713 02 4300 000             ",
                                    "1": "12 & 14                       "
                                },
                                {
                                    "0": "2 05 07713 02 4400 000             ",
                                    "1": "16 & PT. 18                   "
                                },
                                {
                                    "0": "2 05 07713 02 4500 000             ",
                                    "1": "20 & PT. 18                   "
                                },
                                {
                                    "0": "2 05 07713 02 4900 000             ",
                                    "1": "28 & PT. OF 30                "
                                },
                                {
                                    "0": "2 05 07713 02 5000 000             ",
                                    "1": "30 & 32                       "
                                },
                                {
                                    "0": "2 05 07713 02 5200 000             ",
                                    "1": "33 & PT. 31                   "
                                },
                                {
                                    "0": "2 05 07713 02 5300 000             ",
                                    "1": "PT. 29 & 31                   "
                                },
                                {
                                    "0": "2 05 07713 02 5400 000             ",
                                    "1": "PT. OF 27 & 29                "
                                },
                                {
                                    "0": "2 05 07713 02 5500 000             ",
                                    "1": "PT. OF 25 & 27                "
                                },
                                {
                                    "0": "2 05 07713 02 5600 000             ",
                                    "1": "23 & PT. 25                   "
                                },
                                {
                                    "0": "2 05 07713 02 6100 000             ",
                                    "1": "13 & 1/2 OF 11                "
                                },
                                {
                                    "0": "2 05 07713 02 6300 000             ",
                                    "1": "PT. 8 & PT. 9                 "
                                },
                                {
                                    "0": "2 05 07713 02 6400 000             ",
                                    "1": "7 & PT. OF 8                  "
                                },
                                {
                                    "0": "2 05 07713 02 6500 000             ",
                                    "1": "4 & PT OF LOT 5               "
                                },
                                {
                                    "0": "2 05 07714 01 0700 000             ",
                                    "1": "PT. OF LOTS 1 & 2             "
                                },
                                {
                                    "0": "2 05 07714 01 0900 000             ",
                                    "1": "ALL OF D-1 & B-3 & B-6 PT OF 3"
                                },
                                {
                                    "0": "2 05 07714 01 1002 000             ",
                                    "1": "PT. OF D-2 & D-3              "
                                },
                                {
                                    "0": "2 05 07714 01 1400 000             ",
                                    "1": "B-2 & B-7                     "
                                },
                                {
                                    "0": "2 05 07714 01 3100 000             ",
                                    "1": "A-8 & A-9                     "
                                },
                                {
                                    "0": "2 05 07714 01 4000 000             ",
                                    "1": "C-18, PT. OF 4 & ALL D-3      "
                                },
                                {
                                    "0": "2 05 07714 01 4200 000             ",
                                    "1": "C-15 & C-16                   "
                                },
                                {
                                    "0": "2 05 07717 01 5200 000             ",
                                    "1": "15 & PT. 16                   "
                                },
                                {
                                    "0": "2 05 07717 01 5300 000             ",
                                    "1": "17 & PT. 16                   "
                                },
                                {
                                    "0": "2 05 07717 01 5500 000             ",
                                    "1": "18-19-20-21 & PT. OF 21 1/2   "
                                },
                                {
                                    "0": "2 05 07717 01 5600 000             ",
                                    "1": "22, 23 & PT. 21.5             "
                                },
                                {
                                    "0": "2 05 07717 01 5700 000             ",
                                    "1": "24 & 25                       "
                                },
                                {
                                    "0": "2 05 07717 01 5900 000             ",
                                    "1": "27 & 28                       "
                                },
                                {
                                    "0": "2 05 07717 01 6700 000             ",
                                    "1": "35 & 35.5                     "
                                },
                                {
                                    "0": "2 05 07717 02 3500 000             ",
                                    "1": "47 & 52                       "
                                },
                                {
                                    "0": "2 05 07717 03 2700 000             ",
                                    "1": "2, 4 & 6                      "
                                },
                                {
                                    "0": "2 05 07717 03 3600 000             ",
                                    "1": "26 & PT. 28                   "
                                },
                                {
                                    "0": "2 05 07717 03 3700 000             ",
                                    "1": "PT. 28 & 30                   "
                                },
                                {
                                    "0": "2 05 07717 03 3800 000             ",
                                    "1": "PT. 30 & 32                   "
                                },
                                {
                                    "0": "2 05 07717 03 3900 000             ",
                                    "1": "PT. 32 & 34                   "
                                },
                                {
                                    "0": "2 05 07717 03 4000 000             ",
                                    "1": "PT. 36 & 38                   "
                                },
                                {
                                    "0": "2 05 07717 03 4200 000             ",
                                    "1": "49 & 51                       "
                                },
                                {
                                    "0": "2 05 07717 03 4300 000             ",
                                    "1": "43, 45 & 47                   "
                                },
                                {
                                    "0": "2 05 07717 03 4500 000             ",
                                    "1": "37 & 39                       "
                                },
                                {
                                    "0": "2 05 07717 03 4700 000             ",
                                    "1": "PT. 29 & 31                   "
                                },
                                {
                                    "0": "2 05 07717 03 4800 000             ",
                                    "1": "27 & PT. 29                   "
                                },
                                {
                                    "0": "2 05 07717 03 5100 000             ",
                                    "1": "21 & PT. 23                   "
                                },
                                {
                                    "0": "2 05 07717 03 5300 000             ",
                                    "1": "11,13,15,& 17                 "
                                },
                                {
                                    "0": "2 05 07717 03 5400 000             ",
                                    "1": "9 & PT. 7                     "
                                },
                                {
                                    "0": "2 05 07717 03 5500 000             ",
                                    "1": "PT. 5 & 7                     "
                                },
                                {
                                    "0": "2 05 07717 03 5600 000             ",
                                    "1": "PT. 3 & 5                     "
                                },
                                {
                                    "0": "2 05 07717 03 5700 000             ",
                                    "1": "1 & PT. 3                     "
                                },
                                {
                                    "0": "2 05 07717 04 0100 000             ",
                                    "1": "1 & PT. 2                     "
                                },
                                {
                                    "0": "2 05 07717 04 0200 000             ",
                                    "1": "3 & PT. 2                     "
                                },
                                {
                                    "0": "2 05 07717 04 0300 000             ",
                                    "1": "15 & 16                       "
                                },
                                {
                                    "0": "2 05 07717 04 1100 000             ",
                                    "1": "50 & PT. 51                   "
                                },
                                {
                                    "0": "2 05 07717 04 2800 000             ",
                                    "1": "26 & 27                       "
                                },
                                {
                                    "0": "2 05 07717 04 3400 000             ",
                                    "1": "4 & PT 5                      "
                                },
                                {
                                    "0": "2 05 07717 04 3500 000             ",
                                    "1": "PT. 5 & 6                     "
                                },
                                {
                                    "0": "2 05 07717 04 3600 000             ",
                                    "1": "7 & PT. 6                     "
                                },
                                {
                                    "0": "2 05 07717 04 3700 000             ",
                                    "1": "8 & PT. 9                     "
                                },
                                {
                                    "0": "2 05 07717 04 3900 000             ",
                                    "1": "PT. OF 9 & 10                 "
                                },
                                {
                                    "0": "2 05 07717 04 4000 000             ",
                                    "1": "PT. 9 & 10                    "
                                },
                                {
                                    "0": "2 05 07717 04 4100 000             ",
                                    "1": "28 & 29                       "
                                },
                                {
                                    "0": "2 05 07717 04 4600 000             ",
                                    "1": "34 & PT. 35                   "
                                },
                                {
                                    "0": "2 05 07717 04 4700 000             ",
                                    "1": "36 & PT. 35                   "
                                },
                                {
                                    "0": "2 05 07717 04 5600 000             ",
                                    "1": "78 & 79                       "
                                },
                                {
                                    "0": "2 05 07717 04 5800 000             ",
                                    "1": "PT. 89 & 90                   "
                                },
                                {
                                    "0": "2 05 07717 04 5900 000             ",
                                    "1": "88 & PT. 89                   "
                                },
                                {
                                    "0": "2 05 07717 04 6000 000             ",
                                    "1": "87 & 1/2 OF 86                "
                                },
                                {
                                    "0": "2 05 07717 04 6100 000             ",
                                    "1": "85 & 1/2 86                   "
                                },
                                {
                                    "0": "2 05 07717 04 6700 000             ",
                                    "1": "45 & 46                       "
                                },
                                {
                                    "0": "2 05 07717 04 6800 000             ",
                                    "1": "44 & PT. OF 43                "
                                },
                                {
                                    "0": "2 05 07717 04 6900 000             ",
                                    "1": "42 & 1/2 OF 43                "
                                },
                                {
                                    "0": "2 05 07717 05 1500 000             ",
                                    "1": "35 & PT. 34                   "
                                },
                                {
                                    "0": "2 05 07717 05 5000 000             ",
                                    "1": "15 & PT. 14                   "
                                },
                                {
                                    "0": "2 05 07717 05 5900 000             ",
                                    "1": "A1, A2, A3 & PT. B-1          "
                                },
                                {
                                    "0": "2 05 07717 05 6000 000             ",
                                    "1": "2 & PT. 1 & 3                 "
                                },
                                {
                                    "0": "2 05 07717 05 6100 000             ",
                                    "1": "4 & PT. 3 & 5                 "
                                },
                                {
                                    "0": "2 05 07717 05 6200 000             ",
                                    "1": "6 & PT. 5                     "
                                },
                                {
                                    "0": "2 05 07717 05 6800 000             ",
                                    "1": "12 & 13                       "
                                },
                                {
                                    "0": "2 05 07717 05 7300 000             ",
                                    "1": "18 & 19                       "
                                },
                                {
                                    "0": "2 05 07717 05 7500 000             ",
                                    "1": "PT 21 & PT 22                "
                                },
                                {
                                    "0": "2 05 07717 06 0500 000             ",
                                    "1": "70 & 71                       "
                                },
                                {
                                    "0": "2 05 07717 06 0600 000             ",
                                    "1": "68 & 69                       "
                                },
                                {
                                    "0": "2 05 07717 06 0900 000             ",
                                    "1": "64 & 65                       "
                                },
                                {
                                    "0": "2 05 07717 06 1000 000             ",
                                    "1": "PT. 67 & 66                   "
                                },
                                {
                                    "0": "2 05 07717 06 1100 000             ",
                                    "1": "PT. 59 & 60                   "
                                },
                                {
                                    "0": "2 05 07717 06 1200 000             ",
                                    "1": "N. 1/2 OF 59 & 60             "
                                },
                                {
                                    "0": "2 05 07717 06 1300 000             ",
                                    "1": "61 & 62                       "
                                },
                                {
                                    "0": "2 05 07717 06 1900 000             ",
                                    "1": "40 & 41                       "
                                },
                                {
                                    "0": "2 05 07717 06 2500 000             ",
                                    "1": "PT.50 & ALL 51                "
                                },
                                {
                                    "0": "2 05 07717 06 2501 000             ",
                                    "1": "PT.49 & ALL 48                "
                                },
                                {
                                    "0": "2 05 07717 06 2502 000             ",
                                    "1": "PT.49 & PT 50                 "
                                },
                                {
                                    "0": "2 05 07717 06 2600 000             ",
                                    "1": "39 & PT. OF 38                "
                                },
                                {
                                    "0": "2 05 07717 06 2700 000             ",
                                    "1": "PT. 37 & PT. 38               "
                                },
                                {
                                    "0": "2 05 07717 06 2900 000             ",
                                    "1": "PT. 35 & 36                   "
                                },
                                {
                                    "0": "2 05 07717 06 3000 000             ",
                                    "1": "34 & PT. 35                   "
                                },
                                {
                                    "0": "2 05 07717 06 3001 000             ",
                                    "1": "33 & PT. 32                   "
                                },
                                {
                                    "0": "2 05 07717 06 3100 000             ",
                                    "1": "31 & PT. OF 32                "
                                },
                                {
                                    "0": "2 05 07717 07 0700 000             ",
                                    "1": "27 & 28                       "
                                },
                                {
                                    "0": "2 05 07717 07 0900 000             ",
                                    "1": "8 & 9                         "
                                },
                                {
                                    "0": "2 05 07717 07 1100 000             ",
                                    "1": "11 & PT. 12                   "
                                },
                                {
                                    "0": "2 05 07717 07 1200 000             ",
                                    "1": "PT. 12 & 13                   "
                                },
                                {
                                    "0": "2 05 07717 07 1300 000             ",
                                    "1": "14 & PT. 13                   "
                                },
                                {
                                    "0": "2 05 07717 07 1500 000             ",
                                    "1": "1 THRU 7 & 16 THRU 22         "
                                },
                                {
                                    "0": "2 05 07717 07 2100 000             ",
                                    "1": "1 & 2                         "
                                },
                                {
                                    "0": "2 05 07717 07 2300 000             ",
                                    "1": "14 & 15                       "
                                },
                                {
                                    "0": "2 05 07717 07 2400 000             ",
                                    "1": "6 & PT.OF 5                   "
                                },
                                {
                                    "0": "2 05 07718 01 1500 000             ",
                                    "1": "11 & PT. 10                   "
                                },
                                {
                                    "0": "2 05 07718 01 1600 000             ",
                                    "1": "9 & PT. 10                    "
                                },
                                {
                                    "0": "2 05 07718 01 2600 000             ",
                                    "1": "21 & 1/2 OF 22                "
                                },
                                {
                                    "0": "2 05 07718 01 2700 000             ",
                                    "1": "23 & PT. 22                   "
                                },
                                {
                                    "0": "2 05 07718 01 2800 000             ",
                                    "1": "24 & PT. 25                   "
                                },
                                {
                                    "0": "2 05 07718 01 2900 000             ",
                                    "1": "26 & PT. 25                   "
                                },
                                {
                                    "0": "2 05 07718 01 3000 000             ",
                                    "1": "27,28,29 & 30                 "
                                },
                                {
                                    "0": "2 05 07718 01 3400 000             ",
                                    "1": "35 & 36                       "
                                },
                                {
                                    "0": "2 05 07718 01 3800 000             ",
                                    "1": "17 & 18                       "
                                },
                                {
                                    "0": "2 05 07718 01 3900 000             ",
                                    "1": "14, 15 & 16                   "
                                },
                                {
                                    "0": "2 05 07718 01 4200 000             ",
                                    "1": "8 & PT. OF 9                  "
                                },
                                {
                                    "0": "2 05 07718 01 4300 000             ",
                                    "1": "7 & PT. 6                     "
                                },
                                {
                                    "0": "2 05 07718 01 4400 000             ",
                                    "1": "5 & PT. 6                     "
                                },
                                {
                                    "0": "2 05 07718 01 4700 000             ",
                                    "1": "1 & 2                         "
                                },
                                {
                                    "0": "2 05 07718 02 6300 000             ",
                                    "1": "PT.OF 3 & 4                   "
                                },
                                {
                                    "0": "2 05 07718 02 6500 000             ",
                                    "1": "PT. OF 1 & 2                  "
                                },
                                {
                                    "0": "2 05 07718 02 6800 000             ",
                                    "1": "31 & 32 & PT. 28-30           "
                                },
                                {
                                    "0": "2 05 07718 02 7300 000             ",
                                    "1": "36, 37 & PT. 38               "
                                },
                                {
                                    "0": "2 05 07718 02 7500 000             ",
                                    "1": "43 & 44                       "
                                },
                                {
                                    "0": "2 05 07718 02 7600 000             ",
                                    "1": "PT. OF 41 & 42                "
                                },
                                {
                                    "0": "2 05 07718 02 7700 000             ",
                                    "1": "40 & PT. 41                   "
                                },
                                {
                                    "0": "2 05 07718 02 7800 000             ",
                                    "1": "39 & PT. 38                   "
                                },
                                {
                                    "0": "2 05 07718 02 7900 000             ",
                                    "1": "37 & PT. 38                   "
                                },
                                {
                                    "0": "2 05 07718 02 8000 000             ",
                                    "1": "35 & 36                       "
                                },
                                {
                                    "0": "2 05 07718 02 9100 000             ",
                                    "1": "43, 44 & PT. 42               "
                                },
                                {
                                    "0": "2 05 08508 01 2300 000             ",
                                    "1": "PT. 2 & 3                     "
                                },
                                {
                                    "0": "2 05 08508 01 2400 000             ",
                                    "1": "PT. 3 & 4                     "
                                },
                                {
                                    "0": "2 05 08508 01 2401 000             ",
                                    "1": "2 & PT. 3                     "
                                },
                                {
                                    "0": "2 05 08508 02 2100 000             ",
                                    "1": "92 & PT. 91                   "
                                },
                                {
                                    "0": "2 05 08508 02 3300 000             ",
                                    "1": "80 & PT. 81                   "
                                },
                                {
                                    "0": "2 05 08511 01 0100 000             ",
                                    "1": "1 & 2                         "
                                },
                                {
                                    "0": "2 05 08511 01 0400 000             ",
                                    "1": "6 & PT. OF 7                  "
                                },
                                {
                                    "0": "2 05 08511 01 0500 000             ",
                                    "1": "8, 9 & PT. 7                  "
                                },
                                {
                                    "0": "2 05 08511 01 0600 000             ",
                                    "1": "10 & 11                       "
                                },
                                {
                                    "0": "2 05 08511 01 0800 000             ",
                                    "1": "13-14 & PT. 1516-17           "
                                },
                                {
                                    "0": "2 05 08511 01 1000 000             ",
                                    "1": "PT. 15 & 16                   "
                                },
                                {
                                    "0": "2 05 08600 01 0500 000             ",
                                    "1": "7,8,9 & 10                    "
                                },
                                {
                                    "0": "2 05 08600 01 0900 000             ",
                                    "1": "4 & PT. 3                     "
                                },
                                {
                                    "0": "2 05 08600 01 1100 000             ",
                                    "1": "2 & PT. 3                     "
                                },
                                {
                                    "0": "2 05 08600 01 1900 000             ",
                                    "1": "15 & 16                       "
                                },
                                {
                                    "0": "2 05 08605 02 0500 000             ",
                                    "1": "4 & 5                         "
                                },
                                {
                                    "0": "2 05 08605 02 0800 000             ",
                                    "1": "15 & PT.OF 16,17,18           "
                                },
                                {
                                    "0": "2 05 08700 01 0701 000             ",
                                    "1": "7,8,9,19,20,21 & 25           "
                                },
                                {
                                    "0": "3 00 01600 01 2800 000             ",
                                    "1": "2 & 3                         "
                                },
                                {
                                    "0": "3 00 01600 01 5200 000             ",
                                    "1": "13 & 14                       "
                                },
                                {
                                    "0": "3 00 01600 01 5800 000             ",
                                    "1": "2 & 3                         "
                                },
                                {
                                    "0": "3 00 01600 01 5900 000             ",
                                    "1": "4 & 5                         "
                                },
                                {
                                    "0": "3 00 01600 01 6100 000             ",
                                    "1": "9 & 10                        "
                                },
                                {
                                    "0": "3 00 01600 01 6900 000             ",
                                    "1": "3-4-5 & 6                     "
                                },
                                {
                                    "0": "3 00 01600 02 4902 000             ",
                                    "1": "9-C & PT 9B                   "
                                },
                                {
                                    "0": "3 00 01700 01 4001 000             ",
                                    "1": "PT.OF 32 & 33                 "
                                },
                                {
                                    "0": "3 00 01700 02 2627 000             ",
                                    "1": "27 & 28                       "
                                },
                                {
                                    "0": "3 00 01800 01 0704 000             ",
                                    "1": "4 & 5                         "
                                },
                                {
                                    "0": "3 00 01800 01 0709 000             ",
                                    "1": "10 & PT. OF 9                 "
                                },
                                {
                                    "0": "3 00 01800 01 2300 000             ",
                                    "1": "10 & 11                       "
                                },
                                {
                                    "0": "3 00 01800 01 2600 000             ",
                                    "1": "14 15 & PT 16                 "
                                },
                                {
                                    "0": "3 00 01800 01 2824 000             ",
                                    "1": "3 & 3A                        "
                                },
                                {
                                    "0": "3 00 02400 01 0424 000             ",
                                    "1": "22 & PT.OF 33                 "
                                },
                                {
                                    "0": "3 00 02500 01 0700 000             ",
                                    "1": "61 & 62                       "
                                },
                                {
                                    "0": "3 00 02500 01 1500 000             ",
                                    "1": "52 & 53                       "
                                },
                                {
                                    "0": "3 00 02500 01 2100 000             ",
                                    "1": "45 & 46                       "
                                },
                                {
                                    "0": "3 00 02500 01 2500 000             ",
                                    "1": "38 & 39                       "
                                },
                                {
                                    "0": "3 00 02500 01 2600 000             ",
                                    "1": "36 & 37                       "
                                },
                                {
                                    "0": "3 00 02500 01 2700 000             ",
                                    "1": "35 & 49                       "
                                },
                                {
                                    "0": "3 00 02500 01 4400 000             ",
                                    "1": "25 & 34                       "
                                },
                                {
                                    "0": "3 00 02500 01 5900 000             ",
                                    "1": "PT. 22 & 23                   "
                                },
                                {
                                    "0": "3 00 02500 01 5901 000             ",
                                    "1": "PT. OF 19,22 & 23 ALL OF 24   "
                                },
                                {
                                    "0": "3 00 02500 01 6000 000             ",
                                    "1": "20, 21 & PT 19 & 22           "
                                },
                                {
                                    "0": "3 00 02500 01 6200 000             ",
                                    "1": "18 & PT. OF 19                "
                                },
                                {
                                    "0": "3 00 02500 01 6500 000             ",
                                    "1": "PT. OF 14 & 15                "
                                },
                                {
                                    "0": "3 00 02500 01 6600 000             ",
                                    "1": "13 & PT. 14 & 15              "
                                },
                                {
                                    "0": "3 00 02500 01 7202 000             ",
                                    "1": "1 & 2                         "
                                },
                                {
                                    "0": "3 00 02500 01 7400 000             ",
                                    "1": "3 & 4                         "
                                },
                                {
                                    "0": "3 00 02500 01 7500 000             ",
                                    "1": "1 & 2                         "
                                },
                                {
                                    "0": "3 00 02700 01 3501 000             ",
                                    "1": "2 & PT. OF 3                  "
                                },
                                {
                                    "0": "3 00 02700 01 3801 000             ",
                                    "1": "8 & N. PT. 9                  "
                                },
                                {
                                    "0": "3 00 02700 01 3802 000             ",
                                    "1": "5 & PT. OF 6                  "
                                },
                                {
                                    "0": "3 00 03400 01 1200 000             ",
                                    "1": "5 & 6                         "
                                },
                                {
                                    "0": "3 00 03400 01 1600 000             ",
                                    "1": "9 & 10                        "
                                },
                                {
                                    "0": "3 00 03600 02 1313 000             ",
                                    "1": "11 & A                        "
                                },
                                {
                                    "0": "3 00 04200 01 1801 000             ",
                                    "1": "1 & PT OF 2                   "
                                },
                                {
                                    "0": "3 00 04200 01 1806 000             ",
                                    "1": "3 & PT OF 2                   "
                                },
                                {
                                    "0": "3 00 04300 01 2100 000             ",
                                    "1": "37 & PT. 36                   "
                                },
                                {
                                    "0": "3 00 04300 01 7501 000             ",
                                    "1": "1 & PT. OF 5                  "
                                },
                                {
                                    "0": "3 00 04300 01 7700 000             ",
                                    "1": "19 & 20                       "
                                },
                                {
                                    "0": "3 00 04300 01 8400 000             ",
                                    "1": "3 & 25' OF 4                  "
                                },
                                {
                                    "0": "3 00 04300 01 8500 000             ",
                                    "1": "1 & 2                         "
                                },
                                {
                                    "0": "3 00 04300 02 1601 000             ",
                                    "1": "2&3A                          "
                                },
                                {
                                    "0": "3 00 04300 02 3901 000             ",
                                    "1": "1 & 2                         "
                                },
                                {
                                    "0": "3 00 04300 02 4400 000             ",
                                    "1": "7 & 8                         "
                                },
                                {
                                    "0": "3 00 04300 02 5300 000             ",
                                    "1": "18 & 19                       "
                                },
                                {
                                    "0": "3 00 04615 01 0200 000             ",
                                    "1": "36 & PT.OF 34                 "
                                },
                                {
                                    "0": "3 00 04615 01 0201 000             ",
                                    "1": "8,9, & PT. 7                  "
                                },
                                {
                                    "0": "3 00 04615 01 0400 000             ",
                                    "1": "10 & 11                       "
                                },
                                {
                                    "0": "3 00 04615 01 0800 000             ",
                                    "1": "46 & 48                       "
                                },
                                {
                                    "0": "3 00 04615 01 0900 000             ",
                                    "1": "50 & 52                       "
                                },
                                {
                                    "0": "3 00 04615 01 1100 000             ",
                                    "1": "49 & 51                       "
                                },
                                {
                                    "0": "3 00 04615 01 1500 000             ",
                                    "1": "54 & 56                       "
                                },
                                {
                                    "0": "3 00 04615 01 1600 000             ",
                                    "1": "58,60, & PT 62                "
                                },
                                {
                                    "0": "3 00 04615 01 1900 000             ",
                                    "1": "18 & 57                       "
                                },
                                {
                                    "0": "3 00 04615 01 2000 000             ",
                                    "1": "19 & 59                       "
                                },
                                {
                                    "0": "3 00 04615 01 2300 000             ",
                                    "1": "66 & 64                       "
                                },
                                {
                                    "0": "3 00 04615 01 2301 000             ",
                                    "1": "50 & 52                       "
                                },
                                {
                                    "0": "3 00 05601 02 2701 000             ",
                                    "1": "N & P                         "
                                },
                                {
                                    "0": "3 00 06300 01 3000 000             ",
                                    "1": "PT.LOT 23, LOT 25 & 26        "
                                },
                                {
                                    "0": "3 03 04615 01 6000 000             ",
                                    "1": "26 & PT OF 28                 "
                                },
                                {
                                    "0": "3 03 04615 01 6100 000             ",
                                    "1": "PT OF 28 & PT OF PASTURE LOT 1"
                                },
                                {
                                    "0": "3 03 04615 01 6200 000",
                                    "1": "30, & PT OF 32, & PT ALLEY    "
                                },
                                {
                                    "0": "3 03 04615 01 6303 000             ",
                                    "1": "PT OF LOT 32, & PT OF LOT 1, &"
                                },
                                {
                                    "0": "3 03 04615 01 6304 000             ",
                                    "1": "LOT 34, & PT OF 36, & PT ALLEY"
                                },
                                {
                                    "0": "3 04 01806 02 1700 000             ",
                                    "1": "11 & 12                       "
                                },
                                {
                                    "0": "3 04 01806 02 2400 000             ",
                                    "1": "2 & 3                         "
                                },
                                {
                                    "0": "4 00 03704 01 2000 000             ",
                                    "1": "3 & 4                         "
                                },
                                {
                                    "0": "4 00 04602 01 0300 000             ",
                                    "1": "12,13,14, & 15                "
                                },
                                {
                                    "0": "4 00 04602 01 0700 000             ",
                                    "1": "10 & 11                       "
                                },
                                {
                                    "0": "4 00 04602 01 1400 000             ",
                                    "1": "24 & 25 PT. 23                "
                                },
                                {
                                    "0": "4 00 04602 01 1700 000             ",
                                    "1": "18 & PT. 19                   "
                                },
                                {
                                    "0": "4 00 04602 01 1900 000             ",
                                    "1": "15 & PT. 16                   "
                                },
                                {
                                    "0": "4 00 04602 01 2200 000             ",
                                    "1": "12 & 13                       "
                                },
                                {
                                    "0": "4 00 04602 01 2300 000             ",
                                    "1": "10&11                         "
                                },
                                {
                                    "0": "4 00 04602 01 3100 000             ",
                                    "1": "2 & 3                         "
                                },
                                {
                                    "0": "4 00 04602 01 3200 000             ",
                                    "1": "1 & 2                         "
                                },
                                {
                                    "0": "4 00 04602 02 4000 000             ",
                                    "1": "30 & 31                       "
                                },
                                {
                                    "0": "4 00 04602 02 5300 000             ",
                                    "1": "16 & 17                       "
                                },
                                {
                                    "0": "4 00 04602 02 5400 000             ",
                                    "1": "14 & 15                       "
                                },
                                {
                                    "0": "4 00 04604 01 2200 000             ",
                                    "1": "21-A & 22-A                   "
                                },
                                {
                                    "0": "4 00 04604 01 3100 000             ",
                                    "1": "11 & 12                       "
                                },
                                {
                                    "0": "4 00 04604 01 3200 000             ",
                                    "1": "10 & PT. 9                    "
                                },
                                {
                                    "0": "4 00 04604 01 3300 000             ",
                                    "1": "7,8 & PT. OF 9                "
                                },
                                {
                                    "0": "4 00 04703 02 1200 000             ",
                                    "1": "20 & PT. 23                   "
                                },
                                {
                                    "0": "4 00 04703 02 3300 000             ",
                                    "1": "1 & 5' LOT 3                  "
                                },
                                {
                                    "0": "4 00 04703 02 3400 000             ",
                                    "1": "2 & S. 12' OF 4               "
                                },
                                {
                                    "0": "4 00 04703 02 4200 000             ",
                                    "1": "8 & 9                         "
                                },
                                {
                                    "0": "4 00 04703 02 4900 000             ",
                                    "1": "15 & 55' OF 14                "
                                },
                                {
                                    "0": "4 00 04703 02 6000 000             ",
                                    "1": "20 & PT. OF 21                "
                                },
                                {
                                    "0": "4 00 04703 02 7700 000             ",
                                    "1": "18 & 5' OF 19                 "
                                },
                                {
                                    "0": "4 00 04803 01 2900 000             ",
                                    "1": "29 & 30                       "
                                },
                                {
                                    "0": "4 00 04803 01 3800 000             ",
                                    "1": "38 & 39                       "
                                },
                                {
                                    "0": "4 00 05701 01 0300 000             ",
                                    "1": "1 & 2                         "
                                },
                                {
                                    "0": "4 00 05701 01 0301 000             ",
                                    "1": "3 & 4                         "
                                },
                                {
                                    "0": "4 00 05800 01 0200 000             ",
                                    "1": "A & B                         "
                                },
                                {
                                    "0": "4 00 05800 01 0208 000             ",
                                    "1": "A & B                         "
                                },
                                {
                                    "0": "4 00 05800 02 3600 000             ",
                                    "1": "50 & PT. 51                   "
                                },
                                {
                                    "0": "4 00 05900 01 3700 000             ",
                                    "1": "2 & 3                         "
                                },
                                {
                                    "0": "4 03 04600 01 0713 000             ",
                                    "1": "18-A & PT OF 8                "
                                },
                                {
                                    "0": "4 03 04600 01 1800 000             ",
                                    "1": "20-21-22-23 & PT.19           "
                                },
                                {
                                    "0": "4 05 05800 01 0700 000             ",
                                    "1": "PT. 16 & 17                   "
                                },
                                {
                                    "0": "4 05 05800 01 0800 000             ",
                                    "1": "PT. 14 & 15                   "
                                },
                                {
                                    "0": "4 13 03914 01 0400 000             ",
                                    "1": "3-4-5-6 & PT.OF 2             "
                                },
                                {
                                    "0": "4 14 06920 01 0300 000             ",
                                    "1": "5 & PT. 6                     "
                                },
                                {
                                    "0": "4 14 06920 01 0500 000             ",
                                    "1": "PT. OF 9 & ALL OF 10          "
                                },
                                {
                                    "0": "4 14 06920 01 0900 000             ",
                                    "1": "18,19,20 PT OF 17 & 21        "
                                },
                                {
                                    "0": "4 14 06920 01 1101 000             ",
                                    "1": "22 & PT 21                    "
                                },
                                {
                                    "0": "4 14 06920 01 1700 000             ",
                                    "1": "C & D                         "
                                },
                                {
                                    "0": "4 14 07808 01 1001 000             ",
                                    "1": "5,6 & PART OF LOT 7           "
                                },
                                {
                                    "0": "4 14 07808 01 1701 000             ",
                                    "1": "13 & PT 12                    "
                                },
                                {
                                    "0": "5 00 11517 01 2100 000             ",
                                    "1": "2B & 3B                       "
                                },
                                {
                                    "0": "5 00 11517 01 2700 000             ",
                                    "1": "9B & PT. 10B                  "
                                },
                                {
                                    "0": "5 00 11517 01 4100 000             ",
                                    "1": "21B & 22B                     "
                                },
                                {
                                    "0": "5 00 14300 01 5808 000             ",
                                    "1": "13 & 14                       "
                                },
                                {
                                    "0": "5 00 14400 01 1200 000             ",
                                    "1": "1-A & 1-B                     "
                                },
                                {
                                    "0": "5 00 15000 02 1200 000             ",
                                    "1": "4 & 5                         "
                                },
                                {
                                    "0": "5 00 15000 02 1400 000             ",
                                    "1": "1, 2 & 3                      "
                                },
                                {
                                    "0": "5 00 15000 02 3300 000             ",
                                    "1": "LOT 7 & 8                     "
                                },
                                {
                                    "0": "5 00 15200 01 0400 000             ",
                                    "1": "11 & 12                       "
                                },
                                {
                                    "0": "5 00 15200 01 0500 000             ",
                                    "1": "LOT 5 & 6                     "
                                },
                                {
                                    "0": "5 00 15200 01 0600 000             ",
                                    "1": "3 & 4                         "
                                },
                                {
                                    "0": "5 00 15200 01 0700 000             ",
                                    "1": "13 & 14                       "
                                },
                                {
                                    "0": "5 00 15200 01 0800 000             ",
                                    "1": "15 & 16                       "
                                },
                                {
                                    "0": "5 00 15200 01 1100 000             ",
                                    "1": "19 & 20                       "
                                },
                                {
                                    "0": "5 00 15200 01 1200 000             ",
                                    "1": "21 & 22                       "
                                },
                                {
                                    "0": "5 00 15200 01 1600 000             ",
                                    "1": "26 & 27                       "
                                },
                                {
                                    "0": "5 00 15200 01 2700 000             ",
                                    "1": "3 & PT. 4                     "
                                },
                                {
                                    "0": "5 00 15200 01 2800 000             ",
                                    "1": "LOTS 6-7&8                    "
                                },
                                {
                                    "0": "5 00 15200 02 5904 000             ",
                                    "1": "3 & 4                         "
                                },
                                {
                                    "0": "5 00 16200 01 0106 000             ",
                                    "1": "2 & PT. 3                     "
                                },
                                {
                                    "0": "5 00 16314 01 0100 000             ",
                                    "1": "12 & &T. 13                   "
                                },
                                {
                                    "0": "5 00 16314 01 0200 000             ",
                                    "1": "LOT 14 & 1/2 LOT 13           "
                                },
                                {
                                    "0": "5 00 16314 01 1000 000             ",
                                    "1": "1,2,4 & 13                    "
                                },
                                {
                                    "0": "5 00 16314 01 1200 000             ",
                                    "1": "7 & 10                        "
                                },
                                {
                                    "0": "5 00 16314 01 1300 000             ",
                                    "1": "8 & 9                         "
                                },
                                {
                                    "0": "5 00 16314 02 1700 000             ",
                                    "1": "20 & 21                       "
                                },
                                {
                                    "0": "5 00 17200 01 1403 000             ",
                                    "1": "3 & PT 4                      "
                                },
                                {
                                    "0": "5 00 17200 01 1405 000             ",
                                    "1": "PT. OF #5 & #4                "
                                },
                                {
                                    "0": "5 00 17200 01 1406 000             ",
                                    "1": "6 & PT 5                      "
                                },
                                {
                                    "0": "5 00 17200 01 1410 000             ",
                                    "1": "PT. OF 10 & PT. 11            "
                                },
                                {
                                    "0": "5 00 17200 01 3102 000             ",
                                    "1": "15 & 16                       "
                                },
                                {
                                    "0": "5 00 17200 01 6701 000             ",
                                    "1": "PT. 10 & PT 11                "
                                },
                                {
                                    "0": "5 00 17200 01 6703 000             ",
                                    "1": "12 & PT 11                    "
                                },
                                {
                                    "0": "5 00 17200 01 6704 000             ",
                                    "1": "13 & PT 14                    "
                                },
                                {
                                    "0": "5 00 17200 01 6706 000             ",
                                    "1": "LOT 16 & PT 15                "
                                },
                                {
                                    "0": "5 00 17200 01 6708 000             ",
                                    "1": "17 & PT 18                    "
                                },
                                {
                                    "0": "5 00 17200 01 6709 000             ",
                                    "1": "18 & PT 19                    "
                                },
                                {
                                    "0": "5 00 17211 01 1200 000             ",
                                    "1": "12 & PT.OF 13                 "
                                },
                                {
                                    "0": "5 00 17300 01 0900 000             ",
                                    "1": "17, 18 & PT. OF 16            "
                                },
                                {
                                    "0": "5 00 17300 01 1000 000             ",
                                    "1": "15 & PT. 16                   "
                                },
                                {
                                    "0": "5 00 17300 01 1400 000             ",
                                    "1": "12 & PT. 11                   "
                                },
                                {
                                    "0": "5 00 17300 01 1500 000             ",
                                    "1": "PT. 10 & 11                   "
                                },
                                {
                                    "0": "5 00 17300 01 1600 000             ",
                                    "1": "9 & PT. 10                    "
                                },
                                {
                                    "0": "5 00 17300 01 1700 000             ",
                                    "1": "7 & 8                         "
                                },
                                {
                                    "0": "5 00 17300 01 2000 000             ",
                                    "1": "5 & PT. 4                     "
                                },
                                {
                                    "0": "5 00 17300 01 2100 000             ",
                                    "1": "PT. 3 & 4                     "
                                },
                                {
                                    "0": "5 00 17300 01 2200 000             ",
                                    "1": "2 & PT. 3                     "
                                },
                                {
                                    "0": "5 00 17300 02 3400 000             ",
                                    "1": "19 & 20                       "
                                },
                                {
                                    "0": "5 00 17300 02 4000 000             ",
                                    "1": "13 & 14                       "
                                },
                                {
                                    "0": "5 00 17300 02 4200 000             ",
                                    "1": "10 & 11                       "
                                },
                                {
                                    "0": "5 00 17300 02 4300 000             ",
                                    "1": "8 & 9                         "
                                },
                                {
                                    "0": "5 00 17300 02 8600 000             ",
                                    "1": "A & B                         "
                                },
                                {
                                    "0": "5 00 17302 01 2300 000             ",
                                    "1": "7 & 8                         "
                                },
                                {
                                    "0": "5 00 17302 01 2600 000             ",
                                    "1": "4 & 5                         "
                                },
                                {
                                    "0": "5 00 17302 01 3200 000             ",
                                    "1": "1 & PT. 2 & 25                "
                                },
                                {
                                    "0": "5 00 17302 01 3300 000             ",
                                    "1": "3 & PT. 2                     "
                                },
                                {
                                    "0": "5 00 17302 01 3400 000             ",
                                    "1": "4 & PT. 5                     "
                                },
                                {
                                    "0": "5 00 17302 01 3500 000             ",
                                    "1": "PT. 5 & 6                     "
                                },
                                {
                                    "0": "5 00 17302 01 3600 000             ",
                                    "1": "7 & PT. 6                     "
                                },
                                {
                                    "0": "5 00 17302 01 3800 000             ",
                                    "1": "9 & PT. 10                    "
                                },
                                {
                                    "0": "5 00 17302 01 4000 000             ",
                                    "1": "11 & PT. 10                   "
                                },
                                {
                                    "0": "5 00 17302 01 4500 000             ",
                                    "1": "PT. LOTS 14 & 15              "
                                },
                                {
                                    "0": "5 00 17302 01 4600 000             ",
                                    "1": "15 & 16                       "
                                },
                                {
                                    "0": "5 00 17302 01 5500 000             ",
                                    "1": "PT. 24 & 25                   "
                                },
                                {
                                    "0": "5 00 17302 01 8700 000             ",
                                    "1": "13 & PT 14                    "
                                },
                                {
                                    "0": "5 00 17400 01 2617 000             ",
                                    "1": "28 & 29                       "
                                },
                                {
                                    "0": "5 00 17415 01 0900 000             ",
                                    "1": "9 & PT. 8                     "
                                },
                                {
                                    "0": "5 00 17415 01 1100 000             ",
                                    "1": "5 & PT. 6                     "
                                },
                                {
                                    "0": "5 00 17415 01 1200 000             ",
                                    "1": "LOT 4 & PT. 3                 "
                                },
                                {
                                    "0": "5 00 17415 01 1300 000             ",
                                    "1": "2 & PT. 3                     "
                                },
                                {
                                    "0": "5 00 17415 01 1900 000             ",
                                    "1": "11 & 12                       "
                                },
                                {
                                    "0": "5 00 17415 01 2000 000             ",
                                    "1": "13 & PT. 14                   "
                                },
                                {
                                    "0": "5 00 17415 01 2200 000             ",
                                    "1": "17 & PT. 16                   "
                                },
                                {
                                    "0": "5 00 17415 01 2500 000             ",
                                    "1": "25 & 26 PT. 24                "
                                },
                                {
                                    "0": "5 00 17415 01 2600 000             ",
                                    "1": "23 & PT 22 & 24               "
                                },
                                {
                                    "0": "5 00 17415 01 2700 000             ",
                                    "1": "21 & PT.22                    "
                                },
                                {
                                    "0": "5 00 17415 01 3300 000             ",
                                    "1": "28 & 29                       "
                                },
                                {
                                    "0": "5 00 17415 01 3600 000             ",
                                    "1": "31 & PT. 32                   "
                                },
                                {
                                    "0": "5 00 17415 01 3700 000             ",
                                    "1": "PT. 32 & 33                   "
                                },
                                {
                                    "0": "5 00 17415 01 3800 000             ",
                                    "1": "34 & PT. 33                   "
                                },
                                {
                                    "0": "5 00 17415 01 3900 000             ",
                                    "1": "35 & 36                       "
                                },
                                {
                                    "0": "5 00 17415 01 4200 000             ",
                                    "1": "43 & PT. 42                   "
                                },
                                {
                                    "0": "5 00 17415 01 4300 000             ",
                                    "1": "41 & PT. 42                   "
                                },
                                {
                                    "0": "5 00 17415 01 4400 000             ",
                                    "1": "40 & PT. #39                  "
                                },
                                {
                                    "0": "5 00 17415 01 4500 000             ",
                                    "1": "38 & PT. 39                   "
                                },
                                {
                                    "0": "5 00 17415 01 5100 000             ",
                                    "1": "47 & PT. 48                   "
                                },
                                {
                                    "0": "5 00 17415 01 5200 000             ",
                                    "1": "49 & PT. 48                   "
                                },
                                {
                                    "0": "5 00 17415 01 5300 000             ",
                                    "1": "50 & 51                       "
                                },
                                {
                                    "0": "5 00 17415 01 5400 000             ",
                                    "1": "52 & PT. 53                   "
                                },
                                {
                                    "0": "5 00 17415 01 5600 000             ",
                                    "1": "54 & PT. 53                   "
                                },
                                {
                                    "0": "5 00 17415 01 6200 000             ",
                                    "1": "37 & PT. 32                   "
                                },
                                {
                                    "0": "5 00 17416 01 1400 000             ",
                                    "1": "34 & 35                       "
                                },
                                {
                                    "0": "5 00 17416 01 2500 000             ",
                                    "1": "24 & 25                       "
                                },
                                {
                                    "0": "5 00 17416 01 2600 000             ",
                                    "1": "23 & PT. 22                   "
                                },
                                {
                                    "0": "5 00 17416 01 2700 000             ",
                                    "1": "21 & PT. 22                   "
                                },
                                {
                                    "0": "5 00 17416 01 2800 000             ",
                                    "1": "19 & 20                       "
                                },
                                {
                                    "0": "5 00 17416 01 2900 000             ",
                                    "1": "18 & PT. 17                   "
                                },
                                {
                                    "0": "5 00 17416 01 3000 000             ",
                                    "1": "16 & PT. 17                   "
                                },
                                {
                                    "0": "5 00 17416 01 3200 000             ",
                                    "1": "13 & PT. 14                   "
                                },
                                {
                                    "0": "5 00 17416 01 3300 000             ",
                                    "1": "5 & 6                         "
                                },
                                {
                                    "0": "5 00 17416 01 4400 000             ",
                                    "1": "6 & 5                         "
                                },
                                {
                                    "0": "5 00 17416 01 4900 000             ",
                                    "1": "11 & PT. 12                   "
                                },
                                {
                                    "0": "5 00 17416 01 6100 000             ",
                                    "1": "25 & PT. 24                   "
                                },
                                {
                                    "0": "5 00 17416 01 6800 000             ",
                                    "1": "3 & PT. 2                     "
                                },
                                {
                                    "0": "5 00 17416 01 6900 000             ",
                                    "1": "1 & PT. 2                     "
                                },
                                {
                                    "0": "5 00 17416 01 7100 000             ",
                                    "1": "8 & PT. 7                     "
                                },
                                {
                                    "0": "5 00 17416 01 7200 000             ",
                                    "1": "PT. 6 & 7                     "
                                },
                                {
                                    "0": "5 00 18104 01 3200 000             ",
                                    "1": "LOTS 22 & 23                  "
                                },
                                {
                                    "0": "5 00 18200 02 2100 000             ",
                                    "1": "13 & 14                       "
                                },
                                {
                                    "0": "5 00 18200 02 2300 000             ",
                                    "1": "11 & PT. 12                   "
                                },
                                {
                                    "0": "5 00 18200 02 6701 000             ",
                                    "1": "PTS. 13 & 14                  "
                                },
                                {
                                    "0": "5 00 18200 02 7000 000             ",
                                    "1": "15 & 16                       "
                                },
                                {
                                    "0": "5 00 18212 01 0100 000             ",
                                    "1": "1 & 2                         "
                                },
                                {
                                    "0": "5 00 18212 01 1500 000             ",
                                    "1": "27 & PT. 28                   "
                                },
                                {
                                    "0": "5 00 18212 01 5800 000             ",
                                    "1": "60 & PT. 61                   "
                                },
                                {
                                    "0": "5 00 18900 01 2700 000             ",
                                    "1": "7& 8                          "
                                },
                                {
                                    "0": "5 00 18900 01 5100 000             ",
                                    "1": "31 & 32                       "
                                },
                                {
                                    "0": "5 11 18107 01 0100 000             ",
                                    "1": "15 & PT. 16                   "
                                },
                                {
                                    "0": "5 11 18107 01 0300 000             ",
                                    "1": "17 & PT. 16 & 18              "
                                },
                                {
                                    "0": "5 11 18107 01 0400 000             ",
                                    "1": "19 & PT. 18                   "
                                },
                                {
                                    "0": "5 11 18107 01 5900 000             ",
                                    "1": "10 & 11                       "
                                },
                                {
                                    "0": "5 11 18107 01 6500 000             ",
                                    "1": "15 & 16                       "
                                },
                                {
                                    "0": "5 11 18107 02 3400 000             ",
                                    "1": "PT. 2 & LOT 3                 "
                                },
                                {
                                    "0": "5 11 18107 02 3500 000             ",
                                    "1": "1 & PT. 2                     "
                                },
                                {
                                    "0": "5 16 17300 01 0314 000             ",
                                    "1": "E2 & E3                       "
                                },
                                {
                                    "0": "5 16 17414 01 0800 000             ",
                                    "1": "1 & PT. 2 & 3                 "
                                },
                                {
                                    "0": "5 16 17414 01 1000 000             ",
                                    "1": "PT. 2 & 3                     "
                                },
                                {
                                    "0": "5 16 17414 01 1200 000             ",
                                    "1": "PT. 3 & 4                     "
                                },
                                {
                                    "0": "5 16 17414 01 1300 000             ",
                                    "1": "PT. 4 & 5                     "
                                },
                                {
                                    "0": "5 16 17414 01 1400 000             ",
                                    "1": "PT. 4 & 5                     "
                                },
                                {
                                    "0": "5 16 17414 01 1600 000             ",
                                    "1": "7 & 1/2 OF 8                  "
                                },
                                {
                                    "0": "5 16 17414 01 1700 000             ",
                                    "1": "9 & PT. 8                     "
                                },
                                {
                                    "0": "5 16 17414 01 4400 000             ",
                                    "1": "9 & 10                        "
                                },
                                {
                                    "0": "5 16 17414 01 4600 000             ",
                                    "1": "11 & 12                       "
                                },
                                {
                                    "0": "5 16 17418 01 0300 000             ",
                                    "1": "PT. 10 & 11                   "
                                },
                                {
                                    "0": "5 16 17418 01 1500 000             ",
                                    "1": "19-23 & 25-28                 "
                                },
                                {
                                    "0": "5 16 17418 01 1501 000             ",
                                    "1": "19-23 & 25-28                 "
                                },
                                {
                                    "0": "5 16 17418 01 1800 000             ",
                                    "1": "16 & PT. 15                   "
                                },
                                {
                                    "0": "5 16 17418 03 0300 000             ",
                                    "1": "44 & 45                       "
                                },
                                {
                                    "0": "5 16 17418 03 0500 000             ",
                                    "1": "46 & PT. 45                   "
                                },
                                {
                                    "0": "5 16 17418 03 0700 000             ",
                                    "1": "48 & 49                       "
                                },
                                {
                                    "0": "5 16 17418 03 0800 000             ",
                                    "1": "50 & PT. 51                   "
                                },
                                {
                                    "0": "5 16 17418 03 1100 000             ",
                                    "1": "PT 53 & 54                    "
                                },
                                {
                                    "0": "5 16 17418 03 4200 000             ",
                                    "1": "3 & 4                         "
                                },
                                {
                                    "0": "5 16 17418 03 4400 000             ",
                                    "1": "6 & 7                         "
                                },
                                {
                                    "0": "5 16 18305 01 2400 000             ",
                                    "1": "13 & 14                       "
                                },
                                {
                                    "0": "5 16 18305 01 3300 000             ",
                                    "1": "8 & 9                         "
                                },
                                {
                                    "0": "5 16 18306 02 1300 000             ",
                                    "1": "3-6, 12-18 & PT. 2 & 1        "
                                },
                                {
                                    "0": "5 16 18306 03 4700 000             ",
                                    "1": "PT. 1 & 2                     "
                                },
                                {
                                    "0": "5 16 18306 03 4800 000             ",
                                    "1": "PT. 2 & 3                     "
                                },
                                {
                                    "0": "5 16 18306 03 4900 000             ",
                                    "1": "PT. 3 & 4                     "
                                },
                                {
                                    "0": "5 16 18306 03 5000 000             ",
                                    "1": "PT. 4 & 5                     "
                                },
                                {
                                    "0": "5 16 18306 03 5100 000             ",
                                    "1": "PT. 5 & 3                     "
                                },
                                {
                                    "0": "5 16 18306 03 5500 000             ",
                                    "1": "4 & PT.OF 5 & 6               "
                                },
                                {
                                    "0": "5 16 18306 04 1600 000             ",
                                    "1": "53 & 54                       "
                                },
                                {
                                    "0": "5 16 18306 04 2700 000             ",
                                    "1": "7 & 8                         "
                                },
                                {
                                    "0": "5 16 18306 04 4301 000             ",
                                    "1": "41 & 42                       "
                                },
                                {
                                    "0": "5 16 18306 04 4700 000             ",
                                    "1": "21 & 22                       "
                                },
                                {
                                    "0": "5 16 18307 01 3400 000             ",
                                    "1": "8 & 9                         "
                                },
                                {
                                    "0": "5 16 18307 01 4000 000             ",
                                    "1": "1 & 2                         "
                                },
                                {
                                    "0": "5 16 18307 01 5200 000             ",
                                    "1": "13 & PT. 14                   "
                                },
                                {
                                    "0": "5 16 18307 01 5300 000             ",
                                    "1": "PT. 14 & 15                   "
                                },
                                {
                                    "0": "5 16 18307 01 5400 000             ",
                                    "1": "PT. 15 & 16                   "
                                },
                                {
                                    "0": "5 16 18307 01 5900 000             ",
                                    "1": "27 & PT. 28                   "
                                },
                                {
                                    "0": "5 16 18309 01 3900 000             ",
                                    "1": "10 & 11                       "
                                },
                                {
                                    "0": "5 16 18309 01 4200 000",
                                    "1": "4 & 5                         "
                                },
                                {
                                    "0": "5 16 18309 01 4300 000",
                                    "1": "2 & 3                         "
                                },
                                {
                                    "0": "5 16 18310 04 0900 000             ",
                                    "1": "25 & 40                       "
                                },
                                {
                                    "0": "5 16 18310 04 1200 000             ",
                                    "1": "37, 38 & PT. 39               "
                                },
                                {
                                    "0": "6 00 16700 01 2603 000             ",
                                    "1": "2 & 3                         "
                                },
                                {
                                    "0": "6 00 17000 01 1000 000             ",
                                    "1": "35 & 36                       "
                                },
                                {
                                    "0": "6 00 17000 01 1600 000             ",
                                    "1": "28 & 29                       "
                                },
                                {
                                    "0": "6 00 17000 01 1900 000             ",
                                    "1": "25 & 26                       "
                                },
                                {
                                    "0": "6 00 17000 01 2200 000             ",
                                    "1": "23 & 24                       "
                                },
                                {
                                    "0": "6 00 17000 01 2300 000             ",
                                    "1": "21 & 22                       "
                                },
                                {
                                    "0": "6 00 17000 01 2500 000             ",
                                    "1": "19 & 20                       "
                                },
                                {
                                    "0": "6 00 17000 01 2800 000             ",
                                    "1": "17 & 18                       "
                                },
                                {
                                    "0": "6 00 17000 01 3300 000             ",
                                    "1": "11 & 12                       "
                                },
                                {
                                    "0": "6 00 17000 01 3500 000             ",
                                    "1": "9 & 10                        "
                                },
                                {
                                    "0": "6 00 17000 01 4000 000             ",
                                    "1": "5 & 6                         "
                                },
                                {
                                    "0": "6 00 17000 01 4200 000             ",
                                    "1": "3 & 4                         "
                                },
                                {
                                    "0": "6 00 17000 01 5505 000             ",
                                    "1": "13 & 14                       "
                                },
                                {
                                    "0": "6 00 17016 01 0400 000             ",
                                    "1": "69, 71, 73 & 75               "
                                },
                                {
                                    "0": "6 00 17100 01 0500 000             ",
                                    "1": "1 & 2                         "
                                },
                                {
                                    "0": "6 00 17100 01 4700 000             ",
                                    "1": "1-5 & 8-10                    "
                                },
                                {
                                    "0": "6 00 17100 04 1200 000             ",
                                    "1": "1/2 35 & 36                   "
                                },
                                {
                                    "0": "6 00 17100 04 6200 000             ",
                                    "1": "11 & PT. 10                   "
                                },
                                {
                                    "0": "6 00 17100 04 6300 000             ",
                                    "1": "9 & PT. 10                    "
                                },
                                {
                                    "0": "6 00 17100 04 6400 000             ",
                                    "1": "7 & 8                         "
                                },
                                {
                                    "0": "6 00 17100 04 6600 000             ",
                                    "1": "4 & 5                         "
                                },
                                {
                                    "0": "6 00 17100 04 6800 000             ",
                                    "1": "1 & 2                         "
                                },
                                {
                                    "0": "6 00 17100 05 0500 000             ",
                                    "1": "10-A & PT. 10                 "
                                },
                                {
                                    "0": "6 00 17100 05 0900 000             ",
                                    "1": "4 & 5 & 30' OF 3              "
                                },
                                {
                                    "0": "6 00 17100 05 3000 000             ",
                                    "1": "4 & 1/2 5                     "
                                },
                                {
                                    "0": "6 00 17100 05 3400 000             ",
                                    "1": "PT. LOT 7 & 8                 "
                                },
                                {
                                    "0": "6 00 17200 01 3409 000             ",
                                    "1": "LOTS 9 & 10                   "
                                },
                                {
                                    "0": "6 00 17900 01 0103 000             ",
                                    "1": "2&4-6                         "
                                },
                                {
                                    "0": "6 00 17900 01 2300 000             ",
                                    "1": "13 & PT. 12                   "
                                },
                                {
                                    "0": "6 00 17900 01 2400 000             ",
                                    "1": "11 & PT 12                    "
                                },
                                {
                                    "0": "6 00 17900 01 2600 000             ",
                                    "1": "8, 9 & PT. 7                  "
                                },
                                {
                                    "0": "6 00 17900 02 2200 000             ",
                                    "1": "11, 13-18 & PT. 6-7-8         "
                                },
                                {
                                    "0": "6 00 17900 02 2800 000             ",
                                    "1": "50 & PT. 51 & PT 52           "
                                },
                                {
                                    "0": "6 00 17900 02 2900 000             ",
                                    "1": "PT. 51 & 52                   "
                                },
                                {
                                    "0": "6 00 17900 02 3000 000             ",
                                    "1": "PT. 52 & 53                   "
                                },
                                {
                                    "0": "6 00 17900 02 3200 000             ",
                                    "1": "58-56 & PT. 55                "
                                },
                                {
                                    "0": "6 00 17900 02 4000 000             ",
                                    "1": "8-13 & 15-20                  "
                                },
                                {
                                    "0": "6 00 17900 02 4001 000             ",
                                    "1": "15 & 16"
                                },
                                {
                                    "0": "6 00 18600 01 3111 000             ",
                                    "1": "10 & 11                       "
                                },
                                {
                                    "0": "6 00 19200 01 2803 000             ",
                                    "1": "2 & HALF OF 1                 "
                                },
                                {
                                    "0": "6 00 19300 02 1803 000             ",
                                    "1": "LOT #3 & #4                   "
                                },
                                {
                                    "0": "6 00 19300 02 4500 000             ",
                                    "1": "6 & PT. OF 7                  "
                                },
                                {
                                    "0": "6 00 19400 01 3502 000             ",
                                    "1": "1 & 2                         "
                                },
                                {
                                    "0": "6 00 19400 02 0400 000             ",
                                    "1": "3 & 4                         "
                                },
                                {
                                    "0": "6 00 19900 01 5600 000             ",
                                    "1": "10-45 & S. 1/2 9 & 44         "
                                },
                                {
                                    "0": "6 09 17002 01 0400 000             ",
                                    "1": "110,112,114 & 116             "
                                },
                                {
                                    "0": "6 09 17002 01 0500 000             ",
                                    "1": "118,120,122 & 124             "
                                },
                                {
                                    "0": "6 09 17016 02 0300 000             ",
                                    "1": "1, 3, 5, 7 & 9                "
                                },
                                {
                                    "0": "6 09 17016 02 0400 000             ",
                                    "1": "11, 13, 15 & 17               "
                                },
                                {
                                    "0": "6 09 17016 02 0500 000             ",
                                    "1": "19, 21, 23 & 25               "
                                },
                                {
                                    "0": "6 09 17016 02 0600 000             ",
                                    "1": "27-29-31-33-35-37 & 39        "
                                },
                                {
                                    "0": "6 09 17016 02 1100 000             ",
                                    "1": "32, 34, 36 & 38               "
                                },
                                {
                                    "0": "6 09 17016 02 1200 000             ",
                                    "1": "28 & 30                       "
                                },
                                {
                                    "0": "6 09 17016 02 1300 000             ",
                                    "1": "22, 24 & 26                   "
                                },
                                {
                                    "0": "6 09 17016 02 1400 000             ",
                                    "1": "14, 16, 18 & 20               "
                                },
                                {
                                    "0": "6 09 17016 02 2400 000             ",
                                    "1": "8 & 9                         "
                                },
                                {
                                    "0": "6 09 17016 02 2500 000             ",
                                    "1": "6 & 7                         "
                                },
                                {
                                    "0": "6 09 17016 02 3100 000             ",
                                    "1": "6, 7, & 8                     "
                                },
                                {
                                    "0": "6 09 17016 02 3200 000             ",
                                    "1": "4 & 5                         "
                                },
                                {
                                    "0": "6 09 17016 02 3500 000             ",
                                    "1": "7 & PT. 6                     "
                                },
                                {
                                    "0": "6 09 17016 02 3600 000             ",
                                    "1": "5 & PT. 6                     "
                                },
                                {
                                    "0": "6 09 17016 02 3900 000             ",
                                    "1": "4 & 5                         "
                                },
                                {
                                    "0": "6 09 17016 02 4600 000             ",
                                    "1": "4 & 5                         "
                                },
                                {
                                    "0": "6 09 17016 02 4700 000             ",
                                    "1": "6 & 7                         "
                                },
                                {
                                    "0": "6 09 17016 02 4800 000             ",
                                    "1": "8 & 9                         "
                                },
                                {
                                    "0": "6 09 17016 02 5100 000             ",
                                    "1": "PT OF LOTS 11,12 & 13         "
                                },
                                {
                                    "0": "6 09 17016 02 8300 000             ",
                                    "1": "40 & 42                       "
                                },
                                {
                                    "0": "6 09 17020 02 0500 000             ",
                                    "1": "19,21,23 & 25                 "
                                },
                                {
                                    "0": "6 09 17020 02 4600 000             ",
                                    "1": "6 & 7                         "
                                },
                                {
                                    "0": "6 09 17020 02 5200 000             ",
                                    "1": "PT. 19 & 20                   "
                                },
                                {
                                    "0": "6 09 17020 02 5300 000             ",
                                    "1": "PT. 19 & 20                   "
                                },
                                {
                                    "0": "6 09 17020 02 6200 000             ",
                                    "1": "PT. 28 & 29                   "
                                },
                                {
                                    "0": "6 09 17020 04 5400 000             ",
                                    "1": "1 & 2                         "
                                },
                                {
                                    "0": "6 09 17020 04 5500 000             ",
                                    "1": "PT. 2 & 3                     "
                                },
                                {
                                    "0": "6 09 17020 04 5501 000             ",
                                    "1": "PT. LOT 3 & 4                 "
                                },
                                {
                                    "0": "6 09 17020 04 5600 000             ",
                                    "1": "5 & PT. 4 & 6                 "
                                },
                                {
                                    "0": "6 09 17020 04 5700 000             ",
                                    "1": "7 & PT. 6                     "
                                },
                                {
                                    "0": "6 09 17020 04 5800 000             ",
                                    "1": "8 & 9                         "
                                },
                                {
                                    "0": "6 09 17020 05 1500 000             ",
                                    "1": "3 & 4                         "
                                },
                                {
                                    "0": "6 09 17020 05 1600 000             ",
                                    "1": "5 & 6                         "
                                },
                                {
                                    "0": "6 09 17020 05 1700 000             ",
                                    "1": "LOTS 7 & 8                    "
                                },
                                {
                                    "0": "6 09 17020 05 2200 000             ",
                                    "1": "PT. 51 & 52                   "
                                },
                                {
                                    "0": "6 09 17020 05 2201 000             ",
                                    "1": "PT. 51 & 52                   "
                                },
                                {
                                    "0": "6 09 17020 05 2300 000             ",
                                    "1": "50 & PT. 49                   "
                                },
                                {
                                    "0": "6 09 17020 05 2500 000             ",
                                    "1": "LOT 46 & 1/2 LOT 47           "
                                },
                                {
                                    "0": "6 09 17020 05 2600 000             ",
                                    "1": "44 & 45                       "
                                },
                                {
                                    "0": "6 09 17020 05 3100 000             ",
                                    "1": "13 & PT. 12                   "
                                },
                                {
                                    "0": "6 09 17020 05 3200 000             ",
                                    "1": "11 & PT. 12                   "
                                },
                                {
                                    "0": "6 09 17020 05 3300 000             ",
                                    "1": "LOTS 9 & 10                   "
                                },
                                {
                                    "0": "6 09 17020 05 3500 000             ",
                                    "1": "7 & 8                         "
                                },
                                {
                                    "0": "6 09 17113 01 0802 000             ",
                                    "1": "PT. 20 & 102                  "
                                },
                                {
                                    "0": "6 09 17113 01 1300 000             ",
                                    "1": "1-2 & PT. 3                   "
                                },
                                {
                                    "0": "6 09 17113 01 1500 000             ",
                                    "1": "13 & 15                       "
                                },
                                {
                                    "0": "6 09 17113 01 1600 000             ",
                                    "1": "17 & 19                       "
                                },
                                {
                                    "0": "6 09 17113 01 1800 000             ",
                                    "1": "105 & 107                     "
                                },
                                {
                                    "0": "6 09 17113 01 1900 000             ",
                                    "1": "109 & 111                     "
                                },
                                {
                                    "0": "6 09 17113 01 2000 000             ",
                                    "1": "113 & 115                     "
                                },
                                {
                                    "0": "6 09 17113 01 2200 000             ",
                                    "1": "1 & 2                         "
                                },
                                {
                                    "0": "6 09 17113 01 2300 000             ",
                                    "1": "3 & 4                         "
                                },
                                {
                                    "0": "6 09 17113 01 2400 000             ",
                                    "1": "5 & PT. 6                     "
                                },
                                {
                                    "0": "6 09 17113 01 2500 000             ",
                                    "1": "7 & PT. 6                     "
                                },
                                {
                                    "0": "6 09 17113 01 2800 000             ",
                                    "1": "114 & 116                     "
                                },
                                {
                                    "0": "6 09 17113 01 2900 000             ",
                                    "1": "112 & PT. 110                 "
                                },
                                {
                                    "0": "6 09 17113 01 3000 000             ",
                                    "1": "108 & PT. 110                 "
                                },
                                {
                                    "0": "6 09 17113 01 3100 000             ",
                                    "1": "104 & 106                     "
                                },
                                {
                                    "0": "6 09 17113 01 3400 000             ",
                                    "1": "18 & PT. 4                    "
                                },
                                {
                                    "0": "6 09 17117 01 0100 000             ",
                                    "1": "115 & PT. 113                 "
                                },
                                {
                                    "0": "6 09 17117 01 0200 000             ",
                                    "1": "111 & PT. 113                 "
                                },
                                {
                                    "0": "6 09 17117 01 0300 000             ",
                                    "1": "105, 107 & 109                "
                                },
                                {
                                    "0": "6 09 17117 01 0400 000             ",
                                    "1": "101 & 103                     "
                                },
                                {
                                    "0": "6 09 17117 01 0600 000             ",
                                    "1": "15 & PT. 13 & 17              "
                                },
                                {
                                    "0": "6 09 17117 01 0700 000             ",
                                    "1": "11 & PT. 9 & 13               "
                                },
                                {
                                    "0": "6 09 17117 01 0700 001             ",
                                    "1": "11 & PT. 9 & 13               "
                                },
                                {
                                    "0": "6 09 17117 01 0800 000             ",
                                    "1": "7 & PT. 9                     "
                                },
                                {
                                    "0": "6 09 17117 01 0900 000             ",
                                    "1": "1 & 2                         "
                                },
                                {
                                    "0": "6 09 17117 01 1000 000             ",
                                    "1": "3 & 4                         "
                                },
                                {
                                    "0": "6 09 17117 01 1100 000             ",
                                    "1": "5 & 6                         "
                                },
                                {
                                    "0": "6 09 17117 01 1200 000             ",
                                    "1": "8 & 10 & PT 12                "
                                },
                                {
                                    "0": "6 09 17117 01 1300 000             ",
                                    "1": "14 & PT. 12                   "
                                },
                                {
                                    "0": "6 09 17117 01 1400 000             ",
                                    "1": "16 & PT. 18                   "
                                },
                                {
                                    "0": "6 09 17117 01 2000 000             ",
                                    "1": "122,114 & 116                 "
                                },
                                {
                                    "0": "6 09 17117 01 2100 000             ",
                                    "1": "109 & 111                     "
                                },
                                {
                                    "0": "6 09 17117 01 2300 000             ",
                                    "1": "17 & 19                       "
                                },
                                {
                                    "0": "6 09 17117 01 2400 000             ",
                                    "1": "13 & 15                       "
                                },
                                {
                                    "0": "6 09 17117 01 2500 000             ",
                                    "1": "11 & 1/2 9                    "
                                },
                                {
                                    "0": "6 09 17117 01 2501 000             ",
                                    "1": "7 & 1/2 9                     "
                                },
                                {
                                    "0": "6 09 17117 01 2600 000             ",
                                    "1": "1 & 2                         "
                                },
                                {
                                    "0": "6 09 17117 01 2900 000             ",
                                    "1": "8 & PT. 10                    "
                                },
                                {
                                    "0": "6 09 17117 01 3000 000             ",
                                    "1": "12 & PT. 10                   "
                                },
                                {
                                    "0": "6 09 17117 01 3100 000             ",
                                    "1": "14 & 16                       "
                                },
                                {
                                    "0": "6 09 17117 01 3200 000             ",
                                    "1": "18 & PT. 20                   "
                                },
                                {
                                    "0": "6 09 17117 01 3700 000             ",
                                    "1": "28 & PT. 27                   "
                                },
                                {
                                    "0": "6 09 17117 01 3900 000             ",
                                    "1": "30 & 31                       "
                                },
                                {
                                    "0": "6 09 17117 01 5500 000             ",
                                    "1": "21 & 22                       "
                                },
                                {
                                    "0": "6 09 17117 01 5900 000             ",
                                    "1": "PT. 25 & 26                   "
                                },
                                {
                                    "0": "6 09 17117 01 6500 000             ",
                                    "1": "24 & 25                       "
                                },
                                {
                                    "0": "6 09 17117 01 6900 000             ",
                                    "1": "20 & 21                       "
                                },
                                {
                                    "0": "6 09 17117 01 7200 000             ",
                                    "1": "16 & 17                       "
                                },
                                {
                                    "0": "6 09 17117 01 7300 000             ",
                                    "1": "14 & 15                       "
                                },
                                {
                                    "0": "6 09 17117 01 7600 000             ",
                                    "1": "31 & 32                       "
                                },
                                {
                                    "0": "6 09 17117 01 9200 000             ",
                                    "1": "34 & 1/2 35                   "
                                },
                                {
                                    "0": "6 09 17117 01 9300 000             ",
                                    "1": "32 & 33                       "
                                },
                                {
                                    "0": "6 09 17907 01 6000 000             ",
                                    "1": "13-18 & PT. 6-8               "
                                },
                                {
                                    "0": "6 09 17907 01 6300 000             ",
                                    "1": "34 & 35                       "
                                },
                                {
                                    "0": "6 09 17907 01 6801 000             ",
                                    "1": "PT. LOTS 37-38&39             "
                                },
                                {
                                    "0": "6 09 17907 01 6802 000             ",
                                    "1": "LOT 35 & PT.34-36&40          "
                                },
                                {
                                    "0": "6 09 17907 01 6803 000             ",
                                    "1": "32,33 & PTS. 34 & 40          "
                                },
                                {
                                    "0": "6 09 17907 01 7800 000             ",
                                    "1": "LOT 29; PT OF LOTS 38 & 41    "
                                },
                                {
                                    "0": "6 09 17907 01 8000 000             ",
                                    "1": "24 & 25                       "
                                },
                                {
                                    "0": "6 09 17908 01 0100 000             ",
                                    "1": "PT. 40 & 41                   "
                                },
                                {
                                    "0": "6 09 17908 01 0200 000             ",
                                    "1": "PT. 40 & 41                   "
                                },
                                {
                                    "0": "6 09 17908 01 0500 000             ",
                                    "1": "PT. OF 43 & 44                "
                                },
                                {
                                    "0": "6 09 17908 01 0600 000             ",
                                    "1": "PT. 44 & 45                   "
                                },
                                {
                                    "0": "6 09 17908 01 0700 000             ",
                                    "1": "PT. 45 & 46                   "
                                },
                                {
                                    "0": "6 09 17908 01 0800 000             ",
                                    "1": "47 & PT. 46                   "
                                },
                                {
                                    "0": "6 09 17908 01 4800 000             ",
                                    "1": "7 & 8                         "
                                },
                                {
                                    "0": "6 09 17908 01 5300 000             ",
                                    "1": "PT. 33 & 34                   "
                                },
                                {
                                    "0": "6 09 17908 01 5400 000             ",
                                    "1": "PT. 33 & 34                   "
                                },
                                {
                                    "0": "6 09 17908 01 5500 000             ",
                                    "1": "31 & 32                       "
                                },
                                {
                                    "0": "6 09 17908 01 6800 000             ",
                                    "1": "46 & 47                       "
                                },
                                {
                                    "0": "6 09 17908 01 7501 000             ",
                                    "1": "63 & PT. 62 & 64              "
                                },
                                {
                                    "0": "6 09 17908 01 7600 000             ",
                                    "1": "61 & PT. 62                   "
                                },
                                {
                                    "0": "6 09 17908 02 0100 000             ",
                                    "1": "59, 60 & PT OF 61             "
                                },
                                {
                                    "0": "6 09 17908 02 0101 000             ",
                                    "1": "58 & PT. 59                   "
                                },
                                {
                                    "0": "6 09 17908 02 4200 000             ",
                                    "1": "LOT 5 & PT. #6                "
                                },
                                {
                                    "0": "6 09 17908 02 4300 000             ",
                                    "1": "7 & PT. 6                     "
                                },
                                {
                                    "0": "6 09 17908 02 5400 000             ",
                                    "1": "PT. 35 & 36                   "
                                },
                                {
                                    "0": "6 09 17908 02 5500 000             ",
                                    "1": "PT. 35 & 36                   "
                                },
                                {
                                    "0": "6 09 17908 02 6400 000             ",
                                    "1": "8 & 9                         "
                                },
                                {
                                    "0": "6 09 17908 02 6700 000             ",
                                    "1": "12 & 13                       "
                                },
                                {
                                    "0": "6 09 17908 02 6900 000             ",
                                    "1": "72 & 73                       "
                                },
                                {
                                    "0": "6 09 17908 02 7000 000             ",
                                    "1": "70 & 71                       "
                                },
                                {
                                    "0": "6 09 17908 02 7300 000             ",
                                    "1": "67 & 68                       "
                                },
                                {
                                    "0": "6 09 17908 02 7400 000             ",
                                    "1": "81 & PT. 82                   "
                                },
                                {
                                    "0": "6 09 17908 02 7500 000             ",
                                    "1": "PT. 82 & 83                   "
                                },
                                {
                                    "0": "6 09 17908 02 7600 000             ",
                                    "1": "87 & 88                       "
                                },
                                {
                                    "0": "6 09 17908 02 7900 000             ",
                                    "1": "84, 85 & PT. 83               "
                                },
                                {
                                    "0": "6 09 17908 03 0600 000             ",
                                    "1": "16 & 17                       "
                                },
                                {
                                    "0": "6 09 17908 03 1901 000             ",
                                    "1": "5 & 6                         "
                                },
                                {
                                    "0": "6 09 17908 03 1902 000             ",
                                    "1": "8 & 9                         "
                                },
                                {
                                    "0": "6 09 17908 06 1700 000             ",
                                    "1": "2 & 3                         "
                                },
                                {
                                    "0": "6 09 17908 06 2300 000             ",
                                    "1": "71 & 72                       "
                                },
                                {
                                    "0": "6 09 17908 06 2400 000             ",
                                    "1": "73 & 74                       "
                                },
                                {
                                    "0": "6 09 17908 06 3400 000             ",
                                    "1": "51 & PT OF 52                 "
                                },
                                {
                                    "0": "6 09 17908 06 3500 000             ",
                                    "1": "53 & 54 & PT. 52              "
                                },
                                {
                                    "0": "6 09 17908 06 3600 000             ",
                                    "1": "55 & 56                       "
                                },
                                {
                                    "0": "6 09 17908 06 3700 000             ",
                                    "1": "57 & 58                       "
                                },
                                {
                                    "0": "6 09 17908 06 3900 000             ",
                                    "1": "12 & PT. 13                   "
                                },
                                {
                                    "0": "6 09 18005 01 0100 000             ",
                                    "1": "43 & 44                       "
                                },
                                {
                                    "0": "6 09 18005 01 0400 000             ",
                                    "1": "47 & 48                       "
                                },
                                {
                                    "0": "6 09 18005 01 0500 000             ",
                                    "1": "49 & 50                       "
                                },
                                {
                                    "0": "6 09 18005 01 1700 000             ",
                                    "1": "33 & PT. 34                   "
                                },
                                {
                                    "0": "6 09 18005 01 2100 000             ",
                                    "1": "10 & PT. 11                   "
                                },
                                {
                                    "0": "6 09 18005 01 2200 000             ",
                                    "1": "12 & PT. 11                   "
                                },
                                {
                                    "0": "6 09 18005 01 2300 000             ",
                                    "1": "13 & PT. 14                   "
                                },
                                {
                                    "0": "6 09 18005 01 2400 000             ",
                                    "1": "15 & PT. 14                   "
                                },
                                {
                                    "0": "6 09 18005 01 2500 000             ",
                                    "1": "16 & 17                       "
                                },
                                {
                                    "0": "6 09 18005 01 2800 000             ",
                                    "1": "20 & PT. 19                   "
                                },
                                {
                                    "0": "6 09 18005 01 4100 000             ",
                                    "1": "29-35 & PT. 50                "
                                },
                                {
                                    "0": "6 09 18005 01 4700 000             ",
                                    "1": "44-49 & PT. 50                "
                                },
                                {
                                    "0": "7 00 08520 01 0300 000             ",
                                    "1": "13 & 14 PTS. 11 & 12          "
                                },
                                {
                                    "0": "7 00 08520 01 0401 000             ",
                                    "1": "PTS. 11, 12 & 33              "
                                },
                                {
                                    "0": "7 00 08520 01 0600 000             ",
                                    "1": "PTS. 7 & 8                    "
                                },
                                {
                                    "0": "7 00 08520 01 1100 000             ",
                                    "1": "19 & 20                       "
                                },
                                {
                                    "0": "7 00 08520 01 1700 000             ",
                                    "1": "5-11 & PT. 12                 "
                                },
                                {
                                    "0": "7 00 08520 01 1800 000             ",
                                    "1": "13 & 14                       "
                                },
                                {
                                    "0": "7 00 08520 01 2100 000             ",
                                    "1": "15 & 16                       "
                                },
                                {
                                    "0": "7 00 08520 01 2800 000             ",
                                    "1": "23 & 24                       "
                                },
                                {
                                    "0": "7 00 08520 01 3100 000             ",
                                    "1": "PTS. 5 & 6                    "
                                },
                                {
                                    "0": "7 00 08603 01 0300 000             ",
                                    "1": "PTS. 1 & 2                    "
                                },
                                {
                                    "0": "7 00 08603 01 0400 000             ",
                                    "1": "3 & PT. 2                     "
                                },
                                {
                                    "0": "7 00 08603 01 0600 000             ",
                                    "1": "5 & PT. 4                     "
                                },
                                {
                                    "0": "7 00 08603 01 3200 000             ",
                                    "1": "31&32                         "
                                },
                                {
                                    "0": "7 00 08603 01 4800 000             ",
                                    "1": "56 & PT OF 57                 "
                                },
                                {
                                    "0": "7 00 08603 02 1700 000             ",
                                    "1": "108 & 109                     "
                                },
                                {
                                    "0": "7 00 08604 01 0900 000             ",
                                    "1": "MAJOR PT OF 5 & 6             "
                                },
                                {
                                    "0": "7 00 08604 01 1000 000             ",
                                    "1": "4 & PT. 5                     "
                                },
                                {
                                    "0": "7 00 08604 01 4600 000             ",
                                    "1": "138-138A & PT OF LOT 104-A    "
                                },
                                {
                                    "0": "7 00 08613 01 1400 000             ",
                                    "1": "5 & 6                         "
                                },
                                {
                                    "0": "7 00 08613 01 2300 000             ",
                                    "1": "9 & PT. LOT #11-B             "
                                },
                                {
                                    "0": "7 00 08613 01 3400 000             ",
                                    "1": "6,7 & PT. OF 8                "
                                },
                                {
                                    "0": "7 00 08613 01 3401 000             ",
                                    "1": "PT. LOTS 8 & 9                "
                                },
                                {
                                    "0": "7 00 08617 03 3600 000             ",
                                    "1": "50-54 & PT. 55                "
                                },
                                {
                                    "0": "7 00 08617 03 3700 000             ",
                                    "1": "56-58 & PT. 55 & 59           "
                                },
                                {
                                    "0": "7 00 08617 03 3800 000             ",
                                    "1": "60-64 PT 59 & 65              "
                                },
                                {
                                    "0": "7 00 08617 03 4300 000             ",
                                    "1": "171 & 85                      "
                                },
                                {
                                    "0": "7 00 08617 03 5700 000             ",
                                    "1": "116 & 119 PT. 120             "
                                },
                                {
                                    "0": "7 00 08617 03 6000 000             ",
                                    "1": "132-134 PT. 131 & 135         "
                                },
                                {
                                    "0": "7 00 08617 03 6804 000             ",
                                    "1": "LOT 4 & 5                     "
                                },
                                {
                                    "0": "7 00 08617 03 6812 000             ",
                                    "1": "PT. 12 & PT. 11               "
                                },
                                {
                                    "0": "7 00 08617 03 6813 000             ",
                                    "1": "13 & PT. 12                   "
                                },
                                {
                                    "0": "7 00 08618 01 2800 000             ",
                                    "1": "A-1 & A-2                     "
                                },
                                {
                                    "0": "7 00 09408 02 0100 000             ",
                                    "1": "18 & 19                       "
                                },
                                {
                                    "0": "7 00 09408 02 0300 000             ",
                                    "1": "20 & 21                       "
                                },
                                {
                                    "0": "7 00 09408 02 0400 000             ",
                                    "1": "22&23                         "
                                },
                                {
                                    "0": "7 00 09408 02 0500 000             ",
                                    "1": "24 & 25                       "
                                },
                                {
                                    "0": "7 00 09408 02 0600 000             ",
                                    "1": "26 & 27                       "
                                },
                                {
                                    "0": "7 00 09408 02 0900 000             ",
                                    "1": "PT 92 & 93                    "
                                },
                                {
                                    "0": "7 00 09408 02 1001 000             ",
                                    "1": "PT.OF 91 & 92                 "
                                },
                                {
                                    "0": "7 00 09408 02 1100 000             ",
                                    "1": "PT. 28 & 29                   "
                                },
                                {
                                    "0": "7 00 09408 02 1500 000             ",
                                    "1": "30 & 31                       "
                                },
                                {
                                    "0": "7 00 09408 02 1600 000             ",
                                    "1": "LOTS 32-33 & 34               "
                                },
                                {
                                    "0": "7 00 09408 02 1900 000             ",
                                    "1": "14, 15 & PT. 16               "
                                },
                                {
                                    "0": "7 00 09408 02 2000 000             ",
                                    "1": "12 & 13                       "
                                },
                                {
                                    "0": "7 00 09408 02 2300 000             ",
                                    "1": "PT. 37 & 38                   "
                                },
                                {
                                    "0": "7 00 09408 02 2400 000             ",
                                    "1": "39 PT. 38 & 40                "
                                },
                                {
                                    "0": "7 00 09408 02 2700 000             ",
                                    "1": "42 & 43                       "
                                },
                                {
                                    "0": "7 00 09408 02 3100 000             ",
                                    "1": "86 & 87                       "
                                },
                                {
                                    "0": "7 00 09408 02 3200 000             ",
                                    "1": "44 & 45                       "
                                },
                                {
                                    "0": "7 00 09408 02 3300 000             ",
                                    "1": "46 & PT. 47                   "
                                },
                                {
                                    "0": "7 00 09408 02 3400 000             ",
                                    "1": "PT. 48 & PT 47                "
                                },
                                {
                                    "0": "7 00 09408 02 3500 000             ",
                                    "1": "49 & PT. 48                   "
                                },
                                {
                                    "0": "7 00 09408 02 3701 000             ",
                                    "1": "5 & 6                         "
                                },
                                {
                                    "0": "7 00 09408 02 3900 000             ",
                                    "1": "53 & 54                       "
                                },
                                {
                                    "0": "7 00 09408 02 4800 000             ",
                                    "1": "60 & 61                       "
                                },
                                {
                                    "0": "7 00 09408 02 5500 000             ",
                                    "1": "LOTS 68 & 69                  "
                                },
                                {
                                    "0": "7 00 09408 02 5600 000             ",
                                    "1": "70 & 71                       "
                                },
                                {
                                    "0": "7 00 09408 02 6000 000             ",
                                    "1": "78 & 79                       "
                                },
                                {
                                    "0": "7 00 09410 01 0700 000             ",
                                    "1": "41 & PT. 40                   "
                                },
                                {
                                    "0": "7 00 09410 01 1100 000             ",
                                    "1": "39 & PT. OF 40                "
                                },
                                {
                                    "0": "7 00 09410 01 1300 000             ",
                                    "1": "29 & PT. 31                   "
                                },
                                {
                                    "0": "7 00 09410 01 1400 000             ",
                                    "1": "33, 35 & PT. 31               "
                                },
                                {
                                    "0": "7 00 09410 01 1800 000             ",
                                    "1": "LOT 37 & 38                   "
                                },
                                {
                                    "0": "7 00 09410 01 4200 000             ",
                                    "1": "12 & PT. 13                   "
                                },
                                {
                                    "0": "7 00 09410 01 4300 000             ",
                                    "1": "14 & PT. 15                   "
                                },
                                {
                                    "0": "7 00 09410 01 4301 000             ",
                                    "1": "14 & PT. 15                   "
                                },
                                {
                                    "0": "7 00 09410 01 4302 000             ",
                                    "1": "14 & PT. 15                   "
                                },
                                {
                                    "0": "7 00 09412 02 0700 000             ",
                                    "1": "5 & 6                         "
                                },
                                {
                                    "0": "7 00 09415 04 0900 000             ",
                                    "1": "1 & 3                         "
                                },
                                {
                                    "0": "7 00 09415 04 1600 000             ",
                                    "1": "5 & 7, PT OF 9,11,13          "
                                },
                                {
                                    "0": "7 00 09415 04 2000 000             ",
                                    "1": "PT. 9 & 11                    "
                                },
                                {
                                    "0": "7 00 09419 01 0100 000             ",
                                    "1": "2 & PT. 4                     "
                                },
                                {
                                    "0": "7 00 09419 01 1900 000             ",
                                    "1": "25 & 27                       "
                                },
                                {
                                    "0": "7 00 09420 01 1700 000             ",
                                    "1": "PT 1 & ALL 2                  "
                                },
                                {
                                    "0": "7 00 09505 01 4200 000             ",
                                    "1": "11 & PT. 10                   "
                                },
                                {
                                    "0": "7 00 09505 01 4900 000             ",
                                    "1": "PT. 9 & 10                    "
                                },
                                {
                                    "0": "7 00 09505 01 5000 000             ",
                                    "1": "8 & PT. 9                     "
                                },
                                {
                                    "0": "7 00 09505 01 5600 000             ",
                                    "1": "19 & 20                       "
                                },
                                {
                                    "0": "7 00 09505 01 5900 000             ",
                                    "1": "PT. 20 & 21                   "
                                },
                                {
                                    "0": "7 00 09505 01 6200 000             ",
                                    "1": "PT. 21 & 22                   "
                                },
                                {
                                    "0": "7 00 09505 01 6600 000             ",
                                    "1": "PT. 22 & 23                   "
                                },
                                {
                                    "0": "7 00 09505 01 6900 000             ",
                                    "1": "24 & PT. 23                   "
                                },
                                {
                                    "0": "7 00 09505 02 1800 000             ",
                                    "1": "C-30 & PT. 31                 "
                                },
                                {
                                    "0": "7 00 09505 02 2000 000             ",
                                    "1": "16 & 17                       "
                                },
                                {
                                    "0": "7 00 09505 02 2100 000             ",
                                    "1": "14 & 15                       "
                                },
                                {
                                    "0": "7 00 09505 02 3700 000             ",
                                    "1": "6 & 7                         "
                                },
                                {
                                    "0": "7 00 09505 02 3800 000             ",
                                    "1": "2 & 8                         "
                                },
                                {
                                    "0": "7 00 09505 02 4500 000             ",
                                    "1": "9 & 10                        "
                                },
                                {
                                    "0": "7 00 09505 02 5400 000             ",
                                    "1": "PT. 4 & 5                     "
                                },
                                {
                                    "0": "7 00 09505 02 6000 000             ",
                                    "1": "PT. LOT 4 & PT. LOT 5         "
                                },
                                {
                                    "0": "7 00 09505 02 7000 000             ",
                                    "1": "LOTS #A-1 & A-2               "
                                },
                                {
                                    "0": "7 00 09506 02 0300 000             ",
                                    "1": "PT. B-1 & B-2                 "
                                },
                                {
                                    "0": "7 00 09506 02 4900 000             ",
                                    "1": "G & 8                         "
                                },
                                {
                                    "0": "7 00 09509 01 1200 000             ",
                                    "1": "165 & PT. OF 164              "
                                },
                                {
                                    "0": "7 00 09509 02 1100 000             ",
                                    "1": "101 & 102                     "
                                },
                                {
                                    "0": "7 00 09509 03 2600 000             ",
                                    "1": "205 & 206                     "
                                },
                                {
                                    "0": "7 00 09509 03 3500 000             ",
                                    "1": "PT. 190 & 192                 "
                                },
                                {
                                    "0": "7 00 09509 03 3800 000             ",
                                    "1": "PT OF 193 & PT 192            "
                                },
                                {
                                    "0": "7 00 09509 03 6400 000             ",
                                    "1": "3 & PT. 4                     "
                                },
                                {
                                    "0": "7 00 09509 03 7500 000             ",
                                    "1": "PT. 27 & 28                   "
                                },
                                {
                                    "0": "7 00 09509 03 8800 000             ",
                                    "1": "PT. 27 & 28                   "
                                },
                                {
                                    "0": "7 00 09509 04 5700 000             ",
                                    "1": "22 & PT. 21                   "
                                },
                                {
                                    "0": "7 00 09509 04 6400 000             ",
                                    "1": "6 & 5' LOT 5                  "
                                },
                                {
                                    "0": "7 00 09513 01 3700 000             ",
                                    "1": "7 & PT. 6                     "
                                },
                                {
                                    "0": "7 00 09513 01 3800 000             ",
                                    "1": "PT. 5 & 6                     "
                                },
                                {
                                    "0": "7 00 09513 01 3900 000             ",
                                    "1": "4 & PT. 5                     "
                                },
                                {
                                    "0": "7 00 09518 01 3500 000             ",
                                    "1": "4 & PT. 3                     "
                                },
                                {
                                    "0": "7 00 09518 01 3800 000             ",
                                    "1": "8 & 9                         "
                                },
                                {
                                    "0": "7 00 09520 01 1100 000             ",
                                    "1": "10 & PT. 11                   "
                                },
                                {
                                    "0": "7 00 09520 01 1300 000             ",
                                    "1": "12 & PT. 11                   "
                                },
                                {
                                    "0": "7 00 09520 02 1300 000             ",
                                    "1": "24 & PT. 25 & 37              "
                                },
                                {
                                    "0": "7 00 09520 02 1400 000             ",
                                    "1": "PT. 25 & 36                   "
                                },
                                {
                                    "0": "7 00 10100 01 1006 000             ",
                                    "1": "3 & PT 2                      "
                                },
                                {
                                    "0": "7 00 10100 01 1008 000             ",
                                    "1": "3 & PT 2                      "
                                },
                                {
                                    "0": "7 00 10100 01 3420 000             ",
                                    "1": "3 & 4                         "
                                },
                                {
                                    "0": "7 00 10200 01 1602 000             ",
                                    "1": "1 & A                         "
                                },
                                {
                                    "0": "7 00 10304 01 3100 000             ",
                                    "1": "95 & 96                       "
                                },
                                {
                                    "0": "7 00 10305 01 1000 000             ",
                                    "1": "23 & 24                       "
                                },
                                {
                                    "0": "7 00 10306 01 3500 000             ",
                                    "1": "PTS. 26 & 27                  "
                                },
                                {
                                    "0": "7 00 10306 01 3600 000             ",
                                    "1": "ALL OF 24 PT. 23 & 25         "
                                },
                                {
                                    "0": "7 00 10306 01 3700 000             ",
                                    "1": "21-22 & PTS. 20 & 23          "
                                },
                                {
                                    "0": "7 00 10306 01 3900 000             ",
                                    "1": "18,19 & 35' OF 20             "
                                },
                                {
                                    "0": "7 00 10306 01 4200 000             ",
                                    "1": "14 & 15                       "
                                },
                                {
                                    "0": "7 00 10306 01 4500 000             ",
                                    "1": "LOTS 9 & 10                   "
                                },
                                {
                                    "0": "7 00 10306 01 5400 000             ",
                                    "1": "28 & 29                       "
                                },
                                {
                                    "0": "7 00 10306 01 5500 000             ",
                                    "1": "30 & 31                       "
                                },
                                {
                                    "0": "7 00 10400 01 1000 000             ",
                                    "1": "16 & 17                       "
                                },
                                {
                                    "0": "7 00 10401 01 7300 000             ",
                                    "1": "73 & PT OF 72 & 74            "
                                },
                                {
                                    "0": "7 00 10406 01 0700 000             ",
                                    "1": "16 & 17                       "
                                },
                                {
                                    "0": "7 00 10408 01 1200 000             ",
                                    "1": "38 & PT. 43                   "
                                },
                                {
                                    "0": "7 00 10408 01 1400 000             ",
                                    "1": "41, PT. OF 40 & 42            "
                                },
                                {
                                    "0": "7 00 10408 01 1601 000             ",
                                    "1": "PT. 42 & 43                   "
                                },
                                {
                                    "0": "7 00 10416 01 3000 000             ",
                                    "1": "12 & 1/2 13                   "
                                },
                                {
                                    "0": "7 00 10416 01 4700 000             ",
                                    "1": "14 & PT 13                    "
                                },
                                {
                                    "0": "7 00 10900 01 4202 000             ",
                                    "1": "2 & PT. OF 3                  "
                                },
                                {
                                    "0": "7 00 10900 01 4204 000             ",
                                    "1": "4 & PT. OF 3                  "
                                },
                                {
                                    "0": "7 00 10900 02 1000 000             ",
                                    "1": "LOT #10 & PT OF #9            "
                                },
                                {
                                    "0": "7 00 10900 02 1300 000             ",
                                    "1": "12 & PT. 13                   "
                                },
                                {
                                    "0": "7 00 10900 02 1301 000             ",
                                    "1": "14 & PT. 13                   "
                                },
                                {
                                    "0": "7 00 10902 01 3300 000             ",
                                    "1": "1 & 2                         "
                                },
                                {
                                    "0": "7 00 11102 01 0100 000             ",
                                    "1": "1 & 2                         "
                                },
                                {
                                    "0": "7 00 11102 01 0400 000             ",
                                    "1": "18 & PT. 20                   "
                                },
                                {
                                    "0": "7 00 11102 01 0500 000             ",
                                    "1": "22 & PT. OF 20                "
                                },
                                {
                                    "0": "7 00 11102 01 0600 000             ",
                                    "1": "24 & PT. 26                   "
                                },
                                {
                                    "0": "7 00 11102 01 0700 000             ",
                                    "1": "28 & ONEHALF LOT 26           "
                                },
                                {
                                    "0": "7 00 11102 01 0800 000             ",
                                    "1": "30 & PT. 32                   "
                                },
                                {
                                    "0": "7 00 11102 01 0900 000             ",
                                    "1": "34 & PT. OF 32                "
                                },
                                {
                                    "0": "7 00 11102 01 1300 000             ",
                                    "1": "33 & PT 31                    "
                                },
                                {
                                    "0": "7 00 11102 01 1301 000             ",
                                    "1": "29 & PT 31                    "
                                },
                                {
                                    "0": "7 00 11102 01 1400 000             ",
                                    "1": "27 & PT. 25                   "
                                },
                                {
                                    "0": "7 00 11102 01 1400 001             ",
                                    "1": "27 & PT. 25                   "
                                },
                                {
                                    "0": "7 00 11102 01 1500 000             ",
                                    "1": "23 & PT. 25                   "
                                },
                                {
                                    "0": "7 00 11102 01 1600 000             ",
                                    "1": "21 & PT. 19                   "
                                },
                                {
                                    "0": "7 00 11102 01 1700 000             ",
                                    "1": "15, 17 & PT. 13 & 19          "
                                },
                                {
                                    "0": "7 00 11102 01 1800 000             ",
                                    "1": "11 & PT. 13                   "
                                },
                                {
                                    "0": "7 00 11102 01 1900 000             ",
                                    "1": "9 & PT. 7                     "
                                },
                                {
                                    "0": "7 00 11102 01 2000 000             ",
                                    "1": "5 & PT. 7                     "
                                },
                                {
                                    "0": "7 00 11102 01 2100 000             ",
                                    "1": "3 & 4                         "
                                },
                                {
                                    "0": "7 00 11102 01 4600 000             ",
                                    "1": "6 & 7A                        "
                                },
                                {
                                    "0": "7 00 11102 01 4700 000             ",
                                    "1": "2 & 4                         "
                                },
                                {
                                    "0": "7 00 11102 01 5600 000             ",
                                    "1": "1 & 2                         "
                                },
                                {
                                    "0": "7 00 11102 01 6100 000             ",
                                    "1": "7 & 9                         "
                                },
                                {
                                    "0": "7 00 11102 01 6300 000             ",
                                    "1": "LOTS 10 & 11                  "
                                },
                                {
                                    "0": "7 00 11102 01 6300 001             ",
                                    "1": "LOTS 10 & 11                  "
                                },
                                {
                                    "0": "7 00 11102 01 6400 000             ",
                                    "1": "12 & 13                       "
                                },
                                {
                                    "0": "7 00 11102 01 6500 000             ",
                                    "1": "14 & 15                       "
                                },
                                {
                                    "0": "7 00 11102 01 6900 000             ",
                                    "1": "17 & 18                       "
                                },
                                {
                                    "0": "7 00 11102 01 7200 000             ",
                                    "1": "12 & 13                       "
                                },
                                {
                                    "0": "7 00 11102 02 2800 000             ",
                                    "1": "7 & 8                         "
                                },
                                {
                                    "0": "7 00 11102 03 0800 000             ",
                                    "1": "11 & 12                       "
                                },
                                {
                                    "0": "7 00 11102 03 0801 000             ",
                                    "1": "9 & 10                        "
                                },
                                {
                                    "0": "7 00 11102 03 1300 000             ",
                                    "1": "6 & PT. 7                     "
                                },
                                {
                                    "0": "7 00 11102 03 2100 000             ",
                                    "1": "13 & 14                       "
                                },
                                {
                                    "0": "7 00 11102 03 2200 000             ",
                                    "1": "12 & 13                       "
                                },
                                {
                                    "0": "7 00 11102 03 2600 000             ",
                                    "1": "16 & 17                       "
                                },
                                {
                                    "0": "7 00 11102 03 2700 000             ",
                                    "1": "LOTS 18 & 19                  "
                                },
                                {
                                    "0": "7 00 11102 03 4100 000             ",
                                    "1": "10 & 11                       "
                                },
                                {
                                    "0": "7 00 11102 03 5100 000             ",
                                    "1": "20 & 21                       "
                                },
                                {
                                    "0": "7 00 11102 03 5501 000             ",
                                    "1": "1, 23 & PT. OF #2             "
                                },
                                {
                                    "0": "7 00 11102 03 5600 000             ",
                                    "1": "2 & 3                         "
                                },
                                {
                                    "0": "7 00 11102 03 6800 000             ",
                                    "1": "15 & 16                       "
                                },
                                {
                                    "0": "7 00 11102 03 8100 000             ",
                                    "1": "9 & 10                        "
                                },
                                {
                                    "0": "7 00 11102 04 0900 000             ",
                                    "1": "8 & 9                         "
                                },
                                {
                                    "0": "7 00 11104 01 0300 000             ",
                                    "1": "41&46                         "
                                },
                                {
                                    "0": "7 00 11104 01 0400 000             ",
                                    "1": "40,47 & PT. OF 39 & 48        "
                                },
                                {
                                    "0": "7 00 11104 01 0500 000             ",
                                    "1": "38, 49 & PTS. 39 & 48         "
                                },
                                {
                                    "0": "7 00 11104 01 0600 000             ",
                                    "1": "36 & 37                       "
                                },
                                {
                                    "0": "7 00 11104 01 0700 000             ",
                                    "1": "34 & 35                       "
                                },
                                {
                                    "0": "7 00 11104 01 0800 000             ",
                                    "1": "52 & 53                       "
                                },
                                {
                                    "0": "7 00 11104 01 2000 000             ",
                                    "1": "68 & 69                       "
                                },
                                {
                                    "0": "7 00 11104 01 2100 000             ",
                                    "1": "55 & 58                       "
                                },
                                {
                                    "0": "7 00 11104 01 2102 000             ",
                                    "1": "54 & 59                       "
                                },
                                {
                                    "0": "7 00 11104 01 2400 000             ",
                                    "1": "53 & 60                       "
                                },
                                {
                                    "0": "7 00 11104 01 3200 000             ",
                                    "1": "66 & 67                       "
                                },
                                {
                                    "0": "7 00 11104 01 4400 000             ",
                                    "1": "35 & 36                       "
                                },
                                {
                                    "0": "7 00 11104 01 4600 000             ",
                                    "1": "29 & 30                       "
                                },
                                {
                                    "0": "7 00 11104 01 4700 000             ",
                                    "1": "27 & 28                       "
                                },
                                {
                                    "0": "7 00 11104 01 5600 000             ",
                                    "1": "17 & 18                       "
                                },
                                {
                                    "0": "7 00 11104 01 5700 000             ",
                                    "1": "13 & 14                       "
                                },
                                {
                                    "0": "7 00 11104 01 5700 001             ",
                                    "1": "13 & 14                       "
                                },
                                {
                                    "0": "7 00 11104 01 6000 000             ",
                                    "1": "9 & 10                        "
                                },
                                {
                                    "0": "7 00 11104 01 6400 000             ",
                                    "1": "4 & 5                         "
                                },
                                {
                                    "0": "7 00 11104 01 6400 001             ",
                                    "1": "4 & 5                         "
                                },
                                {
                                    "0": "7 00 11104 01 6500 000             ",
                                    "1": "2 & 3                         "
                                },
                                {
                                    "0": "7 00 11104 02 0900 000             ",
                                    "1": "28 & 29                       "
                                },
                                {
                                    "0": "7 00 11104 02 1300 000             ",
                                    "1": "32 & 33                       "
                                },
                                {
                                    "0": "7 00 11104 02 2500 000             ",
                                    "1": "46 & 51                       "
                                },
                                {
                                    "0": "7 00 11104 02 2800 000             ",
                                    "1": "58 & 63                       "
                                },
                                {
                                    "0": "7 00 11104 02 3600 000             ",
                                    "1": "59 & 62                       "
                                },
                                {
                                    "0": "7 00 11104 02 4200 000             ",
                                    "1": "38 & 41                       "
                                },
                                {
                                    "0": "7 00 11104 02 5200 000             ",
                                    "1": "1 & 2                         "
                                },
                                {
                                    "0": "7 00 11104 02 5200 001             ",
                                    "1": "1 & 2                         "
                                },
                                {
                                    "0": "7 00 11104 02 5300 000             ",
                                    "1": "3 & 4                         "
                                },
                                {
                                    "0": "7 00 11104 02 6400 000             ",
                                    "1": "36 & 37                       "
                                },
                                {
                                    "0": "7 00 11104 03 5500 000             ",
                                    "1": "PT OF 2,3 & 7                 "
                                },
                                {
                                    "0": "7 00 11109 01 0300 000             ",
                                    "1": "PT 19, ALL OF 5-6 & 7         "
                                },
                                {
                                    "0": "7 00 11109 01 0400 000             ",
                                    "1": "PT. 17 & 18 & 9               "
                                },
                                {
                                    "0": "7 00 11109 01 0700 000             ",
                                    "1": "10,11,PT.17&18                "
                                },
                                {
                                    "0": "7 00 11109 01 0900 000             ",
                                    "1": "12, 13 & PT. 14               "
                                },
                                {
                                    "0": "7 00 11109 01 1000 000             ",
                                    "1": "15, 16 & PT. 14               "
                                },
                                {
                                    "0": "7 00 11110 01 0100 000             ",
                                    "1": "1 & 1A                        "
                                },
                                {
                                    "0": "7 00 11110 01 0200 000             ",
                                    "1": "2A & 3A                       "
                                },
                                {
                                    "0": "7 00 11110 01 0300 000             ",
                                    "1": "2 & 3                         "
                                },
                                {
                                    "0": "7 00 11110 01 0600 000             ",
                                    "1": "4,4A,5 & 5A                   "
                                },
                                {
                                    "0": "7 00 11110 01 0800 000             ",
                                    "1": "7 & 7A                        "
                                },
                                {
                                    "0": "7 00 11110 01 0900 000             ",
                                    "1": "8 & 8A                        "
                                },
                                {
                                    "0": "7 00 11110 01 1000 000             ",
                                    "1": "9 & 9A                        "
                                },
                                {
                                    "0": "7 00 11110 01 1200 000             ",
                                    "1": "7 & 8                         "
                                },
                                {
                                    "0": "7 00 11110 01 2300 000             ",
                                    "1": "PT. 14 & PT 15                "
                                },
                                {
                                    "0": "7 00 11110 01 2700 000             ",
                                    "1": "22 23 22A & PT. 23A           "
                                },
                                {
                                    "0": "7 00 11110 01 3600 000             ",
                                    "1": "40 & 41                       "
                                },
                                {
                                    "0": "7 00 11110 01 5200 000             ",
                                    "1": "23C & PT 23B                  "
                                },
                                {
                                    "0": "7 00 11111 01 0100 000             ",
                                    "1": "46 & 47                       "
                                },
                                {
                                    "0": "7 00 11111 01 1800 000             ",
                                    "1": "59 & 60                       "
                                },
                                {
                                    "0": "7 00 11111 01 2200 000             ",
                                    "1": "54 & 55                       "
                                },
                                {
                                    "0": "7 00 11111 01 3900 000             ",
                                    "1": "4 & 5                         "
                                },
                                {
                                    "0": "7 00 11111 01 4100 000             ",
                                    "1": "7 & 8                         "
                                },
                                {
                                    "0": "7 00 11111 01 4200 000             ",
                                    "1": "9 & 10                        "
                                },
                                {
                                    "0": "7 00 11111 01 4400 000             ",
                                    "1": "PT. OF 12 & 13                "
                                },
                                {
                                    "0": "7 00 11111 01 4500 000             ",
                                    "1": "PT. 12 & 13                   "
                                },
                                {
                                    "0": "7 00 11111 01 4800 000             ",
                                    "1": "1 & 2                         "
                                },
                                {
                                    "0": "7 00 11203 01 0200 000             ",
                                    "1": "82 & 82A                      "
                                },
                                {
                                    "0": "7 00 11203 01 2600 000             ",
                                    "1": "118 & 119                     "
                                },
                                {
                                    "0": "7 00 11203 01 2700 000             ",
                                    "1": "120 & 121                     "
                                },
                                {
                                    "0": "7 00 11203 01 3300 000             ",
                                    "1": "112 & 113                     "
                                },
                                {
                                    "0": "7 00 11203 01 3600 000             ",
                                    "1": "93 & 114                      "
                                },
                                {
                                    "0": "7 00 11203 02 3200 000             ",
                                    "1": "LOTS 11 & 12                  "
                                },
                                {
                                    "0": "7 00 11203 02 3500 000             ",
                                    "1": "15 & 16                       "
                                },
                                {
                                    "0": "7 00 11700 01 0810 000             ",
                                    "1": "3,4 & PT OF 5                 "
                                },
                                {
                                    "0": "7 00 11700 01 2601 000             ",
                                    "1": "5 & 6                         "
                                },
                                {
                                    "0": "7 00 11700 01 2604 000             ",
                                    "1": "7 & 8                         "
                                },
                                {
                                    "0": "7 00 11800 01 3000 000             ",
                                    "1": "5 & PT. 4                     "
                                },
                                {
                                    "0": "7 00 11900 01 1900 000             ",
                                    "1": "7 & 8                         "
                                },
                                {
                                    "0": "7 00 11900 02 0900 000             ",
                                    "1": "4 & PT 3                      "
                                },
                                {
                                    "0": "7 00 11900 02 0908 000             ",
                                    "1": "1,2, & PT. 3                  "
                                },
                                {
                                    "0": "7 00 11919 01 1200 000             ",
                                    "1": "20 & 19                       "
                                },
                                {
                                    "0": "7 00 12000 02 2508 000             ",
                                    "1": "LOT 16 & 1/2 LOT 15           "
                                },
                                {
                                    "0": "7 00 12000 02 2517 000             ",
                                    "1": "LOT 1 & PT. LOT 2             "
                                },
                                {
                                    "0": "7 02 08519 01 0600 000             ",
                                    "1": "7 & 8                         "
                                },
                                {
                                    "0": "7 02 08519 01 0900 000             ",
                                    "1": "17 & 18                       "
                                },
                                {
                                    "0": "7 02 08519 02 3600 000             ",
                                    "1": "44 & PT. OF 45                "
                                },
                                {
                                    "0": "7 02 08520 01 0300 000             ",
                                    "1": "PTS. 11, 12 & 33              "
                                },
                                {
                                    "0": "7 02 08520 01 0500 000             ",
                                    "1": "PTS. 7 & 8                    "
                                },
                                {
                                    "0": "7 02 09407 01 0102 000             ",
                                    "1": "1 & 2                         "
                                },
                                {
                                    "0": "7 02 09407 01 0400 000             ",
                                    "1": "3 & 4                         "
                                },
                                {
                                    "0": "7 02 09407 01 0500 000             ",
                                    "1": "5 & 6                         "
                                },
                                {
                                    "0": "7 02 09407 01 0900 000             ",
                                    "1": "11 & 12                       "
                                },
                                {
                                    "0": "7 02 09407 02 1201 000             ",
                                    "1": "PT OF LOT #14 & PT OF LOT #15 "
                                },
                                {
                                    "0": "7 02 09410 01 3200 000             ",
                                    "1": "2 & 15 A                      "
                                },
                                {
                                    "0": "7 02 09410 01 3300 000             ",
                                    "1": "3 & PT. 15                    "
                                },
                                {
                                    "0": "7 02 09410 01 3400 000             ",
                                    "1": "PT. 15 & 4                    "
                                },
                                {
                                    "0": "7 02 09410 01 4500 000             ",
                                    "1": "6 & 13, PTS. 7 & 12           "
                                },
                                {
                                    "0": "7 02 09410 01 5300 000             ",
                                    "1": "8 & 11                        "
                                },
                                {
                                    "0": "7 02 09410 02 0300 000             ",
                                    "1": "58 & 59                       "
                                },
                                {
                                    "0": "7 02 09410 02 0600 000             ",
                                    "1": "53 & 54                       "
                                },
                                {
                                    "0": "7 02 09410 02 0800 000             ",
                                    "1": "50 & 51                       "
                                },
                                {
                                    "0": "7 02 09410 02 2300 000             ",
                                    "1": "7 & 8                         "
                                },
                                {
                                    "0": "7 02 09410 02 2700 000             ",
                                    "1": "28 & 29                       "
                                },
                                {
                                    "0": "7 02 09410 02 3400 000             ",
                                    "1": "20 & 21                       "
                                },
                                {
                                    "0": "7 02 09410 02 3500 000             ",
                                    "1": "47 & 48                       "
                                },
                                {
                                    "0": "7 02 09410 02 3600 000             ",
                                    "1": "45 & 46                       "
                                },
                                {
                                    "0": "7 02 09410 02 4500 000             ",
                                    "1": "35 & 36                       "
                                },
                                {
                                    "0": "7 02 09410 02 4700 000             ",
                                    "1": "33 & 34                       "
                                },
                                {
                                    "0": "7 02 09410 02 5300 000             ",
                                    "1": "42 & 43                       "
                                },
                                {
                                    "0": "7 02 09410 02 5900 000             ",
                                    "1": "48 & 49                       "
                                },
                                {
                                    "0": "7 02 09410 02 6501 000             ",
                                    "1": "56 & PT. 57                   "
                                },
                                {
                                    "0": "7 02 09410 02 6700 000             ",
                                    "1": "59 & 60                       "
                                },
                                {
                                    "0": "7 02 09411 01 0200 000             ",
                                    "1": "10 & 11                       "
                                },
                                {
                                    "0": "7 02 09411 01 0300 000             ",
                                    "1": "8 & 9                         "
                                },
                                {
                                    "0": "7 02 09411 01 0500 000             ",
                                    "1": "1 & 2                         "
                                },
                                {
                                    "0": "7 02 09411 01 0700 000             ",
                                    "1": "3, 4 & PT OF 27               "
                                },
                                {
                                    "0": "7 02 09411 01 3200 000             ",
                                    "1": "15 & PT OF 13                 "
                                },
                                {
                                    "0": "7 02 09411 01 4800 000             ",
                                    "1": "LOT 6 & PT OF LOT #5          "
                                },
                                {
                                    "0": "7 02 09411 01 5000 000             ",
                                    "1": "3 & PT. 2                     "
                                },
                                {
                                    "0": "7 02 09411 01 5200 000             ",
                                    "1": "LOT 1 & PT. LOT 2             "
                                },
                                {
                                    "0": "7 02 09411 03 3900 000             ",
                                    "1": "9, 11, & PT. 13               "
                                },
                                {
                                    "0": "7 02 09411 03 4100 000             ",
                                    "1": "PTS. 13 & 15                  "
                                },
                                {
                                    "0": "7 02 09411 03 4200 000             ",
                                    "1": "17 & PT. OF 15                "
                                },
                                {
                                    "0": "7 02 09411 03 4800 000             ",
                                    "1": "16 & 18                       "
                                },
                                {
                                    "0": "7 02 09411 03 5600 000             ",
                                    "1": "5 & PT. 6                     "
                                },
                                {
                                    "0": "7 02 09411 03 6000 000             ",
                                    "1": "9 & PT 10                     "
                                },
                                {
                                    "0": "7 02 09411 03 6101 000             ",
                                    "1": "23-26 & PTS 22 & 27           "
                                },
                                {
                                    "0": "7 02 09411 03 6400 000             ",
                                    "1": "2, 3, 4, 5, 6, & 7            "
                                },
                                {
                                    "0": "7 02 09411 03 7802 000             ",
                                    "1": "17 & 18                       "
                                },
                                {
                                    "0": "7 02 09414 01 0500 000             ",
                                    "1": "30 & PT. 31                   "
                                },
                                {
                                    "0": "7 02 09414 01 0600 000             ",
                                    "1": "29 & PT. 28                   "
                                },
                                {
                                    "0": "7 02 09414 01 0700 000             ",
                                    "1": "27 & PT. 28                   "
                                },
                                {
                                    "0": "7 02 09414 01 1000 000             ",
                                    "1": "22 & PT. 23                   "
                                },
                                {
                                    "0": "7 02 09414 01 1200 000             ",
                                    "1": "19 & PT. 18                   "
                                },
                                {
                                    "0": "7 02 09414 01 1300 000             ",
                                    "1": "17 & PT. 18                   "
                                },
                                {
                                    "0": "7 02 09414 01 1600 000             ",
                                    "1": "10 & 11                       "
                                },
                                {
                                    "0": "7 02 09414 01 1700 000             ",
                                    "1": "8 & 9                         "
                                },
                                {
                                    "0": "7 18 12013 01 3100 000",
                                    "1": "4 & PT. #3                    "
                                },
                                {
                                    "0": "7 18 12013 01 3400 000",
                                    "1": "2 & PT. 3                     "
                                },
                                {
                                    "0": "7 19 11105 01 1301 000             ",
                                    "1": "3 & 3A                        "
                                },
                                {
                                    "0": "7 20 09405 01 1000 000             ",
                                    "1": "2 & 3                         "
                                },
                                {
                                    "0": "7 20 09406 02 2000 000             ",
                                    "1": "2 & 4                         "
                                },
                                {
                                    "0": "7 20 09406 02 2100 000             ",
                                    "1": "6 & 8                         "
                                },
                                {
                                    "0": "7 20 09406 02 2300 000             ",
                                    "1": "12 & 14                       "
                                },
                                {
                                    "0": "7 20 09406 02 2800 000             ",
                                    "1": "2 & 3                         "
                                },
                                {
                                    "0": "7 20 09406 02 3200 000             ",
                                    "1": "9 & 11                        "
                                },
                                {
                                    "0": "7 20 09406 02 3600 000             ",
                                    "1": "1 & PT. 3                     "
                                },
                                {
                                    "0": "7 20 09406 03 2700 000             ",
                                    "1": "4 & 5                         "
                                },
                                {
                                    "0": "7 20 09406 03 3300 000             ",
                                    "1": "2 & 3                         "
                                },
                                {
                                    "0": "7 20 09406 03 3600 000             ",
                                    "1": "2 & 3                         "
                                },
                                {
                                    "0": "7 20 09406 03 4100 000             ",
                                    "1": "PT. 8 & 9                     "
                                },
                                {
                                    "0": "7 20 09406 03 4200 000             ",
                                    "1": "PTS. 9 & 10                   "
                                },
                                {
                                    "0": "7 20 09406 03 5401 000             ",
                                    "1": "1 & 2                         "
                                },
                                {
                                    "0": "7 20 09406 03 6400 000             ",
                                    "1": "16 & PT. 15                   "
                                },
                                {
                                    "0": "7 20 09406 03 6500 000             ",
                                    "1": "14 & PT. 15                   "
                                },
                                {
                                    "0": "7 20 09406 03 6600 000             ",
                                    "1": "12 & 13                       "
                                },
                                {
                                    "0": "7 20 09406 03 6800 000             ",
                                    "1": "9 & 10                        "
                                },
                                {
                                    "0": "7 20 09406 03 7100 000             ",
                                    "1": "3 & 4                         "
                                },
                                {
                                    "0": "7 20 09406 03 7700 000             ",
                                    "1": "2, 4 & 6                      "
                                },
                                {
                                    "0": "7 20 09406 04 0600 000             ",
                                    "1": "1 & 2                         "
                                },
                                {
                                    "0": "7 20 09406 04 0700 000             ",
                                    "1": "3 & PT. 2                     "
                                },
                                {
                                    "0": "7 20 09406 04 1700 000             ",
                                    "1": "PT. 7 & 8                     "
                                },
                                {
                                    "0": "7 20 09406 04 1800 000             ",
                                    "1": "PT. 7 & 8                     "
                                },
                                {
                                    "0": "7 20 09406 04 3100 000             ",
                                    "1": "14 & 15                       "
                                },
                                {
                                    "0": "7 20 09406 04 3200 000             ",
                                    "1": "12 & 13                       "
                                },
                                {
                                    "0": "7 20 09406 04 3600 000             ",
                                    "1": "PT. 2 & 3                     "
                                },
                                {
                                    "0": "7 20 09406 04 3700 000             ",
                                    "1": "2 & 3                         "
                                },
                                {
                                    "0": "7 20 09406 04 5400 000             ",
                                    "1": "8 & 9                         "
                                },
                                {
                                    "0": "7 20 09406 04 5600 000             ",
                                    "1": "6 & PT. 4 & 5                 "
                                },
                                {
                                    "0": "7 20 09410 01 0300 000             ",
                                    "1": "7 & 9                         "
                                },
                                {
                                    "0": "7 20 09410 01 0400 000             ",
                                    "1": "8 & 10                        "
                                },
                                {
                                    "0": "7 20 09410 01 0600 000             ",
                                    "1": "50 & 51                       "
                                },
                                {
                                    "0": "7 20 09410 01 0900 000             ",
                                    "1": "49 & PT. 48                   "
                                },
                                {
                                    "0": "7 20 09410 01 1700 000             ",
                                    "1": "14 & 16                       "
                                },
                                {
                                    "0": "7 20 09410 01 1800 000             ",
                                    "1": "47 & PT. 48                   "
                                },
                                {
                                    "0": "7 20 09410 01 2000 000             ",
                                    "1": "46 & PT. 45                   "
                                },
                                {
                                    "0": "7 20 09410 01 2100 000             ",
                                    "1": "45 & PT. 44                   "
                                },
                                {
                                    "0": "7 20 09410 01 2200 000             ",
                                    "1": "18 & 20                       "
                                },
                                {
                                    "0": "7 20 09410 01 2400 000             ",
                                    "1": "LOTS 17 & 19                  "
                                },
                                {
                                    "0": "7 20 09410 01 2500 000             ",
                                    "1": "21 & 23                       "
                                },
                                {
                                    "0": "7 20 09410 01 3000 000             ",
                                    "1": "24 & 22                       "
                                },
                                {
                                    "0": "7 20 09410 01 3200 000             ",
                                    "1": "PT. 42 & 43                   "
                                },
                                {
                                    "0": "7 20 09410 01 3300 000             ",
                                    "1": "43 & 44                       "
                                },
                                {
                                    "0": "7 20 09410 01 4100 000             ",
                                    "1": "1 & PT.OF 2                   "
                                },
                                {
                                    "0": "7 20 09410 01 4101 000             ",
                                    "1": "PT.OF 2 & 3                   "
                                },
                                {
                                    "0": "7 20 09410 01 4300 000             ",
                                    "1": "14 & PT. 15                   "
                                },
                                {
                                    "0": "7 20 09410 01 4301 000             ",
                                    "1": "14 & PT. 15                   "
                                },
                                {
                                    "0": "7 20 09410 01 4302 000             ",
                                    "1": "14 & PT. 15                   "
                                },
                                {
                                    "0": "7 20 09410 01 4400 000             ",
                                    "1": "41 & PT. 40                   "
                                },
                                {
                                    "0": "8 00 11200 01 2600 000             ",
                                    "1": "2 & 3                         "
                                },
                                {
                                    "0": "8 00 11204 01 0300 000             ",
                                    "1": "PT. B-20 & B-22               "
                                },
                                {
                                    "0": "8 00 11204 01 0400 000             ",
                                    "1": "PTS B-20 & B-22               "
                                },
                                {
                                    "0": "8 00 11204 01 1900 000             ",
                                    "1": "PT. A-13 & A-14               "
                                },
                                {
                                    "0": "8 00 11204 01 2000 000             ",
                                    "1": "PT. OF 12 & 13                "
                                },
                                {
                                    "0": "8 00 11204 01 3004 000             ",
                                    "1": "1 & A2                        "
                                },
                                {
                                    "0": "8 00 11204 01 3200 000             ",
                                    "1": "PT. A-32 & A-33               "
                                },
                                {
                                    "0": "8 00 11204 01 3300 000             ",
                                    "1": "PT. A-31 & A-32               "
                                },
                                {
                                    "0": "8 00 11204 01 3400 000             ",
                                    "1": "PT. A-30 & A-31               "
                                },
                                {
                                    "0": "8 00 11204 01 4200 000             ",
                                    "1": "A-25 & B-14                   "
                                },
                                {
                                    "0": "8 00 11204 01 4900 000             ",
                                    "1": "A-1 & PT. A-2                 "
                                },
                                {
                                    "0": "8 00 11300 01 2100 014             ",
                                    "1": "14 & 16"
                                },
                                {
                                    "0": "8 00 11300 02 0600 000             ",
                                    "1": "1 & 1/4 PRIVATE RD.           "
                                },
                                {
                                    "0": "8 00 11300 02 2202 000             ",
                                    "1": "2, PT. OF 1 & 3               "
                                },
                                {
                                    "0": "8 00 11300 02 2211 000             ",
                                    "1": "PT. 1 & 3                     "
                                },
                                {
                                    "0": "8 00 11420 01 1000 000             ",
                                    "1": "67 & 68                       "
                                },
                                {
                                    "0": "8 00 11420 01 1100 000             ",
                                    "1": "58 & PT. 59                   "
                                },
                                {
                                    "0": "8 00 11420 01 1200 000             ",
                                    "1": "60 & 1/2 59                   "
                                },
                                {
                                    "0": "8 00 11420 01 1301 000             ",
                                    "1": "50 & 51                       "
                                },
                                {
                                    "0": "8 00 11420 01 1600 000             ",
                                    "1": "56 & 57                       "
                                },
                                {
                                    "0": "8 00 11420 01 1700 000             ",
                                    "1": "65 & 66                       "
                                },
                                {
                                    "0": "8 00 11420 01 1800 000             ",
                                    "1": "64 & PT. OF 63                "
                                },
                                {
                                    "0": "8 00 11420 01 2000 000             ",
                                    "1": "LOT 40 & 41                   "
                                },
                                {
                                    "0": "8 00 11420 01 2400 000             ",
                                    "1": "16 & 17                       "
                                },
                                {
                                    "0": "8 00 11420 01 2700 000             ",
                                    "1": "62 & PT OF 63                 "
                                },
                                {
                                    "0": "8 00 11420 01 2700 001             ",
                                    "1": "62 & PT OF 63                 "
                                },
                                {
                                    "0": "8 00 11420 01 2701 000             ",
                                    "1": "PT OF 1 & 2                   "
                                },
                                {
                                    "0": "8 00 11420 01 2702 000             ",
                                    "1": "PT OF LOTS 2 & 3              "
                                },
                                {
                                    "0": "8 00 11420 01 2900 000             ",
                                    "1": "52 & 53                       "
                                },
                                {
                                    "0": "8 00 11420 01 3000 000             ",
                                    "1": "5 & 6                         "
                                },
                                {
                                    "0": "8 00 11420 01 3300 000             ",
                                    "1": "14 & 15                       "
                                },
                                {
                                    "0": "8 00 11420 01 3400 000             ",
                                    "1": "12 & 13                       "
                                },
                                {
                                    "0": "8 00 11420 01 3600 000             ",
                                    "1": "10 & 11                       "
                                },
                                {
                                    "0": "8 00 11700 01 3210 000             ",
                                    "1": "28 & 29                       "
                                },
                                {
                                    "0": "8 00 12004 02 3300 000             ",
                                    "1": "2 & 2A                        "
                                },
                                {
                                    "0": "8 00 12004 02 3400 000             ",
                                    "1": "3 & 3A                        "
                                },
                                {
                                    "0": "8 00 12004 03 0100 000             ",
                                    "1": "1 & 2                         "
                                },
                                {
                                    "0": "8 00 12004 04 1400 000             ",
                                    "1": "13 & PT. 14                   "
                                },
                                {
                                    "0": "8 00 12211 01 0300 000             ",
                                    "1": "1 & 2                         "
                                },
                                {
                                    "0": "8 00 12211 01 0500 000             ",
                                    "1": "6 & PT. OF 5                  "
                                },
                                {
                                    "0": "8 00 12211 01 0600 000             ",
                                    "1": "27, 28 & PT. 26 & 29          "
                                },
                                {
                                    "0": "8 00 12211 01 0601 000             ",
                                    "1": "20 & PT. OF 19                "
                                },
                                {
                                    "0": "8 00 12211 01 0602 000             ",
                                    "1": "22 & PT. 21 & 23              "
                                },
                                {
                                    "0": "8 00 12211 01 0603 000             ",
                                    "1": "24,25 & PT. 23&26             "
                                },
                                {
                                    "0": "8 00 12211 01 0604 000             ",
                                    "1": "18 & PT. OF 19                "
                                },
                                {
                                    "0": "8 00 12211 01 2100 000             ",
                                    "1": "30 PT. 29 & 31                "
                                },
                                {
                                    "0": "8 00 12211 01 2200 000             ",
                                    "1": "31 & 32                       "
                                },
                                {
                                    "0": "8 00 12212 01 0100 000",
                                    "1": "8 & 7                         "
                                },
                                {
                                    "0": "8 00 12212 01 0200 000             ",
                                    "1": "9 & 10                        "
                                },
                                {
                                    "0": "8 00 12212 01 0300 000             ",
                                    "1": "12 & 11                       "
                                },
                                {
                                    "0": "8 00 12212 01 0400 000             ",
                                    "1": "14 & 13                       "
                                },
                                {
                                    "0": "8 00 12212 01 0500 000             ",
                                    "1": "15 & 16                       "
                                },
                                {
                                    "0": "8 00 12212 01 1200 000             ",
                                    "1": "36 & 37                       "
                                },
                                {
                                    "0": "8 00 12212 01 1700 000             ",
                                    "1": "45 & PT. 46                   "
                                },
                                {
                                    "0": "8 00 12212 01 1800 000             ",
                                    "1": "47 & PT. 46                   "
                                },
                                {
                                    "0": "8 00 12212 01 2000 000             ",
                                    "1": "49 & 50                       "
                                },
                                {
                                    "0": "8 00 12212 01 2100 000             ",
                                    "1": "51 & 52                       "
                                },
                                {
                                    "0": "8 00 12212 01 2800 000             ",
                                    "1": "59 & 60                       "
                                },
                                {
                                    "0": "8 00 12212 01 3100 000             ",
                                    "1": "57 & 58                       "
                                },
                                {
                                    "0": "8 00 12212 01 4500 000             ",
                                    "1": "PT. 87 & 88                   "
                                },
                                {
                                    "0": "8 00 12212 01 4600 000             ",
                                    "1": "83, 86 & PT. 85 & 87          "
                                },
                                {
                                    "0": "8 00 12212 01 4701 000             ",
                                    "1": "96-97 & 98                    "
                                },
                                {
                                    "0": "8 00 12212 01 5300 000             ",
                                    "1": "LOTS 101 & 102                "
                                },
                                {
                                    "0": "8 00 12215 01 1100 000             ",
                                    "1": "7 & PT. 6                     "
                                },
                                {
                                    "0": "8 00 12215 01 1200 000             ",
                                    "1": "5 & PT. 6                     "
                                },
                                {
                                    "0": "8 00 12215 01 1400 000             ",
                                    "1": "3 & PT. 2                     "
                                },
                                {
                                    "0": "8 00 12215 01 1600 000             ",
                                    "1": "1 & PT. 2                     "
                                },
                                {
                                    "0": "8 00 12215 01 2400 000             ",
                                    "1": "10 & 11                       "
                                },
                                {
                                    "0": "8 00 12215 01 2700 000             ",
                                    "1": "26 & 27                       "
                                },
                                {
                                    "0": "8 00 12405 01 2600 000             ",
                                    "1": "24 & 25                       "
                                },
                                {
                                    "0": "8 00 12405 01 3300 000             ",
                                    "1": "31 & 32                       "
                                },
                                {
                                    "0": "8 00 12700 01 4700 000             ",
                                    "1": "6 & 7                         "
                                },
                                {
                                    "0": "8 00 12700 01 4902 000             ",
                                    "1": "3 & 4                         "
                                },
                                {
                                    "0": "8 00 12819 01 0700 000             ",
                                    "1": "8 & PT. 7                     "
                                },
                                {
                                    "0": "8 00 12819 01 2700 000             ",
                                    "1": "24 & 25                       "
                                },
                                {
                                    "0": "8 00 12819 01 3000 000             ",
                                    "1": "1 & 2                         "
                                },
                                {
                                    "0": "8 00 12900 01 3400 000             ",
                                    "1": "LOT 116 & PT. LOT 117         "
                                },
                                {
                                    "0": "8 00 12900 01 3600 000             ",
                                    "1": "114 & 115                     "
                                },
                                {
                                    "0": "8 00 12900 03 4104 000             ",
                                    "1": "4 & 5                         "
                                },
                                {
                                    "0": "8 00 12900 03 4128 000             ",
                                    "1": "13 & 14                       "
                                },
                                {
                                    "0": "8 00 12901 01 0300 000             ",
                                    "1": "5 & 6                         "
                                },
                                {
                                    "0": "8 00 12901 01 0800 000             ",
                                    "1": "9 & 10                        "
                                },
                                {
                                    "0": "8 00 12901 01 1000 000             ",
                                    "1": "14 & 15                       "
                                },
                                {
                                    "0": "8 00 12901 02 0100 000             ",
                                    "1": "PT OF 55 & 65 ALL LOT 56 & 66 "
                                },
                                {
                                    "0": "8 00 12901 02 0102 000             ",
                                    "1": "53,54,64 & PT OF 55 & 65      "
                                },
                                {
                                    "0": "8 00 12901 02 0200 000             ",
                                    "1": "LOTS 57 & 67                  "
                                },
                                {
                                    "0": "8 00 12901 02 0500 000             ",
                                    "1": "60&70, PT. OF 59,61,69&71     "
                                },
                                {
                                    "0": "8 00 12901 02 0501 000             ",
                                    "1": "LOTS 58&68 PT. OF LOTS 59&69  "
                                },
                                {
                                    "0": "8 00 12901 02 0600 000             ",
                                    "1": "62, 72 & PTS 61 & 71          "
                                },
                                {
                                    "0": "8 00 12901 02 0700 000             ",
                                    "1": "63 & 73                       "
                                },
                                {
                                    "0": "8 00 12901 02 0800 000             ",
                                    "1": "31 & 51                       "
                                },
                                {
                                    "0": "8 00 12901 02 1101 000             ",
                                    "1": "35 & PT. 36                   "
                                },
                                {
                                    "0": "8 00 12901 02 1102 000             ",
                                    "1": "PT. 37 & 38                   "
                                },
                                {
                                    "0": "8 00 12901 02 1103 000             ",
                                    "1": "PT. 36 & 37                   "
                                },
                                {
                                    "0": "8 00 12901 02 1200 000             ",
                                    "1": "39 & PT 38                    "
                                },
                                {
                                    "0": "8 00 12901 02 2600 000             ",
                                    "1": "3&4&PT.15                     "
                                },
                                {
                                    "0": "8 00 12901 02 2800 000             ",
                                    "1": "14 & PT. OF 15                "
                                },
                                {
                                    "0": "8 00 12901 02 2900 000             ",
                                    "1": "26 & 27                       "
                                },
                                {
                                    "0": "8 00 12901 02 3400 000             ",
                                    "1": "50 & 52                       "
                                },
                                {
                                    "0": "8 00 12901 02 3500 000             ",
                                    "1": "111 & 112                     "
                                },
                                {
                                    "0": "8 00 12901 02 4000 000             ",
                                    "1": "103 & 104                     "
                                },
                                {
                                    "0": "8 00 12901 02 4100 000             ",
                                    "1": "LOT 107 & 108                 "
                                },
                                {
                                    "0": "8 00 12901 02 4400 000             ",
                                    "1": "118 & PT. 117                 "
                                },
                                {
                                    "0": "8 00 12901 02 4700 000             ",
                                    "1": "47 & 48                       "
                                },
                                {
                                    "0": "8 00 12901 02 5100 000             ",
                                    "1": "PTS. 1 & 2                    "
                                },
                                {
                                    "0": "8 00 12901 02 5200 000             ",
                                    "1": "41 & PTS. 1 & 2               "
                                },
                                {
                                    "0": "8 00 12901 02 5300 000             ",
                                    "1": "42 & PT. 43                   "
                                },
                                {
                                    "0": "8 00 12901 02 5400 000             ",
                                    "1": "44 & PT. 43                   "
                                },
                                {
                                    "0": "8 00 13000 01 0200 000             ",
                                    "1": "2 & PT. 1                     "
                                },
                                {
                                    "0": "8 00 13001 01 2800 000             ",
                                    "1": "25 & 1/2 24                   "
                                },
                                {
                                    "0": "8 00 13001 01 3101 000             ",
                                    "1": "22 & 23                       "
                                },
                                {
                                    "0": "8 00 13001 01 3300 000             ",
                                    "1": "17 & 18                       "
                                },
                                {
                                    "0": "8 00 13001 02 7800 000             ",
                                    "1": "8-PT. OF 7 & 9                "
                                },
                                {
                                    "0": "8 00 13001 02 8500 000             ",
                                    "1": "LOT 24 PT 25 & PT 26          "
                                },
                                {
                                    "0": "8 00 13001 03 0200 000             ",
                                    "1": "LOT #2 & PART OF #3           "
                                },
                                {
                                    "0": "8 00 13001 03 0600 000             ",
                                    "1": "6 & PT OF 7 & PR OF 3         "
                                },
                                {
                                    "0": "8 00 13001 03 1300 000             ",
                                    "1": "13 & PT. 16                   "
                                },
                                {
                                    "0": "8 00 13001 03 1400 000             ",
                                    "1": "11 & 14                       "
                                },
                                {
                                    "0": "8 00 13001 03 3500 000             ",
                                    "1": "15, 18 & 18-A                 "
                                },
                                {
                                    "0": "8 00 13001 03 4000 000             ",
                                    "1": "23, 22, & 21                  "
                                },
                                {
                                    "0": "8 00 13001 03 4700 000             ",
                                    "1": "27 & PT 28                    "
                                },
                                {
                                    "0": "8 00 13001 03 5000 000             ",
                                    "1": "24, 25 & PT. 26               "
                                },
                                {
                                    "0": "8 00 13001 03 5200 000             ",
                                    "1": "LOTS 18 & 19                  "
                                },
                                {
                                    "0": "8 00 13001 03 5300 000             ",
                                    "1": "16 & 17                       "
                                },
                                {
                                    "0": "8 00 13001 03 5600 000             ",
                                    "1": "6 & PT. 7                     "
                                },
                                {
                                    "0": "8 00 13001 03 5800 000             ",
                                    "1": "8 & PT. 7                     "
                                },
                                {
                                    "0": "8 00 13001 03 6700 000             ",
                                    "1": "29 & PT. 28                   "
                                },
                                {
                                    "0": "8 00 13001 03 7100 000             ",
                                    "1": "12 & 13 & PT. 14              "
                                },
                                {
                                    "0": "8 00 13002 01 1200 000             ",
                                    "1": "52 & 53                       "
                                },
                                {
                                    "0": "8 00 13002 01 1800 000             ",
                                    "1": "40 & PART OF 39               "
                                },
                                {
                                    "0": "8 00 13002 01 3000 000             ",
                                    "1": "35 & PT.OF 36                 "
                                },
                                {
                                    "0": "8 00 13100 01 0613 000             ",
                                    "1": "14 & 15                       "
                                },
                                {
                                    "0": "8 00 13700 01 0508 000             ",
                                    "1": "1-A & 2-A                     "
                                },
                                {
                                    "0": "8 00 13905 01 0200 000             ",
                                    "1": "32 & 33                       "
                                },
                                {
                                    "0": "8 00 13905 01 0300 000             ",
                                    "1": "35 & PT. 36                   "
                                },
                                {
                                    "0": "8 00 13905 01 0400 000             ",
                                    "1": "37, 38 & PT. 36               "
                                },
                                {
                                    "0": "8 00 13905 01 0500 000             ",
                                    "1": "30 & 31                       "
                                },
                                {
                                    "0": "8 00 13905 01 0800 000             ",
                                    "1": "28 & 29                       "
                                },
                                {
                                    "0": "8 00 13905 01 0900 000             ",
                                    "1": "39 & 40                       "
                                },
                                {
                                    "0": "8 00 13905 01 1700 000             ",
                                    "1": "10 & PT. 11                   "
                                },
                                {
                                    "0": "8 00 13905 01 1701 000             ",
                                    "1": "12 & &T. 11                   "
                                },
                                {
                                    "0": "8 00 13905 01 2000 000             ",
                                    "1": "17 & 18                       "
                                },
                                {
                                    "0": "8 00 13905 01 2100 000             ",
                                    "1": "19 & 20                       "
                                },
                                {
                                    "0": "8 00 13905 01 2200 000             ",
                                    "1": "14 & 15                       "
                                },
                                {
                                    "0": "8 00 13905 01 2700 000             ",
                                    "1": "23 & 24                       "
                                },
                                {
                                    "0": "8 00 13905 01 2800 000             ",
                                    "1": "21 & 22                       "
                                },
                                {
                                    "0": "8 00 14100 01 1100 000             ",
                                    "1": "4 & 5                         "
                                },
                                {
                                    "0": "8 00 14500 01 3600 000             ",
                                    "1": "4 & 5 & 6                     "
                                },
                                {
                                    "0": "8 01 11420 01 5400 000             ",
                                    "1": "PT. OF 1 & 2                  "
                                },
                                {
                                    "0": "8 01 11420 01 5401 000             ",
                                    "1": "PT. OF 1 & 2                  "
                                },
                                {
                                    "0": "8 01 11513 01 0201 000             ",
                                    "1": "30 & 31                       "
                                },
                                {
                                    "0": "8 01 11513 01 0301 000             ",
                                    "1": "20A & 21A                     "
                                },
                                {
                                    "0": "8 01 11513 01 0302 000             ",
                                    "1": "20B & 21B                     "
                                },
                                {
                                    "0": "8 01 11513 01 0701 000             ",
                                    "1": "44 & 45                       "
                                },
                                {
                                    "0": "8 01 11513 01 1800 000             ",
                                    "1": "50 & 51                       "
                                },
                                {
                                    "0": "8 01 11513 01 2002 000             ",
                                    "1": "3 & PT. 2                     "
                                },
                                {
                                    "0": "8 01 11513 01 2200 000             ",
                                    "1": "54 & PT OF 53                 "
                                },
                                {
                                    "0": "8 01 11513 01 2300 000             ",
                                    "1": "55 & PT. 1                    "
                                },
                                {
                                    "0": "8 01 11513 01 4500 000             ",
                                    "1": "11A & PT. 10A                 "
                                },
                                {
                                    "0": "8 01 11513 01 4600 000             ",
                                    "1": "9A & PT. 10A                  "
                                },
                                {
                                    "0": "8 01 11513 01 5000 000             ",
                                    "1": "PT. 1A & 2A                   "
                                },
                                {
                                    "0": "8 01 11513 01 5100 000             ",
                                    "1": "PT. 1A & 2A                   "
                                },
                                {
                                    "0": "8 01 11513 01 5200 000             ",
                                    "1": "PTS. 19, 20, 1A&2A            "
                                },
                                {
                                    "0": "8 01 11513 01 5400 000             ",
                                    "1": "7 & 8                         "
                                },
                                {
                                    "0": "8 01 11513 01 5500 000             ",
                                    "1": "5 & 6                         "
                                },
                                {
                                    "0": "8 01 11513 01 5600 000             ",
                                    "1": "4, PT. 21 & 22                "
                                },
                                {
                                    "0": "8 01 11513 01 5601 000             ",
                                    "1": "PT. 22 & 23                   "
                                },
                                {
                                    "0": "8 01 11513 01 5700 000             ",
                                    "1": "PT.2,3,22,&23                 "
                                },
                                {
                                    "0": "8 01 11513 01 5701 000             ",
                                    "1": "PT. 2&3                       "
                                },
                                {
                                    "0": "8 01 11517 01 0800 000             ",
                                    "1": "18-19-20&21                   "
                                },
                                {
                                    "0": "8 01 11517 01 1200 000             ",
                                    "1": "22 & 23                       "
                                },
                                {
                                    "0": "8 01 11517 01 1400 000             ",
                                    "1": "25 & 26                       "
                                },
                                {
                                    "0": "8 01 11517 01 1600 000             ",
                                    "1": "28 & 29                       "
                                },
                                {
                                    "0": "8 01 11517 01 2900 000             ",
                                    "1": "16 & 17                       "
                                },
                                {
                                    "0": "8 01 11517 02 1200 000             ",
                                    "1": "4 & 5                         "
                                },
                                {
                                    "0": "8 01 11517 02 1400 000             ",
                                    "1": "6 & 7                         "
                                },
                                {
                                    "0": "8 01 11517 02 6100 000             ",
                                    "1": "5 & 6                         "
                                },
                                {
                                    "0": "8 07 12820 01 1900 000             ",
                                    "1": "58 & 59                       "
                                },
                                {
                                    "0": "8 07 12820 01 2000 000             ",
                                    "1": "60-62 & 67-69                 "
                                },
                                {
                                    "0": "8 07 12820 01 2300 000             ",
                                    "1": "63 71 & 72                    "
                                },
                                {
                                    "0": "8 07 12820 01 2400 000             ",
                                    "1": "78 & PT. 79                   "
                                },
                                {
                                    "0": "8 07 12820 01 2800 000             ",
                                    "1": "80,89,90&PT.79,81 & 91        "
                                },
                                {
                                    "0": "8 07 12820 01 2801 000             ",
                                    "1": "89,90 & PT. 91                "
                                },
                                {
                                    "0": "8 07 12820 01 2900 000             ",
                                    "1": "92 & PT.OF. 91                "
                                },
                                {
                                    "0": "8 07 12820 01 2901 000             ",
                                    "1": "82 & PT.OF 81                 "
                                },
                                {
                                    "0": "8 07 12820 01 3601 000             ",
                                    "1": "45 & 46                       "
                                },
                                {
                                    "0": "8 07 12820 01 3700 000             ",
                                    "1": "34 & 44                       "
                                },
                                {
                                    "0": "8 07 12820 01 4100 000             ",
                                    "1": "29 & 30                       "
                                },
                                {
                                    "0": "8 07 12820 01 4600 000             ",
                                    "1": "26 & 29                       "
                                },
                                {
                                    "0": "8 07 12820 01 6200 000             ",
                                    "1": "B & C                         "
                                },
                                {
                                    "0": "8 07 12820 01 6500 000             ",
                                    "1": "110 & 111                     "
                                },
                                {
                                    "0": "8 07 12820 01 6700 000             ",
                                    "1": "106 & PT. 107                 "
                                },
                                {
                                    "0": "8 07 12820 01 6800 000             ",
                                    "1": "108 & 109 & PT. 107           "
                                },
                                {
                                    "0": "8 07 12820 01 6900 000             ",
                                    "1": "104 & 105                     "
                                },
                                {
                                    "0": "8 07 12820 01 7001 000             ",
                                    "1": "LOT 28 & PT OF 27             "
                                },
                                {
                                    "0": "8 07 12820 01 7400 000             ",
                                    "1": "35 & PT. 36                   "
                                },
                                {
                                    "0": "8 07 12820 01 7404 000             ",
                                    "1": "37 & PT. 36                   "
                                },
                                {
                                    "0": "8 07 12820 02 1500 000             ",
                                    "1": "38 & PT. 33                   "
                                },
                                {
                                    "0": "8 07 12820 02 1600 000             ",
                                    "1": "39 & PT 38                    "
                                },
                                {
                                    "0": "8 07 12903 01 9700 000             ",
                                    "1": "POND 4 & 1B                   "
                                },
                                {
                                    "0": "8 07 13808 02 0400 000             ",
                                    "1": "6 & PT. 5                     "
                                },
                                {
                                    "0": "8 07 13808 02 1001 000             ",
                                    "1": "14 & PT. 13                   "
                                },
                                {
                                    "0": "8 07 13808 02 1100 000             ",
                                    "1": "15 & 16                       "
                                },
                                {
                                    "0": "8 07 13808 02 1300 000             ",
                                    "1": "19 & 20                       "
                                },
                                {
                                    "0": "8 07 13808 02 1400 000             ",
                                    "1": "21 & 22                       "
                                },
                                {
                                    "0": "8 07 13808 02 2400 000             ",
                                    "1": "LOT 21 & 22                   "
                                },
                                {
                                    "0": "8 07 13808 02 3200 000             ",
                                    "1": "PT. 13 & 14                   "
                                },
                                {
                                    "0": "8 08 14106 01 0500 000             ",
                                    "1": "6 & PT. 5                     "
                                },
                                {
                                    "0": "8 08 14106 01 0600 000             ",
                                    "1": "4 & PT. 3                     "
                                },
                                {
                                    "0": "8 08 14106 01 0800 000             ",
                                    "1": "1 & 2                         "
                                },
                                {
                                    "0": "8 08 14106 01 3100 000             ",
                                    "1": "56 & 57                       "
                                },
                                {
                                    "0": "8 08 14106 01 3301 000             ",
                                    "1": "64 & 65                       "
                                },
                                {
                                    "0": "8 08 14106 01 3600 000             ",
                                    "1": "34- 35 & 1/2 OF 33            "
                                },
                                {
                                    "0": "8 08 14106 01 3700 000             ",
                                    "1": "26 & 27                       "
                                },
                                {
                                    "0": "8 08 14106 01 3701 000             ",
                                    "1": "38 & 39                       "
                                },
                                {
                                    "0": "8 08 14106 01 3800 000             ",
                                    "1": "24 & 25                       "
                                },
                                {
                                    "0": "8 08 14106 01 3900 000             ",
                                    "1": "22 & 23                       "
                                },
                                {
                                    "0": "8 08 14106 01 4000 000             ",
                                    "1": "LOTS 40 & 41                  "
                                },
                                {
                                    "0": "8 08 14106 01 4100 000             ",
                                    "1": "42 & 43                       "
                                },
                                {
                                    "0": "8 08 14106 01 4200 000             ",
                                    "1": "20 & 21                       "
                                },
                                {
                                    "0": "8 08 14106 01 4300 000             ",
                                    "1": "LOT 18 & 19                   "
                                },
                                {
                                    "0": "8 08 14106 01 4400 000             ",
                                    "1": "LOTS 16 & 17                  "
                                },
                                {
                                    "0": "8 08 14106 01 4700 000             ",
                                    "1": "12 & 13                       "
                                },
                                {
                                    "0": "8 08 14106 01 5500 000             ",
                                    "1": "62 & 63                       "
                                },
                                {
                                    "0": "8 08 14106 01 5700 000             ",
                                    "1": "57 & 58                       "
                                },
                                {
                                    "0": "8 08 14106 02 0201 000             ",
                                    "1": "66 & 68                       "
                                },
                                {
                                    "0": "8 08 14106 02 1100 000             ",
                                    "1": "42 & 44                       "
                                },
                                {
                                    "0": "8 08 14106 02 1200 000             ",
                                    "1": "38 & 40                       "
                                },
                                {
                                    "0": "8 08 14106 02 1300 000             ",
                                    "1": "34 & 36                       "
                                },
                                {
                                    "0": "8 08 14106 02 1400 000             ",
                                    "1": "29&31, PT OF 30,PT OF 32      "
                                },
                                {
                                    "0": "8 08 14106 02 1500 000             ",
                                    "1": "27 & PT. 25                   "
                                },
                                {
                                    "0": "8 08 14106 02 1502 000             ",
                                    "1": "A-1, A-2, PT. OF 28, 30 & 32  "
                                },
                                {
                                    "0": "8 08 14106 02 1600 000             ",
                                    "1": "PT. 23-25 & 26                "
                                },
                                {
                                    "0": "8 08 14106 02 1601 000             ",
                                    "1": "PT. 24 & 26                   "
                                },
                                {
                                    "0": "8 08 14106 02 1700 000             ",
                                    "1": "PT. 22 & 24                   "
                                },
                                {
                                    "0": "8 08 14106 02 1701 000             ",
                                    "1": "PT. 20 & 22                   "
                                },
                                {
                                    "0": "8 08 14106 02 2100 000             ",
                                    "1": "PT. 8 & 9                     "
                                },
                                {
                                    "0": "8 08 14106 02 2200 000             ",
                                    "1": "6-7 & PT. 8-9                 "
                                },
                                {
                                    "0": "8 08 14106 02 2400 000             ",
                                    "1": "1 & 2                         "
                                },
                                {
                                    "0": "8 08 14106 02 2700 000             ",
                                    "1": "21 & 19 & PT 20, 22-24        "
                                },
                                {
                                    "0": "8 08 14106 02 3000 000             ",
                                    "1": "37 & 39                       "
                                },
                                {
                                    "0": "8 08 14106 02 3100 000             ",
                                    "1": "41 & 43                       "
                                },
                                {
                                    "0": "8 08 14106 02 3400 000             ",
                                    "1": "63 & PT. 61                   "
                                },
                                {
                                    "0": "8 08 14106 02 3500 000             ",
                                    "1": "77 & 76                       "
                                },
                                {
                                    "0": "8 08 14106 02 3600 000             ",
                                    "1": "74 & PT. 73                   "
                                },
                                {
                                    "0": "8 08 14106 02 3700 000             ",
                                    "1": "72 & PT. 73                   "
                                },
                                {
                                    "0": "8 08 14106 02 3800 000             ",
                                    "1": "51 & 52                       "
                                },
                                {
                                    "0": "8 08 14106 03 7700 000             ",
                                    "1": "9 & 10                        "
                                },
                                {
                                    "0": "8 08 14106 03 8300 000             ",
                                    "1": "PT OF 14 & 15                 "
                                },
                                {
                                    "0": "8 08 14106 03 8301 000             ",
                                    "1": "PT OF 14 & 15                 "
                                },
                                {
                                    "0": "8 08 14106 04 0500 000             ",
                                    "1": "68 & 69                       "
                                },
                                {
                                    "0": "8 08 14106 04 0600 000             ",
                                    "1": "66 & 67                       "
                                },
                                {
                                    "0": "8 08 14106 04 2100 000             ",
                                    "1": "25 & 26                       "
                                },
                                {
                                    "0": "8 08 14106 04 2400 000             ",
                                    "1": "22 & 40                       "
                                },
                                {
                                    "0": "8 08 14106 04 2600 000             ",
                                    "1": "PT. OF 17 AND ALL 18 & 19     "
                                },
                                {
                                    "0": "8 08 14106 04 2800 000             ",
                                    "1": "14-15-16 & PT. 17             "
                                },
                                {
                                    "0": "8 08 14106 04 3101 000             ",
                                    "1": "PT. 11 & 12                   "
                                },
                                {
                                    "0": "8 08 14106 04 3300 000             ",
                                    "1": "8 & 9                         "
                                },
                                {
                                    "0": "8 08 14106 04 3400 000             ",
                                    "1": "7 & 9                         "
                                },
                                {
                                    "0": "8 08 14106 04 3700 000             ",
                                    "1": "3 & 4, PT. OF 2 & 5           "
                                },
                                {
                                    "0": "8 08 14106 04 3800 000             ",
                                    "1": "1 & PT.OF 2 & PT. OF 3        "
                                },
                                {
                                    "0": "8 08 14106 04 6100 000             ",
                                    "1": "25 & 26                       "
                                },
                                {
                                    "0": "8 08 14106 04 6600 000             ",
                                    "1": "19 & 18                       "
                                },
                                {
                                    "0": "8 08 14106 04 6700 000             ",
                                    "1": "16 & 17                       "
                                },
                                {
                                    "0": "8 08 14106 04 7400 000             ",
                                    "1": "3 & 4                         "
                                },
                                {
                                    "0": "9 00 06300 01 2802 000             ",
                                    "1": "1 & 1A                        "
                                },
                                {
                                    "0": "9 00 06300 01 2804 000             ",
                                    "1": "2 & 3                         "
                                },
                                {
                                    "0": "9 00 06300 02 0702 000             ",
                                    "1": "1 & 2                         "
                                },
                                {
                                    "0": "9 00 06301 01 1000 000             ",
                                    "1": "1 & 2                         "
                                },
                                {
                                    "0": "9 00 06320 01 0200 000             ",
                                    "1": "1 & 2                         "
                                },
                                {
                                    "0": "9 00 06320 01 0700 000             ",
                                    "1": "PTS. 7 & 8                    "
                                },
                                {
                                    "0": "9 00 06320 01 0800 000             ",
                                    "1": "PT. OF 7 & 8                  "
                                },
                                {
                                    "0": "9 00 06320 01 0900 000             ",
                                    "1": "PTS. 7 & 8                    "
                                },
                                {
                                    "0": "9 00 06400 01 3204 000             ",
                                    "1": "A & B                         "
                                },
                                {
                                    "0": "9 00 06500 01 4206 000             ",
                                    "1": "PT. OF 14 & 15                "
                                },
                                {
                                    "0": "9 00 06500 01 4218 000             ",
                                    "1": "1 & PT. OF 2                  "
                                },
                                {
                                    "0": "9 00 06500 01 4219 000             ",
                                    "1": "PT. OF 2 & 3                  "
                                },
                                {
                                    "0": "9 00 06500 01 4235 000             ",
                                    "1": "28 & PT. 29                   "
                                },
                                {
                                    "0": "9 00 06500 01 4239 000             ",
                                    "1": "34 & 35                       "
                                },
                                {
                                    "0": "9 00 06501 01 1200 000             ",
                                    "1": "28 & 29                       "
                                },
                                {
                                    "0": "9 00 06501 01 1400 000             ",
                                    "1": "25 & 26                       "
                                },
                                {
                                    "0": "9 00 06501 01 1700 000             ",
                                    "1": "21 & 22                       "
                                },
                                {
                                    "0": "9 00 06501 01 2400 000             ",
                                    "1": "4 & 5                         "
                                },
                                {
                                    "0": "9 00 06501 01 2600 000             ",
                                    "1": "1 & 2                         "
                                },
                                {
                                    "0": "9 00 06501 01 3700 000             ",
                                    "1": "42 & 43                       "
                                },
                                {
                                    "0": "9 00 07200 01 0500 000             ",
                                    "1": "11 & 12                       "
                                },
                                {
                                    "0": "9 00 07200 01 0600 000             ",
                                    "1": "10 & 1/2 OF 9                 "
                                },
                                {
                                    "0": "9 00 07200 01 0700 000             ",
                                    "1": "8 & PT. 9                     "
                                },
                                {
                                    "0": "9 00 07200 01 5305 000             ",
                                    "1": "5 & 6                         "
                                },
                                {
                                    "0": "9 00 07200 02 2100 000             ",
                                    "1": "1 & 2                         "
                                },
                                {
                                    "0": "9 00 07200 02 2300 000             ",
                                    "1": "7 & 8                         "
                                },
                                {
                                    "0": "9 00 07200 02 2400 000             ",
                                    "1": "11 & 12                       "
                                },
                                {
                                    "0": "9 00 07200 02 3000 000             ",
                                    "1": "3 & 4                         "
                                },
                                {
                                    "0": "9 00 07200 02 4500 000             ",
                                    "1": "9 & 10                        "
                                },
                                {
                                    "0": "9 00 07300 01 5606 000             ",
                                    "1": "2 & PT. OF 3                  "
                                },
                                {
                                    "0": "9 00 07300 02 5112 000             ",
                                    "1": "7 & 8                         "
                                },
                                {
                                    "0": "9 00 07304 01 1700 000             ",
                                    "1": "30 & 10' OF 31                "
                                },
                                {
                                    "0": "9 00 07404 01 3800 000             ",
                                    "1": "38 & 39                       "
                                },
                                {
                                    "0": "9 00 08100 01 1800 000             ",
                                    "1": "8 & 9                         "
                                },
                                {
                                    "0": "9 00 08100 02 0503 000             ",
                                    "1": "3 & 4                         "
                                },
                                {
                                    "0": "9 00 08100 02 2500 000             ",
                                    "1": "13 & PT. 11                   "
                                },
                                {
                                    "0": "9 00 08100 02 2600 000             ",
                                    "1": "11 & PT. OF 13                "
                                },
                                {
                                    "0": "9 00 08100 03 3900 000             ",
                                    "1": "23 & 24                       "
                                },
                                {
                                    "0": "9 00 08200 01 3102 000             ",
                                    "1": "1 & 2                         "
                                },
                                {
                                    "0": "9 00 08200 02 3001 000             ",
                                    "1": "PT. OF 13 & 14                "
                                },
                                {
                                    "0": "9 00 08200 02 4201 000             ",
                                    "1": "2 & 3                         "
                                },
                                {
                                    "0": "9 00 08304 02 3500 000             ",
                                    "1": "34 & 35                       "
                                },
                                {
                                    "0": "9 00 08912 01 0700 000             ",
                                    "1": "11 & 12                       "
                                },
                                {
                                    "0": "9 00 09100 01 0701 000             ",
                                    "1": "1 & PT OF 2 & ALL OF A        "
                                },
                                {
                                    "0": "9 00 09100 01 0703 000             ",
                                    "1": "3 & PT. OF 2 & B              "
                                },
                                {
                                    "0": "9 00 09100 01 0704 000             ",
                                    "1": "4 & 5 & C & D                 "
                                },
                                {
                                    "0": "9 00 09100 01 0706 000             ",
                                    "1": "6 & 6A                        "
                                },
                                {
                                    "0": "9 00 09100 01 0707 000             ",
                                    "1": "7 & 7A                        "
                                },
                                {
                                    "0": "9 00 09100 01 2713 000             ",
                                    "1": "1 & 2                         "
                                },
                                {
                                    "0": "9 00 09100 01 3917 000             ",
                                    "1": "5 & 6                         "
                                },
                                {
                                    "0": "9 00 09200 01 1109 000             ",
                                    "1": "5 & 6                         "
                                },
                                {
                                    "0": "9 00 09200 04 7100 000             ",
                                    "1": "LOT 122 & 121                 "
                                },
                                {
                                    "0": "9 00 09206 01 1400 000             ",
                                    "1": "17 & 50' 16                   "
                                },
                                {
                                    "0": "9 00 09206 01 2700 000             ",
                                    "1": "3 & PT. OF 4                  "
                                },
                                {
                                    "0": "9 00 10000 01 1402 000             ",
                                    "1": "3 & 4                         "
                                },
                                {
                                    "0": "9 00 10000 01 2600 000             ",
                                    "1": "2 & 3                         "
                                },
                                {
                                    "0": "9 00 10000 01 4102 000             ",
                                    "1": "3 & 4                         "
                                },
                                {
                                    "0": "1 00 00510 01 3200 000             ",
                                    "1": "1-4 & 68-76                   "
                                },
                                {
                                    "0": "1 00 00514 01 0400 000             ",
                                    "1": "109 & 110                     "
                                },
                                {
                                    "0": "1 17 01905 03 2300 000             ",
                                    "1": "16 & 17                       "
                                },
                                {
                                    "0": "2 00 08801 02 2000 000             ",
                                    "1": "276 & 277                     "
                                },
                                {
                                    "0": "2 00 08801 02 4400 000             ",
                                    "1": "34 & 35                       "
                                },
                                {
                                    "0": "2 00 08802 01 2400 000             ",
                                    "1": "B-6 & B-8                     "
                                },
                                {
                                    "0": "2 00 08802 01 3500 000             ",
                                    "1": "580 & 581                     "
                                },
                                {
                                    "0": "2 00 08802 01 3900 000             ",
                                    "1": "559 & 560                     "
                                },
                                {
                                    "0": "2 00 08802 01 7500 000             ",
                                    "1": "232 & 233                     "
                                },
                                {
                                    "0": "2 00 08802 01 9600 000             ",
                                    "1": "B-14 & B-15                   "
                                },
                                {
                                    "0": "2 05 06700 02 4000 000             ",
                                    "1": "31-40 & 57-68                 "
                                },
                                {
                                    "0": "2 05 06716 02 9000 000             ",
                                    "1": "35, 36 & PT. 34               "
                                },
                                {
                                    "0": "2 05 06720 01 0900 000             ",
                                    "1": "4 & 5                         "
                                },
                                {
                                    "0": "2 05 06817 02 0900 000             ",
                                    "1": "35 & 37                       "
                                },
                                {
                                    "0": "2 05 06817 02 4100 000             ",
                                    "1": "41 & PT. 39, 37 & 35          "
                                },
                                {
                                    "0": "2 05 06817 03 4800 000             ",
                                    "1": "34 & PT. 35                   "
                                },
                                {
                                    "0": "2 05 06818 05 3000 000             ",
                                    "1": "63 & 64                       "
                                },
                                {
                                    "0": "2 05 07607 01 6600 000             ",
                                    "1": "1 & 2                         "
                                },
                                {
                                    "0": "2 05 07608 02 2300 000             ",
                                    "1": "PT. 53 & 54                   "
                                },
                                {
                                    "0": "2 05 07608 04 4400 000             ",
                                    "1": "20 & PT. 18                   "
                                },
                                {
                                    "0": "2 05 07608 05 0500 000             ",
                                    "1": "PT. 7 & 9                     "
                                },
                                {
                                    "0": "2 05 07608 05 0600 000             ",
                                    "1": "PT. 7 & 9                     "
                                },
                                {
                                    "0": "2 05 07608 06 0900 000             ",
                                    "1": "72,73 & PT. 71, 88 & 8        "
                                },
                                {
                                    "0": "2 05 07608 06 1700 000             ",
                                    "1": "63 & PT. 62                   "
                                },
                                {
                                    "0": "2 05 07705 01 2600 000             ",
                                    "1": "13 & PT. 14                   "
                                },
                                {
                                    "0": "2 05 07705 01 2700 000             ",
                                    "1": "PT. 14 & 15                   "
                                },
                                {
                                    "0": "2 05 07705 01 2800 000             ",
                                    "1": "PT. 15 & 16                   "
                                },
                                {
                                    "0": "2 05 07705 01 2900 000             ",
                                    "1": "PT. 16 & 17                   "
                                },
                                {
                                    "0": "2 05 07705 01 3000 000             ",
                                    "1": "18 & PT. 17                   "
                                },
                                {
                                    "0": "2 05 07705 01 3800 000             ",
                                    "1": "7 & 8                         "
                                },
                                {
                                    "0": "2 05 07705 01 4500 000             ",
                                    "1": "14 & PT. 28                   "
                                },
                                {
                                    "0": "2 05 07705 02 4900 000             ",
                                    "1": "71-82 & 91-99                 "
                                },
                                {
                                    "0": "2 05 07705 03 7100 000             ",
                                    "1": "63 & 64 & PT. 61, 62,         "
                                },
                                {
                                    "0": "2 05 07705 03 7200 000             ",
                                    "1": "PT. 61 & 62                   "
                                },
                                {
                                    "0": "2 05 07705 04 1600 000             ",
                                    "1": "PT. 38 & 39                   "
                                },
                                {
                                    "0": "2 05 07705 04 1900 000             ",
                                    "1": "13, 14 & PT. 15               "
                                },
                                {
                                    "0": "2 05 07709 02 1200 000             ",
                                    "1": "76 & PT. 75                   "
                                },
                                {
                                    "0": "2 05 07709 02 1500 000             ",
                                    "1": "79 & 80                       "
                                },
                                {
                                    "0": "2 05 07709 02 1600 000             ",
                                    "1": "59 & 60                       "
                                },
                                {
                                    "0": "2 05 07709 02 2100 000             ",
                                    "1": "PT. 56 & 57                   "
                                },
                                {
                                    "0": "2 05 07709 02 2200 000             ",
                                    "1": "PT. 55 & 56                   "
                                },
                                {
                                    "0": "2 05 07709 02 2400 000             ",
                                    "1": "PT. 54 & 55                   "
                                },
                                {
                                    "0": "2 05 07717 04 2700 000             ",
                                    "1": "58 & 59                       "
                                },
                                {
                                    "0": "2 05 07717 04 4800 000             ",
                                    "1": "69 & 70                       "
                                },
                                {
                                    "0": "2 05 07718 01 1100 000             ",
                                    "1": "PT. 37 & 38                   "
                                },
                                {
                                    "0": "2 05 07718 01 3300 000             ",
                                    "1": "33 & 34                       "
                                },
                                {
                                    "0": "3 04 01810 01 3400 000             ",
                                    "1": "1 & 24                        "
                                },
                                {
                                    "0": "5 16 18306 02 1200 000             ",
                                    "1": "1, 10 & PT. 2 & 11            "
                                },
                                {
                                    "0": "6 00 19300 02 1803 001             ",
                                    "1": "LOT #3 & #4                   "
                                },
                                {
                                    "0": "4 05 05800 02 1700 000             ",
                                    "1": "A & B                         "
                                },
                                {
                                    "0": "7 00 11104 02 5200 002             ",
                                    "1": "1 & 2                         "
                                },
                                {
                                    "0": "7 00 11104 02 5200 003             ",
                                    "1": "1 & 2                         "
                                },
                                {
                                    "0": "7 20 09410 01 4800 000             ",
                                    "1": "12 & PT. 13                   "
                                },
                                {
                                    "0": "1 17 01808 04 1000 000             ",
                                    "1": "328 & 329                     "
                                },
                                {
                                    "0": "7 00 11104 02 0900 001             ",
                                    "1": "28 & 29                       "
                                },
                                {
                                    "0": "2 00 05702 01 0100 001             ",
                                    "1": "34-36 & PT. 37 & 8            "
                                },
                                {
                                    "0": "2 00 05702 01 0100 002             ",
                                    "1": "34-36 & PT. 37 & 8            "
                                },
                                {
                                    "0": "2 00 05702 01 0100 003             ",
                                    "1": "34-36 & PT. 37 & 8            "
                                },
                                {
                                    "0": "2 00 05702 01 0100 004             ",
                                    "1": "34-36 & PT. 37 & 8            "
                                },
                                {
                                    "0": "8 01 11513 01 2003 000",
                                    "1": "3 & PT. 2                     "
                                },
                                {
                                    "0": "8 01 11513 01 2302 000",
                                    "1": "55 & PT. 1                    "
                                },
                                {
                                    "0": "7 02 08520 01 0600 000",
                                    "1": "13 & 14 PTS. 11 & 12          "
                                },
                                {
                                    "0": "7 02 08520 01 0800 000",
                                    "1": "PTS. 5 & 6                    "
                                },
                                {
                                    "0": "6 09 17020 02 4601 000",
                                    "1": "6 & 7                         "
                                },
                                {
                                    "0": "6 09 17908 01 6801 000",
                                    "1": "46 & 47                       "
                                },
                                {
                                    "0": "1 17 01900 01 8600 000",
                                    "1": "2 & 3                         "
                                }
                            ]
                        },
                        "text/html": [
                            "<table>",
                            "<tr><th>ParcelID</th><th>Lot</th></tr>",
                            "<tr><td>1 00 00510 01 0200 000             </td><td>7 &amp; 8                         </td></tr>",
                            "<tr><td>1 00 00510 01 0600 000             </td><td>19 &amp; 20                       </td></tr>",
                            "<tr><td>1 00 00510 01 1000 000             </td><td>27 &amp; 28                       </td></tr>",
                            "<tr><td>1 00 00510 01 1300 000             </td><td>34 &amp; 35                       </td></tr>",
                            "<tr><td>1 00 00510 01 2000 000             </td><td>24 &amp; 25                       </td></tr>",
                            "<tr><td>1 00 00510 01 2200 000             </td><td>22 &amp; 23                       </td></tr>",
                            "<tr><td>1 00 00510 01 2300 000             </td><td>20 &amp; 21                       </td></tr>",
                            "<tr><td>1 00 00510 01 2800 000             </td><td>7 &amp; 8                         </td></tr>",
                            "<tr><td>1 00 00510 01 2900 000             </td><td>5 &amp; 6                         </td></tr>",
                            "<tr><td>1 00 00510 01 3700 000             </td><td>60 &amp; 61                       </td></tr>",
                            "<tr><td>1 00 00510 01 4300 000             </td><td>47 &amp; 48                       </td></tr>",
                            "<tr><td>1 00 00510 01 5300 000             </td><td>1 &amp; 2                         </td></tr>",
                            "<tr><td>1 00 00510 01 5800 000             </td><td>60 &amp; 61                       </td></tr>",
                            "<tr><td>1 00 00510 01 6200 000             </td><td>45 &amp; 46                       </td></tr>",
                            "<tr><td>1 00 00510 01 6400 000             </td><td>34 &amp; 35                       </td></tr>",
                            "<tr><td>1 00 00510 01 6900 000             </td><td>17 &amp; 18                       </td></tr>",
                            "<tr><td>1 00 00510 01 7300 000             </td><td>10 &amp; 11                       </td></tr>",
                            "<tr><td>1 00 00510 01 7500 000             </td><td>7 &amp; 8                         </td></tr>",
                            "<tr><td>1 00 00510 01 7600 000             </td><td>5 &amp; 6                         </td></tr>",
                            "<tr><td>1 00 00510 02 0100 000             </td><td>3 &amp; 4                         </td></tr>",
                            "<tr><td>1 00 00510 02 0200 000             </td><td>1 &amp; 2                         </td></tr>",
                            "<tr><td>1 00 00510 02 0300 000             </td><td>66 &amp; 67                       </td></tr>",
                            "<tr><td>1 00 00510 02 0600 000             </td><td>62 &amp; 63                       </td></tr>",
                            "<tr><td>1 00 00510 02 3800 000             </td><td>12 &amp; PT. 13                   </td></tr>",
                            "<tr><td>1 00 00510 02 4400 000             </td><td>18 &amp; 19                       </td></tr>",
                            "<tr><td>1 00 00510 02 4500 000             </td><td>20, 25 &amp; 26                   </td></tr>",
                            "<tr><td>1 00 00510 02 4600 000             </td><td>24 &amp; PT. 21                   </td></tr>",
                            "<tr><td>1 00 00510 02 5000 000             </td><td>5 &amp; 6                         </td></tr>",
                            "<tr><td>1 00 00510 02 5100 000             </td><td>7 &amp; 8                         </td></tr>",
                            "<tr><td>1 00 00510 02 5300 000             </td><td>11 &amp; 12                       </td></tr>",
                            "<tr><td>1 00 00510 02 5600 000             </td><td>113 &amp; 114                     </td></tr>",
                            "<tr><td>1 00 00510 02 5800 000             </td><td>22 &amp; PT. 23                   </td></tr>",
                            "<tr><td>1 00 00510 02 5900 000             </td><td>27 &amp; 28                       </td></tr>",
                            "<tr><td>1 00 00514 01 0200 000             </td><td>62 &amp; 63                       </td></tr>",
                            "<tr><td>1 00 00920 01 1500 000             </td><td>1 &amp; 2                         </td></tr>",
                            "<tr><td>1 00 00920 01 1700 000             </td><td>1 &amp; 2                         </td></tr>",
                            "<tr><td>1 00 01808 01 1100 000             </td><td>132,133 &amp; PT. 121-123         </td></tr>",
                            "<tr><td>1 00 01808 01 2100 000             </td><td>110 &amp; 111                     </td></tr>",
                            "<tr><td>1 00 01808 01 2500 000             </td><td>92 &amp; 93                       </td></tr>",
                            "<tr><td>1 00 01808 01 3000 000             </td><td>73 &amp; PTS. 70-71-72-74         </td></tr>",
                            "<tr><td>1 00 01808 01 3100 000             </td><td>75 &amp; W.1/2 74-70-71-72        </td></tr>",
                            "<tr><td>1 00 01808 01 3402 000             </td><td>79 &amp; PT. OF 80                </td></tr>",
                            "<tr><td>1 00 01808 01 3700 000             </td><td>59&amp;60 PT.OF 54,55,56&amp;58       </td></tr>",
                            "<tr><td>1 00 01808 01 3800 000             </td><td>PT. OF 61 &amp; 62                </td></tr>",
                            "<tr><td>1 00 01808 01 3900 000             </td><td>PTS. 61 &amp; 62                  </td></tr>",
                            "<tr><td>1 00 01808 01 4000 000             </td><td>68,69 &amp; PT. 63,64,67          </td></tr>",
                            "<tr><td>1 00 01808 01 4100 000             </td><td>65,66 &amp; PTS 63,64,67          </td></tr>",
                            "<tr><td>1 00 01808 01 4302 000             </td><td>PT 197, 198 &amp; 201             </td></tr>",
                            "<tr><td>1 00 01808 01 4400 000             </td><td>PT. OF 196&amp;197                </td></tr>",
                            "<tr><td>1 00 01808 01 4401 000             </td><td>195 PT. 194 &amp; 196             </td></tr>",
                            "<tr><td>1 00 01808 01 4800 000             </td><td>183 &amp; 184                     </td></tr>",
                            "<tr><td>1 00 01808 01 6000 000             </td><td>PT. OF 163 &amp; 164              </td></tr>",
                            "<tr><td>1 00 01808 01 6300 000             </td><td>160 &amp; 161                     </td></tr>",
                            "<tr><td>1 00 01808 01 6400 000             </td><td>147,148&amp;PT.146&amp;149            </td></tr>",
                            "<tr><td>1 00 01808 01 6500 000             </td><td>143, 144,145&amp;PT.146&amp;149       </td></tr>",
                            "<tr><td>1 00 01808 01 6800 000             </td><td>151 &amp; 152                     </td></tr>",
                            "<tr><td>1 00 01808 01 7000 000             </td><td>154 &amp; 155                     </td></tr>",
                            "<tr><td>1 00 01808 01 7600 000             </td><td>383, 384 &amp; PT. 385            </td></tr>",
                            "<tr><td>1 00 01808 01 8100 000             </td><td>363 THRU 367 &amp; PT 368         </td></tr>",
                            "<tr><td>1 00 01808 01 8200 000             </td><td>369, PTS. 368 &amp; 370           </td></tr>",
                            "<tr><td>1 00 01808 01 8300 000             </td><td>371 &amp; PT. 372 &amp; 370           </td></tr>",
                            "<tr><td>1 00 01808 01 8700 000             </td><td>348 &amp; PT. OF 349              </td></tr>",
                            "<tr><td>1 00 01808 01 9100 000             </td><td>PT. OF 353 &amp; 354              </td></tr>",
                            "<tr><td>1 00 01808 01 9400 000             </td><td>PT. 357 &amp; 356                 </td></tr>",
                            "<tr><td>1 00 01808 02 0300 000             </td><td>PTS 47 48 &amp; 51                </td></tr>",
                            "<tr><td>1 00 01808 02 0502 000             </td><td>PT. OF LOTS 38,39,40,42 &amp; ALL </td></tr>",
                            "<tr><td>1 00 01808 02 0900 000             </td><td>PT OF LOTS 204-206,208 &amp; ALL L</td></tr>",
                            "<tr><td>1 00 01808 02 0901 000             </td><td>PT. LOTS 204,205,206,208 &amp; ALL</td></tr>",
                            "<tr><td>1 00 01808 02 1100 000             </td><td>211 &amp; 212                     </td></tr>",
                            "<tr><td>1 00 01808 02 1500 000             </td><td>215 &amp; 216                     </td></tr>",
                            "<tr><td>1 00 01808 02 1600 000             </td><td>340-339 &amp; PT.OF 341           </td></tr>",
                            "<tr><td>1 00 01808 02 1900 000             </td><td>338 &amp; PT. 341 &amp; 337           </td></tr>",
                            "<tr><td>1 00 01808 02 2600 000             </td><td>328 &amp; 329                     </td></tr>",
                            "<tr><td>1 00 01808 02 3800 000             </td><td>304 &amp; 305                     </td></tr>",
                            "<tr><td>1 00 01808 02 5201 000             </td><td>229 &amp; 230                     </td></tr>",
                            "<tr><td>1 00 01808 02 5800 000             </td><td>32 &amp; PT.OF 31-35-36-37        </td></tr>",
                            "<tr><td>1 00 01808 02 5801 000             </td><td>30 &amp; PT.OF 31                 </td></tr>",
                            "<tr><td>1 00 01808 02 5901 000             </td><td>23-24&amp;PT25-28-29              </td></tr>",
                            "<tr><td>1 00 01900 01 1900 000             </td><td>5 &amp; 6                         </td></tr>",
                            "<tr><td>1 00 01900 01 4400 000             </td><td>9 &amp; 10                        </td></tr>",
                            "<tr><td>1 00 01900 01 4800 000             </td><td>7 &amp; 8                         </td></tr>",
                            "<tr><td>1 00 01900 02 2700 000             </td><td>26 &amp; 27                       </td></tr>",
                            "<tr><td>1 00 01900 02 2800 000             </td><td>24 &amp; 25                       </td></tr>",
                            "<tr><td>1 00 01900 02 2900 000             </td><td>22 &amp; 23                       </td></tr>",
                            "<tr><td>1 00 01900 02 3800 000             </td><td>6 &amp; 7                         </td></tr>",
                            "<tr><td>1 00 01900 02 4000 000             </td><td>2 &amp; 3                         </td></tr>",
                            "<tr><td>1 00 01900 02 4200 000             </td><td>35-38 &amp; PT. 39                </td></tr>",
                            "<tr><td>1 00 01900 02 4300 000             </td><td>PT. OF 39 &amp; 40                </td></tr>",
                            "<tr><td>1 00 01900 02 4400 000             </td><td>41, PT. 40 &amp; 42               </td></tr>",
                            "<tr><td>1 00 01900 02 4500 000             </td><td>43, PT. OF 42 &amp; 44            </td></tr>",
                            "<tr><td>1 00 01900 02 4600 000             </td><td>44 &amp; 45 &amp; PT. 46              </td></tr>",
                            "<tr><td>1 00 01900 02 4700 000             </td><td>47 &amp; PT. OF 46 &amp; 48           </td></tr>",
                            "<tr><td>1 00 01900 02 4800 000             </td><td>49 &amp; PT. 48                   </td></tr>",
                            "<tr><td>1 00 01900 02 4900 000             </td><td>50 &amp; PT. 51                   </td></tr>",
                            "<tr><td>1 00 01900 02 5000 000             </td><td>52 &amp; S. 25' OF 51             </td></tr>",
                            "<tr><td>1 00 01900 02 5100 000             </td><td>1&amp;2                           </td></tr>",
                            "<tr><td>1 00 01900 02 5500 000             </td><td>5 &amp; 6                         </td></tr>",
                            "<tr><td>1 00 01900 02 5600 000             </td><td>7 &amp; 8                         </td></tr>",
                            "<tr><td>1 00 01900 02 5700 000             </td><td>9 &amp; 10                        </td></tr>",
                            "<tr><td>1 00 01900 02 6000 000             </td><td>15 &amp; PT. 14 &amp; 16              </td></tr>",
                            "<tr><td>1 00 01900 02 6100 000             </td><td>PT. 16 &amp; 17                   </td></tr>",
                            "<tr><td>1 00 01900 02 6200 000             </td><td>18 &amp; PT. 17                   </td></tr>",
                            "<tr><td>1 00 01906 01 0300 000             </td><td>235 &amp; 236                     </td></tr>",
                            "<tr><td>1 00 01906 01 0400 000             </td><td>237 &amp; 238                     </td></tr>",
                            "<tr><td>1 00 01910 02 0700 000             </td><td>249 &amp; 250                     </td></tr>",
                            "<tr><td>1 00 01910 02 0900 000             </td><td>254 &amp; 255                     </td></tr>",
                            "<tr><td>1 00 01913 01 0400 000             </td><td>18, 19, 40 &amp; 41               </td></tr>",
                            "<tr><td>1 00 01913 01 0700 000             </td><td>13,14,35,&amp;36                  </td></tr>",
                            "<tr><td>1 00 01913 01 0800 000             </td><td>11 &amp; 12                       </td></tr>",
                            "<tr><td>1 00 01913 01 3000 000             </td><td>22-44, PT.OF 21 &amp; 43          </td></tr>",
                            "<tr><td>1 00 01913 01 3200 000             </td><td>8 &amp; 20                        </td></tr>",
                            "<tr><td>1 00 01913 01 4600 000             </td><td>7 &amp; 8                         </td></tr>",
                            "<tr><td>1 00 01913 01 5100 000             </td><td>13 &amp; 14                       </td></tr>",
                            "<tr><td>1 00 01913 01 5200 000             </td><td>15 &amp; 1/2 OF 16                </td></tr>",
                            "<tr><td>1 00 01913 01 5300 000             </td><td>17 &amp; PT. 16                   </td></tr>",
                            "<tr><td>1 00 01913 01 5400 000             </td><td>18 &amp; 19                       </td></tr>",
                            "<tr><td>1 00 01913 01 5500 000             </td><td>13 &amp; 14                       </td></tr>",
                            "<tr><td>1 00 01913 01 5700 000             </td><td>16 &amp; 1/2 OF 17                </td></tr>",
                            "<tr><td>1 00 01913 01 5900 000             </td><td>18 &amp; S. 1/2 17                </td></tr>",
                            "<tr><td>1 00 01913 02 2400 000             </td><td>PT. 15 &amp; 19                   </td></tr>",
                            "<tr><td>1 00 01913 02 2500 000             </td><td>20 &amp; 5' OF 19                 </td></tr>",
                            "<tr><td>1 00 01913 02 3900 000             </td><td>11 &amp; 12                       </td></tr>",
                            "<tr><td>1 00 02000 01 1300 000             </td><td>47 &amp; 48                       </td></tr>",
                            "<tr><td>1 00 02800 01 0700 000             </td><td>17 &amp; 18                       </td></tr>",
                            "<tr><td>1 00 02800 01 0900 000             </td><td>14 &amp; 15                       </td></tr>",
                            "<tr><td>1 00 02800 01 1200 000             </td><td>11 &amp; PT. 10                   </td></tr>",
                            "<tr><td>1 00 02800 01 1400 000             </td><td>8 &amp; 9                         </td></tr>",
                            "<tr><td>1 00 02800 01 1600 000             </td><td>6 &amp; 7                         </td></tr>",
                            "<tr><td>1 00 02800 01 1700 000             </td><td>4 &amp; 5                         </td></tr>",
                            "<tr><td>1 00 02803 01 2001 000             </td><td>PT.OF 12 &amp; 13                 </td></tr>",
                            "<tr><td>1 00 02803 01 2700 000             </td><td>2 &amp; PT. 1                     </td></tr>",
                            "<tr><td>1 00 02804 01 0700 000             </td><td>6 &amp; PT. OF 7                  </td></tr>",
                            "<tr><td>1 00 03701 01 6700 000             </td><td>101 &amp; PT. 100                 </td></tr>",
                            "<tr><td>1 04 01807 01 3300 000             </td><td>7 &amp; PT. OF 8                  </td></tr>",
                            "<tr><td>1 04 01807 01 3600 000             </td><td>PT. 15 &amp; 16                   </td></tr>",
                            "<tr><td>1 04 01807 01 3700 000             </td><td>PT. 14 &amp; 15                   </td></tr>",
                            "<tr><td>1 04 01807 01 3800 000             </td><td>PT. 13 &amp; 14                   </td></tr>",
                            "<tr><td>1 04 01807 01 3900 000             </td><td>12 &amp; PT. 13                   </td></tr>",
                            "<tr><td>1 04 01807 01 4800 000             </td><td>8 &amp; PT. 9                     </td></tr>",
                            "<tr><td>1 04 01807 01 4900 000             </td><td>25 &amp; 26                       </td></tr>",
                            "<tr><td>1 04 01807 01 5300 000             </td><td>20 &amp; 21                       </td></tr>",
                            "<tr><td>1 04 01807 01 5500 000             </td><td>17 &amp; 18                       </td></tr>",
                            "<tr><td>1 04 01807 01 6200 000             </td><td>1 &amp; 2                         </td></tr>",
                            "<tr><td>1 04 01807 02 2000 000             </td><td>5 &amp; 6                         </td></tr>",
                            "<tr><td>1 04 01807 03 0200 000             </td><td>PT. OF 1, 2 &amp; PT OF 3         </td></tr>",
                            "<tr><td>1 04 01807 03 0500 000             </td><td>5 &amp; 6                         </td></tr>",
                            "<tr><td>1 04 01807 03 0601 000             </td><td>4 PT OF 2 &amp; 3                 </td></tr>",
                            "<tr><td>1 17 00920 01 1800 000             </td><td>126-139 &amp; 159-167             </td></tr>",
                            "<tr><td>1 17 00920 02 0200 000             </td><td>11 &amp; PT. OF 10                </td></tr>",
                            "<tr><td>1 17 00920 02 0300 000             </td><td>9 &amp; PT. 10                    </td></tr>",
                            "<tr><td>1 17 00920 02 0800 000             </td><td>1 &amp; 2                         </td></tr>",
                            "<tr><td>1 17 00920 02 1400 000             </td><td>5 &amp; 6                         </td></tr>",
                            "<tr><td>1 17 00920 02 1600 000             </td><td>8 &amp; E. 29 1/4 FT. OF 9        </td></tr>",
                            "<tr><td>1 17 00920 02 1700 000             </td><td>PT. 8 &amp; 9                     </td></tr>",
                            "<tr><td>1 17 00920 02 1800 000             </td><td>9 &amp; PT. 7 &amp; 8                 </td></tr>",
                            "<tr><td>1 17 00920 02 1900 000             </td><td>PT. OF 6 &amp; 7                  </td></tr>",
                            "<tr><td>1 17 00920 02 2000 000             </td><td>5 &amp; PT. OF 6                  </td></tr>",
                            "<tr><td>1 17 00920 02 2100 000             </td><td>3 &amp; 4                         </td></tr>",
                            "<tr><td>1 17 00920 02 2200 000             </td><td>1 &amp; 2                         </td></tr>",
                            "<tr><td>1 17 00920 02 3300 000             </td><td>1 &amp; 2                         </td></tr>",
                            "<tr><td>1 17 01013 02 2400 000             </td><td>5 &amp; PT. 6                     </td></tr>",
                            "<tr><td>1 17 01013 02 2500 000             </td><td>7 &amp; PT. 6                     </td></tr>",
                            "<tr><td>1 17 01013 02 2600 000             </td><td>8 &amp; 9                         </td></tr>",
                            "<tr><td>1 17 01013 03 0300 000             </td><td>14 &amp; 15                       </td></tr>",
                            "<tr><td>1 17 01013 03 0501 000             </td><td>PT.2&amp;3                        </td></tr>",
                            "<tr><td>1 17 01013 03 0600 000             </td><td>2 &amp; 3 &amp; PT. 1 &amp; 4             </td></tr>",
                            "<tr><td>1 17 01013 03 0601 000             </td><td>PT. 1 &amp; 4                     </td></tr>",
                            "<tr><td>1 17 01013 04 1000 000             </td><td>20 &amp; PT. 21                   </td></tr>",
                            "<tr><td>1 17 01013 04 1201 000             </td><td>43 &amp; 44                       </td></tr>",
                            "<tr><td>1 17 01013 04 1202 000             </td><td>43 &amp; 44                       </td></tr>",
                            "<tr><td>1 17 01013 04 1600 000             </td><td>13 &amp; PT. 12                   </td></tr>",
                            "<tr><td>1 17 01013 04 1700 000             </td><td>11 &amp; PT. OF 12                </td></tr>",
                            "<tr><td>1 17 01013 04 2600 000             </td><td>32,33 &amp; N. 1/2 OF 34          </td></tr>",
                            "<tr><td>1 17 01013 04 2700 000             </td><td>35, 36 &amp; PT. 34               </td></tr>",
                            "<tr><td>1 17 01013 04 3200 000             </td><td>PT. 49 &amp; 50                   </td></tr>",
                            "<tr><td>1 17 01013 04 3300 000             </td><td>PT. 49 &amp; 50                   </td></tr>",
                            "<tr><td>1 17 01013 04 3400 000             </td><td>51 &amp; 52                       </td></tr>",
                            "<tr><td>1 17 01014 01 0500 000             </td><td>4 &amp; PT. 5                     </td></tr>",
                            "<tr><td>1 17 01014 01 0700 000             </td><td>6 &amp; PT. OF 5                  </td></tr>",
                            "<tr><td>1 17 01014 01 3100 000             </td><td>81 &amp; PT. OF 80                </td></tr>",
                            "<tr><td>1 17 01014 01 3200 000             </td><td>80 &amp; PT. 79                   </td></tr>",
                            "<tr><td>1 17 01014 01 3700 000             </td><td>PT. OF 75 &amp; 76                </td></tr>",
                            "<tr><td>1 17 01014 01 3800 000             </td><td>74 &amp; PT. OF 75                </td></tr>",
                            "<tr><td>1 17 01014 03 0300 000             </td><td>15 &amp; PT. 14                   </td></tr>",
                            "<tr><td>1 17 01014 03 0400 000             </td><td>PT. OF 13 &amp; 14                </td></tr>",
                            "<tr><td>1 17 01014 03 0600 000             </td><td>12 &amp; PT. 13                   </td></tr>",
                            "<tr><td>1 17 01014 04 2400 000             </td><td>23B &amp; 24                      </td></tr>",
                            "<tr><td>1 17 01017 01 1200 000             </td><td>2 &amp; 4                         </td></tr>",
                            "<tr><td>1 17 01017 01 5900 000             </td><td>2 &amp; 3                         </td></tr>",
                            "<tr><td>1 17 01017 01 8000 000             </td><td>2 &amp; PT. 3                     </td></tr>",
                            "<tr><td>1 17 01017 01 8100 000             </td><td>PT. OF 3 &amp; 4                  </td></tr>",
                            "<tr><td>1 17 01017 01 8200 000             </td><td>5 &amp; PT. 4                     </td></tr>",
                            "<tr><td>1 17 01017 01 8300 000             </td><td>6 &amp; 7                         </td></tr>",
                            "<tr><td>1 17 01017 01 8400 000             </td><td>8 &amp; 9                         </td></tr>",
                            "<tr><td>1 17 01017 03 1100 000             </td><td>420 &amp; 422                     </td></tr>",
                            "<tr><td>1 17 01017 04 5600 000             </td><td>1 &amp; 2                         </td></tr>",
                            "<tr><td>1 17 01017 06 1200 000             </td><td>41 &amp; 42                       </td></tr>",
                            "<tr><td>1 17 01018 01 5700 000             </td><td>61 &amp; PT. 60                   </td></tr>",
                            "<tr><td>1 17 01018 01 5800 000             </td><td>59 &amp; PT. OF 60                </td></tr>",
                            "<tr><td>1 17 01808 02 0101 000             </td><td>PT. 21 &amp; 22                   </td></tr>",
                            "<tr><td>1 17 01808 02 0200 000             </td><td>18-17 &amp; PT.OF 19              </td></tr>",
                            "<tr><td>1 17 01808 02 0500 000             </td><td>15-16 &amp; PTS. 12-14            </td></tr>",
                            "<tr><td>1 17 01808 02 0600 000             </td><td>261 &amp; PT. 260                 </td></tr>",
                            "<tr><td>1 17 01808 02 0700 000             </td><td>259 &amp; 1/2 OF 260              </td></tr>",
                            "<tr><td>1 17 01808 02 1600 000             </td><td>246&amp;PT.247-249-250            </td></tr>",
                            "<tr><td>1 17 01808 02 1800 000             </td><td>251 &amp; PT.246-250              </td></tr>",
                            "<tr><td>1 17 01808 02 1900 000             </td><td>311-PT.OF 312 &amp; 316           </td></tr>",
                            "<tr><td>1 17 01808 02 2000 000             </td><td>306,308,309,310 &amp; PART OF 307 </td></tr>",
                            "<tr><td>1 17 01808 02 2300 000             </td><td>318 &amp; PT. OF 319              </td></tr>",
                            "<tr><td>1 17 01808 02 2400 000             </td><td>314, PT.OF 313 &amp; 315          </td></tr>",
                            "<tr><td>1 17 01808 02 2401 000             </td><td>PT.OF 313-315 &amp; 316           </td></tr>",
                            "<tr><td>1 17 01808 02 2402 000             </td><td>PT.OF 312-313 &amp; 316           </td></tr>",
                            "<tr><td>1 17 01808 02 2600 000             </td><td>23-24&amp;PT25-28-29              </td></tr>",
                            "<tr><td>1 17 01808 04 0200 000             </td><td>356 &amp; PT. OF 355 &amp; 357        </td></tr>",
                            "<tr><td>1 17 01808 04 0600 000             </td><td>340-339 &amp; PT.OF 341           </td></tr>",
                            "<tr><td>1 17 01808 04 0700 000             </td><td>PT. 357 &amp; 356                 </td></tr>",
                            "<tr><td>1 17 01905 01 1602 000             </td><td>A &amp; B                         </td></tr>",
                            "<tr><td>1 17 01905 01 2300 000             </td><td>6,7 &amp; PT. OF 8                </td></tr>",
                            "<tr><td>1 17 01905 01 3100 000             </td><td>292 &amp; 293                     </td></tr>",
                            "<tr><td>1 17 01905 01 3300 000             </td><td>289 &amp; 290                     </td></tr>",
                            "<tr><td>1 17 01905 01 4000 000             </td><td>73 &amp; PT. 75                   </td></tr>",
                            "<tr><td>1 17 01905 01 4200 000             </td><td>77 &amp; PT. 75                   </td></tr>",
                            "<tr><td>1 17 01905 01 4900 000             </td><td>84 &amp; PT. OF 86                </td></tr>",
                            "<tr><td>1 17 01905 01 5000 000             </td><td>83 &amp; PT. 85                   </td></tr>",
                            "<tr><td>1 17 01905 01 5300 000             </td><td>88 &amp; PT. 86                   </td></tr>",
                            "<tr><td>1 17 01905 01 6200 000             </td><td>147 &amp; 148                     </td></tr>",
                            "<tr><td>1 17 01905 02 0100 000             </td><td>63 &amp; PT. OF 70                </td></tr>",
                            "<tr><td>1 17 01905 02 0600 000             </td><td>64 &amp; 65                       </td></tr>",
                            "<tr><td>1 17 01905 02 1000 000             </td><td>50 &amp; PT. OF 49                </td></tr>",
                            "<tr><td>1 17 01905 02 1100 000             </td><td>48 &amp; PT. 49                   </td></tr>",
                            "<tr><td>1 17 01905 02 2300 000             </td><td>33 &amp; PT. 32                   </td></tr>",
                            "<tr><td>1 17 01905 02 3100 000             </td><td>87 &amp; PT.OF 85                 </td></tr>",
                            "<tr><td>1 17 01905 02 3200 000             </td><td>89 &amp; 91                       </td></tr>",
                            "<tr><td>1 17 01905 02 4200 000             </td><td>39 &amp; 40                       </td></tr>",
                            "<tr><td>1 17 01905 02 4500 000             </td><td>90 &amp; 1/2 OF 111               </td></tr>",
                            "<tr><td>1 17 01905 02 4700 000             </td><td>110 &amp; PT. 111                 </td></tr>",
                            "<tr><td>1 17 01905 02 4800 000             </td><td>108 &amp; 109                     </td></tr>",
                            "<tr><td>1 17 01905 02 5200 000             </td><td>98&amp;100                        </td></tr>",
                            "<tr><td>1 17 01905 02 5700 000             </td><td>97 &amp; PT. 99                   </td></tr>",
                            "<tr><td>1 17 01905 02 5800 000             </td><td>101 &amp; 102 &amp; PT. 99            </td></tr>",
                            "<tr><td>1 17 01905 03 0200 000             </td><td>12 &amp; 50' OF 11                </td></tr>",
                            "<tr><td>1 17 01905 03 0300 000             </td><td>10 &amp; PT. 11                   </td></tr>",
                            "<tr><td>1 17 01905 03 1700 000             </td><td>19 &amp; PT. OF 18                </td></tr>",
                            "<tr><td>1 17 01905 03 2600 000             </td><td>21 &amp; PT. 20                   </td></tr>",
                            "<tr><td>1 17 01905 03 2700 000             </td><td>19 &amp; PT. 20                   </td></tr>",
                            "<tr><td>1 17 01905 03 3000 000             </td><td>66 &amp; 39                       </td></tr>",
                            "<tr><td>1 17 01905 03 3100 000             </td><td>37 &amp; 38                       </td></tr>",
                            "<tr><td>1 17 01905 03 3700 000             </td><td>28 &amp; 29                       </td></tr>",
                            "<tr><td>1 17 01905 03 5100 000             </td><td>22 &amp; 23                       </td></tr>",
                            "<tr><td>1 17 01905 04 0300 000             </td><td>PT. 17 &amp; 18                   </td></tr>",
                            "<tr><td>1 17 01905 04 1000 000             </td><td>23 &amp; 22                       </td></tr>",
                            "<tr><td>1 17 01905 04 1001 000             </td><td>PT. 22 &amp; PT. 23               </td></tr>",
                            "<tr><td>1 17 01905 04 1400 000             </td><td>PT. 28 &amp; 29                   </td></tr>",
                            "<tr><td>1 17 01905 04 1800 000             </td><td>PT. 30 &amp; 31                   </td></tr>",
                            "<tr><td>1 17 01905 04 2200 000             </td><td>PT. 31 &amp; 32                   </td></tr>",
                            "<tr><td>1 17 01905 04 2300 000             </td><td>PT. 31 &amp; 32                   </td></tr>",
                            "<tr><td>1 17 01905 04 2400 000             </td><td>PT. 31 &amp; 32                   </td></tr>",
                            "<tr><td>1 17 01905 04 2800 000             </td><td>PT. OF 49 &amp; 50                </td></tr>",
                            "<tr><td>1 17 01905 04 2900 000             </td><td>49 &amp; PT. 49                   </td></tr>",
                            "<tr><td>1 17 01905 04 3000 000             </td><td>PART 52 &amp; 53                  </td></tr>",
                            "<tr><td>1 17 01905 04 3100 000             </td><td>77 &amp; PT. 75                   </td></tr>",
                            "<tr><td>1 17 01906 01 0600 000             </td><td>PT 1 &amp; 2 &amp; 3                  </td></tr>",
                            "<tr><td>1 17 01909 01 2200 000             </td><td>106 &amp; PT. OF 105              </td></tr>",
                            "<tr><td>1 17 01909 01 2400 000             </td><td>119 &amp; PT. OF 120              </td></tr>",
                            "<tr><td>1 17 01909 01 2900 000             </td><td>144 &amp; 155                     </td></tr>",
                            "<tr><td>1 17 01909 01 3400 000             </td><td>PT. 159 &amp; 160                 </td></tr>",
                            "<tr><td>1 17 01909 01 3500 000             </td><td>PT. 159 &amp; 160                 </td></tr>",
                            "<tr><td>1 17 01910 01 0900 000             </td><td>6 &amp; 7                         </td></tr>",
                            "<tr><td>1 17 01910 01 1500 000             </td><td>27 &amp; 28                       </td></tr>",
                            "<tr><td>1 17 01910 01 5300 000             </td><td>16 &amp; PT. 15                   </td></tr>",
                            "<tr><td>1 17 01910 01 7600 000             </td><td>PT. OF 246 &amp; 247              </td></tr>",
                            "<tr><td>1 17 01910 01 7700 000             </td><td>248 &amp; 10' OF 247              </td></tr>",
                            "<tr><td>1 17 01910 02 3200 000             </td><td>12 &amp; PT. 13                   </td></tr>",
                            "<tr><td>1 17 01910 02 3900 000             </td><td>19 &amp; PT. OF 18                </td></tr>",
                            "<tr><td>1 17 01910 02 4500 000             </td><td>PT. 24 &amp; PT. 25               </td></tr>",
                            "<tr><td>2 00 05500 01 1006 000             </td><td>6 &amp; 7                         </td></tr>",
                            "<tr><td>2 00 05503 01 0400 000             </td><td>3 &amp; 4                         </td></tr>",
                            "<tr><td>2 00 05503 01 0700 000             </td><td>7 &amp; PT. OF 6                  </td></tr>",
                            "<tr><td>2 00 05620 01 0800 000             </td><td>2 &amp; PT. OF 3                  </td></tr>",
                            "<tr><td>2 00 05620 01 1000 000             </td><td>38 &amp; PT. 37                   </td></tr>",
                            "<tr><td>2 00 05620 01 1300 000             </td><td>PT. OF 35 &amp; 36                </td></tr>",
                            "<tr><td>2 00 05620 01 1400 000             </td><td>34 &amp; PT. OF 35                </td></tr>",
                            "<tr><td>2 00 05701 01 2600 000             </td><td>25 &amp; 26                       </td></tr>",
                            "<tr><td>2 00 05702 01 0100 000             </td><td>34-36 &amp; PT. 37 &amp; 8            </td></tr>",
                            "<tr><td>2 00 05702 01 0500 000             </td><td>24 &amp; 25                       </td></tr>",
                            "<tr><td>2 00 05702 01 0600 000             </td><td>22 &amp; 23                       </td></tr>",
                            "<tr><td>2 00 05702 01 1400 000             </td><td>T-6, T-7, &amp; T-8               </td></tr>",
                            "<tr><td>2 00 05702 01 1600 000             </td><td>T-4 &amp; T-5                     </td></tr>",
                            "<tr><td>2 00 05702 01 2000 000             </td><td>PT. 37 &amp; 38                   </td></tr>",
                            "<tr><td>2 00 05702 01 2100 000             </td><td>PT. 37 &amp; 38                   </td></tr>",
                            "<tr><td>2 00 05702 01 2400 000             </td><td>73 &amp; PT. 72, 74, 88-90        </td></tr>",
                            "<tr><td>2 00 05702 01 2600 000             </td><td>69 &amp; 25' OF 70                </td></tr>",
                            "<tr><td>2 00 05702 01 2900 000             </td><td>64 &amp; PT. 63                   </td></tr>",
                            "<tr><td>2 00 05702 01 3000 000             </td><td>62 &amp; PT. OF 63                </td></tr>",
                            "<tr><td>2 00 05702 01 3300 000             </td><td>PT. 59,60,75 &amp; 76             </td></tr>",
                            "<tr><td>2 00 05702 01 3400 000             </td><td>LOT 75 &amp; 76                   </td></tr>",
                            "<tr><td>2 00 05702 01 4100 000             </td><td>66-68,78-84,&amp;PT. 85-88        </td></tr>",
                            "<tr><td>2 00 05702 02 0700 000             </td><td>50 &amp; 15' OF 51                </td></tr>",
                            "<tr><td>2 00 05702 02 3600 000             </td><td>52 &amp; 54                       </td></tr>",
                            "<tr><td>2 00 05702 02 4000 000             </td><td>1 &amp; 2                         </td></tr>",
                            "<tr><td>2 00 06600 01 0500 000             </td><td>3 &amp; 4                         </td></tr>",
                            "<tr><td>2 00 06600 02 0700 000             </td><td>1,2 &amp; 3                       </td></tr>",
                            "<tr><td>2 00 06600 02 1900 000             </td><td>11, 12, 13 &amp; PT. OF 10        </td></tr>",
                            "<tr><td>2 00 06603 03 0100 000             </td><td>12 &amp; PT. OF 1                 </td></tr>",
                            "<tr><td>2 00 06603 03 0600 000             </td><td>6 &amp; PT. OF 1                  </td></tr>",
                            "<tr><td>2 00 06700 01 1900 000             </td><td>174 &amp; 175                     </td></tr>",
                            "<tr><td>2 00 06700 01 2000 000             </td><td>142, 172 &amp; 173                </td></tr>",
                            "<tr><td>2 00 06700 01 2500 000             </td><td>147 &amp; 148                     </td></tr>",
                            "<tr><td>2 00 06717 01 0700 000             </td><td>37-39 &amp; PT. 40-46             </td></tr>",
                            "<tr><td>2 00 06717 01 0800 000             </td><td>34-36 &amp; PT. 33                </td></tr>",
                            "<tr><td>2 00 06717 01 1000 000             </td><td>27-31 &amp; PT. 32                </td></tr>",
                            "<tr><td>2 00 07500 02 2100 000             </td><td>4 &amp; 5                         </td></tr>",
                            "<tr><td>2 00 07500 02 3700 000             </td><td>2 &amp; 3                         </td></tr>",
                            "<tr><td>2 00 07500 02 3900 000             </td><td>6 &amp; 7                         </td></tr>",
                            "<tr><td>2 00 07500 02 4100 000             </td><td>9 &amp; PT. 9A                    </td></tr>",
                            "<tr><td>2 00 07502 01 0100 000             </td><td>PT. OF LOTS 3 &amp; 4             </td></tr>",
                            "<tr><td>2 00 07502 01 0114 000             </td><td>PT LOT 4 &amp; PT LOT 1           </td></tr>",
                            "<tr><td>2 00 07502 01 3700 000             </td><td>2,3 &amp; 4                       </td></tr>",
                            "<tr><td>2 00 07605 01 0400 000             </td><td>22 &amp; PT. 21 &amp; 23              </td></tr>",
                            "<tr><td>2 00 07605 01 0500 000             </td><td>24-26 &amp; PT. 23                </td></tr>",
                            "<tr><td>2 00 07605 01 0600 000             </td><td>2, 3 &amp; PT. 4                  </td></tr>",
                            "<tr><td>2 00 07605 01 0700 000             </td><td>5-9 &amp; PT. 4                   </td></tr>",
                            "<tr><td>2 00 07610 01 2300 000             </td><td>53 &amp; 32 &amp; PT. 31 &amp; 52         </td></tr>",
                            "<tr><td>2 00 07610 01 2400 000             </td><td>51 &amp; PT. OF 31,32,52          </td></tr>",
                            "<tr><td>2 00 07610 01 2500 000             </td><td>50 &amp; PT. 31                   </td></tr>",
                            "<tr><td>2 00 07611 02 0600 000             </td><td>4 &amp; 5' OF 5                   </td></tr>",
                            "<tr><td>2 00 07611 02 1200 000             </td><td>1, 17 &amp; PT. 2                 </td></tr>",
                            "<tr><td>2 00 07712 01 1000 000             </td><td>3 &amp; 4                         </td></tr>",
                            "<tr><td>2 00 07712 01 2200 000             </td><td>N &amp; O                         </td></tr>",
                            "<tr><td>2 00 07712 01 2300 000             </td><td>L &amp; M                         </td></tr>",
                            "<tr><td>2 00 07717 01 1200 000             </td><td>10 &amp; PT. 11                   </td></tr>",
                            "<tr><td>2 00 07717 01 1300 000             </td><td>12 &amp; 1/2 OD 11                </td></tr>",
                            "<tr><td>2 00 07717 01 1700 000             </td><td>4 &amp; &amp;T. OF 5                  </td></tr>",
                            "<tr><td>2 00 07802 01 1300 000             </td><td>4, 12, &amp; 13                   </td></tr>",
                            "<tr><td>2 00 07802 01 1600 000             </td><td>5 &amp; 6                         </td></tr>",
                            "<tr><td>2 00 07802 01 1800 000             </td><td>7-8-11 &amp; PT. 9                </td></tr>",
                            "<tr><td>2 00 08500 01 0400 000             </td><td>1 &amp; 2                         </td></tr>",
                            "<tr><td>2 00 08500 01 0500 000             </td><td>3 &amp; 4                         </td></tr>",
                            "<tr><td>2 00 08500 01 0600 000             </td><td>5 &amp; PT. 6                     </td></tr>",
                            "<tr><td>2 00 08516 02 8300 000             </td><td>21 &amp; PT.20                    </td></tr>",
                            "<tr><td>2 00 08516 04 5300 000             </td><td>6 &amp; 7                         </td></tr>",
                            "<tr><td>2 00 08516 04 5600 000             </td><td>4,5 &amp; PT. 6                   </td></tr>",
                            "<tr><td>2 00 08516 04 5700 000             </td><td>7-9 &amp; PT. 6                   </td></tr>",
                            "<tr><td>2 00 08516 04 6600 000             </td><td>15 &amp; 16                       </td></tr>",
                            "<tr><td>2 00 08516 04 7000 000             </td><td>19 &amp; PT. 20                   </td></tr>",
                            "<tr><td>2 00 08516 04 7100 000             </td><td>21 &amp; 1/2 OF 20                </td></tr>",
                            "<tr><td>2 00 08516 04 8100 000             </td><td>32 &amp; 33                       </td></tr>",
                            "<tr><td>2 00 08516 04 8600 000             </td><td>62 &amp; 63                       </td></tr>",
                            "<tr><td>2 00 08516 04 8800 000             </td><td>67 &amp; 68                       </td></tr>",
                            "<tr><td>2 00 08516 04 9000 000             </td><td>70 &amp; 71                       </td></tr>",
                            "<tr><td>2 00 08516 04 9100 000             </td><td>72 &amp; PT. 73                   </td></tr>",
                            "<tr><td>2 00 08516 04 9200 000             </td><td>PT. 73 &amp; 74                   </td></tr>",
                            "<tr><td>2 00 08516 04 9300 000             </td><td>PT. OF 74 &amp; 75                </td></tr>",
                            "<tr><td>2 00 08516 04 9400 000             </td><td>PT. OF 75 &amp; 76                </td></tr>",
                            "<tr><td>2 00 08516 04 9500 000             </td><td>1/2 OF 75 &amp; 76                </td></tr>",
                            "<tr><td>2 00 08605 01 1400 000             </td><td>13 &amp; PT. 14                   </td></tr>",
                            "<tr><td>2 00 08605 01 1600 000             </td><td>1 &amp; 2                         </td></tr>",
                            "<tr><td>2 00 08605 01 1700 000             </td><td>11 &amp; 12                       </td></tr>",
                            "<tr><td>2 00 08605 01 1900 000             </td><td>3-4 &amp; PT.OF 5                 </td></tr>",
                            "<tr><td>2 00 08605 01 1901 000             </td><td>6-7 &amp; PT.OF 5                 </td></tr>",
                            "<tr><td>2 00 08605 01 2000 000             </td><td>1 &amp; 2                         </td></tr>",
                            "<tr><td>2 00 08605 01 2200 000             </td><td>10 &amp; 11                       </td></tr>",
                            "<tr><td>2 00 08605 01 3100 000             </td><td>4-9 &amp; 18-20                   </td></tr>",
                            "<tr><td>2 00 08605 01 3800 000             </td><td>16 &amp; 17                       </td></tr>",
                            "<tr><td>2 00 08605 01 6100 000             </td><td>PT. OF 22 &amp; 23                </td></tr>",
                            "<tr><td>2 00 08605 01 6200 000             </td><td>21 &amp; PT. 22                   </td></tr>",
                            "<tr><td>2 00 08606 01 0300 000             </td><td>14 &amp; PT. 13                   </td></tr>",
                            "<tr><td>2 00 08606 01 0400 000             </td><td>12 &amp; 1/2 OF 13                </td></tr>",
                            "<tr><td>2 00 08606 01 0500 000             </td><td>ALL OF 11 &amp; PT. OF 10         </td></tr>",
                            "<tr><td>2 00 08609 01 7300 000             </td><td>4 &amp; 5                         </td></tr>",
                            "<tr><td>2 00 08609 01 7400 000             </td><td>6 &amp; 7                         </td></tr>",
                            "<tr><td>2 00 08609 01 7701 000             </td><td>PT. 17 &amp; 18                   </td></tr>",
                            "<tr><td>2 00 08609 01 7800 000             </td><td>19 &amp; 20                       </td></tr>",
                            "<tr><td>2 00 08609 01 7900 000             </td><td>21 &amp; 22                       </td></tr>",
                            "<tr><td>2 00 08609 01 8000 000             </td><td>23,24 &amp; PT. OF 25             </td></tr>",
                            "<tr><td>2 00 08609 01 8001 000             </td><td>26 &amp; PT. OF 25                </td></tr>",
                            "<tr><td>2 00 08609 01 8100 000             </td><td>27 &amp; 28                       </td></tr>",
                            "<tr><td>2 00 08610 01 0600 000             </td><td>21&amp;22&amp;PT. 23                  </td></tr>",
                            "<tr><td>2 00 08610 01 1000 000             </td><td>12&amp;PT 13                      </td></tr>",
                            "<tr><td>2 00 08610 01 1100 000             </td><td>PT. 13 &amp; 14                   </td></tr>",
                            "<tr><td>2 00 08610 01 2400 000             </td><td>48 &amp; 49                       </td></tr>",
                            "<tr><td>2 00 08610 01 2700 000             </td><td>PT. 44 &amp; 45                   </td></tr>",
                            "<tr><td>2 00 08610 01 2800 000             </td><td>PT. 44 &amp; 45                   </td></tr>",
                            "<tr><td>2 00 08610 01 2900 000             </td><td>96 &amp; PT. 95                   </td></tr>",
                            "<tr><td>2 00 08610 01 3000 000             </td><td>10 &amp; PT. 9                    </td></tr>",
                            "<tr><td>2 00 08610 01 3100 000             </td><td>8 &amp; PT. 9                     </td></tr>",
                            "<tr><td>2 00 08610 01 3400 000             </td><td>94 &amp; PT. 93                   </td></tr>",
                            "<tr><td>2 00 08610 01 3500 000             </td><td>93-7 &amp; PT. OF 92-6            </td></tr>",
                            "<tr><td>2 00 08610 01 3600 000             </td><td>5 &amp; PT. 6                     </td></tr>",
                            "<tr><td>2 00 08610 01 3700 000             </td><td>91 &amp; PT. 92                   </td></tr>",
                            "<tr><td>2 00 08610 01 4000 000             </td><td>PT. 88 &amp; 89                   </td></tr>",
                            "<tr><td>2 00 08610 01 4300 000             </td><td>87 &amp; PT. 88                   </td></tr>",
                            "<tr><td>2 00 08610 01 4400 000             </td><td>PT. 84 &amp; 86                   </td></tr>",
                            "<tr><td>2 00 08610 01 5400 000             </td><td>8, 9 &amp; PT 10                  </td></tr>",
                            "<tr><td>2 00 08610 02 0300 000             </td><td>60 &amp; 61                       </td></tr>",
                            "<tr><td>2 00 08610 02 0500 000             </td><td>57 &amp; 58                       </td></tr>",
                            "<tr><td>2 00 08610 02 0800 000             </td><td>54 &amp; PT. 55                   </td></tr>",
                            "<tr><td>2 00 08610 02 0900 000             </td><td>107 &amp; 108                     </td></tr>",
                            "<tr><td>2 00 08610 02 1200 000             </td><td>PT. 104 &amp; 103                 </td></tr>",
                            "<tr><td>2 00 08610 02 1400 000             </td><td>100 &amp; PT. 99                  </td></tr>",
                            "<tr><td>2 00 08610 02 1500 000             </td><td>101 &amp; PT. OF 102              </td></tr>",
                            "<tr><td>2 00 08610 02 1600 000             </td><td>PT. OF #98 &amp; #99              </td></tr>",
                            "<tr><td>2 00 08610 02 1700 000             </td><td>97 &amp; E. 25' OF 98             </td></tr>",
                            "<tr><td>2 00 08610 02 1900 000             </td><td>137 &amp; 136                     </td></tr>",
                            "<tr><td>2 00 08610 02 2800 000             </td><td>8 &amp; 22                        </td></tr>",
                            "<tr><td>2 00 08610 02 4600 000             </td><td>PT. OF 109 &amp; 110              </td></tr>",
                            "<tr><td>2 00 08610 02 5200 000             </td><td>115 &amp; 116                     </td></tr>",
                            "<tr><td>2 00 08610 02 5600 000             </td><td>1/2 OF 64 &amp; 1/2 OF 65         </td></tr>",
                            "<tr><td>2 00 08610 02 5700 000             </td><td>1/2 OF 64 &amp; 65                </td></tr>",
                            "<tr><td>2 00 08610 02 6200 000             </td><td>70 &amp; 71                       </td></tr>",
                            "<tr><td>2 00 08613 01 4600 000             </td><td>98, 99 &amp; PT. 97               </td></tr>",
                            "<tr><td>2 00 08613 01 4700 000             </td><td>96 &amp; PT. 95 &amp; 97              </td></tr>",
                            "<tr><td>2 00 08613 01 4900 000             </td><td>92 &amp; 1/2 OF 91                </td></tr>",
                            "<tr><td>2 00 08613 01 5000 000             </td><td>90 &amp; 1/2 91                   </td></tr>",
                            "<tr><td>2 00 08613 01 5600 000             </td><td>56 &amp; 57                       </td></tr>",
                            "<tr><td>2 00 08613 01 5700 000             </td><td>55 &amp; PT. 54                   </td></tr>",
                            "<tr><td>2 00 08613 01 5800 000             </td><td>53 &amp; PT. 54                   </td></tr>",
                            "<tr><td>2 00 08613 01 5900 000             </td><td>51 &amp; 52                       </td></tr>",
                            "<tr><td>2 00 08613 01 6000 000             </td><td>49 &amp; 50                       </td></tr>",
                            "<tr><td>2 00 08613 01 6100 000             </td><td>48 &amp; PT. 47                   </td></tr>",
                            "<tr><td>2 00 08613 01 6200 000             </td><td>46 &amp; 10' OF 47                </td></tr>",
                            "<tr><td>2 00 08613 01 6900 000             </td><td>42 &amp; 40' OF 41                </td></tr>",
                            "<tr><td>2 00 08613 01 7000 000             </td><td>40 &amp; PT. 41                   </td></tr>",
                            "<tr><td>2 00 08613 01 7100 000             </td><td>39 &amp; 1/2 OF 38                </td></tr>",
                            "<tr><td>2 00 08613 01 7200 000             </td><td>37&amp;PT38                       </td></tr>",
                            "<tr><td>2 00 08613 01 7900 000             </td><td>104 &amp; 105                     </td></tr>",
                            "<tr><td>2 00 08613 01 8000 000             </td><td>88 &amp; ADJ. LOT                 </td></tr>",
                            "<tr><td>2 00 08613 01 8200 000             </td><td>81-83 &amp; PT. 80                </td></tr>",
                            "<tr><td>2 00 08613 01 8300 000             </td><td>78,79 &amp; PT. OF 80             </td></tr>",
                            "<tr><td>2 00 08613 01 8400 000             </td><td>77A &amp; 77                      </td></tr>",
                            "<tr><td>2 00 08613 02 1200 000             </td><td>4 &amp; PT. 5                     </td></tr>",
                            "<tr><td>2 00 08613 02 1300 000             </td><td>6 &amp; PT. 5                     </td></tr>",
                            "<tr><td>2 00 08613 02 1400 000             </td><td>PT. 13 &amp; 14                   </td></tr>",
                            "<tr><td>2 00 08613 02 2800 000             </td><td>12 &amp; PT. 13 &amp; 14              </td></tr>",
                            "<tr><td>2 00 08613 02 3500 000             </td><td>10 &amp; 11                       </td></tr>",
                            "<tr><td>2 00 08613 02 4700 000             </td><td>4 &amp; PT. 5                     </td></tr>",
                            "<tr><td>2 00 08613 02 4800 000             </td><td>PT. OF 5 &amp; 6                  </td></tr>",
                            "<tr><td>2 00 08613 02 4900 000             </td><td>7 &amp; PT. OF 6                  </td></tr>",
                            "<tr><td>2 00 08613 02 5600 000             </td><td>16 &amp; PT. 15                   </td></tr>",
                            "<tr><td>2 00 08613 02 5700 000             </td><td>14 &amp; 1/2 OF 13 &amp; 15           </td></tr>",
                            "<tr><td>2 00 08613 02 5800 000             </td><td>12, 20-32 &amp; PT. 13            </td></tr>",
                            "<tr><td>2 00 08613 02 6100 000             </td><td>34, 35 &amp; PT. 33               </td></tr>",
                            "<tr><td>2 00 08614 01 0100 000             </td><td>29 &amp; 30                       </td></tr>",
                            "<tr><td>2 00 08614 01 0200 000             </td><td>31 &amp; 32                       </td></tr>",
                            "<tr><td>2 00 08614 01 0300 000             </td><td>33 &amp; 34                       </td></tr>",
                            "<tr><td>2 00 08614 01 0400 000             </td><td>35 &amp; 36                       </td></tr>",
                            "<tr><td>2 00 08614 01 0500 000             </td><td>37 &amp; PART OF 38               </td></tr>",
                            "<tr><td>2 00 08614 01 0501 000             </td><td>PT. 38 &amp; ALL 39               </td></tr>",
                            "<tr><td>2 00 08616 02 3900 000             </td><td>14 &amp; A                        </td></tr>",
                            "<tr><td>2 00 08616 02 4000 000             </td><td>13 &amp; B                        </td></tr>",
                            "<tr><td>2 00 08616 02 4200 000             </td><td>11 &amp; D                        </td></tr>",
                            "<tr><td>2 00 08616 02 4300 000             </td><td>10 &amp; E                        </td></tr>",
                            "<tr><td>2 00 08616 04 2105 000</td><td>PHASE 1, 2, &amp; 3               </td></tr>",
                            "<tr><td>2 00 08616 04 2110 000             </td><td>PHASE 1, 2, &amp; 3               </td></tr>",
                            "<tr><td>2 00 08616 04 9100 000             </td><td>221,222 &amp; PT.223,224          </td></tr>",
                            "<tr><td>2 00 08801 01 0500 000             </td><td>10 &amp; 11                       </td></tr>",
                            "<tr><td>2 00 08801 01 0600 000             </td><td>24,25, 28 &amp; 29                </td></tr>",
                            "<tr><td>2 00 08801 01 1000 000             </td><td>32 &amp; 33                       </td></tr>",
                            "<tr><td>2 00 08801 01 1100 000             </td><td>36 &amp; 37                       </td></tr>",
                            "<tr><td>2 00 08801 01 1600 000             </td><td>26 &amp; 27 &amp; 30                  </td></tr>",
                            "<tr><td>2 00 08801 01 1700 000             </td><td>12, 13, 25 &amp; 14               </td></tr>",
                            "<tr><td>2 00 08801 01 1900 000             </td><td>15 &amp; PT. 16                   </td></tr>",
                            "<tr><td>2 00 08801 01 2100 000             </td><td>17 &amp; PT. 16                   </td></tr>",
                            "<tr><td>2 00 08801 02 0500 000             </td><td>460 &amp; 461                     </td></tr>",
                            "<tr><td>2 00 08801 02 0600 000             </td><td>381-384,462 &amp; 463             </td></tr>",
                            "<tr><td>2 00 08801 02 0700 000             </td><td>455 &amp; 456                     </td></tr>",
                            "<tr><td>2 00 08801 02 1300 000             </td><td>359 &amp; 360                     </td></tr>",
                            "<tr><td>2 00 08801 02 1500 000             </td><td>433 &amp; 434                     </td></tr>",
                            "<tr><td>2 00 08801 02 1600 000             </td><td>352 &amp; 353                     </td></tr>",
                            "<tr><td>2 00 08801 02 1900 000             </td><td>272 &amp; 273                     </td></tr>",
                            "<tr><td>2 00 08801 02 2100 000             </td><td>278 &amp; 279                     </td></tr>",
                            "<tr><td>2 00 08801 02 2300 000             </td><td>301-303 &amp; 219-221             </td></tr>",
                            "<tr><td>2 00 08801 02 2700 000             </td><td>87 &amp; 88                       </td></tr>",
                            "<tr><td>2 00 08801 02 2800 000             </td><td>185 &amp; 186                     </td></tr>",
                            "<tr><td>2 00 08801 02 2900 000             </td><td>99 &amp; 100                      </td></tr>",
                            "<tr><td>2 00 08801 02 3500 000             </td><td>113 &amp; 114                     </td></tr>",
                            "<tr><td>2 00 08801 02 3700 000</td><td>118 &amp; 119                     </td></tr>",
                            "<tr><td>2 00 08801 02 3800 000             </td><td>120 &amp; 121                     </td></tr>",
                            "<tr><td>2 00 08801 02 3900 000             </td><td>122 &amp; 123                     </td></tr>",
                            "<tr><td>2 00 08801 02 4000 000             </td><td>129 &amp; 130                     </td></tr>",
                            "<tr><td>2 00 08801 02 4600 000             </td><td>29 &amp; 30                       </td></tr>",
                            "<tr><td>2 00 08801 02 4700 000             </td><td>25 &amp; 26                       </td></tr>",
                            "<tr><td>2 00 08801 02 5100 000             </td><td>15 &amp; 16                       </td></tr>",
                            "<tr><td>2 00 08802 01 0200 000             </td><td>B-236,B241 &amp; B-183            </td></tr>",
                            "<tr><td>2 00 08802 01 0400 000             </td><td>B-125 &amp; B-126                 </td></tr>",
                            "<tr><td>2 00 08802 01 0600 000             </td><td>123 &amp; 124                     </td></tr>",
                            "<tr><td>2 00 08802 01 0900 000             </td><td>B-65 &amp; B-66                   </td></tr>",
                            "<tr><td>2 00 08802 01 1100 000             </td><td>B-62 &amp; B-63                   </td></tr>",
                            "<tr><td>2 00 08802 01 1200 000             </td><td>B-59 &amp; B-60                   </td></tr>",
                            "<tr><td>2 00 08802 01 1700 000             </td><td>590 &amp; 591                     </td></tr>",
                            "<tr><td>2 00 08802 01 1900 000             </td><td>618 &amp; 619                     </td></tr>",
                            "<tr><td>2 00 08802 01 2200 000             </td><td>627 &amp; 628                     </td></tr>",
                            "<tr><td>2 00 08802 01 2300 000             </td><td>629 &amp; 630                     </td></tr>",
                            "<tr><td>2 00 08802 01 3000 000             </td><td>B16 &amp; B17                     </td></tr>",
                            "<tr><td>2 00 08802 01 3300 000             </td><td>B-20 &amp; B-21                   </td></tr>",
                            "<tr><td>2 00 08802 01 3400 000             </td><td>585 &amp; 586                     </td></tr>",
                            "<tr><td>2 00 08802 01 4000 000             </td><td>542 &amp; 543                     </td></tr>",
                            "<tr><td>2 00 08802 01 4400 000             </td><td>473 &amp; 474                     </td></tr>",
                            "<tr><td>2 00 08802 01 4500 000             </td><td>475 &amp; 476                     </td></tr>",
                            "<tr><td>2 00 08802 01 4700 000             </td><td>403,404,482 &amp; 483             </td></tr>",
                            "<tr><td>2 00 08802 01 4800 000             </td><td>485 &amp; 486                     </td></tr>",
                            "<tr><td>2 00 08802 01 5100 000             </td><td>498 &amp; 499                     </td></tr>",
                            "<tr><td>2 00 08802 01 5500 000             </td><td>415 &amp; 416                     </td></tr>",
                            "<tr><td>2 00 08802 01 5600 000             </td><td>412 &amp; 413                     </td></tr>",
                            "<tr><td>2 00 08802 01 5800 000             </td><td>396 &amp; 397                     </td></tr>",
                            "<tr><td>2 00 08802 01 5900 000             </td><td>394 &amp; 395                     </td></tr>",
                            "<tr><td>2 00 08802 01 6500 000             </td><td>327 &amp; 328                     </td></tr>",
                            "<tr><td>2 00 08802 01 6600 000             </td><td>329 &amp; 330                     </td></tr>",
                            "<tr><td>2 00 08802 01 6800 000             </td><td>337 &amp; 338                     </td></tr>",
                            "<tr><td>2 00 08802 01 6900 000             </td><td>346 &amp; 347                     </td></tr>",
                            "<tr><td>2 00 08802 01 7000 000             </td><td>266 &amp; 267                     </td></tr>",
                            "<tr><td>2 00 08802 01 7100 000             </td><td>261 &amp; 262                     </td></tr>",
                            "<tr><td>2 00 08802 01 7200 000             </td><td>247 &amp; 248                     </td></tr>",
                            "<tr><td>2 00 08802 01 7400 000             </td><td>236 &amp; 237                     </td></tr>",
                            "<tr><td>2 00 08802 01 8500 000             </td><td>78 &amp; 79                       </td></tr>",
                            "<tr><td>2 00 08802 01 8600 000             </td><td>76 &amp; 77                       </td></tr>",
                            "<tr><td>2 00 08802 01 8700 000             </td><td>72 &amp; 73                       </td></tr>",
                            "<tr><td>2 00 08802 01 9200 000             </td><td>47 &amp; 48                       </td></tr>",
                            "<tr><td>2 00 08802 02 0200 000             </td><td>3 &amp; 4                         </td></tr>",
                            "<tr><td>2 00 08802 02 0300 000             </td><td>9 &amp; 10                        </td></tr>",
                            "<tr><td>2 00 08802 02 0500 000             </td><td>15 &amp; 16                       </td></tr>",
                            "<tr><td>2 00 08802 03 0400 000             </td><td>3, 3A, N. 1/2 4 &amp; 4A          </td></tr>",
                            "<tr><td>2 00 08802 03 0600 000             </td><td>5&amp;5A&amp; PT 4&amp;4A                 </td></tr>",
                            "<tr><td>2 00 08802 03 0800 000             </td><td>7 &amp; 7A                        </td></tr>",
                            "<tr><td>2 00 08802 03 0900 000             </td><td>8 A &amp; 9 A                     </td></tr>",
                            "<tr><td>2 00 08802 03 1000 000             </td><td>8 &amp; 9                         </td></tr>",
                            "<tr><td>2 00 08802 03 1300 000             </td><td>14 &amp; 14A                      </td></tr>",
                            "<tr><td>2 00 08802 03 1301 000             </td><td>15 &amp; 15A                      </td></tr>",
                            "<tr><td>2 00 08802 03 1302 000             </td><td>16 &amp; 16A                      </td></tr>",
                            "<tr><td>2 00 08802 03 1303 000             </td><td>17 &amp; 17-A                     </td></tr>",
                            "<tr><td>2 00 08802 03 1402 000             </td><td>18 &amp; 18A                      </td></tr>",
                            "<tr><td>2 00 08802 03 1500 000             </td><td>21 &amp; 21A                      </td></tr>",
                            "<tr><td>2 00 08802 03 1700 000             </td><td>23 &amp; 23 A                     </td></tr>",
                            "<tr><td>2 00 08802 03 1800 000             </td><td>24 &amp; 24A                      </td></tr>",
                            "<tr><td>2 00 08802 03 1900 000             </td><td>25 &amp; 25 A                     </td></tr>",
                            "<tr><td>2 00 08802 03 2000 000             </td><td>26 &amp; 26A                      </td></tr>",
                            "<tr><td>2 00 08802 03 2100 000             </td><td>27 &amp; 27-A                     </td></tr>",
                            "<tr><td>2 00 09716 01 3400 000             </td><td>28 &amp; PT. 29                   </td></tr>",
                            "<tr><td>2 00 09716 01 4100 000             </td><td>21 &amp; PT.OF22                  </td></tr>",
                            "<tr><td>2 00 09716 01 5600 000             </td><td>6 &amp; 41                        </td></tr>",
                            "<tr><td>2 00 09716 01 6100 000             </td><td>1 &amp; PT. OF LOT #51            </td></tr>",
                            "<tr><td>2 00 09720 01 2700 000             </td><td>52 &amp; PT. OF 51                </td></tr>",
                            "<tr><td>2 00 10600 01 1800 000             </td><td>9 &amp; 10                        </td></tr>",
                            "<tr><td>2 05 05700 01 5300 000             </td><td>1 &amp; 2                         </td></tr>",
                            "<tr><td>2 05 05800 01 0300 000             </td><td>16 &amp; 17                       </td></tr>",
                            "<tr><td>2 05 05800 01 0400 000             </td><td>PT. 14 &amp; 15                   </td></tr>",
                            "<tr><td>2 05 05800 01 0500 000             </td><td>12 &amp; 13                       </td></tr>",
                            "<tr><td>2 05 05800 01 0600 000             </td><td>7 &amp; 8                         </td></tr>",
                            "<tr><td>2 05 05800 01 0700 000             </td><td>5 &amp; 6                         </td></tr>",
                            "<tr><td>2 05 05800 01 0800 000             </td><td>3 &amp; 4                         </td></tr>",
                            "<tr><td>2 05 05817 01 1000 000             </td><td>5 &amp; 6                         </td></tr>",
                            "<tr><td>2 05 05817 01 1300 000             </td><td>2 &amp; 3                         </td></tr>",
                            "<tr><td>2 05 05817 01 1400 000             </td><td>1 &amp; 2                         </td></tr>",
                            "<tr><td>2 05 06612 01 1600 000             </td><td>25 &amp; 26                       </td></tr>",
                            "<tr><td>2 05 06616 02 0200 000             </td><td>2 &amp; PT. OF 1                  </td></tr>",
                            "<tr><td>2 05 06616 02 0500 000             </td><td>5 &amp; PT. OF 4                  </td></tr>",
                            "<tr><td>2 05 06616 02 0600 000             </td><td>6 &amp; PT. OF 7                  </td></tr>",
                            "<tr><td>2 05 06700 02 2100 000             </td><td>55 &amp; 56                       </td></tr>",
                            "<tr><td>2 05 06700 02 2200 000             </td><td>75-77 &amp; 100-102               </td></tr>",
                            "<tr><td>2 05 06700 02 2300 000             </td><td>78-81 &amp; 103-106               </td></tr>",
                            "<tr><td>2 05 06700 02 2400 000             </td><td>107 &amp; 108                     </td></tr>",
                            "<tr><td>2 05 06700 02 2700 000             </td><td>149 &amp; 150                     </td></tr>",
                            "<tr><td>2 05 06700 02 3500 000             </td><td>163-167 &amp; 186-188             </td></tr>",
                            "<tr><td>2 05 06700 02 3600 000             </td><td>PT. OF 132 &amp; 133              </td></tr>",
                            "<tr><td>2 05 06700 02 3800 000             </td><td>127, 128 &amp; PT. 129            </td></tr>",
                            "<tr><td>2 05 06700 02 3900 000             </td><td>94 &amp; 95                       </td></tr>",
                            "<tr><td>2 05 06700 02 4100 000             </td><td>8 &amp; 9                         </td></tr>",
                            "<tr><td>2 05 06700 02 4302 000             </td><td>15 &amp; 16                       </td></tr>",
                            "<tr><td>2 05 06700 02 4700 000             </td><td>136-138 &amp; 168 &amp; 169           </td></tr>",
                            "<tr><td>2 05 06705 01 6900 000             </td><td>58-R &amp; 59                     </td></tr>",
                            "<tr><td>2 05 06707 01 0400 000             </td><td>177 &amp; PT. 178                 </td></tr>",
                            "<tr><td>2 05 06707 01 0600 000             </td><td>180 &amp; PT. OF 179              </td></tr>",
                            "<tr><td>2 05 06707 01 0701 000             </td><td>PT. OF 180 &amp; 181              </td></tr>",
                            "<tr><td>2 05 06707 01 0800 000             </td><td>184 &amp; 185                     </td></tr>",
                            "<tr><td>2 05 06707 01 1100 000             </td><td>158 &amp; 159                     </td></tr>",
                            "<tr><td>2 05 06707 01 1200 000             </td><td>156 &amp; 157                     </td></tr>",
                            "<tr><td>2 05 06709 01 0800 000             </td><td>118 &amp; 119                     </td></tr>",
                            "<tr><td>2 05 06709 01 0900 000             </td><td>120,121 &amp; 122                 </td></tr>",
                            "<tr><td>2 05 06709 01 1300 000             </td><td>126 &amp; 127                     </td></tr>",
                            "<tr><td>2 05 06709 01 8100 000             </td><td>232 &amp; PT. 231 &amp; 233           </td></tr>",
                            "<tr><td>2 05 06709 02 0700 000             </td><td>8 &amp; PT. OF 6 &amp; 7              </td></tr>",
                            "<tr><td>2 05 06709 02 0800 000             </td><td>124 &amp; PT. 7                   </td></tr>",
                            "<tr><td>2 05 06709 02 1800 000             </td><td>134 &amp; PT. 133                 </td></tr>",
                            "<tr><td>2 05 06711 01 1300 000             </td><td>35 &amp; PT. 34                   </td></tr>",
                            "<tr><td>2 05 06713 01 0400 000             </td><td>106 &amp; PT. OF 105              </td></tr>",
                            "<tr><td>2 05 06713 01 0500 000             </td><td>PT. OF 104 &amp; 105              </td></tr>",
                            "<tr><td>2 05 06713 01 0600 000             </td><td>PT. 103 &amp; 104                 </td></tr>",
                            "<tr><td>2 05 06713 01 0700 000             </td><td>102 &amp; PT. OF 103              </td></tr>",
                            "<tr><td>2 05 06713 01 0800 000             </td><td>101 &amp; PT. OF 103              </td></tr>",
                            "<tr><td>2 05 06713 01 1700 000             </td><td>228 &amp; 229                     </td></tr>",
                            "<tr><td>2 05 06713 01 2700 000             </td><td>87 &amp; 88                       </td></tr>",
                            "<tr><td>2 05 06713 02 0700 000             </td><td>53 &amp; 54                       </td></tr>",
                            "<tr><td>2 05 06713 02 1400 000             </td><td>263 &amp; 264                     </td></tr>",
                            "<tr><td>2 05 06714 01 2400 000             </td><td>183 PT. 184 &amp; 185             </td></tr>",
                            "<tr><td>2 05 06714 01 2500 000             </td><td>PT.OF 184 &amp; 185               </td></tr>",
                            "<tr><td>2 05 06715 01 4300 000             </td><td>88 &amp; 88-A                     </td></tr>",
                            "<tr><td>2 05 06715 01 5600 000             </td><td>101 &amp; 101-A                   </td></tr>",
                            "<tr><td>2 05 06715 02 0600 000             </td><td>19 &amp; PT. 17                   </td></tr>",
                            "<tr><td>2 05 06715 02 0700 000             </td><td>PT. 16 &amp; 17                   </td></tr>",
                            "<tr><td>2 05 06715 02 0800 000             </td><td>PT. 15 &amp; 16                   </td></tr>",
                            "<tr><td>2 05 06715 03 0500 000             </td><td>13 &amp; PT. 11                   </td></tr>",
                            "<tr><td>2 05 06716 01 5100 000             </td><td>33,32 &amp; 34                    </td></tr>",
                            "<tr><td>2 05 06716 01 7300 000             </td><td>PT.OF 13 &amp; PT. OF 14          </td></tr>",
                            "<tr><td>2 05 06716 02 0600 000             </td><td>6 &amp; 7                         </td></tr>",
                            "<tr><td>2 05 06716 02 1100 000             </td><td>12 &amp; 5' OF 11                 </td></tr>",
                            "<tr><td>2 05 06716 02 1200 000             </td><td>13 &amp; 14                       </td></tr>",
                            "<tr><td>2 05 06716 02 1300 000             </td><td>15 &amp; PT. 16                   </td></tr>",
                            "<tr><td>2 05 06716 02 1400 000             </td><td>17 &amp; PT. 16                   </td></tr>",
                            "<tr><td>2 05 06716 02 1800 000             </td><td>21 &amp; 22                       </td></tr>",
                            "<tr><td>2 05 06716 02 1900 000             </td><td>23 &amp; 24                       </td></tr>",
                            "<tr><td>2 05 06716 02 2000 000             </td><td>25 &amp; PT. 26                   </td></tr>",
                            "<tr><td>2 05 06716 02 2200 000             </td><td>27 &amp; PT. OF 26                </td></tr>",
                            "<tr><td>2 05 06716 02 2900 000             </td><td>18 &amp; PT. 17                   </td></tr>",
                            "<tr><td>2 05 06716 02 3000 000             </td><td>16 &amp; PT. 17                   </td></tr>",
                            "<tr><td>2 05 06716 02 4200 000             </td><td>30 &amp; PT. 31                   </td></tr>",
                            "<tr><td>2 05 06716 02 4300 000             </td><td>32 &amp; PT. 31                   </td></tr>",
                            "<tr><td>2 05 06716 02 4400 000             </td><td>35 &amp; PT. 34                   </td></tr>",
                            "<tr><td>2 05 06716 02 4500 000             </td><td>33 &amp; 1/2 OF 34                </td></tr>",
                            "<tr><td>2 05 06716 02 4600 000             </td><td>15 &amp; PT. 14                   </td></tr>",
                            "<tr><td>2 05 06716 02 4700 000             </td><td>PT. OF 13 &amp; 14                </td></tr>",
                            "<tr><td>2 05 06716 02 4800 000             </td><td>PT. 12 &amp; 13                   </td></tr>",
                            "<tr><td>2 05 06716 02 4900 000             </td><td>PT. 11 &amp; 12                   </td></tr>",
                            "<tr><td>2 05 06716 02 5000 000             </td><td>PT. OF 10 &amp; 11                </td></tr>",
                            "<tr><td>2 05 06716 02 5100 000             </td><td>9 &amp; PT. 10                    </td></tr>",
                            "<tr><td>2 05 06716 02 5200 000             </td><td>8 &amp; PT. OF 7                  </td></tr>",
                            "<tr><td>2 05 06716 02 5800 000             </td><td>2 &amp; PT. 3                     </td></tr>",
                            "<tr><td>2 05 06716 02 6000 000             </td><td>132 &amp; PT. 133                 </td></tr>",
                            "<tr><td>2 05 06716 02 6100 000             </td><td>PT 133 &amp; 134                  </td></tr>",
                            "<tr><td>2 05 06716 02 6200 000             </td><td>135 &amp; PT. 134                 </td></tr>",
                            "<tr><td>2 05 06716 02 6400 000             </td><td>PT. 138 &amp; 139                 </td></tr>",
                            "<tr><td>2 05 06716 02 6500 000             </td><td>140 &amp; 141                     </td></tr>",
                            "<tr><td>2 05 06716 02 6600 000             </td><td>102,103 &amp; PT. 139             </td></tr>",
                            "<tr><td>2 05 06716 02 6800 000             </td><td>143 &amp; S. 1/2 OF 144           </td></tr>",
                            "<tr><td>2 05 06716 02 6900 000             </td><td>145 &amp; PT. 144                 </td></tr>",
                            "<tr><td>2 05 06716 02 7100 000             </td><td>148 &amp; 149                     </td></tr>",
                            "<tr><td>2 05 06716 02 7200 000             </td><td>110 &amp; 111                     </td></tr>",
                            "<tr><td>2 05 06716 02 7400 000             </td><td>108 &amp; PT. 107                 </td></tr>",
                            "<tr><td>2 05 06716 02 7600 000             </td><td>104 &amp; PT. 105                 </td></tr>",
                            "<tr><td>2 05 06716 02 7800 000             </td><td>97, 98 &amp; PT. 96               </td></tr>",
                            "<tr><td>2 05 06716 02 7900 000             </td><td>94-95 &amp; PT. 96                </td></tr>",
                            "<tr><td>2 05 06716 02 8000 000             </td><td>57 &amp; 58                       </td></tr>",
                            "<tr><td>2 05 06716 02 8100 000             </td><td>59 &amp; 60                       </td></tr>",
                            "<tr><td>2 05 06716 02 9500 000             </td><td>26 &amp; PT. 25                   </td></tr>",
                            "<tr><td>2 05 06716 02 9600 000             </td><td>24 &amp; 1/2 OF 25                </td></tr>",
                            "<tr><td>2 05 06716 02 9700 000             </td><td>22 &amp; 23                       </td></tr>",
                            "<tr><td>2 05 06717 01 5900 000             </td><td>328 &amp; PT. 327                 </td></tr>",
                            "<tr><td>2 05 06717 01 6000 000             </td><td>326 &amp; PT. 327                 </td></tr>",
                            "<tr><td>2 05 06717 02 4200 000             </td><td>42 &amp; PT. OF 43                </td></tr>",
                            "<tr><td>2 05 06717 02 4400 000             </td><td>44 &amp; PT. OF 43                </td></tr>",
                            "<tr><td>2 05 06717 03 0501 000             </td><td>PT.OF 61 &amp; 62                 </td></tr>",
                            "<tr><td>2 05 06717 03 4300 000             </td><td>PT. OF 100 &amp; 102              </td></tr>",
                            "<tr><td>2 05 06718 01 7900 000             </td><td>4 &amp; 7                         </td></tr>",
                            "<tr><td>2 05 06718 03 8800 000             </td><td>117 &amp; PT. OF 116              </td></tr>",
                            "<tr><td>2 05 06719 02 0213 003             </td><td>UNIT C-1 &amp; C-2  25%           </td></tr>",
                            "<tr><td>2 05 06719 02 0242 000             </td><td>UNIT C-1 &amp; C-2  50 %          </td></tr>",
                            "<tr><td>2 05 06720 01 2300 000             </td><td>8, 9 &amp; 10                     </td></tr>",
                            "<tr><td>2 05 06720 02 1700 000             </td><td>6 &amp; 7                         </td></tr>",
                            "<tr><td>2 05 06720 02 1800 000             </td><td>8 &amp; 9                         </td></tr>",
                            "<tr><td>2 05 06720 02 5000 000             </td><td>122 &amp; 1/2 OF 123              </td></tr>",
                            "<tr><td>2 05 06720 02 5200 000             </td><td>126 &amp; PT. OF 125              </td></tr>",
                            "<tr><td>2 05 06720 02 6000 000             </td><td>88 &amp; PT. 87                   </td></tr>",
                            "<tr><td>2 05 06720 02 6100 000             </td><td>86 &amp; PT. 87                   </td></tr>",
                            "<tr><td>2 05 06720 02 6200 000             </td><td>84 &amp; 85                       </td></tr>",
                            "<tr><td>2 05 06720 02 6300 000             </td><td>PT. 47 &amp; 48                   </td></tr>",
                            "<tr><td>2 05 06720 02 6401 000             </td><td>PTS. 47,48,&amp;49                </td></tr>",
                            "<tr><td>2 05 06720 02 6600 000             </td><td>53 &amp; PT. 54                   </td></tr>",
                            "<tr><td>2 05 06720 02 6700 000             </td><td>55 &amp; PT. 54                   </td></tr>",
                            "<tr><td>2 05 06720 03 0400 000             </td><td>56 &amp; 58                       </td></tr>",
                            "<tr><td>2 05 06720 03 0600 000             </td><td>PT. 55 &amp; 57                   </td></tr>",
                            "<tr><td>2 05 06720 03 0700 000             </td><td>PT. 55 &amp; 57                   </td></tr>",
                            "<tr><td>2 05 06720 03 0800 000             </td><td>PT. 57 &amp; 55                   </td></tr>",
                            "<tr><td>2 05 06720 03 1500 000             </td><td>71 &amp; PT. 73                   </td></tr>",
                            "<tr><td>2 05 06720 03 1600 000             </td><td>75 &amp; PTS. 73 &amp; 77             </td></tr>",
                            "<tr><td>2 05 06720 03 1700 000             </td><td>PT. 77 &amp; 79                   </td></tr>",
                            "<tr><td>2 05 06720 03 1900 000             </td><td>179 &amp; PT. 180                 </td></tr>",
                            "<tr><td>2 05 06720 03 2000 000             </td><td>PT. 180 &amp; 181                 </td></tr>",
                            "<tr><td>2 05 06720 03 2100 000             </td><td>182 &amp; PT. 181                 </td></tr>",
                            "<tr><td>2 05 06720 03 2200 000             </td><td>154-159 &amp; 183-188             </td></tr>",
                            "<tr><td>2 05 06720 03 2300 000             </td><td>153 &amp; PT. 152                 </td></tr>",
                            "<tr><td>2 05 06720 03 2400 000             </td><td>151 &amp; PT. 150 &amp; 152           </td></tr>",
                            "<tr><td>2 05 06720 03 3400 000             </td><td>PT. 70 &amp; 72                   </td></tr>",
                            "<tr><td>2 05 06720 03 3800 000             </td><td>64 &amp; PT. 66                   </td></tr>",
                            "<tr><td>2 05 06720 03 4000 000             </td><td>60 &amp; PT. 62                   </td></tr>",
                            "<tr><td>2 05 06720 03 4100 000             </td><td>56 &amp; 58                       </td></tr>",
                            "<tr><td>2 05 06720 03 5900 000             </td><td>77 &amp; 79                       </td></tr>",
                            "<tr><td>2 05 06720 03 6600 000             </td><td>119 &amp; PT. 118                 </td></tr>",
                            "<tr><td>2 05 06720 03 6900 000             </td><td>83 &amp; PT. 82                   </td></tr>",
                            "<tr><td>2 05 06720 03 7000 000             </td><td>81 PT. 82 &amp; 80                </td></tr>",
                            "<tr><td>2 05 06720 03 7100 000             </td><td>79 &amp; PT. 80                   </td></tr>",
                            "<tr><td>2 05 06720 03 7200 000             </td><td>78 &amp; PT. OF 77                </td></tr>",
                            "<tr><td>2 05 06720 03 7300 000             </td><td>76 &amp; PT. 77                   </td></tr>",
                            "<tr><td>2 05 06720 03 7800 000             </td><td>76 &amp; 78                       </td></tr>",
                            "<tr><td>2 05 06720 03 7900 000             </td><td>72 &amp; 74                       </td></tr>",
                            "<tr><td>2 05 06720 03 8000 000             </td><td>70 &amp; PT. 68                   </td></tr>",
                            "<tr><td>2 05 06720 03 8100 000             </td><td>66 &amp; PT. 68                   </td></tr>",
                            "<tr><td>2 05 06720 04 0100 000             </td><td>PT. OF 37 &amp; 38                </td></tr>",
                            "<tr><td>2 05 06720 04 0200 000             </td><td>PT. 37 &amp; 38                   </td></tr>",
                            "<tr><td>2 05 06720 04 1200 000             </td><td>9 &amp; 10                        </td></tr>",
                            "<tr><td>2 05 06720 04 1300 000             </td><td>7 &amp; 8                         </td></tr>",
                            "<tr><td>2 05 06720 04 1400 000             </td><td>6 &amp; PT. 5                     </td></tr>",
                            "<tr><td>2 05 06720 04 1500 000             </td><td>PT. 5 &amp; PT. 4                 </td></tr>",
                            "<tr><td>2 05 06720 04 1600 000             </td><td>PT. 3 &amp; 4                     </td></tr>",
                            "<tr><td>2 05 06720 04 1700 000             </td><td>2 &amp; PT. 3                     </td></tr>",
                            "<tr><td>2 05 06809 01 3100 000             </td><td>A-8 &amp; PT. OF A-9              </td></tr>",
                            "<tr><td>2 05 06809 01 3200 000             </td><td>PT OF A-9 &amp; A-10              </td></tr>",
                            "<tr><td>2 05 06809 01 3201 000             </td><td>PT. OF A-9 &amp; A-10             </td></tr>",
                            "<tr><td>2 05 06810 03 2300 000             </td><td>23 &amp; PT. 22                   </td></tr>",
                            "<tr><td>2 05 06810 03 4200 000             </td><td>43 &amp; N. 3' OF 42              </td></tr>",
                            "<tr><td>2 05 06813 01 0500 000             </td><td>45 &amp; 57                       </td></tr>",
                            "<tr><td>2 05 06813 01 0900 000             </td><td>55 &amp; 56                       </td></tr>",
                            "<tr><td>2 05 06813 01 1000 000             </td><td>51 &amp; 52                       </td></tr>",
                            "<tr><td>2 05 06813 01 1200 000             </td><td>49 &amp; 50                       </td></tr>",
                            "<tr><td>2 05 06813 01 1300 000             </td><td>53 &amp; 54                       </td></tr>",
                            "<tr><td>2 05 06813 01 1500 000             </td><td>46 &amp; 47                       </td></tr>",
                            "<tr><td>2 05 06813 01 1800 000             </td><td>28 &amp; 1/2 OF 29                </td></tr>",
                            "<tr><td>2 05 06813 01 1900 000             </td><td>30 &amp; PT. 29                   </td></tr>",
                            "<tr><td>2 05 06813 01 2000 000             </td><td>31 &amp; PT. 32                   </td></tr>",
                            "<tr><td>2 05 06813 01 2200 000             </td><td>33 &amp; PT. OF 32 &amp; 34           </td></tr>",
                            "<tr><td>2 05 06813 01 2300 000             </td><td>PT. 34 &amp; 35                   </td></tr>",
                            "<tr><td>2 05 06813 01 2400 000             </td><td>36 &amp; PT. 35                   </td></tr>",
                            "<tr><td>2 05 06813 01 2500 000             </td><td>27 &amp; PT. 26                   </td></tr>",
                            "<tr><td>2 05 06813 01 2600 000             </td><td>25 &amp; PT. 26                   </td></tr>",
                            "<tr><td>2 05 06813 01 2700 000             </td><td>24 &amp; 17' OF 23                </td></tr>",
                            "<tr><td>2 05 06813 01 2800 000             </td><td>PT. 22 &amp; 23                   </td></tr>",
                            "<tr><td>2 05 06813 01 2900 000             </td><td>20,21 &amp; PT. OF 22             </td></tr>",
                            "<tr><td>2 05 06813 01 3400 000             </td><td>13 &amp; PT. 14                   </td></tr>",
                            "<tr><td>2 05 06813 01 3500 000             </td><td>PT. 14 &amp; 15                   </td></tr>",
                            "<tr><td>2 05 06813 01 3600 000             </td><td>16 &amp; PT. 15                   </td></tr>",
                            "<tr><td>2 05 06813 01 3900 000             </td><td>8 &amp; 9                         </td></tr>",
                            "<tr><td>2 05 06813 01 5800 000             </td><td>61 TO 66 &amp; 37 TO 44           </td></tr>",
                            "<tr><td>2 05 06814 03 5200 000             </td><td>PT. 23 &amp; 24                   </td></tr>",
                            "<tr><td>2 05 06814 03 5400 000             </td><td>PT. 22 &amp; 23                   </td></tr>",
                            "<tr><td>2 05 06814 03 5500 000             </td><td>PT. 20 &amp; 21                   </td></tr>",
                            "<tr><td>2 05 06814 03 5600 000             </td><td>PT. 20 &amp; 21                   </td></tr>",
                            "<tr><td>2 05 06814 03 6000 000             </td><td>PT. OF 3 &amp; 4                  </td></tr>",
                            "<tr><td>2 05 06814 03 6100 000             </td><td>1 &amp; 2                         </td></tr>",
                            "<tr><td>2 05 06817 01 1200 000             </td><td>24 &amp; PT. 25                   </td></tr>",
                            "<tr><td>2 05 06817 01 1300 000             </td><td>23 &amp; PT. 25                   </td></tr>",
                            "<tr><td>2 05 06817 01 1400 000             </td><td>26 &amp; 25' OF 27                </td></tr>",
                            "<tr><td>2 05 06817 01 1500 000             </td><td>28 &amp; PT. 27, 29               </td></tr>",
                            "<tr><td>2 05 06817 01 1600 000             </td><td>30 &amp; PT. 29                   </td></tr>",
                            "<tr><td>2 05 06817 01 1700 000             </td><td>31 &amp; PT. 32                   </td></tr>",
                            "<tr><td>2 05 06817 01 1800 000             </td><td>33 &amp; PT. 32                   </td></tr>",
                            "<tr><td>2 05 06817 01 1900 000             </td><td>14 &amp; PT. 15                   </td></tr>",
                            "<tr><td>2 05 06817 01 2000 000             </td><td>16 &amp; PT. 15                   </td></tr>",
                            "<tr><td>2 05 06817 01 2100 000             </td><td>17 &amp; PT. 18                   </td></tr>",
                            "<tr><td>2 05 06817 01 2200 000             </td><td>19 &amp; N. 25' 18                </td></tr>",
                            "<tr><td>2 05 06817 01 2300 000             </td><td>20 &amp; PT. 21                   </td></tr>",
                            "<tr><td>2 05 06817 01 2400 000             </td><td>22 &amp; PT. 21                   </td></tr>",
                            "<tr><td>2 05 06817 01 2500 000             </td><td>12 &amp; 13                       </td></tr>",
                            "<tr><td>2 05 06817 01 2600 000             </td><td>10 &amp; 11                       </td></tr>",
                            "<tr><td>2 05 06817 01 2700 000             </td><td>8 &amp; 9                         </td></tr>",
                            "<tr><td>2 05 06817 01 2800 000             </td><td>6 &amp; 7                         </td></tr>",
                            "<tr><td>2 05 06817 01 2900 000             </td><td>4 &amp; 5                         </td></tr>",
                            "<tr><td>2 05 06817 01 3000 000             </td><td>3 &amp; PT. 2                     </td></tr>",
                            "<tr><td>2 05 06817 01 3100 000             </td><td>1 &amp; PT. 2                     </td></tr>",
                            "<tr><td>2 05 06817 01 3300 000             </td><td>60, 62, 64 &amp; PT. 58           </td></tr>",
                            "<tr><td>2 05 06817 01 3400 000             </td><td>54, 56 &amp; PT. 52, 58           </td></tr>",
                            "<tr><td>2 05 06817 01 3500 000             </td><td>50 &amp; PT. 48 &amp; 52              </td></tr>",
                            "<tr><td>2 05 06817 01 3600 000             </td><td>44, 46 &amp; PT. 48               </td></tr>",
                            "<tr><td>2 05 06817 01 3700 000             </td><td>36, 38, 40, 42 &amp; PT. 3        </td></tr>",
                            "<tr><td>2 05 06817 01 3800 000             </td><td>32, PT. 30 &amp; 34               </td></tr>",
                            "<tr><td>2 05 06817 01 3900 000             </td><td>26 &amp; 28 &amp; PT. 24 &amp; 30         </td></tr>",
                            "<tr><td>2 05 06817 01 4000 000             </td><td>20,22 &amp; PT. 24                </td></tr>",
                            "<tr><td>2 05 06817 01 4100 000             </td><td>16 &amp; 18                       </td></tr>",
                            "<tr><td>2 05 06817 01 4200 000             </td><td>12 &amp; 14                       </td></tr>",
                            "<tr><td>2 05 06817 01 4300 000             </td><td>3 &amp; 4                         </td></tr>",
                            "<tr><td>2 05 06817 01 4600 000             </td><td>13, 15, 17 &amp; 19               </td></tr>",
                            "<tr><td>2 05 06817 01 4800 000             </td><td>29 &amp; 31                       </td></tr>",
                            "<tr><td>2 05 06817 01 4900 000             </td><td>33 &amp; 35                       </td></tr>",
                            "<tr><td>2 05 06817 01 5000 000             </td><td>37 &amp; 39                       </td></tr>",
                            "<tr><td>2 05 06817 01 5200 000             </td><td>45, 47, 49 &amp; PT. 51           </td></tr>",
                            "<tr><td>2 05 06817 01 5300 000             </td><td>53,55,57 &amp; E. 5' OF 51        </td></tr>",
                            "<tr><td>2 05 06817 01 5400 000             </td><td>59 &amp; 61                       </td></tr>",
                            "<tr><td>2 05 06817 01 5500 000             </td><td>63 &amp; 65                       </td></tr>",
                            "<tr><td>2 05 06817 01 5600 000             </td><td>24 &amp; PT. OF 23                </td></tr>",
                            "<tr><td>2 05 06817 01 7100 000             </td><td>1 &amp; PT. 2                     </td></tr>",
                            "<tr><td>2 05 06817 01 7200 000             </td><td>3 &amp; PT. 2                     </td></tr>",
                            "<tr><td>2 05 06817 02 3300 000             </td><td>59 &amp; PT. 57                   </td></tr>",
                            "<tr><td>2 05 06817 02 3400 000             </td><td>55 &amp; PT. 57                   </td></tr>",
                            "<tr><td>2 05 06817 02 5000 000             </td><td>50, 52 &amp; 54                   </td></tr>",
                            "<tr><td>2 05 06817 02 5200 000             </td><td>62 &amp; 64 &amp; 22' OF 66           </td></tr>",
                            "<tr><td>2 05 06817 02 5300 000             </td><td>68, 70 &amp; PT. 66               </td></tr>",
                            "<tr><td>2 05 06817 02 5400 000             </td><td>72 &amp; S. 1/2 OF 74             </td></tr>",
                            "<tr><td>2 05 06817 02 5500 000             </td><td>76 &amp; PT. 74                   </td></tr>",
                            "<tr><td>2 05 06817 02 5600 000             </td><td>78 &amp; 80                       </td></tr>",
                            "<tr><td>2 05 06817 02 5900 000             </td><td>7 &amp; 8                         </td></tr>",
                            "<tr><td>2 05 06817 02 6100 000             </td><td>4 &amp; PT. 5                     </td></tr>",
                            "<tr><td>2 05 06817 03 0600 000             </td><td>60 &amp; 62                       </td></tr>",
                            "<tr><td>2 05 06817 03 2800 000             </td><td>26, 27, 39 &amp; PT. 25           </td></tr>",
                            "<tr><td>2 05 06817 03 2900 000             </td><td>23 &amp; 24 PT. 22 &amp; 25           </td></tr>",
                            "<tr><td>2 05 06817 03 3000 000             </td><td>PT. 21 &amp; 22                   </td></tr>",
                            "<tr><td>2 05 06817 03 3100 000             </td><td>20 &amp; PT. 19 &amp; 21              </td></tr>",
                            "<tr><td>2 05 06817 03 3200 000             </td><td>PT. OF 18 &amp; 19                </td></tr>",
                            "<tr><td>2 05 06817 03 3500 000             </td><td>6 &amp; 7                         </td></tr>",
                            "<tr><td>2 05 06817 03 3600 000             </td><td>5 &amp; PT. 4                     </td></tr>",
                            "<tr><td>2 05 06817 03 3700 000             </td><td>3 &amp; PT. OF 4                  </td></tr>",
                            "<tr><td>2 05 06817 03 3800 000             </td><td>1 &amp; PT. OF 2                  </td></tr>",
                            "<tr><td>2 05 06817 03 3900 000             </td><td>9 &amp; 10                        </td></tr>",
                            "<tr><td>2 05 06817 03 4000 000             </td><td>11 &amp; PT. 12                   </td></tr>",
                            "<tr><td>2 05 06817 03 4100 000             </td><td>PT. 12 &amp; PT. 13               </td></tr>",
                            "<tr><td>2 05 06817 03 4300 000             </td><td>16 &amp; PT. 15                   </td></tr>",
                            "<tr><td>2 05 06817 03 4400 000             </td><td>28, 29 &amp; PT. 30               </td></tr>",
                            "<tr><td>2 05 06817 03 4500 000             </td><td>PT. 30 &amp; 31                   </td></tr>",
                            "<tr><td>2 05 06817 03 4600 000             </td><td>PT. 31 &amp; 32                   </td></tr>",
                            "<tr><td>2 05 06817 03 4700 000             </td><td>33 &amp; PT. 32                   </td></tr>",
                            "<tr><td>2 05 06817 03 4900 000             </td><td>36 PT. 35 &amp; 37                </td></tr>",
                            "<tr><td>2 05 06817 03 5000 000             </td><td>38 &amp; PT. 37                   </td></tr>",
                            "<tr><td>2 05 06817 03 5100 000             </td><td>9 &amp; 1/2 OF 8                  </td></tr>",
                            "<tr><td>2 05 06817 03 5200 000             </td><td>7 &amp; PT. 8                     </td></tr>",
                            "<tr><td>2 05 06817 03 5600 000             </td><td>2 &amp; 3                         </td></tr>",
                            "<tr><td>2 05 06818 01 1900 000             </td><td>1 &amp; 2                         </td></tr>",
                            "<tr><td>2 05 06818 01 2000 000             </td><td>3 &amp; 4                         </td></tr>",
                            "<tr><td>2 05 06818 01 2500 000             </td><td>10 &amp; 11                       </td></tr>",
                            "<tr><td>2 05 06818 01 2700 000             </td><td>13 &amp; 14                       </td></tr>",
                            "<tr><td>2 05 06818 01 3700 000             </td><td>19 &amp; 20                       </td></tr>",
                            "<tr><td>2 05 06818 01 3801 000             </td><td>8-9-10,23 &amp; PT. OF 7          </td></tr>",
                            "<tr><td>2 05 06818 01 4500 000             </td><td>71 &amp; PT. 70                   </td></tr>",
                            "<tr><td>2 05 06818 02 0300 000             </td><td>107 &amp; PT. 106                 </td></tr>",
                            "<tr><td>2 05 06818 02 0400 000             </td><td>105 &amp; PT. 106                 </td></tr>",
                            "<tr><td>2 05 06818 02 0500 000             </td><td>104 &amp; PT. OF 105              </td></tr>",
                            "<tr><td>2 05 06818 02 0700 000             </td><td>102 &amp; 10' 101                 </td></tr>",
                            "<tr><td>2 05 06818 02 0800 000             </td><td>PT. 100 &amp; 101                 </td></tr>",
                            "<tr><td>2 05 06818 02 0900 000             </td><td>PT. 99 &amp; 100                  </td></tr>",
                            "<tr><td>2 05 06818 02 1000 000             </td><td>PT. OF 97 &amp; 98                </td></tr>",
                            "<tr><td>2 05 06818 02 1700 000             </td><td>127 &amp; PT. 128                 </td></tr>",
                            "<tr><td>2 05 06818 02 1800 000             </td><td>PT. 128 &amp; 129                 </td></tr>",
                            "<tr><td>2 05 06818 02 1900 000             </td><td>130 &amp; PT. OF 129              </td></tr>",
                            "<tr><td>2 05 06818 02 3100 000             </td><td>178 &amp; PT. 177                 </td></tr>",
                            "<tr><td>2 05 06818 02 3200 000             </td><td>PT. OF 176 &amp; 177              </td></tr>",
                            "<tr><td>2 05 06818 02 3300 000             </td><td>175 &amp; 1/2 OF 176              </td></tr>",
                            "<tr><td>2 05 06818 02 3400 000             </td><td>174 &amp; PT. 175                 </td></tr>",
                            "<tr><td>2 05 06818 02 3500 000             </td><td>173 &amp; PT. 172                 </td></tr>",
                            "<tr><td>2 05 06818 02 3600 000             </td><td>PT. OF 171 &amp; 172              </td></tr>",
                            "<tr><td>2 05 06818 02 3700 000             </td><td>PT. 170 &amp; 171                 </td></tr>",
                            "<tr><td>2 05 06818 02 3800 000             </td><td>169 &amp; PT. 168 &amp; 170           </td></tr>",
                            "<tr><td>2 05 06818 02 3900 000             </td><td>PT. OF 167 &amp; 168              </td></tr>",
                            "<tr><td>2 05 06818 02 4000 000             </td><td>166 &amp; PT. OF 165 &amp; 167        </td></tr>",
                            "<tr><td>2 05 06818 02 4100 000             </td><td>PT. OF 165 &amp; 164              </td></tr>",
                            "<tr><td>2 05 06818 02 4200 000             </td><td>PT. 163 &amp; 164                 </td></tr>",
                            "<tr><td>2 05 06818 02 4300 000             </td><td>PT. 162 &amp; 163                 </td></tr>",
                            "<tr><td>2 05 06818 02 4400 000             </td><td>PT. 161 &amp; 162                 </td></tr>",
                            "<tr><td>2 05 06818 02 4600 000             </td><td>PT. 158 &amp; 159                 </td></tr>",
                            "<tr><td>2 05 06818 02 4700 000             </td><td>PT. OF 158 &amp; 157              </td></tr>",
                            "<tr><td>2 05 06818 02 4800 000             </td><td>PT. OF 156 &amp; 157              </td></tr>",
                            "<tr><td>2 05 06818 02 4900 000             </td><td>PT.OF 155 &amp; 156               </td></tr>",
                            "<tr><td>2 05 06818 02 5100 000             </td><td>PT.OF 153-A &amp; 153-B           </td></tr>",
                            "<tr><td>2 05 06818 02 5200 000             </td><td>152B &amp; PT. 153A               </td></tr>",
                            "<tr><td>2 05 06818 02 5700 000             </td><td>PT. OF 34 &amp; 35                </td></tr>",
                            "<tr><td>2 05 06818 02 5800 000             </td><td>PT. 34 &amp; 35                   </td></tr>",
                            "<tr><td>2 05 06818 02 6400 000             </td><td>28 &amp; 18' OF 27                </td></tr>",
                            "<tr><td>2 05 06818 02 6500 000             </td><td>PT. OF 26 &amp; 27                </td></tr>",
                            "<tr><td>2 05 06818 02 6600 000             </td><td>25 &amp; PT. OF 24 &amp; 26           </td></tr>",
                            "<tr><td>2 05 06818 02 6700 000             </td><td>PT. OF 23 &amp; 24                </td></tr>",
                            "<tr><td>2 05 06818 02 6800 000             </td><td>PT. OF 22 &amp; 23                </td></tr>",
                            "<tr><td>2 05 06818 02 7200 000             </td><td>PT. OF 20 &amp; 21                </td></tr>",
                            "<tr><td>2 05 06818 02 7300 000             </td><td>PT. OF 19 &amp; 20                </td></tr>",
                            "<tr><td>2 05 06818 02 7400 000             </td><td>18 &amp; PT. 19                   </td></tr>",
                            "<tr><td>2 05 06818 02 7600 000             </td><td>16 &amp; 17                       </td></tr>",
                            "<tr><td>2 05 06818 02 7700 000             </td><td>14 &amp; 15                       </td></tr>",
                            "<tr><td>2 05 06818 02 8100 000             </td><td>9 &amp; N. 1/2 OF 8               </td></tr>",
                            "<tr><td>2 05 06818 02 8200 000             </td><td>7 &amp; 1/2 OF 8                  </td></tr>",
                            "<tr><td>2 05 06818 02 8400 000             </td><td>4 &amp; 5                         </td></tr>",
                            "<tr><td>2 05 06818 03 0100 000             </td><td>7 &amp; 8                         </td></tr>",
                            "<tr><td>2 05 06818 03 0300 000             </td><td>10 &amp; 11                       </td></tr>",
                            "<tr><td>2 05 06818 03 0700 000             </td><td>17 &amp; 40' OF 18                </td></tr>",
                            "<tr><td>2 05 06818 03 2400 000             </td><td>36 &amp; PT. 35                   </td></tr>",
                            "<tr><td>2 05 06818 03 2700 000             </td><td>PT. 74 &amp; 75                   </td></tr>",
                            "<tr><td>2 05 06818 03 5100 000             </td><td>49 &amp; PT. 50                   </td></tr>",
                            "<tr><td>2 05 06818 03 5600 000             </td><td>44, 43, &amp; PT. 42              </td></tr>",
                            "<tr><td>2 05 06818 03 5800 000             </td><td>41 &amp; PT. 42                   </td></tr>",
                            "<tr><td>2 05 06818 03 5900 000             </td><td>40 &amp; PT. 39                   </td></tr>",
                            "<tr><td>2 05 06818 03 6000 000             </td><td>38 &amp; PT. 39                   </td></tr>",
                            "<tr><td>2 05 06818 03 6100 000             </td><td>1 &amp; PT. 2                     </td></tr>",
                            "<tr><td>2 05 06818 03 6200 000             </td><td>3 &amp; PT. 2                     </td></tr>",
                            "<tr><td>2 05 06818 03 6700 000             </td><td>32 &amp; PTS. OF 31 &amp; 33          </td></tr>",
                            "<tr><td>2 05 06818 03 6800 000             </td><td>PT. OF 33 &amp; 34                </td></tr>",
                            "<tr><td>2 05 06818 03 6900 000             </td><td>35 &amp; PT 34                    </td></tr>",
                            "<tr><td>2 05 06818 04 0400 000             </td><td>7 &amp; 1/2 OF 8                  </td></tr>",
                            "<tr><td>2 05 06818 04 0500 000             </td><td>9 &amp; PT. OF 8                  </td></tr>",
                            "<tr><td>2 05 06818 04 1000 000             </td><td>15 &amp; PT. 14                   </td></tr>",
                            "<tr><td>2 05 06818 04 1400 000             </td><td>20 &amp; 21 &amp; PT. 19              </td></tr>",
                            "<tr><td>2 05 06818 04 1700 000             </td><td>PT. 17 &amp; 18                   </td></tr>",
                            "<tr><td>2 05 06818 04 1800 000             </td><td>PT. 18 &amp; 19                   </td></tr>",
                            "<tr><td>2 05 06818 04 2000 000             </td><td>PT. 19 &amp; 20                   </td></tr>",
                            "<tr><td>2 05 06818 04 2400 000             </td><td>PT. 22 &amp; 21                   </td></tr>",
                            "<tr><td>2 05 06818 04 2600 000             </td><td>PT. 22 &amp; 23                   </td></tr>",
                            "<tr><td>2 05 06818 04 2700 000             </td><td>PT.23 &amp; 24                    </td></tr>",
                            "<tr><td>2 05 06818 04 3400 000             </td><td>39 &amp; 40                       </td></tr>",
                            "<tr><td>2 05 06818 04 4600 000             </td><td>41 &amp; 42                       </td></tr>",
                            "<tr><td>2 05 06818 04 4800 000             </td><td>38 &amp; 39                       </td></tr>",
                            "<tr><td>2 05 06818 04 5000 000             </td><td>1 &amp; 2                         </td></tr>",
                            "<tr><td>2 05 06818 04 5500 000             </td><td>149 &amp; PT. 148                 </td></tr>",
                            "<tr><td>2 05 06818 04 5700 000             </td><td>146 &amp; 147                     </td></tr>",
                            "<tr><td>2 05 06818 04 5800 000             </td><td>144 &amp; 146                     </td></tr>",
                            "<tr><td>2 05 06818 05 0800 000             </td><td>PTS. 34 &amp; 35                  </td></tr>",
                            "<tr><td>2 05 06818 05 0801 000             </td><td>PTS. 34&amp;35                    </td></tr>",
                            "<tr><td>2 05 06818 05 1200 000             </td><td>27 &amp; 28                       </td></tr>",
                            "<tr><td>2 05 06818 05 2400 000             </td><td>PT. OF 46 &amp; 47                </td></tr>",
                            "<tr><td>2 05 06818 05 2500 000             </td><td>PT. OF 46 &amp; 47                </td></tr>",
                            "<tr><td>2 05 06818 05 3800 000             </td><td>55 &amp; PT 54                    </td></tr>",
                            "<tr><td>2 05 06818 05 3900 000             </td><td>53 &amp; PT. 54                   </td></tr>",
                            "<tr><td>2 05 06818 05 4200 000             </td><td>82 &amp; 25' OF 83                </td></tr>",
                            "<tr><td>2 05 06818 05 4300 000             </td><td>84 &amp; PT. OF 83                </td></tr>",
                            "<tr><td>2 05 06818 05 4400 000             </td><td>85 &amp; PT. 86                   </td></tr>",
                            "<tr><td>2 05 06818 05 4500 000             </td><td>PT. 86 &amp; 87                   </td></tr>",
                            "<tr><td>2 05 06818 05 4600 000             </td><td>PT. 87 &amp; 88                   </td></tr>",
                            "<tr><td>2 05 06818 05 4700 000             </td><td>90 &amp; PT. 89                   </td></tr>",
                            "<tr><td>2 05 06818 05 5400 000             </td><td>121 &amp; PT. 120                 </td></tr>",
                            "<tr><td>2 05 06818 05 5500 000             </td><td>119 &amp; PT. 120                 </td></tr>",
                            "<tr><td>2 05 06818 05 5600 000             </td><td>118 &amp; PT. 117                 </td></tr>",
                            "<tr><td>2 05 06818 05 5700 000             </td><td>116 &amp; 1/2 OF 117              </td></tr>",
                            "<tr><td>2 05 06818 05 5800 000             </td><td>115 &amp; PT. 114                 </td></tr>",
                            "<tr><td>2 05 06818 05 5900 000             </td><td>113 &amp; 1/2 OF 114              </td></tr>",
                            "<tr><td>2 05 06818 05 6000 000             </td><td>112 &amp; PT. OF 111              </td></tr>",
                            "<tr><td>2 05 06818 05 6100 000             </td><td>110 &amp; 1/2 OF 111              </td></tr>",
                            "<tr><td>2 05 06818 05 6600 000             </td><td>138 &amp; PTS. 139                </td></tr>",
                            "<tr><td>2 05 06818 05 6700 000             </td><td>140 &amp; 1/2 OF 139              </td></tr>",
                            "<tr><td>2 05 06818 05 6900 000             </td><td>144 &amp; PT. 145 &amp; 143           </td></tr>",
                            "<tr><td>2 05 06818 05 7000 000             </td><td>146 &amp; 25' OF 145              </td></tr>",
                            "<tr><td>2 05 06818 05 7100 000             </td><td>147 &amp; PT. 148                 </td></tr>",
                            "<tr><td>2 05 06818 05 7200 000             </td><td>149 &amp; PT. 148 &amp; 150           </td></tr>",
                            "<tr><td>2 05 06819 01 0200 000             </td><td>22 &amp; 23                       </td></tr>",
                            "<tr><td>2 05 06819 01 0900 000             </td><td>15 &amp; PT. 14                   </td></tr>",
                            "<tr><td>2 05 06819 01 1300 000             </td><td>4 &amp; 5                         </td></tr>",
                            "<tr><td>2 05 06819 01 2500 000             </td><td>4 &amp; PT. OF 3                  </td></tr>",
                            "<tr><td>2 05 07605 01 0400 000             </td><td>3 &amp; PT. 2                     </td></tr>",
                            "<tr><td>2 05 07605 01 0600 000             </td><td>5, 6 &amp; PT. 7                  </td></tr>",
                            "<tr><td>2 05 07605 01 0700 000             </td><td>8 &amp; 9 &amp; E. 1/2 OF 7           </td></tr>",
                            "<tr><td>2 05 07605 01 0900 000             </td><td>10 &amp; 11                       </td></tr>",
                            "<tr><td>2 05 07605 02 4800 000             </td><td>314 &amp; PT. OF 315              </td></tr>",
                            "<tr><td>2 05 07606 01 0100 131             </td><td>131 &amp; 133                     </td></tr>",
                            "<tr><td>2 05 07606 01 0100 321             </td><td>321 &amp; 323-.11                 </td></tr>",
                            "<tr><td>2 05 07606 01 0100 331             </td><td>331 &amp; 333                     </td></tr>",
                            "<tr><td>2 05 07606 01 1000 000             </td><td>131 &amp; 133                     </td></tr>",
                            "<tr><td>2 05 07606 01 2800 000             </td><td>321 &amp; 323-.11                 </td></tr>",
                            "<tr><td>2 05 07606 01 3100 000             </td><td>331 &amp; 333                     </td></tr>",
                            "<tr><td>2 05 07606 02 0100 131             </td><td>131 &amp; 133                     </td></tr>",
                            "<tr><td>2 05 07606 02 0100 321             </td><td>321 &amp; 323-.11                 </td></tr>",
                            "<tr><td>2 05 07606 02 0100 331             </td><td>331 &amp; 333                     </td></tr>",
                            "<tr><td>2 05 07606 06 6600 000             </td><td>C &amp; D                         </td></tr>",
                            "<tr><td>2 05 07607 01 4100 000             </td><td>19 &amp; PT. 20                   </td></tr>",
                            "<tr><td>2 05 07607 01 4200 000             </td><td>21 &amp; PT. 20                   </td></tr>",
                            "<tr><td>2 05 07607 01 4700 000             </td><td>PT. 25 &amp; 26                   </td></tr>",
                            "<tr><td>2 05 07607 01 6100 000             </td><td>45 &amp; 46                       </td></tr>",
                            "<tr><td>2 05 07607 01 6200 000             </td><td>8 &amp; 9                         </td></tr>",
                            "<tr><td>2 05 07608 01 0400 000             </td><td>PTS. 46, 48, 50, 52 &amp;         </td></tr>",
                            "<tr><td>2 05 07608 02 0100 000             </td><td>35 &amp; &amp;T. 37                   </td></tr>",
                            "<tr><td>2 05 07608 02 0200 000             </td><td>37 &amp; PT 39                    </td></tr>",
                            "<tr><td>2 05 07608 02 0203 000             </td><td>41 &amp; PT.43                    </td></tr>",
                            "<tr><td>2 05 07608 02 0300 000             </td><td>PT. 43 &amp; 45                   </td></tr>",
                            "<tr><td>2 05 07608 02 0400 000             </td><td>47 &amp; PT. 45 &amp; 49              </td></tr>",
                            "<tr><td>2 05 07608 02 0500 000             </td><td>PT OF LOTS 49 &amp; 51            </td></tr>",
                            "<tr><td>2 05 07608 02 0501 000             </td><td>PT OF LOTS 49 &amp; 51            </td></tr>",
                            "<tr><td>2 05 07608 02 0700 000             </td><td>54 &amp; PT. 52                   </td></tr>",
                            "<tr><td>2 05 07608 02 0800 000             </td><td>PT.LOT 50 &amp; 52                </td></tr>",
                            "<tr><td>2 05 07608 02 0801 000             </td><td>PT. LOTS 50 &amp; 48              </td></tr>",
                            "<tr><td>2 05 07608 02 0802 000             </td><td>PT.LOTS 46 &amp; 48               </td></tr>",
                            "<tr><td>2 05 07608 02 1001 000             </td><td>PT. 42 &amp; 44                   </td></tr>",
                            "<tr><td>2 05 07608 02 1004 000             </td><td>PT. OF 44 &amp; 46                </td></tr>",
                            "<tr><td>2 05 07608 02 1200 000             </td><td>PT. 38 &amp; 40                   </td></tr>",
                            "<tr><td>2 05 07608 02 1400 000             </td><td>PT. 36 &amp; 38                   </td></tr>",
                            "<tr><td>2 05 07608 02 1700 000             </td><td>PT. 35 &amp; 37                   </td></tr>",
                            "<tr><td>2 05 07608 02 1800 000             </td><td>39 &amp; PT. 37 &amp; 41              </td></tr>",
                            "<tr><td>2 05 07608 02 1900 000             </td><td>PT. 41 &amp; 43                   </td></tr>",
                            "<tr><td>2 05 07608 02 2000 000</td><td>PT. 43 &amp; 45                   </td></tr>",
                            "<tr><td>2 05 07608 02 2100 000             </td><td>PT. 45 &amp; 47                   </td></tr>",
                            "<tr><td>2 05 07608 02 2500 000             </td><td>PT. 48 &amp; 50                   </td></tr>",
                            "<tr><td>2 05 07608 02 2600 000             </td><td>PT. 48 &amp; 46                   </td></tr>",
                            "<tr><td>2 05 07608 02 2700 000             </td><td>PT. 44 &amp; 46                   </td></tr>",
                            "<tr><td>2 05 07608 02 2800 000             </td><td>PT. 42 &amp; 44                   </td></tr>",
                            "<tr><td>2 05 07608 02 2900 000             </td><td>PT. 40 &amp; 42                   </td></tr>",
                            "<tr><td>2 05 07608 02 3000 000             </td><td>36, 38 &amp; PT. 40               </td></tr>",
                            "<tr><td>2 05 07608 02 3900 000             </td><td>51 &amp; 53                       </td></tr>",
                            "<tr><td>2 05 07608 02 5300 000             </td><td>PT. 35 &amp; 37                   </td></tr>",
                            "<tr><td>2 05 07608 02 5400 000             </td><td>PT. 35 &amp; 37                   </td></tr>",
                            "<tr><td>2 05 07608 02 5500 000             </td><td>PT. 35 &amp; 37                   </td></tr>",
                            "<tr><td>2 05 07608 02 5600 000             </td><td>PT. 35 &amp; 37                   </td></tr>",
                            "<tr><td>2 05 07608 02 5700 000             </td><td>PT. 35 &amp; 37                   </td></tr>",
                            "<tr><td>2 05 07608 02 5900 000             </td><td>PT. 39 &amp; 41                   </td></tr>",
                            "<tr><td>2 05 07608 02 6000 000             </td><td>PT. 41 &amp; 43                   </td></tr>",
                            "<tr><td>2 05 07608 02 7400 000             </td><td>44 &amp; PT. 46                   </td></tr>",
                            "<tr><td>2 05 07608 02 7600 000             </td><td>PT. 40 &amp; 42                   </td></tr>",
                            "<tr><td>2 05 07608 03 0200 000             </td><td>PT. 21 &amp; 23                   </td></tr>",
                            "<tr><td>2 05 07608 03 1300 000             </td><td>PT. 24 &amp; 26                   </td></tr>",
                            "<tr><td>2 05 07608 03 1400 000             </td><td>PT. 22 &amp; 24                   </td></tr>",
                            "<tr><td>2 05 07608 03 1700 000             </td><td>21, 20 &amp; 19                   </td></tr>",
                            "<tr><td>2 05 07608 03 2400 000             </td><td>11 &amp; 12                       </td></tr>",
                            "<tr><td>2 05 07608 03 3200 000             </td><td>8 &amp; 9                         </td></tr>",
                            "<tr><td>2 05 07608 03 4100 000             </td><td>5-7 &amp; PT. 4 &amp; 8               </td></tr>",
                            "<tr><td>2 05 07608 03 5100 000             </td><td>PT. 26 &amp; 28                   </td></tr>",
                            "<tr><td>2 05 07608 03 5300 000             </td><td>24 &amp; PT. 26                   </td></tr>",
                            "<tr><td>2 05 07608 04 0100 000             </td><td>1-6 &amp; 10                      </td></tr>",
                            "<tr><td>2 05 07608 04 0300 000             </td><td>14, 16, 18 &amp; 20               </td></tr>",
                            "<tr><td>2 05 07608 04 0400 000             </td><td>22 &amp; 24                       </td></tr>",
                            "<tr><td>2 05 07608 04 0600 000             </td><td>28 &amp; 29                       </td></tr>",
                            "<tr><td>2 05 07608 04 1100 000             </td><td>34 &amp; 35                       </td></tr>",
                            "<tr><td>2 05 07608 04 1400 000             </td><td>23 &amp; 25                       </td></tr>",
                            "<tr><td>2 05 07608 04 1800 000             </td><td>15 &amp; PT. 13                   </td></tr>",
                            "<tr><td>2 05 07608 04 1900 000             </td><td>PT. 13 &amp; 11                   </td></tr>",
                            "<tr><td>2 05 07608 04 2700 000             </td><td>PT. 1,3,5,7,&amp;9                </td></tr>",
                            "<tr><td>2 05 07608 04 2800 000             </td><td>PT. 1, 3, 5, &amp; 7              </td></tr>",
                            "<tr><td>2 05 07608 04 3200 000             </td><td>PT. 7 &amp; 9                     </td></tr>",
                            "<tr><td>2 05 07608 04 3300 000             </td><td>PT. 9 &amp; 11                    </td></tr>",
                            "<tr><td>2 05 07608 04 3500 000             </td><td>PT. 11 &amp; 13                   </td></tr>",
                            "<tr><td>2 05 07608 04 3800 000             </td><td>PT. 17 &amp; 19                   </td></tr>",
                            "<tr><td>2 05 07608 04 3900 000             </td><td>PT. 17 &amp; 19                   </td></tr>",
                            "<tr><td>2 05 07608 04 4000 000             </td><td>PT. 17 &amp; 19                   </td></tr>",
                            "<tr><td>2 05 07608 04 4100 000             </td><td>PT. 17 &amp; 19                   </td></tr>",
                            "<tr><td>2 05 07608 04 4300 000             </td><td>PT. 17 &amp; 19                   </td></tr>",
                            "<tr><td>2 05 07608 04 4600 000             </td><td>16 &amp; PT. 18                   </td></tr>",
                            "<tr><td>2 05 07608 04 4700 000             </td><td>16 &amp; PT. 18                   </td></tr>",
                            "<tr><td>2 05 07608 04 5200 000             </td><td>PT. 2, 4, 6 &amp; 8               </td></tr>",
                            "<tr><td>2 05 07608 04 5300 000             </td><td>PT. 2, 4, 6 &amp; 8               </td></tr>",
                            "<tr><td>2 05 07608 04 5500 000             </td><td>PT. 2, 4, 6 &amp; 8               </td></tr>",
                            "<tr><td>2 05 07608 05 0100 000             </td><td>PT. 1, 3 &amp; 5                  </td></tr>",
                            "<tr><td>2 05 07608 05 0200 000             </td><td>PT. 1, 3 &amp; 5                  </td></tr>",
                            "<tr><td>2 05 07608 05 0300 000             </td><td>PT. 1, 3 &amp; 5                  </td></tr>",
                            "<tr><td>2 05 07608 05 0400 000             </td><td>PT. 5 &amp; 7                     </td></tr>",
                            "<tr><td>2 05 07608 05 0900 000             </td><td>13 &amp; 15                       </td></tr>",
                            "<tr><td>2 05 07608 05 1000 000             </td><td>17 &amp; PT. 19                   </td></tr>",
                            "<tr><td>2 05 07608 05 1800 000             </td><td>PT. 12 &amp; 14                   </td></tr>",
                            "<tr><td>2 05 07608 05 2400 000             </td><td>PT. 2, 4 &amp; 6                  </td></tr>",
                            "<tr><td>2 05 07608 05 2500 000             </td><td>PT. 2,4 &amp; 6                   </td></tr>",
                            "<tr><td>2 05 07608 05 2600 000             </td><td>PT. 2,4 &amp; 6                   </td></tr>",
                            "<tr><td>2 05 07608 05 2700 000             </td><td>PT. 2,4 &amp; 6                   </td></tr>",
                            "<tr><td>2 05 07608 05 3900 000             </td><td>PT. 17 &amp; 19                   </td></tr>",
                            "<tr><td>2 05 07608 05 4100 000             </td><td>PT. 17 &amp; 19                   </td></tr>",
                            "<tr><td>2 05 07608 05 4100 001             </td><td>PT. 17 &amp; 19                   </td></tr>",
                            "<tr><td>2 05 07608 05 4500 000             </td><td>PT. 16 &amp; 18                   </td></tr>",
                            "<tr><td>2 05 07608 05 4600 000             </td><td>PT. 14 &amp; 16                   </td></tr>",
                            "<tr><td>2 05 07608 05 5000 000             </td><td>PT. 8 &amp; 10                    </td></tr>",
                            "<tr><td>2 05 07608 05 5200 000             </td><td>PT. 6 &amp; 8                     </td></tr>",
                            "<tr><td>2 05 07608 05 6800 000             </td><td>36 &amp; 37                       </td></tr>",
                            "<tr><td>2 05 07608 05 8200 000             </td><td>PT. 32 &amp; 33                   </td></tr>",
                            "<tr><td>2 05 07608 06 0500 000             </td><td>84,85,86,87 &amp; PT OF 83 &amp; 88   </td></tr>",
                            "<tr><td>2 05 07608 06 0800 000             </td><td>PT. 88 &amp; 89                   </td></tr>",
                            "<tr><td>2 05 07608 06 1200 000             </td><td>PT. 67 &amp; 68                   </td></tr>",
                            "<tr><td>2 05 07608 06 1300 000             </td><td>68 &amp; 69                       </td></tr>",
                            "<tr><td>2 05 07608 06 1500 000             </td><td>65 &amp; 66                       </td></tr>",
                            "<tr><td>2 05 07608 06 2200 000             </td><td>PT. 37 &amp; 38                   </td></tr>",
                            "<tr><td>2 05 07608 06 2400 000             </td><td>PT. 38 &amp; 39                   </td></tr>",
                            "<tr><td>2 05 07608 06 2500 000</td><td>PT. 39 &amp; 40                   </td></tr>",
                            "<tr><td>2 05 07608 06 2700 000             </td><td>41 &amp; PT. 40                   </td></tr>",
                            "<tr><td>2 05 07608 06 3000 000             </td><td>PT. 42 &amp; 43                   </td></tr>",
                            "<tr><td>2 05 07608 06 3400 000             </td><td>PT.OF 45 &amp; 46                 </td></tr>",
                            "<tr><td>2 05 07608 06 4600 000             </td><td>PT. 22 &amp; 21                   </td></tr>",
                            "<tr><td>2 05 07608 06 4900 000             </td><td>20 &amp; PT. 21                   </td></tr>",
                            "<tr><td>2 05 07608 06 5100 000             </td><td>PT. 17 &amp; 18                   </td></tr>",
                            "<tr><td>2 05 07608 06 5200 000             </td><td>PT. 16 &amp; 17                   </td></tr>",
                            "<tr><td>2 05 07610 01 0100 000             </td><td>66 &amp; 67 &amp; 39                  </td></tr>",
                            "<tr><td>2 05 07610 01 0200 000             </td><td>38 &amp; 65                       </td></tr>",
                            "<tr><td>2 05 07610 01 0300 000             </td><td>64 &amp; 38                       </td></tr>",
                            "<tr><td>2 05 07610 01 4800 000             </td><td>8-9 &amp; PT. 10 &amp; 29             </td></tr>",
                            "<tr><td>2 05 07610 01 4900 000             </td><td>6 &amp; 7                         </td></tr>",
                            "<tr><td>2 05 07610 01 5100 000             </td><td>4 &amp; PT. 3                     </td></tr>",
                            "<tr><td>2 05 07610 01 5700 000             </td><td>1/2 #36 &amp; E. 25' #37          </td></tr>",
                            "<tr><td>2 05 07610 01 5800 000             </td><td>48 &amp; 49                       </td></tr>",
                            "<tr><td>2 05 07610 02 1200 000             </td><td>15,16,17 &amp; PT. 13             </td></tr>",
                            "<tr><td>2 05 07610 02 1400 000             </td><td>22-23-24-25-26 &amp; PT.OF 27     </td></tr>",
                            "<tr><td>2 05 07610 02 5500 000             </td><td>14 &amp; 15                       </td></tr>",
                            "<tr><td>2 05 07610 02 6100 000             </td><td>5 &amp; 6                         </td></tr>",
                            "<tr><td>2 05 07611 01 0600 000             </td><td>2 &amp; PT. OF 1                  </td></tr>",
                            "<tr><td>2 05 07611 01 1100 000             </td><td>10 &amp; 11 &amp; PT. 9               </td></tr>",
                            "<tr><td>2 05 07611 01 3300 000             </td><td>15' OF 26 &amp; ALL OF 27         </td></tr>",
                            "<tr><td>2 05 07611 01 3400 000             </td><td>PT. 25 &amp; 26                   </td></tr>",
                            "<tr><td>2 05 07611 01 3500 000             </td><td>24 &amp; 17.5' 25                 </td></tr>",
                            "<tr><td>2 05 07611 01 3700 000             </td><td>36 &amp; 37                       </td></tr>",
                            "<tr><td>2 05 07611 02 2300 000             </td><td>22 &amp; 23                       </td></tr>",
                            "<tr><td>2 05 07611 02 6400 000             </td><td>PT. 5 &amp; 6                     </td></tr>",
                            "<tr><td>2 05 07612 02 1100 000             </td><td>6 &amp; 7                         </td></tr>",
                            "<tr><td>2 05 07612 02 1300 000             </td><td>10 &amp; 11                       </td></tr>",
                            "<tr><td>2 05 07612 02 1900 000             </td><td>29 &amp; 30                       </td></tr>",
                            "<tr><td>2 05 07612 02 2000 000             </td><td>27 &amp; 28                       </td></tr>",
                            "<tr><td>2 05 07612 02 2100 000             </td><td>25 &amp; 26                       </td></tr>",
                            "<tr><td>2 05 07612 02 2400 000             </td><td>21 &amp; 22                       </td></tr>",
                            "<tr><td>2 05 07612 02 2500 000             </td><td>19 &amp; 20                       </td></tr>",
                            "<tr><td>2 05 07612 02 2600 000             </td><td>35 &amp; 36                       </td></tr>",
                            "<tr><td>2 05 07612 02 3000 000             </td><td>45 &amp; 46                       </td></tr>",
                            "<tr><td>2 05 07612 02 5200 000             </td><td>5 &amp; 6                         </td></tr>",
                            "<tr><td>2 05 07612 02 5700 000             </td><td>PT. 29 &amp; 30                   </td></tr>",
                            "<tr><td>2 05 07612 02 5800 000             </td><td>30 &amp; PT. 29                   </td></tr>",
                            "<tr><td>2 05 07612 02 6600 000             </td><td>13 &amp; PT. 14                   </td></tr>",
                            "<tr><td>2 05 07612 02 7100 000             </td><td>7 &amp; 8                         </td></tr>",
                            "<tr><td>2 05 07612 02 7400 000             </td><td>1 &amp; PT. 2                     </td></tr>",
                            "<tr><td>2 05 07612 03 2600 000             </td><td>PT. 63 &amp; 64                   </td></tr>",
                            "<tr><td>2 05 07612 03 3000 000             </td><td>60 &amp; PT. 59                   </td></tr>",
                            "<tr><td>2 05 07612 03 3500 000             </td><td>19 &amp; PT. 20                   </td></tr>",
                            "<tr><td>2 05 07612 03 3600 000             </td><td>PT. 20 &amp; 21                   </td></tr>",
                            "<tr><td>2 05 07612 03 3700 000             </td><td>22 &amp; PT. 21 &amp; 23              </td></tr>",
                            "<tr><td>2 05 07612 03 3900 000             </td><td>23 &amp; 24                       </td></tr>",
                            "<tr><td>2 05 07612 03 4200 000             </td><td>26 &amp; PT. 25                   </td></tr>",
                            "<tr><td>2 05 07612 03 4300 000             </td><td>27 &amp; PT. 28                   </td></tr>",
                            "<tr><td>2 05 07612 03 4400 000             </td><td>PT. 28 &amp; 29                   </td></tr>",
                            "<tr><td>2 05 07612 03 4500 000             </td><td>30 &amp; PT. 29                   </td></tr>",
                            "<tr><td>2 05 07612 03 4600 000             </td><td>8 &amp; PT. 9                     </td></tr>",
                            "<tr><td>2 05 07612 03 4602 000             </td><td>10 &amp; PT. 9                    </td></tr>",
                            "<tr><td>2 05 07612 03 4800 000             </td><td>13 &amp; 14                       </td></tr>",
                            "<tr><td>2 05 07612 03 4900 000             </td><td>40 &amp; 54                       </td></tr>",
                            "<tr><td>2 05 07612 03 5000 000             </td><td>6 &amp; 7                         </td></tr>",
                            "<tr><td>2 05 07612 03 5200 000             </td><td>3-A &amp; 4                       </td></tr>",
                            "<tr><td>2 05 07612 03 5600 000             </td><td>14 &amp; 15                       </td></tr>",
                            "<tr><td>2 05 07612 03 6100 000             </td><td>4 &amp; PT. OF 3                  </td></tr>",
                            "<tr><td>2 05 07614 02 0100 000             </td><td>PT. 12 &amp; 13                   </td></tr>",
                            "<tr><td>2 05 07620 02 0101 000             </td><td>6 &amp; 7                         </td></tr>",
                            "<tr><td>2 05 07620 03 2600 000             </td><td>17 &amp; PT. OF 18                </td></tr>",
                            "<tr><td>2 05 07620 03 3100 000             </td><td>PT. 18 &amp; 19                   </td></tr>",
                            "<tr><td>2 05 07620 03 3101 000             </td><td>PT. OF 19 &amp; 20                </td></tr>",
                            "<tr><td>2 05 07620 03 3700 000             </td><td>7 &amp; PT. 9                     </td></tr>",
                            "<tr><td>2 05 07620 03 3900 000             </td><td>8 &amp; 9                         </td></tr>",
                            "<tr><td>2 05 07620 03 5200 000             </td><td>21 &amp; PT. OF 20                </td></tr>",
                            "<tr><td>2 05 07705 01 1400 000             </td><td>PT. 1, 3, &amp; 5                 </td></tr>",
                            "<tr><td>2 05 07705 01 3900 000             </td><td>8 &amp; PT. 22                    </td></tr>",
                            "<tr><td>2 05 07705 01 4000 000             </td><td>9 &amp; 23                        </td></tr>",
                            "<tr><td>2 05 07705 01 4200 000             </td><td>11 &amp; 25                       </td></tr>",
                            "<tr><td>2 05 07705 01 4300 000             </td><td>12 &amp; PT. 26                   </td></tr>",
                            "<tr><td>2 05 07705 01 5300 000             </td><td>PT. OF 1 &amp; PT. OF 15          </td></tr>",
                            "<tr><td>2 05 07705 01 5400 000             </td><td>PT. OF 1 &amp; PT. OF 15          </td></tr>",
                            "<tr><td>2 05 07705 02 0900 000             </td><td>41 &amp; PT. 42                   </td></tr>",
                            "<tr><td>2 05 07705 02 1200 000             </td><td>PT. 50 &amp; 51                   </td></tr>",
                            "<tr><td>2 05 07705 02 1300 000             </td><td>PT. 50 &amp; 51                   </td></tr>",
                            "<tr><td>2 05 07705 02 1400 000             </td><td>PT. 36,37 50 &amp; 51             </td></tr>",
                            "<tr><td>2 05 07705 02 1800 000             </td><td>PT. 34 &amp; 35                   </td></tr>",
                            "<tr><td>2 05 07705 02 1900 000             </td><td>PT. 34 &amp; 35                   </td></tr>",
                            "<tr><td>2 05 07705 02 2000 000             </td><td>PT. 34, 35 &amp; 47-49            </td></tr>",
                            "<tr><td>2 05 07705 02 2100 000             </td><td>PT. 33 &amp; 34                   </td></tr>",
                            "<tr><td>2 05 07705 02 2200 000             </td><td>PT. 32 &amp; 33                   </td></tr>",
                            "<tr><td>2 05 07705 02 2400 000             </td><td>PT. OF 31 &amp; 32                </td></tr>",
                            "<tr><td>2 05 07705 02 2500 000             </td><td>PT. 30 &amp; 31                   </td></tr>",
                            "<tr><td>2 05 07705 02 2600 000             </td><td>PT. 29 &amp; 30                   </td></tr>",
                            "<tr><td>2 05 07705 02 2800 000             </td><td>PT. 43, 44 &amp; 45               </td></tr>",
                            "<tr><td>2 05 07705 02 2900 000             </td><td>PT. 43 &amp; 44                   </td></tr>",
                            "<tr><td>2 05 07705 02 3100 000             </td><td>46 &amp; PT. 45 &amp; 44              </td></tr>",
                            "<tr><td>2 05 07705 02 3500 000             </td><td>PT. 17 &amp; 18                   </td></tr>",
                            "<tr><td>2 05 07705 02 3600 000             </td><td>PT. 18 &amp; 19                   </td></tr>",
                            "<tr><td>2 05 07705 02 4000 000             </td><td>21 &amp; PT. 22                   </td></tr>",
                            "<tr><td>2 05 07705 02 4200 000             </td><td>43 &amp; PT. 45                   </td></tr>",
                            "<tr><td>2 05 07705 02 4300 000             </td><td>PT. 45 &amp; 47                   </td></tr>",
                            "<tr><td>2 05 07705 02 4400 000             </td><td>49 &amp; PT. 47                   </td></tr>",
                            "<tr><td>2 05 07705 02 5000 000             </td><td>53 &amp; 54                       </td></tr>",
                            "<tr><td>2 05 07705 03 4300 000             </td><td>PT. 81 &amp; 82                   </td></tr>",
                            "<tr><td>2 05 07705 03 4600 000             </td><td>83 &amp; PT. 82                   </td></tr>",
                            "<tr><td>2 05 07705 03 4800 000             </td><td>PT. OF 84 &amp; 85                </td></tr>",
                            "<tr><td>2 05 07705 03 4900 000             </td><td>PT. 85 &amp; 86                   </td></tr>",
                            "<tr><td>2 05 07705 03 5100 000             </td><td>PT. 86 &amp; 87                   </td></tr>",
                            "<tr><td>2 05 07705 03 5300 000             </td><td>PT. 87 &amp; 88                   </td></tr>",
                            "<tr><td>2 05 07705 03 5400 000             </td><td>PT. 88 &amp; 89                   </td></tr>",
                            "<tr><td>2 05 07705 03 5500 000             </td><td>PT. 89 &amp; 90                   </td></tr>",
                            "<tr><td>2 05 07705 03 5700 000             </td><td>PT. 90 &amp; 91                   </td></tr>",
                            "<tr><td>2 05 07705 03 6500 000             </td><td>PT. 70 &amp; 71                   </td></tr>",
                            "<tr><td>2 05 07705 03 6900 000             </td><td>PT. 66 &amp; 67                   </td></tr>",
                            "<tr><td>2 05 07705 03 7000 000             </td><td>PT. 65 &amp; 66                   </td></tr>",
                            "<tr><td>2 05 07705 04 0300 000             </td><td>PT. OF 46 &amp; 47                </td></tr>",
                            "<tr><td>2 05 07705 04 0400 000             </td><td>PT. 45 &amp; 46                   </td></tr>",
                            "<tr><td>2 05 07705 04 0500 000             </td><td>PT. 45 &amp; 46                   </td></tr>",
                            "<tr><td>2 05 07705 04 0600 000             </td><td>PT. 44 &amp; 45                   </td></tr>",
                            "<tr><td>2 05 07705 04 1100 000             </td><td>PT 40 &amp; 41                    </td></tr>",
                            "<tr><td>2 05 07705 04 1300 000             </td><td>PT. 39 &amp; 40                   </td></tr>",
                            "<tr><td>2 05 07705 04 1400 000             </td><td>PT. 39 &amp; 40                   </td></tr>",
                            "<tr><td>2 05 07705 04 1500 000             </td><td>PT. 38 &amp; 39                   </td></tr>",
                            "<tr><td>2 05 07705 04 1700 000             </td><td>PT. 37 &amp; 38                   </td></tr>",
                            "<tr><td>2 05 07705 04 2000 000             </td><td>PT. 15 &amp; 16                   </td></tr>",
                            "<tr><td>2 05 07705 04 2100 000             </td><td>PT. 16 &amp; 17                   </td></tr>",
                            "<tr><td>2 05 07705 04 2200 000             </td><td>PT. 17 &amp; 19                   </td></tr>",
                            "<tr><td>2 05 07705 04 2300 000             </td><td>PT. 19 &amp; 20                   </td></tr>",
                            "<tr><td>2 05 07705 04 2500 000             </td><td>PT. 21 &amp; 22                   </td></tr>",
                            "<tr><td>2 05 07705 04 2600 000             </td><td>PT. 22 &amp; 23                   </td></tr>",
                            "<tr><td>2 05 07705 04 2800 000             </td><td>100 &amp; PT. 99                  </td></tr>",
                            "<tr><td>2 05 07705 04 2900 000             </td><td>PT. 98 &amp; 99                   </td></tr>",
                            "<tr><td>2 05 07705 04 3000 000             </td><td>PT. 96-98 &amp; 106 &amp; 107         </td></tr>",
                            "<tr><td>2 05 07705 04 3101 000             </td><td>PT. 94-96&amp;104-106             </td></tr>",
                            "<tr><td>2 05 07705 04 3200 000             </td><td>PT. 93, 94 &amp; 102-104          </td></tr>",
                            "<tr><td>2 05 07705 04 3600 000             </td><td>PT. 101 &amp; 102                 </td></tr>",
                            "<tr><td>2 05 07705 04 3700 000             </td><td>108 &amp; 109 &amp; PT. 107           </td></tr>",
                            "<tr><td>2 05 07706 01 0300 000             </td><td>54 &amp; 55                       </td></tr>",
                            "<tr><td>2 05 07706 01 0900 000             </td><td>47 &amp; 48                       </td></tr>",
                            "<tr><td>2 05 07706 01 1400 000             </td><td>41 &amp; 42                       </td></tr>",
                            "<tr><td>2 05 07706 01 2600 000             </td><td>60 &amp; 61                       </td></tr>",
                            "<tr><td>2 05 07706 01 3500 000             </td><td>78 &amp; PT. 77                   </td></tr>",
                            "<tr><td>2 05 07706 01 3600 000             </td><td>76 &amp; PT. 77                   </td></tr>",
                            "<tr><td>2 05 07706 01 4200 000             </td><td>PT. 70 &amp; 69                   </td></tr>",
                            "<tr><td>2 05 07706 01 4300 000             </td><td>69 &amp; PT. 68 &amp; 70              </td></tr>",
                            "<tr><td>2 05 07706 01 4700 000             </td><td>39 &amp; 38                       </td></tr>",
                            "<tr><td>2 05 07706 01 4900 000             </td><td>36 &amp; PT. 35                   </td></tr>",
                            "<tr><td>2 05 07706 01 5000 000             </td><td>34 &amp; PT. 35                   </td></tr>",
                            "<tr><td>2 05 07706 01 5400 000             </td><td>28 &amp; PT. 29                   </td></tr>",
                            "<tr><td>2 05 07706 01 6900 000             </td><td>4 &amp; 5                         </td></tr>",
                            "<tr><td>2 05 07706 01 7000 000             </td><td>3 &amp; PT. 2                     </td></tr>",
                            "<tr><td>2 05 07706 01 7100 000             </td><td>1 &amp; PT. OF 2                  </td></tr>",
                            "<tr><td>2 05 07706 02 0100 000             </td><td>11 &amp; 12                       </td></tr>",
                            "<tr><td>2 05 07706 02 0400 000             </td><td>PT. OF 17 &amp; 18                </td></tr>",
                            "<tr><td>2 05 07706 02 0500 000             </td><td>19 &amp; PT. OF 18 &amp; 20           </td></tr>",
                            "<tr><td>2 05 07706 02 0600 000             </td><td>PT. OF 20 &amp; 21                </td></tr>",
                            "<tr><td>2 05 07706 02 0700 000             </td><td>PT. 21 &amp; 22                   </td></tr>",
                            "<tr><td>2 05 07706 02 0800 000             </td><td>23 PT. 22 &amp; 24                </td></tr>",
                            "<tr><td>2 05 07706 02 0900 000             </td><td>47.5 OF 24 &amp; 22.5' OF         </td></tr>",
                            "<tr><td>2 05 07706 02 1000 000             </td><td>PT. 25 &amp; 26                   </td></tr>",
                            "<tr><td>2 05 07706 02 1100 000             </td><td>27 &amp; PT. 26                   </td></tr>",
                            "<tr><td>2 05 07706 02 1300 000             </td><td>PT. 28 &amp; 29                   </td></tr>",
                            "<tr><td>2 05 07706 02 1800 000             </td><td>61 &amp; PT. OF 60 &amp; 62           </td></tr>",
                            "<tr><td>2 05 07706 02 1900 000             </td><td>PT. 59 &amp; 60                   </td></tr>",
                            "<tr><td>2 05 07706 02 2000 000             </td><td>58 &amp; PT. 57 &amp; 59              </td></tr>",
                            "<tr><td>2 05 07706 02 2100 000             </td><td>PT. 56 &amp; 57                   </td></tr>",
                            "<tr><td>2 05 07706 02 2200 000             </td><td>55 &amp; PT. 54 &amp; 56              </td></tr>",
                            "<tr><td>2 05 07706 02 2300 000             </td><td>PT. 53 &amp; 54                   </td></tr>",
                            "<tr><td>2 05 07706 02 2400 000             </td><td>52 &amp; PT. 51 &amp; 53              </td></tr>",
                            "<tr><td>2 05 07706 02 2500 000             </td><td>50 &amp; PT. 51                   </td></tr>",
                            "<tr><td>2 05 07706 02 2600 000             </td><td>49 &amp; PT. OF 48                </td></tr>",
                            "<tr><td>2 05 07706 02 2700 000             </td><td>47 &amp; PT. 48                   </td></tr>",
                            "<tr><td>2 05 07706 02 2800 000             </td><td>46 &amp; PT. OF 45                </td></tr>",
                            "<tr><td>2 05 07706 02 2900 000             </td><td>44 &amp; PT. OF 45                </td></tr>",
                            "<tr><td>2 05 07706 02 3100 000             </td><td>9 &amp; PT. OF 8                  </td></tr>",
                            "<tr><td>2 05 07706 02 3200 000             </td><td>PT. 7 &amp; 8                     </td></tr>",
                            "<tr><td>2 05 07706 02 3300 000             </td><td>6 &amp; PT. 5 &amp; 7                 </td></tr>",
                            "<tr><td>2 05 07706 02 3400 000             </td><td>PT. 4 &amp; 5                     </td></tr>",
                            "<tr><td>2 05 07706 02 3500 000             </td><td>PT. OF LOTS 42 &amp; 41           </td></tr>",
                            "<tr><td>2 05 07706 02 3600 000             </td><td>43 &amp; PT. 42                   </td></tr>",
                            "<tr><td>2 05 07706 02 3900 000             </td><td>66 &amp; PT. 67                   </td></tr>",
                            "<tr><td>2 05 07706 02 4000 000             </td><td>68 &amp; PT. OF 67 &amp; 69           </td></tr>",
                            "<tr><td>2 05 07706 02 4100 000             </td><td>PT. OF 69 &amp; 70                </td></tr>",
                            "<tr><td>2 05 07706 02 4200 000             </td><td>PT. 70 &amp; 71                   </td></tr>",
                            "<tr><td>2 05 07706 02 4300 000             </td><td>72 &amp; PT. OF 71                </td></tr>",
                            "<tr><td>2 05 07706 02 4400 000             </td><td>73 &amp; PT. 74                   </td></tr>",
                            "<tr><td>2 05 07706 02 4500 000             </td><td>75 &amp; PT. 74 &amp; 76              </td></tr>",
                            "<tr><td>2 05 07706 02 4600 000             </td><td>PT. 76 &amp; 77                   </td></tr>",
                            "<tr><td>2 05 07706 02 4700 000             </td><td>PT. 77 &amp; 78                   </td></tr>",
                            "<tr><td>2 05 07706 02 4800 000             </td><td>79 &amp; PT. 78                   </td></tr>",
                            "<tr><td>2 05 07706 02 4900 000             </td><td>80 &amp; PT. 81                   </td></tr>",
                            "<tr><td>2 05 07706 02 5100 000             </td><td>83 &amp; 84                       </td></tr>",
                            "<tr><td>2 05 07706 02 5200 000             </td><td>112 &amp; PT. 111                 </td></tr>",
                            "<tr><td>2 05 07706 02 5300 000             </td><td>110 &amp; PT. 111                 </td></tr>",
                            "<tr><td>2 05 07706 02 5400 000             </td><td>109 &amp; PT. 108                 </td></tr>",
                            "<tr><td>2 05 07706 02 5500 000             </td><td>PT. 107 &amp; 108                 </td></tr>",
                            "<tr><td>2 05 07706 02 5600 000             </td><td>106 &amp; PT. 105 &amp; 107           </td></tr>",
                            "<tr><td>2 05 07706 02 5700 000             </td><td>104 &amp; PT. 105                 </td></tr>",
                            "<tr><td>2 05 07706 02 5800 000             </td><td>103 &amp; 1/2 OF 102              </td></tr>",
                            "<tr><td>2 05 07706 02 5900 000             </td><td>101 &amp; PT. 102                 </td></tr>",
                            "<tr><td>2 05 07706 02 6000 000             </td><td>100 &amp; PT. 99                  </td></tr>",
                            "<tr><td>2 05 07706 02 6001 000             </td><td>PT. OF 98 &amp; 99                </td></tr>",
                            "<tr><td>2 05 07706 02 6100 000             </td><td>97 &amp; PT. 96 &amp; 98              </td></tr>",
                            "<tr><td>2 05 07706 02 6200 000             </td><td>95 &amp; PT. 96                   </td></tr>",
                            "<tr><td>2 05 07706 02 6300 000             </td><td>93 &amp; 94 &amp; PT. 96              </td></tr>",
                            "<tr><td>2 05 07706 02 6400 000             </td><td>91 &amp; PT. 92 &amp; 90              </td></tr>",
                            "<tr><td>2 05 07706 02 6500 000             </td><td>89 &amp; PT. 88 &amp; 90              </td></tr>",
                            "<tr><td>2 05 07706 02 6600 000             </td><td>87 &amp; PT. 88 &amp; 86              </td></tr>",
                            "<tr><td>2 05 07706 02 6700 000             </td><td>85 &amp; PT. 86                   </td></tr>",
                            "<tr><td>2 05 07706 02 6800 000             </td><td>38 &amp; PT. 39                   </td></tr>",
                            "<tr><td>2 05 07706 02 6900 000             </td><td>40 &amp; &amp;T. OF 39 &amp; 41           </td></tr>",
                            "<tr><td>2 05 07706 02 7000 000             </td><td>3 &amp; PT. 2 &amp; 4                 </td></tr>",
                            "<tr><td>2 05 07706 02 7100 000             </td><td>1 &amp; PT. 2                     </td></tr>",
                            "<tr><td>2 05 07706 02 7300 000             </td><td>113 &amp; 114                     </td></tr>",
                            "<tr><td>2 05 07706 02 7500 000             </td><td>117 &amp; 118                     </td></tr>",
                            "<tr><td>2 05 07706 02 7600 000             </td><td>119 &amp; 120                     </td></tr>",
                            "<tr><td>2 05 07706 02 7700 000             </td><td>121 &amp; 122                     </td></tr>",
                            "<tr><td>2 05 07706 02 7800 000             </td><td>123 &amp; 1/2 OF 124              </td></tr>",
                            "<tr><td>2 05 07706 02 7900 000             </td><td>125 &amp; E. 25' OF 124           </td></tr>",
                            "<tr><td>2 05 07706 02 8100 000             </td><td>128 &amp; PT. OF 129              </td></tr>",
                            "<tr><td>2 05 07706 02 8200 000             </td><td>130 &amp; E. 1/2 OF 129           </td></tr>",
                            "<tr><td>2 05 07706 02 8300 000             </td><td>131 &amp; PT. 132                 </td></tr>",
                            "<tr><td>2 05 07706 02 8400 000             </td><td>133 &amp; PT. 132                 </td></tr>",
                            "<tr><td>2 05 07706 02 8500 000             </td><td>134 &amp; PT. 135                 </td></tr>",
                            "<tr><td>2 05 07706 02 8600 000             </td><td>136 &amp; PT. OF 135 &amp; 137        </td></tr>",
                            "<tr><td>2 05 07706 02 8700 000             </td><td>138 &amp; PT. 137 &amp; 139           </td></tr>",
                            "<tr><td>2 05 07706 02 8800 000             </td><td>140 &amp; PT. OF 139              </td></tr>",
                            "<tr><td>2 05 07709 01 6900 000             </td><td>1 &amp; 2                         </td></tr>",
                            "<tr><td>2 05 07709 02 0400 000             </td><td>PT. 50 &amp; 51                   </td></tr>",
                            "<tr><td>2 05 07709 02 0900 000             </td><td>PT. 72 &amp; 73                   </td></tr>",
                            "<tr><td>2 05 07709 02 2500 000             </td><td>PT. 53 &amp; 54                   </td></tr>",
                            "<tr><td>2 05 07709 02 2700 000             </td><td>PT. 52 &amp; 53                   </td></tr>",
                            "<tr><td>2 05 07709 02 3400 000             </td><td>PT. 25 &amp; 26                   </td></tr>",
                            "<tr><td>2 05 07709 02 3500 000             </td><td>PT. 25 &amp; 26                   </td></tr>",
                            "<tr><td>2 05 07709 02 4200 000</td><td>PT. 27 &amp; 28                   </td></tr>",
                            "<tr><td>2 05 07709 02 5200 000             </td><td>11 &amp; 12                       </td></tr>",
                            "<tr><td>2 05 07709 02 5400 000             </td><td>PT. 9 &amp; 10                    </td></tr>",
                            "<tr><td>2 05 07709 02 5500 000             </td><td>7,8 &amp; PT. 9                   </td></tr>",
                            "<tr><td>2 05 07709 02 5900 000             </td><td>2,3 &amp; PT. 1                   </td></tr>",
                            "<tr><td>2 05 07709 03 0200 000             </td><td>16-18, 25-27 &amp; PT. 19         </td></tr>",
                            "<tr><td>2 05 07709 03 0300 000             </td><td>1 &amp; 15                        </td></tr>",
                            "<tr><td>2 05 07709 03 1300 000             </td><td>PT 22 &amp; 23                    </td></tr>",
                            "<tr><td>2 05 07709 05 3900 000             </td><td>5 &amp; 6                         </td></tr>",
                            "<tr><td>2 05 07709 05 4800 000             </td><td>1 &amp; 2                         </td></tr>",
                            "<tr><td>2 05 07709 05 5200 000             </td><td>6 &amp; 7                         </td></tr>",
                            "<tr><td>2 05 07710 01 1400 000             </td><td>1 &amp; 2                         </td></tr>",
                            "<tr><td>2 05 07710 01 2700 000             </td><td>59,60 &amp; PT. 61 &amp; 43-44        </td></tr>",
                            "<tr><td>2 05 07710 01 3100 000             </td><td>78 &amp; 79                       </td></tr>",
                            "<tr><td>2 05 07710 01 3300 000             </td><td>75 &amp; 76                       </td></tr>",
                            "<tr><td>2 05 07710 01 3501 000             </td><td>73 &amp; 10' OF 72                </td></tr>",
                            "<tr><td>2 05 07710 01 3700 000             </td><td>66-69, 35 &amp; 36                </td></tr>",
                            "<tr><td>2 05 07710 01 3800 000             </td><td>62-65 &amp; PT. 61                </td></tr>",
                            "<tr><td>2 05 07710 01 4700 000             </td><td>21 &amp; 22                       </td></tr>",
                            "<tr><td>2 05 07710 01 4800 000             </td><td>19 &amp; 20                       </td></tr>",
                            "<tr><td>2 05 07710 01 5100 000             </td><td>8, 9, 23, 24 &amp; PT. 7 &amp;        </td></tr>",
                            "<tr><td>2 05 07710 01 5200 000             </td><td>4,5,6,26,27,28,PT.7&amp;25        </td></tr>",
                            "<tr><td>2 05 07713 01 3500 000             </td><td>23-25 &amp; PT. 26                </td></tr>",
                            "<tr><td>2 05 07713 01 3600 000             </td><td>27 &amp; PT. 26                   </td></tr>",
                            "<tr><td>2 05 07713 02 0400 000             </td><td>10 &amp; 11                       </td></tr>",
                            "<tr><td>2 05 07713 02 1200 000             </td><td>PT.OF 7, 8 &amp; 9                </td></tr>",
                            "<tr><td>2 05 07713 02 2400 000             </td><td>8 &amp; 10                        </td></tr>",
                            "<tr><td>2 05 07713 02 2600 000             </td><td>2&amp;4                           </td></tr>",
                            "<tr><td>2 05 07713 02 3000 000             </td><td>3 &amp; PT. 5                     </td></tr>",
                            "<tr><td>2 05 07713 02 3100 000             </td><td>PT. 5 &amp; PT. 7                 </td></tr>",
                            "<tr><td>2 05 07713 02 3200 000             </td><td>9, 11 &amp; PT. 7 &amp; 13            </td></tr>",
                            "<tr><td>2 05 07713 02 3300 000             </td><td>PT. 13 &amp; 15                   </td></tr>",
                            "<tr><td>2 05 07713 02 3400 000             </td><td>17 &amp; PT. 15                   </td></tr>",
                            "<tr><td>2 05 07713 02 3500 000             </td><td>19 &amp; S. 1/2 OF 21             </td></tr>",
                            "<tr><td>2 05 07713 02 3600 000             </td><td>23 &amp; PT. 21, 25               </td></tr>",
                            "<tr><td>2 05 07713 02 3700 000             </td><td>27-29 &amp; PT. 25                </td></tr>",
                            "<tr><td>2 05 07713 02 3800 000             </td><td>31 &amp; 33                       </td></tr>",
                            "<tr><td>2 05 07713 02 4300 000             </td><td>12 &amp; 14                       </td></tr>",
                            "<tr><td>2 05 07713 02 4400 000             </td><td>16 &amp; PT. 18                   </td></tr>",
                            "<tr><td>2 05 07713 02 4500 000             </td><td>20 &amp; PT. 18                   </td></tr>",
                            "<tr><td>2 05 07713 02 4900 000             </td><td>28 &amp; PT. OF 30                </td></tr>",
                            "<tr><td>2 05 07713 02 5000 000             </td><td>30 &amp; 32                       </td></tr>",
                            "<tr><td>2 05 07713 02 5200 000             </td><td>33 &amp; PT. 31                   </td></tr>",
                            "<tr><td>2 05 07713 02 5300 000             </td><td>PT. 29 &amp; 31                   </td></tr>",
                            "<tr><td>2 05 07713 02 5400 000             </td><td>PT. OF 27 &amp; 29                </td></tr>",
                            "<tr><td>2 05 07713 02 5500 000             </td><td>PT. OF 25 &amp; 27                </td></tr>",
                            "<tr><td>2 05 07713 02 5600 000             </td><td>23 &amp; PT. 25                   </td></tr>",
                            "<tr><td>2 05 07713 02 6100 000             </td><td>13 &amp; 1/2 OF 11                </td></tr>",
                            "<tr><td>2 05 07713 02 6300 000             </td><td>PT. 8 &amp; PT. 9                 </td></tr>",
                            "<tr><td>2 05 07713 02 6400 000             </td><td>7 &amp; PT. OF 8                  </td></tr>",
                            "<tr><td>2 05 07713 02 6500 000             </td><td>4 &amp; PT OF LOT 5               </td></tr>",
                            "<tr><td>2 05 07714 01 0700 000             </td><td>PT. OF LOTS 1 &amp; 2             </td></tr>",
                            "<tr><td>2 05 07714 01 0900 000             </td><td>ALL OF D-1 &amp; B-3 &amp; B-6 PT OF 3</td></tr>",
                            "<tr><td>2 05 07714 01 1002 000             </td><td>PT. OF D-2 &amp; D-3              </td></tr>",
                            "<tr><td>2 05 07714 01 1400 000             </td><td>B-2 &amp; B-7                     </td></tr>",
                            "<tr><td>2 05 07714 01 3100 000             </td><td>A-8 &amp; A-9                     </td></tr>",
                            "<tr><td>2 05 07714 01 4000 000             </td><td>C-18, PT. OF 4 &amp; ALL D-3      </td></tr>",
                            "<tr><td>2 05 07714 01 4200 000             </td><td>C-15 &amp; C-16                   </td></tr>",
                            "<tr><td>2 05 07717 01 5200 000             </td><td>15 &amp; PT. 16                   </td></tr>",
                            "<tr><td>2 05 07717 01 5300 000             </td><td>17 &amp; PT. 16                   </td></tr>",
                            "<tr><td>2 05 07717 01 5500 000             </td><td>18-19-20-21 &amp; PT. OF 21 1/2   </td></tr>",
                            "<tr><td>2 05 07717 01 5600 000             </td><td>22, 23 &amp; PT. 21.5             </td></tr>",
                            "<tr><td>2 05 07717 01 5700 000             </td><td>24 &amp; 25                       </td></tr>",
                            "<tr><td>2 05 07717 01 5900 000             </td><td>27 &amp; 28                       </td></tr>",
                            "<tr><td>2 05 07717 01 6700 000             </td><td>35 &amp; 35.5                     </td></tr>",
                            "<tr><td>2 05 07717 02 3500 000             </td><td>47 &amp; 52                       </td></tr>",
                            "<tr><td>2 05 07717 03 2700 000             </td><td>2, 4 &amp; 6                      </td></tr>",
                            "<tr><td>2 05 07717 03 3600 000             </td><td>26 &amp; PT. 28                   </td></tr>",
                            "<tr><td>2 05 07717 03 3700 000             </td><td>PT. 28 &amp; 30                   </td></tr>",
                            "<tr><td>2 05 07717 03 3800 000             </td><td>PT. 30 &amp; 32                   </td></tr>",
                            "<tr><td>2 05 07717 03 3900 000             </td><td>PT. 32 &amp; 34                   </td></tr>",
                            "<tr><td>2 05 07717 03 4000 000             </td><td>PT. 36 &amp; 38                   </td></tr>",
                            "<tr><td>2 05 07717 03 4200 000             </td><td>49 &amp; 51                       </td></tr>",
                            "<tr><td>2 05 07717 03 4300 000             </td><td>43, 45 &amp; 47                   </td></tr>",
                            "<tr><td>2 05 07717 03 4500 000             </td><td>37 &amp; 39                       </td></tr>",
                            "<tr><td>2 05 07717 03 4700 000             </td><td>PT. 29 &amp; 31                   </td></tr>",
                            "<tr><td>2 05 07717 03 4800 000             </td><td>27 &amp; PT. 29                   </td></tr>",
                            "<tr><td>2 05 07717 03 5100 000             </td><td>21 &amp; PT. 23                   </td></tr>",
                            "<tr><td>2 05 07717 03 5300 000             </td><td>11,13,15,&amp; 17                 </td></tr>",
                            "<tr><td>2 05 07717 03 5400 000             </td><td>9 &amp; PT. 7                     </td></tr>",
                            "<tr><td>2 05 07717 03 5500 000             </td><td>PT. 5 &amp; 7                     </td></tr>",
                            "<tr><td>2 05 07717 03 5600 000             </td><td>PT. 3 &amp; 5                     </td></tr>",
                            "<tr><td>2 05 07717 03 5700 000             </td><td>1 &amp; PT. 3                     </td></tr>",
                            "<tr><td>2 05 07717 04 0100 000             </td><td>1 &amp; PT. 2                     </td></tr>",
                            "<tr><td>2 05 07717 04 0200 000             </td><td>3 &amp; PT. 2                     </td></tr>",
                            "<tr><td>2 05 07717 04 0300 000             </td><td>15 &amp; 16                       </td></tr>",
                            "<tr><td>2 05 07717 04 1100 000             </td><td>50 &amp; PT. 51                   </td></tr>",
                            "<tr><td>2 05 07717 04 2800 000             </td><td>26 &amp; 27                       </td></tr>",
                            "<tr><td>2 05 07717 04 3400 000             </td><td>4 &amp; PT 5                      </td></tr>",
                            "<tr><td>2 05 07717 04 3500 000             </td><td>PT. 5 &amp; 6                     </td></tr>",
                            "<tr><td>2 05 07717 04 3600 000             </td><td>7 &amp; PT. 6                     </td></tr>",
                            "<tr><td>2 05 07717 04 3700 000             </td><td>8 &amp; PT. 9                     </td></tr>",
                            "<tr><td>2 05 07717 04 3900 000             </td><td>PT. OF 9 &amp; 10                 </td></tr>",
                            "<tr><td>2 05 07717 04 4000 000             </td><td>PT. 9 &amp; 10                    </td></tr>",
                            "<tr><td>2 05 07717 04 4100 000             </td><td>28 &amp; 29                       </td></tr>",
                            "<tr><td>2 05 07717 04 4600 000             </td><td>34 &amp; PT. 35                   </td></tr>",
                            "<tr><td>2 05 07717 04 4700 000             </td><td>36 &amp; PT. 35                   </td></tr>",
                            "<tr><td>2 05 07717 04 5600 000             </td><td>78 &amp; 79                       </td></tr>",
                            "<tr><td>2 05 07717 04 5800 000             </td><td>PT. 89 &amp; 90                   </td></tr>",
                            "<tr><td>2 05 07717 04 5900 000             </td><td>88 &amp; PT. 89                   </td></tr>",
                            "<tr><td>2 05 07717 04 6000 000             </td><td>87 &amp; 1/2 OF 86                </td></tr>",
                            "<tr><td>2 05 07717 04 6100 000             </td><td>85 &amp; 1/2 86                   </td></tr>",
                            "<tr><td>2 05 07717 04 6700 000             </td><td>45 &amp; 46                       </td></tr>",
                            "<tr><td>2 05 07717 04 6800 000             </td><td>44 &amp; PT. OF 43                </td></tr>",
                            "<tr><td>2 05 07717 04 6900 000             </td><td>42 &amp; 1/2 OF 43                </td></tr>",
                            "<tr><td>2 05 07717 05 1500 000             </td><td>35 &amp; PT. 34                   </td></tr>",
                            "<tr><td>2 05 07717 05 5000 000             </td><td>15 &amp; PT. 14                   </td></tr>",
                            "<tr><td>2 05 07717 05 5900 000             </td><td>A1, A2, A3 &amp; PT. B-1          </td></tr>",
                            "<tr><td>2 05 07717 05 6000 000             </td><td>2 &amp; PT. 1 &amp; 3                 </td></tr>",
                            "<tr><td>2 05 07717 05 6100 000             </td><td>4 &amp; PT. 3 &amp; 5                 </td></tr>",
                            "<tr><td>2 05 07717 05 6200 000             </td><td>6 &amp; PT. 5                     </td></tr>",
                            "<tr><td>2 05 07717 05 6800 000             </td><td>12 &amp; 13                       </td></tr>",
                            "<tr><td>2 05 07717 05 7300 000             </td><td>18 &amp; 19                       </td></tr>",
                            "<tr><td>2 05 07717 05 7500 000             </td><td>PT 21 &amp; PT 22                </td></tr>",
                            "<tr><td>2 05 07717 06 0500 000             </td><td>70 &amp; 71                       </td></tr>",
                            "<tr><td>2 05 07717 06 0600 000             </td><td>68 &amp; 69                       </td></tr>",
                            "<tr><td>2 05 07717 06 0900 000             </td><td>64 &amp; 65                       </td></tr>",
                            "<tr><td>2 05 07717 06 1000 000             </td><td>PT. 67 &amp; 66                   </td></tr>",
                            "<tr><td>2 05 07717 06 1100 000             </td><td>PT. 59 &amp; 60                   </td></tr>",
                            "<tr><td>2 05 07717 06 1200 000             </td><td>N. 1/2 OF 59 &amp; 60             </td></tr>",
                            "<tr><td>2 05 07717 06 1300 000             </td><td>61 &amp; 62                       </td></tr>",
                            "<tr><td>2 05 07717 06 1900 000             </td><td>40 &amp; 41                       </td></tr>",
                            "<tr><td>2 05 07717 06 2500 000             </td><td>PT.50 &amp; ALL 51                </td></tr>",
                            "<tr><td>2 05 07717 06 2501 000             </td><td>PT.49 &amp; ALL 48                </td></tr>",
                            "<tr><td>2 05 07717 06 2502 000             </td><td>PT.49 &amp; PT 50                 </td></tr>",
                            "<tr><td>2 05 07717 06 2600 000             </td><td>39 &amp; PT. OF 38                </td></tr>",
                            "<tr><td>2 05 07717 06 2700 000             </td><td>PT. 37 &amp; PT. 38               </td></tr>",
                            "<tr><td>2 05 07717 06 2900 000             </td><td>PT. 35 &amp; 36                   </td></tr>",
                            "<tr><td>2 05 07717 06 3000 000             </td><td>34 &amp; PT. 35                   </td></tr>",
                            "<tr><td>2 05 07717 06 3001 000             </td><td>33 &amp; PT. 32                   </td></tr>",
                            "<tr><td>2 05 07717 06 3100 000             </td><td>31 &amp; PT. OF 32                </td></tr>",
                            "<tr><td>2 05 07717 07 0700 000             </td><td>27 &amp; 28                       </td></tr>",
                            "<tr><td>2 05 07717 07 0900 000             </td><td>8 &amp; 9                         </td></tr>",
                            "<tr><td>2 05 07717 07 1100 000             </td><td>11 &amp; PT. 12                   </td></tr>",
                            "<tr><td>2 05 07717 07 1200 000             </td><td>PT. 12 &amp; 13                   </td></tr>",
                            "<tr><td>2 05 07717 07 1300 000             </td><td>14 &amp; PT. 13                   </td></tr>",
                            "<tr><td>2 05 07717 07 1500 000             </td><td>1 THRU 7 &amp; 16 THRU 22         </td></tr>",
                            "<tr><td>2 05 07717 07 2100 000             </td><td>1 &amp; 2                         </td></tr>",
                            "<tr><td>2 05 07717 07 2300 000             </td><td>14 &amp; 15                       </td></tr>",
                            "<tr><td>2 05 07717 07 2400 000             </td><td>6 &amp; PT.OF 5                   </td></tr>",
                            "<tr><td>2 05 07718 01 1500 000             </td><td>11 &amp; PT. 10                   </td></tr>",
                            "<tr><td>2 05 07718 01 1600 000             </td><td>9 &amp; PT. 10                    </td></tr>",
                            "<tr><td>2 05 07718 01 2600 000             </td><td>21 &amp; 1/2 OF 22                </td></tr>",
                            "<tr><td>2 05 07718 01 2700 000             </td><td>23 &amp; PT. 22                   </td></tr>",
                            "<tr><td>2 05 07718 01 2800 000             </td><td>24 &amp; PT. 25                   </td></tr>",
                            "<tr><td>2 05 07718 01 2900 000             </td><td>26 &amp; PT. 25                   </td></tr>",
                            "<tr><td>2 05 07718 01 3000 000             </td><td>27,28,29 &amp; 30                 </td></tr>",
                            "<tr><td>2 05 07718 01 3400 000             </td><td>35 &amp; 36                       </td></tr>",
                            "<tr><td>2 05 07718 01 3800 000             </td><td>17 &amp; 18                       </td></tr>",
                            "<tr><td>2 05 07718 01 3900 000             </td><td>14, 15 &amp; 16                   </td></tr>",
                            "<tr><td>2 05 07718 01 4200 000             </td><td>8 &amp; PT. OF 9                  </td></tr>",
                            "<tr><td>2 05 07718 01 4300 000             </td><td>7 &amp; PT. 6                     </td></tr>",
                            "<tr><td>2 05 07718 01 4400 000             </td><td>5 &amp; PT. 6                     </td></tr>",
                            "<tr><td>2 05 07718 01 4700 000             </td><td>1 &amp; 2                         </td></tr>",
                            "<tr><td>2 05 07718 02 6300 000             </td><td>PT.OF 3 &amp; 4                   </td></tr>",
                            "<tr><td>2 05 07718 02 6500 000             </td><td>PT. OF 1 &amp; 2                  </td></tr>",
                            "<tr><td>2 05 07718 02 6800 000             </td><td>31 &amp; 32 &amp; PT. 28-30           </td></tr>",
                            "<tr><td>2 05 07718 02 7300 000             </td><td>36, 37 &amp; PT. 38               </td></tr>",
                            "<tr><td>2 05 07718 02 7500 000             </td><td>43 &amp; 44                       </td></tr>",
                            "<tr><td>2 05 07718 02 7600 000             </td><td>PT. OF 41 &amp; 42                </td></tr>",
                            "<tr><td>2 05 07718 02 7700 000             </td><td>40 &amp; PT. 41                   </td></tr>",
                            "<tr><td>2 05 07718 02 7800 000             </td><td>39 &amp; PT. 38                   </td></tr>",
                            "<tr><td>2 05 07718 02 7900 000             </td><td>37 &amp; PT. 38                   </td></tr>",
                            "<tr><td>2 05 07718 02 8000 000             </td><td>35 &amp; 36                       </td></tr>",
                            "<tr><td>2 05 07718 02 9100 000             </td><td>43, 44 &amp; PT. 42               </td></tr>",
                            "<tr><td>2 05 08508 01 2300 000             </td><td>PT. 2 &amp; 3                     </td></tr>",
                            "<tr><td>2 05 08508 01 2400 000             </td><td>PT. 3 &amp; 4                     </td></tr>",
                            "<tr><td>2 05 08508 01 2401 000             </td><td>2 &amp; PT. 3                     </td></tr>",
                            "<tr><td>2 05 08508 02 2100 000             </td><td>92 &amp; PT. 91                   </td></tr>",
                            "<tr><td>2 05 08508 02 3300 000             </td><td>80 &amp; PT. 81                   </td></tr>",
                            "<tr><td>2 05 08511 01 0100 000             </td><td>1 &amp; 2                         </td></tr>",
                            "<tr><td>2 05 08511 01 0400 000             </td><td>6 &amp; PT. OF 7                  </td></tr>",
                            "<tr><td>2 05 08511 01 0500 000             </td><td>8, 9 &amp; PT. 7                  </td></tr>",
                            "<tr><td>2 05 08511 01 0600 000             </td><td>10 &amp; 11                       </td></tr>",
                            "<tr><td>2 05 08511 01 0800 000             </td><td>13-14 &amp; PT. 1516-17           </td></tr>",
                            "<tr><td>2 05 08511 01 1000 000             </td><td>PT. 15 &amp; 16                   </td></tr>",
                            "<tr><td>2 05 08600 01 0500 000             </td><td>7,8,9 &amp; 10                    </td></tr>",
                            "<tr><td>2 05 08600 01 0900 000             </td><td>4 &amp; PT. 3                     </td></tr>",
                            "<tr><td>2 05 08600 01 1100 000             </td><td>2 &amp; PT. 3                     </td></tr>",
                            "<tr><td>2 05 08600 01 1900 000             </td><td>15 &amp; 16                       </td></tr>",
                            "<tr><td>2 05 08605 02 0500 000             </td><td>4 &amp; 5                         </td></tr>",
                            "<tr><td>2 05 08605 02 0800 000             </td><td>15 &amp; PT.OF 16,17,18           </td></tr>",
                            "<tr><td>2 05 08700 01 0701 000             </td><td>7,8,9,19,20,21 &amp; 25           </td></tr>",
                            "<tr><td>3 00 01600 01 2800 000             </td><td>2 &amp; 3                         </td></tr>",
                            "<tr><td>3 00 01600 01 5200 000             </td><td>13 &amp; 14                       </td></tr>",
                            "<tr><td>3 00 01600 01 5800 000             </td><td>2 &amp; 3                         </td></tr>",
                            "<tr><td>3 00 01600 01 5900 000             </td><td>4 &amp; 5                         </td></tr>",
                            "<tr><td>3 00 01600 01 6100 000             </td><td>9 &amp; 10                        </td></tr>",
                            "<tr><td>3 00 01600 01 6900 000             </td><td>3-4-5 &amp; 6                     </td></tr>",
                            "<tr><td>3 00 01600 02 4902 000             </td><td>9-C &amp; PT 9B                   </td></tr>",
                            "<tr><td>3 00 01700 01 4001 000             </td><td>PT.OF 32 &amp; 33                 </td></tr>",
                            "<tr><td>3 00 01700 02 2627 000             </td><td>27 &amp; 28                       </td></tr>",
                            "<tr><td>3 00 01800 01 0704 000             </td><td>4 &amp; 5                         </td></tr>",
                            "<tr><td>3 00 01800 01 0709 000             </td><td>10 &amp; PT. OF 9                 </td></tr>",
                            "<tr><td>3 00 01800 01 2300 000             </td><td>10 &amp; 11                       </td></tr>",
                            "<tr><td>3 00 01800 01 2600 000             </td><td>14 15 &amp; PT 16                 </td></tr>",
                            "<tr><td>3 00 01800 01 2824 000             </td><td>3 &amp; 3A                        </td></tr>",
                            "<tr><td>3 00 02400 01 0424 000             </td><td>22 &amp; PT.OF 33                 </td></tr>",
                            "<tr><td>3 00 02500 01 0700 000             </td><td>61 &amp; 62                       </td></tr>",
                            "<tr><td>3 00 02500 01 1500 000             </td><td>52 &amp; 53                       </td></tr>",
                            "<tr><td>3 00 02500 01 2100 000             </td><td>45 &amp; 46                       </td></tr>",
                            "<tr><td>3 00 02500 01 2500 000             </td><td>38 &amp; 39                       </td></tr>",
                            "<tr><td>3 00 02500 01 2600 000             </td><td>36 &amp; 37                       </td></tr>",
                            "<tr><td>3 00 02500 01 2700 000             </td><td>35 &amp; 49                       </td></tr>",
                            "<tr><td>3 00 02500 01 4400 000             </td><td>25 &amp; 34                       </td></tr>",
                            "<tr><td>3 00 02500 01 5900 000             </td><td>PT. 22 &amp; 23                   </td></tr>",
                            "<tr><td>3 00 02500 01 5901 000             </td><td>PT. OF 19,22 &amp; 23 ALL OF 24   </td></tr>",
                            "<tr><td>3 00 02500 01 6000 000             </td><td>20, 21 &amp; PT 19 &amp; 22           </td></tr>",
                            "<tr><td>3 00 02500 01 6200 000             </td><td>18 &amp; PT. OF 19                </td></tr>",
                            "<tr><td>3 00 02500 01 6500 000             </td><td>PT. OF 14 &amp; 15                </td></tr>",
                            "<tr><td>3 00 02500 01 6600 000             </td><td>13 &amp; PT. 14 &amp; 15              </td></tr>",
                            "<tr><td>3 00 02500 01 7202 000             </td><td>1 &amp; 2                         </td></tr>",
                            "<tr><td>3 00 02500 01 7400 000             </td><td>3 &amp; 4                         </td></tr>",
                            "<tr><td>3 00 02500 01 7500 000             </td><td>1 &amp; 2                         </td></tr>",
                            "<tr><td>3 00 02700 01 3501 000             </td><td>2 &amp; PT. OF 3                  </td></tr>",
                            "<tr><td>3 00 02700 01 3801 000             </td><td>8 &amp; N. PT. 9                  </td></tr>",
                            "<tr><td>3 00 02700 01 3802 000             </td><td>5 &amp; PT. OF 6                  </td></tr>",
                            "<tr><td>3 00 03400 01 1200 000             </td><td>5 &amp; 6                         </td></tr>",
                            "<tr><td>3 00 03400 01 1600 000             </td><td>9 &amp; 10                        </td></tr>",
                            "<tr><td>3 00 03600 02 1313 000             </td><td>11 &amp; A                        </td></tr>",
                            "<tr><td>3 00 04200 01 1801 000             </td><td>1 &amp; PT OF 2                   </td></tr>",
                            "<tr><td>3 00 04200 01 1806 000             </td><td>3 &amp; PT OF 2                   </td></tr>",
                            "<tr><td>3 00 04300 01 2100 000             </td><td>37 &amp; PT. 36                   </td></tr>",
                            "<tr><td>3 00 04300 01 7501 000             </td><td>1 &amp; PT. OF 5                  </td></tr>",
                            "<tr><td>3 00 04300 01 7700 000             </td><td>19 &amp; 20                       </td></tr>",
                            "<tr><td>3 00 04300 01 8400 000             </td><td>3 &amp; 25' OF 4                  </td></tr>",
                            "<tr><td>3 00 04300 01 8500 000             </td><td>1 &amp; 2                         </td></tr>",
                            "<tr><td>3 00 04300 02 1601 000             </td><td>2&amp;3A                          </td></tr>",
                            "<tr><td>3 00 04300 02 3901 000             </td><td>1 &amp; 2                         </td></tr>",
                            "<tr><td>3 00 04300 02 4400 000             </td><td>7 &amp; 8                         </td></tr>",
                            "<tr><td>3 00 04300 02 5300 000             </td><td>18 &amp; 19                       </td></tr>",
                            "<tr><td>3 00 04615 01 0200 000             </td><td>36 &amp; PT.OF 34                 </td></tr>",
                            "<tr><td>3 00 04615 01 0201 000             </td><td>8,9, &amp; PT. 7                  </td></tr>",
                            "<tr><td>3 00 04615 01 0400 000             </td><td>10 &amp; 11                       </td></tr>",
                            "<tr><td>3 00 04615 01 0800 000             </td><td>46 &amp; 48                       </td></tr>",
                            "<tr><td>3 00 04615 01 0900 000             </td><td>50 &amp; 52                       </td></tr>",
                            "<tr><td>3 00 04615 01 1100 000             </td><td>49 &amp; 51                       </td></tr>",
                            "<tr><td>3 00 04615 01 1500 000             </td><td>54 &amp; 56                       </td></tr>",
                            "<tr><td>3 00 04615 01 1600 000             </td><td>58,60, &amp; PT 62                </td></tr>",
                            "<tr><td>3 00 04615 01 1900 000             </td><td>18 &amp; 57                       </td></tr>",
                            "<tr><td>3 00 04615 01 2000 000             </td><td>19 &amp; 59                       </td></tr>",
                            "<tr><td>3 00 04615 01 2300 000             </td><td>66 &amp; 64                       </td></tr>",
                            "<tr><td>3 00 04615 01 2301 000             </td><td>50 &amp; 52                       </td></tr>",
                            "<tr><td>3 00 05601 02 2701 000             </td><td>N &amp; P                         </td></tr>",
                            "<tr><td>3 00 06300 01 3000 000             </td><td>PT.LOT 23, LOT 25 &amp; 26        </td></tr>",
                            "<tr><td>3 03 04615 01 6000 000             </td><td>26 &amp; PT OF 28                 </td></tr>",
                            "<tr><td>3 03 04615 01 6100 000             </td><td>PT OF 28 &amp; PT OF PASTURE LOT 1</td></tr>",
                            "<tr><td>3 03 04615 01 6200 000</td><td>30, &amp; PT OF 32, &amp; PT ALLEY    </td></tr>",
                            "<tr><td>3 03 04615 01 6303 000             </td><td>PT OF LOT 32, &amp; PT OF LOT 1, &amp;</td></tr>",
                            "<tr><td>3 03 04615 01 6304 000             </td><td>LOT 34, &amp; PT OF 36, &amp; PT ALLEY</td></tr>",
                            "<tr><td>3 04 01806 02 1700 000             </td><td>11 &amp; 12                       </td></tr>",
                            "<tr><td>3 04 01806 02 2400 000             </td><td>2 &amp; 3                         </td></tr>",
                            "<tr><td>4 00 03704 01 2000 000             </td><td>3 &amp; 4                         </td></tr>",
                            "<tr><td>4 00 04602 01 0300 000             </td><td>12,13,14, &amp; 15                </td></tr>",
                            "<tr><td>4 00 04602 01 0700 000             </td><td>10 &amp; 11                       </td></tr>",
                            "<tr><td>4 00 04602 01 1400 000             </td><td>24 &amp; 25 PT. 23                </td></tr>",
                            "<tr><td>4 00 04602 01 1700 000             </td><td>18 &amp; PT. 19                   </td></tr>",
                            "<tr><td>4 00 04602 01 1900 000             </td><td>15 &amp; PT. 16                   </td></tr>",
                            "<tr><td>4 00 04602 01 2200 000             </td><td>12 &amp; 13                       </td></tr>",
                            "<tr><td>4 00 04602 01 2300 000             </td><td>10&amp;11                         </td></tr>",
                            "<tr><td>4 00 04602 01 3100 000             </td><td>2 &amp; 3                         </td></tr>",
                            "<tr><td>4 00 04602 01 3200 000             </td><td>1 &amp; 2                         </td></tr>",
                            "<tr><td>4 00 04602 02 4000 000             </td><td>30 &amp; 31                       </td></tr>",
                            "<tr><td>4 00 04602 02 5300 000             </td><td>16 &amp; 17                       </td></tr>",
                            "<tr><td>4 00 04602 02 5400 000             </td><td>14 &amp; 15                       </td></tr>",
                            "<tr><td>4 00 04604 01 2200 000             </td><td>21-A &amp; 22-A                   </td></tr>",
                            "<tr><td>4 00 04604 01 3100 000             </td><td>11 &amp; 12                       </td></tr>",
                            "<tr><td>4 00 04604 01 3200 000             </td><td>10 &amp; PT. 9                    </td></tr>",
                            "<tr><td>4 00 04604 01 3300 000             </td><td>7,8 &amp; PT. OF 9                </td></tr>",
                            "<tr><td>4 00 04703 02 1200 000             </td><td>20 &amp; PT. 23                   </td></tr>",
                            "<tr><td>4 00 04703 02 3300 000             </td><td>1 &amp; 5' LOT 3                  </td></tr>",
                            "<tr><td>4 00 04703 02 3400 000             </td><td>2 &amp; S. 12' OF 4               </td></tr>",
                            "<tr><td>4 00 04703 02 4200 000             </td><td>8 &amp; 9                         </td></tr>",
                            "<tr><td>4 00 04703 02 4900 000             </td><td>15 &amp; 55' OF 14                </td></tr>",
                            "<tr><td>4 00 04703 02 6000 000             </td><td>20 &amp; PT. OF 21                </td></tr>",
                            "<tr><td>4 00 04703 02 7700 000             </td><td>18 &amp; 5' OF 19                 </td></tr>",
                            "<tr><td>4 00 04803 01 2900 000             </td><td>29 &amp; 30                       </td></tr>",
                            "<tr><td>4 00 04803 01 3800 000             </td><td>38 &amp; 39                       </td></tr>",
                            "<tr><td>4 00 05701 01 0300 000             </td><td>1 &amp; 2                         </td></tr>",
                            "<tr><td>4 00 05701 01 0301 000             </td><td>3 &amp; 4                         </td></tr>",
                            "<tr><td>4 00 05800 01 0200 000             </td><td>A &amp; B                         </td></tr>",
                            "<tr><td>4 00 05800 01 0208 000             </td><td>A &amp; B                         </td></tr>",
                            "<tr><td>4 00 05800 02 3600 000             </td><td>50 &amp; PT. 51                   </td></tr>",
                            "<tr><td>4 00 05900 01 3700 000             </td><td>2 &amp; 3                         </td></tr>",
                            "<tr><td>4 03 04600 01 0713 000             </td><td>18-A &amp; PT OF 8                </td></tr>",
                            "<tr><td>4 03 04600 01 1800 000             </td><td>20-21-22-23 &amp; PT.19           </td></tr>",
                            "<tr><td>4 05 05800 01 0700 000             </td><td>PT. 16 &amp; 17                   </td></tr>",
                            "<tr><td>4 05 05800 01 0800 000             </td><td>PT. 14 &amp; 15                   </td></tr>",
                            "<tr><td>4 13 03914 01 0400 000             </td><td>3-4-5-6 &amp; PT.OF 2             </td></tr>",
                            "<tr><td>4 14 06920 01 0300 000             </td><td>5 &amp; PT. 6                     </td></tr>",
                            "<tr><td>4 14 06920 01 0500 000             </td><td>PT. OF 9 &amp; ALL OF 10          </td></tr>",
                            "<tr><td>4 14 06920 01 0900 000             </td><td>18,19,20 PT OF 17 &amp; 21        </td></tr>",
                            "<tr><td>4 14 06920 01 1101 000             </td><td>22 &amp; PT 21                    </td></tr>",
                            "<tr><td>4 14 06920 01 1700 000             </td><td>C &amp; D                         </td></tr>",
                            "<tr><td>4 14 07808 01 1001 000             </td><td>5,6 &amp; PART OF LOT 7           </td></tr>",
                            "<tr><td>4 14 07808 01 1701 000             </td><td>13 &amp; PT 12                    </td></tr>",
                            "<tr><td>5 00 11517 01 2100 000             </td><td>2B &amp; 3B                       </td></tr>",
                            "<tr><td>5 00 11517 01 2700 000             </td><td>9B &amp; PT. 10B                  </td></tr>",
                            "<tr><td>5 00 11517 01 4100 000             </td><td>21B &amp; 22B                     </td></tr>",
                            "<tr><td>5 00 14300 01 5808 000             </td><td>13 &amp; 14                       </td></tr>",
                            "<tr><td>5 00 14400 01 1200 000             </td><td>1-A &amp; 1-B                     </td></tr>",
                            "<tr><td>5 00 15000 02 1200 000             </td><td>4 &amp; 5                         </td></tr>",
                            "<tr><td>5 00 15000 02 1400 000             </td><td>1, 2 &amp; 3                      </td></tr>",
                            "<tr><td>5 00 15000 02 3300 000             </td><td>LOT 7 &amp; 8                     </td></tr>",
                            "<tr><td>5 00 15200 01 0400 000             </td><td>11 &amp; 12                       </td></tr>",
                            "<tr><td>5 00 15200 01 0500 000             </td><td>LOT 5 &amp; 6                     </td></tr>",
                            "<tr><td>5 00 15200 01 0600 000             </td><td>3 &amp; 4                         </td></tr>",
                            "<tr><td>5 00 15200 01 0700 000             </td><td>13 &amp; 14                       </td></tr>",
                            "<tr><td>5 00 15200 01 0800 000             </td><td>15 &amp; 16                       </td></tr>",
                            "<tr><td>5 00 15200 01 1100 000             </td><td>19 &amp; 20                       </td></tr>",
                            "<tr><td>5 00 15200 01 1200 000             </td><td>21 &amp; 22                       </td></tr>",
                            "<tr><td>5 00 15200 01 1600 000             </td><td>26 &amp; 27                       </td></tr>",
                            "<tr><td>5 00 15200 01 2700 000             </td><td>3 &amp; PT. 4                     </td></tr>",
                            "<tr><td>5 00 15200 01 2800 000             </td><td>LOTS 6-7&amp;8                    </td></tr>",
                            "<tr><td>5 00 15200 02 5904 000             </td><td>3 &amp; 4                         </td></tr>",
                            "<tr><td>5 00 16200 01 0106 000             </td><td>2 &amp; PT. 3                     </td></tr>",
                            "<tr><td>5 00 16314 01 0100 000             </td><td>12 &amp; &amp;T. 13                   </td></tr>",
                            "<tr><td>5 00 16314 01 0200 000             </td><td>LOT 14 &amp; 1/2 LOT 13           </td></tr>",
                            "<tr><td>5 00 16314 01 1000 000             </td><td>1,2,4 &amp; 13                    </td></tr>",
                            "<tr><td>5 00 16314 01 1200 000             </td><td>7 &amp; 10                        </td></tr>",
                            "<tr><td>5 00 16314 01 1300 000             </td><td>8 &amp; 9                         </td></tr>",
                            "<tr><td>5 00 16314 02 1700 000             </td><td>20 &amp; 21                       </td></tr>",
                            "<tr><td>5 00 17200 01 1403 000             </td><td>3 &amp; PT 4                      </td></tr>",
                            "<tr><td>5 00 17200 01 1405 000             </td><td>PT. OF #5 &amp; #4                </td></tr>",
                            "<tr><td>5 00 17200 01 1406 000             </td><td>6 &amp; PT 5                      </td></tr>",
                            "<tr><td>5 00 17200 01 1410 000             </td><td>PT. OF 10 &amp; PT. 11            </td></tr>",
                            "<tr><td>5 00 17200 01 3102 000             </td><td>15 &amp; 16                       </td></tr>",
                            "<tr><td>5 00 17200 01 6701 000             </td><td>PT. 10 &amp; PT 11                </td></tr>",
                            "<tr><td>5 00 17200 01 6703 000             </td><td>12 &amp; PT 11                    </td></tr>",
                            "<tr><td>5 00 17200 01 6704 000             </td><td>13 &amp; PT 14                    </td></tr>",
                            "<tr><td>5 00 17200 01 6706 000             </td><td>LOT 16 &amp; PT 15                </td></tr>",
                            "<tr><td>5 00 17200 01 6708 000             </td><td>17 &amp; PT 18                    </td></tr>",
                            "<tr><td>5 00 17200 01 6709 000             </td><td>18 &amp; PT 19                    </td></tr>",
                            "<tr><td>5 00 17211 01 1200 000             </td><td>12 &amp; PT.OF 13                 </td></tr>",
                            "<tr><td>5 00 17300 01 0900 000             </td><td>17, 18 &amp; PT. OF 16            </td></tr>",
                            "<tr><td>5 00 17300 01 1000 000             </td><td>15 &amp; PT. 16                   </td></tr>",
                            "<tr><td>5 00 17300 01 1400 000             </td><td>12 &amp; PT. 11                   </td></tr>",
                            "<tr><td>5 00 17300 01 1500 000             </td><td>PT. 10 &amp; 11                   </td></tr>",
                            "<tr><td>5 00 17300 01 1600 000             </td><td>9 &amp; PT. 10                    </td></tr>",
                            "<tr><td>5 00 17300 01 1700 000             </td><td>7 &amp; 8                         </td></tr>",
                            "<tr><td>5 00 17300 01 2000 000             </td><td>5 &amp; PT. 4                     </td></tr>",
                            "<tr><td>5 00 17300 01 2100 000             </td><td>PT. 3 &amp; 4                     </td></tr>",
                            "<tr><td>5 00 17300 01 2200 000             </td><td>2 &amp; PT. 3                     </td></tr>",
                            "<tr><td>5 00 17300 02 3400 000             </td><td>19 &amp; 20                       </td></tr>",
                            "<tr><td>5 00 17300 02 4000 000             </td><td>13 &amp; 14                       </td></tr>",
                            "<tr><td>5 00 17300 02 4200 000             </td><td>10 &amp; 11                       </td></tr>",
                            "<tr><td>5 00 17300 02 4300 000             </td><td>8 &amp; 9                         </td></tr>",
                            "<tr><td>5 00 17300 02 8600 000             </td><td>A &amp; B                         </td></tr>",
                            "<tr><td>5 00 17302 01 2300 000             </td><td>7 &amp; 8                         </td></tr>",
                            "<tr><td>5 00 17302 01 2600 000             </td><td>4 &amp; 5                         </td></tr>",
                            "<tr><td>5 00 17302 01 3200 000             </td><td>1 &amp; PT. 2 &amp; 25                </td></tr>",
                            "<tr><td>5 00 17302 01 3300 000             </td><td>3 &amp; PT. 2                     </td></tr>",
                            "<tr><td>5 00 17302 01 3400 000             </td><td>4 &amp; PT. 5                     </td></tr>",
                            "<tr><td>5 00 17302 01 3500 000             </td><td>PT. 5 &amp; 6                     </td></tr>",
                            "<tr><td>5 00 17302 01 3600 000             </td><td>7 &amp; PT. 6                     </td></tr>",
                            "<tr><td>5 00 17302 01 3800 000             </td><td>9 &amp; PT. 10                    </td></tr>",
                            "<tr><td>5 00 17302 01 4000 000             </td><td>11 &amp; PT. 10                   </td></tr>",
                            "<tr><td>5 00 17302 01 4500 000             </td><td>PT. LOTS 14 &amp; 15              </td></tr>",
                            "<tr><td>5 00 17302 01 4600 000             </td><td>15 &amp; 16                       </td></tr>",
                            "<tr><td>5 00 17302 01 5500 000             </td><td>PT. 24 &amp; 25                   </td></tr>",
                            "<tr><td>5 00 17302 01 8700 000             </td><td>13 &amp; PT 14                    </td></tr>",
                            "<tr><td>5 00 17400 01 2617 000             </td><td>28 &amp; 29                       </td></tr>",
                            "<tr><td>5 00 17415 01 0900 000             </td><td>9 &amp; PT. 8                     </td></tr>",
                            "<tr><td>5 00 17415 01 1100 000             </td><td>5 &amp; PT. 6                     </td></tr>",
                            "<tr><td>5 00 17415 01 1200 000             </td><td>LOT 4 &amp; PT. 3                 </td></tr>",
                            "<tr><td>5 00 17415 01 1300 000             </td><td>2 &amp; PT. 3                     </td></tr>",
                            "<tr><td>5 00 17415 01 1900 000             </td><td>11 &amp; 12                       </td></tr>",
                            "<tr><td>5 00 17415 01 2000 000             </td><td>13 &amp; PT. 14                   </td></tr>",
                            "<tr><td>5 00 17415 01 2200 000             </td><td>17 &amp; PT. 16                   </td></tr>",
                            "<tr><td>5 00 17415 01 2500 000             </td><td>25 &amp; 26 PT. 24                </td></tr>",
                            "<tr><td>5 00 17415 01 2600 000             </td><td>23 &amp; PT 22 &amp; 24               </td></tr>",
                            "<tr><td>5 00 17415 01 2700 000             </td><td>21 &amp; PT.22                    </td></tr>",
                            "<tr><td>5 00 17415 01 3300 000             </td><td>28 &amp; 29                       </td></tr>",
                            "<tr><td>5 00 17415 01 3600 000             </td><td>31 &amp; PT. 32                   </td></tr>",
                            "<tr><td>5 00 17415 01 3700 000             </td><td>PT. 32 &amp; 33                   </td></tr>",
                            "<tr><td>5 00 17415 01 3800 000             </td><td>34 &amp; PT. 33                   </td></tr>",
                            "<tr><td>5 00 17415 01 3900 000             </td><td>35 &amp; 36                       </td></tr>",
                            "<tr><td>5 00 17415 01 4200 000             </td><td>43 &amp; PT. 42                   </td></tr>",
                            "<tr><td>5 00 17415 01 4300 000             </td><td>41 &amp; PT. 42                   </td></tr>",
                            "<tr><td>5 00 17415 01 4400 000             </td><td>40 &amp; PT. #39                  </td></tr>",
                            "<tr><td>5 00 17415 01 4500 000             </td><td>38 &amp; PT. 39                   </td></tr>",
                            "<tr><td>5 00 17415 01 5100 000             </td><td>47 &amp; PT. 48                   </td></tr>",
                            "<tr><td>5 00 17415 01 5200 000             </td><td>49 &amp; PT. 48                   </td></tr>",
                            "<tr><td>5 00 17415 01 5300 000             </td><td>50 &amp; 51                       </td></tr>",
                            "<tr><td>5 00 17415 01 5400 000             </td><td>52 &amp; PT. 53                   </td></tr>",
                            "<tr><td>5 00 17415 01 5600 000             </td><td>54 &amp; PT. 53                   </td></tr>",
                            "<tr><td>5 00 17415 01 6200 000             </td><td>37 &amp; PT. 32                   </td></tr>",
                            "<tr><td>5 00 17416 01 1400 000             </td><td>34 &amp; 35                       </td></tr>",
                            "<tr><td>5 00 17416 01 2500 000             </td><td>24 &amp; 25                       </td></tr>",
                            "<tr><td>5 00 17416 01 2600 000             </td><td>23 &amp; PT. 22                   </td></tr>",
                            "<tr><td>5 00 17416 01 2700 000             </td><td>21 &amp; PT. 22                   </td></tr>",
                            "<tr><td>5 00 17416 01 2800 000             </td><td>19 &amp; 20                       </td></tr>",
                            "<tr><td>5 00 17416 01 2900 000             </td><td>18 &amp; PT. 17                   </td></tr>",
                            "<tr><td>5 00 17416 01 3000 000             </td><td>16 &amp; PT. 17                   </td></tr>",
                            "<tr><td>5 00 17416 01 3200 000             </td><td>13 &amp; PT. 14                   </td></tr>",
                            "<tr><td>5 00 17416 01 3300 000             </td><td>5 &amp; 6                         </td></tr>",
                            "<tr><td>5 00 17416 01 4400 000             </td><td>6 &amp; 5                         </td></tr>",
                            "<tr><td>5 00 17416 01 4900 000             </td><td>11 &amp; PT. 12                   </td></tr>",
                            "<tr><td>5 00 17416 01 6100 000             </td><td>25 &amp; PT. 24                   </td></tr>",
                            "<tr><td>5 00 17416 01 6800 000             </td><td>3 &amp; PT. 2                     </td></tr>",
                            "<tr><td>5 00 17416 01 6900 000             </td><td>1 &amp; PT. 2                     </td></tr>",
                            "<tr><td>5 00 17416 01 7100 000             </td><td>8 &amp; PT. 7                     </td></tr>",
                            "<tr><td>5 00 17416 01 7200 000             </td><td>PT. 6 &amp; 7                     </td></tr>",
                            "<tr><td>5 00 18104 01 3200 000             </td><td>LOTS 22 &amp; 23                  </td></tr>",
                            "<tr><td>5 00 18200 02 2100 000             </td><td>13 &amp; 14                       </td></tr>",
                            "<tr><td>5 00 18200 02 2300 000             </td><td>11 &amp; PT. 12                   </td></tr>",
                            "<tr><td>5 00 18200 02 6701 000             </td><td>PTS. 13 &amp; 14                  </td></tr>",
                            "<tr><td>5 00 18200 02 7000 000             </td><td>15 &amp; 16                       </td></tr>",
                            "<tr><td>5 00 18212 01 0100 000             </td><td>1 &amp; 2                         </td></tr>",
                            "<tr><td>5 00 18212 01 1500 000             </td><td>27 &amp; PT. 28                   </td></tr>",
                            "<tr><td>5 00 18212 01 5800 000             </td><td>60 &amp; PT. 61                   </td></tr>",
                            "<tr><td>5 00 18900 01 2700 000             </td><td>7&amp; 8                          </td></tr>",
                            "<tr><td>5 00 18900 01 5100 000             </td><td>31 &amp; 32                       </td></tr>",
                            "<tr><td>5 11 18107 01 0100 000             </td><td>15 &amp; PT. 16                   </td></tr>",
                            "<tr><td>5 11 18107 01 0300 000             </td><td>17 &amp; PT. 16 &amp; 18              </td></tr>",
                            "<tr><td>5 11 18107 01 0400 000             </td><td>19 &amp; PT. 18                   </td></tr>",
                            "<tr><td>5 11 18107 01 5900 000             </td><td>10 &amp; 11                       </td></tr>",
                            "<tr><td>5 11 18107 01 6500 000             </td><td>15 &amp; 16                       </td></tr>",
                            "<tr><td>5 11 18107 02 3400 000             </td><td>PT. 2 &amp; LOT 3                 </td></tr>",
                            "<tr><td>5 11 18107 02 3500 000             </td><td>1 &amp; PT. 2                     </td></tr>",
                            "<tr><td>5 16 17300 01 0314 000             </td><td>E2 &amp; E3                       </td></tr>",
                            "<tr><td>5 16 17414 01 0800 000             </td><td>1 &amp; PT. 2 &amp; 3                 </td></tr>",
                            "<tr><td>5 16 17414 01 1000 000             </td><td>PT. 2 &amp; 3                     </td></tr>",
                            "<tr><td>5 16 17414 01 1200 000             </td><td>PT. 3 &amp; 4                     </td></tr>",
                            "<tr><td>5 16 17414 01 1300 000             </td><td>PT. 4 &amp; 5                     </td></tr>",
                            "<tr><td>5 16 17414 01 1400 000             </td><td>PT. 4 &amp; 5                     </td></tr>",
                            "<tr><td>5 16 17414 01 1600 000             </td><td>7 &amp; 1/2 OF 8                  </td></tr>",
                            "<tr><td>5 16 17414 01 1700 000             </td><td>9 &amp; PT. 8                     </td></tr>",
                            "<tr><td>5 16 17414 01 4400 000             </td><td>9 &amp; 10                        </td></tr>",
                            "<tr><td>5 16 17414 01 4600 000             </td><td>11 &amp; 12                       </td></tr>",
                            "<tr><td>5 16 17418 01 0300 000             </td><td>PT. 10 &amp; 11                   </td></tr>",
                            "<tr><td>5 16 17418 01 1500 000             </td><td>19-23 &amp; 25-28                 </td></tr>",
                            "<tr><td>5 16 17418 01 1501 000             </td><td>19-23 &amp; 25-28                 </td></tr>",
                            "<tr><td>5 16 17418 01 1800 000             </td><td>16 &amp; PT. 15                   </td></tr>",
                            "<tr><td>5 16 17418 03 0300 000             </td><td>44 &amp; 45                       </td></tr>",
                            "<tr><td>5 16 17418 03 0500 000             </td><td>46 &amp; PT. 45                   </td></tr>",
                            "<tr><td>5 16 17418 03 0700 000             </td><td>48 &amp; 49                       </td></tr>",
                            "<tr><td>5 16 17418 03 0800 000             </td><td>50 &amp; PT. 51                   </td></tr>",
                            "<tr><td>5 16 17418 03 1100 000             </td><td>PT 53 &amp; 54                    </td></tr>",
                            "<tr><td>5 16 17418 03 4200 000             </td><td>3 &amp; 4                         </td></tr>",
                            "<tr><td>5 16 17418 03 4400 000             </td><td>6 &amp; 7                         </td></tr>",
                            "<tr><td>5 16 18305 01 2400 000             </td><td>13 &amp; 14                       </td></tr>",
                            "<tr><td>5 16 18305 01 3300 000             </td><td>8 &amp; 9                         </td></tr>",
                            "<tr><td>5 16 18306 02 1300 000             </td><td>3-6, 12-18 &amp; PT. 2 &amp; 1        </td></tr>",
                            "<tr><td>5 16 18306 03 4700 000             </td><td>PT. 1 &amp; 2                     </td></tr>",
                            "<tr><td>5 16 18306 03 4800 000             </td><td>PT. 2 &amp; 3                     </td></tr>",
                            "<tr><td>5 16 18306 03 4900 000             </td><td>PT. 3 &amp; 4                     </td></tr>",
                            "<tr><td>5 16 18306 03 5000 000             </td><td>PT. 4 &amp; 5                     </td></tr>",
                            "<tr><td>5 16 18306 03 5100 000             </td><td>PT. 5 &amp; 3                     </td></tr>",
                            "<tr><td>5 16 18306 03 5500 000             </td><td>4 &amp; PT.OF 5 &amp; 6               </td></tr>",
                            "<tr><td>5 16 18306 04 1600 000             </td><td>53 &amp; 54                       </td></tr>",
                            "<tr><td>5 16 18306 04 2700 000             </td><td>7 &amp; 8                         </td></tr>",
                            "<tr><td>5 16 18306 04 4301 000             </td><td>41 &amp; 42                       </td></tr>",
                            "<tr><td>5 16 18306 04 4700 000             </td><td>21 &amp; 22                       </td></tr>",
                            "<tr><td>5 16 18307 01 3400 000             </td><td>8 &amp; 9                         </td></tr>",
                            "<tr><td>5 16 18307 01 4000 000             </td><td>1 &amp; 2                         </td></tr>",
                            "<tr><td>5 16 18307 01 5200 000             </td><td>13 &amp; PT. 14                   </td></tr>",
                            "<tr><td>5 16 18307 01 5300 000             </td><td>PT. 14 &amp; 15                   </td></tr>",
                            "<tr><td>5 16 18307 01 5400 000             </td><td>PT. 15 &amp; 16                   </td></tr>",
                            "<tr><td>5 16 18307 01 5900 000             </td><td>27 &amp; PT. 28                   </td></tr>",
                            "<tr><td>5 16 18309 01 3900 000             </td><td>10 &amp; 11                       </td></tr>",
                            "<tr><td>5 16 18309 01 4200 000</td><td>4 &amp; 5                         </td></tr>",
                            "<tr><td>5 16 18309 01 4300 000</td><td>2 &amp; 3                         </td></tr>",
                            "<tr><td>5 16 18310 04 0900 000             </td><td>25 &amp; 40                       </td></tr>",
                            "<tr><td>5 16 18310 04 1200 000             </td><td>37, 38 &amp; PT. 39               </td></tr>",
                            "<tr><td>6 00 16700 01 2603 000             </td><td>2 &amp; 3                         </td></tr>",
                            "<tr><td>6 00 17000 01 1000 000             </td><td>35 &amp; 36                       </td></tr>",
                            "<tr><td>6 00 17000 01 1600 000             </td><td>28 &amp; 29                       </td></tr>",
                            "<tr><td>6 00 17000 01 1900 000             </td><td>25 &amp; 26                       </td></tr>",
                            "<tr><td>6 00 17000 01 2200 000             </td><td>23 &amp; 24                       </td></tr>",
                            "<tr><td>6 00 17000 01 2300 000             </td><td>21 &amp; 22                       </td></tr>",
                            "<tr><td>6 00 17000 01 2500 000             </td><td>19 &amp; 20                       </td></tr>",
                            "<tr><td>6 00 17000 01 2800 000             </td><td>17 &amp; 18                       </td></tr>",
                            "<tr><td>6 00 17000 01 3300 000             </td><td>11 &amp; 12                       </td></tr>",
                            "<tr><td>6 00 17000 01 3500 000             </td><td>9 &amp; 10                        </td></tr>",
                            "<tr><td>6 00 17000 01 4000 000             </td><td>5 &amp; 6                         </td></tr>",
                            "<tr><td>6 00 17000 01 4200 000             </td><td>3 &amp; 4                         </td></tr>",
                            "<tr><td>6 00 17000 01 5505 000             </td><td>13 &amp; 14                       </td></tr>",
                            "<tr><td>6 00 17016 01 0400 000             </td><td>69, 71, 73 &amp; 75               </td></tr>",
                            "<tr><td>6 00 17100 01 0500 000             </td><td>1 &amp; 2                         </td></tr>",
                            "<tr><td>6 00 17100 01 4700 000             </td><td>1-5 &amp; 8-10                    </td></tr>",
                            "<tr><td>6 00 17100 04 1200 000             </td><td>1/2 35 &amp; 36                   </td></tr>",
                            "<tr><td>6 00 17100 04 6200 000             </td><td>11 &amp; PT. 10                   </td></tr>",
                            "<tr><td>6 00 17100 04 6300 000             </td><td>9 &amp; PT. 10                    </td></tr>",
                            "<tr><td>6 00 17100 04 6400 000             </td><td>7 &amp; 8                         </td></tr>",
                            "<tr><td>6 00 17100 04 6600 000             </td><td>4 &amp; 5                         </td></tr>",
                            "<tr><td>6 00 17100 04 6800 000             </td><td>1 &amp; 2                         </td></tr>",
                            "<tr><td>6 00 17100 05 0500 000             </td><td>10-A &amp; PT. 10                 </td></tr>",
                            "<tr><td>6 00 17100 05 0900 000             </td><td>4 &amp; 5 &amp; 30' OF 3              </td></tr>",
                            "<tr><td>6 00 17100 05 3000 000             </td><td>4 &amp; 1/2 5                     </td></tr>",
                            "<tr><td>6 00 17100 05 3400 000             </td><td>PT. LOT 7 &amp; 8                 </td></tr>",
                            "<tr><td>6 00 17200 01 3409 000             </td><td>LOTS 9 &amp; 10                   </td></tr>",
                            "<tr><td>6 00 17900 01 0103 000             </td><td>2&amp;4-6                         </td></tr>",
                            "<tr><td>6 00 17900 01 2300 000             </td><td>13 &amp; PT. 12                   </td></tr>",
                            "<tr><td>6 00 17900 01 2400 000             </td><td>11 &amp; PT 12                    </td></tr>",
                            "<tr><td>6 00 17900 01 2600 000             </td><td>8, 9 &amp; PT. 7                  </td></tr>",
                            "<tr><td>6 00 17900 02 2200 000             </td><td>11, 13-18 &amp; PT. 6-7-8         </td></tr>",
                            "<tr><td>6 00 17900 02 2800 000             </td><td>50 &amp; PT. 51 &amp; PT 52           </td></tr>",
                            "<tr><td>6 00 17900 02 2900 000             </td><td>PT. 51 &amp; 52                   </td></tr>",
                            "<tr><td>6 00 17900 02 3000 000             </td><td>PT. 52 &amp; 53                   </td></tr>",
                            "<tr><td>6 00 17900 02 3200 000             </td><td>58-56 &amp; PT. 55                </td></tr>",
                            "<tr><td>6 00 17900 02 4000 000             </td><td>8-13 &amp; 15-20                  </td></tr>",
                            "<tr><td>6 00 17900 02 4001 000             </td><td>15 &amp; 16</td></tr>",
                            "<tr><td>6 00 18600 01 3111 000             </td><td>10 &amp; 11                       </td></tr>",
                            "<tr><td>6 00 19200 01 2803 000             </td><td>2 &amp; HALF OF 1                 </td></tr>",
                            "<tr><td>6 00 19300 02 1803 000             </td><td>LOT #3 &amp; #4                   </td></tr>",
                            "<tr><td>6 00 19300 02 4500 000             </td><td>6 &amp; PT. OF 7                  </td></tr>",
                            "<tr><td>6 00 19400 01 3502 000             </td><td>1 &amp; 2                         </td></tr>",
                            "<tr><td>6 00 19400 02 0400 000             </td><td>3 &amp; 4                         </td></tr>",
                            "<tr><td>6 00 19900 01 5600 000             </td><td>10-45 &amp; S. 1/2 9 &amp; 44         </td></tr>",
                            "<tr><td>6 09 17002 01 0400 000             </td><td>110,112,114 &amp; 116             </td></tr>",
                            "<tr><td>6 09 17002 01 0500 000             </td><td>118,120,122 &amp; 124             </td></tr>",
                            "<tr><td>6 09 17016 02 0300 000             </td><td>1, 3, 5, 7 &amp; 9                </td></tr>",
                            "<tr><td>6 09 17016 02 0400 000             </td><td>11, 13, 15 &amp; 17               </td></tr>",
                            "<tr><td>6 09 17016 02 0500 000             </td><td>19, 21, 23 &amp; 25               </td></tr>",
                            "<tr><td>6 09 17016 02 0600 000             </td><td>27-29-31-33-35-37 &amp; 39        </td></tr>",
                            "<tr><td>6 09 17016 02 1100 000             </td><td>32, 34, 36 &amp; 38               </td></tr>",
                            "<tr><td>6 09 17016 02 1200 000             </td><td>28 &amp; 30                       </td></tr>",
                            "<tr><td>6 09 17016 02 1300 000             </td><td>22, 24 &amp; 26                   </td></tr>",
                            "<tr><td>6 09 17016 02 1400 000             </td><td>14, 16, 18 &amp; 20               </td></tr>",
                            "<tr><td>6 09 17016 02 2400 000             </td><td>8 &amp; 9                         </td></tr>",
                            "<tr><td>6 09 17016 02 2500 000             </td><td>6 &amp; 7                         </td></tr>",
                            "<tr><td>6 09 17016 02 3100 000             </td><td>6, 7, &amp; 8                     </td></tr>",
                            "<tr><td>6 09 17016 02 3200 000             </td><td>4 &amp; 5                         </td></tr>",
                            "<tr><td>6 09 17016 02 3500 000             </td><td>7 &amp; PT. 6                     </td></tr>",
                            "<tr><td>6 09 17016 02 3600 000             </td><td>5 &amp; PT. 6                     </td></tr>",
                            "<tr><td>6 09 17016 02 3900 000             </td><td>4 &amp; 5                         </td></tr>",
                            "<tr><td>6 09 17016 02 4600 000             </td><td>4 &amp; 5                         </td></tr>",
                            "<tr><td>6 09 17016 02 4700 000             </td><td>6 &amp; 7                         </td></tr>",
                            "<tr><td>6 09 17016 02 4800 000             </td><td>8 &amp; 9                         </td></tr>",
                            "<tr><td>6 09 17016 02 5100 000             </td><td>PT OF LOTS 11,12 &amp; 13         </td></tr>",
                            "<tr><td>6 09 17016 02 8300 000             </td><td>40 &amp; 42                       </td></tr>",
                            "<tr><td>6 09 17020 02 0500 000             </td><td>19,21,23 &amp; 25                 </td></tr>",
                            "<tr><td>6 09 17020 02 4600 000             </td><td>6 &amp; 7                         </td></tr>",
                            "<tr><td>6 09 17020 02 5200 000             </td><td>PT. 19 &amp; 20                   </td></tr>",
                            "<tr><td>6 09 17020 02 5300 000             </td><td>PT. 19 &amp; 20                   </td></tr>",
                            "<tr><td>6 09 17020 02 6200 000             </td><td>PT. 28 &amp; 29                   </td></tr>",
                            "<tr><td>6 09 17020 04 5400 000             </td><td>1 &amp; 2                         </td></tr>",
                            "<tr><td>6 09 17020 04 5500 000             </td><td>PT. 2 &amp; 3                     </td></tr>",
                            "<tr><td>6 09 17020 04 5501 000             </td><td>PT. LOT 3 &amp; 4                 </td></tr>",
                            "<tr><td>6 09 17020 04 5600 000             </td><td>5 &amp; PT. 4 &amp; 6                 </td></tr>",
                            "<tr><td>6 09 17020 04 5700 000             </td><td>7 &amp; PT. 6                     </td></tr>",
                            "<tr><td>6 09 17020 04 5800 000             </td><td>8 &amp; 9                         </td></tr>",
                            "<tr><td>6 09 17020 05 1500 000             </td><td>3 &amp; 4                         </td></tr>",
                            "<tr><td>6 09 17020 05 1600 000             </td><td>5 &amp; 6                         </td></tr>",
                            "<tr><td>6 09 17020 05 1700 000             </td><td>LOTS 7 &amp; 8                    </td></tr>",
                            "<tr><td>6 09 17020 05 2200 000             </td><td>PT. 51 &amp; 52                   </td></tr>",
                            "<tr><td>6 09 17020 05 2201 000             </td><td>PT. 51 &amp; 52                   </td></tr>",
                            "<tr><td>6 09 17020 05 2300 000             </td><td>50 &amp; PT. 49                   </td></tr>",
                            "<tr><td>6 09 17020 05 2500 000             </td><td>LOT 46 &amp; 1/2 LOT 47           </td></tr>",
                            "<tr><td>6 09 17020 05 2600 000             </td><td>44 &amp; 45                       </td></tr>",
                            "<tr><td>6 09 17020 05 3100 000             </td><td>13 &amp; PT. 12                   </td></tr>",
                            "<tr><td>6 09 17020 05 3200 000             </td><td>11 &amp; PT. 12                   </td></tr>",
                            "<tr><td>6 09 17020 05 3300 000             </td><td>LOTS 9 &amp; 10                   </td></tr>",
                            "<tr><td>6 09 17020 05 3500 000             </td><td>7 &amp; 8                         </td></tr>",
                            "<tr><td>6 09 17113 01 0802 000             </td><td>PT. 20 &amp; 102                  </td></tr>",
                            "<tr><td>6 09 17113 01 1300 000             </td><td>1-2 &amp; PT. 3                   </td></tr>",
                            "<tr><td>6 09 17113 01 1500 000             </td><td>13 &amp; 15                       </td></tr>",
                            "<tr><td>6 09 17113 01 1600 000             </td><td>17 &amp; 19                       </td></tr>",
                            "<tr><td>6 09 17113 01 1800 000             </td><td>105 &amp; 107                     </td></tr>",
                            "<tr><td>6 09 17113 01 1900 000             </td><td>109 &amp; 111                     </td></tr>",
                            "<tr><td>6 09 17113 01 2000 000             </td><td>113 &amp; 115                     </td></tr>",
                            "<tr><td>6 09 17113 01 2200 000             </td><td>1 &amp; 2                         </td></tr>",
                            "<tr><td>6 09 17113 01 2300 000             </td><td>3 &amp; 4                         </td></tr>",
                            "<tr><td>6 09 17113 01 2400 000             </td><td>5 &amp; PT. 6                     </td></tr>",
                            "<tr><td>6 09 17113 01 2500 000             </td><td>7 &amp; PT. 6                     </td></tr>",
                            "<tr><td>6 09 17113 01 2800 000             </td><td>114 &amp; 116                     </td></tr>",
                            "<tr><td>6 09 17113 01 2900 000             </td><td>112 &amp; PT. 110                 </td></tr>",
                            "<tr><td>6 09 17113 01 3000 000             </td><td>108 &amp; PT. 110                 </td></tr>",
                            "<tr><td>6 09 17113 01 3100 000             </td><td>104 &amp; 106                     </td></tr>",
                            "<tr><td>6 09 17113 01 3400 000             </td><td>18 &amp; PT. 4                    </td></tr>",
                            "<tr><td>6 09 17117 01 0100 000             </td><td>115 &amp; PT. 113                 </td></tr>",
                            "<tr><td>6 09 17117 01 0200 000             </td><td>111 &amp; PT. 113                 </td></tr>",
                            "<tr><td>6 09 17117 01 0300 000             </td><td>105, 107 &amp; 109                </td></tr>",
                            "<tr><td>6 09 17117 01 0400 000             </td><td>101 &amp; 103                     </td></tr>",
                            "<tr><td>6 09 17117 01 0600 000             </td><td>15 &amp; PT. 13 &amp; 17              </td></tr>",
                            "<tr><td>6 09 17117 01 0700 000             </td><td>11 &amp; PT. 9 &amp; 13               </td></tr>",
                            "<tr><td>6 09 17117 01 0700 001             </td><td>11 &amp; PT. 9 &amp; 13               </td></tr>",
                            "<tr><td>6 09 17117 01 0800 000             </td><td>7 &amp; PT. 9                     </td></tr>",
                            "<tr><td>6 09 17117 01 0900 000             </td><td>1 &amp; 2                         </td></tr>",
                            "<tr><td>6 09 17117 01 1000 000             </td><td>3 &amp; 4                         </td></tr>",
                            "<tr><td>6 09 17117 01 1100 000             </td><td>5 &amp; 6                         </td></tr>",
                            "<tr><td>6 09 17117 01 1200 000             </td><td>8 &amp; 10 &amp; PT 12                </td></tr>",
                            "<tr><td>6 09 17117 01 1300 000             </td><td>14 &amp; PT. 12                   </td></tr>",
                            "<tr><td>6 09 17117 01 1400 000             </td><td>16 &amp; PT. 18                   </td></tr>",
                            "<tr><td>6 09 17117 01 2000 000             </td><td>122,114 &amp; 116                 </td></tr>",
                            "<tr><td>6 09 17117 01 2100 000             </td><td>109 &amp; 111                     </td></tr>",
                            "<tr><td>6 09 17117 01 2300 000             </td><td>17 &amp; 19                       </td></tr>",
                            "<tr><td>6 09 17117 01 2400 000             </td><td>13 &amp; 15                       </td></tr>",
                            "<tr><td>6 09 17117 01 2500 000             </td><td>11 &amp; 1/2 9                    </td></tr>",
                            "<tr><td>6 09 17117 01 2501 000             </td><td>7 &amp; 1/2 9                     </td></tr>",
                            "<tr><td>6 09 17117 01 2600 000             </td><td>1 &amp; 2                         </td></tr>",
                            "<tr><td>6 09 17117 01 2900 000             </td><td>8 &amp; PT. 10                    </td></tr>",
                            "<tr><td>6 09 17117 01 3000 000             </td><td>12 &amp; PT. 10                   </td></tr>",
                            "<tr><td>6 09 17117 01 3100 000             </td><td>14 &amp; 16                       </td></tr>",
                            "<tr><td>6 09 17117 01 3200 000             </td><td>18 &amp; PT. 20                   </td></tr>",
                            "<tr><td>6 09 17117 01 3700 000             </td><td>28 &amp; PT. 27                   </td></tr>",
                            "<tr><td>6 09 17117 01 3900 000             </td><td>30 &amp; 31                       </td></tr>",
                            "<tr><td>6 09 17117 01 5500 000             </td><td>21 &amp; 22                       </td></tr>",
                            "<tr><td>6 09 17117 01 5900 000             </td><td>PT. 25 &amp; 26                   </td></tr>",
                            "<tr><td>6 09 17117 01 6500 000             </td><td>24 &amp; 25                       </td></tr>",
                            "<tr><td>6 09 17117 01 6900 000             </td><td>20 &amp; 21                       </td></tr>",
                            "<tr><td>6 09 17117 01 7200 000             </td><td>16 &amp; 17                       </td></tr>",
                            "<tr><td>6 09 17117 01 7300 000             </td><td>14 &amp; 15                       </td></tr>",
                            "<tr><td>6 09 17117 01 7600 000             </td><td>31 &amp; 32                       </td></tr>",
                            "<tr><td>6 09 17117 01 9200 000             </td><td>34 &amp; 1/2 35                   </td></tr>",
                            "<tr><td>6 09 17117 01 9300 000             </td><td>32 &amp; 33                       </td></tr>",
                            "<tr><td>6 09 17907 01 6000 000             </td><td>13-18 &amp; PT. 6-8               </td></tr>",
                            "<tr><td>6 09 17907 01 6300 000             </td><td>34 &amp; 35                       </td></tr>",
                            "<tr><td>6 09 17907 01 6801 000             </td><td>PT. LOTS 37-38&amp;39             </td></tr>",
                            "<tr><td>6 09 17907 01 6802 000             </td><td>LOT 35 &amp; PT.34-36&amp;40          </td></tr>",
                            "<tr><td>6 09 17907 01 6803 000             </td><td>32,33 &amp; PTS. 34 &amp; 40          </td></tr>",
                            "<tr><td>6 09 17907 01 7800 000             </td><td>LOT 29; PT OF LOTS 38 &amp; 41    </td></tr>",
                            "<tr><td>6 09 17907 01 8000 000             </td><td>24 &amp; 25                       </td></tr>",
                            "<tr><td>6 09 17908 01 0100 000             </td><td>PT. 40 &amp; 41                   </td></tr>",
                            "<tr><td>6 09 17908 01 0200 000             </td><td>PT. 40 &amp; 41                   </td></tr>",
                            "<tr><td>6 09 17908 01 0500 000             </td><td>PT. OF 43 &amp; 44                </td></tr>",
                            "<tr><td>6 09 17908 01 0600 000             </td><td>PT. 44 &amp; 45                   </td></tr>",
                            "<tr><td>6 09 17908 01 0700 000             </td><td>PT. 45 &amp; 46                   </td></tr>",
                            "<tr><td>6 09 17908 01 0800 000             </td><td>47 &amp; PT. 46                   </td></tr>",
                            "<tr><td>6 09 17908 01 4800 000             </td><td>7 &amp; 8                         </td></tr>",
                            "<tr><td>6 09 17908 01 5300 000             </td><td>PT. 33 &amp; 34                   </td></tr>",
                            "<tr><td>6 09 17908 01 5400 000             </td><td>PT. 33 &amp; 34                   </td></tr>",
                            "<tr><td>6 09 17908 01 5500 000             </td><td>31 &amp; 32                       </td></tr>",
                            "<tr><td>6 09 17908 01 6800 000             </td><td>46 &amp; 47                       </td></tr>",
                            "<tr><td>6 09 17908 01 7501 000             </td><td>63 &amp; PT. 62 &amp; 64              </td></tr>",
                            "<tr><td>6 09 17908 01 7600 000             </td><td>61 &amp; PT. 62                   </td></tr>",
                            "<tr><td>6 09 17908 02 0100 000             </td><td>59, 60 &amp; PT OF 61             </td></tr>",
                            "<tr><td>6 09 17908 02 0101 000             </td><td>58 &amp; PT. 59                   </td></tr>",
                            "<tr><td>6 09 17908 02 4200 000             </td><td>LOT 5 &amp; PT. #6                </td></tr>",
                            "<tr><td>6 09 17908 02 4300 000             </td><td>7 &amp; PT. 6                     </td></tr>",
                            "<tr><td>6 09 17908 02 5400 000             </td><td>PT. 35 &amp; 36                   </td></tr>",
                            "<tr><td>6 09 17908 02 5500 000             </td><td>PT. 35 &amp; 36                   </td></tr>",
                            "<tr><td>6 09 17908 02 6400 000             </td><td>8 &amp; 9                         </td></tr>",
                            "<tr><td>6 09 17908 02 6700 000             </td><td>12 &amp; 13                       </td></tr>",
                            "<tr><td>6 09 17908 02 6900 000             </td><td>72 &amp; 73                       </td></tr>",
                            "<tr><td>6 09 17908 02 7000 000             </td><td>70 &amp; 71                       </td></tr>",
                            "<tr><td>6 09 17908 02 7300 000             </td><td>67 &amp; 68                       </td></tr>",
                            "<tr><td>6 09 17908 02 7400 000             </td><td>81 &amp; PT. 82                   </td></tr>",
                            "<tr><td>6 09 17908 02 7500 000             </td><td>PT. 82 &amp; 83                   </td></tr>",
                            "<tr><td>6 09 17908 02 7600 000             </td><td>87 &amp; 88                       </td></tr>",
                            "<tr><td>6 09 17908 02 7900 000             </td><td>84, 85 &amp; PT. 83               </td></tr>",
                            "<tr><td>6 09 17908 03 0600 000             </td><td>16 &amp; 17                       </td></tr>",
                            "<tr><td>6 09 17908 03 1901 000             </td><td>5 &amp; 6                         </td></tr>",
                            "<tr><td>6 09 17908 03 1902 000             </td><td>8 &amp; 9                         </td></tr>",
                            "<tr><td>6 09 17908 06 1700 000             </td><td>2 &amp; 3                         </td></tr>",
                            "<tr><td>6 09 17908 06 2300 000             </td><td>71 &amp; 72                       </td></tr>",
                            "<tr><td>6 09 17908 06 2400 000             </td><td>73 &amp; 74                       </td></tr>",
                            "<tr><td>6 09 17908 06 3400 000             </td><td>51 &amp; PT OF 52                 </td></tr>",
                            "<tr><td>6 09 17908 06 3500 000             </td><td>53 &amp; 54 &amp; PT. 52              </td></tr>",
                            "<tr><td>6 09 17908 06 3600 000             </td><td>55 &amp; 56                       </td></tr>",
                            "<tr><td>6 09 17908 06 3700 000             </td><td>57 &amp; 58                       </td></tr>",
                            "<tr><td>6 09 17908 06 3900 000             </td><td>12 &amp; PT. 13                   </td></tr>",
                            "<tr><td>6 09 18005 01 0100 000             </td><td>43 &amp; 44                       </td></tr>",
                            "<tr><td>6 09 18005 01 0400 000             </td><td>47 &amp; 48                       </td></tr>",
                            "<tr><td>6 09 18005 01 0500 000             </td><td>49 &amp; 50                       </td></tr>",
                            "<tr><td>6 09 18005 01 1700 000             </td><td>33 &amp; PT. 34                   </td></tr>",
                            "<tr><td>6 09 18005 01 2100 000             </td><td>10 &amp; PT. 11                   </td></tr>",
                            "<tr><td>6 09 18005 01 2200 000             </td><td>12 &amp; PT. 11                   </td></tr>",
                            "<tr><td>6 09 18005 01 2300 000             </td><td>13 &amp; PT. 14                   </td></tr>",
                            "<tr><td>6 09 18005 01 2400 000             </td><td>15 &amp; PT. 14                   </td></tr>",
                            "<tr><td>6 09 18005 01 2500 000             </td><td>16 &amp; 17                       </td></tr>",
                            "<tr><td>6 09 18005 01 2800 000             </td><td>20 &amp; PT. 19                   </td></tr>",
                            "<tr><td>6 09 18005 01 4100 000             </td><td>29-35 &amp; PT. 50                </td></tr>",
                            "<tr><td>6 09 18005 01 4700 000             </td><td>44-49 &amp; PT. 50                </td></tr>",
                            "<tr><td>7 00 08520 01 0300 000             </td><td>13 &amp; 14 PTS. 11 &amp; 12          </td></tr>",
                            "<tr><td>7 00 08520 01 0401 000             </td><td>PTS. 11, 12 &amp; 33              </td></tr>",
                            "<tr><td>7 00 08520 01 0600 000             </td><td>PTS. 7 &amp; 8                    </td></tr>",
                            "<tr><td>7 00 08520 01 1100 000             </td><td>19 &amp; 20                       </td></tr>",
                            "<tr><td>7 00 08520 01 1700 000             </td><td>5-11 &amp; PT. 12                 </td></tr>",
                            "<tr><td>7 00 08520 01 1800 000             </td><td>13 &amp; 14                       </td></tr>",
                            "<tr><td>7 00 08520 01 2100 000             </td><td>15 &amp; 16                       </td></tr>",
                            "<tr><td>7 00 08520 01 2800 000             </td><td>23 &amp; 24                       </td></tr>",
                            "<tr><td>7 00 08520 01 3100 000             </td><td>PTS. 5 &amp; 6                    </td></tr>",
                            "<tr><td>7 00 08603 01 0300 000             </td><td>PTS. 1 &amp; 2                    </td></tr>",
                            "<tr><td>7 00 08603 01 0400 000             </td><td>3 &amp; PT. 2                     </td></tr>",
                            "<tr><td>7 00 08603 01 0600 000             </td><td>5 &amp; PT. 4                     </td></tr>",
                            "<tr><td>7 00 08603 01 3200 000             </td><td>31&amp;32                         </td></tr>",
                            "<tr><td>7 00 08603 01 4800 000             </td><td>56 &amp; PT OF 57                 </td></tr>",
                            "<tr><td>7 00 08603 02 1700 000             </td><td>108 &amp; 109                     </td></tr>",
                            "<tr><td>7 00 08604 01 0900 000             </td><td>MAJOR PT OF 5 &amp; 6             </td></tr>",
                            "<tr><td>7 00 08604 01 1000 000             </td><td>4 &amp; PT. 5                     </td></tr>",
                            "<tr><td>7 00 08604 01 4600 000             </td><td>138-138A &amp; PT OF LOT 104-A    </td></tr>",
                            "<tr><td>7 00 08613 01 1400 000             </td><td>5 &amp; 6                         </td></tr>",
                            "<tr><td>7 00 08613 01 2300 000             </td><td>9 &amp; PT. LOT #11-B             </td></tr>",
                            "<tr><td>7 00 08613 01 3400 000             </td><td>6,7 &amp; PT. OF 8                </td></tr>",
                            "<tr><td>7 00 08613 01 3401 000             </td><td>PT. LOTS 8 &amp; 9                </td></tr>",
                            "<tr><td>7 00 08617 03 3600 000             </td><td>50-54 &amp; PT. 55                </td></tr>",
                            "<tr><td>7 00 08617 03 3700 000             </td><td>56-58 &amp; PT. 55 &amp; 59           </td></tr>",
                            "<tr><td>7 00 08617 03 3800 000             </td><td>60-64 PT 59 &amp; 65              </td></tr>",
                            "<tr><td>7 00 08617 03 4300 000             </td><td>171 &amp; 85                      </td></tr>",
                            "<tr><td>7 00 08617 03 5700 000             </td><td>116 &amp; 119 PT. 120             </td></tr>",
                            "<tr><td>7 00 08617 03 6000 000             </td><td>132-134 PT. 131 &amp; 135         </td></tr>",
                            "<tr><td>7 00 08617 03 6804 000             </td><td>LOT 4 &amp; 5                     </td></tr>",
                            "<tr><td>7 00 08617 03 6812 000             </td><td>PT. 12 &amp; PT. 11               </td></tr>",
                            "<tr><td>7 00 08617 03 6813 000             </td><td>13 &amp; PT. 12                   </td></tr>",
                            "<tr><td>7 00 08618 01 2800 000             </td><td>A-1 &amp; A-2                     </td></tr>",
                            "<tr><td>7 00 09408 02 0100 000             </td><td>18 &amp; 19                       </td></tr>",
                            "<tr><td>7 00 09408 02 0300 000             </td><td>20 &amp; 21                       </td></tr>",
                            "<tr><td>7 00 09408 02 0400 000             </td><td>22&amp;23                         </td></tr>",
                            "<tr><td>7 00 09408 02 0500 000             </td><td>24 &amp; 25                       </td></tr>",
                            "<tr><td>7 00 09408 02 0600 000             </td><td>26 &amp; 27                       </td></tr>",
                            "<tr><td>7 00 09408 02 0900 000             </td><td>PT 92 &amp; 93                    </td></tr>",
                            "<tr><td>7 00 09408 02 1001 000             </td><td>PT.OF 91 &amp; 92                 </td></tr>",
                            "<tr><td>7 00 09408 02 1100 000             </td><td>PT. 28 &amp; 29                   </td></tr>",
                            "<tr><td>7 00 09408 02 1500 000             </td><td>30 &amp; 31                       </td></tr>",
                            "<tr><td>7 00 09408 02 1600 000             </td><td>LOTS 32-33 &amp; 34               </td></tr>",
                            "<tr><td>7 00 09408 02 1900 000             </td><td>14, 15 &amp; PT. 16               </td></tr>",
                            "<tr><td>7 00 09408 02 2000 000             </td><td>12 &amp; 13                       </td></tr>",
                            "<tr><td>7 00 09408 02 2300 000             </td><td>PT. 37 &amp; 38                   </td></tr>",
                            "<tr><td>7 00 09408 02 2400 000             </td><td>39 PT. 38 &amp; 40                </td></tr>",
                            "<tr><td>7 00 09408 02 2700 000             </td><td>42 &amp; 43                       </td></tr>",
                            "<tr><td>7 00 09408 02 3100 000             </td><td>86 &amp; 87                       </td></tr>",
                            "<tr><td>7 00 09408 02 3200 000             </td><td>44 &amp; 45                       </td></tr>",
                            "<tr><td>7 00 09408 02 3300 000             </td><td>46 &amp; PT. 47                   </td></tr>",
                            "<tr><td>7 00 09408 02 3400 000             </td><td>PT. 48 &amp; PT 47                </td></tr>",
                            "<tr><td>7 00 09408 02 3500 000             </td><td>49 &amp; PT. 48                   </td></tr>",
                            "<tr><td>7 00 09408 02 3701 000             </td><td>5 &amp; 6                         </td></tr>",
                            "<tr><td>7 00 09408 02 3900 000             </td><td>53 &amp; 54                       </td></tr>",
                            "<tr><td>7 00 09408 02 4800 000             </td><td>60 &amp; 61                       </td></tr>",
                            "<tr><td>7 00 09408 02 5500 000             </td><td>LOTS 68 &amp; 69                  </td></tr>",
                            "<tr><td>7 00 09408 02 5600 000             </td><td>70 &amp; 71                       </td></tr>",
                            "<tr><td>7 00 09408 02 6000 000             </td><td>78 &amp; 79                       </td></tr>",
                            "<tr><td>7 00 09410 01 0700 000             </td><td>41 &amp; PT. 40                   </td></tr>",
                            "<tr><td>7 00 09410 01 1100 000             </td><td>39 &amp; PT. OF 40                </td></tr>",
                            "<tr><td>7 00 09410 01 1300 000             </td><td>29 &amp; PT. 31                   </td></tr>",
                            "<tr><td>7 00 09410 01 1400 000             </td><td>33, 35 &amp; PT. 31               </td></tr>",
                            "<tr><td>7 00 09410 01 1800 000             </td><td>LOT 37 &amp; 38                   </td></tr>",
                            "<tr><td>7 00 09410 01 4200 000             </td><td>12 &amp; PT. 13                   </td></tr>",
                            "<tr><td>7 00 09410 01 4300 000             </td><td>14 &amp; PT. 15                   </td></tr>",
                            "<tr><td>7 00 09410 01 4301 000             </td><td>14 &amp; PT. 15                   </td></tr>",
                            "<tr><td>7 00 09410 01 4302 000             </td><td>14 &amp; PT. 15                   </td></tr>",
                            "<tr><td>7 00 09412 02 0700 000             </td><td>5 &amp; 6                         </td></tr>",
                            "<tr><td>7 00 09415 04 0900 000             </td><td>1 &amp; 3                         </td></tr>",
                            "<tr><td>7 00 09415 04 1600 000             </td><td>5 &amp; 7, PT OF 9,11,13          </td></tr>",
                            "<tr><td>7 00 09415 04 2000 000             </td><td>PT. 9 &amp; 11                    </td></tr>",
                            "<tr><td>7 00 09419 01 0100 000             </td><td>2 &amp; PT. 4                     </td></tr>",
                            "<tr><td>7 00 09419 01 1900 000             </td><td>25 &amp; 27                       </td></tr>",
                            "<tr><td>7 00 09420 01 1700 000             </td><td>PT 1 &amp; ALL 2                  </td></tr>",
                            "<tr><td>7 00 09505 01 4200 000             </td><td>11 &amp; PT. 10                   </td></tr>",
                            "<tr><td>7 00 09505 01 4900 000             </td><td>PT. 9 &amp; 10                    </td></tr>",
                            "<tr><td>7 00 09505 01 5000 000             </td><td>8 &amp; PT. 9                     </td></tr>",
                            "<tr><td>7 00 09505 01 5600 000             </td><td>19 &amp; 20                       </td></tr>",
                            "<tr><td>7 00 09505 01 5900 000             </td><td>PT. 20 &amp; 21                   </td></tr>",
                            "<tr><td>7 00 09505 01 6200 000             </td><td>PT. 21 &amp; 22                   </td></tr>",
                            "<tr><td>7 00 09505 01 6600 000             </td><td>PT. 22 &amp; 23                   </td></tr>",
                            "<tr><td>7 00 09505 01 6900 000             </td><td>24 &amp; PT. 23                   </td></tr>",
                            "<tr><td>7 00 09505 02 1800 000             </td><td>C-30 &amp; PT. 31                 </td></tr>",
                            "<tr><td>7 00 09505 02 2000 000             </td><td>16 &amp; 17                       </td></tr>",
                            "<tr><td>7 00 09505 02 2100 000             </td><td>14 &amp; 15                       </td></tr>",
                            "<tr><td>7 00 09505 02 3700 000             </td><td>6 &amp; 7                         </td></tr>",
                            "<tr><td>7 00 09505 02 3800 000             </td><td>2 &amp; 8                         </td></tr>",
                            "<tr><td>7 00 09505 02 4500 000             </td><td>9 &amp; 10                        </td></tr>",
                            "<tr><td>7 00 09505 02 5400 000             </td><td>PT. 4 &amp; 5                     </td></tr>",
                            "<tr><td>7 00 09505 02 6000 000             </td><td>PT. LOT 4 &amp; PT. LOT 5         </td></tr>",
                            "<tr><td>7 00 09505 02 7000 000             </td><td>LOTS #A-1 &amp; A-2               </td></tr>",
                            "<tr><td>7 00 09506 02 0300 000             </td><td>PT. B-1 &amp; B-2                 </td></tr>",
                            "<tr><td>7 00 09506 02 4900 000             </td><td>G &amp; 8                         </td></tr>",
                            "<tr><td>7 00 09509 01 1200 000             </td><td>165 &amp; PT. OF 164              </td></tr>",
                            "<tr><td>7 00 09509 02 1100 000             </td><td>101 &amp; 102                     </td></tr>",
                            "<tr><td>7 00 09509 03 2600 000             </td><td>205 &amp; 206                     </td></tr>",
                            "<tr><td>7 00 09509 03 3500 000             </td><td>PT. 190 &amp; 192                 </td></tr>",
                            "<tr><td>7 00 09509 03 3800 000             </td><td>PT OF 193 &amp; PT 192            </td></tr>",
                            "<tr><td>7 00 09509 03 6400 000             </td><td>3 &amp; PT. 4                     </td></tr>",
                            "<tr><td>7 00 09509 03 7500 000             </td><td>PT. 27 &amp; 28                   </td></tr>",
                            "<tr><td>7 00 09509 03 8800 000             </td><td>PT. 27 &amp; 28                   </td></tr>",
                            "<tr><td>7 00 09509 04 5700 000             </td><td>22 &amp; PT. 21                   </td></tr>",
                            "<tr><td>7 00 09509 04 6400 000             </td><td>6 &amp; 5' LOT 5                  </td></tr>",
                            "<tr><td>7 00 09513 01 3700 000             </td><td>7 &amp; PT. 6                     </td></tr>",
                            "<tr><td>7 00 09513 01 3800 000             </td><td>PT. 5 &amp; 6                     </td></tr>",
                            "<tr><td>7 00 09513 01 3900 000             </td><td>4 &amp; PT. 5                     </td></tr>",
                            "<tr><td>7 00 09518 01 3500 000             </td><td>4 &amp; PT. 3                     </td></tr>",
                            "<tr><td>7 00 09518 01 3800 000             </td><td>8 &amp; 9                         </td></tr>",
                            "<tr><td>7 00 09520 01 1100 000             </td><td>10 &amp; PT. 11                   </td></tr>",
                            "<tr><td>7 00 09520 01 1300 000             </td><td>12 &amp; PT. 11                   </td></tr>",
                            "<tr><td>7 00 09520 02 1300 000             </td><td>24 &amp; PT. 25 &amp; 37              </td></tr>",
                            "<tr><td>7 00 09520 02 1400 000             </td><td>PT. 25 &amp; 36                   </td></tr>",
                            "<tr><td>7 00 10100 01 1006 000             </td><td>3 &amp; PT 2                      </td></tr>",
                            "<tr><td>7 00 10100 01 1008 000             </td><td>3 &amp; PT 2                      </td></tr>",
                            "<tr><td>7 00 10100 01 3420 000             </td><td>3 &amp; 4                         </td></tr>",
                            "<tr><td>7 00 10200 01 1602 000             </td><td>1 &amp; A                         </td></tr>",
                            "<tr><td>7 00 10304 01 3100 000             </td><td>95 &amp; 96                       </td></tr>",
                            "<tr><td>7 00 10305 01 1000 000             </td><td>23 &amp; 24                       </td></tr>",
                            "<tr><td>7 00 10306 01 3500 000             </td><td>PTS. 26 &amp; 27                  </td></tr>",
                            "<tr><td>7 00 10306 01 3600 000             </td><td>ALL OF 24 PT. 23 &amp; 25         </td></tr>",
                            "<tr><td>7 00 10306 01 3700 000             </td><td>21-22 &amp; PTS. 20 &amp; 23          </td></tr>",
                            "<tr><td>7 00 10306 01 3900 000             </td><td>18,19 &amp; 35' OF 20             </td></tr>",
                            "<tr><td>7 00 10306 01 4200 000             </td><td>14 &amp; 15                       </td></tr>",
                            "<tr><td>7 00 10306 01 4500 000             </td><td>LOTS 9 &amp; 10                   </td></tr>",
                            "<tr><td>7 00 10306 01 5400 000             </td><td>28 &amp; 29                       </td></tr>",
                            "<tr><td>7 00 10306 01 5500 000             </td><td>30 &amp; 31                       </td></tr>",
                            "<tr><td>7 00 10400 01 1000 000             </td><td>16 &amp; 17                       </td></tr>",
                            "<tr><td>7 00 10401 01 7300 000             </td><td>73 &amp; PT OF 72 &amp; 74            </td></tr>",
                            "<tr><td>7 00 10406 01 0700 000             </td><td>16 &amp; 17                       </td></tr>",
                            "<tr><td>7 00 10408 01 1200 000             </td><td>38 &amp; PT. 43                   </td></tr>",
                            "<tr><td>7 00 10408 01 1400 000             </td><td>41, PT. OF 40 &amp; 42            </td></tr>",
                            "<tr><td>7 00 10408 01 1601 000             </td><td>PT. 42 &amp; 43                   </td></tr>",
                            "<tr><td>7 00 10416 01 3000 000             </td><td>12 &amp; 1/2 13                   </td></tr>",
                            "<tr><td>7 00 10416 01 4700 000             </td><td>14 &amp; PT 13                    </td></tr>",
                            "<tr><td>7 00 10900 01 4202 000             </td><td>2 &amp; PT. OF 3                  </td></tr>",
                            "<tr><td>7 00 10900 01 4204 000             </td><td>4 &amp; PT. OF 3                  </td></tr>",
                            "<tr><td>7 00 10900 02 1000 000             </td><td>LOT #10 &amp; PT OF #9            </td></tr>",
                            "<tr><td>7 00 10900 02 1300 000             </td><td>12 &amp; PT. 13                   </td></tr>",
                            "<tr><td>7 00 10900 02 1301 000             </td><td>14 &amp; PT. 13                   </td></tr>",
                            "<tr><td>7 00 10902 01 3300 000             </td><td>1 &amp; 2                         </td></tr>",
                            "<tr><td>7 00 11102 01 0100 000             </td><td>1 &amp; 2                         </td></tr>",
                            "<tr><td>7 00 11102 01 0400 000             </td><td>18 &amp; PT. 20                   </td></tr>",
                            "<tr><td>7 00 11102 01 0500 000             </td><td>22 &amp; PT. OF 20                </td></tr>",
                            "<tr><td>7 00 11102 01 0600 000             </td><td>24 &amp; PT. 26                   </td></tr>",
                            "<tr><td>7 00 11102 01 0700 000             </td><td>28 &amp; ONEHALF LOT 26           </td></tr>",
                            "<tr><td>7 00 11102 01 0800 000             </td><td>30 &amp; PT. 32                   </td></tr>",
                            "<tr><td>7 00 11102 01 0900 000             </td><td>34 &amp; PT. OF 32                </td></tr>",
                            "<tr><td>7 00 11102 01 1300 000             </td><td>33 &amp; PT 31                    </td></tr>",
                            "<tr><td>7 00 11102 01 1301 000             </td><td>29 &amp; PT 31                    </td></tr>",
                            "<tr><td>7 00 11102 01 1400 000             </td><td>27 &amp; PT. 25                   </td></tr>",
                            "<tr><td>7 00 11102 01 1400 001             </td><td>27 &amp; PT. 25                   </td></tr>",
                            "<tr><td>7 00 11102 01 1500 000             </td><td>23 &amp; PT. 25                   </td></tr>",
                            "<tr><td>7 00 11102 01 1600 000             </td><td>21 &amp; PT. 19                   </td></tr>",
                            "<tr><td>7 00 11102 01 1700 000             </td><td>15, 17 &amp; PT. 13 &amp; 19          </td></tr>",
                            "<tr><td>7 00 11102 01 1800 000             </td><td>11 &amp; PT. 13                   </td></tr>",
                            "<tr><td>7 00 11102 01 1900 000             </td><td>9 &amp; PT. 7                     </td></tr>",
                            "<tr><td>7 00 11102 01 2000 000             </td><td>5 &amp; PT. 7                     </td></tr>",
                            "<tr><td>7 00 11102 01 2100 000             </td><td>3 &amp; 4                         </td></tr>",
                            "<tr><td>7 00 11102 01 4600 000             </td><td>6 &amp; 7A                        </td></tr>",
                            "<tr><td>7 00 11102 01 4700 000             </td><td>2 &amp; 4                         </td></tr>",
                            "<tr><td>7 00 11102 01 5600 000             </td><td>1 &amp; 2                         </td></tr>",
                            "<tr><td>7 00 11102 01 6100 000             </td><td>7 &amp; 9                         </td></tr>",
                            "<tr><td>7 00 11102 01 6300 000             </td><td>LOTS 10 &amp; 11                  </td></tr>",
                            "<tr><td>7 00 11102 01 6300 001             </td><td>LOTS 10 &amp; 11                  </td></tr>",
                            "<tr><td>7 00 11102 01 6400 000             </td><td>12 &amp; 13                       </td></tr>",
                            "<tr><td>7 00 11102 01 6500 000             </td><td>14 &amp; 15                       </td></tr>",
                            "<tr><td>7 00 11102 01 6900 000             </td><td>17 &amp; 18                       </td></tr>",
                            "<tr><td>7 00 11102 01 7200 000             </td><td>12 &amp; 13                       </td></tr>",
                            "<tr><td>7 00 11102 02 2800 000             </td><td>7 &amp; 8                         </td></tr>",
                            "<tr><td>7 00 11102 03 0800 000             </td><td>11 &amp; 12                       </td></tr>",
                            "<tr><td>7 00 11102 03 0801 000             </td><td>9 &amp; 10                        </td></tr>",
                            "<tr><td>7 00 11102 03 1300 000             </td><td>6 &amp; PT. 7                     </td></tr>",
                            "<tr><td>7 00 11102 03 2100 000             </td><td>13 &amp; 14                       </td></tr>",
                            "<tr><td>7 00 11102 03 2200 000             </td><td>12 &amp; 13                       </td></tr>",
                            "<tr><td>7 00 11102 03 2600 000             </td><td>16 &amp; 17                       </td></tr>",
                            "<tr><td>7 00 11102 03 2700 000             </td><td>LOTS 18 &amp; 19                  </td></tr>",
                            "<tr><td>7 00 11102 03 4100 000             </td><td>10 &amp; 11                       </td></tr>",
                            "<tr><td>7 00 11102 03 5100 000             </td><td>20 &amp; 21                       </td></tr>",
                            "<tr><td>7 00 11102 03 5501 000             </td><td>1, 23 &amp; PT. OF #2             </td></tr>",
                            "<tr><td>7 00 11102 03 5600 000             </td><td>2 &amp; 3                         </td></tr>",
                            "<tr><td>7 00 11102 03 6800 000             </td><td>15 &amp; 16                       </td></tr>",
                            "<tr><td>7 00 11102 03 8100 000             </td><td>9 &amp; 10                        </td></tr>",
                            "<tr><td>7 00 11102 04 0900 000             </td><td>8 &amp; 9                         </td></tr>",
                            "<tr><td>7 00 11104 01 0300 000             </td><td>41&amp;46                         </td></tr>",
                            "<tr><td>7 00 11104 01 0400 000             </td><td>40,47 &amp; PT. OF 39 &amp; 48        </td></tr>",
                            "<tr><td>7 00 11104 01 0500 000             </td><td>38, 49 &amp; PTS. 39 &amp; 48         </td></tr>",
                            "<tr><td>7 00 11104 01 0600 000             </td><td>36 &amp; 37                       </td></tr>",
                            "<tr><td>7 00 11104 01 0700 000             </td><td>34 &amp; 35                       </td></tr>",
                            "<tr><td>7 00 11104 01 0800 000             </td><td>52 &amp; 53                       </td></tr>",
                            "<tr><td>7 00 11104 01 2000 000             </td><td>68 &amp; 69                       </td></tr>",
                            "<tr><td>7 00 11104 01 2100 000             </td><td>55 &amp; 58                       </td></tr>",
                            "<tr><td>7 00 11104 01 2102 000             </td><td>54 &amp; 59                       </td></tr>",
                            "<tr><td>7 00 11104 01 2400 000             </td><td>53 &amp; 60                       </td></tr>",
                            "<tr><td>7 00 11104 01 3200 000             </td><td>66 &amp; 67                       </td></tr>",
                            "<tr><td>7 00 11104 01 4400 000             </td><td>35 &amp; 36                       </td></tr>",
                            "<tr><td>7 00 11104 01 4600 000             </td><td>29 &amp; 30                       </td></tr>",
                            "<tr><td>7 00 11104 01 4700 000             </td><td>27 &amp; 28                       </td></tr>",
                            "<tr><td>7 00 11104 01 5600 000             </td><td>17 &amp; 18                       </td></tr>",
                            "<tr><td>7 00 11104 01 5700 000             </td><td>13 &amp; 14                       </td></tr>",
                            "<tr><td>7 00 11104 01 5700 001             </td><td>13 &amp; 14                       </td></tr>",
                            "<tr><td>7 00 11104 01 6000 000             </td><td>9 &amp; 10                        </td></tr>",
                            "<tr><td>7 00 11104 01 6400 000             </td><td>4 &amp; 5                         </td></tr>",
                            "<tr><td>7 00 11104 01 6400 001             </td><td>4 &amp; 5                         </td></tr>",
                            "<tr><td>7 00 11104 01 6500 000             </td><td>2 &amp; 3                         </td></tr>",
                            "<tr><td>7 00 11104 02 0900 000             </td><td>28 &amp; 29                       </td></tr>",
                            "<tr><td>7 00 11104 02 1300 000             </td><td>32 &amp; 33                       </td></tr>",
                            "<tr><td>7 00 11104 02 2500 000             </td><td>46 &amp; 51                       </td></tr>",
                            "<tr><td>7 00 11104 02 2800 000             </td><td>58 &amp; 63                       </td></tr>",
                            "<tr><td>7 00 11104 02 3600 000             </td><td>59 &amp; 62                       </td></tr>",
                            "<tr><td>7 00 11104 02 4200 000             </td><td>38 &amp; 41                       </td></tr>",
                            "<tr><td>7 00 11104 02 5200 000             </td><td>1 &amp; 2                         </td></tr>",
                            "<tr><td>7 00 11104 02 5200 001             </td><td>1 &amp; 2                         </td></tr>",
                            "<tr><td>7 00 11104 02 5300 000             </td><td>3 &amp; 4                         </td></tr>",
                            "<tr><td>7 00 11104 02 6400 000             </td><td>36 &amp; 37                       </td></tr>",
                            "<tr><td>7 00 11104 03 5500 000             </td><td>PT OF 2,3 &amp; 7                 </td></tr>",
                            "<tr><td>7 00 11109 01 0300 000             </td><td>PT 19, ALL OF 5-6 &amp; 7         </td></tr>",
                            "<tr><td>7 00 11109 01 0400 000             </td><td>PT. 17 &amp; 18 &amp; 9               </td></tr>",
                            "<tr><td>7 00 11109 01 0700 000             </td><td>10,11,PT.17&amp;18                </td></tr>",
                            "<tr><td>7 00 11109 01 0900 000             </td><td>12, 13 &amp; PT. 14               </td></tr>",
                            "<tr><td>7 00 11109 01 1000 000             </td><td>15, 16 &amp; PT. 14               </td></tr>",
                            "<tr><td>7 00 11110 01 0100 000             </td><td>1 &amp; 1A                        </td></tr>",
                            "<tr><td>7 00 11110 01 0200 000             </td><td>2A &amp; 3A                       </td></tr>",
                            "<tr><td>7 00 11110 01 0300 000             </td><td>2 &amp; 3                         </td></tr>",
                            "<tr><td>7 00 11110 01 0600 000             </td><td>4,4A,5 &amp; 5A                   </td></tr>",
                            "<tr><td>7 00 11110 01 0800 000             </td><td>7 &amp; 7A                        </td></tr>",
                            "<tr><td>7 00 11110 01 0900 000             </td><td>8 &amp; 8A                        </td></tr>",
                            "<tr><td>7 00 11110 01 1000 000             </td><td>9 &amp; 9A                        </td></tr>",
                            "<tr><td>7 00 11110 01 1200 000             </td><td>7 &amp; 8                         </td></tr>",
                            "<tr><td>7 00 11110 01 2300 000             </td><td>PT. 14 &amp; PT 15                </td></tr>",
                            "<tr><td>7 00 11110 01 2700 000             </td><td>22 23 22A &amp; PT. 23A           </td></tr>",
                            "<tr><td>7 00 11110 01 3600 000             </td><td>40 &amp; 41                       </td></tr>",
                            "<tr><td>7 00 11110 01 5200 000             </td><td>23C &amp; PT 23B                  </td></tr>",
                            "<tr><td>7 00 11111 01 0100 000             </td><td>46 &amp; 47                       </td></tr>",
                            "<tr><td>7 00 11111 01 1800 000             </td><td>59 &amp; 60                       </td></tr>",
                            "<tr><td>7 00 11111 01 2200 000             </td><td>54 &amp; 55                       </td></tr>",
                            "<tr><td>7 00 11111 01 3900 000             </td><td>4 &amp; 5                         </td></tr>",
                            "<tr><td>7 00 11111 01 4100 000             </td><td>7 &amp; 8                         </td></tr>",
                            "<tr><td>7 00 11111 01 4200 000             </td><td>9 &amp; 10                        </td></tr>",
                            "<tr><td>7 00 11111 01 4400 000             </td><td>PT. OF 12 &amp; 13                </td></tr>",
                            "<tr><td>7 00 11111 01 4500 000             </td><td>PT. 12 &amp; 13                   </td></tr>",
                            "<tr><td>7 00 11111 01 4800 000             </td><td>1 &amp; 2                         </td></tr>",
                            "<tr><td>7 00 11203 01 0200 000             </td><td>82 &amp; 82A                      </td></tr>",
                            "<tr><td>7 00 11203 01 2600 000             </td><td>118 &amp; 119                     </td></tr>",
                            "<tr><td>7 00 11203 01 2700 000             </td><td>120 &amp; 121                     </td></tr>",
                            "<tr><td>7 00 11203 01 3300 000             </td><td>112 &amp; 113                     </td></tr>",
                            "<tr><td>7 00 11203 01 3600 000             </td><td>93 &amp; 114                      </td></tr>",
                            "<tr><td>7 00 11203 02 3200 000             </td><td>LOTS 11 &amp; 12                  </td></tr>",
                            "<tr><td>7 00 11203 02 3500 000             </td><td>15 &amp; 16                       </td></tr>",
                            "<tr><td>7 00 11700 01 0810 000             </td><td>3,4 &amp; PT OF 5                 </td></tr>",
                            "<tr><td>7 00 11700 01 2601 000             </td><td>5 &amp; 6                         </td></tr>",
                            "<tr><td>7 00 11700 01 2604 000             </td><td>7 &amp; 8                         </td></tr>",
                            "<tr><td>7 00 11800 01 3000 000             </td><td>5 &amp; PT. 4                     </td></tr>",
                            "<tr><td>7 00 11900 01 1900 000             </td><td>7 &amp; 8                         </td></tr>",
                            "<tr><td>7 00 11900 02 0900 000             </td><td>4 &amp; PT 3                      </td></tr>",
                            "<tr><td>7 00 11900 02 0908 000             </td><td>1,2, &amp; PT. 3                  </td></tr>",
                            "<tr><td>7 00 11919 01 1200 000             </td><td>20 &amp; 19                       </td></tr>",
                            "<tr><td>7 00 12000 02 2508 000             </td><td>LOT 16 &amp; 1/2 LOT 15           </td></tr>",
                            "<tr><td>7 00 12000 02 2517 000             </td><td>LOT 1 &amp; PT. LOT 2             </td></tr>",
                            "<tr><td>7 02 08519 01 0600 000             </td><td>7 &amp; 8                         </td></tr>",
                            "<tr><td>7 02 08519 01 0900 000             </td><td>17 &amp; 18                       </td></tr>",
                            "<tr><td>7 02 08519 02 3600 000             </td><td>44 &amp; PT. OF 45                </td></tr>",
                            "<tr><td>7 02 08520 01 0300 000             </td><td>PTS. 11, 12 &amp; 33              </td></tr>",
                            "<tr><td>7 02 08520 01 0500 000             </td><td>PTS. 7 &amp; 8                    </td></tr>",
                            "<tr><td>7 02 09407 01 0102 000             </td><td>1 &amp; 2                         </td></tr>",
                            "<tr><td>7 02 09407 01 0400 000             </td><td>3 &amp; 4                         </td></tr>",
                            "<tr><td>7 02 09407 01 0500 000             </td><td>5 &amp; 6                         </td></tr>",
                            "<tr><td>7 02 09407 01 0900 000             </td><td>11 &amp; 12                       </td></tr>",
                            "<tr><td>7 02 09407 02 1201 000             </td><td>PT OF LOT #14 &amp; PT OF LOT #15 </td></tr>",
                            "<tr><td>7 02 09410 01 3200 000             </td><td>2 &amp; 15 A                      </td></tr>",
                            "<tr><td>7 02 09410 01 3300 000             </td><td>3 &amp; PT. 15                    </td></tr>",
                            "<tr><td>7 02 09410 01 3400 000             </td><td>PT. 15 &amp; 4                    </td></tr>",
                            "<tr><td>7 02 09410 01 4500 000             </td><td>6 &amp; 13, PTS. 7 &amp; 12           </td></tr>",
                            "<tr><td>7 02 09410 01 5300 000             </td><td>8 &amp; 11                        </td></tr>",
                            "<tr><td>7 02 09410 02 0300 000             </td><td>58 &amp; 59                       </td></tr>",
                            "<tr><td>7 02 09410 02 0600 000             </td><td>53 &amp; 54                       </td></tr>",
                            "<tr><td>7 02 09410 02 0800 000             </td><td>50 &amp; 51                       </td></tr>",
                            "<tr><td>7 02 09410 02 2300 000             </td><td>7 &amp; 8                         </td></tr>",
                            "<tr><td>7 02 09410 02 2700 000             </td><td>28 &amp; 29                       </td></tr>",
                            "<tr><td>7 02 09410 02 3400 000             </td><td>20 &amp; 21                       </td></tr>",
                            "<tr><td>7 02 09410 02 3500 000             </td><td>47 &amp; 48                       </td></tr>",
                            "<tr><td>7 02 09410 02 3600 000             </td><td>45 &amp; 46                       </td></tr>",
                            "<tr><td>7 02 09410 02 4500 000             </td><td>35 &amp; 36                       </td></tr>",
                            "<tr><td>7 02 09410 02 4700 000             </td><td>33 &amp; 34                       </td></tr>",
                            "<tr><td>7 02 09410 02 5300 000             </td><td>42 &amp; 43                       </td></tr>",
                            "<tr><td>7 02 09410 02 5900 000             </td><td>48 &amp; 49                       </td></tr>",
                            "<tr><td>7 02 09410 02 6501 000             </td><td>56 &amp; PT. 57                   </td></tr>",
                            "<tr><td>7 02 09410 02 6700 000             </td><td>59 &amp; 60                       </td></tr>",
                            "<tr><td>7 02 09411 01 0200 000             </td><td>10 &amp; 11                       </td></tr>",
                            "<tr><td>7 02 09411 01 0300 000             </td><td>8 &amp; 9                         </td></tr>",
                            "<tr><td>7 02 09411 01 0500 000             </td><td>1 &amp; 2                         </td></tr>",
                            "<tr><td>7 02 09411 01 0700 000             </td><td>3, 4 &amp; PT OF 27               </td></tr>",
                            "<tr><td>7 02 09411 01 3200 000             </td><td>15 &amp; PT OF 13                 </td></tr>",
                            "<tr><td>7 02 09411 01 4800 000             </td><td>LOT 6 &amp; PT OF LOT #5          </td></tr>",
                            "<tr><td>7 02 09411 01 5000 000             </td><td>3 &amp; PT. 2                     </td></tr>",
                            "<tr><td>7 02 09411 01 5200 000             </td><td>LOT 1 &amp; PT. LOT 2             </td></tr>",
                            "<tr><td>7 02 09411 03 3900 000             </td><td>9, 11, &amp; PT. 13               </td></tr>",
                            "<tr><td>7 02 09411 03 4100 000             </td><td>PTS. 13 &amp; 15                  </td></tr>",
                            "<tr><td>7 02 09411 03 4200 000             </td><td>17 &amp; PT. OF 15                </td></tr>",
                            "<tr><td>7 02 09411 03 4800 000             </td><td>16 &amp; 18                       </td></tr>",
                            "<tr><td>7 02 09411 03 5600 000             </td><td>5 &amp; PT. 6                     </td></tr>",
                            "<tr><td>7 02 09411 03 6000 000             </td><td>9 &amp; PT 10                     </td></tr>",
                            "<tr><td>7 02 09411 03 6101 000             </td><td>23-26 &amp; PTS 22 &amp; 27           </td></tr>",
                            "<tr><td>7 02 09411 03 6400 000             </td><td>2, 3, 4, 5, 6, &amp; 7            </td></tr>",
                            "<tr><td>7 02 09411 03 7802 000             </td><td>17 &amp; 18                       </td></tr>",
                            "<tr><td>7 02 09414 01 0500 000             </td><td>30 &amp; PT. 31                   </td></tr>",
                            "<tr><td>7 02 09414 01 0600 000             </td><td>29 &amp; PT. 28                   </td></tr>",
                            "<tr><td>7 02 09414 01 0700 000             </td><td>27 &amp; PT. 28                   </td></tr>",
                            "<tr><td>7 02 09414 01 1000 000             </td><td>22 &amp; PT. 23                   </td></tr>",
                            "<tr><td>7 02 09414 01 1200 000             </td><td>19 &amp; PT. 18                   </td></tr>",
                            "<tr><td>7 02 09414 01 1300 000             </td><td>17 &amp; PT. 18                   </td></tr>",
                            "<tr><td>7 02 09414 01 1600 000             </td><td>10 &amp; 11                       </td></tr>",
                            "<tr><td>7 02 09414 01 1700 000             </td><td>8 &amp; 9                         </td></tr>",
                            "<tr><td>7 18 12013 01 3100 000</td><td>4 &amp; PT. #3                    </td></tr>",
                            "<tr><td>7 18 12013 01 3400 000</td><td>2 &amp; PT. 3                     </td></tr>",
                            "<tr><td>7 19 11105 01 1301 000             </td><td>3 &amp; 3A                        </td></tr>",
                            "<tr><td>7 20 09405 01 1000 000             </td><td>2 &amp; 3                         </td></tr>",
                            "<tr><td>7 20 09406 02 2000 000             </td><td>2 &amp; 4                         </td></tr>",
                            "<tr><td>7 20 09406 02 2100 000             </td><td>6 &amp; 8                         </td></tr>",
                            "<tr><td>7 20 09406 02 2300 000             </td><td>12 &amp; 14                       </td></tr>",
                            "<tr><td>7 20 09406 02 2800 000             </td><td>2 &amp; 3                         </td></tr>",
                            "<tr><td>7 20 09406 02 3200 000             </td><td>9 &amp; 11                        </td></tr>",
                            "<tr><td>7 20 09406 02 3600 000             </td><td>1 &amp; PT. 3                     </td></tr>",
                            "<tr><td>7 20 09406 03 2700 000             </td><td>4 &amp; 5                         </td></tr>",
                            "<tr><td>7 20 09406 03 3300 000             </td><td>2 &amp; 3                         </td></tr>",
                            "<tr><td>7 20 09406 03 3600 000             </td><td>2 &amp; 3                         </td></tr>",
                            "<tr><td>7 20 09406 03 4100 000             </td><td>PT. 8 &amp; 9                     </td></tr>",
                            "<tr><td>7 20 09406 03 4200 000             </td><td>PTS. 9 &amp; 10                   </td></tr>",
                            "<tr><td>7 20 09406 03 5401 000             </td><td>1 &amp; 2                         </td></tr>",
                            "<tr><td>7 20 09406 03 6400 000             </td><td>16 &amp; PT. 15                   </td></tr>",
                            "<tr><td>7 20 09406 03 6500 000             </td><td>14 &amp; PT. 15                   </td></tr>",
                            "<tr><td>7 20 09406 03 6600 000             </td><td>12 &amp; 13                       </td></tr>",
                            "<tr><td>7 20 09406 03 6800 000             </td><td>9 &amp; 10                        </td></tr>",
                            "<tr><td>7 20 09406 03 7100 000             </td><td>3 &amp; 4                         </td></tr>",
                            "<tr><td>7 20 09406 03 7700 000             </td><td>2, 4 &amp; 6                      </td></tr>",
                            "<tr><td>7 20 09406 04 0600 000             </td><td>1 &amp; 2                         </td></tr>",
                            "<tr><td>7 20 09406 04 0700 000             </td><td>3 &amp; PT. 2                     </td></tr>",
                            "<tr><td>7 20 09406 04 1700 000             </td><td>PT. 7 &amp; 8                     </td></tr>",
                            "<tr><td>7 20 09406 04 1800 000             </td><td>PT. 7 &amp; 8                     </td></tr>",
                            "<tr><td>7 20 09406 04 3100 000             </td><td>14 &amp; 15                       </td></tr>",
                            "<tr><td>7 20 09406 04 3200 000             </td><td>12 &amp; 13                       </td></tr>",
                            "<tr><td>7 20 09406 04 3600 000             </td><td>PT. 2 &amp; 3                     </td></tr>",
                            "<tr><td>7 20 09406 04 3700 000             </td><td>2 &amp; 3                         </td></tr>",
                            "<tr><td>7 20 09406 04 5400 000             </td><td>8 &amp; 9                         </td></tr>",
                            "<tr><td>7 20 09406 04 5600 000             </td><td>6 &amp; PT. 4 &amp; 5                 </td></tr>",
                            "<tr><td>7 20 09410 01 0300 000             </td><td>7 &amp; 9                         </td></tr>",
                            "<tr><td>7 20 09410 01 0400 000             </td><td>8 &amp; 10                        </td></tr>",
                            "<tr><td>7 20 09410 01 0600 000             </td><td>50 &amp; 51                       </td></tr>",
                            "<tr><td>7 20 09410 01 0900 000             </td><td>49 &amp; PT. 48                   </td></tr>",
                            "<tr><td>7 20 09410 01 1700 000             </td><td>14 &amp; 16                       </td></tr>",
                            "<tr><td>7 20 09410 01 1800 000             </td><td>47 &amp; PT. 48                   </td></tr>",
                            "<tr><td>7 20 09410 01 2000 000             </td><td>46 &amp; PT. 45                   </td></tr>",
                            "<tr><td>7 20 09410 01 2100 000             </td><td>45 &amp; PT. 44                   </td></tr>",
                            "<tr><td>7 20 09410 01 2200 000             </td><td>18 &amp; 20                       </td></tr>",
                            "<tr><td>7 20 09410 01 2400 000             </td><td>LOTS 17 &amp; 19                  </td></tr>",
                            "<tr><td>7 20 09410 01 2500 000             </td><td>21 &amp; 23                       </td></tr>",
                            "<tr><td>7 20 09410 01 3000 000             </td><td>24 &amp; 22                       </td></tr>",
                            "<tr><td>7 20 09410 01 3200 000             </td><td>PT. 42 &amp; 43                   </td></tr>",
                            "<tr><td>7 20 09410 01 3300 000             </td><td>43 &amp; 44                       </td></tr>",
                            "<tr><td>7 20 09410 01 4100 000             </td><td>1 &amp; PT.OF 2                   </td></tr>",
                            "<tr><td>7 20 09410 01 4101 000             </td><td>PT.OF 2 &amp; 3                   </td></tr>",
                            "<tr><td>7 20 09410 01 4300 000             </td><td>14 &amp; PT. 15                   </td></tr>",
                            "<tr><td>7 20 09410 01 4301 000             </td><td>14 &amp; PT. 15                   </td></tr>",
                            "<tr><td>7 20 09410 01 4302 000             </td><td>14 &amp; PT. 15                   </td></tr>",
                            "<tr><td>7 20 09410 01 4400 000             </td><td>41 &amp; PT. 40                   </td></tr>",
                            "<tr><td>8 00 11200 01 2600 000             </td><td>2 &amp; 3                         </td></tr>",
                            "<tr><td>8 00 11204 01 0300 000             </td><td>PT. B-20 &amp; B-22               </td></tr>",
                            "<tr><td>8 00 11204 01 0400 000             </td><td>PTS B-20 &amp; B-22               </td></tr>",
                            "<tr><td>8 00 11204 01 1900 000             </td><td>PT. A-13 &amp; A-14               </td></tr>",
                            "<tr><td>8 00 11204 01 2000 000             </td><td>PT. OF 12 &amp; 13                </td></tr>",
                            "<tr><td>8 00 11204 01 3004 000             </td><td>1 &amp; A2                        </td></tr>",
                            "<tr><td>8 00 11204 01 3200 000             </td><td>PT. A-32 &amp; A-33               </td></tr>",
                            "<tr><td>8 00 11204 01 3300 000             </td><td>PT. A-31 &amp; A-32               </td></tr>",
                            "<tr><td>8 00 11204 01 3400 000             </td><td>PT. A-30 &amp; A-31               </td></tr>",
                            "<tr><td>8 00 11204 01 4200 000             </td><td>A-25 &amp; B-14                   </td></tr>",
                            "<tr><td>8 00 11204 01 4900 000             </td><td>A-1 &amp; PT. A-2                 </td></tr>",
                            "<tr><td>8 00 11300 01 2100 014             </td><td>14 &amp; 16</td></tr>",
                            "<tr><td>8 00 11300 02 0600 000             </td><td>1 &amp; 1/4 PRIVATE RD.           </td></tr>",
                            "<tr><td>8 00 11300 02 2202 000             </td><td>2, PT. OF 1 &amp; 3               </td></tr>",
                            "<tr><td>8 00 11300 02 2211 000             </td><td>PT. 1 &amp; 3                     </td></tr>",
                            "<tr><td>8 00 11420 01 1000 000             </td><td>67 &amp; 68                       </td></tr>",
                            "<tr><td>8 00 11420 01 1100 000             </td><td>58 &amp; PT. 59                   </td></tr>",
                            "<tr><td>8 00 11420 01 1200 000             </td><td>60 &amp; 1/2 59                   </td></tr>",
                            "<tr><td>8 00 11420 01 1301 000             </td><td>50 &amp; 51                       </td></tr>",
                            "<tr><td>8 00 11420 01 1600 000             </td><td>56 &amp; 57                       </td></tr>",
                            "<tr><td>8 00 11420 01 1700 000             </td><td>65 &amp; 66                       </td></tr>",
                            "<tr><td>8 00 11420 01 1800 000             </td><td>64 &amp; PT. OF 63                </td></tr>",
                            "<tr><td>8 00 11420 01 2000 000             </td><td>LOT 40 &amp; 41                   </td></tr>",
                            "<tr><td>8 00 11420 01 2400 000             </td><td>16 &amp; 17                       </td></tr>",
                            "<tr><td>8 00 11420 01 2700 000             </td><td>62 &amp; PT OF 63                 </td></tr>",
                            "<tr><td>8 00 11420 01 2700 001             </td><td>62 &amp; PT OF 63                 </td></tr>",
                            "<tr><td>8 00 11420 01 2701 000             </td><td>PT OF 1 &amp; 2                   </td></tr>",
                            "<tr><td>8 00 11420 01 2702 000             </td><td>PT OF LOTS 2 &amp; 3              </td></tr>",
                            "<tr><td>8 00 11420 01 2900 000             </td><td>52 &amp; 53                       </td></tr>",
                            "<tr><td>8 00 11420 01 3000 000             </td><td>5 &amp; 6                         </td></tr>",
                            "<tr><td>8 00 11420 01 3300 000             </td><td>14 &amp; 15                       </td></tr>",
                            "<tr><td>8 00 11420 01 3400 000             </td><td>12 &amp; 13                       </td></tr>",
                            "<tr><td>8 00 11420 01 3600 000             </td><td>10 &amp; 11                       </td></tr>",
                            "<tr><td>8 00 11700 01 3210 000             </td><td>28 &amp; 29                       </td></tr>",
                            "<tr><td>8 00 12004 02 3300 000             </td><td>2 &amp; 2A                        </td></tr>",
                            "<tr><td>8 00 12004 02 3400 000             </td><td>3 &amp; 3A                        </td></tr>",
                            "<tr><td>8 00 12004 03 0100 000             </td><td>1 &amp; 2                         </td></tr>",
                            "<tr><td>8 00 12004 04 1400 000             </td><td>13 &amp; PT. 14                   </td></tr>",
                            "<tr><td>8 00 12211 01 0300 000             </td><td>1 &amp; 2                         </td></tr>",
                            "<tr><td>8 00 12211 01 0500 000             </td><td>6 &amp; PT. OF 5                  </td></tr>",
                            "<tr><td>8 00 12211 01 0600 000             </td><td>27, 28 &amp; PT. 26 &amp; 29          </td></tr>",
                            "<tr><td>8 00 12211 01 0601 000             </td><td>20 &amp; PT. OF 19                </td></tr>",
                            "<tr><td>8 00 12211 01 0602 000             </td><td>22 &amp; PT. 21 &amp; 23              </td></tr>",
                            "<tr><td>8 00 12211 01 0603 000             </td><td>24,25 &amp; PT. 23&amp;26             </td></tr>",
                            "<tr><td>8 00 12211 01 0604 000             </td><td>18 &amp; PT. OF 19                </td></tr>",
                            "<tr><td>8 00 12211 01 2100 000             </td><td>30 PT. 29 &amp; 31                </td></tr>",
                            "<tr><td>8 00 12211 01 2200 000             </td><td>31 &amp; 32                       </td></tr>",
                            "<tr><td>8 00 12212 01 0100 000</td><td>8 &amp; 7                         </td></tr>",
                            "<tr><td>8 00 12212 01 0200 000             </td><td>9 &amp; 10                        </td></tr>",
                            "<tr><td>8 00 12212 01 0300 000             </td><td>12 &amp; 11                       </td></tr>",
                            "<tr><td>8 00 12212 01 0400 000             </td><td>14 &amp; 13                       </td></tr>",
                            "<tr><td>8 00 12212 01 0500 000             </td><td>15 &amp; 16                       </td></tr>",
                            "<tr><td>8 00 12212 01 1200 000             </td><td>36 &amp; 37                       </td></tr>",
                            "<tr><td>8 00 12212 01 1700 000             </td><td>45 &amp; PT. 46                   </td></tr>",
                            "<tr><td>8 00 12212 01 1800 000             </td><td>47 &amp; PT. 46                   </td></tr>",
                            "<tr><td>8 00 12212 01 2000 000             </td><td>49 &amp; 50                       </td></tr>",
                            "<tr><td>8 00 12212 01 2100 000             </td><td>51 &amp; 52                       </td></tr>",
                            "<tr><td>8 00 12212 01 2800 000             </td><td>59 &amp; 60                       </td></tr>",
                            "<tr><td>8 00 12212 01 3100 000             </td><td>57 &amp; 58                       </td></tr>",
                            "<tr><td>8 00 12212 01 4500 000             </td><td>PT. 87 &amp; 88                   </td></tr>",
                            "<tr><td>8 00 12212 01 4600 000             </td><td>83, 86 &amp; PT. 85 &amp; 87          </td></tr>",
                            "<tr><td>8 00 12212 01 4701 000             </td><td>96-97 &amp; 98                    </td></tr>",
                            "<tr><td>8 00 12212 01 5300 000             </td><td>LOTS 101 &amp; 102                </td></tr>",
                            "<tr><td>8 00 12215 01 1100 000             </td><td>7 &amp; PT. 6                     </td></tr>",
                            "<tr><td>8 00 12215 01 1200 000             </td><td>5 &amp; PT. 6                     </td></tr>",
                            "<tr><td>8 00 12215 01 1400 000             </td><td>3 &amp; PT. 2                     </td></tr>",
                            "<tr><td>8 00 12215 01 1600 000             </td><td>1 &amp; PT. 2                     </td></tr>",
                            "<tr><td>8 00 12215 01 2400 000             </td><td>10 &amp; 11                       </td></tr>",
                            "<tr><td>8 00 12215 01 2700 000             </td><td>26 &amp; 27                       </td></tr>",
                            "<tr><td>8 00 12405 01 2600 000             </td><td>24 &amp; 25                       </td></tr>",
                            "<tr><td>8 00 12405 01 3300 000             </td><td>31 &amp; 32                       </td></tr>",
                            "<tr><td>8 00 12700 01 4700 000             </td><td>6 &amp; 7                         </td></tr>",
                            "<tr><td>8 00 12700 01 4902 000             </td><td>3 &amp; 4                         </td></tr>",
                            "<tr><td>8 00 12819 01 0700 000             </td><td>8 &amp; PT. 7                     </td></tr>",
                            "<tr><td>8 00 12819 01 2700 000             </td><td>24 &amp; 25                       </td></tr>",
                            "<tr><td>8 00 12819 01 3000 000             </td><td>1 &amp; 2                         </td></tr>",
                            "<tr><td>8 00 12900 01 3400 000             </td><td>LOT 116 &amp; PT. LOT 117         </td></tr>",
                            "<tr><td>8 00 12900 01 3600 000             </td><td>114 &amp; 115                     </td></tr>",
                            "<tr><td>8 00 12900 03 4104 000             </td><td>4 &amp; 5                         </td></tr>",
                            "<tr><td>8 00 12900 03 4128 000             </td><td>13 &amp; 14                       </td></tr>",
                            "<tr><td>8 00 12901 01 0300 000             </td><td>5 &amp; 6                         </td></tr>",
                            "<tr><td>8 00 12901 01 0800 000             </td><td>9 &amp; 10                        </td></tr>",
                            "<tr><td>8 00 12901 01 1000 000             </td><td>14 &amp; 15                       </td></tr>",
                            "<tr><td>8 00 12901 02 0100 000             </td><td>PT OF 55 &amp; 65 ALL LOT 56 &amp; 66 </td></tr>",
                            "<tr><td>8 00 12901 02 0102 000             </td><td>53,54,64 &amp; PT OF 55 &amp; 65      </td></tr>",
                            "<tr><td>8 00 12901 02 0200 000             </td><td>LOTS 57 &amp; 67                  </td></tr>",
                            "<tr><td>8 00 12901 02 0500 000             </td><td>60&amp;70, PT. OF 59,61,69&amp;71     </td></tr>",
                            "<tr><td>8 00 12901 02 0501 000             </td><td>LOTS 58&amp;68 PT. OF LOTS 59&amp;69  </td></tr>",
                            "<tr><td>8 00 12901 02 0600 000             </td><td>62, 72 &amp; PTS 61 &amp; 71          </td></tr>",
                            "<tr><td>8 00 12901 02 0700 000             </td><td>63 &amp; 73                       </td></tr>",
                            "<tr><td>8 00 12901 02 0800 000             </td><td>31 &amp; 51                       </td></tr>",
                            "<tr><td>8 00 12901 02 1101 000             </td><td>35 &amp; PT. 36                   </td></tr>",
                            "<tr><td>8 00 12901 02 1102 000             </td><td>PT. 37 &amp; 38                   </td></tr>",
                            "<tr><td>8 00 12901 02 1103 000             </td><td>PT. 36 &amp; 37                   </td></tr>",
                            "<tr><td>8 00 12901 02 1200 000             </td><td>39 &amp; PT 38                    </td></tr>",
                            "<tr><td>8 00 12901 02 2600 000             </td><td>3&amp;4&amp;PT.15                     </td></tr>",
                            "<tr><td>8 00 12901 02 2800 000             </td><td>14 &amp; PT. OF 15                </td></tr>",
                            "<tr><td>8 00 12901 02 2900 000             </td><td>26 &amp; 27                       </td></tr>",
                            "<tr><td>8 00 12901 02 3400 000             </td><td>50 &amp; 52                       </td></tr>",
                            "<tr><td>8 00 12901 02 3500 000             </td><td>111 &amp; 112                     </td></tr>",
                            "<tr><td>8 00 12901 02 4000 000             </td><td>103 &amp; 104                     </td></tr>",
                            "<tr><td>8 00 12901 02 4100 000             </td><td>LOT 107 &amp; 108                 </td></tr>",
                            "<tr><td>8 00 12901 02 4400 000             </td><td>118 &amp; PT. 117                 </td></tr>",
                            "<tr><td>8 00 12901 02 4700 000             </td><td>47 &amp; 48                       </td></tr>",
                            "<tr><td>8 00 12901 02 5100 000             </td><td>PTS. 1 &amp; 2                    </td></tr>",
                            "<tr><td>8 00 12901 02 5200 000             </td><td>41 &amp; PTS. 1 &amp; 2               </td></tr>",
                            "<tr><td>8 00 12901 02 5300 000             </td><td>42 &amp; PT. 43                   </td></tr>",
                            "<tr><td>8 00 12901 02 5400 000             </td><td>44 &amp; PT. 43                   </td></tr>",
                            "<tr><td>8 00 13000 01 0200 000             </td><td>2 &amp; PT. 1                     </td></tr>",
                            "<tr><td>8 00 13001 01 2800 000             </td><td>25 &amp; 1/2 24                   </td></tr>",
                            "<tr><td>8 00 13001 01 3101 000             </td><td>22 &amp; 23                       </td></tr>",
                            "<tr><td>8 00 13001 01 3300 000             </td><td>17 &amp; 18                       </td></tr>",
                            "<tr><td>8 00 13001 02 7800 000             </td><td>8-PT. OF 7 &amp; 9                </td></tr>",
                            "<tr><td>8 00 13001 02 8500 000             </td><td>LOT 24 PT 25 &amp; PT 26          </td></tr>",
                            "<tr><td>8 00 13001 03 0200 000             </td><td>LOT #2 &amp; PART OF #3           </td></tr>",
                            "<tr><td>8 00 13001 03 0600 000             </td><td>6 &amp; PT OF 7 &amp; PR OF 3         </td></tr>",
                            "<tr><td>8 00 13001 03 1300 000             </td><td>13 &amp; PT. 16                   </td></tr>",
                            "<tr><td>8 00 13001 03 1400 000             </td><td>11 &amp; 14                       </td></tr>",
                            "<tr><td>8 00 13001 03 3500 000             </td><td>15, 18 &amp; 18-A                 </td></tr>",
                            "<tr><td>8 00 13001 03 4000 000             </td><td>23, 22, &amp; 21                  </td></tr>",
                            "<tr><td>8 00 13001 03 4700 000             </td><td>27 &amp; PT 28                    </td></tr>",
                            "<tr><td>8 00 13001 03 5000 000             </td><td>24, 25 &amp; PT. 26               </td></tr>",
                            "<tr><td>8 00 13001 03 5200 000             </td><td>LOTS 18 &amp; 19                  </td></tr>",
                            "<tr><td>8 00 13001 03 5300 000             </td><td>16 &amp; 17                       </td></tr>",
                            "<tr><td>8 00 13001 03 5600 000             </td><td>6 &amp; PT. 7                     </td></tr>",
                            "<tr><td>8 00 13001 03 5800 000             </td><td>8 &amp; PT. 7                     </td></tr>",
                            "<tr><td>8 00 13001 03 6700 000             </td><td>29 &amp; PT. 28                   </td></tr>",
                            "<tr><td>8 00 13001 03 7100 000             </td><td>12 &amp; 13 &amp; PT. 14              </td></tr>",
                            "<tr><td>8 00 13002 01 1200 000             </td><td>52 &amp; 53                       </td></tr>",
                            "<tr><td>8 00 13002 01 1800 000             </td><td>40 &amp; PART OF 39               </td></tr>",
                            "<tr><td>8 00 13002 01 3000 000             </td><td>35 &amp; PT.OF 36                 </td></tr>",
                            "<tr><td>8 00 13100 01 0613 000             </td><td>14 &amp; 15                       </td></tr>",
                            "<tr><td>8 00 13700 01 0508 000             </td><td>1-A &amp; 2-A                     </td></tr>",
                            "<tr><td>8 00 13905 01 0200 000             </td><td>32 &amp; 33                       </td></tr>",
                            "<tr><td>8 00 13905 01 0300 000             </td><td>35 &amp; PT. 36                   </td></tr>",
                            "<tr><td>8 00 13905 01 0400 000             </td><td>37, 38 &amp; PT. 36               </td></tr>",
                            "<tr><td>8 00 13905 01 0500 000             </td><td>30 &amp; 31                       </td></tr>",
                            "<tr><td>8 00 13905 01 0800 000             </td><td>28 &amp; 29                       </td></tr>",
                            "<tr><td>8 00 13905 01 0900 000             </td><td>39 &amp; 40                       </td></tr>",
                            "<tr><td>8 00 13905 01 1700 000             </td><td>10 &amp; PT. 11                   </td></tr>",
                            "<tr><td>8 00 13905 01 1701 000             </td><td>12 &amp; &amp;T. 11                   </td></tr>",
                            "<tr><td>8 00 13905 01 2000 000             </td><td>17 &amp; 18                       </td></tr>",
                            "<tr><td>8 00 13905 01 2100 000             </td><td>19 &amp; 20                       </td></tr>",
                            "<tr><td>8 00 13905 01 2200 000             </td><td>14 &amp; 15                       </td></tr>",
                            "<tr><td>8 00 13905 01 2700 000             </td><td>23 &amp; 24                       </td></tr>",
                            "<tr><td>8 00 13905 01 2800 000             </td><td>21 &amp; 22                       </td></tr>",
                            "<tr><td>8 00 14100 01 1100 000             </td><td>4 &amp; 5                         </td></tr>",
                            "<tr><td>8 00 14500 01 3600 000             </td><td>4 &amp; 5 &amp; 6                     </td></tr>",
                            "<tr><td>8 01 11420 01 5400 000             </td><td>PT. OF 1 &amp; 2                  </td></tr>",
                            "<tr><td>8 01 11420 01 5401 000             </td><td>PT. OF 1 &amp; 2                  </td></tr>",
                            "<tr><td>8 01 11513 01 0201 000             </td><td>30 &amp; 31                       </td></tr>",
                            "<tr><td>8 01 11513 01 0301 000             </td><td>20A &amp; 21A                     </td></tr>",
                            "<tr><td>8 01 11513 01 0302 000             </td><td>20B &amp; 21B                     </td></tr>",
                            "<tr><td>8 01 11513 01 0701 000             </td><td>44 &amp; 45                       </td></tr>",
                            "<tr><td>8 01 11513 01 1800 000             </td><td>50 &amp; 51                       </td></tr>",
                            "<tr><td>8 01 11513 01 2002 000             </td><td>3 &amp; PT. 2                     </td></tr>",
                            "<tr><td>8 01 11513 01 2200 000             </td><td>54 &amp; PT OF 53                 </td></tr>",
                            "<tr><td>8 01 11513 01 2300 000             </td><td>55 &amp; PT. 1                    </td></tr>",
                            "<tr><td>8 01 11513 01 4500 000             </td><td>11A &amp; PT. 10A                 </td></tr>",
                            "<tr><td>8 01 11513 01 4600 000             </td><td>9A &amp; PT. 10A                  </td></tr>",
                            "<tr><td>8 01 11513 01 5000 000             </td><td>PT. 1A &amp; 2A                   </td></tr>",
                            "<tr><td>8 01 11513 01 5100 000             </td><td>PT. 1A &amp; 2A                   </td></tr>",
                            "<tr><td>8 01 11513 01 5200 000             </td><td>PTS. 19, 20, 1A&amp;2A            </td></tr>",
                            "<tr><td>8 01 11513 01 5400 000             </td><td>7 &amp; 8                         </td></tr>",
                            "<tr><td>8 01 11513 01 5500 000             </td><td>5 &amp; 6                         </td></tr>",
                            "<tr><td>8 01 11513 01 5600 000             </td><td>4, PT. 21 &amp; 22                </td></tr>",
                            "<tr><td>8 01 11513 01 5601 000             </td><td>PT. 22 &amp; 23                   </td></tr>",
                            "<tr><td>8 01 11513 01 5700 000             </td><td>PT.2,3,22,&amp;23                 </td></tr>",
                            "<tr><td>8 01 11513 01 5701 000             </td><td>PT. 2&amp;3                       </td></tr>",
                            "<tr><td>8 01 11517 01 0800 000             </td><td>18-19-20&amp;21                   </td></tr>",
                            "<tr><td>8 01 11517 01 1200 000             </td><td>22 &amp; 23                       </td></tr>",
                            "<tr><td>8 01 11517 01 1400 000             </td><td>25 &amp; 26                       </td></tr>",
                            "<tr><td>8 01 11517 01 1600 000             </td><td>28 &amp; 29                       </td></tr>",
                            "<tr><td>8 01 11517 01 2900 000             </td><td>16 &amp; 17                       </td></tr>",
                            "<tr><td>8 01 11517 02 1200 000             </td><td>4 &amp; 5                         </td></tr>",
                            "<tr><td>8 01 11517 02 1400 000             </td><td>6 &amp; 7                         </td></tr>",
                            "<tr><td>8 01 11517 02 6100 000             </td><td>5 &amp; 6                         </td></tr>",
                            "<tr><td>8 07 12820 01 1900 000             </td><td>58 &amp; 59                       </td></tr>",
                            "<tr><td>8 07 12820 01 2000 000             </td><td>60-62 &amp; 67-69                 </td></tr>",
                            "<tr><td>8 07 12820 01 2300 000             </td><td>63 71 &amp; 72                    </td></tr>",
                            "<tr><td>8 07 12820 01 2400 000             </td><td>78 &amp; PT. 79                   </td></tr>",
                            "<tr><td>8 07 12820 01 2800 000             </td><td>80,89,90&amp;PT.79,81 &amp; 91        </td></tr>",
                            "<tr><td>8 07 12820 01 2801 000             </td><td>89,90 &amp; PT. 91                </td></tr>",
                            "<tr><td>8 07 12820 01 2900 000             </td><td>92 &amp; PT.OF. 91                </td></tr>",
                            "<tr><td>8 07 12820 01 2901 000             </td><td>82 &amp; PT.OF 81                 </td></tr>",
                            "<tr><td>8 07 12820 01 3601 000             </td><td>45 &amp; 46                       </td></tr>",
                            "<tr><td>8 07 12820 01 3700 000             </td><td>34 &amp; 44                       </td></tr>",
                            "<tr><td>8 07 12820 01 4100 000             </td><td>29 &amp; 30                       </td></tr>",
                            "<tr><td>8 07 12820 01 4600 000             </td><td>26 &amp; 29                       </td></tr>",
                            "<tr><td>8 07 12820 01 6200 000             </td><td>B &amp; C                         </td></tr>",
                            "<tr><td>8 07 12820 01 6500 000             </td><td>110 &amp; 111                     </td></tr>",
                            "<tr><td>8 07 12820 01 6700 000             </td><td>106 &amp; PT. 107                 </td></tr>",
                            "<tr><td>8 07 12820 01 6800 000             </td><td>108 &amp; 109 &amp; PT. 107           </td></tr>",
                            "<tr><td>8 07 12820 01 6900 000             </td><td>104 &amp; 105                     </td></tr>",
                            "<tr><td>8 07 12820 01 7001 000             </td><td>LOT 28 &amp; PT OF 27             </td></tr>",
                            "<tr><td>8 07 12820 01 7400 000             </td><td>35 &amp; PT. 36                   </td></tr>",
                            "<tr><td>8 07 12820 01 7404 000             </td><td>37 &amp; PT. 36                   </td></tr>",
                            "<tr><td>8 07 12820 02 1500 000             </td><td>38 &amp; PT. 33                   </td></tr>",
                            "<tr><td>8 07 12820 02 1600 000             </td><td>39 &amp; PT 38                    </td></tr>",
                            "<tr><td>8 07 12903 01 9700 000             </td><td>POND 4 &amp; 1B                   </td></tr>",
                            "<tr><td>8 07 13808 02 0400 000             </td><td>6 &amp; PT. 5                     </td></tr>",
                            "<tr><td>8 07 13808 02 1001 000             </td><td>14 &amp; PT. 13                   </td></tr>",
                            "<tr><td>8 07 13808 02 1100 000             </td><td>15 &amp; 16                       </td></tr>",
                            "<tr><td>8 07 13808 02 1300 000             </td><td>19 &amp; 20                       </td></tr>",
                            "<tr><td>8 07 13808 02 1400 000             </td><td>21 &amp; 22                       </td></tr>",
                            "<tr><td>8 07 13808 02 2400 000             </td><td>LOT 21 &amp; 22                   </td></tr>",
                            "<tr><td>8 07 13808 02 3200 000             </td><td>PT. 13 &amp; 14                   </td></tr>",
                            "<tr><td>8 08 14106 01 0500 000             </td><td>6 &amp; PT. 5                     </td></tr>",
                            "<tr><td>8 08 14106 01 0600 000             </td><td>4 &amp; PT. 3                     </td></tr>",
                            "<tr><td>8 08 14106 01 0800 000             </td><td>1 &amp; 2                         </td></tr>",
                            "<tr><td>8 08 14106 01 3100 000             </td><td>56 &amp; 57                       </td></tr>",
                            "<tr><td>8 08 14106 01 3301 000             </td><td>64 &amp; 65                       </td></tr>",
                            "<tr><td>8 08 14106 01 3600 000             </td><td>34- 35 &amp; 1/2 OF 33            </td></tr>",
                            "<tr><td>8 08 14106 01 3700 000             </td><td>26 &amp; 27                       </td></tr>",
                            "<tr><td>8 08 14106 01 3701 000             </td><td>38 &amp; 39                       </td></tr>",
                            "<tr><td>8 08 14106 01 3800 000             </td><td>24 &amp; 25                       </td></tr>",
                            "<tr><td>8 08 14106 01 3900 000             </td><td>22 &amp; 23                       </td></tr>",
                            "<tr><td>8 08 14106 01 4000 000             </td><td>LOTS 40 &amp; 41                  </td></tr>",
                            "<tr><td>8 08 14106 01 4100 000             </td><td>42 &amp; 43                       </td></tr>",
                            "<tr><td>8 08 14106 01 4200 000             </td><td>20 &amp; 21                       </td></tr>",
                            "<tr><td>8 08 14106 01 4300 000             </td><td>LOT 18 &amp; 19                   </td></tr>",
                            "<tr><td>8 08 14106 01 4400 000             </td><td>LOTS 16 &amp; 17                  </td></tr>",
                            "<tr><td>8 08 14106 01 4700 000             </td><td>12 &amp; 13                       </td></tr>",
                            "<tr><td>8 08 14106 01 5500 000             </td><td>62 &amp; 63                       </td></tr>",
                            "<tr><td>8 08 14106 01 5700 000             </td><td>57 &amp; 58                       </td></tr>",
                            "<tr><td>8 08 14106 02 0201 000             </td><td>66 &amp; 68                       </td></tr>",
                            "<tr><td>8 08 14106 02 1100 000             </td><td>42 &amp; 44                       </td></tr>",
                            "<tr><td>8 08 14106 02 1200 000             </td><td>38 &amp; 40                       </td></tr>",
                            "<tr><td>8 08 14106 02 1300 000             </td><td>34 &amp; 36                       </td></tr>",
                            "<tr><td>8 08 14106 02 1400 000             </td><td>29&amp;31, PT OF 30,PT OF 32      </td></tr>",
                            "<tr><td>8 08 14106 02 1500 000             </td><td>27 &amp; PT. 25                   </td></tr>",
                            "<tr><td>8 08 14106 02 1502 000             </td><td>A-1, A-2, PT. OF 28, 30 &amp; 32  </td></tr>",
                            "<tr><td>8 08 14106 02 1600 000             </td><td>PT. 23-25 &amp; 26                </td></tr>",
                            "<tr><td>8 08 14106 02 1601 000             </td><td>PT. 24 &amp; 26                   </td></tr>",
                            "<tr><td>8 08 14106 02 1700 000             </td><td>PT. 22 &amp; 24                   </td></tr>",
                            "<tr><td>8 08 14106 02 1701 000             </td><td>PT. 20 &amp; 22                   </td></tr>",
                            "<tr><td>8 08 14106 02 2100 000             </td><td>PT. 8 &amp; 9                     </td></tr>",
                            "<tr><td>8 08 14106 02 2200 000             </td><td>6-7 &amp; PT. 8-9                 </td></tr>",
                            "<tr><td>8 08 14106 02 2400 000             </td><td>1 &amp; 2                         </td></tr>",
                            "<tr><td>8 08 14106 02 2700 000             </td><td>21 &amp; 19 &amp; PT 20, 22-24        </td></tr>",
                            "<tr><td>8 08 14106 02 3000 000             </td><td>37 &amp; 39                       </td></tr>",
                            "<tr><td>8 08 14106 02 3100 000             </td><td>41 &amp; 43                       </td></tr>",
                            "<tr><td>8 08 14106 02 3400 000             </td><td>63 &amp; PT. 61                   </td></tr>",
                            "<tr><td>8 08 14106 02 3500 000             </td><td>77 &amp; 76                       </td></tr>",
                            "<tr><td>8 08 14106 02 3600 000             </td><td>74 &amp; PT. 73                   </td></tr>",
                            "<tr><td>8 08 14106 02 3700 000             </td><td>72 &amp; PT. 73                   </td></tr>",
                            "<tr><td>8 08 14106 02 3800 000             </td><td>51 &amp; 52                       </td></tr>",
                            "<tr><td>8 08 14106 03 7700 000             </td><td>9 &amp; 10                        </td></tr>",
                            "<tr><td>8 08 14106 03 8300 000             </td><td>PT OF 14 &amp; 15                 </td></tr>",
                            "<tr><td>8 08 14106 03 8301 000             </td><td>PT OF 14 &amp; 15                 </td></tr>",
                            "<tr><td>8 08 14106 04 0500 000             </td><td>68 &amp; 69                       </td></tr>",
                            "<tr><td>8 08 14106 04 0600 000             </td><td>66 &amp; 67                       </td></tr>",
                            "<tr><td>8 08 14106 04 2100 000             </td><td>25 &amp; 26                       </td></tr>",
                            "<tr><td>8 08 14106 04 2400 000             </td><td>22 &amp; 40                       </td></tr>",
                            "<tr><td>8 08 14106 04 2600 000             </td><td>PT. OF 17 AND ALL 18 &amp; 19     </td></tr>",
                            "<tr><td>8 08 14106 04 2800 000             </td><td>14-15-16 &amp; PT. 17             </td></tr>",
                            "<tr><td>8 08 14106 04 3101 000             </td><td>PT. 11 &amp; 12                   </td></tr>",
                            "<tr><td>8 08 14106 04 3300 000             </td><td>8 &amp; 9                         </td></tr>",
                            "<tr><td>8 08 14106 04 3400 000             </td><td>7 &amp; 9                         </td></tr>",
                            "<tr><td>8 08 14106 04 3700 000             </td><td>3 &amp; 4, PT. OF 2 &amp; 5           </td></tr>",
                            "<tr><td>8 08 14106 04 3800 000             </td><td>1 &amp; PT.OF 2 &amp; PT. OF 3        </td></tr>",
                            "<tr><td>8 08 14106 04 6100 000             </td><td>25 &amp; 26                       </td></tr>",
                            "<tr><td>8 08 14106 04 6600 000             </td><td>19 &amp; 18                       </td></tr>",
                            "<tr><td>8 08 14106 04 6700 000             </td><td>16 &amp; 17                       </td></tr>",
                            "<tr><td>8 08 14106 04 7400 000             </td><td>3 &amp; 4                         </td></tr>",
                            "<tr><td>9 00 06300 01 2802 000             </td><td>1 &amp; 1A                        </td></tr>",
                            "<tr><td>9 00 06300 01 2804 000             </td><td>2 &amp; 3                         </td></tr>",
                            "<tr><td>9 00 06300 02 0702 000             </td><td>1 &amp; 2                         </td></tr>",
                            "<tr><td>9 00 06301 01 1000 000             </td><td>1 &amp; 2                         </td></tr>",
                            "<tr><td>9 00 06320 01 0200 000             </td><td>1 &amp; 2                         </td></tr>",
                            "<tr><td>9 00 06320 01 0700 000             </td><td>PTS. 7 &amp; 8                    </td></tr>",
                            "<tr><td>9 00 06320 01 0800 000             </td><td>PT. OF 7 &amp; 8                  </td></tr>",
                            "<tr><td>9 00 06320 01 0900 000             </td><td>PTS. 7 &amp; 8                    </td></tr>",
                            "<tr><td>9 00 06400 01 3204 000             </td><td>A &amp; B                         </td></tr>",
                            "<tr><td>9 00 06500 01 4206 000             </td><td>PT. OF 14 &amp; 15                </td></tr>",
                            "<tr><td>9 00 06500 01 4218 000             </td><td>1 &amp; PT. OF 2                  </td></tr>",
                            "<tr><td>9 00 06500 01 4219 000             </td><td>PT. OF 2 &amp; 3                  </td></tr>",
                            "<tr><td>9 00 06500 01 4235 000             </td><td>28 &amp; PT. 29                   </td></tr>",
                            "<tr><td>9 00 06500 01 4239 000             </td><td>34 &amp; 35                       </td></tr>",
                            "<tr><td>9 00 06501 01 1200 000             </td><td>28 &amp; 29                       </td></tr>",
                            "<tr><td>9 00 06501 01 1400 000             </td><td>25 &amp; 26                       </td></tr>",
                            "<tr><td>9 00 06501 01 1700 000             </td><td>21 &amp; 22                       </td></tr>",
                            "<tr><td>9 00 06501 01 2400 000             </td><td>4 &amp; 5                         </td></tr>",
                            "<tr><td>9 00 06501 01 2600 000             </td><td>1 &amp; 2                         </td></tr>",
                            "<tr><td>9 00 06501 01 3700 000             </td><td>42 &amp; 43                       </td></tr>",
                            "<tr><td>9 00 07200 01 0500 000             </td><td>11 &amp; 12                       </td></tr>",
                            "<tr><td>9 00 07200 01 0600 000             </td><td>10 &amp; 1/2 OF 9                 </td></tr>",
                            "<tr><td>9 00 07200 01 0700 000             </td><td>8 &amp; PT. 9                     </td></tr>",
                            "<tr><td>9 00 07200 01 5305 000             </td><td>5 &amp; 6                         </td></tr>",
                            "<tr><td>9 00 07200 02 2100 000             </td><td>1 &amp; 2                         </td></tr>",
                            "<tr><td>9 00 07200 02 2300 000             </td><td>7 &amp; 8                         </td></tr>",
                            "<tr><td>9 00 07200 02 2400 000             </td><td>11 &amp; 12                       </td></tr>",
                            "<tr><td>9 00 07200 02 3000 000             </td><td>3 &amp; 4                         </td></tr>",
                            "<tr><td>9 00 07200 02 4500 000             </td><td>9 &amp; 10                        </td></tr>",
                            "<tr><td>9 00 07300 01 5606 000             </td><td>2 &amp; PT. OF 3                  </td></tr>",
                            "<tr><td>9 00 07300 02 5112 000             </td><td>7 &amp; 8                         </td></tr>",
                            "<tr><td>9 00 07304 01 1700 000             </td><td>30 &amp; 10' OF 31                </td></tr>",
                            "<tr><td>9 00 07404 01 3800 000             </td><td>38 &amp; 39                       </td></tr>",
                            "<tr><td>9 00 08100 01 1800 000             </td><td>8 &amp; 9                         </td></tr>",
                            "<tr><td>9 00 08100 02 0503 000             </td><td>3 &amp; 4                         </td></tr>",
                            "<tr><td>9 00 08100 02 2500 000             </td><td>13 &amp; PT. 11                   </td></tr>",
                            "<tr><td>9 00 08100 02 2600 000             </td><td>11 &amp; PT. OF 13                </td></tr>",
                            "<tr><td>9 00 08100 03 3900 000             </td><td>23 &amp; 24                       </td></tr>",
                            "<tr><td>9 00 08200 01 3102 000             </td><td>1 &amp; 2                         </td></tr>",
                            "<tr><td>9 00 08200 02 3001 000             </td><td>PT. OF 13 &amp; 14                </td></tr>",
                            "<tr><td>9 00 08200 02 4201 000             </td><td>2 &amp; 3                         </td></tr>",
                            "<tr><td>9 00 08304 02 3500 000             </td><td>34 &amp; 35                       </td></tr>",
                            "<tr><td>9 00 08912 01 0700 000             </td><td>11 &amp; 12                       </td></tr>",
                            "<tr><td>9 00 09100 01 0701 000             </td><td>1 &amp; PT OF 2 &amp; ALL OF A        </td></tr>",
                            "<tr><td>9 00 09100 01 0703 000             </td><td>3 &amp; PT. OF 2 &amp; B              </td></tr>",
                            "<tr><td>9 00 09100 01 0704 000             </td><td>4 &amp; 5 &amp; C &amp; D                 </td></tr>",
                            "<tr><td>9 00 09100 01 0706 000             </td><td>6 &amp; 6A                        </td></tr>",
                            "<tr><td>9 00 09100 01 0707 000             </td><td>7 &amp; 7A                        </td></tr>",
                            "<tr><td>9 00 09100 01 2713 000             </td><td>1 &amp; 2                         </td></tr>",
                            "<tr><td>9 00 09100 01 3917 000             </td><td>5 &amp; 6                         </td></tr>",
                            "<tr><td>9 00 09200 01 1109 000             </td><td>5 &amp; 6                         </td></tr>",
                            "<tr><td>9 00 09200 04 7100 000             </td><td>LOT 122 &amp; 121                 </td></tr>",
                            "<tr><td>9 00 09206 01 1400 000             </td><td>17 &amp; 50' 16                   </td></tr>",
                            "<tr><td>9 00 09206 01 2700 000             </td><td>3 &amp; PT. OF 4                  </td></tr>",
                            "<tr><td>9 00 10000 01 1402 000             </td><td>3 &amp; 4                         </td></tr>",
                            "<tr><td>9 00 10000 01 2600 000             </td><td>2 &amp; 3                         </td></tr>",
                            "<tr><td>9 00 10000 01 4102 000             </td><td>3 &amp; 4                         </td></tr>",
                            "<tr><td>1 00 00510 01 3200 000             </td><td>1-4 &amp; 68-76                   </td></tr>",
                            "<tr><td>1 00 00514 01 0400 000             </td><td>109 &amp; 110                     </td></tr>",
                            "<tr><td>1 17 01905 03 2300 000             </td><td>16 &amp; 17                       </td></tr>",
                            "<tr><td>2 00 08801 02 2000 000             </td><td>276 &amp; 277                     </td></tr>",
                            "<tr><td>2 00 08801 02 4400 000             </td><td>34 &amp; 35                       </td></tr>",
                            "<tr><td>2 00 08802 01 2400 000             </td><td>B-6 &amp; B-8                     </td></tr>",
                            "<tr><td>2 00 08802 01 3500 000             </td><td>580 &amp; 581                     </td></tr>",
                            "<tr><td>2 00 08802 01 3900 000             </td><td>559 &amp; 560                     </td></tr>",
                            "<tr><td>2 00 08802 01 7500 000             </td><td>232 &amp; 233                     </td></tr>",
                            "<tr><td>2 00 08802 01 9600 000             </td><td>B-14 &amp; B-15                   </td></tr>",
                            "<tr><td>2 05 06700 02 4000 000             </td><td>31-40 &amp; 57-68                 </td></tr>",
                            "<tr><td>2 05 06716 02 9000 000             </td><td>35, 36 &amp; PT. 34               </td></tr>",
                            "<tr><td>2 05 06720 01 0900 000             </td><td>4 &amp; 5                         </td></tr>",
                            "<tr><td>2 05 06817 02 0900 000             </td><td>35 &amp; 37                       </td></tr>",
                            "<tr><td>2 05 06817 02 4100 000             </td><td>41 &amp; PT. 39, 37 &amp; 35          </td></tr>",
                            "<tr><td>2 05 06817 03 4800 000             </td><td>34 &amp; PT. 35                   </td></tr>",
                            "<tr><td>2 05 06818 05 3000 000             </td><td>63 &amp; 64                       </td></tr>",
                            "<tr><td>2 05 07607 01 6600 000             </td><td>1 &amp; 2                         </td></tr>",
                            "<tr><td>2 05 07608 02 2300 000             </td><td>PT. 53 &amp; 54                   </td></tr>",
                            "<tr><td>2 05 07608 04 4400 000             </td><td>20 &amp; PT. 18                   </td></tr>",
                            "<tr><td>2 05 07608 05 0500 000             </td><td>PT. 7 &amp; 9                     </td></tr>",
                            "<tr><td>2 05 07608 05 0600 000             </td><td>PT. 7 &amp; 9                     </td></tr>",
                            "<tr><td>2 05 07608 06 0900 000             </td><td>72,73 &amp; PT. 71, 88 &amp; 8        </td></tr>",
                            "<tr><td>2 05 07608 06 1700 000             </td><td>63 &amp; PT. 62                   </td></tr>",
                            "<tr><td>2 05 07705 01 2600 000             </td><td>13 &amp; PT. 14                   </td></tr>",
                            "<tr><td>2 05 07705 01 2700 000             </td><td>PT. 14 &amp; 15                   </td></tr>",
                            "<tr><td>2 05 07705 01 2800 000             </td><td>PT. 15 &amp; 16                   </td></tr>",
                            "<tr><td>2 05 07705 01 2900 000             </td><td>PT. 16 &amp; 17                   </td></tr>",
                            "<tr><td>2 05 07705 01 3000 000             </td><td>18 &amp; PT. 17                   </td></tr>",
                            "<tr><td>2 05 07705 01 3800 000             </td><td>7 &amp; 8                         </td></tr>",
                            "<tr><td>2 05 07705 01 4500 000             </td><td>14 &amp; PT. 28                   </td></tr>",
                            "<tr><td>2 05 07705 02 4900 000             </td><td>71-82 &amp; 91-99                 </td></tr>",
                            "<tr><td>2 05 07705 03 7100 000             </td><td>63 &amp; 64 &amp; PT. 61, 62,         </td></tr>",
                            "<tr><td>2 05 07705 03 7200 000             </td><td>PT. 61 &amp; 62                   </td></tr>",
                            "<tr><td>2 05 07705 04 1600 000             </td><td>PT. 38 &amp; 39                   </td></tr>",
                            "<tr><td>2 05 07705 04 1900 000             </td><td>13, 14 &amp; PT. 15               </td></tr>",
                            "<tr><td>2 05 07709 02 1200 000             </td><td>76 &amp; PT. 75                   </td></tr>",
                            "<tr><td>2 05 07709 02 1500 000             </td><td>79 &amp; 80                       </td></tr>",
                            "<tr><td>2 05 07709 02 1600 000             </td><td>59 &amp; 60                       </td></tr>",
                            "<tr><td>2 05 07709 02 2100 000             </td><td>PT. 56 &amp; 57                   </td></tr>",
                            "<tr><td>2 05 07709 02 2200 000             </td><td>PT. 55 &amp; 56                   </td></tr>",
                            "<tr><td>2 05 07709 02 2400 000             </td><td>PT. 54 &amp; 55                   </td></tr>",
                            "<tr><td>2 05 07717 04 2700 000             </td><td>58 &amp; 59                       </td></tr>",
                            "<tr><td>2 05 07717 04 4800 000             </td><td>69 &amp; 70                       </td></tr>",
                            "<tr><td>2 05 07718 01 1100 000             </td><td>PT. 37 &amp; 38                   </td></tr>",
                            "<tr><td>2 05 07718 01 3300 000             </td><td>33 &amp; 34                       </td></tr>",
                            "<tr><td>3 04 01810 01 3400 000             </td><td>1 &amp; 24                        </td></tr>",
                            "<tr><td>5 16 18306 02 1200 000             </td><td>1, 10 &amp; PT. 2 &amp; 11            </td></tr>",
                            "<tr><td>6 00 19300 02 1803 001             </td><td>LOT #3 &amp; #4                   </td></tr>",
                            "<tr><td>4 05 05800 02 1700 000             </td><td>A &amp; B                         </td></tr>",
                            "<tr><td>7 00 11104 02 5200 002             </td><td>1 &amp; 2                         </td></tr>",
                            "<tr><td>7 00 11104 02 5200 003             </td><td>1 &amp; 2                         </td></tr>",
                            "<tr><td>7 20 09410 01 4800 000             </td><td>12 &amp; PT. 13                   </td></tr>",
                            "<tr><td>1 17 01808 04 1000 000             </td><td>328 &amp; 329                     </td></tr>",
                            "<tr><td>7 00 11104 02 0900 001             </td><td>28 &amp; 29                       </td></tr>",
                            "<tr><td>2 00 05702 01 0100 001             </td><td>34-36 &amp; PT. 37 &amp; 8            </td></tr>",
                            "<tr><td>2 00 05702 01 0100 002             </td><td>34-36 &amp; PT. 37 &amp; 8            </td></tr>",
                            "<tr><td>2 00 05702 01 0100 003             </td><td>34-36 &amp; PT. 37 &amp; 8            </td></tr>",
                            "<tr><td>2 00 05702 01 0100 004             </td><td>34-36 &amp; PT. 37 &amp; 8            </td></tr>",
                            "<tr><td>8 01 11513 01 2003 000</td><td>3 &amp; PT. 2                     </td></tr>",
                            "<tr><td>8 01 11513 01 2302 000</td><td>55 &amp; PT. 1                    </td></tr>",
                            "<tr><td>7 02 08520 01 0600 000</td><td>13 &amp; 14 PTS. 11 &amp; 12          </td></tr>",
                            "<tr><td>7 02 08520 01 0800 000</td><td>PTS. 5 &amp; 6                    </td></tr>",
                            "<tr><td>6 09 17020 02 4601 000</td><td>6 &amp; 7                         </td></tr>",
                            "<tr><td>6 09 17908 01 6801 000</td><td>46 &amp; 47                       </td></tr>",
                            "<tr><td>1 17 01900 01 8600 000</td><td>2 &amp; 3                         </td></tr>",
                            "</table>"
                        ]
                    }
                }
            ],
            "execution_count": 5
        }
    ]
}