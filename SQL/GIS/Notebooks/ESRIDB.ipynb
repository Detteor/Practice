{
    "metadata": {
        "kernelspec": {
            "name": "SQL",
            "display_name": "SQL",
            "language": "sql"
        },
        "language_info": {
            "name": "sql",
            "version": ""
        }
    },
    "nbformat_minor": 2,
    "nbformat": 4,
    "cells": [
        {
            "cell_type": "markdown",
            "source": [
                "# Notebook to be used with ESRIDB connection."
            ],
            "metadata": {
                "azdata_cell_guid": "2cfbcba2-b843-409c-a957-dcf1baf112aa"
            }
        },
        {
            "cell_type": "markdown",
            "source": [
                "**Script to create MGOPermits Table from the MGOPermits Table on KCC-SQL1**"
            ],
            "metadata": {
                "azdata_cell_guid": "084b40e0-df77-487e-9d42-4cfa76b0db4a"
            }
        },
        {
            "cell_type": "code",
            "source": [
                "SET ANSI_PADDING ON\r\n",
                "GO\r\n",
                "\r\n",
                "USE PROD\r\n",
                "GO\r\n",
                "\r\n",
                "TRUNCATE Table [gisadmin].[MGOPermits]\r\n",
                "\r\n",
                "Insert into [gisadmin].[MGOPermits] (\r\n",
                "    [PARCELID],\r\n",
                "    [AppType],\r\n",
                "    [PermitStatus],\r\n",
                "    [CODate],\r\n",
                "    [AppDate],\r\n",
                "    [IssueDate],\r\n",
                "    [PermitYear],\r\n",
                "    [PermitNumber],\r\n",
                "    [Designation]\r\n",
                ")\r\n",
                "select CONCAT([PARCELID], '01'), [ApplicationType], [Status], [COIssuedDate], [Created], '', '', [ProjectNumber], [Designation]\r\n",
                "from [KCC-SQL1].[Assess50StagedData_Kent].[dbo].[MGOPermitData]"
            ],
            "metadata": {
                "azdata_cell_guid": "20b7a5d0-1d8d-4a5a-87c0-98712e88e755",
                "tags": [
                    "hide_input"
                ]
            },
            "outputs": [],
            "execution_count": null
        },
        {
            "cell_type": "markdown",
            "source": [
                "**Cell to query the AS400 Server.**"
            ],
            "metadata": {
                "azdata_cell_guid": "b6910676-9163-47bb-a1b6-d053df0ab67b"
            }
        },
        {
            "cell_type": "code",
            "source": [
                "-- SELECT *\r\n",
                "--   FROM [PROD].[gisadmin].[All_Permits]\r\n",
                "\r\n",
                "-- select *\r\n",
                "-- from [KCLCAS400].[S78114C0].[HTSUSR].[BPK001P2FL]\r\n",
                "-- where [YR] = '20' and [BPPYER] = '20'\r\n",
                "-- order by [MSPIN]\r\n",
                "\r\n",
                "select count(*)\r\n",
                "from [KCLCAS400].[S78114C0].[HTSUSR].[BPK001P2FL]\n",
                "where [MSPIN] LIKE '%-00001'\r\n",
                "-- where [MSPIN] = '4-00-04600-02-0400[KCLCAS400].[S78114C0].[HTSUSR].[BPK001P2FL]-00001' and [YR] = '20' and [BPPYER] = '20'\r\n",
                "-- where [YR] = 20 and ([BPATYP] = 'OTHE' and [BPPYER] = '20')\r\n",
                "-- order by [MSPIN]\r\n",
                "\r\n",
                "-- 26 results\r\n",
                "-- 22 results\r\n",
                "\r\n",
                "-- select [MSPIN], [BPATYP], [BPPYER], [BPPCNB], [YR], [BPPISDC]\r\n",
                "-- from [KCLCAS400].[S78114C0].[HTSUSR].[BPK001P2FL]\r\n",
                "-- where [YR] = 20 and ([BPATYP] = 'SFD' or [BPATYP] = 'SFA' or [BPATYP] = 'MANH' or [BPATYP] = 'MHRP' or [BPATYP] = 'MHPS' or [BPATYP] = 'OTHE' and [BPPYER] = '20') and [MSPIN] = '8-00-14500-01-1905-00001'\r\n",
                "-- order by [MSPIN]\r\n",
                "-- 847 results\r\n",
                "-- 789 results\r\n",
                "\r\n",
                "-- select DISTINCT([MSPIN]), [BPATYP]\r\n",
                "-- from [KCLCAS400].[S78114C0].[HTSUSR].[BPK001P2FL]\r\n",
                "-- where [YR] = 20 and ([BPATYP] = 'SFD' or [BPATYP] = 'SFA' or [BPATYP] = 'MANH' or [BPATYP] = 'MHRP' or [BPATYP] = 'MHPS')\r\n",
                "-- order by [MSPIN]\r\n",
                "-- 835 results\r\n",
                "-- 1-00-00400-01-0901-00001\r\n",
                "-- select *\r\n",
                "-- from gisadmin.DEMOPERMITSFINAL\r\n",
                "-- where [Name] = '1-00-00400-01-0901-00001'"
            ],
            "metadata": {
                "azdata_cell_guid": "94e90731-fc5b-46ae-a3c7-221cd6a498a7",
                "tags": [
                    "hide_input"
                ]
            },
            "outputs": [],
            "execution_count": null
        },
        {
            "cell_type": "markdown",
            "source": [
                "**Cell to create the All\\_Permits Table from BPK001P2FL on AS400 Server.**"
            ],
            "metadata": {
                "azdata_cell_guid": "47ac97e9-08c6-426d-a3c2-49ba810b0ec5"
            }
        },
        {
            "cell_type": "code",
            "source": [
                "SET ANSI_PADDING ON\r\n",
                "GO\r\n",
                "\r\n",
                "USE PROD\r\n",
                "GO\r\n",
                "\r\n",
                "-- CREATE Table [gisadmin].[MGOPERMIT](\r\n",
                "--   [PARCELID] [varchar](24) NOT NULL\r\n",
                "--   ,[StructureType] [varchar](4) NOT NULL\r\n",
                "--   ,[PermitStatus] [varchar](2)  NOT NULL\r\n",
                "--   ,[CODate] [varchar](24) NOT NULL\r\n",
                "--   ,[AppDate] [varchar](24) NOT NULL\r\n",
                "--   ,[IssueDate] [varchar](24) NOT NULL\r\n",
                "--   ,[PermitYear] [varchar](24) NOT NULL\r\n",
                "--   ,[PermitNumber] [varchar](24) NOT NULL\r\n",
                "--   )\r\n",
                "TRUNCATE Table [gisadmin].[All_Permits]\r\n",
                "\r\n",
                "Insert into [gisadmin].[All_Permits] (\r\n",
                "    [PARCELID],\r\n",
                "    [Type],\r\n",
                "    [Status],\r\n",
                "    [DATE],\r\n",
                "    [YEAR],\r\n",
                "    [CODATE],    \r\n",
                "    [APPDATE],\r\n",
                "    [DESCRIPTION],\r\n",
                "    [PermitDesc],\r\n",
                "    [PermitNumber]\r\n",
                ")\r\n",
                "select [MSPIN], [BPATYP], [BPASTS], [BPPISDC], [YR], [BPPSTDC], [BPADATC], '', '', [BPPCNB]\r\n",
                "from [KCLCAS400].[S78114C0].[HTSUSR].[BPK001P2FL] \r\n",
                "-- [KCC-SQL1].[Assess50StagedData_Kent].[dbo].[MGOPermitData]"
            ],
            "metadata": {
                "azdata_cell_guid": "0939d5e8-1f40-47d0-ad37-2cc961953019",
                "tags": [
                    "hide_input"
                ]
            },
            "outputs": [],
            "execution_count": null
        },
        {
            "cell_type": "markdown",
            "source": [
                "# Random Queries"
            ],
            "metadata": {
                "azdata_cell_guid": "6d67a4eb-42c8-4137-b165-818d005aa993"
            }
        },
        {
            "cell_type": "code",
            "source": [
                "(select a.PARCELID, a.AppType, a.PermitStatus\r\n",
                "from prod.gisadmin.MGOPermits as a\r\n",
                "where a.PARCELID = '1-00-01100-01-2604-00001')\r\n",
                "UNION ALL\r\n",
                "(select b.PARCELID, b.[TYPE] as [AppType], b.STATUS as [PermitStatus]\r\n",
                "from prod.gisadmin.All_Permits as b\r\n",
                "where b.PARCELID = '1-00-01100-01-2604-00001')\r\n",
                "\r\n",
                "select *\r\n",
                "from prod.gisadmin.MGOPermits as a\r\n",
                "FULL JOIN prod.gisadmin.All_Permits as b\r\n",
                "on a.PARCELID = b.PARCELID\r\n",
                "where a.ParcelID is not null and b.PARCELID is not null \r\n",
                "order by a.PARCELID"
            ],
            "metadata": {
                "azdata_cell_guid": "3afeb117-1d47-4e0f-8c12-1c22fbfcd399",
                "tags": [
                    "hide_input"
                ]
            },
            "outputs": [],
            "execution_count": null
        },
        {
            "cell_type": "code",
            "source": [
                "select *\r\n",
                "from prod.gisadmin.All_Permits"
            ],
            "metadata": {
                "azdata_cell_guid": "d32de143-995c-48d9-9643-e14db833579d",
                "tags": [
                    "hide_input"
                ]
            },
            "outputs": [],
            "execution_count": null
        },
        {
            "cell_type": "code",
            "source": [
                "USE PROD\r\n",
                "GO\r\n",
                "\r\n",
                "INSERT INTO [KCC-SQL1].[Assess50StagedData_Kent].[dbo].[All_Permits] (\n",
                "    [PARCELID],\n",
                "    [ApplicationType],\n",
                "    [Status],\n",
                "    [ApplicationDate],\n",
                "    [ProjectNumber],\n",
                "    [IssueDate],\n",
                "    [PermitYear],    \n",
                "    [Description]\n",
                ")\r\n",
                "select f.*\r\n",
                "FROM (select a.PARCELID, a.AppType, a.PermitStatus, FORMAT(CAST(LEFT(a.AppDate, 10) as date), 'd', 'en-US') as AppDate, a.PermitNumber, a.IssueDate, LEFT(a.PermitNumber, 4) as PermitYear, a.Designation\r\n",
                "from prod.gisadmin.MGOPermits as a\r\n",
                "UNION ALL\r\n",
                "select g.PARCELID, g.AppType, g.PermitStatus, g.AppDate, g.PermitNumber, g.IssueDate, g.PermitYear, g.Designation\r\n",
                "FROM (select b.PARCELID, b.[TYPE] as [AppType], b.STATUS as [PermitStatus], FORMAT(CAST(b.APPDATE as date), 'd', 'en-US') as AppDate, CONCAT(RIGHT(b.AppDate, 4),'-', b.PERMITNUMBER, '-', b.TYPE) as PermitNumber, \r\n",
                "FORMAT(CAST(b.Date as date), 'd', 'en-US') as IssueDate, RIGHT(b.APPDATE, 4) as PermitYear, p.PermitDesc as Designation\r\n",
                "from prod.gisadmin.All_Permits as b\r\n",
                "JOIN prod.gisadmin.All_Permits_Description as p\r\n",
                "ON p.[Type] = b.[TYPE]\r\n",
                "GROUP BY b.[TYPE], b.PARCELID, b.[STATUS], b.[DATE], p.PermitDesc, b.APPDATE, b.PERMITNUMBER\r\n",
                ") as g) as f"
            ],
            "metadata": {
                "azdata_cell_guid": "11199d0c-ed25-443f-b891-f79ba87733b1",
                "tags": [
                    "hide_input"
                ]
            },
            "outputs": [],
            "execution_count": null
        },
        {
            "cell_type": "code",
            "source": [
                "select d.*, p.PermitDesc\r\n",
                "FROM (select a.PARCELID, a.AppType, a.PermitStatus, CAST(LEFT(a.AppDate, 10) as date) as AppDate, a.PermitNumber, a.IssueDate, LEFT(a.PermitNumber, 4) as PermitYear\r\n",
                "from prod.gisadmin.MGOPermits as a\r\n",
                "UNION ALL\r\n",
                "select \r\n",
                "FROM (b.PARCELID, b.[TYPE] as [AppType], b.STATUS as [PermitStatus], b.APPDATE as AppDate, CONCAT(RIGHT(b.AppDate, 4),'-', b.PERMITNUMBER, '-', b.TYPE) as PermitNumber, \r\n",
                "CAST(b.Date as date) as IssueDate, RIGHT(b.APPDATE, 4) as PermitYear\r\n",
                "from prod.gisadmin.All_Permits as f\r\n",
                "\r\n",
                "\r\n",
                ") as d\r\n",
                "JOIN prod.gisadmin.All_Permits_Description as p\r\n",
                "ON p.[Type] = d.AppType\r\n",
                "GROUP BY p.PermitDesc, d.PARCELID, d.AppType, d.AppDate, d.IssueDate, d.PermitStatus, d.PermitNumber, d.PermitYear\r\n",
                "ORDER BY d.PARCELID"
            ],
            "metadata": {
                "azdata_cell_guid": "08efe40f-9cf8-4196-8230-7eb315cb69ab",
                "tags": [
                    "hide_input"
                ]
            },
            "outputs": [],
            "execution_count": null
        },
        {
            "cell_type": "code",
            "source": [
                "select f.*\r\n",
                "FROM (select a.PARCELID, a.AppType, a.PermitStatus, FORMAT(CAST(LEFT(a.AppDate, 10) as date), 'd', 'en-US') as AppDate, a.PermitNumber, a.IssueDate, LEFT(a.PermitNumber, 4) as PermitYear, a.Designation\r\n",
                "from prod.gisadmin.MGOPermits as a\r\n",
                "UNION ALL\r\n",
                "select g.PARCELID, g.AppType, g.PermitStatus, g.AppDate, g.PermitNumber, g.IssueDate, g.PermitYear, g.Designation\r\n",
                "FROM (select b.PARCELID, b.[TYPE] as [AppType], b.STATUS as [PermitStatus], FORMAT(CAST(b.APPDATE as date), 'd', 'en-US') as AppDate, CONCAT(RIGHT(b.AppDate, 4),'-', b.PERMITNUMBER, '-', b.TYPE) as PermitNumber, \r\n",
                "FORMAT(CAST(b.Date as date), 'd', 'en-US') as IssueDate, RIGHT(b.APPDATE, 4) as PermitYear, p.PermitDesc as Designation\r\n",
                "from prod.gisadmin.All_Permits as b\r\n",
                "JOIN prod.gisadmin.All_Permits_Description as p\r\n",
                "ON p.[Type] = b.[TYPE]\r\n",
                "GROUP BY b.[TYPE], b.PARCELID, b.[STATUS], b.[DATE], p.PermitDesc, b.APPDATE, b.PERMITNUMBER\r\n",
                ") as g) as f"
            ],
            "metadata": {
                "azdata_cell_guid": "4fb78cee-cb91-4b49-b61f-74774cbd26b0",
                "tags": [
                    "hide_input"
                ]
            },
            "outputs": [],
            "execution_count": null
        },
        {
            "cell_type": "code",
            "source": [
                "select max(cast(right(a.APPDATE, 4) as int)) as PermitYear, a.PARCELID, a.PERMITNUMBER, a.[TYPE], a.[STATUS]\n",
                "from prod.gisadmin.All_Permits as a\n",
                "where ([TYPE] = 'SFD' or [TYPE] = 'SFA' or [TYPE] = 'SFD' or [TYPE] =  'MANH' or [TYPE]= 'MHRP' or [TYPE]= 'MHPS')\n",
                "group by PARCELID, PERMITNUMBER, [TYPE], [STATUS]\n",
                "order by PARCELID\n",
                "-- format(cast(convert(varchar, max(PermitYear)) as date), 'd', 'en-US') as MaxYear\n",
                "\n",
                "-- select a.[TYPE], a.PARCELID, a.[STATUS], a.[DATE], a.APPDATE, a.PERMITNUMBER, b.PermitDesc\n",
                "-- from prod.gisadmin.All_Permits as a\n",
                "-- full outer join prod.gisadmin.All_Permits_Description as b\n",
                "-- on a.[TYPE] = b.[Type]\n",
                "-- group by a.[TYPE], a.PARCELID, a.[STATUS], a.[DATE], a.APPDATE, a.PERMITNUMBER, b.PermitDesc"
            ],
            "metadata": {
                "azdata_cell_guid": "afeba0cb-bb0f-41eb-8eee-b9636c499035",
                "tags": [
                    "hide_input"
                ]
            },
            "outputs": [],
            "execution_count": null
        },
        {
            "cell_type": "code",
            "source": [
                "select *\n",
                "from prod.gisadmin.SUFFIX_PARCELS\n",
                "where ParcelID like '1-17-01900-01-0102-2%'"
            ],
            "metadata": {
                "azdata_cell_guid": "8763b864-3a5f-4732-abb9-58e22bef29d9",
                "tags": []
            },
            "outputs": [],
            "execution_count": null
        },
        {
            "cell_type": "code",
            "source": [
                "SELECT *\n",
                "from prod.gisadmin.All_Permits_Description\n",
                "\n",
                "select *\n",
                "from prod.gisadmin.PERMIT_Description"
            ],
            "metadata": {
                "azdata_cell_guid": "ea9568f5-5ad6-4d47-be74-f3cebdb3b7ef",
                "tags": []
            },
            "outputs": [],
            "execution_count": null
        },
        {
            "cell_type": "code",
            "source": [
                "select count(*)\r\n",
                "from prod.gisadmin.MGOPermits"
            ],
            "metadata": {
                "azdata_cell_guid": "52a42345-cf3e-4a30-8377-4d339a27c544",
                "tags": []
            },
            "outputs": [
                {
                    "output_type": "display_data",
                    "data": {
                        "text/html": "(1 row affected)"
                    },
                    "metadata": {}
                },
                {
                    "output_type": "display_data",
                    "data": {
                        "text/html": "Total execution time: 00:00:00.005"
                    },
                    "metadata": {}
                },
                {
                    "output_type": "execute_result",
                    "execution_count": 1,
                    "data": {
                        "application/vnd.dataresource+json": {
                            "schema": {
                                "fields": [
                                    {
                                        "name": "(No column name)"
                                    }
                                ]
                            },
                            "data": [
                                {
                                    "0": "722"
                                }
                            ]
                        },
                        "text/html": "<table><tr><th>(No column name)</th></tr><tr><td>722</td></tr></table>"
                    },
                    "metadata": {}
                }
            ],
            "execution_count": 1
        },
        {
            "cell_type": "code",
            "source": [
                "select *\r\n",
                "from [KCLCAS400].[S78114C0].[HTSUSR].[BPK001P3]"
            ],
            "metadata": {
                "azdata_cell_guid": "2b87a02a-75aa-4ae7-b5d3-6cfa63760484"
            },
            "outputs": [],
            "execution_count": null
        },
        {
            "cell_type": "code",
            "source": [
                "select Definition\n",
                "from Engineering.dbo.GDB_ITEMS"
            ],
            "metadata": {
                "azdata_cell_guid": "34f11b5c-0eac-4597-a8b3-7edd7e22c163",
                "tags": [
                    "hide_input"
                ]
            },
            "outputs": [],
            "execution_count": null
        }
    ]
}