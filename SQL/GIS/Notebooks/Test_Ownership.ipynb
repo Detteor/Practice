{
    "metadata": {
        "kernelspec": {
            "name": "SQL",
            "display_name": "SQL",
            "language": "sql"
        },
        "language_info": {
            "name": "sql",
            "version": ""
        }
    },
    "nbformat_minor": 2,
    "nbformat": 4,
    "cells": [
        {
            "cell_type": "code",
            "source": [
                "SELECT p.PropertyID, o.OwnerLastName + ',' + '' + o.OwnerFirstName as OwnerName, o.Owner2FirstName,o.Owner2LastName, p.ParcelID as ParcelID\r\n",
                "from Properties p, owners o, PropertyOwners po\r\n",
                "where p.PropertyID=po.PropertyID AND o.ownerID=po.OwnerID AND (o.Owner2LastName = '' and o.Owner2FirstName <> '')\r\n",
                "group by p.PropertyID, p.ParcelID, o.OwnerFirstName, o.OwnerLastName, o.Owner2FirstName, o.Owner2LastName\r\n",
                "order by p.PropertyID ASC"
            ],
            "metadata": {
                "azdata_cell_guid": "2bc7a03a-2443-4412-ba90-385687ac8982",
                "tags": []
            },
            "outputs": [],
            "execution_count": null
        },
        {
            "cell_type": "code",
            "source": [
                "select OwnerID, Owner2LastName, Owner2FirstName, max(VersionID) as maxversion, OwnerFormatted, StreetAddress1, StreetAddress2, City, \r\n",
                "StateProvince, PostalCode\r\n",
                "from Owners\r\n",
                "-- where OwnerFirstName LIKE 'Bonnie%' and ActiveFlag = '1' and YearID <='2020'\r\n",
                "-- ownerid = '207704'\r\n",
                "-- ownerlastname = 'iplenski' and (Owner2FirstName LIKE '%margaret%' and Owner2LastName = ' ')\r\n",
                "group by OwnerID, OwnerFirstName, OwnerLastName, Owner2LastName, Owner2FirstName, ownerformatted, StreetAddress1, StreetAddress2, city, StateProvince, PostalCode\r\n",
                "-- order by ownerid ASC\r\n",
                "-- OwnerLastName = 'Crouch' "
            ],
            "metadata": {
                "azdata_cell_guid": "24ce7b1e-746e-4e25-bfbd-e1c72a9ded10",
                "tags": []
            },
            "outputs": [],
            "execution_count": null
        },
        {
            "cell_type": "code",
            "source": [
                "-- select *\r\n",
                "-- from dbo.GetOwnersTableByOwnerID('67254', '2020', '1')\r\n",
                "-- where OwnerID = '67254'\r\n",
                "select p.ParcelID, p.PropertyID\r\n",
                "from Properties p\r\n",
                "    inner JOIN (Select po.PropertyID, po.OwnerID\r\n",
                "    from PropertyOwners po Join (select o.OwnerID\r\n",
                "        from Owners o\r\n",
                "        where o.Owner2FirstName <> '' AND o.Owner2LastName = ''\r\n",
                "        group BY o.OwnerID) a on po.OwnerID=a.OwnerID\r\n",
                "    group by po.PropertyID, po.OwnerID) m on p.PropertyID=m.PropertyID\r\n",
                "GROUP BY p.ParcelID, p.PropertyID\r\n",
                "ORDER BY p.ParcelID\r\n",
                "-- select o.OwnerID\r\n",
                "-- from Owners o\r\n",
                "-- where owner2firstname <> '' and Owner2LastName = ''\r\n",
                ""
            ],
            "metadata": {
                "azdata_cell_guid": "6123ea45-fec6-4e82-b50b-1f3e4d76acfd",
                "tags": []
            },
            "outputs": [],
            "execution_count": null
        },
        {
            "cell_type": "code",
            "source": [
                "select po.PropertyID, o.OwnerLastName + ',' + ' ' + o.OwnerFirstName as OwnerName, o.Owner2FirstName, o.Owner2LastName\r\n",
                "from PropertyOwners po\r\n",
                "join Owners o on o.OwnerID=po.OwnerID\r\n",
                "where o.Owner2LastName = ' ' and o.owner2firstname <> ''\r\n",
                "GROUP BY po.PropertyID, po.OwnerID, o.Owner2FirstName, o.OwnerFirstName, o.OwnerLastName, o.Owner2LastName\r\n",
                "order by po.PropertyID ASC"
            ],
            "metadata": {
                "azdata_cell_guid": "88a6815c-4d98-4760-9960-6af386c08eb6",
                "tags": []
            },
            "outputs": [],
            "execution_count": null
        },
        {
            "cell_type": "markdown",
            "source": [
                "Create table with owner lastname, propertyID, ownerID"
            ],
            "metadata": {
                "azdata_cell_guid": "306c3d2a-366b-4fe7-b2e6-9755a7c5014c"
            }
        },
        {
            "cell_type": "code",
            "source": [
                "-- select ParcelID, VersionID\r\n",
                "-- from Properties\r\n",
                "-- where PropertyID = '20260'\r\n",
                "-- group by ParcelID, VersionID\r\n",
                "\r\n",
                "-- select po.PropertyID, o.OwnerID, max(po.VersionID) as maxVersion\r\n",
                "-- from PropertyOwners po\r\n",
                "-- inner join owners o on o.OwnerID=po.OwnerID\r\n",
                "-- where o.YearID <= '2020'\r\n",
                "-- group by o.OwnerID, po.PropertyID, po.VersionID\r\n",
                "-- order by po.PropertyID asc \r\n",
                "\r\n",
                "select po.PropertyID, po.OwnerID, prop.OwnerFormatted as OWNERNAME, prop.StreetAddress1 as MAILINGADDRESS, prop.StreetAddress2 as MAILINGADDRESS2, prop.City as OWNERCITY, \r\n",
                "prop.StateProvince as OWNERSTATE, prop.PostalCode as OWNERZIP\r\n",
                "from PropertyOwners po\r\n",
                "inner join (select max(VersionID) as MaxVersion, maxVersion.PropertyID, maxVersion.PropertyOwnerID, maxVersion.OwnerID\r\n",
                "from PropertyOwners maxVersion\r\n",
                "join (Select max(YearID) as MaxYear, PropertyID, PropertyOwnerID, OwnerID\r\n",
                "from PropertyOwners\r\n",
                "where YearID <= '2020'\r\n",
                "group by PropertyID, PropertyOwnerID, OwnerID) maxYear\r\n",
                "ON maxVersion.PropertyID=maxYear.PropertyID and maxVersion.PropertyOwnerID=maxYear.PropertyOwnerID and maxVersion.YearID=maxYear.MaxYear\r\n",
                "AND maxVersion.OwnerID=maxYear.OwnerID\r\n",
                "GROUP BY maxVersion.PropertyID, maxVersion.PropertyOwnerID, maxVersion.OwnerID) m ON po.VersionID=m.MaxVersion\r\n",
                "\r\n",
                "inner join (select max(o.VersionID) as MaxVersion, o.OwnerID, o.OwnerFormatted, o.StreetAddress1, o.StreetAddress2, o.City, o.StateProvince, o.PostalCode\r\n",
                "from Owners o\r\n",
                "inner join(select max(VersionID) as MaxVersion, maxVersion.OwnerID, maxVersion.OwnerFormatted, maxVersion.StreetAddress1, maxVersion.StreetAddress2, maxVersion.City, \r\n",
                "maxVersion.StateProvince, maxVersion.PostalCode\r\n",
                "from Owners maxVersion\r\n",
                "join(select max(YearID) as MaxYear, OwnerID, OwnerFormatted, StreetAddress1, StreetAddress2, City, StateProvince, PostalCode\r\n",
                "from Owners\r\n",
                "where YearID <= '2020'\r\n",
                "group by OwnerID, OwnerFormatted, StreetAddress1, StreetAddress2, City, StateProvince, PostalCode) maxYear\r\n",
                "ON maxVersion.OwnerID=maxYear.OwnerID AND maxVersion.OwnerFormatted=maxYear.OwnerFormatted AND maxVersion.YearID = maxYear.MaxYear\r\n",
                "AND maxVersion.OwnerID=maxYear.OwnerID AND maxVersion.StreetAddress1=maxYear.StreetAddress1 AND maxVersion.StreetAddress2=maxYear.StreetAddress2 AND maxVersion.City=maxYear.City AND\r\n",
                "maxVersion.StateProvince=maxYear.StateProvince AND maxVersion.PostalCode=maxYear.PostalCode\r\n",
                "GROUP BY maxVersion.OwnerID, maxVersion.OwnerFormatted, maxVersion.OwnerID, maxVersion.StreetAddress1, maxVersion.StreetAddress2, maxVersion.City, maxVersion.StateProvince,\r\n",
                "maxVersion.PostalCode) m \r\n",
                "ON o.VersionID=m.MaxVersion\r\n",
                "group by o.OwnerID, o.OwnerFormatted, o.StreetAddress1, o.StreetAddress2, o.City, o.StateProvince, o.PostalCode)\r\n",
                "prop on prop.OwnerID=po.OwnerID\r\n",
                "order by po.PropertyID\r\n",
                "\r\n",
                "\r\n",
                "-- select OwnerLastName, OwnerFirstName, OwnerID, VersionID\r\n",
                "-- from Owners\r\n",
                "-- where OwnerLastName = 'iplenski'"
            ],
            "metadata": {
                "azdata_cell_guid": "a19dfdc2-dd7e-4d10-a186-ecdc659229c3",
                "tags": []
            },
            "outputs": [],
            "execution_count": null
        },
        {
            "cell_type": "code",
            "source": [
                "select p.parcelID, p.PropertyID, max(YearID) as MaxYear\r\n",
                "from properties p\r\n",
                "inner join (select po.PropertyID from PropertyOwners po\r\n",
                "-- join PropertyOwners(select o.OwnerID from Owners o ) po on \r\n",
                "group by po.PropertyID) m on m.PropertyID = p.PropertyID\r\n",
                "group by p.ParcelID, p.PropertyID"
            ],
            "metadata": {
                "azdata_cell_guid": "c7712ad1-87ae-4fdc-a019-1723ac4ee1a1",
                "tags": []
            },
            "outputs": [],
            "execution_count": null
        },
        {
            "cell_type": "code",
            "source": [
                "select OwnerID, max(VersionID) as MaxVersion, max(YearID) as MaxYear\r\n",
                "from PropertyOwners\r\n",
                "where PropertyID = '20260' and YearID <= '2020'\r\n",
                "group by OwnerID, VersionID, YearID\r\n",
                "order by MaxVersion"
            ],
            "metadata": {
                "azdata_cell_guid": "b9aef41a-76d6-4281-bf55-b5df244d7df0",
                "tags": []
            },
            "outputs": [],
            "execution_count": null
        },
        {
            "cell_type": "code",
            "source": [
                "SELECT *\r\n",
                "FROM Owners\r\n",
                "where YearID = '2020'"
            ],
            "metadata": {
                "azdata_cell_guid": "29ad3c2e-8e59-4850-a5e6-a1f4bbb6d01b",
                "tags": []
            },
            "outputs": [],
            "execution_count": null
        }
    ]
}