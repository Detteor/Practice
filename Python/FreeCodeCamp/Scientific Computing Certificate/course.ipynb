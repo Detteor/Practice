{
 "metadata": {
  "language_info": {
   "codemirror_mode": {
    "name": "ipython",
    "version": 3
   },
   "file_extension": ".py",
   "mimetype": "text/x-python",
   "name": "python",
   "nbconvert_exporter": "python",
   "pygments_lexer": "ipython3",
   "version": "3.9.6"
  },
  "orig_nbformat": 4,
  "kernelspec": {
   "name": "python3",
   "display_name": "Python 3.9.6 64-bit ('ML': conda)"
  },
  "interpreter": {
   "hash": "590988397d84a9af2928303bf5ac9c667edcb391791bf00c7d9008a83c1af0d6"
  }
 },
 "nbformat": 4,
 "nbformat_minor": 2,
 "cells": [
  {
   "cell_type": "markdown",
   "source": [
    "# Scientific Computing Course on FreeCodeCamp"
   ],
   "metadata": {}
  },
  {
   "cell_type": "markdown",
   "source": [
    "## Chapter 2: Functions"
   ],
   "metadata": {}
  },
  {
   "cell_type": "code",
   "execution_count": null,
   "source": [
    "def greet():\n",
    "    return \"Hello\"\n",
    "greet()"
   ],
   "outputs": [],
   "metadata": {}
  },
  {
   "cell_type": "markdown",
   "source": [
    "## Chapter 5: Loops"
   ],
   "metadata": {}
  },
  {
   "cell_type": "code",
   "execution_count": null,
   "source": [
    "# zork = 0\n",
    "# print ('Before', zork)\n",
    "# for thing in [9, 41, 12, 3, 74, 15]:\n",
    "#     zork = zork + thing\n",
    "#     print (zork, thing)\n",
    "# print ('After', zork)\n",
    "\n",
    "# count = 0 \n",
    "# sum = 0\n",
    "# print ('Before', count, sum)\n",
    "# for value in [9, 41, 12, 3, 74, 15]:\n",
    "#     count = count +1\n",
    "#     sum = sum + value\n",
    "#     print (count, sum, value)\n",
    "# print ('After', count, sum, sum / count)\n",
    "\n",
    "# print ('Before')\n",
    "# for value in [9,41,12,3,74,15]:\n",
    "#     if value > 20:\n",
    "#         print ('Large Number', value)\n",
    "# print ('After')\n",
    "\n",
    "# found = False\n",
    "# print ('Before', found)\n",
    "# for value in [9,41,12,3,74,15]:\n",
    "#     if value == 3:\n",
    "#         found = True\n",
    "#         break\n",
    "#     print (found, value)\n",
    "# print ('After', found)\n",
    "\n",
    "# largest_so_far = -1 \n",
    "# print ('Before', largest_so_far)\n",
    "# for the_num in [9,41,12,3,74,15]:\n",
    "#     if the_num > largest_so_far:\n",
    "#         largest_so_far = the_num\n",
    "#     print (largest_so_far, the_num)\n",
    "# print ('After', largest_so_far)\n",
    "\n",
    "smallest = None\n",
    "print ('Before')\n",
    "for value in [9,41,12,3,74,15]:\n",
    "    if smallest is None:\n",
    "        smallest = value\n",
    "    elif value < smallest:\n",
    "        smallest = value\n",
    "    print (smallest, value)\n",
    "print ('After', smallest)\n",
    "\n",
    "# fruit = \"banana\"\n",
    "# print (fruit[1])\n",
    "\n",
    "fruit = \"banana\"\n",
    "index = 0\n",
    "while index < len(fruit):\n",
    "    letter = fruit[index]\n",
    "    print (index,letter)\n",
    "    index = index +1"
   ],
   "outputs": [],
   "metadata": {}
  },
  {
   "cell_type": "markdown",
   "source": [
    "## Chapter 7: Open Files"
   ],
   "metadata": {}
  },
  {
   "cell_type": "code",
   "execution_count": null,
   "source": [
    "fhand = open('mbox.txt')\n",
    "print(fhand)"
   ],
   "outputs": [],
   "metadata": {}
  },
  {
   "cell_type": "code",
   "execution_count": null,
   "source": [
    "fhand = open('mbox-short.txt')\n",
    "count = 0 \n",
    "for line in fhand:\n",
    "    count = count + 1\n",
    "print('Line Count: ', count)"
   ],
   "outputs": [],
   "metadata": {}
  },
  {
   "cell_type": "code",
   "execution_count": null,
   "source": [
    "fhand = open('mbox-short.txt')\n",
    "inp = fhand.read()\n",
    "print(len(inp))\n",
    "print(inp[:20])"
   ],
   "outputs": [],
   "metadata": {}
  },
  {
   "cell_type": "code",
   "execution_count": null,
   "source": [
    "fhand = open('mbox-short.txt')\n",
    "count = 0\n",
    "for line in fhand:\n",
    "    line = line.rstrip()\n",
    "    if line.startswith('From:'):\n",
    "        print(line)\n",
    "fhand.close()\n",
    "\n",
    "fhand = open('mbox-short.txt')\n",
    "for line in fhand:\n",
    "    line = line.rstrip()\n",
    "    if not line.startswith('From:'):\n",
    "        continue\n",
    "    print(line)"
   ],
   "outputs": [],
   "metadata": {}
  },
  {
   "cell_type": "markdown",
   "source": [
    "## Chapter 9: Dictionaries"
   ],
   "metadata": {}
  },
  {
   "cell_type": "code",
   "execution_count": null,
   "source": [
    "counts = {}\n",
    "\n",
    "line = input(\"Enter a line of text: \")\n",
    "\n",
    "words = line.split()\n",
    "\n",
    "for word in words:\n",
    "    counts[word] = counts.get(word, 0) + 1\n",
    "print('Counts: ', counts)\n",
    "\n",
    "counts = { 'chuck' : 1 , 'annie' : 42, 'jan': 100}\n",
    "for key in counts:\n",
    "    if counts[key] > 10:\n",
    "        print(key, counts[key])"
   ],
   "outputs": [],
   "metadata": {}
  }
 ]
}