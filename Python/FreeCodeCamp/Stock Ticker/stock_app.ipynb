{
 "metadata": {
  "language_info": {
   "codemirror_mode": {
    "name": "ipython",
    "version": 3
   },
   "file_extension": ".py",
   "mimetype": "text/x-python",
   "name": "python",
   "nbconvert_exporter": "python",
   "pygments_lexer": "ipython3",
   "version": "3.7.10"
  },
  "orig_nbformat": 2,
  "kernelspec": {
   "name": "python3",
   "display_name": "Python 3.7.10 64-bit ('OSGIS': conda)"
  },
  "interpreter": {
   "hash": "a57cb7bca1abc867eae947b70fa3fa69ed703cffae8160be3ea1cc3a1cfe3e7e"
  }
 },
 "nbformat": 4,
 "nbformat_minor": 2,
 "cells": [
  {
   "cell_type": "code",
   "execution_count": null,
   "source": [
    "x = 5465 \n",
    "start = 0 \n",
    "end = 500\n",
    "while end < x:\n",
    "    print(start,end)\n",
    "    start = end\n",
    "    end += 500\n",
    "start = end - 500\n",
    "end = x\n",
    "print(start,end)"
   ],
   "outputs": [],
   "metadata": {
    "tags": []
   }
  },
  {
   "cell_type": "code",
   "execution_count": null,
   "source": [
    "import pandas as pd\n",
    "\n",
    "xlsFile = '/media/WDB/Backup/Projects/data/Complete_List.xlsx'\n",
    "\n",
    "df = pd.read_excel(xlsFile)"
   ],
   "outputs": [],
   "metadata": {}
  },
  {
   "cell_type": "code",
   "execution_count": null,
   "source": [
    "symbols = df['Symbol'].values.tolist()\n",
    "symbols"
   ],
   "outputs": [],
   "metadata": {}
  },
  {
   "cell_type": "code",
   "execution_count": null,
   "source": [
    "import requests\n",
    "import json\n",
    "from datetime import datetime as dt\n",
    "from dotenv import find_dotenv, load_dotenv\n",
    "from pathlib import Path\n",
    "from os import getenv\n",
    "\n",
    "env_folder = '/media/WDB/Backup/Projects/Practice'\n",
    "load_dotenv(find_dotenv(env_folder))\n",
    "now = dt.now()\n",
    "api_key = getenv('AMER_API_KEY')\n",
    "param = {'apikey': api_key,\n",
    "        'symbol': 'GOOG',\n",
    "        'projection': 'fundamental'\n",
    "        }\n",
    "url = 'https://api.tdameritrade.com/v1/instruments'\n",
    "\n",
    "data = requests.get(url, params= param).json()\n",
    "print(data)\n",
    "\n",
    "f_name = '{}/{}{}'.format('/media/WDB/Backup/Projects/Practice/Python/FreeCodeCamp/Stock Ticker', now.strftime('%I-%M-%S-%f'), '.json')\n",
    "\n",
    "with open(f_name, 'w') as file:\n",
    "    json.dump(data, file)\n"
   ],
   "outputs": [],
   "metadata": {}
  }
 ]
}