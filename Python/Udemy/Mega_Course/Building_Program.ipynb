{
 "metadata": {
  "language_info": {
   "codemirror_mode": {
    "name": "ipython",
    "version": 3
   },
   "file_extension": ".py",
   "mimetype": "text/x-python",
   "name": "python",
   "nbconvert_exporter": "python",
   "pygments_lexer": "ipython3",
   "version": "3.7.10"
  },
  "orig_nbformat": 4,
  "kernelspec": {
   "name": "python3",
   "display_name": "Python 3.7.10 64-bit ('OSGIS': conda)"
  },
  "interpreter": {
   "hash": "a57cb7bca1abc867eae947b70fa3fa69ed703cffae8160be3ea1cc3a1cfe3e7e"
  }
 },
 "nbformat": 4,
 "nbformat_minor": 2,
 "cells": [
  {
   "cell_type": "markdown",
   "source": [
    "<h1> Create a Program</h1>\n"
   ],
   "metadata": {}
  },
  {
   "cell_type": "code",
   "execution_count": 1,
   "source": [
    "def sentence_maker(phrase=None):\n",
    "    cap = phrase.capitalize()\n",
    "    inter = ['how', 'what', 'where', 'why']\n",
    "    intertup = tuple(inter)\n",
    "    if phrase.startswith(intertup):\n",
    "        return f\"{cap}?\"\n",
    "    else:\n",
    "        return f\"{cap}.\"\n",
    "\n",
    "results = []\n",
    "while True:\n",
    "    user_input = input(\"Say something: \")\n",
    "    if user_input.lower() == 'quit':\n",
    "        break\n",
    "    else:\n",
    "        results.append(sentence_maker(user_input))\n",
    "print(\" \".join(results))\n"
   ],
   "outputs": [
    {
     "output_type": "stream",
     "name": "stdout",
     "text": [
      "Lol. Lklk'. Kjjj.\n"
     ]
    }
   ],
   "metadata": {}
  },
  {
   "cell_type": "code",
   "execution_count": null,
   "source": [],
   "outputs": [],
   "metadata": {}
  }
 ]
}