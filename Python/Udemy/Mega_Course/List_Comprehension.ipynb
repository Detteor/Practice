{
 "cells": [
  {
   "cell_type": "code",
   "execution_count": 2,
   "source": [
    "# Data is saved in a list and to save bytes the temps are saved as an int instead of a float\n",
    "temps = [221,234,340,230]\n",
    "\n",
    "#The long way to do \n",
    "new_temps = []\n",
    "for temp in temps:\n",
    "    new_temps.append(temp/10)\n",
    "print(new_temps)\n",
    "\n",
    "#List Comprehension\n",
    "new_temps= [temp / 10 for temp in temps]\n",
    "print(new_temps)"
   ],
   "outputs": [
    {
     "output_type": "stream",
     "name": "stdout",
     "text": [
      "[22.1, 23.4, 34.0, 23.0]\n",
      "[22.1, 23.4, 34.0, 23.0]\n"
     ]
    }
   ],
   "metadata": {}
  },
  {
   "cell_type": "code",
   "execution_count": 3,
   "source": [
    "# list comprehension with if conditional\n",
    "temps = [221, 234, 340, -9999, 230]\n",
    "\n",
    "new_temps = [temp / 10 for temp in temps if temp != -9999]\n",
    "print(new_temps)"
   ],
   "outputs": [
    {
     "output_type": "stream",
     "name": "stdout",
     "text": [
      "[22.1, 23.4, 34.0, 23.0]\n"
     ]
    }
   ],
   "metadata": {}
  },
  {
   "cell_type": "code",
   "execution_count": 4,
   "source": [
    "# list comprehension with if/else conditional\n",
    "temps = [221, 234, 340, -9999, 230]\n",
    "\n",
    "new_temps = [temp / 10 if temp != -9999 else 0 for temp in temps]\n",
    "print(new_temps)"
   ],
   "outputs": [
    {
     "output_type": "stream",
     "name": "stdout",
     "text": [
      "[22.1, 23.4, 34.0, 0, 23.0]\n"
     ]
    }
   ],
   "metadata": {}
  },
  {
   "cell_type": "code",
   "execution_count": 7,
   "source": [
    "#Exercise Only Numbers\n",
    "ls = [99, 'no data', 95, 94, 'no data']\n",
    "def foo(lst):\n",
    "    return [i for i in lst if isinstance(i, int)]\n",
    "foo(ls)"
   ],
   "outputs": [
    {
     "output_type": "execute_result",
     "data": {
      "text/plain": [
       "[99, 95, 94]"
      ]
     },
     "metadata": {},
     "execution_count": 7
    }
   ],
   "metadata": {}
  },
  {
   "cell_type": "code",
   "execution_count": 8,
   "source": [
    "#Exercise Positive Numbers\n",
    "ls = [-5, 3, -1, 101]\n",
    "def pos(lst):\n",
    "    return [i for i in lst if i > 0]\n",
    "pos(ls)"
   ],
   "outputs": [
    {
     "output_type": "execute_result",
     "data": {
      "text/plain": [
       "[3, 101]"
      ]
     },
     "metadata": {},
     "execution_count": 8
    }
   ],
   "metadata": {}
  },
  {
   "cell_type": "code",
   "execution_count": 9,
   "source": [
    "#Exercise Convert and sum\n",
    "ls = ['1.2', '2.6', '3.3']\n",
    "def sm(lst):\n",
    "    return sum([float(i) for i in lst])\n",
    "sm(ls)"
   ],
   "outputs": [
    {
     "output_type": "execute_result",
     "data": {
      "text/plain": [
       "7.1"
      ]
     },
     "metadata": {},
     "execution_count": 9
    }
   ],
   "metadata": {}
  },
  {
   "cell_type": "code",
   "execution_count": 10,
   "source": [
    "#Zeros Instead\n",
    "ls = [99, 'no data', 95, 94, 'no data']\n",
    "def foo(lst):\n",
    "    return [i if not isinstance(i, str) else 0 for i in lst ]\n",
    "foo(ls)"
   ],
   "outputs": [
    {
     "output_type": "execute_result",
     "data": {
      "text/plain": [
       "[99, 0, 95, 94, 0]"
      ]
     },
     "metadata": {},
     "execution_count": 10
    }
   ],
   "metadata": {}
  }
 ],
 "metadata": {
  "orig_nbformat": 4,
  "language_info": {
   "name": "python"
  }
 },
 "nbformat": 4,
 "nbformat_minor": 2
}