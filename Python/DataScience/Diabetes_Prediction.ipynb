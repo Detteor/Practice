{
  "nbformat": 4,
  "nbformat_minor": 2,
  "metadata": {
    "accelerator": "GPU",
    "colab": {
      "name": "Diabetes Prediction.ipynb",
      "provenance": [],
      "collapsed_sections": []
    },
    "kernelspec": {
      "name": "python3",
      "display_name": "Python 3.9.6 64-bit ('ML': conda)"
    },
    "language_info": {
      "name": "python",
      "version": "3.9.6",
      "mimetype": "text/x-python",
      "codemirror_mode": {
        "name": "ipython",
        "version": 3
      },
      "pygments_lexer": "ipython3",
      "nbconvert_exporter": "python",
      "file_extension": ".py"
    },
    "interpreter": {
      "hash": "590988397d84a9af2928303bf5ac9c667edcb391791bf00c7d9008a83c1af0d6"
    }
  },
  "cells": [
    {
      "cell_type": "markdown",
      "source": [
        "#Using Machine Learning to Predict Diabetes"
      ],
      "metadata": {
        "id": "lL7e625YFesw"
      }
    },
    {
      "cell_type": "markdown",
      "source": [
        "Every dataset has a story. In this dataset, I want to figure out whats is the effect of the columns: Pregnancies,\tGlucose,\tBloodPressure,\tSkinThickness,\tInsulin,\tBMI,\tDiabetesPedigreeFunction, and Age on the column Outcome. Feature Importance will be used to see which columns have a bigger weight on the Outcome column. This project will use machine learning to predict whether one has diabetes or not.\n",
        "\n",
        "There are six parts to the dataset shown in the Dataset Key. Each part shows the different steps taken to finish this project.\n",
        "\n",
        "The higher the score, the better the model. The data was brought from Kaggle, a well known machine learning website and a repository for data. For more information on the dataset, click the link below.\n"
      ],
      "metadata": {
        "id": "cjmP4joKDBny"
      }
    },
    {
      "cell_type": "markdown",
      "source": [
        "## [Diabetes Dataset](https://www.kaggle.com/uciml/pima-indians-diabetes-database)"
      ],
      "metadata": {
        "id": "UXf12IK9AyFp"
      }
    },
    {
      "cell_type": "markdown",
      "source": [
        "# Project Key\n",
        "\n",
        "1. Preparing the Dataset\n",
        "2. Running Models WITHOUT Neural Networks*\n",
        "3. Running Models WITH Neural Networks*\n",
        "4. Predicting\n",
        "5. Graphs  \n",
        "6. Conclusion\n",
        "*Running Models With Neural Networks is separated from Running Models Without   \n",
        " Neural Networks because Neural Networks are more complicated."
      ],
      "metadata": {
        "id": "i2A3KqR9AF-o"
      }
    },
    {
      "cell_type": "markdown",
      "source": [
        "# 1. Preparing Dataset"
      ],
      "metadata": {
        "id": "Jqrxl1_6BFon"
      }
    },
    {
      "cell_type": "code",
      "execution_count": null,
      "source": [
        "#Load the dataset\n",
        "import pandas as pd\n",
        "diabetes_data = 'https://raw.githubusercontent.com/Crazy-Coding-Physicist/Reviews/main/diabetes%5B1%5D.csv'\n",
        "df = pd.read_csv(diabetes_data)\n",
        "df.head()"
      ],
      "outputs": [],
      "metadata": {
        "colab": {
          "base_uri": "https://localhost:8080/",
          "height": 204
        },
        "id": "Apndnx8Prvjk",
        "outputId": "545ae6d1-17d7-4056-957c-b3c91f2035f4"
      }
    },
    {
      "cell_type": "markdown",
      "source": [
        "To clear things up, the 'DiabetesPedigreeFunction' column shows if ancestors have had diabetes. The 'BMI' column stands for body mass index. The 'outcome' column has only two values, 0 or 1. This is the column that describes whether one has diabetes or not. Both accuracy and precision will be used to get a score. "
      ],
      "metadata": {
        "id": "3cu38RgcHLF-"
      }
    },
    {
      "cell_type": "code",
      "execution_count": null,
      "source": [
        "#Size of dataset\n",
        "df.shape"
      ],
      "outputs": [],
      "metadata": {
        "colab": {
          "base_uri": "https://localhost:8080/"
        },
        "id": "KxrfdUBVsAUW",
        "outputId": "7eedf1bb-a15c-49a2-a662-697d845e89cd"
      }
    },
    {
      "cell_type": "code",
      "execution_count": null,
      "source": [
        "#Checking for null values\n",
        "df.isna().sum()"
      ],
      "outputs": [],
      "metadata": {
        "colab": {
          "base_uri": "https://localhost:8080/",
          "height": 402
        },
        "id": "FsPtTeW889F2",
        "outputId": "58cfa060-0572-4afb-aaba-e461459ccbcd"
      }
    },
    {
      "cell_type": "code",
      "execution_count": null,
      "source": [
        "#Checking for type of dataset\n",
        "df.info()"
      ],
      "outputs": [],
      "metadata": {
        "colab": {
          "base_uri": "https://localhost:8080/"
        },
        "id": "BEUZmJUP-zqm",
        "outputId": "615d62d6-3d71-4366-fb1e-5c4eab8bc186"
      }
    },
    {
      "cell_type": "code",
      "execution_count": null,
      "source": [
        "#@title Feature Importance\n",
        "#figuring out feature importance\n",
        "# random forest for feature importance on a classification problem\n",
        "from sklearn.datasets import make_classification\n",
        "from sklearn.ensemble import RandomForestClassifier\n",
        "from matplotlib import pyplot\n",
        "# define dataset\n",
        "X, y = make_classification(n_samples=1000, n_features=10, n_informative=5, n_redundant=5, random_state=1)\n",
        "# define the model\n",
        "model = RandomForestClassifier()\n",
        "# fit the model\n",
        "model.fit(X, y)\n",
        "# get importance\n",
        "importance = model.feature_importances_\n",
        "# summarize feature importance\n",
        "for i,v in enumerate(importance):\n",
        "\tprint('Feature: %0d, Score: %.5f' % (i,v))\n",
        "# plot feature importance\n",
        "pyplot.bar([x for x in range(len(importance))], importance)\n",
        "pyplot.show()\n",
        "1\n",
        "2\n",
        "3\n",
        "4\n",
        "5\n",
        "6\n",
        "7\n",
        "8\n",
        "9\n",
        "10\n",
        "11\n",
        "12\n",
        "13\n",
        "14\n",
        "15\n",
        "16\n",
        "17\n",
        "18\n",
        "# random forest for feature importance on a classification problem\n",
        "from sklearn.datasets import make_classification\n",
        "from sklearn.ensemble import RandomForestClassifier\n",
        "from matplotlib import pyplot\n",
        "# define dataset\n",
        "X, y = make_classification(n_samples=1000, n_features=10, n_informative=5, n_redundant=5, random_state=1)\n",
        "# define the model\n",
        "model = RandomForestClassifier()\n",
        "# fit the model\n",
        "model.fit(X, y)\n",
        "# get importance\n",
        "importance = model.feature_importances_\n",
        "# summarize feature importance\n",
        "for i,v in enumerate(importance):\n",
        "\tprint('Feature: %0d, Score: %.5f' % (i,v))\n",
        "# plot feature importance\n",
        "pyplot.bar([x for x in range(len(importance))], importance)\n",
        "pyplot.show()"
      ],
      "outputs": [],
      "metadata": {
        "cellView": "form",
        "colab": {
          "base_uri": "https://localhost:8080/",
          "height": 849
        },
        "id": "4vLwNIM5w7pI",
        "outputId": "83e40d8c-4323-46bc-d99c-8969d41b33ae"
      }
    },
    {
      "cell_type": "markdown",
      "source": [
        "Feature importance sees which columns have more weight in the dataset"
      ],
      "metadata": {
        "id": "ibZlUxvNJ9sP"
      }
    },
    {
      "cell_type": "code",
      "execution_count": null,
      "source": [
        "#Selecting columns\n",
        "y = df.iloc[:, -1]\n",
        "X = df.iloc[:, :-1]\n",
        "X.head()"
      ],
      "outputs": [],
      "metadata": {
        "colab": {
          "base_uri": "https://localhost:8080/",
          "height": 195
        },
        "id": "GKpm2mB0-0hw",
        "outputId": "9369047a-2794-4bb8-c48f-03587286661b"
      }
    },
    {
      "cell_type": "code",
      "execution_count": null,
      "source": [
        "#Checking to see if 'y' was selected\n",
        "y.head()"
      ],
      "outputs": [],
      "metadata": {
        "colab": {
          "base_uri": "https://localhost:8080/"
        },
        "id": "E53xiA8h-6g_",
        "outputId": "2e5793fe-c28a-4507-b736-0dd3f3a69f31"
      }
    },
    {
      "cell_type": "code",
      "execution_count": null,
      "source": [
        "#Checking the different values in the Outcome column\n",
        "df['Outcome'].value_counts()"
      ],
      "outputs": [],
      "metadata": {
        "colab": {
          "base_uri": "https://localhost:8080/"
        },
        "id": "t3Uf6D_ltAGn",
        "outputId": "6cdb1d83-db97-486b-cdcc-90e48a489a50"
      }
    },
    {
      "cell_type": "code",
      "execution_count": null,
      "source": [
        "y.describe()"
      ],
      "outputs": [],
      "metadata": {
        "colab": {
          "base_uri": "https://localhost:8080/"
        },
        "id": "JfvpbYx8M571",
        "outputId": "c4831abd-471a-4048-805d-4986ecf798a6"
      }
    },
    {
      "cell_type": "code",
      "execution_count": null,
      "source": [
        "#Selecting Model\n",
        "from sklearn.model_selection import cross_val_score as CVS\n",
        "from sklearn.linear_model import LogisticRegression as LoRe\n",
        "from xgboost import XGBClassifier as XGBC\n",
        "from sklearn.tree import DecisionTreeClassifier as DTC\n",
        "from sklearn.ensemble import RandomForestClassifier as RFC\n",
        "from sklearn.neighbors import KNeighborsClassifier as KNC \n",
        "from sklearn.model_selection import GridSearchCV\n",
        "from sklearn.neural_network import MLPClassifier as MLPC\n",
        "from sklearn.model_selection import KFold as KF\n",
        "from keras.models import Sequential\n",
        "from keras.layers import Dense, Dropout\n",
        "import tensorflow as tf"
      ],
      "outputs": [],
      "metadata": {
        "id": "wErpY_TN_-Lc"
      }
    },
    {
      "cell_type": "code",
      "execution_count": null,
      "source": [
        "#Using train_test_split for Prediction(5) https://colab.research.google.com/drive/13JgTPzQ7kWb8vCsJ2pOmDGJGpYHBWccS#scrollTo=1K1KHAUMM2ud\n",
        "from sklearn.model_selection import train_test_split as TTS\n",
        "X_test, X_train, y_test, y_train = TTS(X,y)\n",
        "model = RFC()\n",
        "model.fit(X_train, y_train)\n",
        "#For classification, import accuracy_score\n",
        "from sklearn.metrics import accuracy_score"
      ],
      "outputs": [],
      "metadata": {
        "id": "_BBWQ8plO6wE"
      }
    },
    {
      "cell_type": "code",
      "execution_count": null,
      "source": [
        "#Creating function for classifying using precision\n",
        "def classifier(model):\n",
        "  scores = CVS(model, X, y)\n",
        "  print(f'Scores: {scores}')\n",
        "  print(f'Mean score: {scores.mean()}')"
      ],
      "outputs": [],
      "metadata": {
        "id": "ltg_gQ4PKqdb"
      }
    },
    {
      "cell_type": "code",
      "execution_count": null,
      "source": [
        "#Creating function for classifying using precision\n",
        "def classifier_precision(model):\n",
        "  scores = CVS(model, X, y, scoring='precision')\n",
        "  print(f'Scores: {scores}')\n",
        "  print(f'Mean score: {scores.mean()}')"
      ],
      "outputs": [],
      "metadata": {
        "id": "S-pGLsVCsx_7"
      }
    },
    {
      "cell_type": "code",
      "execution_count": null,
      "source": [
        "kf = KF(shuffle=True)\n",
        "y_pred = model.predict(X_test)"
      ],
      "outputs": [],
      "metadata": {
        "id": "boWVg36aJI-A"
      }
    },
    {
      "cell_type": "markdown",
      "source": [
        "# 2. Running Models WITHOUT Neural Networks"
      ],
      "metadata": {
        "id": "HzfEhIU6IpPG"
      }
    },
    {
      "cell_type": "code",
      "execution_count": null,
      "source": [
        "#Creating a Classification Report\n",
        "from sklearn.metrics import classification_report, confusion_matrix\n",
        "print(classification_report(y_test, y_pred))"
      ],
      "outputs": [],
      "metadata": {
        "colab": {
          "base_uri": "https://localhost:8080/"
        },
        "id": "jFBohGrQAIWG",
        "outputId": "95f8ffbf-1abb-463c-a847-afe7d271f5dc"
      }
    },
    {
      "cell_type": "markdown",
      "source": [
        "###Highest Score Without Finetuning : LoRe 0.77"
      ],
      "metadata": {
        "id": "FVvkxf4pMB2G"
      }
    },
    {
      "cell_type": "code",
      "execution_count": null,
      "source": [
        "#Getting a simple accuracy score\n",
        "accuracy_score(y_pred, y_test)"
      ],
      "outputs": [],
      "metadata": {
        "colab": {
          "base_uri": "https://localhost:8080/"
        },
        "id": "3rvbS0ITQMl3",
        "outputId": "cb1d2db6-7648-4461-cd53-795eeb37a9b7"
      }
    },
    {
      "cell_type": "markdown",
      "source": [
        "Accuracy will still be used but different models will be selected such as LogisticRegression or XGBoost."
      ],
      "metadata": {
        "id": "wg-mbXxsKSKO"
      }
    },
    {
      "cell_type": "code",
      "execution_count": null,
      "source": [
        "classifier(LoRe(max_iter=1000))"
      ],
      "outputs": [],
      "metadata": {
        "colab": {
          "base_uri": "https://localhost:8080/"
        },
        "id": "r1gRAR26Kz3s",
        "outputId": "37a0ea14-85cd-43b7-a37c-5e29efd79709"
      }
    },
    {
      "cell_type": "code",
      "execution_count": null,
      "source": [
        "classifier(XGBC())"
      ],
      "outputs": [],
      "metadata": {
        "colab": {
          "base_uri": "https://localhost:8080/"
        },
        "id": "qYzybv_TK30C",
        "outputId": "f29c5632-8eec-4c9e-f09f-b0cb9c50d51b"
      }
    },
    {
      "cell_type": "code",
      "execution_count": null,
      "source": [
        "classifier(DTC())"
      ],
      "outputs": [],
      "metadata": {
        "colab": {
          "base_uri": "https://localhost:8080/"
        },
        "id": "I5tOu7eiLLMO",
        "outputId": "b8784f70-195e-49f7-9110-8e78c29bc124"
      }
    },
    {
      "cell_type": "code",
      "execution_count": null,
      "source": [
        "classifier(RFC())"
      ],
      "outputs": [],
      "metadata": {
        "colab": {
          "base_uri": "https://localhost:8080/"
        },
        "id": "q2iRZUHDLotD",
        "outputId": "0863ccd7-b7f3-429b-ce19-a330911a1c01"
      }
    },
    {
      "cell_type": "code",
      "execution_count": null,
      "source": [
        "classifier(KNC())"
      ],
      "outputs": [],
      "metadata": {
        "colab": {
          "base_uri": "https://localhost:8080/"
        },
        "id": "3vYChoIqL-8d",
        "outputId": "f7da7b35-b23c-4907-9ad2-e52c50672706"
      }
    },
    {
      "cell_type": "markdown",
      "source": [
        "Highest Precision Score: 0.719"
      ],
      "metadata": {
        "id": "SGFsVq3FKtG2"
      }
    },
    {
      "cell_type": "code",
      "execution_count": null,
      "source": [
        "classifier_precision(LoRe(max_iter=10000))"
      ],
      "outputs": [],
      "metadata": {
        "colab": {
          "base_uri": "https://localhost:8080/"
        },
        "id": "DEhHHibnSbK2",
        "outputId": "ac7ef3f2-5825-489c-eccf-fa72f5fb17d0"
      }
    },
    {
      "cell_type": "code",
      "execution_count": null,
      "source": [
        "classifier_precision(XGBC())"
      ],
      "outputs": [],
      "metadata": {
        "colab": {
          "base_uri": "https://localhost:8080/"
        },
        "id": "h3UL4A_6ixQl",
        "outputId": "cd9f9226-5149-4ee8-f889-2027e501daef"
      }
    },
    {
      "cell_type": "markdown",
      "source": [
        "###Highest Score With Finetuning: 0.7553"
      ],
      "metadata": {
        "id": "abq2Gq2Uuxw1"
      }
    },
    {
      "cell_type": "code",
      "execution_count": null,
      "source": [
        "\"\"\"\n",
        "params = {'max_depth': [2, 3, 5, 6],\n",
        "          'min_samples_split': [5, 6, 8], \n",
        "          'max_features': [0.1, 0.075, 0.5, 0.0025],\n",
        "          'min_impurity_decrease': [0.0025, 0.005, 0.0075, 0.01],\n",
        "          'min_samples_leaf': [3, 4, 5]}\n",
        "\"\"\"\n",
        "import numpy as np\n",
        "\n",
        "# Number of trees in random forest\n",
        "n_estimators = [int(x) for x in np.linspace(start = 100, stop = 2000, num = 25)]\n",
        "# Number of features to consider at every split\n",
        "max_features = ['auto', 'sqrt']\n",
        "# Maximum number of levels in tree\n",
        "max_depth = [int(x) for x in np.linspace(10, 110, num = 11)]\n",
        "max_depth.append(None)\n",
        "# Minimum number of samples required to split a node\n",
        "min_samples_split = [2, 5, 10]\n",
        "# Minimum number of samples required at each leaf node\n",
        "min_samples_leaf = [1, 2, 4]\n",
        "# Method of selecting samples for training each tree\n",
        "bootstrap = [True, False]\n",
        "# Create the random grid\n",
        "params = {'n_estimators': n_estimators,\n",
        "               'max_features': max_features,\n",
        "               'max_depth': max_depth,\n",
        "               'min_samples_split': min_samples_split,\n",
        "               'min_samples_leaf': min_samples_leaf,\n",
        "               'bootstrap': bootstrap}\n",
        "\n",
        "clf = RFC()\n",
        "\n",
        "grid_clf = GridSearchCV(clf, params, cv=5)\n",
        "\n",
        "grid_clf.fit(X_train, y_train)\n",
        "\n",
        "best_params = grid_clf.best_params_\n",
        "\n",
        "best_score = grid_clf.best_score_\n",
        "\n",
        "print(f'Best params: {best_params}')\n",
        "print(f'Best score: {best_score}')"
      ],
      "outputs": [],
      "metadata": {
        "id": "SheEhoaStEj0"
      }
    },
    {
      "cell_type": "code",
      "execution_count": null,
      "source": [
        "from sklearn.model_selection import GridSearchCV\n",
        "\n",
        "params = {'max_depth': [2, 3, 5, None],\n",
        "          'min_samples_split': [2, 4, 6, 8], \n",
        "          'max_features': [None, 0.1],\n",
        "          'min_impurity_decrease': [0.0, 0.0025, 0.005, 0.0075, 0.01],\n",
        "          'min_samples_leaf': [1, 2, 3, 4, 5]}\n",
        "\n",
        "\n",
        "clf = DTC()\n",
        "\n",
        "grid_clf = GridSearchCV(clf, params, cv=5)\n",
        "\n",
        "grid_clf.fit(X_train, y_train)\n",
        "\n",
        "best_params = grid_clf.best_params_\n",
        "\n",
        "best_score = grid_clf.best_score_\n",
        "\n",
        "print(f'Best params: {best_params}')\n",
        "print(f'Best score: {best_score}')"
      ],
      "outputs": [],
      "metadata": {
        "id": "jmxyzunZvzTe",
        "colab": {
          "base_uri": "https://localhost:8080/"
        },
        "outputId": "eaa0e753-9c17-4245-888d-fc06b901e03a"
      }
    },
    {
      "cell_type": "code",
      "execution_count": null,
      "source": [
        "#This will make it easier to do GridSearchCV\n",
        "def grid_search(params, model=XGBC(objective='reg:squarederror')):\n",
        "  \n",
        "  # Initialize model\n",
        "  grid = GridSearchCV(model, params, scoring='neg_mean_squared_error')\n",
        "  \n",
        "  # Fit model on data\n",
        "  grid.fit(X, y)\n",
        "  \n",
        "  # Extract best params\n",
        "  best_params = grid.best_params_\n",
        "\n",
        "  # Print best params\n",
        "  print(\"Best params:\", best_params)\n",
        "\n",
        "  # Compute best score\n",
        "  best_score = grid.best_score_\n",
        "  \n",
        "  # Turn score into RMSE (root mean squared error)\n",
        "  best_score = (-best_score.mean())**0.5\n",
        "\n",
        "  # Print best score\n",
        "  print(\"Best score: {:.5f}\".format(best_score))"
      ],
      "outputs": [],
      "metadata": {
        "id": "WRyxy_uCw_lB"
      }
    },
    {
      "cell_type": "code",
      "execution_count": null,
      "source": [
        "params = {'n_estimators':[750]}\n",
        "grid_search(params)"
      ],
      "outputs": [],
      "metadata": {
        "id": "E47-IIOTx4js",
        "colab": {
          "base_uri": "https://localhost:8080/"
        },
        "outputId": "5d30bff7-dc67-4ad1-c38b-ab3479fe3fe5"
      }
    },
    {
      "cell_type": "markdown",
      "source": [
        "Suprisingly, this score is higher than the predictions made with the other GridSearch tests. Let's do another test."
      ],
      "metadata": {
        "id": "lfYce5ZYOxyb"
      }
    },
    {
      "cell_type": "code",
      "execution_count": null,
      "source": [
        "params = {'n_estimators':[750]}\n",
        "grid_search(params)"
      ],
      "outputs": [],
      "metadata": {
        "id": "Sb-CwXYwPX6B",
        "colab": {
          "base_uri": "https://localhost:8080/"
        },
        "outputId": "aee02821-90be-4915-a7f8-d78061a29f85"
      }
    },
    {
      "cell_type": "code",
      "execution_count": null,
      "source": [
        "params = {'n_estimators':[50]}\n",
        "grid_search(params)"
      ],
      "outputs": [],
      "metadata": {
        "id": "MELOnKZgPb5v",
        "colab": {
          "base_uri": "https://localhost:8080/"
        },
        "outputId": "86c84598-78a3-4684-d42d-00c933f2171e"
      }
    },
    {
      "cell_type": "code",
      "execution_count": null,
      "source": [
        "params = {'n_estimators':[800]}\n",
        "grid_search(params)"
      ],
      "outputs": [],
      "metadata": {
        "id": "6uqbQy03PeH-",
        "colab": {
          "base_uri": "https://localhost:8080/"
        },
        "outputId": "773a97a6-c4a0-47fe-e8f1-f5487f169717"
      }
    },
    {
      "cell_type": "code",
      "execution_count": null,
      "source": [
        "params = {'n_estimators':[1000]}\n",
        "grid_search(params)"
      ],
      "outputs": [],
      "metadata": {
        "id": "2MTs0zeuPiRh",
        "colab": {
          "base_uri": "https://localhost:8080/"
        },
        "outputId": "1c11777e-78f4-4738-87dc-190637d1722f"
      }
    },
    {
      "cell_type": "code",
      "execution_count": null,
      "source": [
        "params = {'n_estimators':[850]}\n",
        "grid_search(params)"
      ],
      "outputs": [],
      "metadata": {
        "id": "sdnp-09mPrRz",
        "colab": {
          "base_uri": "https://localhost:8080/"
        },
        "outputId": "8491f72d-529d-4b2a-af87-3ff6fb3c5047"
      }
    },
    {
      "cell_type": "code",
      "execution_count": null,
      "source": [
        "params = {'learning_rate':[0.05, 0.1, 0.15], 'n_estimators':[750]}\n",
        "grid_search(params)"
      ],
      "outputs": [],
      "metadata": {
        "id": "UodJPYTjyH7e",
        "colab": {
          "base_uri": "https://localhost:8080/"
        },
        "outputId": "b29139d0-955c-4175-e783-e4d9dba3fd99"
      }
    },
    {
      "cell_type": "code",
      "execution_count": null,
      "source": [
        "params = {'learning_rate':[0.05, 0.0075, 0.15, 0.45], \n",
        "          'colsample_bylevel': [0.5, 0.75, 1],\n",
        "          'colsample_bytree': [0.5, 0.75, 1],\n",
        "          'colsample_bynode': [0.5, 0.75, 1],\n",
        "          'n_estimators':[750]}\n",
        "grid_search(params)"
      ],
      "outputs": [],
      "metadata": {
        "id": "sWxskZ_syXeZ",
        "colab": {
          "base_uri": "https://localhost:8080/"
        },
        "outputId": "96c5cc8b-98b7-4d28-8fdb-6fc4e7306e3b"
      }
    },
    {
      "cell_type": "code",
      "execution_count": null,
      "source": [
        "params = {'learning_rate':[0.05, 0.0075, 0.15, 0.45],\n",
        "          'colsample_bylevel': [0.5, 0.75, 1],\n",
        "          'colsample_bytree': [0.5, 0.75, 1],\n",
        "          'colsample_bynode': [0.5, 0.75, 1],\n",
        "          'n_estimators':[750]}\n",
        "grid_search(params)"
      ],
      "outputs": [],
      "metadata": {
        "id": "msAj9XpErFj6",
        "colab": {
          "base_uri": "https://localhost:8080/"
        },
        "outputId": "ce054979-dc9e-477b-c036-c714bed1e145"
      }
    },
    {
      "cell_type": "markdown",
      "source": [
        "#3. Running Models WITH Neural Networks"
      ],
      "metadata": {
        "id": "uYoEVld2G6px"
      }
    },
    {
      "cell_type": "markdown",
      "source": [
        "###Highest Score Without Finetuning: 0.699"
      ],
      "metadata": {
        "id": "bqEffe5qKwwl"
      }
    },
    {
      "cell_type": "code",
      "execution_count": null,
      "source": [
        "scores = CVS(MLPC(), X, y, cv=kf)\n",
        "score = scores.mean()\n",
        "print(score)"
      ],
      "outputs": [],
      "metadata": {
        "id": "5H5hVUCSIAr4",
        "colab": {
          "base_uri": "https://localhost:8080/"
        },
        "outputId": "99e0dffd-208a-4c2f-ae9a-d28f1f15dfbd"
      }
    },
    {
      "cell_type": "code",
      "execution_count": null,
      "source": [
        "scores = CVS(MLPC(), X, y, cv=kf)\n",
        "score = scores.mean()\n",
        "print(score)"
      ],
      "outputs": [],
      "metadata": {
        "id": "5HdHNJIoG6At",
        "colab": {
          "base_uri": "https://localhost:8080/"
        },
        "outputId": "8bf75b80-6359-42f1-f9f0-c9abb089daad"
      }
    },
    {
      "cell_type": "code",
      "execution_count": null,
      "source": [
        "scores = CVS(MLPC(), X, y, cv=kf)\n",
        "score = scores.mean()\n",
        "print(score)"
      ],
      "outputs": [],
      "metadata": {
        "id": "SF6ggpThJs05",
        "colab": {
          "base_uri": "https://localhost:8080/"
        },
        "outputId": "6cc2bd0e-db8f-4b3e-d6cf-61c46eed9828"
      }
    },
    {
      "cell_type": "markdown",
      "source": [
        "There's not much you can do with MLPC without finetuning..."
      ],
      "metadata": {
        "id": "yY46tOu2KlQb"
      }
    },
    {
      "cell_type": "markdown",
      "source": [
        "###Highest Score With Finetuning: 0.69\n",
        "\n"
      ],
      "metadata": {
        "id": "T1JGBMPeLG1b"
      }
    },
    {
      "cell_type": "code",
      "execution_count": null,
      "source": [
        "scores = CVS(MLPC(max_iter=5000), X, y, cv=kf)\n",
        "score = scores.mean()\n",
        "print(score)"
      ],
      "outputs": [],
      "metadata": {
        "id": "34-lUxksLQ0U",
        "colab": {
          "base_uri": "https://localhost:8080/"
        },
        "outputId": "beb94eb4-1cb4-4f73-a737-3dad2d6414ea"
      }
    },
    {
      "cell_type": "code",
      "execution_count": null,
      "source": [
        "scores = CVS(MLPC(max_iter=1000,), X, y, cv=kf)\n",
        "score = scores.mean()\n",
        "print(score)"
      ],
      "outputs": [],
      "metadata": {
        "id": "YSmwbxa5Gj8r",
        "colab": {
          "base_uri": "https://localhost:8080/"
        },
        "outputId": "09e63093-b005-4308-b70c-be6c6bdfef17"
      }
    },
    {
      "cell_type": "code",
      "execution_count": null,
      "source": [
        "scores = CVS(MLPC(max_iter=500,), X, y, cv=kf)\n",
        "score = scores.mean()\n",
        "print(score)"
      ],
      "outputs": [],
      "metadata": {
        "id": "42gymworRyN0",
        "colab": {
          "base_uri": "https://localhost:8080/"
        },
        "outputId": "345060e0-1371-4a32-dfe8-f95790f5fab6"
      }
    },
    {
      "cell_type": "code",
      "execution_count": null,
      "source": [
        "scores = CVS(MLPC(max_iter=250,), X, y, cv=kf)\n",
        "score = scores.mean()\n",
        "print(score)"
      ],
      "outputs": [],
      "metadata": {
        "id": "Sxoh94EYR2Uh",
        "colab": {
          "base_uri": "https://localhost:8080/"
        },
        "outputId": "60b1b953-3839-4280-d561-ccffc71a4f99"
      }
    },
    {
      "cell_type": "code",
      "execution_count": null,
      "source": [
        "scores = CVS(MLPC(hidden_layer_sizes=(100), max_iter=10000, random_state=2), X, y, cv=kf)\n",
        "print(score)"
      ],
      "outputs": [],
      "metadata": {
        "id": "cc0lqO5nR5I5",
        "colab": {
          "base_uri": "https://localhost:8080/"
        },
        "outputId": "19e5bc85-637f-4929-8be7-748e7f6d7f2a"
      }
    },
    {
      "cell_type": "code",
      "execution_count": null,
      "source": [
        "scores = XGBC(MLPC(hidden_layer_sizes=(100), max_iter=10000, random_state=2), X, y, cv=kf)\n",
        "print(score)"
      ],
      "outputs": [],
      "metadata": {
        "id": "VRLnIeWQoAU5",
        "colab": {
          "base_uri": "https://localhost:8080/"
        },
        "outputId": "d8f0e25e-32b4-4b03-8372-d2ed2d09456f"
      }
    },
    {
      "cell_type": "code",
      "execution_count": null,
      "source": [
        "scores = RFC(MLPC(hidden_layer_sizes=(100), max_iter=10000, random_state=2), X, y)\n",
        "print(score)"
      ],
      "outputs": [],
      "metadata": {
        "id": "XxAFHDpFoFdn",
        "colab": {
          "base_uri": "https://localhost:8080/"
        },
        "outputId": "3592f135-46f2-416c-fa73-fe6ca06f4267"
      }
    },
    {
      "cell_type": "code",
      "execution_count": null,
      "source": [
        "scores = XGBC(MLPC(hidden_layer_sizes=(100), max_iter=10000, random_state=2), X, y, cv=kf)\n",
        "print(score)"
      ],
      "outputs": [],
      "metadata": {
        "id": "RG5Dw44SobnQ",
        "colab": {
          "base_uri": "https://localhost:8080/"
        },
        "outputId": "31e52454-0ac4-4bd8-b1b3-f420248644b5"
      }
    },
    {
      "cell_type": "code",
      "execution_count": null,
      "source": [
        "scores = XGBC(MLPC(hidden_layer_sizes=(100), max_iter=10000, random_state=2, solver='adam', verbose=True), X, y, cv=kf)\n",
        "print(score)"
      ],
      "outputs": [],
      "metadata": {
        "id": "3KRIAlCuKltm",
        "colab": {
          "base_uri": "https://localhost:8080/"
        },
        "outputId": "1bbeec72-4733-45e4-9fea-d120f927dd2a"
      }
    },
    {
      "cell_type": "code",
      "execution_count": null,
      "source": [
        "scores = XGBC(MLPC(hidden_layer_sizes=(100), max_iter=10000, random_state=2, solver='ftrl', verbose=True), X, y, cv=kf)\n",
        "print(score)"
      ],
      "outputs": [],
      "metadata": {
        "id": "LKg30B4ebPG8",
        "colab": {
          "base_uri": "https://localhost:8080/"
        },
        "outputId": "23d88901-f15e-4e18-c8ea-48a754efec4e"
      }
    },
    {
      "cell_type": "markdown",
      "source": [
        "Deep Learning implementing Tensorflow and Keras.\n",
        "High Score: 0.68"
      ],
      "metadata": {
        "id": "8pMtCqWcL4bM"
      }
    },
    {
      "cell_type": "code",
      "execution_count": null,
      "source": [
        "num_cols = X.shape[1]\n",
        "model = Sequential()\n",
        "model.add(Dense(2, input_shape=(num_cols,), activation='relu'))\n",
        "model.add(Dropout(0.2))\n",
        "model.add(Dense(1, activation='relu'))\n",
        "model.add(Dense(1, activation='sigmoid'))\n",
        "#print(model.summary())\n",
        "model.compile(optimizer='ftrl', loss='binary_crossentropy', metrics=['accuracy'])\n",
        "model.fit(X_train, y_train, epochs=250)\n",
        "model.evaluate(X_test, y_test)"
      ],
      "outputs": [],
      "metadata": {
        "id": "7r6SD-3hL3je",
        "colab": {
          "base_uri": "https://localhost:8080/"
        },
        "outputId": "e790fff7-78b0-40f2-eeae-1c2004eff41f"
      }
    },
    {
      "cell_type": "code",
      "execution_count": null,
      "source": [
        "num_cols = X.shape[1]\n",
        "model = Sequential()\n",
        "model.add(Dense(1, input_shape=(num_cols,), activation='relu'))\n",
        "model.add(Dropout(0.2))\n",
        "model.add(Dense(1, activation='relu'))\n",
        "model.add(Dense(1, activation='sigmoid'))\n",
        "model.add(Dense(1, activation='sigmoid'))\n",
        "#print(model.summary())\n",
        "model.compile(optimizer='Ftrl', loss='binary_crossentropy', metrics=['accuracy'])\n",
        "model.fit(X_train, y_train, epochs=250)\n",
        "model.evaluate(X_test, y_test)"
      ],
      "outputs": [],
      "metadata": {
        "id": "zflJqtMNMLRp",
        "colab": {
          "base_uri": "https://localhost:8080/"
        },
        "outputId": "4afe62eb-d9c1-4c15-d898-9e6329051afc"
      }
    },
    {
      "cell_type": "markdown",
      "source": [
        "Notice how big the nueral nets are? There's three layers, but only one neuron per layer. Sometimes when there is a small amount of data it's best to have only a small amount of neurons."
      ],
      "metadata": {
        "id": "6a4JvZ5xSE-e"
      }
    },
    {
      "cell_type": "code",
      "execution_count": null,
      "source": [
        "num_cols = X.shape[1]\n",
        "model = Sequential()\n",
        "model.add(Dense(8, input_shape=(num_cols,), activation='relu'))\n",
        "model.add(Dropout(0.2))\n",
        "model.add(Dense(4, activation='relu'))\n",
        "model.add(Dense(1, activation='sigmoid'))\n",
        "#print(model.summary())\n",
        "model.compile(optimizer='Ftrl', loss='binary_crossentropy', metrics=['accuracy'])\n",
        "model.fit(X_train, y_train, epochs=1000)\n",
        "model.evaluate(X_test, y_test)"
      ],
      "outputs": [],
      "metadata": {
        "id": "Gh_JjG29N7_g",
        "colab": {
          "base_uri": "https://localhost:8080/"
        },
        "outputId": "1139711a-b4be-4ec3-d0da-cd29f9b34a98"
      }
    },
    {
      "cell_type": "code",
      "execution_count": null,
      "source": [
        "num_cols = X.shape[1]\n",
        "model = Sequential()\n",
        "model.add(Dense(8, input_shape=(num_cols,), activation='relu'))\n",
        "model.add(Dropout(0.2))\n",
        "model.add(Dense(4, activation='relu'))\n",
        "model.add(Dense(1, activation='sigmoid'))\n",
        "#print(model.summary())\n",
        "model.compile(optimizer='Ftrl', loss='binary_crossentropy', metrics=['accuracy'])\n",
        "model.fit(X_train, y_train, epochs=10000)\n",
        "model.evaluate(X_test, y_test)"
      ],
      "outputs": [],
      "metadata": {
        "id": "yEPSEa7EV-Hs",
        "colab": {
          "base_uri": "https://localhost:8080/"
        },
        "outputId": "9143bf05-cd06-4920-ce7d-be6a47e22e3e"
      }
    },
    {
      "cell_type": "code",
      "execution_count": null,
      "source": [
        "from keras.models import Sequential\n",
        "from keras.layers import Dense, Dropout\n",
        "from keras.callbacks import EarlyStopping\n",
        "from keras.constraints import maxnorm\n",
        "\n",
        "num_cols = X.shape[1]\n",
        "\n",
        "# Initialize model\n",
        "model = Sequential()\n",
        "\n",
        "# Adding initial hidden layer\n",
        "model.add(Dense(8, input_shape = (num_cols,), activation='relu', kernel_constraint=maxnorm(3)))\n",
        "\n",
        "# Dropout prevents overfitting\n",
        "model.add(Dropout(0.1))\n",
        "\n",
        "# Add more hidden layers\n",
        "model.add(Dense(8, activation='relu'))\n",
        "model.add(Dense(1, activation='sigmoid'))\n",
        "\n",
        "# Compile model\n",
        "model.compile(optimizer='adam', loss='binary_crossentropy', metrics=['accuracy'])\n",
        "\n",
        "# Define early stopping monitor\n",
        "early_stopping_monitor = EarlyStopping(patience=100)\n",
        "\n",
        "# Fit the model on data\n",
        "model.fit(X_train, y_train, epochs=2000, batch_size=20, validation_split=0.2, callbacks=[early_stopping_monitor])\n",
        "\n",
        "# Score the model\n",
        "model.evaluate(X_test, y_test)\n"
      ],
      "outputs": [],
      "metadata": {
        "id": "FY9QPIxkPVxx",
        "colab": {
          "base_uri": "https://localhost:8080/"
        },
        "outputId": "a1679224-51f9-4fcf-e006-39edf7673cc6"
      }
    },
    {
      "cell_type": "code",
      "execution_count": null,
      "source": [
        "from keras.models import Sequential\n",
        "from keras.layers import Dense, Dropout\n",
        "from keras.callbacks import EarlyStopping\n",
        "from keras.constraints import maxnorm\n",
        "\n",
        "num_cols = X.shape[1]\n",
        "\n",
        "# Initialize model\n",
        "model = Sequential()\n",
        "\n",
        "# Adding initial hidden layer\n",
        "model.add(Dense(8, input_shape = (num_cols,), activation='relu', kernel_constraint=maxnorm(3)))\n",
        "\n",
        "# Dropout prevents overfitting\n",
        "model.add(Dropout(0.1))\n",
        "\n",
        "# Add more hidden layers\n",
        "model.add(Dense(8, activation='relu'))\n",
        "model.add(Dense(1, activation='sigmoid'))\n",
        "\n",
        "# Compile model\n",
        "model.compile(optimizer='adam', loss='binary_crossentropy', metrics=['accuracy'])\n",
        "\n",
        "# Define early stopping monitor\n",
        "early_stopping_monitor = EarlyStopping(patience=100)\n",
        "\n",
        "# Fit the model on data\n",
        "model.fit(X_train, y_train, epochs=10000, batch_size=20, validation_split=0.2, callbacks=[early_stopping_monitor])\n",
        "\n",
        "# Score the model\n",
        "model.evaluate(X_test, y_test)\n"
      ],
      "outputs": [],
      "metadata": {
        "id": "S4p8eTeLPjNh",
        "colab": {
          "base_uri": "https://localhost:8080/"
        },
        "outputId": "184ae891-00f8-4066-d4db-300d1970b028"
      }
    },
    {
      "cell_type": "markdown",
      "source": [
        "###Highest *precision* score: 0.60\n",
        "\n"
      ],
      "metadata": {
        "id": "GdEqO7giInQO"
      }
    },
    {
      "cell_type": "code",
      "execution_count": null,
      "source": [
        "num_cols = X.shape[1]\n",
        "model1 = Sequential()\n",
        "model1.add(Dense(8, input_shape=(num_cols,), activation='relu'))\n",
        "model1.add(Dropout(0.2))\n",
        "model1.add(Dense(4, activation='relu'))\n",
        "model1.add(Dense(1, activation='sigmoid'))\n",
        "#print(model.summary())\n",
        "model1.compile(optimizer='adam', loss='binary_crossentropy', metrics=[tf.keras.metrics.Precision()])\n",
        "model1.fit(X_train, y_train, epochs=250)\n",
        "model1.evaluate(X_test, y_test)"
      ],
      "outputs": [],
      "metadata": {
        "id": "NeaV1LvLOj9D",
        "colab": {
          "base_uri": "https://localhost:8080/"
        },
        "outputId": "07e45e09-20d8-4f91-e52d-36a54c9d780a"
      }
    },
    {
      "cell_type": "code",
      "execution_count": null,
      "source": [
        "from keras.models import Sequential\n",
        "from keras.layers import Dense, Dropout\n",
        "from keras.callbacks import EarlyStopping\n",
        "from keras.constraints import maxnorm\n",
        "\n",
        "num_cols = X.shape[1]\n",
        "\n",
        "# Initialize model\n",
        "model = Sequential()\n",
        "\n",
        "# Adding initial hidden layer\n",
        "model.add(Dense(4, input_shape = (num_cols,), activation='relu', kernel_constraint=maxnorm(3)))\n",
        "\n",
        "# Dropout prevents overfitting\n",
        "model.add(Dropout(0.1))\n",
        "\n",
        "# Add more hidden layers\n",
        "model.add(Dense(2, activation='relu'))\n",
        "model.add(Dense(1, activation='sigmoid'))\n",
        "\n",
        "# Compile model\n",
        "model.compile(optimizer='adam', loss='binary_crossentropy', metrics=[tf.keras.metrics.Precision()])\n",
        "\n",
        "# Define early stopping monitor\n",
        "early_stopping_monitor = EarlyStopping(patience=100)\n",
        "\n",
        "# Fit the model on data\n",
        "model.fit(X_train, y_train, epochs=2000, batch_size=20, validation_split=0.2, callbacks=[early_stopping_monitor])\n",
        "\n",
        "# Score the model\n",
        "model.evaluate(X_test, y_test)\n"
      ],
      "outputs": [],
      "metadata": {
        "id": "DE9GCoj8Pwl0",
        "colab": {
          "base_uri": "https://localhost:8080/"
        },
        "outputId": "5cc6a981-80ca-442d-c934-a46cac5e10f4"
      }
    },
    {
      "cell_type": "code",
      "execution_count": null,
      "source": [
        "from keras.models import Sequential\n",
        "from keras.layers import Dense\n",
        "from keras.callbacks import EarlyStopping\n",
        "\n",
        "num_cols = X.shape[1]\n",
        "\n",
        "# Initialize model\n",
        "model = Sequential()\n",
        "\n",
        "# Adding hidden layers\n",
        "model.add(Dense(1, input_shape = (num_cols,), activation='relu'))\n",
        "model.add(Dense(1, activation='relu'))\n",
        "model.add(Dense(1, activation='sigmoid'))\n",
        "\n",
        "# Compile model\n",
        "model.compile(optimizer='adam', loss='binary_crossentropy', metrics=[tf.keras.metrics.Precision()])\n",
        "\n",
        "# Define early stopping monitor\n",
        "early_stopping_monitor = EarlyStopping(patience=100)\n",
        "\n",
        "# Fit the model on data\n",
        "model.fit(X_train, y_train, epochs=2000, batch_size=20, validation_split=0.2, callbacks=[early_stopping_monitor])\n",
        "\n",
        "# Score the model\n",
        "model.evaluate(X_test, y_test)"
      ],
      "outputs": [],
      "metadata": {
        "id": "l9KjomU_R8w0",
        "colab": {
          "base_uri": "https://localhost:8080/"
        },
        "outputId": "4903c8b2-74f7-4c59-8c84-484f6028ddcc"
      }
    },
    {
      "cell_type": "markdown",
      "source": [
        "# 4. Predicting Diabetes"
      ],
      "metadata": {
        "id": "1K1KHAUMM2ud"
      }
    },
    {
      "cell_type": "code",
      "execution_count": null,
      "source": [
        "#To jog memory about dataset; Correctly pick values\n",
        "df.head()"
      ],
      "outputs": [],
      "metadata": {
        "id": "JYrX6koPNpND",
        "colab": {
          "base_uri": "https://localhost:8080/",
          "height": 195
        },
        "outputId": "d134ea26-d690-4e02-bba9-002b01f47b9c"
      }
    },
    {
      "cell_type": "code",
      "execution_count": null,
      "source": [
        "#Testing out first row\n",
        "model.predict([[6,\t148,\t72,\t35,\t0,\t33.6,\t0.627, 50\t]])"
      ],
      "outputs": [],
      "metadata": {
        "id": "svGqwCqFN5KK",
        "colab": {
          "base_uri": "https://localhost:8080/"
        },
        "outputId": "2fe94ec2-ba63-40c7-b0e0-32ea9e32884f"
      }
    },
    {
      "cell_type": "code",
      "execution_count": null,
      "source": [
        "#Inputing random values\n",
        "model.predict([[5, 148, 35, 23, 0, 10.6, 0.167, 21 ]])"
      ],
      "outputs": [],
      "metadata": {
        "id": "1j2WL8UmUjt8",
        "colab": {
          "base_uri": "https://localhost:8080/"
        },
        "outputId": "24088871-4ee6-412d-ecbe-efb84509850b"
      }
    },
    {
      "cell_type": "code",
      "execution_count": null,
      "source": [
        "X_test.head()"
      ],
      "outputs": [],
      "metadata": {
        "id": "7AybF2cJAYnU",
        "colab": {
          "base_uri": "https://localhost:8080/",
          "height": 195
        },
        "outputId": "7f743b37-5920-4af1-a503-5df74313fe61"
      }
    },
    {
      "cell_type": "code",
      "execution_count": null,
      "source": [
        "#Predicting X_test\n",
        "model.predict(X_test) "
      ],
      "outputs": [],
      "metadata": {
        "id": "6Plw44qu_nCP",
        "colab": {
          "base_uri": "https://localhost:8080/"
        },
        "outputId": "8b1f60bd-578d-4503-f0e1-5691ae1b13df"
      }
    },
    {
      "cell_type": "code",
      "execution_count": null,
      "source": [
        "model.predict_proba(X_test)"
      ],
      "outputs": [],
      "metadata": {
        "id": "EyBiaaPHBXVt",
        "colab": {
          "base_uri": "https://localhost:8080/"
        },
        "outputId": "35176b8e-9499-46d6-c4d8-1403edcf7745"
      }
    },
    {
      "cell_type": "code",
      "execution_count": null,
      "source": [
        "model.predict_proba([[6,\t148,\t72,\t35,\t0,\t33.6,\t0.627, 50\t]])"
      ],
      "outputs": [],
      "metadata": {
        "id": "bRleFhx5DUmi",
        "colab": {
          "base_uri": "https://localhost:8080/"
        },
        "outputId": "285ff6b9-fdfc-4233-c63b-161743a7aa03"
      }
    },
    {
      "cell_type": "markdown",
      "source": [
        "#5. Graphs "
      ],
      "metadata": {
        "id": "23iFcmXVPmuo"
      }
    },
    {
      "cell_type": "code",
      "execution_count": null,
      "source": [
        "# Get an idea of what might go in the graph\n",
        "df.describe()"
      ],
      "outputs": [],
      "metadata": {
        "id": "m8U-N59PX_uB",
        "colab": {
          "base_uri": "https://localhost:8080/",
          "height": 284
        },
        "outputId": "4f6ea71b-f9bc-4367-8b37-b49c132b7f2d"
      }
    },
    {
      "cell_type": "code",
      "execution_count": null,
      "source": [
        "#@title Columns on Columns\n",
        "from pandas.plotting import scatter_matrix\n",
        "p=scatter_matrix(df,figsize=(25, 25))"
      ],
      "outputs": [],
      "metadata": {
        "id": "AGwVnSK4gjuL",
        "colab": {
          "base_uri": "https://localhost:8080/",
          "height": 1000
        },
        "cellView": "form",
        "outputId": "51f055f2-6662-4c48-f62b-c6d53acbfb81"
      }
    },
    {
      "cell_type": "code",
      "execution_count": null,
      "source": [
        "sns.histplot(data=df, x=\"Outcome\")"
      ],
      "outputs": [],
      "metadata": {
        "colab": {
          "base_uri": "https://localhost:8080/",
          "height": 164
        },
        "id": "CeyxSXpsAJ-S",
        "outputId": "ba6b2116-e684-4001-c6be-8aaef1a62ab6"
      }
    },
    {
      "cell_type": "code",
      "execution_count": null,
      "source": [
        "#Age Range\n",
        "import seaborn as sns\n",
        "sns.lineplot(data=df[\"Age\"])"
      ],
      "outputs": [],
      "metadata": {
        "id": "hCR81mCBZAQC",
        "colab": {
          "base_uri": "https://localhost:8080/",
          "height": 282
        },
        "outputId": "2aff897a-a960-49ae-8d1a-defde991b67a"
      }
    },
    {
      "cell_type": "code",
      "execution_count": null,
      "source": [
        "#Age on BMI\n",
        "sns.lineplot(\n",
        "    data=df,\n",
        "    x=\"Age\", y=\"BMI\"\n",
        ")"
      ],
      "outputs": [],
      "metadata": {
        "id": "SHe_qH4XfUGH",
        "colab": {
          "base_uri": "https://localhost:8080/",
          "height": 296
        },
        "outputId": "0f41a29d-7b57-45eb-c3f2-b7ed42a62cd0"
      }
    },
    {
      "cell_type": "code",
      "execution_count": null,
      "source": [
        "#Age on Bloodpressure\n",
        "sns.lineplot(\n",
        "    data=df,\n",
        "    x=\"Age\", y=\"BloodPressure\"\n",
        ")"
      ],
      "outputs": [],
      "metadata": {
        "id": "17Vg0iBcf8pA",
        "colab": {
          "base_uri": "https://localhost:8080/",
          "height": 296
        },
        "outputId": "da582340-3dab-41f7-9619-ccb0ccb78b27"
      }
    },
    {
      "cell_type": "code",
      "execution_count": null,
      "source": [
        "#Age on DiabetesPedigreeFunction\n",
        "sns.lineplot(\n",
        "    data=df,\n",
        "    x=\"Age\", y=\"DiabetesPedigreeFunction\"\n",
        ")"
      ],
      "outputs": [],
      "metadata": {
        "id": "2gQDuNCtg6HY",
        "colab": {
          "base_uri": "https://localhost:8080/",
          "height": 296
        },
        "outputId": "fb5fdaf0-d840-4c23-d9b2-bdf4d2c88404"
      }
    },
    {
      "cell_type": "code",
      "execution_count": null,
      "source": [
        "import matplotlib.pyplot as plt\n",
        "\n",
        "side_length = 9\n",
        "data = df\n",
        "# Generate the heatmap\n",
        "sns.heatmap(data)\n",
        "plt.show()"
      ],
      "outputs": [],
      "metadata": {
        "id": "kiHq73idRf0D",
        "colab": {
          "base_uri": "https://localhost:8080/",
          "height": 390
        },
        "outputId": "d566f7e9-5a8f-4f5e-c910-df46727cee2b"
      }
    },
    {
      "cell_type": "code",
      "execution_count": null,
      "source": [
        "import seaborn as sns\n",
        "df = df\n",
        "\n",
        "# Large bandwidth\n",
        "sns.kdeplot(df['BloodPressure'], shade=True, bw=.5, color=\"olive\")\n",
        "#sns.plt.show()\n",
        "\n",
        "# Narrower bandwidth\n",
        "sns.kdeplot(df['BloodPressure'], shade=True, bw=.05, color=\"olive\")\n"
      ],
      "outputs": [],
      "metadata": {
        "id": "St72D31hPwmQ",
        "colab": {
          "base_uri": "https://localhost:8080/",
          "height": 383
        },
        "outputId": "f48f4bdf-371a-431b-865c-bd185c2c304f"
      }
    },
    {
      "cell_type": "code",
      "execution_count": null,
      "source": [
        "#Bloodpressure on Outcome\n",
        "import seaborn as sns\n",
        "df = df\n",
        " \n",
        "# Custom the inside plot: options are: “scatter” | “reg” | “resid” | “kde” | “hex”\n",
        "sns.jointplot(x=df[\"BloodPressure\"], y=df[\"Outcome\"], kind='scatter')\n",
        "sns.jointplot(x=df[\"BloodPressure\"], y=df[\"Outcome\"], kind='hex')\n",
        "sns.jointplot(x=df[\"BloodPressure\"], y=df[\"Outcome\"], kind='kde')\n",
        "sns.jointplot(x=df[\"BloodPressure\"], y=df[\"Outcome\"], kind='scatter', s=200, color='m', edgecolor=\"skyblue\", linewidth=2)\n",
        " \n",
        "# Custom the color\n",
        "sns.set(style=\"white\", color_codes=True)\n",
        "sns.jointplot(x=df[\"BloodPressure\"], y=df[\"Outcome\"], kind='kde', color=\"skyblue\")\n"
      ],
      "outputs": [],
      "metadata": {
        "id": "MHDteDU6We9k",
        "colab": {
          "base_uri": "https://localhost:8080/",
          "height": 1000
        },
        "outputId": "4ce76f0c-581a-4a6e-b465-119b32cecb49"
      }
    },
    {
      "cell_type": "markdown",
      "source": [
        "#6. Conclusion"
      ],
      "metadata": {
        "id": "kkBQlPO5bBPH"
      }
    },
    {
      "cell_type": "markdown",
      "source": [
        "To conclude, every dataset shows a story. To take raw data and then predict the future is jaw-dropping. Advanced classification techniques have been used in this project, including XGBoost (XtremeGradientBoosting), MLPClassifiers, and neural networks with TensorFlow and Keras. \n",
        "\n",
        "-Key Takeaway-\n",
        "* The factor that most affects the outcome is blood pressure.\n",
        "\n",
        "\n",
        "If you use this notebook, please reference it.\n"
      ],
      "metadata": {
        "id": "GFt_5F2JbBCZ"
      }
    }
  ]
}