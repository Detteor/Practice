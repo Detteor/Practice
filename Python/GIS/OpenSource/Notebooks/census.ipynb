{
 "metadata": {
  "language_info": {
   "codemirror_mode": {
    "name": "ipython",
    "version": 3
   },
   "file_extension": ".py",
   "mimetype": "text/x-python",
   "name": "python",
   "nbconvert_exporter": "python",
   "pygments_lexer": "ipython3",
   "version": "3.7.10"
  },
  "orig_nbformat": 2,
  "kernelspec": {
   "name": "python3",
   "display_name": "Python 3.7.10 64-bit ('OSGIS': conda)"
  },
  "metadata": {
   "interpreter": {
    "hash": "a57cb7bca1abc867eae947b70fa3fa69ed703cffae8160be3ea1cc3a1cfe3e7e"
   }
  },
  "interpreter": {
   "hash": "a57cb7bca1abc867eae947b70fa3fa69ed703cffae8160be3ea1cc3a1cfe3e7e"
  }
 },
 "nbformat": 4,
 "nbformat_minor": 2,
 "cells": [
  {
   "cell_type": "markdown",
   "source": [
    "# For analyzing the 2020 Census Data for Michigan and the Detroit area.\n",
    "Notebook to assist in the process of redistricting for Kent County. Right now the data is going to be based on the Census ACS Survery. It is still unclear if the Offical Census Data will be available before the process needs to be completed."
   ],
   "metadata": {}
  },
  {
   "cell_type": "code",
   "execution_count": null,
   "source": [
    "import os\n",
    "from shutil import copy2\n",
    "import pandas as pd\n",
    "import numpy as np\n",
    "from datetime import datetime as dt\n",
    "from pathlib import Path\n",
    "from arcgis.features import FeatureLayer, FeatureLayerCollection, GeoAccessor\n",
    "import requests\n",
    "from dotenv import find_dotenv, load_dotenv\n",
    "from time import time"
   ],
   "outputs": [],
   "metadata": {}
  },
  {
   "cell_type": "code",
   "execution_count": null,
   "source": [
    "now = dt.now()\n",
    "mStr = now.strftime('%m%Y')\n",
    "dStr = now.strftime('%m_%d')\n",
    "uPath = Path.home()\n",
    "locFolders = ['Processing', 'Review']\n",
    "if uPath.exists():\n",
    "    for x in locFolders:\n",
    "        a = Path(uPath / 'GIS' / x)\n",
    "        if a.exists():\n",
    "            print(f'{a} already exists.')\n",
    "        else:\n",
    "            a.mkdir(parents=True)\n",
    "            print(f'{a} has been created.')\n",
    "else:\n",
    "    pass\n",
    "\n",
    "gisPath = uPath / 'GIS'\n",
    "lPath = [f for f in gisPath.glob('*')]\n",
    "netDir = Path(r'\\\\kcdp-1\\KCGIS\\MasterGISFiles\\Ben')\n",
    "netDB = netDir / 'GISPro' / 'SDE Connections'"
   ],
   "outputs": [],
   "metadata": {}
  },
  {
   "cell_type": "code",
   "execution_count": null,
   "source": [
    "#Create Folders for Census Data\n",
    "cFolder = [f for f in lPath if f.name == 'Processing'][0]\n",
    "cProcessing = cFolder / 'Census' / f'{dStr}'\n",
    "if cProcessing.exists() == True:\n",
    "    print(f'{cProcessing} already exist.')\n",
    "else:\n",
    "    cProcessing.mkdir(parents=True)\n",
    "    print(f'Created {cProcessing}.')\n",
    "\n",
    "cFR = [f for f in lPath if f.name == 'Review'][0]\n",
    "cReview = cFR / 'Census' / f'{dStr}'\n",
    "if cReview.exists() == True:\n",
    "    print(f'{cReview} already exist')\n",
    "else:\n",
    "    cReview.mkdir(parents=True)\n",
    "    print(f'Created {cReview}')"
   ],
   "outputs": [],
   "metadata": {}
  },
  {
   "cell_type": "code",
   "execution_count": null,
   "source": [
    "iE = netDB / 'MAPPINGADMIN.sde' / 'PROD.MAPPINGADMIN.ParcelEditing'\n",
    "sr = arc.Describe(f'{iE}').spatialReference\n",
    "outGDB = gisPath / cFolder / f'Data_{mStr}.gdb'\n",
    "# dsA = gisPath / pFolder / f'{outGDB}.gdb'\n",
    "locGDB = outGDB / 'Census2020'\n",
    "if arc.Exists(f'{outGDB}'):\n",
    "    print(\"GDB already exists.\")\n",
    "else:\n",
    "    arc.CreateFileGDB_management(f'{cFolder}', f'{outGDB.name}')\n",
    "    print(f'Created File GeoDatabase at {outGDB.parent}')\n",
    "\n",
    "time.sleep(2)\n",
    "\n",
    "if arc.Exists(f'{locGDB}'):\n",
    "    print(f'{locGDB.name} already exists')\n",
    "else:\n",
    "    arc.CreateFeatureDataset_management(f'{locGDB.parent}', f'{locGDB.name}', sr)\n",
    "    print(f'{locGDB.name} Dataset has been created')"
   ],
   "outputs": [],
   "metadata": {}
  },
  {
   "cell_type": "code",
   "execution_count": null,
   "source": [
    "load_dotenv(find_dotenv())\n",
    "\n",
    "gis_user = os.getenv('ESRI_USERNAME')\n",
    "gis_pass = os.getenv('ESRI_PASSWORD')\n",
    "gis_url = os.getenv('PORTAL_URL')\n",
    "agol_user = os.getenv('AGOL_USERNAME')\n",
    "agol_pass = os.getenv('AGOL_PASSWORD')\n",
    "agol_url = os.getenv('AGOL_SITE')\n",
    "\n",
    "from arcgis import GIS\n",
    "\n",
    "gisE = GIS(url=gis_url, username=gis_user, password=gis_pass)\n",
    "\n",
    "gisA = GIS(url=agol_url, username=agol_user, password=agol_pass)\n",
    "\n",
    "gis = GIS()"
   ],
   "outputs": [],
   "metadata": {}
  },
  {
   "cell_type": "markdown",
   "source": [
    "### Get Census Data for Kent County from ACS 5 Year Survey. Data is going to be at the block group level instead of the block level. "
   ],
   "metadata": {}
  },
  {
   "cell_type": "markdown",
   "source": [
    "The field names will need to be changed to match the field names in the Census 2020 data."
   ],
   "metadata": {}
  },
  {
   "cell_type": "code",
   "execution_count": null,
   "source": [
    "census_key = os.getenv('CENSUS_KEY')\n",
    "\n",
    "cvar = {\n",
    "    'GEO_ID':'GEOID',\n",
    "    'B01001_001E':'est_total',\n",
    "    'B01001_001EA':'est_total_anno',\n",
    "    'B01001_001M':'moe',\n",
    "    'B01001_001MA':'moe_anno',\n",
    "    'NAME':'name'\n",
    "}\n",
    "\n",
    "# Request parameters and grab all the data associated with Kent County (does not contain spatial information)\n",
    "payload = {\n",
    "    'get' : ','.join(list(cvar.keys())),\n",
    "    'for' : 'block group:*',\n",
    "    'in' : ['state:10', 'county:001'],\n",
    "    'key' : census_key\n",
    "}\n",
    "\n",
    "census_url = f'https://api.census.gov/data/2019/acs/acs5'\n",
    "\n",
    "res = requests.get(census_url, params=payload)\n",
    "\n",
    "if res.status_code == 200:\n",
    "    data = res.json()\n",
    "    c_df = pd.DataFrame(data[1:], columns=data[0])\n",
    "    c_df.rename(columns=cvar, inplace=True)"
   ],
   "outputs": [],
   "metadata": {}
  },
  {
   "cell_type": "code",
   "execution_count": null,
   "source": [
    "#change the GEOID to work with merge/join later with spatial data\n",
    "c_df.loc[:, 'GEOID'] = c_df.GEOID.str[9:]\n",
    "\n",
    "#drop the columns that are not necessary\n",
    "c_df.drop(columns=['state', 'county', 'tract', 'block group'], inplace=True)\n",
    "c_df.sort_values(by='GEOID', inplace=True, ignore_index=True)\n",
    "\n",
    "#change the columns data types to match the data contained\n",
    "census_dtypes = {\n",
    "    'GEOID':'string',\n",
    "    'name':'string',\n",
    "    'est_total':'int32',\n",
    "    'est_total_anno':'string',\n",
    "    'moe':'int32',\n",
    "    'moe_anno':'string'\n",
    "}\n",
    "\n",
    "c_df = c_df[list(census_dtypes.keys())].astype(census_dtypes)\n",
    "\n",
    "c_df.fillna('', inplace=True)\n",
    "\n",
    "#export table to local GDB\n",
    "tabName = locGDB.parent / 'CensusACS_2019'\n",
    "c_df.spatial.to_table(str(tabName))\n",
    "print(f'{tabName.name} has been created')"
   ],
   "outputs": [],
   "metadata": {}
  },
  {
   "cell_type": "markdown",
   "source": [
    "### Get Census Block Group Geographic Data from Census REST Server. For this example, I am using ArcGIS API for Python, but you can use Open Source libraries like Geopandas."
   ],
   "metadata": {}
  },
  {
   "cell_type": "code",
   "execution_count": null,
   "source": [
    "#Grab the spatial data from Census REST Server and query by Kent County\n",
    "outCen = locGDB / '2019_Blocks'\n",
    "flc = FeatureLayerCollection('https://tigerweb.geo.census.gov/arcgis/rest/services/TIGERweb/Tracts_Blocks/MapServer') #This is getting the census tracts for 2020\n",
    "\n",
    "expr = 'STATE = 10 AND COUNTY = 01'\n",
    "\n",
    "flList = flc.layers\n",
    "\n",
    "cbg = flList[0].query(out_sr=26957, where=expr, as_df=True)\n",
    "cbg.spatial.to_featureclass(f'{gis}', sanitize_columns=False)"
   ],
   "outputs": [],
   "metadata": {
    "tags": []
   }
  },
  {
   "cell_type": "code",
   "execution_count": null,
   "source": [
    "expr = 'STATE = 10 AND COUNTY = 01'\n",
    "for x in flList:\n",
    "    c = x.properties.description.split(',')[-1]\n",
    "    # print(c)\n",
    "    if '2020' in c:\n",
    "        print(c)\n",
    "        # d = x.query(where=expr, out_sr=26957, as_df=True)"
   ],
   "outputs": [],
   "metadata": {}
  },
  {
   "cell_type": "code",
   "execution_count": null,
   "source": [
    "# flc = FeatureLayerCollection('https://tigerweb.geo.census.gov/arcgis/rest/services/TIGERweb/Tracts_Blocks/MapServer').layers\n",
    "# a = flc[10].properties\n",
    "# .description.split(',')[-1]\n",
    "\n",
    "# blocks_url = 'https://tigerweb.geo.census.gov/arcgis/rest/services/TIGERweb/Tracts_Blocks/MapServer/2/query?'\n",
    "\n",
    "# blocks_params = {\n",
    "#     'where' : 'STATE = 10 and COUNTY = 001',\n",
    "#     'outFields' : '*',\n",
    "#     'f' : 'GeoJSON'\n",
    "# }\n",
    "\n",
    "# blocks = requests.get(blocks_url, blocks_params)\n",
    "\n",
    "# gj = blocks.json()\n",
    "\n",
    "# arcpy.JSONToFeatures_conversion(gj, f'{gis / \"census2\"}', 'POLYGON')\n",
    "\n",
    "\n",
    "expr = 'STATE = 10 AND COUNTY = 01'\n",
    "# d = flc[0].query(where=expr, out_sr=4326, as_df=True)\n",
    "# d.spatial.to_featureclass(location=f'{netDir / \"Census\"}', sanitized_columns=False)\n",
    "if '2020' in flc[0].properties.description.split(',')[-1]:\n",
    "    d = flc[0].query(where=expr, out_sr=4326)\n",
    "    d.save(f'{outGDB}', f'{flc[0].properties.name}')\n",
    "    print(f'Finishing Copying {flc[0].properties.name}')\n",
    "for f in flc:\n",
    "    c = f.properties.description.split(',')[-1]\n",
    "    if '2020' in c:\n",
    "        d = f.query(where=expr, out_sr=4326, as_df=True)\n",
    "        # d.save(f'{outGDB}', )\n",
    "        d.spatial.to_featureclass(location=f'{outGDB / outGDB.name}', sanitize_columns=False)\n",
    "        # d.save(f'{outGDB}', f'{f.properties.name}')\n",
    "        # arcpy.FeatureClassToFeatureClass_conversion(d, f'{outGDB}', f'{f.properties.name}')\n",
    "        print(f'Copied {f}')\n",
    "\n",
    "print(flc[2].properties.name)\n",
    "\n",
    "\n",
    "cbg_df = FeatureLayer(flc).query(out_sr= 4326, where=expr, out_fields='GEOID',as_df=True)\n",
    "\n",
    "cbg_df.sort_values(by='GEOID', inplace=True, ignore_index=True)"
   ],
   "outputs": [],
   "metadata": {}
  },
  {
   "cell_type": "markdown",
   "source": [
    "<b> Method using GeoPandas instead of ArcGIS Python API. </b>"
   ],
   "metadata": {}
  },
  {
   "cell_type": "code",
   "execution_count": null,
   "source": [
    "try:\n",
    "    import geopandas as gpd\n",
    "\n",
    "    blocks_url = 'https://tigerweb.geo.census.gov/arcgis/rest/services/TIGERweb/Tracts_Blocks/MapServer/2/query?'\n",
    "\n",
    "    blocks_params = {\n",
    "        'where' : 'STATE = 10 and COUNTY = 001',\n",
    "        'outFields' : '*',\n",
    "        'f' : 'GeoJSON'\n",
    "    }\n",
    "\n",
    "    blocks = requests.get(blocks_url, blocks_params)\n",
    "\n",
    "    cbg_gdf = gpd.read_file(blocks.text)\n",
    "    cbg_gdf.sort_values(by='GEOID', inplace=True, ignore_index=True)\n",
    "\n",
    "except ImportError:\n",
    "    print(\"Need to install geopandas in the current environment.\")"
   ],
   "outputs": [],
   "metadata": {}
  },
  {
   "cell_type": "code",
   "execution_count": null,
   "source": [
    "import geopandas as gpd\n",
    "import requests\n",
    "\n",
    "blocks_url = 'https://tigerweb.geo.census.gov/arcgis/rest/services/TIGERweb/Tracts_Blocks/MapServer/8/query?'\n",
    "\n",
    "blocks_params = {\n",
    "    'where' : 'STATE = 10 and COUNTY = 001',\n",
    "    'outFields' : '*',\n",
    "    'f' : 'JSON'\n",
    "}\n",
    "\n",
    "blocks = requests.get(blocks_url, blocks_params)\n",
    "\n",
    "cbg_gdf = gpd.read_file(blocks.text)\n",
    "\n",
    "cbg_gdf.sort_values(by='GEOID', inplace=True, ignore_index=True)"
   ],
   "outputs": [],
   "metadata": {}
  },
  {
   "cell_type": "code",
   "execution_count": null,
   "source": [
    "cbg_gdf.to_file(f'{gis.parent / \"gdCensus.shp\"}', index=False)"
   ],
   "outputs": [],
   "metadata": {}
  },
  {
   "cell_type": "markdown",
   "source": [
    "Export to ESRIDB."
   ],
   "metadata": {}
  },
  {
   "cell_type": "code",
   "execution_count": null,
   "source": [
    "kc_df = cbg_df[['SHAPE']].join(c_df)"
   ],
   "outputs": [],
   "metadata": {}
  },
  {
   "cell_type": "code",
   "execution_count": null,
   "source": [
    "netDir = Path(r'C:\\Users\\MKinnaman\\AppData\\Roaming\\ESRI\\Desktop10.5\\ArcCatalog')\n",
    "netDB = netDir / 'GISPro' / 'SDE Connections'\n",
    "esriDB = netDir / 'GISAdmin.sde' / 'PROD.GISADMIN.Census_ACS_2019'\n",
    "outFC = esriDB / 'TotalPop_2019'\n",
    "# kc_df.spatial.to_featureclass(location=f'{outFC}', sanitize_columns=False)"
   ],
   "outputs": [],
   "metadata": {}
  },
  {
   "cell_type": "markdown",
   "source": [
    "### Merge or join the Census API Data to Census Spatial Data "
   ],
   "metadata": {}
  },
  {
   "cell_type": "code",
   "execution_count": null,
   "source": [
    "import matplotlib.pyplot as plt\n",
    "from mpl_toolkits.axes_grid1 import make_axes_locatable\n",
    "import matplotlib as mpl\n",
    "\n",
    "cbg_gdf.plot()"
   ],
   "outputs": [],
   "metadata": {}
  },
  {
   "cell_type": "code",
   "execution_count": null,
   "source": [
    "# Define figure\n",
    "fig, ax = plt.subplots(1,1)\n",
    "\n",
    "# Plot dataframe to figure\n",
    "div = make_axes_locatable(ax)\n",
    "cax = div.append_axes(\"bottom\", size='5%', pad=0.1)\n",
    "kc_gdf.plot(column='est_total', legend=True, ax=ax, legend_kwds={'orientation':'horizontal'}, cax=cax, edgecolor='black', linewidth=0.4, cmap='BrBG')\n",
    "\n",
    "# Adjust figure details\n",
    "ax.set_title('Estimated Population Change from 2010-2014 to 2015-2019')\n",
    "ax.axes.xaxis.set_visible(False); ax.axes.yaxis.set_visible(False)\n",
    "ax.set_frame_on(False)\n",
    "fig.set_figwidth(10); fig.set_figheight(10)\n",
    "\n",
    "plt.show()"
   ],
   "outputs": [],
   "metadata": {}
  },
  {
   "cell_type": "markdown",
   "source": [
    "## Get Geographic Data from Census REST Server"
   ],
   "metadata": {}
  },
  {
   "cell_type": "markdown",
   "source": [
    "Get Kent County Census Data using Arcgis Python API"
   ],
   "metadata": {}
  },
  {
   "cell_type": "code",
   "execution_count": null,
   "source": [
    "netDir = Path(r'C:\\Users\\MKinnaman\\AppData\\Roaming\\ESRI\\Desktop10.5\\ArcCatalog')\n",
    "esriDB = netDir / 'GISAdmin.sde'"
   ],
   "outputs": [],
   "metadata": {}
  },
  {
   "cell_type": "code",
   "execution_count": null,
   "source": [
    "iE = esriDB / 'PROD.GISADMIN.Census2010'\n",
    "sr = arcpy.Describe(f'{iE}').spatialReference\n",
    "outGDB = esriDB / 'PROD.GISADMIN.Census2020'\n",
    "# dsA = Path(gisPath / nGDB / f'{outGDB}.gdb')\n",
    "# locGDB = Path(dsA / f'Daily_{dStr}')\n",
    "# if arc.Exists(outGDB):\n",
    "#     print(\"GDB already exists.\")\n",
    "# else:\n",
    "#     arc.CreateFileGDB_management(nGDB, outGDB)\n",
    "#     print(f'Created File GeoDatabase at {dsA}')\n",
    "\n",
    "# time.sleep(5)\n",
    "if arcpy.Exists(f'{outGDB}'):\n",
    "    print(f'{outGDB.name} already exists')\n",
    "else:\n",
    "    arcpy.CreateFeatureDataset_management(f'{outGDB.parent}', f'{outGDB.name}', sr)\n",
    "    print(f'{outGDB.name} Dataset has been created')"
   ],
   "outputs": [],
   "metadata": {}
  },
  {
   "cell_type": "code",
   "execution_count": null,
   "source": [
    "home = Path.home()\n",
    "gis = home / 'GIS' / 'Processing'\n",
    "\n",
    "# flc = FeatureLayerCollection('https://tigerweb.geo.census.gov/arcgis/rest/services/TIGERweb/Tracts_Blocks/MapServer').layers\n",
    "# a = flc[10].properties\n",
    "# .description.split(',')[-1]\n",
    "\n",
    "blocks_url = 'https://tigerweb.geo.census.gov/arcgis/rest/services/TIGERweb/Tracts_Blocks/MapServer/2/query?'\n",
    "\n",
    "blocks_params = {\n",
    "    'where' : 'STATE = 10 and COUNTY = 001',\n",
    "    'outFields' : '*',\n",
    "    'f' : 'GeoJSON'\n",
    "}\n",
    "\n",
    "blocks = requests.get(blocks_url, blocks_params)\n",
    "\n",
    "gj = blocks.json()\n",
    "\n",
    "arcpy.JSONToFeatures_conversion(gj, f'{gis / \"census2\"}', 'POLYGON')\n",
    "\n",
    "\n",
    "expr = 'STATE = 10 AND COUNTY = 01'\n",
    "d = flc[0].query(where=expr, out_sr=4326, as_df=True)\n",
    "d.spatial.to_featureclass(location=f'{netDir / \"Census\"}', sanitized_columns=False)\n",
    "if '2020' in flc[0].properties.description.split(',')[-1]:\n",
    "    d = flc[0].query(where=expr, out_sr=4326)\n",
    "    d.save(f'{outGDB}', f'{flc[0].properties.name}')\n",
    "    print(f'Finishing Copying {flc[0].properties.name}')\n",
    "for f in flc:\n",
    "    c = f.properties.description.split(',')[-1]\n",
    "    if '2020' in c:\n",
    "        d = f.query(where=expr, out_sr=4326, as_df=True)\n",
    "        # d.save(f'{outGDB}', )\n",
    "        d.spatial.to_featureclass(location=f'{outGDB / outGDB.name}', sanitize_columns=False)\n",
    "        # d.save(f'{outGDB}', f'{f.properties.name}')\n",
    "        # arcpy.FeatureClassToFeatureClass_conversion(d, f'{outGDB}', f'{f.properties.name}')\n",
    "        print(f'Copied {f}')\n",
    "\n",
    "print(flc[2].properties.name)\n",
    "\n",
    "\n",
    "cbg_df = FeatureLayer(fl).query(out_sr= 4326, where=expr, out_fields='GEOID',as_df=True)\n",
    "\n",
    "cbg_df.sort_values(by='GEOID', inplace=True, ignore_index=True)"
   ],
   "outputs": [],
   "metadata": {}
  },
  {
   "cell_type": "markdown",
   "source": [
    "Export Kent County Census Blocks using Geopandas"
   ],
   "metadata": {}
  },
  {
   "cell_type": "code",
   "execution_count": null,
   "source": [
    "    blocks_url = 'https://tigerweb.geo.census.gov/arcgis/rest/services/TIGERweb/Tracts_Blocks/MapServer/2/query?'\n",
    "\n",
    "    blocks_params = {\n",
    "        'where' : 'STATE = 10 and COUNTY = 001',\n",
    "        'outFields' : '*',\n",
    "        'f' : 'GeoJSON'\n",
    "    }\n",
    "\n",
    "    blocks = requests.get(blocks_url, blocks_params)\n",
    "\n",
    "\n",
    "    cbg_gdf = gpd.read_file(blocks.text)\n",
    "\n",
    "\n",
    "\n",
    "    cbg_gdf.sort_values(by='GEOID', inplace=True, ignore_index=True)\n",
    "\n",
    "    home = Path.home()\n",
    "    gis = home / 'GIS' / 'Processing'\n",
    "    cbg_gdf.to_file(f'{gis / \"census.shp\"}')\n"
   ],
   "outputs": [],
   "metadata": {}
  }
 ]
}