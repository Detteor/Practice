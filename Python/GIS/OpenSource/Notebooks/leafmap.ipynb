{
 "cells": [
  {
   "cell_type": "code",
   "execution_count": 1,
   "source": [
    "import leafmap\n",
    "import ipysheet\n",
    "import ipyleaflet\n",
    "import numpy as np\n",
    "import bqplot.pyplot as plt\n",
    "import ipywidgets as widgets"
   ],
   "outputs": [],
   "metadata": {}
  },
  {
   "cell_type": "code",
   "execution_count": 2,
   "source": [
    "host = ipysheet.sheet(rows=2, columns=2)\n",
    "host"
   ],
   "outputs": [
    {
     "output_type": "display_data",
     "data": {
      "text/plain": [
       "Sheet(columns=2, layout=Layout(height='auto', width='auto'), rows=2)"
      ],
      "application/vnd.jupyter.widget-view+json": {
       "version_major": 2,
       "version_minor": 0,
       "model_id": "2016b15efe5e4895a4cf6be756d042c0"
      }
     },
     "metadata": {}
    }
   ],
   "metadata": {}
  },
  {
   "cell_type": "code",
   "execution_count": 3,
   "source": [
    "m = leafmap.Map(draw_control=False, measure_control=False)\n",
    "m.add_basemap('Esri.NatGeoWorldMap')"
   ],
   "outputs": [],
   "metadata": {}
  },
  {
   "cell_type": "code",
   "execution_count": 4,
   "source": [
    "map_cell = ipysheet.cell(0, 0, m, style={'min-width': '600px'})"
   ],
   "outputs": [],
   "metadata": {}
  },
  {
   "cell_type": "code",
   "execution_count": null,
   "source": [],
   "outputs": [],
   "metadata": {}
  }
 ],
 "metadata": {
  "orig_nbformat": 4,
  "language_info": {
   "name": "python",
   "version": "3.9.6",
   "mimetype": "text/x-python",
   "codemirror_mode": {
    "name": "ipython",
    "version": 3
   },
   "pygments_lexer": "ipython3",
   "nbconvert_exporter": "python",
   "file_extension": ".py"
  },
  "kernelspec": {
   "name": "python3",
   "display_name": "Python 3.9.6 64-bit ('GIS': conda)"
  },
  "interpreter": {
   "hash": "8da2f4d6f0604055e6c96df127fad594334df1f46f7cb9ad42d49464230c2758"
  }
 },
 "nbformat": 4,
 "nbformat_minor": 2
}