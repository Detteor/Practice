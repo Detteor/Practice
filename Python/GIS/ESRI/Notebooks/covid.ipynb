{
 "metadata": {
  "language_info": {
   "codemirror_mode": {
    "name": "ipython",
    "version": 3
   },
   "file_extension": ".py",
   "mimetype": "text/x-python",
   "name": "python",
   "nbconvert_exporter": "python",
   "pygments_lexer": "ipython3",
   "version": "3.7.10"
  },
  "orig_nbformat": 2,
  "kernelspec": {
   "name": "python3710jvsc74a57bd0a57cb7bca1abc867eae947b70fa3fa69ed703cffae8160be3ea1cc3a1cfe3e7e",
   "display_name": "Python 3.7.10 64-bit ('OSGIS': conda)"
  },
  "metadata": {
   "interpreter": {
    "hash": "a57cb7bca1abc867eae947b70fa3fa69ed703cffae8160be3ea1cc3a1cfe3e7e"
   }
  }
 },
 "nbformat": 4,
 "nbformat_minor": 2,
 "cells": [
  {
   "source": [
    "Kent County COVID cases and deaths with New York Times Data."
   ],
   "cell_type": "markdown",
   "metadata": {}
  },
  {
   "cell_type": "code",
   "execution_count": 1,
   "metadata": {},
   "outputs": [],
   "source": [
    "from pathlib import Path\n",
    "import csv\n",
    "import pandas as pd\n",
    "import numpy as np"
   ]
  },
  {
   "cell_type": "code",
   "execution_count": 5,
   "metadata": {},
   "outputs": [
    {
     "output_type": "execute_result",
     "data": {
      "text/plain": [
       "(23829, 5)"
      ]
     },
     "metadata": {},
     "execution_count": 5
    }
   ],
   "source": [
    "uPath = Path('/media/WDB/Backup/covid-19-data')\n",
    "state_csv = uPath / 'us-states.csv'\n",
    "al = pd.read_csv(state_csv)\n",
    "al.shape"
   ]
  },
  {
   "cell_type": "code",
   "execution_count": 6,
   "metadata": {},
   "outputs": [
    {
     "output_type": "execute_result",
     "data": {
      "text/plain": [
       "(475, 3)"
      ]
     },
     "metadata": {},
     "execution_count": 6
    }
   ],
   "source": [
    "us_csv = uPath / 'us.csv'\n",
    "la = pd.read_csv(us_csv)\n",
    "la.shape"
   ]
  },
  {
   "cell_type": "code",
   "execution_count": 13,
   "metadata": {},
   "outputs": [
    {
     "output_type": "execute_result",
     "data": {
      "text/plain": [
       "(1303517, 6)"
      ]
     },
     "metadata": {},
     "execution_count": 13
    }
   ],
   "source": [
    "count_csv = uPath / 'us-counties.csv'\n",
    "cl = pd.read_csv(count_csv)\n",
    "cl.shape"
   ]
  },
  {
   "cell_type": "code",
   "execution_count": 14,
   "metadata": {},
   "outputs": [
    {
     "output_type": "execute_result",
     "data": {
      "text/plain": [
       "               date county     state     fips  cases  deaths\n",
       "3850     2020-03-18   Kent  Delaware  10001.0      3     0.0\n",
       "4515     2020-03-19   Kent  Delaware  10001.0      4     0.0\n",
       "5294     2020-03-20   Kent  Delaware  10001.0      4     0.0\n",
       "6221     2020-03-21   Kent  Delaware  10001.0      5     0.0\n",
       "7257     2020-03-22   Kent  Delaware  10001.0      5     0.0\n",
       "...             ...    ...       ...      ...    ...     ...\n",
       "1287602  2021-05-05   Kent  Delaware  10001.0  17553   336.0\n",
       "1290848  2021-05-06   Kent  Delaware  10001.0  17578   336.0\n",
       "1294094  2021-05-07   Kent  Delaware  10001.0  17619   336.0\n",
       "1297340  2021-05-08   Kent  Delaware  10001.0  17655   338.0\n",
       "1300587  2021-05-09   Kent  Delaware  10001.0  17692   338.0\n",
       "\n",
       "[418 rows x 6 columns]"
      ],
      "text/html": "<div>\n<style scoped>\n    .dataframe tbody tr th:only-of-type {\n        vertical-align: middle;\n    }\n\n    .dataframe tbody tr th {\n        vertical-align: top;\n    }\n\n    .dataframe thead th {\n        text-align: right;\n    }\n</style>\n<table border=\"1\" class=\"dataframe\">\n  <thead>\n    <tr style=\"text-align: right;\">\n      <th></th>\n      <th>date</th>\n      <th>county</th>\n      <th>state</th>\n      <th>fips</th>\n      <th>cases</th>\n      <th>deaths</th>\n    </tr>\n  </thead>\n  <tbody>\n    <tr>\n      <th>3850</th>\n      <td>2020-03-18</td>\n      <td>Kent</td>\n      <td>Delaware</td>\n      <td>10001.0</td>\n      <td>3</td>\n      <td>0.0</td>\n    </tr>\n    <tr>\n      <th>4515</th>\n      <td>2020-03-19</td>\n      <td>Kent</td>\n      <td>Delaware</td>\n      <td>10001.0</td>\n      <td>4</td>\n      <td>0.0</td>\n    </tr>\n    <tr>\n      <th>5294</th>\n      <td>2020-03-20</td>\n      <td>Kent</td>\n      <td>Delaware</td>\n      <td>10001.0</td>\n      <td>4</td>\n      <td>0.0</td>\n    </tr>\n    <tr>\n      <th>6221</th>\n      <td>2020-03-21</td>\n      <td>Kent</td>\n      <td>Delaware</td>\n      <td>10001.0</td>\n      <td>5</td>\n      <td>0.0</td>\n    </tr>\n    <tr>\n      <th>7257</th>\n      <td>2020-03-22</td>\n      <td>Kent</td>\n      <td>Delaware</td>\n      <td>10001.0</td>\n      <td>5</td>\n      <td>0.0</td>\n    </tr>\n    <tr>\n      <th>...</th>\n      <td>...</td>\n      <td>...</td>\n      <td>...</td>\n      <td>...</td>\n      <td>...</td>\n      <td>...</td>\n    </tr>\n    <tr>\n      <th>1287602</th>\n      <td>2021-05-05</td>\n      <td>Kent</td>\n      <td>Delaware</td>\n      <td>10001.0</td>\n      <td>17553</td>\n      <td>336.0</td>\n    </tr>\n    <tr>\n      <th>1290848</th>\n      <td>2021-05-06</td>\n      <td>Kent</td>\n      <td>Delaware</td>\n      <td>10001.0</td>\n      <td>17578</td>\n      <td>336.0</td>\n    </tr>\n    <tr>\n      <th>1294094</th>\n      <td>2021-05-07</td>\n      <td>Kent</td>\n      <td>Delaware</td>\n      <td>10001.0</td>\n      <td>17619</td>\n      <td>336.0</td>\n    </tr>\n    <tr>\n      <th>1297340</th>\n      <td>2021-05-08</td>\n      <td>Kent</td>\n      <td>Delaware</td>\n      <td>10001.0</td>\n      <td>17655</td>\n      <td>338.0</td>\n    </tr>\n    <tr>\n      <th>1300587</th>\n      <td>2021-05-09</td>\n      <td>Kent</td>\n      <td>Delaware</td>\n      <td>10001.0</td>\n      <td>17692</td>\n      <td>338.0</td>\n    </tr>\n  </tbody>\n</table>\n<p>418 rows × 6 columns</p>\n</div>"
     },
     "metadata": {},
     "execution_count": 14
    }
   ],
   "source": [
    "cl.loc[(cl.state == 'Delaware') & (cl.county.str.contains('Kent', na=False))]"
   ]
  },
  {
   "source": [
    "Kent County COVID cases and deaths with Delaware Department of Health Data."
   ],
   "cell_type": "markdown",
   "metadata": {}
  },
  {
   "cell_type": "code",
   "execution_count": 18,
   "metadata": {},
   "outputs": [
    {
     "output_type": "execute_result",
     "data": {
      "text/plain": [
       "(87245, 10)"
      ]
     },
     "metadata": {},
     "execution_count": 18
    }
   ],
   "source": [
    "dhs_url = 'https://myhealthycommunity.dhss.delaware.gov/locations/state/download_covid_19_data'\n",
    "outPath = Path('/media/WDB/Backup/Projects')\n",
    "outDir = outPath / 'KC_Covid'\n",
    "ll = pd.read_csv(dhs_url)\n",
    "ll.shape\n"
   ]
  },
  {
   "cell_type": "code",
   "execution_count": 21,
   "metadata": {},
   "outputs": [
    {
     "output_type": "execute_result",
     "data": {
      "text/plain": [
       "Index(['Location', 'County', 'Statistic', 'Value', 'Year', 'Month', 'Day',\n",
       "       'Date used', 'Unit', 'Age adjusted'],\n",
       "      dtype='object')"
      ]
     },
     "metadata": {},
     "execution_count": 21
    }
   ],
   "source": [
    "ll.columns"
   ]
  },
  {
   "cell_type": "code",
   "execution_count": 22,
   "metadata": {},
   "outputs": [
    {
     "output_type": "execute_result",
     "data": {
      "text/plain": [
       "array(['Vaccine Doses Administered (Including to out of State Residents)',\n",
       "       'Persons Fully Vaccinated',\n",
       "       'Cumulative People with At Least One Dose (Age: 0-4)',\n",
       "       'Cumulative People with At Least One Dose (Age: 16+)',\n",
       "       'Cumulative People with At Least One Dose (Age: 16-17)',\n",
       "       'Cumulative People with At Least One Dose (Age: 18-34)',\n",
       "       'Cumulative People with At Least One Dose (Age: 35-49)',\n",
       "       'Cumulative People with At Least One Dose (Age: 50-64)',\n",
       "       'Cumulative People with At Least One Dose (Age: 5-15)',\n",
       "       'Cumulative People with At Least One Dose (Age: 5-17)',\n",
       "       'Cumulative People with At Least One Dose (Age: 65+)',\n",
       "       'Cumulative People with At Least One Dose (Age: Unknown)',\n",
       "       'Cumulative People with At Least One Dose',\n",
       "       'Cumulative People with At Least One Dose (Ethnicity: Hispanic)',\n",
       "       'Cumulative People with At Least One Dose (Ethnicity: Data not reported)',\n",
       "       'Cumulative People with At Least One Dose (Ethnicity: Non-Hispanic)',\n",
       "       'Cumulative People with At Least One Dose (Ethnicity: Patient declined to disclose)',\n",
       "       'Cumulative People with At Least One Dose (Race: Asian)',\n",
       "       'Cumulative People with At Least One Dose (Race: Black)',\n",
       "       'Cumulative People with At Least One Dose (Race: Data not reported)',\n",
       "       'Cumulative People with At Least One Dose (Race: Multiple)',\n",
       "       'Cumulative People with At Least One Dose (Race: Other)',\n",
       "       'Cumulative People with At Least One Dose (Race: Patient declined to disclose)',\n",
       "       'Cumulative People with At Least One Dose (Race: White)',\n",
       "       'Cumulative People with At Least One Dose (Sex: Female)',\n",
       "       'Cumulative People with At Least One Dose (Sex: Male)',\n",
       "       'Cumulative People with At Least One Dose (Sex: Unknown)',\n",
       "       'Cumulative Total People with At Least One Dose',\n",
       "       'Cumulative Completed One-Dose Vaccinations',\n",
       "       'Cumulative Completed Two-Dose Vaccinations',\n",
       "       'Cumulative Completed Vaccinations (Age: 0-4)',\n",
       "       'Cumulative Completed Vaccinations (Age: 16+)',\n",
       "       'Cumulative Completed Vaccinations (Age: 16-17)',\n",
       "       'Cumulative Completed Vaccinations (Age: 18-34)',\n",
       "       'Cumulative Completed Vaccinations (Age: 35-49)',\n",
       "       'Cumulative Completed Vaccinations (Age: 50-64)',\n",
       "       'Cumulative Completed Vaccinations (Age: 5-15)',\n",
       "       'Cumulative Completed Vaccinations (Age: 5-17)',\n",
       "       'Cumulative Completed Vaccinations (Age: 65+)',\n",
       "       'Cumulative Completed Vaccinations (Age: Unknown)',\n",
       "       'Cumulative Completed Vaccinations',\n",
       "       'Cumulative Completed Vaccinations (Ethnicity: Hispanic)',\n",
       "       'Cumulative Completed Vaccinations (Ethnicity: Data not reported)',\n",
       "       'Cumulative Completed Vaccinations (Ethnicity: Non-Hispanic)',\n",
       "       'Cumulative Completed Vaccinations (Ethnicity: Patient declined to disclose)',\n",
       "       'Cumulative Completed Vaccinations (Race: Asian)',\n",
       "       'Cumulative Completed Vaccinations (Race: Black)',\n",
       "       'Cumulative Completed Vaccinations (Race: Data not reported)',\n",
       "       'Cumulative Completed Vaccinations (Race: Multiple)',\n",
       "       'Cumulative Completed Vaccinations (Race: Other)',\n",
       "       'Cumulative Completed Vaccinations (Race: Patient declined to disclose)',\n",
       "       'Cumulative Completed Vaccinations (Race: White)',\n",
       "       'Cumulative Completed Vaccinations (Sex: Female)',\n",
       "       'Cumulative Completed Vaccinations (Sex: Male)',\n",
       "       'Cumulative Completed Vaccinations (Sex: Unknown)',\n",
       "       'Cumulative Completed Total Vaccinations',\n",
       "       'Cumulative Persons Partially Vaccinated',\n",
       "       'Vaccine Doses Administered (Age: 0-4)',\n",
       "       'Vaccine Doses Administered (Age: 16-17)',\n",
       "       'Vaccine Doses Administered (Age: 18-34)',\n",
       "       'Vaccine Doses Administered (Age: 35-49)',\n",
       "       'Vaccine Doses Administered (Age: 50-64)',\n",
       "       'Vaccine Doses Administered (Age: 5-15)',\n",
       "       'Vaccine Doses Administered (Age: 5-17)',\n",
       "       'Vaccine Doses Administered (Age: 65+)',\n",
       "       'Vaccine Doses Administered (Age: Unknown)',\n",
       "       'Vaccine Doses Administered (Ethnicity: Hispanic)',\n",
       "       'Vaccine Doses Administered (Ethnicity: Data not reported)',\n",
       "       'Vaccine Doses Administered (Ethnicity: Non-Hispanic)',\n",
       "       'Vaccine Doses Administered (Ethnicity: Patient declined to disclose)',\n",
       "       'Vaccine Doses Administered (Race: Asian)',\n",
       "       'Vaccine Doses Administered (Race: Black)',\n",
       "       'Vaccine Doses Administered (Race: Data not reported)',\n",
       "       'Vaccine Doses Administered (Race: Multiple)',\n",
       "       'Vaccine Doses Administered (Race: Other Race)',\n",
       "       'Vaccine Doses Administered (Race: Patient declined to disclose)',\n",
       "       'Vaccine Doses Administered (Race: White)',\n",
       "       'Vaccine Doses Administered (Sex: Female)',\n",
       "       'Vaccine Doses Administered (Sex: Male)',\n",
       "       'Vaccine Doses Administered (Sex: Unknown)', 'New Positive Cases',\n",
       "       'Persons Partially Vaccinated', 'Deaths (Age: 0-4)',\n",
       "       'Deaths (Age: 18-34)', 'Deaths (Age: 35-49)',\n",
       "       'Deaths (Age: 50-64)', 'Deaths (Age: 5-17)', 'Deaths (Age: 65+)',\n",
       "       'Deaths (Age: Unknown)', 'Confirmed Deaths', 'Deaths',\n",
       "       'Probable Deaths',\n",
       "       'Deaths (Race/Ethnicity: Asian/Pacific Islander)',\n",
       "       'Deaths (Race/Ethnicity: Non-Hispanic Black)',\n",
       "       'Deaths (Race/Ethnicity: Hispanic/Latino)',\n",
       "       'Deaths (Race/Ethnicity: Another/Multiple)',\n",
       "       'Deaths (Race/Ethnicity: Unknown)',\n",
       "       'Deaths (Race/Ethnicity: Non-Hispanic White)',\n",
       "       'Deaths (Sex: Female)', 'Deaths (Sex: Male)',\n",
       "       'Deaths (Sex: Unknown)', 'Persons Tested Negative',\n",
       "       'New Positive Tests', 'Positive Tests',\n",
       "       'Cumulative Number of Positive Cases (Age: 0-4)',\n",
       "       'Cumulative Number of Positive Cases (Age: 18-34)',\n",
       "       'Cumulative Number of Positive Cases (Age: 35-49)',\n",
       "       'Cumulative Number of Positive Cases (Age: 50-64)',\n",
       "       'Cumulative Number of Positive Cases (Age: 5-17)',\n",
       "       'Cumulative Number of Positive Cases (Age: 65+)',\n",
       "       'Cumulative Number of Positive Cases (Age: Unknown)',\n",
       "       'Cumulative Number of Confirmed Positive Cases',\n",
       "       'Confirmed Positive Cases', 'Cumulative Number of Positive Cases',\n",
       "       'Cumulative Number of Probable Positive Cases',\n",
       "       'Probable Positive Cases',\n",
       "       'Cumulative Number of Positive Cases (Race/Ethnicity: Asian/Pacific Islander)',\n",
       "       'Cumulative Number of Positive Cases (Race/Ethnicity: Non-Hispanic Black)',\n",
       "       'Positive Cases (Race/Ethnicity: Non-Hispanic Black)',\n",
       "       'Cumulative Number of Positive Cases (Race/Ethnicity: Hispanic/Latino)',\n",
       "       'Positive Cases (Race/Ethnicity: Hispanic/Latino)',\n",
       "       'Cumulative Number of Positive Cases (Race/Ethnicity: Another/Multiple)',\n",
       "       'Cumulative Number of Positive Cases (Race/Ethnicity: Unknown)',\n",
       "       'Cumulative Number of Positive Cases (Race/Ethnicity: Non-Hispanic White)',\n",
       "       'Positive Cases (Race/Ethnicity: Non-Hispanic White)',\n",
       "       'Positive Cases',\n",
       "       'Cumulative Number of Positive Cases (Sex: Female)',\n",
       "       'Positive Cases (Sex: Female)',\n",
       "       'Cumulative Number of Positive Cases (Sex: Male)',\n",
       "       'Positive Cases (Sex: Male)',\n",
       "       'Cumulative Number of Positive Cases (Sex: Unknown)',\n",
       "       'Total Persons Tested (Age: 0-4)',\n",
       "       'Total Persons Tested (Age: 18-34)',\n",
       "       'Total Persons Tested (Age: 35-49)',\n",
       "       'Total Persons Tested (Age: 50-64)',\n",
       "       'Total Persons Tested (Age: 5-17)',\n",
       "       'Total Persons Tested (Age: 65+)',\n",
       "       'Total Persons Tested (Age: Unknown)', 'Total Persons Tested',\n",
       "       'New Tests',\n",
       "       'Total Persons Tested (Race/Ethnicity: Asian/Pacific Islander)',\n",
       "       'Total Persons Tested (Race/Ethnicity: Non-Hispanic Black)',\n",
       "       'Total Persons Tested (Race/Ethnicity: Hispanic/Latino)',\n",
       "       'Total Persons Tested (Race/Ethnicity: Another/Multiple)',\n",
       "       'Total Persons Tested (Race/Ethnicity: Unknown)',\n",
       "       'Total Persons Tested (Race/Ethnicity: Non-Hispanic White)',\n",
       "       'Total Persons Tested (Sex: Female)',\n",
       "       'Total Persons Tested (Sex: Male)',\n",
       "       'Total Persons Tested (Sex: Unknown)', 'Total Tests',\n",
       "       'Vaccine Doses Administered', 'Vaccinations'], dtype=object)"
      ]
     },
     "metadata": {},
     "execution_count": 22
    }
   ],
   "source": [
    "ll.Statistic.unique()"
   ]
  }
 ]
}